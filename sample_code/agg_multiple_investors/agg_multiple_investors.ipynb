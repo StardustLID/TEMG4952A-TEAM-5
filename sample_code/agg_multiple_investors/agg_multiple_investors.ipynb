{
 "metadata": {
  "language_info": {
   "codemirror_mode": {
    "name": "ipython",
    "version": 3
   },
   "file_extension": ".py",
   "mimetype": "text/x-python",
   "name": "python",
   "nbconvert_exporter": "python",
   "pygments_lexer": "ipython3",
   "version": "3.8.3-final"
  },
  "orig_nbformat": 2,
  "kernelspec": {
   "name": "python3",
   "display_name": "Python 3",
   "language": "python"
  }
 },
 "nbformat": 4,
 "nbformat_minor": 2,
 "cells": [
  {
   "cell_type": "code",
   "execution_count": 1,
   "metadata": {},
   "outputs": [],
   "source": [
    "# import library\n",
    "import pandas as pd\n",
    "import numpy as np"
   ]
  },
  {
   "cell_type": "code",
   "execution_count": 2,
   "metadata": {},
   "outputs": [],
   "source": [
    "# read the CSV\n",
    "df = pd.read_csv(\"agg_multiple_investors.csv\")\n",
    "# change the cols to keep\n",
    "keep_col = ['funding_round_uuid','investor_uuid','partner_uuid']\n",
    "df = df[keep_col]"
   ]
  },
  {
   "cell_type": "code",
   "execution_count": 3,
   "metadata": {},
   "outputs": [
    {
     "output_type": "execute_result",
     "data": {
      "text/plain": [
       "  funding_round_uuid investor_uuid partner_uuid           investor_list\n",
       "0               abcd         betty     stardust        [stardust, ball]\n",
       "1               abcd         betty         ball        [stardust, ball]\n",
       "2               efgh       chiming        anson  [anson, boris, calvin]\n",
       "3               efgh       chiming        boris  [anson, boris, calvin]\n",
       "4               efgh       chiming       calvin  [anson, boris, calvin]"
      ],
      "text/html": "<div>\n<style scoped>\n    .dataframe tbody tr th:only-of-type {\n        vertical-align: middle;\n    }\n\n    .dataframe tbody tr th {\n        vertical-align: top;\n    }\n\n    .dataframe thead th {\n        text-align: right;\n    }\n</style>\n<table border=\"1\" class=\"dataframe\">\n  <thead>\n    <tr style=\"text-align: right;\">\n      <th></th>\n      <th>funding_round_uuid</th>\n      <th>investor_uuid</th>\n      <th>partner_uuid</th>\n      <th>investor_list</th>\n    </tr>\n  </thead>\n  <tbody>\n    <tr>\n      <th>0</th>\n      <td>abcd</td>\n      <td>betty</td>\n      <td>stardust</td>\n      <td>[stardust, ball]</td>\n    </tr>\n    <tr>\n      <th>1</th>\n      <td>abcd</td>\n      <td>betty</td>\n      <td>ball</td>\n      <td>[stardust, ball]</td>\n    </tr>\n    <tr>\n      <th>2</th>\n      <td>efgh</td>\n      <td>chiming</td>\n      <td>anson</td>\n      <td>[anson, boris, calvin]</td>\n    </tr>\n    <tr>\n      <th>3</th>\n      <td>efgh</td>\n      <td>chiming</td>\n      <td>boris</td>\n      <td>[anson, boris, calvin]</td>\n    </tr>\n    <tr>\n      <th>4</th>\n      <td>efgh</td>\n      <td>chiming</td>\n      <td>calvin</td>\n      <td>[anson, boris, calvin]</td>\n    </tr>\n  </tbody>\n</table>\n</div>"
     },
     "metadata": {},
     "execution_count": 3
    }
   ],
   "source": [
    "df = df.merge(df.groupby('funding_round_uuid').agg(investor_list=('partner_uuid',list)).reset_index())\n",
    "df"
   ]
  },
  {
   "cell_type": "code",
   "execution_count": 4,
   "metadata": {},
   "outputs": [
    {
     "output_type": "execute_result",
     "data": {
      "text/plain": [
       "  funding_round_uuid investor_uuid partner_uuid  \\\n",
       "0               abcd         betty     stardust   \n",
       "1               abcd         betty         ball   \n",
       "2               efgh       chiming        anson   \n",
       "3               efgh       chiming        boris   \n",
       "4               efgh       chiming       calvin   \n",
       "\n",
       "                    investor_list  \n",
       "0         [betty, stardust, ball]  \n",
       "1         [betty, stardust, ball]  \n",
       "2  [chimin, anson, boris, calvin]  \n",
       "3  [chimin, anson, boris, calvin]  \n",
       "4  [chimin, anson, boris, calvin]  "
      ],
      "text/html": "<div>\n<style scoped>\n    .dataframe tbody tr th:only-of-type {\n        vertical-align: middle;\n    }\n\n    .dataframe tbody tr th {\n        vertical-align: top;\n    }\n\n    .dataframe thead th {\n        text-align: right;\n    }\n</style>\n<table border=\"1\" class=\"dataframe\">\n  <thead>\n    <tr style=\"text-align: right;\">\n      <th></th>\n      <th>funding_round_uuid</th>\n      <th>investor_uuid</th>\n      <th>partner_uuid</th>\n      <th>investor_list</th>\n    </tr>\n  </thead>\n  <tbody>\n    <tr>\n      <th>0</th>\n      <td>abcd</td>\n      <td>betty</td>\n      <td>stardust</td>\n      <td>[betty, stardust, ball]</td>\n    </tr>\n    <tr>\n      <th>1</th>\n      <td>abcd</td>\n      <td>betty</td>\n      <td>ball</td>\n      <td>[betty, stardust, ball]</td>\n    </tr>\n    <tr>\n      <th>2</th>\n      <td>efgh</td>\n      <td>chiming</td>\n      <td>anson</td>\n      <td>[chimin, anson, boris, calvin]</td>\n    </tr>\n    <tr>\n      <th>3</th>\n      <td>efgh</td>\n      <td>chiming</td>\n      <td>boris</td>\n      <td>[chimin, anson, boris, calvin]</td>\n    </tr>\n    <tr>\n      <th>4</th>\n      <td>efgh</td>\n      <td>chiming</td>\n      <td>calvin</td>\n      <td>[chimin, anson, boris, calvin]</td>\n    </tr>\n  </tbody>\n</table>\n</div>"
     },
     "metadata": {},
     "execution_count": 4
    }
   ],
   "source": [
    "for index, row in df.iterrows():\n",
    "    row[df.columns.get_loc('investor_list')] = np.insert(row[df.columns.get_loc('investor_list')], 0, row[df.columns.get_loc('investor_uuid')], axis=0)\n",
    "df"
   ]
  },
  {
   "cell_type": "code",
   "execution_count": 5,
   "metadata": {},
   "outputs": [
    {
     "output_type": "execute_result",
     "data": {
      "text/plain": [
       "  funding_round_uuid                   investor_list\n",
       "0               abcd         [betty, stardust, ball]\n",
       "1               abcd         [betty, stardust, ball]\n",
       "2               efgh  [chimin, anson, boris, calvin]\n",
       "3               efgh  [chimin, anson, boris, calvin]\n",
       "4               efgh  [chimin, anson, boris, calvin]"
      ],
      "text/html": "<div>\n<style scoped>\n    .dataframe tbody tr th:only-of-type {\n        vertical-align: middle;\n    }\n\n    .dataframe tbody tr th {\n        vertical-align: top;\n    }\n\n    .dataframe thead th {\n        text-align: right;\n    }\n</style>\n<table border=\"1\" class=\"dataframe\">\n  <thead>\n    <tr style=\"text-align: right;\">\n      <th></th>\n      <th>funding_round_uuid</th>\n      <th>investor_list</th>\n    </tr>\n  </thead>\n  <tbody>\n    <tr>\n      <th>0</th>\n      <td>abcd</td>\n      <td>[betty, stardust, ball]</td>\n    </tr>\n    <tr>\n      <th>1</th>\n      <td>abcd</td>\n      <td>[betty, stardust, ball]</td>\n    </tr>\n    <tr>\n      <th>2</th>\n      <td>efgh</td>\n      <td>[chimin, anson, boris, calvin]</td>\n    </tr>\n    <tr>\n      <th>3</th>\n      <td>efgh</td>\n      <td>[chimin, anson, boris, calvin]</td>\n    </tr>\n    <tr>\n      <th>4</th>\n      <td>efgh</td>\n      <td>[chimin, anson, boris, calvin]</td>\n    </tr>\n  </tbody>\n</table>\n</div>"
     },
     "metadata": {},
     "execution_count": 5
    }
   ],
   "source": [
    "df.drop(labels=['investor_uuid', 'partner_uuid'], axis=1, inplace=True)\n",
    "df"
   ]
  },
  {
   "cell_type": "code",
   "execution_count": 6,
   "metadata": {},
   "outputs": [
    {
     "output_type": "execute_result",
     "data": {
      "text/plain": [
       "  funding_round_uuid                   investor_list\n",
       "0               abcd         [betty, stardust, ball]\n",
       "2               efgh  [chimin, anson, boris, calvin]"
      ],
      "text/html": "<div>\n<style scoped>\n    .dataframe tbody tr th:only-of-type {\n        vertical-align: middle;\n    }\n\n    .dataframe tbody tr th {\n        vertical-align: top;\n    }\n\n    .dataframe thead th {\n        text-align: right;\n    }\n</style>\n<table border=\"1\" class=\"dataframe\">\n  <thead>\n    <tr style=\"text-align: right;\">\n      <th></th>\n      <th>funding_round_uuid</th>\n      <th>investor_list</th>\n    </tr>\n  </thead>\n  <tbody>\n    <tr>\n      <th>0</th>\n      <td>abcd</td>\n      <td>[betty, stardust, ball]</td>\n    </tr>\n    <tr>\n      <th>2</th>\n      <td>efgh</td>\n      <td>[chimin, anson, boris, calvin]</td>\n    </tr>\n  </tbody>\n</table>\n</div>"
     },
     "metadata": {},
     "execution_count": 6
    }
   ],
   "source": [
    "df.drop_duplicates(subset='funding_round_uuid', inplace=True)\n",
    "df"
   ]
  },
  {
   "cell_type": "code",
   "execution_count": 7,
   "metadata": {},
   "outputs": [
    {
     "output_type": "execute_result",
     "data": {
      "text/plain": [
       "  funding_round_uuid                   investor_list\n",
       "0               abcd         [betty, stardust, ball]\n",
       "1               efgh  [chimin, anson, boris, calvin]"
      ],
      "text/html": "<div>\n<style scoped>\n    .dataframe tbody tr th:only-of-type {\n        vertical-align: middle;\n    }\n\n    .dataframe tbody tr th {\n        vertical-align: top;\n    }\n\n    .dataframe thead th {\n        text-align: right;\n    }\n</style>\n<table border=\"1\" class=\"dataframe\">\n  <thead>\n    <tr style=\"text-align: right;\">\n      <th></th>\n      <th>funding_round_uuid</th>\n      <th>investor_list</th>\n    </tr>\n  </thead>\n  <tbody>\n    <tr>\n      <th>0</th>\n      <td>abcd</td>\n      <td>[betty, stardust, ball]</td>\n    </tr>\n    <tr>\n      <th>1</th>\n      <td>efgh</td>\n      <td>[chimin, anson, boris, calvin]</td>\n    </tr>\n  </tbody>\n</table>\n</div>"
     },
     "metadata": {},
     "execution_count": 7
    }
   ],
   "source": [
    "df.reset_index(inplace=True)\n",
    "df.drop(axis=1, labels='index', inplace=True)\n",
    "df"
   ]
  }
 ]
}