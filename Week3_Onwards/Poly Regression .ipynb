{
 "cells": [
  {
   "cell_type": "code",
   "execution_count": 1,
   "metadata": {},
   "outputs": [],
   "source": [
    "import pandas as pd\n",
    "from sklearn.model_selection import train_test_split   \n",
    "import matplotlib.pyplot as plt\n",
    "import numpy as np\n",
    "\n",
    "# Importing Linear Regression\n",
    "from sklearn.linear_model import LinearRegression\n",
    "# importing libraries for polynomial transform\n",
    "from sklearn.preprocessing import PolynomialFeatures\n",
    "# for creating pipeline\n",
    "from sklearn.pipeline import Pipeline"
   ]
  },
  {
   "cell_type": "markdown",
   "metadata": {},
   "source": [
    "# Preparing Data"
   ]
  },
  {
   "cell_type": "code",
   "execution_count": 2,
   "metadata": {},
   "outputs": [
    {
     "name": "stdout",
     "output_type": "stream",
     "text": [
      "<class 'pandas.core.frame.DataFrame'>\n",
      "RangeIndex: 37198 entries, 0 to 37197\n",
      "Data columns (total 132 columns):\n",
      " #   Column                            Non-Null Count  Dtype  \n",
      "---  ------                            --------------  -----  \n",
      " 0   company_uuid                      37198 non-null  object \n",
      " 1   country_code                      33609 non-null  object \n",
      " 2   region                            33609 non-null  object \n",
      " 3   city                              33609 non-null  object \n",
      " 4   operating                         37198 non-null  int64  \n",
      " 5   closed                            37198 non-null  int64  \n",
      " 6   success                           37198 non-null  int64  \n",
      " 7   success_acquired                  37198 non-null  int64  \n",
      " 8   success_ipo                       37198 non-null  int64  \n",
      " 9   num_funding_rounds                12036 non-null  float64\n",
      " 10  total_funding_usd                 9093 non-null   float64\n",
      " 11  founded_on                        37198 non-null  float64\n",
      " 12  last_funding_on                   12032 non-null  object \n",
      " 13  closed_on                         591 non-null    object \n",
      " 14  employee_count                    37198 non-null  object \n",
      " 15  primary_role_company              37198 non-null  int64  \n",
      " 16  primary_role_school               37198 non-null  int64  \n",
      " 17  primary_role_investor             37198 non-null  int64  \n",
      " 18  num_exits                         37198 non-null  float64\n",
      " 19  Financial Services                37198 non-null  int64  \n",
      " 20  FinTech                           37198 non-null  int64  \n",
      " 21  Finance                           37198 non-null  int64  \n",
      " 22  Blockchain                        37198 non-null  int64  \n",
      " 23  Information Technology            37198 non-null  int64  \n",
      " 24  Software                          37198 non-null  int64  \n",
      " 25  Payments                          37198 non-null  int64  \n",
      " 26  Cryptocurrency                    37198 non-null  int64  \n",
      " 27  Venture Capital                   37198 non-null  int64  \n",
      " 28  Internet                          37198 non-null  int64  \n",
      " 29  Banking                           37198 non-null  int64  \n",
      " 30  Consulting                        37198 non-null  int64  \n",
      " 31  Mobile Payments                   37198 non-null  int64  \n",
      " 32  E-Commerce                        37198 non-null  int64  \n",
      " 33  Insurance                         37198 non-null  int64  \n",
      " 34  Bitcoin                           37198 non-null  int64  \n",
      " 35  Artificial Intelligence           37198 non-null  int64  \n",
      " 36  Mobile                            37198 non-null  int64  \n",
      " 37  Crowdfunding                      37198 non-null  int64  \n",
      " 38  SaaS                              37198 non-null  int64  \n",
      " 39  Real Estate                       37198 non-null  int64  \n",
      " 40  Apps                              37198 non-null  int64  \n",
      " 41  Personal Finance                  37198 non-null  int64  \n",
      " 42  Accounting                        37198 non-null  int64  \n",
      " 43  Mobile Apps                       37198 non-null  int64  \n",
      " 44  Asset Management                  37198 non-null  int64  \n",
      " 45  Marketplace                       37198 non-null  int64  \n",
      " 46  Lending                           37198 non-null  int64  \n",
      " 47  Big Data                          37198 non-null  int64  \n",
      " 48  Machine Learning                  37198 non-null  int64  \n",
      " 49  fund_rd_investment_type           12032 non-null  object \n",
      " 50  fund_rd_announced_on              12032 non-null  object \n",
      " 51  fund_rd_raised_amount_usd         8134 non-null   float64\n",
      " 52  fund_rd_post_money_valuation_usd  1029 non-null   float64\n",
      " 53  fund_rd_investor_count            37198 non-null  float64\n",
      " 54  investment_count                  37198 non-null  float64\n",
      " 55  any_partner                       37198 non-null  float64\n",
      " 56  any_top_partner                   37198 non-null  float64\n",
      " 57  ipo_went_public_on                347 non-null    float64\n",
      " 58  ipo_share_price_usd               79 non-null     float64\n",
      " 59  ipo_valuation_price_usd           54 non-null     float64\n",
      " 60  ipo_money_raised_usd              90 non-null     float64\n",
      " 61  funds_raised_amount_usd           1177 non-null   float64\n",
      " 62  acquisitions_acquirer_uuid        1180 non-null   object \n",
      " 63  acquisitions_acquired_on          1180 non-null   float64\n",
      " 64  acquisitions_price_usd            37198 non-null  float64\n",
      " 65  parent_org_parent_uuid            818 non-null    object \n",
      " 66  event_count                       37198 non-null  float64\n",
      " 67  job_duration                      20479 non-null  float64\n",
      " 68  gender_male                       37198 non-null  float64\n",
      " 69  gender_female                     37198 non-null  float64\n",
      " 70  degree_type                       37198 non-null  float64\n",
      " 71  subject_Computer Science          37198 non-null  float64\n",
      " 72  subject_Economics                 37198 non-null  float64\n",
      " 73  subject_Finance                   37198 non-null  float64\n",
      " 74  subject_Electrical Engineering    37198 non-null  float64\n",
      " 75  subject_Business Administration   37198 non-null  float64\n",
      " 76  subject_Mechanical Engineering    37198 non-null  float64\n",
      " 77  subject_Marketing                 37198 non-null  float64\n",
      " 78  subject_Accounting                37198 non-null  float64\n",
      " 79  subject_Law                       37198 non-null  float64\n",
      " 80  subject_Business                  37198 non-null  float64\n",
      " 81  subject_Computer Engineering      37198 non-null  float64\n",
      " 82  subject_Physics                   37198 non-null  float64\n",
      " 83  subject_Political Science         37198 non-null  float64\n",
      " 84  subject_Management                37198 non-null  float64\n",
      " 85  subject_Engineering               37198 non-null  float64\n",
      " 86  subject_Psychology                37198 non-null  float64\n",
      " 87  subject_Mathematics               37198 non-null  float64\n",
      " 88  subject_Chemical Engineering      37198 non-null  float64\n",
      " 89  subject_Chemistry                 37198 non-null  float64\n",
      " 90  subject_History                   37198 non-null  float64\n",
      " 91  subject_Biology                   37198 non-null  float64\n",
      " 92  subject_International Business    37198 non-null  float64\n",
      " 93  subject_Information Technology    37198 non-null  float64\n",
      " 94  subject_Business Management       37198 non-null  float64\n",
      " 95  subject_English                   37198 non-null  float64\n",
      " 96  subject_Industrial Engineering    37198 non-null  float64\n",
      " 97  subject_Civil Engineering         37198 non-null  float64\n",
      " 98  subject_Biochemistry              37198 non-null  float64\n",
      " 99  subject_Medicine                  37198 non-null  float64\n",
      " 100 subject_Philosophy                37198 non-null  float64\n",
      " 101 continent                         23787 non-null  object \n",
      " 102 USA                               37198 non-null  int64  \n",
      " 103 GBR                               37198 non-null  int64  \n",
      " 104 CHN                               37198 non-null  int64  \n",
      " 105 IND                               37198 non-null  int64  \n",
      " 106 CAN                               37198 non-null  int64  \n",
      " 107 SGP                               37198 non-null  int64  \n",
      " 108 DEU                               37198 non-null  int64  \n",
      " 109 AUS                               37198 non-null  int64  \n",
      " 110 BRA                               37198 non-null  int64  \n",
      " 111 CHE                               37198 non-null  int64  \n",
      " 112 city_London                       37198 non-null  int64  \n",
      " 113 city_New_York                     37198 non-null  int64  \n",
      " 114 city_San_Francisco                37198 non-null  int64  \n",
      " 115 city_Singapore                    37198 non-null  int64  \n",
      " 116 city_Beijing                      37198 non-null  int64  \n",
      " 117 city_Toronto                      37198 non-null  int64  \n",
      " 118 city_Shanghai                     37198 non-null  int64  \n",
      " 119 city_Los_Angeles                  37198 non-null  int64  \n",
      " 120 city_Chicago                      37198 non-null  int64  \n",
      " 121 city_Shenzhen                     37198 non-null  int64  \n",
      " 122 has_acquisitions                  37198 non-null  int64  \n",
      " 123 has_ipo                           37198 non-null  int64  \n",
      " 124 time_in_year                      8335 non-null   float64\n",
      " 125 investment_delta                  3644 non-null   object \n",
      " 126 norm_amount_delta                 3644 non-null   object \n",
      " 127 momentum                          3644 non-null   object \n",
      " 128 ROI                               3644 non-null   float64\n",
      " 129 max_norm_amount_delta             3644 non-null   float64\n",
      " 130 mean_norm_amount_delta            3644 non-null   float64\n",
      " 131 roi_from_mean_momentum            3644 non-null   float64\n",
      "dtypes: float64(57), int64(60), object(15)\n",
      "memory usage: 37.5+ MB\n"
     ]
    }
   ],
   "source": [
    "#Read both CSV\n",
    "df=pd.read_csv(\"unifed_csv_without_duplicated_company.csv\")\n",
    "df.info(max_cols=1000)"
   ]
  },
  {
   "cell_type": "code",
   "execution_count": 3,
   "metadata": {
    "scrolled": true
   },
   "outputs": [
    {
     "name": "stdout",
     "output_type": "stream",
     "text": [
      "<class 'pandas.core.frame.DataFrame'>\n",
      "RangeIndex: 37198 entries, 0 to 37197\n",
      "Data columns (total 11 columns):\n",
      " #   Column                            Non-Null Count  Dtype  \n",
      "---  ------                            --------------  -----  \n",
      " 0   company_uuid                      37198 non-null  object \n",
      " 1   num_funding_rounds                37198 non-null  float64\n",
      " 2   total_funding_usd                 37198 non-null  float64\n",
      " 3   fund_rd_raised_amount_usd         8134 non-null   float64\n",
      " 4   fund_rd_post_money_valuation_usd  1029 non-null   float64\n",
      " 5   fund_rd_investor_count            37198 non-null  float64\n",
      " 6   investment_count                  37198 non-null  float64\n",
      " 7   acquisitions_price_usd            37198 non-null  float64\n",
      " 8   event_count                       37198 non-null  float64\n",
      " 9   degree_type                       37198 non-null  float64\n",
      " 10  mean_norm_amount_delta            37198 non-null  float64\n",
      "dtypes: float64(10), object(1)\n",
      "memory usage: 3.1+ MB\n"
     ]
    }
   ],
   "source": [
    "#Create dataframe for features\n",
    "features=df[[\"company_uuid\",\"num_funding_rounds\", \"total_funding_usd\",\"fund_rd_raised_amount_usd\",\"fund_rd_post_money_valuation_usd\",\"fund_rd_investor_count\", \"investment_count\",\"acquisitions_price_usd\",\"event_count\",\"degree_type\", \"mean_norm_amount_delta\" ]].copy()\n",
    "\n",
    "#Deal with null value in num_funding_rounds and ROI\n",
    "features[\"num_funding_rounds\"]=features[\"num_funding_rounds\"].fillna(0)\n",
    "features[\"mean_norm_amount_delta\"]=features[\"mean_norm_amount_delta\"].fillna(0)\n",
    "features[\"total_funding_usd\"]=features[\"total_funding_usd\"].fillna(0)\n",
    "features.info()\n"
   ]
  },
  {
   "cell_type": "markdown",
   "metadata": {},
   "source": [
    "# Plotting Num_funding_round"
   ]
  },
  {
   "cell_type": "code",
   "execution_count": 4,
   "metadata": {
    "scrolled": false
   },
   "outputs": [
    {
     "data": {
      "text/plain": [
       "[<matplotlib.lines.Line2D at 0x7f80cec4a150>,\n",
       " <matplotlib.lines.Line2D at 0x7f80cec9bb50>,\n",
       " <matplotlib.lines.Line2D at 0x7f80cec4a190>,\n",
       " <matplotlib.lines.Line2D at 0x7f80cec4a350>,\n",
       " <matplotlib.lines.Line2D at 0x7f80cec4a410>,\n",
       " <matplotlib.lines.Line2D at 0x7f80cec4a550>,\n",
       " <matplotlib.lines.Line2D at 0x7f80cec4a610>,\n",
       " <matplotlib.lines.Line2D at 0x7f80cec4a6d0>,\n",
       " <matplotlib.lines.Line2D at 0x7f80cec4a790>,\n",
       " <matplotlib.lines.Line2D at 0x7f80cec4a510>,\n",
       " <matplotlib.lines.Line2D at 0x7f80cede6410>,\n",
       " <matplotlib.lines.Line2D at 0x7f80cec4a910>,\n",
       " <matplotlib.lines.Line2D at 0x7f80cec4a9d0>,\n",
       " <matplotlib.lines.Line2D at 0x7f80cec4aa90>,\n",
       " <matplotlib.lines.Line2D at 0x7f80cec4ab50>,\n",
       " <matplotlib.lines.Line2D at 0x7f80cec4ac10>,\n",
       " <matplotlib.lines.Line2D at 0x7f80cec4acd0>,\n",
       " <matplotlib.lines.Line2D at 0x7f80cec4ad90>,\n",
       " <matplotlib.lines.Line2D at 0x7f80cec4ae50>,\n",
       " <matplotlib.lines.Line2D at 0x7f80cec4af10>,\n",
       " <matplotlib.lines.Line2D at 0x7f80cec4afd0>]"
      ]
     },
     "execution_count": 4,
     "metadata": {},
     "output_type": "execute_result"
    },
    {
     "data": {
      "image/png": "[encoded data removed]",
      "text/plain": [
       "<Figure size 432x288 with 1 Axes>"
      ]
     },
     "metadata": {
      "needs_background": "light"
     },
     "output_type": "display_data"
    }
   ],
   "source": [
    "# define independent variables/attirbutes/features\n",
    "#x = features.drop(columns=['mean_norm_amount_delta', \"company_uuid\"])\n",
    "x= features[[\"num_funding_rounds\"]]\n",
    "y = features[\"mean_norm_amount_delta\"]\n",
    "\n",
    "#Change degree of x to fit into the model\n",
    "\n",
    "pre_process= PolynomialFeatures(degree=20)\n",
    "\n",
    "x_poly= pre_process.fit_transform(x)\n",
    "x_poly\n",
    "\n",
    "# Training the model\n",
    "pr_model= LinearRegression()\n",
    "\n",
    "# Fit our preprocessed data to the polynomial regression model\n",
    "pr_model.fit(x_poly, y)\n",
    "# Store our predicted ROI values in the variable y_pred\n",
    "y_pred = pr_model.predict(x_poly)\n",
    "\n",
    "# Plot our model on our data\n",
    "plt.scatter(x, y, c = \"black\")\n",
    "plt.xlabel(\"num_funding_rounds\")\n",
    "plt.ylabel(\"ROI\")\n",
    "plt.xlim([0,3])\n",
    "plt.plot(x_poly, y_pred)"
   ]
  },
  {
   "cell_type": "code",
   "execution_count": 5,
   "metadata": {},
   "outputs": [
    {
     "data": {
      "text/plain": [
       "0.08550961272973436"
      ]
     },
     "execution_count": 5,
     "metadata": {},
     "output_type": "execute_result"
    }
   ],
   "source": [
    "from sklearn.metrics import mean_squared_error\n",
    "mean_squared_error(y, y_pred)"
   ]
  },
  {
   "cell_type": "markdown",
   "metadata": {},
   "source": [
    "# Plotting total_funding_usd"
   ]
  },
  {
   "cell_type": "code",
   "execution_count": 6,
   "metadata": {},
   "outputs": [
    {
     "data": {
      "text/plain": [
       "[<matplotlib.lines.Line2D at 0x7f80d696ded0>,\n",
       " <matplotlib.lines.Line2D at 0x7f80d6954790>,\n",
       " <matplotlib.lines.Line2D at 0x7f80d696dfd0>,\n",
       " <matplotlib.lines.Line2D at 0x7f80d6c9d0d0>,\n",
       " <matplotlib.lines.Line2D at 0x7f80d6c9d190>,\n",
       " <matplotlib.lines.Line2D at 0x7f80d6c9d2d0>,\n",
       " <matplotlib.lines.Line2D at 0x7f80d6c9d390>,\n",
       " <matplotlib.lines.Line2D at 0x7f80d6c9d450>,\n",
       " <matplotlib.lines.Line2D at 0x7f80d6c9d510>,\n",
       " <matplotlib.lines.Line2D at 0x7f80d6c9d290>,\n",
       " <matplotlib.lines.Line2D at 0x7f80d6949050>]"
      ]
     },
     "execution_count": 6,
     "metadata": {},
     "output_type": "execute_result"
    },
    {
     "data": {
      "image/png": "[encoded data removed]",
      "text/plain": [
       "<Figure size 432x288 with 1 Axes>"
      ]
     },
     "metadata": {
      "needs_background": "light"
     },
     "output_type": "display_data"
    }
   ],
   "source": [
    "# define independent variables/attirbutes/features\n",
    "#x = features.drop(columns=['mean_norm_amount_delta', \"company_uuid\"])\n",
    "x= features[[\"total_funding_usd\"]]\n",
    "y = features[\"mean_norm_amount_delta\"]\n",
    "\n",
    "#Change degree of x to fit into the model\n",
    "\n",
    "pre_process= PolynomialFeatures(degree=10)\n",
    "\n",
    "x_poly= pre_process.fit_transform(x)\n",
    "x_poly\n",
    "\n",
    "# Training the model\n",
    "pr_model= LinearRegression()\n",
    "\n",
    "# Fit our preprocessed data to the polynomial regression model\n",
    "pr_model.fit(x_poly, y)\n",
    "# Store our predicted ROI values in the variable y_pred\n",
    "y_pred = pr_model.predict(x_poly)\n",
    "\n",
    "# Plot our model on our data\n",
    "plt.scatter(x, y, c = \"black\")\n",
    "plt.xlabel(x.columns.values)\n",
    "plt.ylabel(\"ROI\")\n",
    "#plt.xlim([0,3])\n",
    "plt.plot(x_poly, y_pred)"
   ]
  },
  {
   "cell_type": "markdown",
   "metadata": {},
   "source": [
    "# Plotting fund_rd_investor_count"
   ]
  },
  {
   "cell_type": "code",
   "execution_count": 7,
   "metadata": {},
   "outputs": [
    {
     "data": {
      "text/plain": [
       "[<matplotlib.lines.Line2D at 0x7f80d7f9dd90>,\n",
       " <matplotlib.lines.Line2D at 0x7f80d7f81650>,\n",
       " <matplotlib.lines.Line2D at 0x7f80d7f9de90>,\n",
       " <matplotlib.lines.Line2D at 0x7f80d7f9df50>,\n",
       " <matplotlib.lines.Line2D at 0x7f80d7f9d950>,\n",
       " <matplotlib.lines.Line2D at 0x7f80d7fa8110>,\n",
       " <matplotlib.lines.Line2D at 0x7f80d7fa81d0>,\n",
       " <matplotlib.lines.Line2D at 0x7f80d7fa8290>,\n",
       " <matplotlib.lines.Line2D at 0x7f80d7f8dad0>,\n",
       " <matplotlib.lines.Line2D at 0x7f80d7fa80d0>,\n",
       " <matplotlib.lines.Line2D at 0x7f80d6db6290>]"
      ]
     },
     "execution_count": 7,
     "metadata": {},
     "output_type": "execute_result"
    },
    {
     "data": {
      "image/png": "[encoded data removed]",
      "text/plain": [
       "<Figure size 432x288 with 1 Axes>"
      ]
     },
     "metadata": {
      "needs_background": "light"
     },
     "output_type": "display_data"
    }
   ],
   "source": [
    "# define independent variables/attirbutes/features\n",
    "#x = features.drop(columns=['mean_norm_amount_delta', \"company_uuid\"])\n",
    "x= features[[\"fund_rd_investor_count\"]]\n",
    "y = features[\"mean_norm_amount_delta\"]\n",
    "\n",
    "#Change degree of x to fit into the model\n",
    "\n",
    "pre_process= PolynomialFeatures(degree=10)\n",
    "\n",
    "x_poly= pre_process.fit_transform(x)\n",
    "x_poly\n",
    "\n",
    "# Training the model\n",
    "pr_model= LinearRegression()\n",
    "\n",
    "# Fit our preprocessed data to the polynomial regression model\n",
    "pr_model.fit(x_poly, y)\n",
    "# Store our predicted ROI values in the variable y_pred\n",
    "y_pred = pr_model.predict(x_poly)\n",
    "\n",
    "# Plot our model on our data\n",
    "plt.scatter(x, y, c = \"black\")\n",
    "plt.xlabel(x.columns.values)\n",
    "plt.ylabel(\"ROI\")\n",
    "plt.xlim([0,10])\n",
    "plt.plot(x_poly, y_pred)"
   ]
  },
  {
   "cell_type": "markdown",
   "metadata": {},
   "source": [
    "# Plotting investment_count"
   ]
  },
  {
   "cell_type": "code",
   "execution_count": 8,
   "metadata": {},
   "outputs": [
    {
     "data": {
      "text/plain": [
       "[<matplotlib.lines.Line2D at 0x7f80d8de3a90>,\n",
       " <matplotlib.lines.Line2D at 0x7f80d8dcb350>,\n",
       " <matplotlib.lines.Line2D at 0x7f80d8de3b90>,\n",
       " <matplotlib.lines.Line2D at 0x7f80d8de3c50>,\n",
       " <matplotlib.lines.Line2D at 0x7f80d8de3d10>,\n",
       " <matplotlib.lines.Line2D at 0x7f80d8de3e50>,\n",
       " <matplotlib.lines.Line2D at 0x7f80d8de3f10>,\n",
       " <matplotlib.lines.Line2D at 0x7f80d8de3fd0>,\n",
       " <matplotlib.lines.Line2D at 0x7f80d8de3d50>,\n",
       " <matplotlib.lines.Line2D at 0x7f80d8de3e10>,\n",
       " <matplotlib.lines.Line2D at 0x7f80d8dbc050>]"
      ]
     },
     "execution_count": 8,
     "metadata": {},
     "output_type": "execute_result"
    },
    {
     "data": {
      "image/png": "[encoded data removed]",
      "text/plain": [
       "<Figure size 432x288 with 1 Axes>"
      ]
     },
     "metadata": {
      "needs_background": "light"
     },
     "output_type": "display_data"
    }
   ],
   "source": [
    "# define independent variables/attirbutes/features\n",
    "#x = features.drop(columns=['mean_norm_amount_delta', \"company_uuid\"])\n",
    "x= features[[\"investment_count\"]]\n",
    "y = features[\"mean_norm_amount_delta\"]\n",
    "\n",
    "#Change degree of x to fit into the model\n",
    "\n",
    "pre_process= PolynomialFeatures(degree=10)\n",
    "\n",
    "x_poly= pre_process.fit_transform(x)\n",
    "x_poly\n",
    "\n",
    "# Training the model\n",
    "pr_model= LinearRegression()\n",
    "\n",
    "# Fit our preprocessed data to the polynomial regression model\n",
    "pr_model.fit(x_poly, y)\n",
    "# Store our predicted ROI values in the variable y_pred\n",
    "y_pred = pr_model.predict(x_poly)\n",
    "\n",
    "# Plot our model on our data\n",
    "plt.scatter(x, y, c = \"black\")\n",
    "plt.xlabel(x.columns.values)\n",
    "plt.ylabel(\"ROI\")\n",
    "#plt.xlim([0,5])\n",
    "plt.plot(x_poly, y_pred)"
   ]
  },
  {
   "cell_type": "markdown",
   "metadata": {},
   "source": [
    "# Plotting acquisitions_price_usd"
   ]
  },
  {
   "cell_type": "code",
   "execution_count": 9,
   "metadata": {},
   "outputs": [
    {
     "data": {
      "text/plain": [
       "[<matplotlib.lines.Line2D at 0x7f8998ac6e10>,\n",
       " <matplotlib.lines.Line2D at 0x7f8982d764d0>,\n",
       " <matplotlib.lines.Line2D at 0x7f899ed73250>,\n",
       " <matplotlib.lines.Line2D at 0x7f899ed733d0>,\n",
       " <matplotlib.lines.Line2D at 0x7f899ed73590>,\n",
       " <matplotlib.lines.Line2D at 0x7f899ed73710>]"
      ]
     },
     "execution_count": 9,
     "metadata": {},
     "output_type": "execute_result"
    },
    {
     "data": {
      "image/png": "[encoded data removed]",
      "text/plain": [
       "<Figure size 432x288 with 1 Axes>"
      ]
     },
     "metadata": {
      "needs_background": "light"
     },
     "output_type": "display_data"
    }
   ],
   "source": [
    "# define independent variables/attirbutes/features\n",
    "#x = features.drop(columns=['mean_norm_amount_delta', \"company_uuid\"])\n",
    "x= features[[\"acquisitions_price_usd\"]]\n",
    "y = features[\"mean_norm_amount_delta\"]\n",
    "\n",
    "#Change degree of x to fit into the model\n",
    "\n",
    "pre_process= PolynomialFeatures(degree=5)\n",
    "\n",
    "x_poly= pre_process.fit_transform(x)\n",
    "x_poly\n",
    "\n",
    "# Training the model\n",
    "pr_model= LinearRegression()\n",
    "\n",
    "# Fit our preprocessed data to the polynomial regression model\n",
    "pr_model.fit(x_poly, y)\n",
    "# Store our predicted ROI values in the variable y_pred\n",
    "y_pred = pr_model.predict(x_poly)\n",
    "\n",
    "# Plot our model on our data\n",
    "plt.scatter(x, y, c = \"black\")\n",
    "plt.xlabel(x.columns.values)\n",
    "plt.ylabel(\"ROI\")\n",
    "plt.xlim([0,5])\n",
    "plt.plot(x_poly, y_pred)"
   ]
  },
  {
   "cell_type": "markdown",
   "metadata": {},
   "source": [
    "# Plotting event_count"
   ]
  },
  {
   "cell_type": "code",
   "execution_count": 10,
   "metadata": {
    "scrolled": true
   },
   "outputs": [
    {
     "data": {
      "text/plain": [
       "[<matplotlib.lines.Line2D at 0x7f8970364e10>,\n",
       " <matplotlib.lines.Line2D at 0x7f8970341490>,\n",
       " <matplotlib.lines.Line2D at 0x7f8970364f50>,\n",
       " <matplotlib.lines.Line2D at 0x7f8970370050>,\n",
       " <matplotlib.lines.Line2D at 0x7f8970370110>,\n",
       " <matplotlib.lines.Line2D at 0x7f8970370250>]"
      ]
     },
     "execution_count": 10,
     "metadata": {},
     "output_type": "execute_result"
    },
    {
     "data": {
      "image/png": "[encoded data removed]",
      "text/plain": [
       "<Figure size 432x288 with 1 Axes>"
      ]
     },
     "metadata": {
      "needs_background": "light"
     },
     "output_type": "display_data"
    }
   ],
   "source": [
    "# define independent variables/attirbutes/features\n",
    "#x = features.drop(columns=['mean_norm_amount_delta', \"company_uuid\"])\n",
    "x= features[[\"event_count\"]]\n",
    "y = features[\"mean_norm_amount_delta\"]\n",
    "\n",
    "#Change degree of x to fit into the model\n",
    "\n",
    "pre_process= PolynomialFeatures(degree=5)\n",
    "\n",
    "x_poly= pre_process.fit_transform(x)\n",
    "x_poly\n",
    "\n",
    "# Training the model\n",
    "pr_model= LinearRegression()\n",
    "\n",
    "# Fit our preprocessed data to the polynomial regression model\n",
    "pr_model.fit(x_poly, y)\n",
    "# Store our predicted ROI values in the variable y_pred\n",
    "y_pred = pr_model.predict(x_poly)\n",
    "\n",
    "# Plot our model on our data\n",
    "plt.scatter(x, y, c = \"black\")\n",
    "plt.xlabel(x.columns.values)\n",
    "plt.ylabel(\"ROI\")\n",
    "plt.xlim([0,20])\n",
    "plt.plot(x_poly, y_pred)"
   ]
  },
  {
   "cell_type": "markdown",
   "metadata": {},
   "source": [
    "# Plotting degree_type"
   ]
  },
  {
   "cell_type": "code",
   "execution_count": 11,
   "metadata": {
    "scrolled": true
   },
   "outputs": [
    {
     "data": {
      "text/plain": [
       "[<matplotlib.lines.Line2D at 0x7f8972548910>,\n",
       " <matplotlib.lines.Line2D at 0x7f8970cb9190>,\n",
       " <matplotlib.lines.Line2D at 0x7f8972548a50>,\n",
       " <matplotlib.lines.Line2D at 0x7f8972548b10>,\n",
       " <matplotlib.lines.Line2D at 0x7f8972548bd0>,\n",
       " <matplotlib.lines.Line2D at 0x7f8972548d10>]"
      ]
     },
     "execution_count": 11,
     "metadata": {},
     "output_type": "execute_result"
    },
    {
     "data": {
      "image/png": "[encoded data removed]",
      "text/plain": [
       "<Figure size 432x288 with 1 Axes>"
      ]
     },
     "metadata": {
      "needs_background": "light"
     },
     "output_type": "display_data"
    }
   ],
   "source": [
    "# define independent variables/attirbutes/features\n",
    "#x = features.drop(columns=['mean_norm_amount_delta', \"company_uuid\"])\n",
    "x= features[[\"degree_type\"]]\n",
    "y = features[\"mean_norm_amount_delta\"]\n",
    "\n",
    "#Change degree of x to fit into the model\n",
    "\n",
    "pre_process= PolynomialFeatures(degree=5)\n",
    "\n",
    "x_poly= pre_process.fit_transform(x)\n",
    "x_poly\n",
    "\n",
    "# Training the model\n",
    "pr_model= LinearRegression()\n",
    "\n",
    "# Fit our preprocessed data to the polynomial regression model\n",
    "pr_model.fit(x_poly, y)\n",
    "# Store our predicted ROI values in the variable y_pred\n",
    "y_pred = pr_model.predict(x_poly)\n",
    "\n",
    "# Plot our model on our data\n",
    "plt.scatter(x, y, c = \"black\")\n",
    "plt.xlabel(x.columns.values)\n",
    "plt.ylabel(\"ROI\")\n",
    "plt.xlim([0,5])\n",
    "plt.plot(x_poly, y_pred)"
   ]
  },
  {
   "cell_type": "markdown",
   "metadata": {},
   "source": [
    "# Plotting fund_rd_raised_amount_usd"
   ]
  },
  {
   "cell_type": "code",
   "execution_count": 11,
   "metadata": {},
   "outputs": [
    {
     "name": "stderr",
     "output_type": "stream",
     "text": [
      "/Users/apple/opt/anaconda3/envs/myenv/lib/python3.7/site-packages/ipykernel_launcher.py:4: SettingWithCopyWarning: \n",
      "A value is trying to be set on a copy of a slice from a DataFrame\n",
      "\n",
      "See the caveats in the documentation: https://pandas.pydata.org/pandas-docs/stable/user_guide/indexing.html#returning-a-view-versus-a-copy\n",
      "  after removing the cwd from sys.path.\n"
     ]
    },
    {
     "data": {
      "text/plain": [
       "[<matplotlib.lines.Line2D at 0x7f80d891ced0>,\n",
       " <matplotlib.lines.Line2D at 0x7f80de21bcd0>,\n",
       " <matplotlib.lines.Line2D at 0x7f80d891c990>,\n",
       " <matplotlib.lines.Line2D at 0x7f80d891c1d0>,\n",
       " <matplotlib.lines.Line2D at 0x7f80d891c750>,\n",
       " <matplotlib.lines.Line2D at 0x7f80d6daa250>,\n",
       " <matplotlib.lines.Line2D at 0x7f80d6daa550>,\n",
       " <matplotlib.lines.Line2D at 0x7f80d8db2d50>,\n",
       " <matplotlib.lines.Line2D at 0x7f80d891ce50>,\n",
       " <matplotlib.lines.Line2D at 0x7f80d6daa710>,\n",
       " <matplotlib.lines.Line2D at 0x7f80eebe0110>]"
      ]
     },
     "execution_count": 11,
     "metadata": {},
     "output_type": "execute_result"
    },
    {
     "data": {
      "image/png": "[encoded data removed]",
      "text/plain": [
       "<Figure size 432x288 with 1 Axes>"
      ]
     },
     "metadata": {
      "needs_background": "light"
     },
     "output_type": "display_data"
    }
   ],
   "source": [
    "# define independent variables/attirbutes/features\n",
    "#x = features.drop(columns=['mean_norm_amount_delta', \"company_uuid\"])\n",
    "dummy=  features[[\"fund_rd_raised_amount_usd\", \"mean_norm_amount_delta\"]]\n",
    "dummy.dropna(subset=['fund_rd_raised_amount_usd'] , inplace=True)\n",
    "\n",
    "x= dummy[[\"fund_rd_raised_amount_usd\"]]\n",
    "y = dummy[\"mean_norm_amount_delta\"]\n",
    "\n",
    "#Change degree of x to fit into the model\n",
    "\n",
    "pre_process= PolynomialFeatures(degree=10)\n",
    "\n",
    "x_poly= pre_process.fit_transform(x)\n",
    "x_poly\n",
    "\n",
    "# Training the model\n",
    "pr_model= LinearRegression()\n",
    "\n",
    "# Fit our preprocessed data to the polynomial regression model\n",
    "pr_model.fit(x_poly, y)\n",
    "# Store our predicted ROI values in the variable y_pred\n",
    "y_pred = pr_model.predict(x_poly)\n",
    "\n",
    "# Plot our model on our data\n",
    "plt.scatter(x, y, c = \"black\")\n",
    "plt.xlabel(x.columns.values)\n",
    "plt.ylabel(\"ROI\")\n",
    "#plt.xlim([0,3])\n",
    "plt.plot(x_poly, y_pred)"
   ]
  },
  {
   "cell_type": "code",
   "execution_count": null,
   "metadata": {},
   "outputs": [],
   "source": []
  }
 ],
 "metadata": {
  "kernelspec": {
   "display_name": "Python 3",
   "language": "python",
   "name": "python3"
  },
  "language_info": {
   "codemirror_mode": {
    "name": "ipython",
    "version": 3
   },
   "file_extension": ".py",
   "mimetype": "text/x-python",
   "name": "python",
   "nbconvert_exporter": "python",
   "pygments_lexer": "ipython3",
   "version": "3.7.7"
  }
 },
 "nbformat": 4,
 "nbformat_minor": 4
}
