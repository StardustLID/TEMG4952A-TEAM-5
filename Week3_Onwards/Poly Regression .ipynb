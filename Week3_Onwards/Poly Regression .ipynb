{
 "cells": [
  {
   "cell_type": "code",
   "execution_count": 9,
   "metadata": {},
   "outputs": [],
   "source": [
    "import pandas as pd\n",
    "from sklearn.model_selection import train_test_split   \n",
    "\n",
    "# Importing Linear Regression\n",
    "from sklearn.linear_model import LinearRegression\n",
    "# importing libraries for polynomial transform\n",
    "from sklearn.preprocessing import PolynomialFeatures\n",
    "# for creating pipeline\n",
    "from sklearn.pipeline import Pipeline"
   ]
  },
  {
   "cell_type": "markdown",
   "metadata": {},
   "source": [
    "# Preparing Data"
   ]
  },
  {
   "cell_type": "code",
   "execution_count": 2,
   "metadata": {
    "scrolled": true
   },
   "outputs": [
    {
     "name": "stdout",
     "output_type": "stream",
     "text": [
      "<class 'pandas.core.frame.DataFrame'>\n",
      "RangeIndex: 37198 entries, 0 to 37197\n",
      "Data columns (total 93 columns):\n",
      " #   Column                           Non-Null Count  Dtype  \n",
      "---  ------                           --------------  -----  \n",
      " 0   company_uuid                     37198 non-null  object \n",
      " 1   operating                        37198 non-null  int64  \n",
      " 2   closed                           37198 non-null  int64  \n",
      " 3   success                          37198 non-null  int64  \n",
      " 4   success_acquired                 37198 non-null  int64  \n",
      " 5   success_ipo                      37198 non-null  int64  \n",
      " 6   num_funding_rounds               37198 non-null  float64\n",
      " 7   Financial Services               37198 non-null  int64  \n",
      " 8   FinTech                          37198 non-null  int64  \n",
      " 9   Finance                          37198 non-null  int64  \n",
      " 10  Blockchain                       37198 non-null  int64  \n",
      " 11  Information Technology           37198 non-null  int64  \n",
      " 12  Software                         37198 non-null  int64  \n",
      " 13  Payments                         37198 non-null  int64  \n",
      " 14  Cryptocurrency                   37198 non-null  int64  \n",
      " 15  Venture Capital                  37198 non-null  int64  \n",
      " 16  Internet                         37198 non-null  int64  \n",
      " 17  Banking                          37198 non-null  int64  \n",
      " 18  Consulting                       37198 non-null  int64  \n",
      " 19  Mobile Payments                  37198 non-null  int64  \n",
      " 20  E-Commerce                       37198 non-null  int64  \n",
      " 21  Insurance                        37198 non-null  int64  \n",
      " 22  Bitcoin                          37198 non-null  int64  \n",
      " 23  Artificial Intelligence          37198 non-null  int64  \n",
      " 24  Mobile                           37198 non-null  int64  \n",
      " 25  Crowdfunding                     37198 non-null  int64  \n",
      " 26  SaaS                             37198 non-null  int64  \n",
      " 27  Real Estate                      37198 non-null  int64  \n",
      " 28  Apps                             37198 non-null  int64  \n",
      " 29  Personal Finance                 37198 non-null  int64  \n",
      " 30  Accounting                       37198 non-null  int64  \n",
      " 31  Mobile Apps                      37198 non-null  int64  \n",
      " 32  Asset Management                 37198 non-null  int64  \n",
      " 33  Marketplace                      37198 non-null  int64  \n",
      " 34  Lending                          37198 non-null  int64  \n",
      " 35  Big Data                         37198 non-null  int64  \n",
      " 36  Machine Learning                 37198 non-null  int64  \n",
      " 37  gender_male                      37198 non-null  float64\n",
      " 38  gender_female                    37198 non-null  float64\n",
      " 39  degree_type                      37198 non-null  float64\n",
      " 40  subject_Computer Science         37198 non-null  float64\n",
      " 41  subject_Economics                37198 non-null  float64\n",
      " 42  subject_Finance                  37198 non-null  float64\n",
      " 43  subject_Electrical Engineering   37198 non-null  float64\n",
      " 44  subject_Business Administration  37198 non-null  float64\n",
      " 45  subject_Mechanical Engineering   37198 non-null  float64\n",
      " 46  subject_Marketing                37198 non-null  float64\n",
      " 47  subject_Accounting               37198 non-null  float64\n",
      " 48  subject_Law                      37198 non-null  float64\n",
      " 49  subject_Business                 37198 non-null  float64\n",
      " 50  subject_Computer Engineering     37198 non-null  float64\n",
      " 51  subject_Physics                  37198 non-null  float64\n",
      " 52  subject_Political Science        37198 non-null  float64\n",
      " 53  subject_Management               37198 non-null  float64\n",
      " 54  subject_Engineering              37198 non-null  float64\n",
      " 55  subject_Psychology               37198 non-null  float64\n",
      " 56  subject_Mathematics              37198 non-null  float64\n",
      " 57  subject_Chemical Engineering     37198 non-null  float64\n",
      " 58  subject_Chemistry                37198 non-null  float64\n",
      " 59  subject_History                  37198 non-null  float64\n",
      " 60  subject_Biology                  37198 non-null  float64\n",
      " 61  subject_International Business   37198 non-null  float64\n",
      " 62  subject_Information Technology   37198 non-null  float64\n",
      " 63  subject_Business Management      37198 non-null  float64\n",
      " 64  subject_English                  37198 non-null  float64\n",
      " 65  subject_Industrial Engineering   37198 non-null  float64\n",
      " 66  subject_Civil Engineering        37198 non-null  float64\n",
      " 67  subject_Biochemistry             37198 non-null  float64\n",
      " 68  subject_Medicine                 37198 non-null  float64\n",
      " 69  subject_Philosophy               37198 non-null  float64\n",
      " 70  USA                              37198 non-null  int64  \n",
      " 71  GBR                              37198 non-null  int64  \n",
      " 72  CHN                              37198 non-null  int64  \n",
      " 73  IND                              37198 non-null  int64  \n",
      " 74  CAN                              37198 non-null  int64  \n",
      " 75  SGP                              37198 non-null  int64  \n",
      " 76  DEU                              37198 non-null  int64  \n",
      " 77  AUS                              37198 non-null  int64  \n",
      " 78  BRA                              37198 non-null  int64  \n",
      " 79  CHE                              37198 non-null  int64  \n",
      " 80  city_London                      37198 non-null  int64  \n",
      " 81  city_New_York                    37198 non-null  int64  \n",
      " 82  city_San_Francisco               37198 non-null  int64  \n",
      " 83  city_Singapore                   37198 non-null  int64  \n",
      " 84  city_Beijing                     37198 non-null  int64  \n",
      " 85  city_Toronto                     37198 non-null  int64  \n",
      " 86  city_Shanghai                    37198 non-null  int64  \n",
      " 87  city_Los_Angeles                 37198 non-null  int64  \n",
      " 88  city_Chicago                     37198 non-null  int64  \n",
      " 89  city_Shenzhen                    37198 non-null  int64  \n",
      " 90  has_acquisitions                 37198 non-null  int64  \n",
      " 91  has_ipo                          37198 non-null  int64  \n",
      " 92  mean_norm_amount_delta           37198 non-null  float64\n",
      "dtypes: float64(35), int64(57), object(1)\n",
      "memory usage: 26.4+ MB\n"
     ]
    }
   ],
   "source": [
    "#Read both CSV\n",
    "df=pd.read_csv(\"unifed_csv_without_duplicated_company.csv\")\n",
    "\n",
    "#Create dataframe for features\n",
    "features=df[[\"company_uuid\", \"operating\",\"closed\",\"success\",\"success_acquired\",\"success_ipo\", \"num_funding_rounds\",\"Financial Services\",\"FinTech\",\"Finance\",\"Blockchain\", \"Information Technology\", \"Software\",  \"Payments\" , \"Cryptocurrency\", \"Venture Capital\",\"Internet\", \"Banking\", \"Consulting\",  \"Mobile Payments\",\"E-Commerce\", \"Insurance\", \"Bitcoin\", \"Artificial Intelligence\", \"Mobile\", \"Crowdfunding\",\"SaaS\",  \"Real Estate\", \"Apps\", \"Personal Finance\",\"Accounting\", \"Mobile Apps\", \"Asset Management\", \"Marketplace\", \"Lending\", \"Big Data\", \"Machine Learning\", \"gender_male\", \"gender_female\" ]].copy()\n",
    "dummy= df.columns[70:]\n",
    "dummy_df= df[dummy]\n",
    "features= features.join(dummy_df)\n",
    "features= features.drop(columns=[\"time_in_year\",\"investment_delta\", \"norm_amount_delta\", \"momentum\", \"max_norm_amount_delta\", \"roi_from_mean_momentum\", \"continent\", \"ROI\" ])\n",
    "\n",
    "#Deal with null value in num_funding_rounds \n",
    "features[\"num_funding_rounds\"]=features[\"num_funding_rounds\"].fillna(0)\n",
    "\n",
    "# Join with ROI.csv from ROI.ipynb\n",
    "features[\"mean_norm_amount_delta\"]=features[\"mean_norm_amount_delta\"].fillna(0)\n",
    "features.info()"
   ]
  },
  {
   "cell_type": "code",
   "execution_count": 4,
   "metadata": {},
   "outputs": [
    {
     "data": {
      "text/plain": [
       "0        0\n",
       "1        0\n",
       "2        0\n",
       "3        0\n",
       "4        0\n",
       "        ..\n",
       "37193    0\n",
       "37194    0\n",
       "37195    0\n",
       "37196    0\n",
       "37197    1\n",
       "Name: mean_norm_amount_delta, Length: 37198, dtype: category\n",
       "Categories (2, int64): [0 < 1]"
      ]
     },
     "execution_count": 4,
     "metadata": {},
     "output_type": "execute_result"
    }
   ],
   "source": [
    "# define independent variables/attirbutes/features\n",
    "x = features.drop(columns=['mean_norm_amount_delta', \"company_uuid\"])\n",
    "y = features[\"mean_norm_amount_delta\"]\n",
    "\n",
    "#Make \"mean_norm_amount_delta\" column 1/0\n",
    "binary_labels = [0,1]\n",
    "y = pd.qcut(y, 2, labels = binary_labels)\n",
    "y"
   ]
  },
  {
   "cell_type": "code",
   "execution_count": 10,
   "metadata": {},
   "outputs": [
    {
     "ename": "AttributeError",
     "evalue": "'DataFrame' object has no attribute 'reshape'",
     "output_type": "error",
     "traceback": [
      "\u001b[0;31m---------------------------------------------------------------------------\u001b[0m",
      "\u001b[0;31mAttributeError\u001b[0m                            Traceback (most recent call last)",
      "\u001b[0;32m<ipython-input-10-2e01fe08e27e>\u001b[0m in \u001b[0;36m<module>\u001b[0;34m\u001b[0m\n\u001b[1;32m      5\u001b[0m \u001b[0mInput\u001b[0m\u001b[0;34m=\u001b[0m\u001b[0;34m[\u001b[0m\u001b[0;34m(\u001b[0m\u001b[0;34m'polynomial'\u001b[0m\u001b[0;34m,\u001b[0m\u001b[0mPolynomialFeatures\u001b[0m\u001b[0;34m(\u001b[0m\u001b[0mdegree\u001b[0m\u001b[0;34m=\u001b[0m\u001b[0;36m2\u001b[0m\u001b[0;34m)\u001b[0m\u001b[0;34m)\u001b[0m\u001b[0;34m,\u001b[0m\u001b[0;34m(\u001b[0m\u001b[0;34m'modal'\u001b[0m\u001b[0;34m,\u001b[0m\u001b[0mLinearRegression\u001b[0m\u001b[0;34m(\u001b[0m\u001b[0;34m)\u001b[0m\u001b[0;34m)\u001b[0m\u001b[0;34m]\u001b[0m\u001b[0;34m\u001b[0m\u001b[0;34m\u001b[0m\u001b[0m\n\u001b[1;32m      6\u001b[0m \u001b[0mpipe\u001b[0m\u001b[0;34m=\u001b[0m\u001b[0mPipeline\u001b[0m\u001b[0;34m(\u001b[0m\u001b[0mInput\u001b[0m\u001b[0;34m)\u001b[0m\u001b[0;34m\u001b[0m\u001b[0;34m\u001b[0m\u001b[0m\n\u001b[0;32m----> 7\u001b[0;31m \u001b[0mpipe\u001b[0m\u001b[0;34m.\u001b[0m\u001b[0mfit\u001b[0m\u001b[0;34m(\u001b[0m\u001b[0mx\u001b[0m\u001b[0;34m.\u001b[0m\u001b[0mreshape\u001b[0m\u001b[0;34m(\u001b[0m\u001b[0;34m-\u001b[0m\u001b[0;36m1\u001b[0m\u001b[0;34m,\u001b[0m\u001b[0;36m1\u001b[0m\u001b[0;34m)\u001b[0m\u001b[0;34m,\u001b[0m\u001b[0my\u001b[0m\u001b[0;34m.\u001b[0m\u001b[0mreshape\u001b[0m\u001b[0;34m(\u001b[0m\u001b[0;34m-\u001b[0m\u001b[0;36m1\u001b[0m\u001b[0;34m,\u001b[0m\u001b[0;36m1\u001b[0m\u001b[0;34m)\u001b[0m\u001b[0;34m)\u001b[0m\u001b[0;34m\u001b[0m\u001b[0;34m\u001b[0m\u001b[0m\n\u001b[0m",
      "\u001b[0;32m~/opt/anaconda3/envs/myenv/lib/python3.7/site-packages/pandas/core/generic.py\u001b[0m in \u001b[0;36m__getattr__\u001b[0;34m(self, name)\u001b[0m\n\u001b[1;32m   5272\u001b[0m             \u001b[0;32mif\u001b[0m \u001b[0mself\u001b[0m\u001b[0;34m.\u001b[0m\u001b[0m_info_axis\u001b[0m\u001b[0;34m.\u001b[0m\u001b[0m_can_hold_identifiers_and_holds_name\u001b[0m\u001b[0;34m(\u001b[0m\u001b[0mname\u001b[0m\u001b[0;34m)\u001b[0m\u001b[0;34m:\u001b[0m\u001b[0;34m\u001b[0m\u001b[0;34m\u001b[0m\u001b[0m\n\u001b[1;32m   5273\u001b[0m                 \u001b[0;32mreturn\u001b[0m \u001b[0mself\u001b[0m\u001b[0;34m[\u001b[0m\u001b[0mname\u001b[0m\u001b[0;34m]\u001b[0m\u001b[0;34m\u001b[0m\u001b[0;34m\u001b[0m\u001b[0m\n\u001b[0;32m-> 5274\u001b[0;31m             \u001b[0;32mreturn\u001b[0m \u001b[0mobject\u001b[0m\u001b[0;34m.\u001b[0m\u001b[0m__getattribute__\u001b[0m\u001b[0;34m(\u001b[0m\u001b[0mself\u001b[0m\u001b[0;34m,\u001b[0m \u001b[0mname\u001b[0m\u001b[0;34m)\u001b[0m\u001b[0;34m\u001b[0m\u001b[0;34m\u001b[0m\u001b[0m\n\u001b[0m\u001b[1;32m   5275\u001b[0m \u001b[0;34m\u001b[0m\u001b[0m\n\u001b[1;32m   5276\u001b[0m     \u001b[0;32mdef\u001b[0m \u001b[0m__setattr__\u001b[0m\u001b[0;34m(\u001b[0m\u001b[0mself\u001b[0m\u001b[0;34m,\u001b[0m \u001b[0mname\u001b[0m\u001b[0;34m:\u001b[0m \u001b[0mstr\u001b[0m\u001b[0;34m,\u001b[0m \u001b[0mvalue\u001b[0m\u001b[0;34m)\u001b[0m \u001b[0;34m->\u001b[0m \u001b[0;32mNone\u001b[0m\u001b[0;34m:\u001b[0m\u001b[0;34m\u001b[0m\u001b[0;34m\u001b[0m\u001b[0m\n",
      "\u001b[0;31mAttributeError\u001b[0m: 'DataFrame' object has no attribute 'reshape'"
     ]
    }
   ],
   "source": [
    "# Training Model\n",
    "lm=LinearRegression()\n",
    "\n",
    "# creating pipeline and fitting it on data\n",
    "Input=[('polynomial',PolynomialFeatures(degree=2)),('modal',LinearRegression())]\n",
    "pipe=Pipeline(Input)\n",
    "pipe.fit(x.reshape(-1,1),y.reshape(-1,1))"
   ]
  },
  {
   "cell_type": "code",
   "execution_count": null,
   "metadata": {},
   "outputs": [],
   "source": []
  }
 ],
 "metadata": {
  "kernelspec": {
   "display_name": "Python 3",
   "language": "python",
   "name": "python3"
  },
  "language_info": {
   "codemirror_mode": {
    "name": "ipython",
    "version": 3
   },
   "file_extension": ".py",
   "mimetype": "text/x-python",
   "name": "python",
   "nbconvert_exporter": "python",
   "pygments_lexer": "ipython3",
   "version": "3.7.7"
  }
 },
 "nbformat": 4,
 "nbformat_minor": 4
}
