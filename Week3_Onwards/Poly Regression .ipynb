{
 "cells": [
  {
   "cell_type": "code",
   "execution_count": 11,
   "metadata": {},
   "outputs": [],
   "source": [
    "import pandas as pd\n",
    "from sklearn.model_selection import train_test_split   \n",
    "import matplotlib.pyplot as plt\n",
    "import numpy as np\n",
    "\n",
    "# Importing Linear Regression\n",
    "from sklearn.linear_model import LinearRegression\n",
    "# importing libraries for polynomial transform\n",
    "from sklearn.preprocessing import PolynomialFeatures\n",
    "# for creating pipeline\n",
    "from sklearn.pipeline import Pipeline"
   ]
  },
  {
   "cell_type": "markdown",
   "metadata": {},
   "source": [
    "# Preparing Data"
   ]
  },
  {
   "cell_type": "code",
   "execution_count": 25,
   "metadata": {},
   "outputs": [
    {
     "name": "stdout",
     "output_type": "stream",
     "text": [
      "<class 'pandas.core.frame.DataFrame'>\n",
      "RangeIndex: 37198 entries, 0 to 37197\n",
      "Data columns (total 132 columns):\n",
      " #   Column                            Non-Null Count  Dtype  \n",
      "---  ------                            --------------  -----  \n",
      " 0   company_uuid                      37198 non-null  object \n",
      " 1   country_code                      33609 non-null  object \n",
      " 2   region                            33609 non-null  object \n",
      " 3   city                              33609 non-null  object \n",
      " 4   operating                         37198 non-null  int64  \n",
      " 5   closed                            37198 non-null  int64  \n",
      " 6   success                           37198 non-null  int64  \n",
      " 7   success_acquired                  37198 non-null  int64  \n",
      " 8   success_ipo                       37198 non-null  int64  \n",
      " 9   num_funding_rounds                12036 non-null  float64\n",
      " 10  total_funding_usd                 9093 non-null   float64\n",
      " 11  founded_on                        37198 non-null  float64\n",
      " 12  last_funding_on                   12032 non-null  object \n",
      " 13  closed_on                         591 non-null    object \n",
      " 14  employee_count                    37198 non-null  object \n",
      " 15  primary_role_company              37198 non-null  int64  \n",
      " 16  primary_role_school               37198 non-null  int64  \n",
      " 17  primary_role_investor             37198 non-null  int64  \n",
      " 18  num_exits                         37198 non-null  float64\n",
      " 19  Financial Services                37198 non-null  int64  \n",
      " 20  FinTech                           37198 non-null  int64  \n",
      " 21  Finance                           37198 non-null  int64  \n",
      " 22  Blockchain                        37198 non-null  int64  \n",
      " 23  Information Technology            37198 non-null  int64  \n",
      " 24  Software                          37198 non-null  int64  \n",
      " 25  Payments                          37198 non-null  int64  \n",
      " 26  Cryptocurrency                    37198 non-null  int64  \n",
      " 27  Venture Capital                   37198 non-null  int64  \n",
      " 28  Internet                          37198 non-null  int64  \n",
      " 29  Banking                           37198 non-null  int64  \n",
      " 30  Consulting                        37198 non-null  int64  \n",
      " 31  Mobile Payments                   37198 non-null  int64  \n",
      " 32  E-Commerce                        37198 non-null  int64  \n",
      " 33  Insurance                         37198 non-null  int64  \n",
      " 34  Bitcoin                           37198 non-null  int64  \n",
      " 35  Artificial Intelligence           37198 non-null  int64  \n",
      " 36  Mobile                            37198 non-null  int64  \n",
      " 37  Crowdfunding                      37198 non-null  int64  \n",
      " 38  SaaS                              37198 non-null  int64  \n",
      " 39  Real Estate                       37198 non-null  int64  \n",
      " 40  Apps                              37198 non-null  int64  \n",
      " 41  Personal Finance                  37198 non-null  int64  \n",
      " 42  Accounting                        37198 non-null  int64  \n",
      " 43  Mobile Apps                       37198 non-null  int64  \n",
      " 44  Asset Management                  37198 non-null  int64  \n",
      " 45  Marketplace                       37198 non-null  int64  \n",
      " 46  Lending                           37198 non-null  int64  \n",
      " 47  Big Data                          37198 non-null  int64  \n",
      " 48  Machine Learning                  37198 non-null  int64  \n",
      " 49  fund_rd_investment_type           12032 non-null  object \n",
      " 50  fund_rd_announced_on              12032 non-null  object \n",
      " 51  fund_rd_raised_amount_usd         8134 non-null   float64\n",
      " 52  fund_rd_post_money_valuation_usd  1029 non-null   float64\n",
      " 53  fund_rd_investor_count            37198 non-null  float64\n",
      " 54  investment_count                  37198 non-null  float64\n",
      " 55  any_partner                       37198 non-null  float64\n",
      " 56  any_top_partner                   37198 non-null  float64\n",
      " 57  ipo_went_public_on                347 non-null    float64\n",
      " 58  ipo_share_price_usd               79 non-null     float64\n",
      " 59  ipo_valuation_price_usd           54 non-null     float64\n",
      " 60  ipo_money_raised_usd              90 non-null     float64\n",
      " 61  funds_raised_amount_usd           1177 non-null   float64\n",
      " 62  acquisitions_acquirer_uuid        1180 non-null   object \n",
      " 63  acquisitions_acquired_on          1180 non-null   float64\n",
      " 64  acquisitions_price_usd            37198 non-null  float64\n",
      " 65  parent_org_parent_uuid            818 non-null    object \n",
      " 66  event_count                       37198 non-null  float64\n",
      " 67  job_duration                      20479 non-null  float64\n",
      " 68  gender_male                       37198 non-null  float64\n",
      " 69  gender_female                     37198 non-null  float64\n",
      " 70  degree_type                       37198 non-null  float64\n",
      " 71  subject_Computer Science          37198 non-null  float64\n",
      " 72  subject_Economics                 37198 non-null  float64\n",
      " 73  subject_Finance                   37198 non-null  float64\n",
      " 74  subject_Electrical Engineering    37198 non-null  float64\n",
      " 75  subject_Business Administration   37198 non-null  float64\n",
      " 76  subject_Mechanical Engineering    37198 non-null  float64\n",
      " 77  subject_Marketing                 37198 non-null  float64\n",
      " 78  subject_Accounting                37198 non-null  float64\n",
      " 79  subject_Law                       37198 non-null  float64\n",
      " 80  subject_Business                  37198 non-null  float64\n",
      " 81  subject_Computer Engineering      37198 non-null  float64\n",
      " 82  subject_Physics                   37198 non-null  float64\n",
      " 83  subject_Political Science         37198 non-null  float64\n",
      " 84  subject_Management                37198 non-null  float64\n",
      " 85  subject_Engineering               37198 non-null  float64\n",
      " 86  subject_Psychology                37198 non-null  float64\n",
      " 87  subject_Mathematics               37198 non-null  float64\n",
      " 88  subject_Chemical Engineering      37198 non-null  float64\n",
      " 89  subject_Chemistry                 37198 non-null  float64\n",
      " 90  subject_History                   37198 non-null  float64\n",
      " 91  subject_Biology                   37198 non-null  float64\n",
      " 92  subject_International Business    37198 non-null  float64\n",
      " 93  subject_Information Technology    37198 non-null  float64\n",
      " 94  subject_Business Management       37198 non-null  float64\n",
      " 95  subject_English                   37198 non-null  float64\n",
      " 96  subject_Industrial Engineering    37198 non-null  float64\n",
      " 97  subject_Civil Engineering         37198 non-null  float64\n",
      " 98  subject_Biochemistry              37198 non-null  float64\n",
      " 99  subject_Medicine                  37198 non-null  float64\n",
      " 100 subject_Philosophy                37198 non-null  float64\n",
      " 101 continent                         23787 non-null  object \n",
      " 102 USA                               37198 non-null  int64  \n",
      " 103 GBR                               37198 non-null  int64  \n",
      " 104 CHN                               37198 non-null  int64  \n",
      " 105 IND                               37198 non-null  int64  \n",
      " 106 CAN                               37198 non-null  int64  \n",
      " 107 SGP                               37198 non-null  int64  \n",
      " 108 DEU                               37198 non-null  int64  \n",
      " 109 AUS                               37198 non-null  int64  \n",
      " 110 BRA                               37198 non-null  int64  \n",
      " 111 CHE                               37198 non-null  int64  \n",
      " 112 city_London                       37198 non-null  int64  \n",
      " 113 city_New_York                     37198 non-null  int64  \n",
      " 114 city_San_Francisco                37198 non-null  int64  \n",
      " 115 city_Singapore                    37198 non-null  int64  \n",
      " 116 city_Beijing                      37198 non-null  int64  \n",
      " 117 city_Toronto                      37198 non-null  int64  \n",
      " 118 city_Shanghai                     37198 non-null  int64  \n",
      " 119 city_Los_Angeles                  37198 non-null  int64  \n",
      " 120 city_Chicago                      37198 non-null  int64  \n",
      " 121 city_Shenzhen                     37198 non-null  int64  \n",
      " 122 has_acquisitions                  37198 non-null  int64  \n",
      " 123 has_ipo                           37198 non-null  int64  \n",
      " 124 time_in_year                      8335 non-null   float64\n",
      " 125 investment_delta                  3644 non-null   object \n",
      " 126 norm_amount_delta                 3644 non-null   object \n",
      " 127 momentum                          3644 non-null   object \n",
      " 128 ROI                               3644 non-null   float64\n",
      " 129 max_norm_amount_delta             3644 non-null   float64\n",
      " 130 mean_norm_amount_delta            3644 non-null   float64\n",
      " 131 roi_from_mean_momentum            3644 non-null   float64\n",
      "dtypes: float64(57), int64(60), object(15)\n",
      "memory usage: 37.5+ MB\n"
     ]
    }
   ],
   "source": [
    "#Read both CSV\n",
    "df=pd.read_csv(\"unifed_csv_without_duplicated_company.csv\")\n",
    "df.info(max_cols=1000)"
   ]
  },
  {
   "cell_type": "code",
   "execution_count": 51,
   "metadata": {
    "scrolled": true
   },
   "outputs": [
    {
     "name": "stdout",
     "output_type": "stream",
     "text": [
      "<class 'pandas.core.frame.DataFrame'>\n",
      "RangeIndex: 37198 entries, 0 to 37197\n",
      "Data columns (total 13 columns):\n",
      " #   Column                            Non-Null Count  Dtype  \n",
      "---  ------                            --------------  -----  \n",
      " 0   company_uuid                      37198 non-null  object \n",
      " 1   num_funding_rounds                37198 non-null  float64\n",
      " 2   total_funding_usd                 37198 non-null  float64\n",
      " 3   employee_count                    37198 non-null  object \n",
      " 4   fund_rd_raised_amount_usd         8134 non-null   float64\n",
      " 5   fund_rd_post_money_valuation_usd  1029 non-null   float64\n",
      " 6   fund_rd_investor_count            37198 non-null  float64\n",
      " 7   investment_count                  37198 non-null  float64\n",
      " 8   acquisitions_price_usd            37198 non-null  float64\n",
      " 9   event_count                       37198 non-null  float64\n",
      " 10  degree_type                       37198 non-null  float64\n",
      " 11  Information Technology            37198 non-null  int64  \n",
      " 12  mean_norm_amount_delta            37198 non-null  float64\n",
      "dtypes: float64(10), int64(1), object(2)\n",
      "memory usage: 3.7+ MB\n"
     ]
    }
   ],
   "source": [
    "#Create dataframe for features\n",
    "features=df[[\"company_uuid\",\"num_funding_rounds\", \"total_funding_usd\",\"employee_count\",\"fund_rd_raised_amount_usd\",\"fund_rd_post_money_valuation_usd\",\"fund_rd_investor_count\", \"investment_count\",\"acquisitions_price_usd\",\"event_count\",\"degree_type\", \"Information Technology\", \"mean_norm_amount_delta\" ]].copy()\n",
    "\n",
    "#Deal with null value in num_funding_rounds and ROI\n",
    "features[\"num_funding_rounds\"]=features[\"num_funding_rounds\"].fillna(0)\n",
    "features[\"mean_norm_amount_delta\"]=features[\"mean_norm_amount_delta\"].fillna(0)\n",
    "features[\"total_funding_usd\"]=features[\"total_funding_usd\"].fillna(0)\n",
    "features.info()\n"
   ]
  },
  {
   "cell_type": "code",
   "execution_count": 70,
   "metadata": {
    "scrolled": false
   },
   "outputs": [
    {
     "data": {
      "text/plain": [
       "0        0.000000\n",
       "1        0.000000\n",
       "2        0.000000\n",
       "3        0.000000\n",
       "4        0.000000\n",
       "           ...   \n",
       "37193    0.000000\n",
       "37194    0.000000\n",
       "37195    0.000000\n",
       "37196    0.000000\n",
       "37197    0.836687\n",
       "Name: mean_norm_amount_delta, Length: 37198, dtype: float64"
      ]
     },
     "execution_count": 70,
     "metadata": {},
     "output_type": "execute_result"
    }
   ],
   "source": [
    "# define independent variables/attirbutes/features\n",
    "#x = features.drop(columns=['mean_norm_amount_delta', \"company_uuid\"])\n",
    "x= features[[\"degree_type\"]]\n",
    "y = features[\"mean_norm_amount_delta\"]\n",
    "\n",
    "y"
   ]
  },
  {
   "cell_type": "code",
   "execution_count": 71,
   "metadata": {
    "scrolled": true
   },
   "outputs": [
    {
     "data": {
      "text/plain": [
       "array([[ 1.,  0.,  0.,  0.,  0.,  0.],\n",
       "       [ 1.,  2.,  4.,  8., 16., 32.],\n",
       "       [ 1.,  0.,  0.,  0.,  0.,  0.],\n",
       "       ...,\n",
       "       [ 1.,  0.,  0.,  0.,  0.,  0.],\n",
       "       [ 1.,  0.,  0.,  0.,  0.,  0.],\n",
       "       [ 1.,  0.,  0.,  0.,  0.,  0.]])"
      ]
     },
     "execution_count": 71,
     "metadata": {},
     "output_type": "execute_result"
    }
   ],
   "source": [
    "#Change degree of x to fit into the model\n",
    "\n",
    "pre_process= PolynomialFeatures(degree=5)\n",
    "\n",
    "x_poly= pre_process.fit_transform(x)\n",
    "x_poly"
   ]
  },
  {
   "cell_type": "code",
   "execution_count": 75,
   "metadata": {
    "scrolled": true
   },
   "outputs": [
    {
     "data": {
      "text/plain": [
       "[<matplotlib.lines.Line2D at 0x7fd41ccc8090>,\n",
       " <matplotlib.lines.Line2D at 0x7fd41ccc8150>,\n",
       " <matplotlib.lines.Line2D at 0x7fd41ccc8210>,\n",
       " <matplotlib.lines.Line2D at 0x7fd41ccc82d0>,\n",
       " <matplotlib.lines.Line2D at 0x7fd41ccc8390>,\n",
       " <matplotlib.lines.Line2D at 0x7fd41ccc84d0>]"
      ]
     },
     "execution_count": 75,
     "metadata": {},
     "output_type": "execute_result"
    },
    {
     "data": {
      "image/png": "[encoded data removed]",
      "text/plain": [
       "<Figure size 432x288 with 1 Axes>"
      ]
     },
     "metadata": {
      "needs_background": "light"
     },
     "output_type": "display_data"
    }
   ],
   "source": [
    "# Training the model\n",
    "\n",
    "pr_model= LinearRegression()\n",
    "\n",
    "# Fit our preprocessed data to the polynomial regression model\n",
    "pr_model.fit(x_poly, y)\n",
    "# Store our predicted ROI values in the variable y_pred\n",
    "y_pred = pr_model.predict(x_poly)\n",
    "\n",
    "# Plot our model on our data\n",
    "plt.scatter(x, y, c = \"black\")\n",
    "plt.xlabel(\"num_funding_rounds\")\n",
    "plt.ylabel(\"ROI\")\n",
    "plt.xlim([0,3])\n",
    "plt.plot(x_poly, y_pred)"
   ]
  },
  {
   "cell_type": "code",
   "execution_count": 73,
   "metadata": {},
   "outputs": [
    {
     "data": {
      "text/plain": [
       "0.08550836787715414"
      ]
     },
     "execution_count": 73,
     "metadata": {},
     "output_type": "execute_result"
    }
   ],
   "source": [
    "from sklearn.metrics import mean_squared_error\n",
    "mean_squared_error(y, y_pred)"
   ]
  },
  {
   "cell_type": "code",
   "execution_count": 10,
   "metadata": {},
   "outputs": [
    {
     "ename": "AttributeError",
     "evalue": "'DataFrame' object has no attribute 'reshape'",
     "output_type": "error",
     "traceback": [
      "\u001b[0;31m---------------------------------------------------------------------------\u001b[0m",
      "\u001b[0;31mAttributeError\u001b[0m                            Traceback (most recent call last)",
      "\u001b[0;32m<ipython-input-10-2e01fe08e27e>\u001b[0m in \u001b[0;36m<module>\u001b[0;34m\u001b[0m\n\u001b[1;32m      5\u001b[0m \u001b[0mInput\u001b[0m\u001b[0;34m=\u001b[0m\u001b[0;34m[\u001b[0m\u001b[0;34m(\u001b[0m\u001b[0;34m'polynomial'\u001b[0m\u001b[0;34m,\u001b[0m\u001b[0mPolynomialFeatures\u001b[0m\u001b[0;34m(\u001b[0m\u001b[0mdegree\u001b[0m\u001b[0;34m=\u001b[0m\u001b[0;36m2\u001b[0m\u001b[0;34m)\u001b[0m\u001b[0;34m)\u001b[0m\u001b[0;34m,\u001b[0m\u001b[0;34m(\u001b[0m\u001b[0;34m'modal'\u001b[0m\u001b[0;34m,\u001b[0m\u001b[0mLinearRegression\u001b[0m\u001b[0;34m(\u001b[0m\u001b[0;34m)\u001b[0m\u001b[0;34m)\u001b[0m\u001b[0;34m]\u001b[0m\u001b[0;34m\u001b[0m\u001b[0;34m\u001b[0m\u001b[0m\n\u001b[1;32m      6\u001b[0m \u001b[0mpipe\u001b[0m\u001b[0;34m=\u001b[0m\u001b[0mPipeline\u001b[0m\u001b[0;34m(\u001b[0m\u001b[0mInput\u001b[0m\u001b[0;34m)\u001b[0m\u001b[0;34m\u001b[0m\u001b[0;34m\u001b[0m\u001b[0m\n\u001b[0;32m----> 7\u001b[0;31m \u001b[0mpipe\u001b[0m\u001b[0;34m.\u001b[0m\u001b[0mfit\u001b[0m\u001b[0;34m(\u001b[0m\u001b[0mx\u001b[0m\u001b[0;34m.\u001b[0m\u001b[0mreshape\u001b[0m\u001b[0;34m(\u001b[0m\u001b[0;34m-\u001b[0m\u001b[0;36m1\u001b[0m\u001b[0;34m,\u001b[0m\u001b[0;36m1\u001b[0m\u001b[0;34m)\u001b[0m\u001b[0;34m,\u001b[0m\u001b[0my\u001b[0m\u001b[0;34m.\u001b[0m\u001b[0mreshape\u001b[0m\u001b[0;34m(\u001b[0m\u001b[0;34m-\u001b[0m\u001b[0;36m1\u001b[0m\u001b[0;34m,\u001b[0m\u001b[0;36m1\u001b[0m\u001b[0;34m)\u001b[0m\u001b[0;34m)\u001b[0m\u001b[0;34m\u001b[0m\u001b[0;34m\u001b[0m\u001b[0m\n\u001b[0m",
      "\u001b[0;32m~/opt/anaconda3/envs/myenv/lib/python3.7/site-packages/pandas/core/generic.py\u001b[0m in \u001b[0;36m__getattr__\u001b[0;34m(self, name)\u001b[0m\n\u001b[1;32m   5272\u001b[0m             \u001b[0;32mif\u001b[0m \u001b[0mself\u001b[0m\u001b[0;34m.\u001b[0m\u001b[0m_info_axis\u001b[0m\u001b[0;34m.\u001b[0m\u001b[0m_can_hold_identifiers_and_holds_name\u001b[0m\u001b[0;34m(\u001b[0m\u001b[0mname\u001b[0m\u001b[0;34m)\u001b[0m\u001b[0;34m:\u001b[0m\u001b[0;34m\u001b[0m\u001b[0;34m\u001b[0m\u001b[0m\n\u001b[1;32m   5273\u001b[0m                 \u001b[0;32mreturn\u001b[0m \u001b[0mself\u001b[0m\u001b[0;34m[\u001b[0m\u001b[0mname\u001b[0m\u001b[0;34m]\u001b[0m\u001b[0;34m\u001b[0m\u001b[0;34m\u001b[0m\u001b[0m\n\u001b[0;32m-> 5274\u001b[0;31m             \u001b[0;32mreturn\u001b[0m \u001b[0mobject\u001b[0m\u001b[0;34m.\u001b[0m\u001b[0m__getattribute__\u001b[0m\u001b[0;34m(\u001b[0m\u001b[0mself\u001b[0m\u001b[0;34m,\u001b[0m \u001b[0mname\u001b[0m\u001b[0;34m)\u001b[0m\u001b[0;34m\u001b[0m\u001b[0;34m\u001b[0m\u001b[0m\n\u001b[0m\u001b[1;32m   5275\u001b[0m \u001b[0;34m\u001b[0m\u001b[0m\n\u001b[1;32m   5276\u001b[0m     \u001b[0;32mdef\u001b[0m \u001b[0m__setattr__\u001b[0m\u001b[0;34m(\u001b[0m\u001b[0mself\u001b[0m\u001b[0;34m,\u001b[0m \u001b[0mname\u001b[0m\u001b[0;34m:\u001b[0m \u001b[0mstr\u001b[0m\u001b[0;34m,\u001b[0m \u001b[0mvalue\u001b[0m\u001b[0;34m)\u001b[0m \u001b[0;34m->\u001b[0m \u001b[0;32mNone\u001b[0m\u001b[0;34m:\u001b[0m\u001b[0;34m\u001b[0m\u001b[0;34m\u001b[0m\u001b[0m\n",
      "\u001b[0;31mAttributeError\u001b[0m: 'DataFrame' object has no attribute 'reshape'"
     ]
    }
   ],
   "source": [
    "# Training Model\n",
    "lm=LinearRegression()\n",
    "\n",
    "# creating pipeline and fitting it on data\n",
    "Input=[('polynomial',PolynomialFeatures(degree=2)),('modal',LinearRegression())]\n",
    "pipe=Pipeline(Input)\n",
    "pipe.fit(x.reshape(-1,1),y.reshape(-1,1))"
   ]
  },
  {
   "cell_type": "code",
   "execution_count": null,
   "metadata": {},
   "outputs": [],
   "source": []
  },
  {
   "cell_type": "code",
   "execution_count": null,
   "metadata": {},
   "outputs": [],
   "source": []
  }
 ],
 "metadata": {
  "kernelspec": {
   "display_name": "Python 3",
   "language": "python",
   "name": "python3"
  },
  "language_info": {
   "codemirror_mode": {
    "name": "ipython",
    "version": 3
   },
   "file_extension": ".py",
   "mimetype": "text/x-python",
   "name": "python",
   "nbconvert_exporter": "python",
   "pygments_lexer": "ipython3",
   "version": "3.7.7"
  }
 },
 "nbformat": 4,
 "nbformat_minor": 4
}
