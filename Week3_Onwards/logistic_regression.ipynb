{
 "metadata": {
  "language_info": {
   "codemirror_mode": {
    "name": "ipython",
    "version": 3
   },
   "file_extension": ".py",
   "mimetype": "text/x-python",
   "name": "python",
   "nbconvert_exporter": "python",
   "pygments_lexer": "ipython3",
   "version": "3.8.3-final"
  },
  "orig_nbformat": 2,
  "kernelspec": {
   "name": "python3",
   "display_name": "Python 3",
   "language": "python"
  }
 },
 "nbformat": 4,
 "nbformat_minor": 2,
 "cells": [
  {
   "cell_type": "code",
   "execution_count": 1,
   "metadata": {},
   "outputs": [],
   "source": [
    "import pandas as pd\n",
    "import numpy as np\n",
    "\n",
    "import scipy\n",
    "# from scipy import stats\n",
    "import matplotlib.pyplot as plt\n",
    "import seaborn as sns\n",
    "import datetime\n",
    "from sklearn.model_selection import train_test_split\n",
    "from sklearn.linear_model import LogisticRegression\n",
    "from sklearn import metrics\n",
    "from sklearn.metrics import confusion_matrix\n",
    "from sklearn.metrics import classification_report\n",
    "import seaborn as sns"
   ]
  },
  {
   "cell_type": "code",
   "execution_count": 2,
   "metadata": {},
   "outputs": [
    {
     "output_type": "stream",
     "name": "stdout",
     "text": [
      "<class 'pandas.core.frame.DataFrame'>\nRangeIndex: 37198 entries, 0 to 37197\nData columns (total 132 columns):\n #   Column                            Non-Null Count  Dtype  \n---  ------                            --------------  -----  \n 0   company_uuid                      37198 non-null  object \n 1   country_code                      33609 non-null  object \n 2   region                            33609 non-null  object \n 3   city                              33609 non-null  object \n 4   operating                         37198 non-null  int64  \n 5   closed                            37198 non-null  int64  \n 6   success                           37198 non-null  int64  \n 7   success_acquired                  37198 non-null  int64  \n 8   success_ipo                       37198 non-null  int64  \n 9   num_funding_rounds                12036 non-null  float64\n 10  total_funding_usd                 9093 non-null   float64\n 11  founded_on                        37198 non-null  float64\n 12  last_funding_on                   12032 non-null  object \n 13  closed_on                         591 non-null    object \n 14  employee_count                    37198 non-null  object \n 15  primary_role_company              37198 non-null  int64  \n 16  primary_role_school               37198 non-null  int64  \n 17  primary_role_investor             37198 non-null  int64  \n 18  num_exits                         37198 non-null  float64\n 19  Financial Services                37198 non-null  int64  \n 20  FinTech                           37198 non-null  int64  \n 21  Finance                           37198 non-null  int64  \n 22  Blockchain                        37198 non-null  int64  \n 23  Information Technology            37198 non-null  int64  \n 24  Software                          37198 non-null  int64  \n 25  Payments                          37198 non-null  int64  \n 26  Cryptocurrency                    37198 non-null  int64  \n 27  Venture Capital                   37198 non-null  int64  \n 28  Internet                          37198 non-null  int64  \n 29  Banking                           37198 non-null  int64  \n 30  Consulting                        37198 non-null  int64  \n 31  Mobile Payments                   37198 non-null  int64  \n 32  E-Commerce                        37198 non-null  int64  \n 33  Insurance                         37198 non-null  int64  \n 34  Bitcoin                           37198 non-null  int64  \n 35  Artificial Intelligence           37198 non-null  int64  \n 36  Mobile                            37198 non-null  int64  \n 37  Crowdfunding                      37198 non-null  int64  \n 38  SaaS                              37198 non-null  int64  \n 39  Real Estate                       37198 non-null  int64  \n 40  Apps                              37198 non-null  int64  \n 41  Personal Finance                  37198 non-null  int64  \n 42  Accounting                        37198 non-null  int64  \n 43  Mobile Apps                       37198 non-null  int64  \n 44  Asset Management                  37198 non-null  int64  \n 45  Marketplace                       37198 non-null  int64  \n 46  Lending                           37198 non-null  int64  \n 47  Big Data                          37198 non-null  int64  \n 48  Machine Learning                  37198 non-null  int64  \n 49  fund_rd_investment_type           12032 non-null  object \n 50  fund_rd_announced_on              12032 non-null  object \n 51  fund_rd_raised_amount_usd         8134 non-null   float64\n 52  fund_rd_post_money_valuation_usd  1029 non-null   float64\n 53  fund_rd_investor_count            37198 non-null  float64\n 54  investment_count                  37198 non-null  float64\n 55  any_partner                       37198 non-null  float64\n 56  any_top_partner                   37198 non-null  float64\n 57  ipo_went_public_on                347 non-null    float64\n 58  ipo_share_price_usd               79 non-null     float64\n 59  ipo_valuation_price_usd           54 non-null     float64\n 60  ipo_money_raised_usd              90 non-null     float64\n 61  funds_raised_amount_usd           1177 non-null   float64\n 62  acquisitions_acquirer_uuid        1180 non-null   object \n 63  acquisitions_acquired_on          1180 non-null   float64\n 64  acquisitions_price_usd            37198 non-null  float64\n 65  parent_org_parent_uuid            818 non-null    object \n 66  event_count                       37198 non-null  float64\n 67  job_duration                      20479 non-null  float64\n 68  gender_male                       37198 non-null  float64\n 69  gender_female                     37198 non-null  float64\n 70  degree_type                       37198 non-null  float64\n 71  subject_Computer Science          37198 non-null  float64\n 72  subject_Economics                 37198 non-null  float64\n 73  subject_Finance                   37198 non-null  float64\n 74  subject_Electrical Engineering    37198 non-null  float64\n 75  subject_Business Administration   37198 non-null  float64\n 76  subject_Mechanical Engineering    37198 non-null  float64\n 77  subject_Marketing                 37198 non-null  float64\n 78  subject_Accounting                37198 non-null  float64\n 79  subject_Law                       37198 non-null  float64\n 80  subject_Business                  37198 non-null  float64\n 81  subject_Computer Engineering      37198 non-null  float64\n 82  subject_Physics                   37198 non-null  float64\n 83  subject_Political Science         37198 non-null  float64\n 84  subject_Management                37198 non-null  float64\n 85  subject_Engineering               37198 non-null  float64\n 86  subject_Psychology                37198 non-null  float64\n 87  subject_Mathematics               37198 non-null  float64\n 88  subject_Chemical Engineering      37198 non-null  float64\n 89  subject_Chemistry                 37198 non-null  float64\n 90  subject_History                   37198 non-null  float64\n 91  subject_Biology                   37198 non-null  float64\n 92  subject_International Business    37198 non-null  float64\n 93  subject_Information Technology    37198 non-null  float64\n 94  subject_Business Management       37198 non-null  float64\n 95  subject_English                   37198 non-null  float64\n 96  subject_Industrial Engineering    37198 non-null  float64\n 97  subject_Civil Engineering         37198 non-null  float64\n 98  subject_Biochemistry              37198 non-null  float64\n 99  subject_Medicine                  37198 non-null  float64\n 100 subject_Philosophy                37198 non-null  float64\n 101 continent                         23787 non-null  object \n 102 USA                               37198 non-null  int64  \n 103 GBR                               37198 non-null  int64  \n 104 CHN                               37198 non-null  int64  \n 105 IND                               37198 non-null  int64  \n 106 CAN                               37198 non-null  int64  \n 107 SGP                               37198 non-null  int64  \n 108 DEU                               37198 non-null  int64  \n 109 AUS                               37198 non-null  int64  \n 110 BRA                               37198 non-null  int64  \n 111 CHE                               37198 non-null  int64  \n 112 city_London                       37198 non-null  int64  \n 113 city_New_York                     37198 non-null  int64  \n 114 city_San_Francisco                37198 non-null  int64  \n 115 city_Singapore                    37198 non-null  int64  \n 116 city_Beijing                      37198 non-null  int64  \n 117 city_Toronto                      37198 non-null  int64  \n 118 city_Shanghai                     37198 non-null  int64  \n 119 city_Los_Angeles                  37198 non-null  int64  \n 120 city_Chicago                      37198 non-null  int64  \n 121 city_Shenzhen                     37198 non-null  int64  \n 122 has_acquisitions                  37198 non-null  int64  \n 123 has_ipo                           37198 non-null  int64  \n 124 time_in_year                      8335 non-null   float64\n 125 investment_delta                  3644 non-null   object \n 126 norm_amount_delta                 3644 non-null   object \n 127 momentum                          3644 non-null   object \n 128 ROI                               3644 non-null   float64\n 129 max_norm_amount_delta             3644 non-null   float64\n 130 mean_norm_amount_delta            3644 non-null   float64\n 131 roi_from_mean_momentum            3644 non-null   float64\ndtypes: float64(57), int64(60), object(15)\nmemory usage: 37.5+ MB\n"
     ]
    }
   ],
   "source": [
    "# read CSV\n",
    "df=pd.read_csv(\"unifed_csv_without_duplicated_company.csv\")\n",
    "df.info(max_cols=1000)"
   ]
  },
  {
   "cell_type": "code",
   "execution_count": 3,
   "metadata": {},
   "outputs": [],
   "source": [
    "keep_col = ['operating', 'closed', 'success', 'Financial Services', 'FinTech', 'Blockchain', 'Cryptocurrency', 'fund_rd_raised_amount_usd', 'investment_count', 'any_partner', 'event_count', 'job_duration', 'gender_male', 'gender_female', 'degree_type', 'subject_Computer Science', 'subject_Economics', 'subject_Finance', 'USA', 'GBR', 'CHN', 'city_London', 'city_New_York', 'city_San_Francisco', 'mean_norm_amount_delta']\n",
    "df = df[keep_col]"
   ]
  },
  {
   "cell_type": "code",
   "execution_count": 4,
   "metadata": {},
   "outputs": [],
   "source": [
    "df['fund_rd_raised_amount_usd'] = np.log(df['fund_rd_raised_amount_usd'])"
   ]
  },
  {
   "cell_type": "code",
   "execution_count": 5,
   "metadata": {},
   "outputs": [],
   "source": [
    "# df.replace([np.inf, -np.inf], np.nan, inplace=True).dropna(inplace=True)\n",
    "df.dropna(inplace=True)"
   ]
  },
  {
   "cell_type": "code",
   "execution_count": 6,
   "metadata": {},
   "outputs": [
    {
     "output_type": "stream",
     "name": "stdout",
     "text": [
      "<class 'pandas.core.frame.DataFrame'>\nInt64Index: 2898 entries, 10 to 37197\nData columns (total 25 columns):\n #   Column                     Non-Null Count  Dtype  \n---  ------                     --------------  -----  \n 0   operating                  2898 non-null   int64  \n 1   closed                     2898 non-null   int64  \n 2   success                    2898 non-null   int64  \n 3   Financial Services         2898 non-null   int64  \n 4   FinTech                    2898 non-null   int64  \n 5   Blockchain                 2898 non-null   int64  \n 6   Cryptocurrency             2898 non-null   int64  \n 7   fund_rd_raised_amount_usd  2898 non-null   float64\n 8   investment_count           2898 non-null   float64\n 9   any_partner                2898 non-null   float64\n 10  event_count                2898 non-null   float64\n 11  job_duration               2898 non-null   float64\n 12  gender_male                2898 non-null   float64\n 13  gender_female              2898 non-null   float64\n 14  degree_type                2898 non-null   float64\n 15  subject_Computer Science   2898 non-null   float64\n 16  subject_Economics          2898 non-null   float64\n 17  subject_Finance            2898 non-null   float64\n 18  USA                        2898 non-null   int64  \n 19  GBR                        2898 non-null   int64  \n 20  CHN                        2898 non-null   int64  \n 21  city_London                2898 non-null   int64  \n 22  city_New_York              2898 non-null   int64  \n 23  city_San_Francisco         2898 non-null   int64  \n 24  mean_norm_amount_delta     2898 non-null   float64\ndtypes: float64(12), int64(13)\nmemory usage: 588.7 KB\n"
     ]
    }
   ],
   "source": [
    "df.info()"
   ]
  },
  {
   "cell_type": "code",
   "execution_count": 7,
   "metadata": {},
   "outputs": [],
   "source": [
    "# df['roi_from_mean_momentum'].max()"
   ]
  },
  {
   "cell_type": "code",
   "execution_count": 8,
   "metadata": {},
   "outputs": [],
   "source": [
    "y = df['mean_norm_amount_delta']\n",
    "X = df.drop(columns='mean_norm_amount_delta')"
   ]
  },
  {
   "cell_type": "code",
   "execution_count": 9,
   "metadata": {},
   "outputs": [
    {
     "output_type": "error",
     "ename": "ValueError",
     "evalue": "Input contains NaN, infinity or a value too large for dtype('float64').",
     "traceback": [
      "\u001b[1;31m---------------------------------------------------------------------------\u001b[0m",
      "\u001b[1;31mValueError\u001b[0m                                Traceback (most recent call last)",
      "\u001b[1;32m<ipython-input-9-4d6c7a43af4d>\u001b[0m in \u001b[0;36m<module>\u001b[1;34m\u001b[0m\n\u001b[0;32m      1\u001b[0m \u001b[0mX_train\u001b[0m\u001b[1;33m,\u001b[0m \u001b[0mX_test\u001b[0m\u001b[1;33m,\u001b[0m \u001b[0my_train\u001b[0m\u001b[1;33m,\u001b[0m \u001b[0my_test\u001b[0m \u001b[1;33m=\u001b[0m \u001b[0mtrain_test_split\u001b[0m\u001b[1;33m(\u001b[0m\u001b[0mX\u001b[0m\u001b[1;33m,\u001b[0m \u001b[0my\u001b[0m\u001b[1;33m,\u001b[0m \u001b[0mtest_size\u001b[0m\u001b[1;33m=\u001b[0m\u001b[1;36m0.3\u001b[0m\u001b[1;33m,\u001b[0m \u001b[0mrandom_state\u001b[0m\u001b[1;33m=\u001b[0m\u001b[1;36m0\u001b[0m\u001b[1;33m)\u001b[0m\u001b[1;33m\u001b[0m\u001b[1;33m\u001b[0m\u001b[0m\n\u001b[0;32m      2\u001b[0m \u001b[0mlogreg\u001b[0m \u001b[1;33m=\u001b[0m \u001b[0mLogisticRegression\u001b[0m\u001b[1;33m(\u001b[0m\u001b[1;33m)\u001b[0m\u001b[1;33m\u001b[0m\u001b[1;33m\u001b[0m\u001b[0m\n\u001b[1;32m----> 3\u001b[1;33m \u001b[0mlogreg\u001b[0m\u001b[1;33m.\u001b[0m\u001b[0mfit\u001b[0m\u001b[1;33m(\u001b[0m\u001b[0mX_train\u001b[0m\u001b[1;33m,\u001b[0m \u001b[0my_train\u001b[0m\u001b[1;33m)\u001b[0m\u001b[1;33m\u001b[0m\u001b[1;33m\u001b[0m\u001b[0m\n\u001b[0m",
      "\u001b[1;32m~\\anaconda3\\lib\\site-packages\\sklearn\\linear_model\\_logistic.py\u001b[0m in \u001b[0;36mfit\u001b[1;34m(self, X, y, sample_weight)\u001b[0m\n\u001b[0;32m   1340\u001b[0m             \u001b[0m_dtype\u001b[0m \u001b[1;33m=\u001b[0m \u001b[1;33m[\u001b[0m\u001b[0mnp\u001b[0m\u001b[1;33m.\u001b[0m\u001b[0mfloat64\u001b[0m\u001b[1;33m,\u001b[0m \u001b[0mnp\u001b[0m\u001b[1;33m.\u001b[0m\u001b[0mfloat32\u001b[0m\u001b[1;33m]\u001b[0m\u001b[1;33m\u001b[0m\u001b[1;33m\u001b[0m\u001b[0m\n\u001b[0;32m   1341\u001b[0m \u001b[1;33m\u001b[0m\u001b[0m\n\u001b[1;32m-> 1342\u001b[1;33m         X, y = self._validate_data(X, y, accept_sparse='csr', dtype=_dtype,\n\u001b[0m\u001b[0;32m   1343\u001b[0m                                    \u001b[0morder\u001b[0m\u001b[1;33m=\u001b[0m\u001b[1;34m\"C\"\u001b[0m\u001b[1;33m,\u001b[0m\u001b[1;33m\u001b[0m\u001b[1;33m\u001b[0m\u001b[0m\n\u001b[0;32m   1344\u001b[0m                                    accept_large_sparse=solver != 'liblinear')\n",
      "\u001b[1;32m~\\anaconda3\\lib\\site-packages\\sklearn\\base.py\u001b[0m in \u001b[0;36m_validate_data\u001b[1;34m(self, X, y, reset, validate_separately, **check_params)\u001b[0m\n\u001b[0;32m    430\u001b[0m                 \u001b[0my\u001b[0m \u001b[1;33m=\u001b[0m \u001b[0mcheck_array\u001b[0m\u001b[1;33m(\u001b[0m\u001b[0my\u001b[0m\u001b[1;33m,\u001b[0m \u001b[1;33m**\u001b[0m\u001b[0mcheck_y_params\u001b[0m\u001b[1;33m)\u001b[0m\u001b[1;33m\u001b[0m\u001b[1;33m\u001b[0m\u001b[0m\n\u001b[0;32m    431\u001b[0m             \u001b[1;32melse\u001b[0m\u001b[1;33m:\u001b[0m\u001b[1;33m\u001b[0m\u001b[1;33m\u001b[0m\u001b[0m\n\u001b[1;32m--> 432\u001b[1;33m                 \u001b[0mX\u001b[0m\u001b[1;33m,\u001b[0m \u001b[0my\u001b[0m \u001b[1;33m=\u001b[0m \u001b[0mcheck_X_y\u001b[0m\u001b[1;33m(\u001b[0m\u001b[0mX\u001b[0m\u001b[1;33m,\u001b[0m \u001b[0my\u001b[0m\u001b[1;33m,\u001b[0m \u001b[1;33m**\u001b[0m\u001b[0mcheck_params\u001b[0m\u001b[1;33m)\u001b[0m\u001b[1;33m\u001b[0m\u001b[1;33m\u001b[0m\u001b[0m\n\u001b[0m\u001b[0;32m    433\u001b[0m             \u001b[0mout\u001b[0m \u001b[1;33m=\u001b[0m \u001b[0mX\u001b[0m\u001b[1;33m,\u001b[0m \u001b[0my\u001b[0m\u001b[1;33m\u001b[0m\u001b[1;33m\u001b[0m\u001b[0m\n\u001b[0;32m    434\u001b[0m \u001b[1;33m\u001b[0m\u001b[0m\n",
      "\u001b[1;32m~\\anaconda3\\lib\\site-packages\\sklearn\\utils\\validation.py\u001b[0m in \u001b[0;36minner_f\u001b[1;34m(*args, **kwargs)\u001b[0m\n\u001b[0;32m     71\u001b[0m                           FutureWarning)\n\u001b[0;32m     72\u001b[0m         \u001b[0mkwargs\u001b[0m\u001b[1;33m.\u001b[0m\u001b[0mupdate\u001b[0m\u001b[1;33m(\u001b[0m\u001b[1;33m{\u001b[0m\u001b[0mk\u001b[0m\u001b[1;33m:\u001b[0m \u001b[0marg\u001b[0m \u001b[1;32mfor\u001b[0m \u001b[0mk\u001b[0m\u001b[1;33m,\u001b[0m \u001b[0marg\u001b[0m \u001b[1;32min\u001b[0m \u001b[0mzip\u001b[0m\u001b[1;33m(\u001b[0m\u001b[0msig\u001b[0m\u001b[1;33m.\u001b[0m\u001b[0mparameters\u001b[0m\u001b[1;33m,\u001b[0m \u001b[0margs\u001b[0m\u001b[1;33m)\u001b[0m\u001b[1;33m}\u001b[0m\u001b[1;33m)\u001b[0m\u001b[1;33m\u001b[0m\u001b[1;33m\u001b[0m\u001b[0m\n\u001b[1;32m---> 73\u001b[1;33m         \u001b[1;32mreturn\u001b[0m \u001b[0mf\u001b[0m\u001b[1;33m(\u001b[0m\u001b[1;33m**\u001b[0m\u001b[0mkwargs\u001b[0m\u001b[1;33m)\u001b[0m\u001b[1;33m\u001b[0m\u001b[1;33m\u001b[0m\u001b[0m\n\u001b[0m\u001b[0;32m     74\u001b[0m     \u001b[1;32mreturn\u001b[0m \u001b[0minner_f\u001b[0m\u001b[1;33m\u001b[0m\u001b[1;33m\u001b[0m\u001b[0m\n\u001b[0;32m     75\u001b[0m \u001b[1;33m\u001b[0m\u001b[0m\n",
      "\u001b[1;32m~\\anaconda3\\lib\\site-packages\\sklearn\\utils\\validation.py\u001b[0m in \u001b[0;36mcheck_X_y\u001b[1;34m(X, y, accept_sparse, accept_large_sparse, dtype, order, copy, force_all_finite, ensure_2d, allow_nd, multi_output, ensure_min_samples, ensure_min_features, y_numeric, estimator)\u001b[0m\n\u001b[0;32m    794\u001b[0m         \u001b[1;32mraise\u001b[0m \u001b[0mValueError\u001b[0m\u001b[1;33m(\u001b[0m\u001b[1;34m\"y cannot be None\"\u001b[0m\u001b[1;33m)\u001b[0m\u001b[1;33m\u001b[0m\u001b[1;33m\u001b[0m\u001b[0m\n\u001b[0;32m    795\u001b[0m \u001b[1;33m\u001b[0m\u001b[0m\n\u001b[1;32m--> 796\u001b[1;33m     X = check_array(X, accept_sparse=accept_sparse,\n\u001b[0m\u001b[0;32m    797\u001b[0m                     \u001b[0maccept_large_sparse\u001b[0m\u001b[1;33m=\u001b[0m\u001b[0maccept_large_sparse\u001b[0m\u001b[1;33m,\u001b[0m\u001b[1;33m\u001b[0m\u001b[1;33m\u001b[0m\u001b[0m\n\u001b[0;32m    798\u001b[0m                     \u001b[0mdtype\u001b[0m\u001b[1;33m=\u001b[0m\u001b[0mdtype\u001b[0m\u001b[1;33m,\u001b[0m \u001b[0morder\u001b[0m\u001b[1;33m=\u001b[0m\u001b[0morder\u001b[0m\u001b[1;33m,\u001b[0m \u001b[0mcopy\u001b[0m\u001b[1;33m=\u001b[0m\u001b[0mcopy\u001b[0m\u001b[1;33m,\u001b[0m\u001b[1;33m\u001b[0m\u001b[1;33m\u001b[0m\u001b[0m\n",
      "\u001b[1;32m~\\anaconda3\\lib\\site-packages\\sklearn\\utils\\validation.py\u001b[0m in \u001b[0;36minner_f\u001b[1;34m(*args, **kwargs)\u001b[0m\n\u001b[0;32m     71\u001b[0m                           FutureWarning)\n\u001b[0;32m     72\u001b[0m         \u001b[0mkwargs\u001b[0m\u001b[1;33m.\u001b[0m\u001b[0mupdate\u001b[0m\u001b[1;33m(\u001b[0m\u001b[1;33m{\u001b[0m\u001b[0mk\u001b[0m\u001b[1;33m:\u001b[0m \u001b[0marg\u001b[0m \u001b[1;32mfor\u001b[0m \u001b[0mk\u001b[0m\u001b[1;33m,\u001b[0m \u001b[0marg\u001b[0m \u001b[1;32min\u001b[0m \u001b[0mzip\u001b[0m\u001b[1;33m(\u001b[0m\u001b[0msig\u001b[0m\u001b[1;33m.\u001b[0m\u001b[0mparameters\u001b[0m\u001b[1;33m,\u001b[0m \u001b[0margs\u001b[0m\u001b[1;33m)\u001b[0m\u001b[1;33m}\u001b[0m\u001b[1;33m)\u001b[0m\u001b[1;33m\u001b[0m\u001b[1;33m\u001b[0m\u001b[0m\n\u001b[1;32m---> 73\u001b[1;33m         \u001b[1;32mreturn\u001b[0m \u001b[0mf\u001b[0m\u001b[1;33m(\u001b[0m\u001b[1;33m**\u001b[0m\u001b[0mkwargs\u001b[0m\u001b[1;33m)\u001b[0m\u001b[1;33m\u001b[0m\u001b[1;33m\u001b[0m\u001b[0m\n\u001b[0m\u001b[0;32m     74\u001b[0m     \u001b[1;32mreturn\u001b[0m \u001b[0minner_f\u001b[0m\u001b[1;33m\u001b[0m\u001b[1;33m\u001b[0m\u001b[0m\n\u001b[0;32m     75\u001b[0m \u001b[1;33m\u001b[0m\u001b[0m\n",
      "\u001b[1;32m~\\anaconda3\\lib\\site-packages\\sklearn\\utils\\validation.py\u001b[0m in \u001b[0;36mcheck_array\u001b[1;34m(array, accept_sparse, accept_large_sparse, dtype, order, copy, force_all_finite, ensure_2d, allow_nd, ensure_min_samples, ensure_min_features, estimator)\u001b[0m\n\u001b[0;32m    643\u001b[0m \u001b[1;33m\u001b[0m\u001b[0m\n\u001b[0;32m    644\u001b[0m         \u001b[1;32mif\u001b[0m \u001b[0mforce_all_finite\u001b[0m\u001b[1;33m:\u001b[0m\u001b[1;33m\u001b[0m\u001b[1;33m\u001b[0m\u001b[0m\n\u001b[1;32m--> 645\u001b[1;33m             _assert_all_finite(array,\n\u001b[0m\u001b[0;32m    646\u001b[0m                                allow_nan=force_all_finite == 'allow-nan')\n\u001b[0;32m    647\u001b[0m \u001b[1;33m\u001b[0m\u001b[0m\n",
      "\u001b[1;32m~\\anaconda3\\lib\\site-packages\\sklearn\\utils\\validation.py\u001b[0m in \u001b[0;36m_assert_all_finite\u001b[1;34m(X, allow_nan, msg_dtype)\u001b[0m\n\u001b[0;32m     95\u001b[0m                 not allow_nan and not np.isfinite(X).all()):\n\u001b[0;32m     96\u001b[0m             \u001b[0mtype_err\u001b[0m \u001b[1;33m=\u001b[0m \u001b[1;34m'infinity'\u001b[0m \u001b[1;32mif\u001b[0m \u001b[0mallow_nan\u001b[0m \u001b[1;32melse\u001b[0m \u001b[1;34m'NaN, infinity'\u001b[0m\u001b[1;33m\u001b[0m\u001b[1;33m\u001b[0m\u001b[0m\n\u001b[1;32m---> 97\u001b[1;33m             raise ValueError(\n\u001b[0m\u001b[0;32m     98\u001b[0m                     \u001b[0mmsg_err\u001b[0m\u001b[1;33m.\u001b[0m\u001b[0mformat\u001b[0m\u001b[1;33m\u001b[0m\u001b[1;33m\u001b[0m\u001b[0m\n\u001b[0;32m     99\u001b[0m                     (type_err,\n",
      "\u001b[1;31mValueError\u001b[0m: Input contains NaN, infinity or a value too large for dtype('float64')."
     ]
    }
   ],
   "source": [
    "X_train, X_test, y_train, y_test = train_test_split(X, y, test_size=0.3, random_state=0)\n",
    "logreg = LogisticRegression()\n",
    "logreg.fit(X_train, y_train)"
   ]
  },
  {
   "cell_type": "code",
   "execution_count": null,
   "metadata": {},
   "outputs": [],
   "source": [
    "y_pred = logreg.predict(X_test)\n",
    "print('Accuracy of logistic regression classifier on test set: {:.2f}'.format(logreg.score(X_test, y_test)))"
   ]
  },
  {
   "cell_type": "code",
   "execution_count": null,
   "metadata": {},
   "outputs": [],
   "source": [
    "confusion_matrix = confusion_matrix(y_test, y_pred)\n",
    "print(confusion_matrix)"
   ]
  },
  {
   "cell_type": "code",
   "execution_count": null,
   "metadata": {},
   "outputs": [],
   "source": [
    "print(classification_report(y_test, y_pred))"
   ]
  }
 ]
}