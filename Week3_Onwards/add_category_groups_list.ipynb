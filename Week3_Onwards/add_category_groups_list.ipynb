{
 "metadata": {
  "language_info": {
   "codemirror_mode": {
    "name": "ipython",
    "version": 3
   },
   "file_extension": ".py",
   "mimetype": "text/x-python",
   "name": "python",
   "nbconvert_exporter": "python",
   "pygments_lexer": "ipython3",
   "version": "3.8.3-final"
  },
  "orig_nbformat": 2,
  "kernelspec": {
   "name": "python3",
   "display_name": "Python 3",
   "language": "python"
  }
 },
 "nbformat": 4,
 "nbformat_minor": 2,
 "cells": [
  {
   "cell_type": "code",
   "execution_count": 1,
   "metadata": {},
   "outputs": [],
   "source": [
    "import pandas as pd"
   ]
  },
  {
   "cell_type": "code",
   "execution_count": 2,
   "metadata": {},
   "outputs": [
    {
     "output_type": "stream",
     "name": "stdout",
     "text": [
      "<class 'pandas.core.frame.DataFrame'>\nRangeIndex: 3274 entries, 0 to 3273\nData columns (total 97 columns):\n #   Column                                       Non-Null Count  Dtype  \n---  ------                                       --------------  -----  \n 0   company_name                                 3274 non-null   object \n 1   status                                       3274 non-null   object \n 2   num_funding_rounds                           3274 non-null   float64\n 3   total_funding_usd                            3274 non-null   float64\n 4   founded_on                                   3274 non-null   float64\n 5   employee_count                               3274 non-null   object \n 6   cat_pca_0                                    3274 non-null   float64\n 7   cat_pca_1                                    3274 non-null   float64\n 8   cat_pca_2                                    3274 non-null   float64\n 9   cat_pca_3                                    3274 non-null   float64\n 10  cat_pca_4                                    3274 non-null   float64\n 11  fd_rd_latest_investment                      3274 non-null   float64\n 12  fd_rd_investment_type_series_unknown         3274 non-null   float64\n 13  fd_rd_investment_type_grant                  3274 non-null   float64\n 14  fd_rd_investment_type_debt_financing         3274 non-null   float64\n 15  fd_rd_investment_type_pre_seed               3274 non-null   float64\n 16  fd_rd_investment_type_post_ipo_equity        3274 non-null   float64\n 17  fd_rd_investment_type_convertible_note       3274 non-null   float64\n 18  fd_rd_investment_type_equity_crowdfunding    3274 non-null   float64\n 19  fd_rd_investment_type_private_equity         3274 non-null   float64\n 20  fd_rd_investment_type_undisclosed            3274 non-null   float64\n 21  fd_rd_investment_type_post_ipo_debt          3274 non-null   float64\n 22  fd_rd_investment_type_corporate_round        3274 non-null   float64\n 23  fd_rd_investment_type_product_crowdfunding   3274 non-null   float64\n 24  fd_rd_investment_type_non_equity_assistance  3274 non-null   float64\n 25  fd_rd_investment_type_initial_coin_offering  3274 non-null   float64\n 26  fd_rd_investment_type_secondary_market       3274 non-null   float64\n 27  fd_rd_investment_type_post_ipo_secondary     3274 non-null   float64\n 28  fd_rd_num_invested_by_top_100                3274 non-null   float64\n 29  event_count                                  3274 non-null   float64\n 30  job_duration                                 3274 non-null   float64\n 31  gender_male                                  3274 non-null   float64\n 32  gender_female                                3274 non-null   float64\n 33  degree_type                                  3274 non-null   float64\n 34  subject_Business                             3274 non-null   float64\n 35  subject_STEM                                 3274 non-null   float64\n 36  subject_Arts_SoSc                            3274 non-null   float64\n 37  num_exec                                     3274 non-null   float64\n 38  first_fund_raised                            3274 non-null   float64\n 39  first_fund_post_money                        3274 non-null   float64\n 40  first_fund_investor_count                    3274 non-null   float64\n 41  has_parent                                   3274 non-null   int64  \n 42  continent_NA                                 3274 non-null   int64  \n 43  continent_EU                                 3274 non-null   int64  \n 44  continent_AS                                 3274 non-null   int64  \n 45  continent_SA                                 3274 non-null   int64  \n 46  continent_AF                                 3274 non-null   int64  \n 47  continent_OC                                 3274 non-null   int64  \n 48  country_code_USA                             3274 non-null   int64  \n 49  country_code_GBR                             3274 non-null   int64  \n 50  country_code_IND                             3274 non-null   int64  \n 51  country_code_CHN                             3274 non-null   int64  \n 52  country_code_CAN                             3274 non-null   int64  \n 53  country_code_SGP                             3274 non-null   int64  \n 54  country_code_AUS                             3274 non-null   int64  \n 55  country_code_DEU                             3274 non-null   int64  \n 56  country_code_BRA                             3274 non-null   int64  \n 57  country_code_CHE                             3274 non-null   int64  \n 58  country_code_ESP                             3274 non-null   int64  \n 59  country_code_FRA                             3274 non-null   int64  \n 60  country_code_NLD                             3274 non-null   int64  \n 61  country_code_HKG                             3274 non-null   int64  \n 62  country_code_ISR                             3274 non-null   int64  \n 63  country_code_KOR                             3274 non-null   int64  \n 64  country_code_SWE                             3274 non-null   int64  \n 65  country_code_JPN                             3274 non-null   int64  \n 66  country_code_MEX                             3274 non-null   int64  \n 67  country_code_IDN                             3274 non-null   int64  \n 68  city_London                                  3274 non-null   int64  \n 69  city_New York                                3274 non-null   int64  \n 70  city_San Francisco                           3274 non-null   int64  \n 71  city_Singapore                               3274 non-null   int64  \n 72  city_Toronto                                 3274 non-null   int64  \n 73  city_Beijing                                 3274 non-null   int64  \n 74  city_Mumbai                                  3274 non-null   int64  \n 75  city_Los Angeles                             3274 non-null   int64  \n 76  city_Chicago                                 3274 non-null   int64  \n 77  city_Sydney                                  3274 non-null   int64  \n 78  city_Paris                                   3274 non-null   int64  \n 79  city_São Paulo                               3274 non-null   int64  \n 80  city_Tokyo                                   3274 non-null   int64  \n 81  city_Berlin                                  3274 non-null   int64  \n 82  city_Boston                                  3274 non-null   int64  \n 83  city_Stockholm                               3274 non-null   int64  \n 84  city_Shanghai                                3274 non-null   int64  \n 85  city_Tel Aviv                                3274 non-null   int64  \n 86  city_Amsterdam                               3274 non-null   int64  \n 87  city_Madrid                                  3274 non-null   int64  \n 88  status_operating                             3274 non-null   int64  \n 89  status_exited                                3274 non-null   int64  \n 90  status_closed                                3274 non-null   int64  \n 91  has_acquisitions                             3274 non-null   int64  \n 92  has_ipo                                      3274 non-null   int64  \n 93  org_uuid                                     3274 non-null   object \n 94  average_change_in_funds                      3274 non-null   float64\n 95  average_momentum                             3274 non-null   float64\n 96  latest_momentum                              3274 non-null   float64\ndtypes: float64(41), int64(52), object(4)\nmemory usage: 2.4+ MB\n"
     ]
    }
   ],
   "source": [
    "df = pd.read_csv('unifed_csv_with_uuid.csv')\n",
    "df.info()"
   ]
  },
  {
   "cell_type": "code",
   "execution_count": 3,
   "metadata": {},
   "outputs": [
    {
     "output_type": "execute_result",
     "data": {
      "text/plain": [
       "  company_name     status  num_funding_rounds  total_funding_usd  founded_on  \\\n",
       "0    All of Us  operating                 3.0          4025000.0      4.0767   \n",
       "1      PayPlug   acquired                 5.0         13316538.0      8.7507   \n",
       "2     Zeitgold  operating                 5.0         57011648.0      6.0795   \n",
       "3     AID:Tech  operating                10.0          3180350.0      4.7068   \n",
       "4      OwlTing  operating                 4.0          5700000.0     10.4164   \n",
       "\n",
       "  employee_count  cat_pca_0  cat_pca_1  cat_pca_2  cat_pca_3  ...  \\\n",
       "0           1-10        0.0        0.0        0.0        0.0  ...   \n",
       "1          11-50        0.0        0.0        0.0        0.0  ...   \n",
       "2        101-250        0.0        0.0        0.0        0.0  ...   \n",
       "3          11-50        0.0        0.0        0.0        0.0  ...   \n",
       "4        101-250        0.0        0.0        0.0        0.0  ...   \n",
       "\n",
       "   city_Madrid  status_operating  status_exited  status_closed  \\\n",
       "0            0                 1              0              0   \n",
       "1            0                 0              1              0   \n",
       "2            0                 1              0              0   \n",
       "3            0                 1              0              0   \n",
       "4            0                 1              0              0   \n",
       "\n",
       "   has_acquisitions  has_ipo                              org_uuid  \\\n",
       "0                 0        0  63fa63c6-a528-4c86-bf2c-1d49aba1767e   \n",
       "1                 0        0  55003c8d-441c-80bb-2d71-e26d212a9441   \n",
       "2                 0        0  54c9fba5-a3ea-73bb-cf6c-ffcd396e74a3   \n",
       "3                 0        0  c2bd02ac-b368-4324-a9ff-e603f8f909a7   \n",
       "4                 0        0  8b0259e0-2484-61fd-f708-6552fd353336   \n",
       "\n",
       "   average_change_in_funds  average_momentum  latest_momentum  \n",
       "0                 1.478261          2.964229         2.964229  \n",
       "1                 0.557546          0.934681         0.331667  \n",
       "2                 0.579845          0.825104         1.801594  \n",
       "3                 0.515446          0.228600         0.228600  \n",
       "4                 0.908425          0.341418         0.298739  \n",
       "\n",
       "[5 rows x 97 columns]"
      ],
      "text/html": "<div>\n<style scoped>\n    .dataframe tbody tr th:only-of-type {\n        vertical-align: middle;\n    }\n\n    .dataframe tbody tr th {\n        vertical-align: top;\n    }\n\n    .dataframe thead th {\n        text-align: right;\n    }\n</style>\n<table border=\"1\" class=\"dataframe\">\n  <thead>\n    <tr style=\"text-align: right;\">\n      <th></th>\n      <th>company_name</th>\n      <th>status</th>\n      <th>num_funding_rounds</th>\n      <th>total_funding_usd</th>\n      <th>founded_on</th>\n      <th>employee_count</th>\n      <th>cat_pca_0</th>\n      <th>cat_pca_1</th>\n      <th>cat_pca_2</th>\n      <th>cat_pca_3</th>\n      <th>...</th>\n      <th>city_Madrid</th>\n      <th>status_operating</th>\n      <th>status_exited</th>\n      <th>status_closed</th>\n      <th>has_acquisitions</th>\n      <th>has_ipo</th>\n      <th>org_uuid</th>\n      <th>average_change_in_funds</th>\n      <th>average_momentum</th>\n      <th>latest_momentum</th>\n    </tr>\n  </thead>\n  <tbody>\n    <tr>\n      <th>0</th>\n      <td>All of Us</td>\n      <td>operating</td>\n      <td>3.0</td>\n      <td>4025000.0</td>\n      <td>4.0767</td>\n      <td>1-10</td>\n      <td>0.0</td>\n      <td>0.0</td>\n      <td>0.0</td>\n      <td>0.0</td>\n      <td>...</td>\n      <td>0</td>\n      <td>1</td>\n      <td>0</td>\n      <td>0</td>\n      <td>0</td>\n      <td>0</td>\n      <td>63fa63c6-a528-4c86-bf2c-1d49aba1767e</td>\n      <td>1.478261</td>\n      <td>2.964229</td>\n      <td>2.964229</td>\n    </tr>\n    <tr>\n      <th>1</th>\n      <td>PayPlug</td>\n      <td>acquired</td>\n      <td>5.0</td>\n      <td>13316538.0</td>\n      <td>8.7507</td>\n      <td>11-50</td>\n      <td>0.0</td>\n      <td>0.0</td>\n      <td>0.0</td>\n      <td>0.0</td>\n      <td>...</td>\n      <td>0</td>\n      <td>0</td>\n      <td>1</td>\n      <td>0</td>\n      <td>0</td>\n      <td>0</td>\n      <td>55003c8d-441c-80bb-2d71-e26d212a9441</td>\n      <td>0.557546</td>\n      <td>0.934681</td>\n      <td>0.331667</td>\n    </tr>\n    <tr>\n      <th>2</th>\n      <td>Zeitgold</td>\n      <td>operating</td>\n      <td>5.0</td>\n      <td>57011648.0</td>\n      <td>6.0795</td>\n      <td>101-250</td>\n      <td>0.0</td>\n      <td>0.0</td>\n      <td>0.0</td>\n      <td>0.0</td>\n      <td>...</td>\n      <td>0</td>\n      <td>1</td>\n      <td>0</td>\n      <td>0</td>\n      <td>0</td>\n      <td>0</td>\n      <td>54c9fba5-a3ea-73bb-cf6c-ffcd396e74a3</td>\n      <td>0.579845</td>\n      <td>0.825104</td>\n      <td>1.801594</td>\n    </tr>\n    <tr>\n      <th>3</th>\n      <td>AID:Tech</td>\n      <td>operating</td>\n      <td>10.0</td>\n      <td>3180350.0</td>\n      <td>4.7068</td>\n      <td>11-50</td>\n      <td>0.0</td>\n      <td>0.0</td>\n      <td>0.0</td>\n      <td>0.0</td>\n      <td>...</td>\n      <td>0</td>\n      <td>1</td>\n      <td>0</td>\n      <td>0</td>\n      <td>0</td>\n      <td>0</td>\n      <td>c2bd02ac-b368-4324-a9ff-e603f8f909a7</td>\n      <td>0.515446</td>\n      <td>0.228600</td>\n      <td>0.228600</td>\n    </tr>\n    <tr>\n      <th>4</th>\n      <td>OwlTing</td>\n      <td>operating</td>\n      <td>4.0</td>\n      <td>5700000.0</td>\n      <td>10.4164</td>\n      <td>101-250</td>\n      <td>0.0</td>\n      <td>0.0</td>\n      <td>0.0</td>\n      <td>0.0</td>\n      <td>...</td>\n      <td>0</td>\n      <td>1</td>\n      <td>0</td>\n      <td>0</td>\n      <td>0</td>\n      <td>0</td>\n      <td>8b0259e0-2484-61fd-f708-6552fd353336</td>\n      <td>0.908425</td>\n      <td>0.341418</td>\n      <td>0.298739</td>\n    </tr>\n  </tbody>\n</table>\n<p>5 rows × 97 columns</p>\n</div>"
     },
     "metadata": {},
     "execution_count": 3
    }
   ],
   "source": [
    "df.head()"
   ]
  },
  {
   "cell_type": "code",
   "execution_count": 4,
   "metadata": {},
   "outputs": [],
   "source": [
    "org_df = pd.read_csv(\"organizations.csv\")\n",
    "\n",
    "keep_col = ['uuid','category_groups_list']\n",
    "org_df = org_df[keep_col]"
   ]
  },
  {
   "cell_type": "code",
   "execution_count": 5,
   "metadata": {},
   "outputs": [],
   "source": [
    "# filter by category group: keep fintech companies\n",
    "# https://support.crunchbase.com/hc/en-us/articles/360043146954-What-Industries-are-included-in-Crunchbase-\n",
    "org_df.dropna(subset=['category_groups_list'], inplace=True)\n",
    "fintech_category_groups = ['Commerce and Shopping','Financial Services','Lending and Investments','Payments']\n",
    "\n",
    "# categories can be formed from one or more above elementary keywords\n",
    "org_df = org_df[org_df['category_groups_list'].str.contains('|'.join(fintech_category_groups))]\n",
    "for keyword in fintech_category_groups:\n",
    "    org_df[keyword] = org_df['category_groups_list'].str.contains(keyword)*1\n",
    "# original col not dropped coz frontend needs it"
   ]
  },
  {
   "cell_type": "code",
   "execution_count": 6,
   "metadata": {},
   "outputs": [
    {
     "output_type": "execute_result",
     "data": {
      "text/plain": [
       "                                   uuid  \\\n",
       "3  f4d5ab44-058b-298b-ea81-380e6e9a8eec   \n",
       "5  7ca12f7a-2f8e-48b4-a8d1-1a33a0e275b9   \n",
       "6  b08efc27-da40-505a-6f9d-c9e14247bf36   \n",
       "7  8d5c7e48-82da-3025-dd46-346a31bab86f   \n",
       "8  60485007-8856-bbac-aa1b-c535c41f5f47   \n",
       "\n",
       "                                category_groups_list  Commerce and Shopping  \\\n",
       "3  Financial Services,Lending and Investments,Sof...                      0   \n",
       "5  Financial Services,Lending and Investments,Sof...                      0   \n",
       "6  Financial Services,Internet Services,Lending a...                      0   \n",
       "7         Financial Services,Lending and Investments                      0   \n",
       "8  Commerce and Shopping,Internet Services,Media ...                      1   \n",
       "\n",
       "   Financial Services  Lending and Investments  Payments  \n",
       "3                   1                        1         0  \n",
       "5                   1                        1         0  \n",
       "6                   1                        1         0  \n",
       "7                   1                        1         0  \n",
       "8                   0                        0         0  "
      ],
      "text/html": "<div>\n<style scoped>\n    .dataframe tbody tr th:only-of-type {\n        vertical-align: middle;\n    }\n\n    .dataframe tbody tr th {\n        vertical-align: top;\n    }\n\n    .dataframe thead th {\n        text-align: right;\n    }\n</style>\n<table border=\"1\" class=\"dataframe\">\n  <thead>\n    <tr style=\"text-align: right;\">\n      <th></th>\n      <th>uuid</th>\n      <th>category_groups_list</th>\n      <th>Commerce and Shopping</th>\n      <th>Financial Services</th>\n      <th>Lending and Investments</th>\n      <th>Payments</th>\n    </tr>\n  </thead>\n  <tbody>\n    <tr>\n      <th>3</th>\n      <td>f4d5ab44-058b-298b-ea81-380e6e9a8eec</td>\n      <td>Financial Services,Lending and Investments,Sof...</td>\n      <td>0</td>\n      <td>1</td>\n      <td>1</td>\n      <td>0</td>\n    </tr>\n    <tr>\n      <th>5</th>\n      <td>7ca12f7a-2f8e-48b4-a8d1-1a33a0e275b9</td>\n      <td>Financial Services,Lending and Investments,Sof...</td>\n      <td>0</td>\n      <td>1</td>\n      <td>1</td>\n      <td>0</td>\n    </tr>\n    <tr>\n      <th>6</th>\n      <td>b08efc27-da40-505a-6f9d-c9e14247bf36</td>\n      <td>Financial Services,Internet Services,Lending a...</td>\n      <td>0</td>\n      <td>1</td>\n      <td>1</td>\n      <td>0</td>\n    </tr>\n    <tr>\n      <th>7</th>\n      <td>8d5c7e48-82da-3025-dd46-346a31bab86f</td>\n      <td>Financial Services,Lending and Investments</td>\n      <td>0</td>\n      <td>1</td>\n      <td>1</td>\n      <td>0</td>\n    </tr>\n    <tr>\n      <th>8</th>\n      <td>60485007-8856-bbac-aa1b-c535c41f5f47</td>\n      <td>Commerce and Shopping,Internet Services,Media ...</td>\n      <td>1</td>\n      <td>0</td>\n      <td>0</td>\n      <td>0</td>\n    </tr>\n  </tbody>\n</table>\n</div>"
     },
     "metadata": {},
     "execution_count": 6
    }
   ],
   "source": [
    "org_df.head()"
   ]
  },
  {
   "cell_type": "code",
   "execution_count": 7,
   "metadata": {},
   "outputs": [
    {
     "output_type": "stream",
     "name": "stdout",
     "text": [
      "<class 'pandas.core.frame.DataFrame'>\nInt64Index: 244441 entries, 3 to 1230948\nData columns (total 6 columns):\n #   Column                   Non-Null Count   Dtype \n---  ------                   --------------   ----- \n 0   uuid                     244441 non-null  object\n 1   category_groups_list     244441 non-null  object\n 2   Commerce and Shopping    244441 non-null  int32 \n 3   Financial Services       244441 non-null  int32 \n 4   Lending and Investments  244441 non-null  int32 \n 5   Payments                 244441 non-null  int32 \ndtypes: int32(4), object(2)\nmemory usage: 9.3+ MB\n"
     ]
    }
   ],
   "source": [
    "org_df.info()"
   ]
  },
  {
   "cell_type": "code",
   "execution_count": 8,
   "metadata": {},
   "outputs": [
    {
     "output_type": "execute_result",
     "data": {
      "text/plain": [
       "                                     company_name     status  \\\n",
       "org_uuid                                                       \n",
       "63fa63c6-a528-4c86-bf2c-1d49aba1767e    All of Us  operating   \n",
       "55003c8d-441c-80bb-2d71-e26d212a9441      PayPlug   acquired   \n",
       "54c9fba5-a3ea-73bb-cf6c-ffcd396e74a3     Zeitgold  operating   \n",
       "c2bd02ac-b368-4324-a9ff-e603f8f909a7     AID:Tech  operating   \n",
       "8b0259e0-2484-61fd-f708-6552fd353336      OwlTing  operating   \n",
       "\n",
       "                                      num_funding_rounds  total_funding_usd  \\\n",
       "org_uuid                                                                      \n",
       "63fa63c6-a528-4c86-bf2c-1d49aba1767e                 3.0          4025000.0   \n",
       "55003c8d-441c-80bb-2d71-e26d212a9441                 5.0         13316538.0   \n",
       "54c9fba5-a3ea-73bb-cf6c-ffcd396e74a3                 5.0         57011648.0   \n",
       "c2bd02ac-b368-4324-a9ff-e603f8f909a7                10.0          3180350.0   \n",
       "8b0259e0-2484-61fd-f708-6552fd353336                 4.0          5700000.0   \n",
       "\n",
       "                                      founded_on employee_count  cat_pca_0  \\\n",
       "org_uuid                                                                     \n",
       "63fa63c6-a528-4c86-bf2c-1d49aba1767e      4.0767           1-10        0.0   \n",
       "55003c8d-441c-80bb-2d71-e26d212a9441      8.7507          11-50        0.0   \n",
       "54c9fba5-a3ea-73bb-cf6c-ffcd396e74a3      6.0795        101-250        0.0   \n",
       "c2bd02ac-b368-4324-a9ff-e603f8f909a7      4.7068          11-50        0.0   \n",
       "8b0259e0-2484-61fd-f708-6552fd353336     10.4164        101-250        0.0   \n",
       "\n",
       "                                      cat_pca_1  cat_pca_2  cat_pca_3  ...  \\\n",
       "org_uuid                                                               ...   \n",
       "63fa63c6-a528-4c86-bf2c-1d49aba1767e        0.0        0.0        0.0  ...   \n",
       "55003c8d-441c-80bb-2d71-e26d212a9441        0.0        0.0        0.0  ...   \n",
       "54c9fba5-a3ea-73bb-cf6c-ffcd396e74a3        0.0        0.0        0.0  ...   \n",
       "c2bd02ac-b368-4324-a9ff-e603f8f909a7        0.0        0.0        0.0  ...   \n",
       "8b0259e0-2484-61fd-f708-6552fd353336        0.0        0.0        0.0  ...   \n",
       "\n",
       "                                      has_acquisitions  has_ipo  \\\n",
       "org_uuid                                                          \n",
       "63fa63c6-a528-4c86-bf2c-1d49aba1767e                 0        0   \n",
       "55003c8d-441c-80bb-2d71-e26d212a9441                 0        0   \n",
       "54c9fba5-a3ea-73bb-cf6c-ffcd396e74a3                 0        0   \n",
       "c2bd02ac-b368-4324-a9ff-e603f8f909a7                 0        0   \n",
       "8b0259e0-2484-61fd-f708-6552fd353336                 0        0   \n",
       "\n",
       "                                      average_change_in_funds  \\\n",
       "org_uuid                                                        \n",
       "63fa63c6-a528-4c86-bf2c-1d49aba1767e                 1.478261   \n",
       "55003c8d-441c-80bb-2d71-e26d212a9441                 0.557546   \n",
       "54c9fba5-a3ea-73bb-cf6c-ffcd396e74a3                 0.579845   \n",
       "c2bd02ac-b368-4324-a9ff-e603f8f909a7                 0.515446   \n",
       "8b0259e0-2484-61fd-f708-6552fd353336                 0.908425   \n",
       "\n",
       "                                      average_momentum  latest_momentum  \\\n",
       "org_uuid                                                                  \n",
       "63fa63c6-a528-4c86-bf2c-1d49aba1767e          2.964229         2.964229   \n",
       "55003c8d-441c-80bb-2d71-e26d212a9441          0.934681         0.331667   \n",
       "54c9fba5-a3ea-73bb-cf6c-ffcd396e74a3          0.825104         1.801594   \n",
       "c2bd02ac-b368-4324-a9ff-e603f8f909a7          0.228600         0.228600   \n",
       "8b0259e0-2484-61fd-f708-6552fd353336          0.341418         0.298739   \n",
       "\n",
       "                                      category_groups_list  \\\n",
       "org_uuid                                                     \n",
       "63fa63c6-a528-4c86-bf2c-1d49aba1767e                   NaN   \n",
       "55003c8d-441c-80bb-2d71-e26d212a9441                   NaN   \n",
       "54c9fba5-a3ea-73bb-cf6c-ffcd396e74a3                   NaN   \n",
       "c2bd02ac-b368-4324-a9ff-e603f8f909a7                   NaN   \n",
       "8b0259e0-2484-61fd-f708-6552fd353336                   NaN   \n",
       "\n",
       "                                      Commerce and Shopping  \\\n",
       "org_uuid                                                      \n",
       "63fa63c6-a528-4c86-bf2c-1d49aba1767e                    NaN   \n",
       "55003c8d-441c-80bb-2d71-e26d212a9441                    NaN   \n",
       "54c9fba5-a3ea-73bb-cf6c-ffcd396e74a3                    NaN   \n",
       "c2bd02ac-b368-4324-a9ff-e603f8f909a7                    NaN   \n",
       "8b0259e0-2484-61fd-f708-6552fd353336                    NaN   \n",
       "\n",
       "                                      Financial Services  \\\n",
       "org_uuid                                                   \n",
       "63fa63c6-a528-4c86-bf2c-1d49aba1767e                 NaN   \n",
       "55003c8d-441c-80bb-2d71-e26d212a9441                 NaN   \n",
       "54c9fba5-a3ea-73bb-cf6c-ffcd396e74a3                 NaN   \n",
       "c2bd02ac-b368-4324-a9ff-e603f8f909a7                 NaN   \n",
       "8b0259e0-2484-61fd-f708-6552fd353336                 NaN   \n",
       "\n",
       "                                      Lending and Investments  Payments  \n",
       "org_uuid                                                                 \n",
       "63fa63c6-a528-4c86-bf2c-1d49aba1767e                      NaN       NaN  \n",
       "55003c8d-441c-80bb-2d71-e26d212a9441                      NaN       NaN  \n",
       "54c9fba5-a3ea-73bb-cf6c-ffcd396e74a3                      NaN       NaN  \n",
       "c2bd02ac-b368-4324-a9ff-e603f8f909a7                      NaN       NaN  \n",
       "8b0259e0-2484-61fd-f708-6552fd353336                      NaN       NaN  \n",
       "\n",
       "[5 rows x 101 columns]"
      ],
      "text/html": "<div>\n<style scoped>\n    .dataframe tbody tr th:only-of-type {\n        vertical-align: middle;\n    }\n\n    .dataframe tbody tr th {\n        vertical-align: top;\n    }\n\n    .dataframe thead th {\n        text-align: right;\n    }\n</style>\n<table border=\"1\" class=\"dataframe\">\n  <thead>\n    <tr style=\"text-align: right;\">\n      <th></th>\n      <th>company_name</th>\n      <th>status</th>\n      <th>num_funding_rounds</th>\n      <th>total_funding_usd</th>\n      <th>founded_on</th>\n      <th>employee_count</th>\n      <th>cat_pca_0</th>\n      <th>cat_pca_1</th>\n      <th>cat_pca_2</th>\n      <th>cat_pca_3</th>\n      <th>...</th>\n      <th>has_acquisitions</th>\n      <th>has_ipo</th>\n      <th>average_change_in_funds</th>\n      <th>average_momentum</th>\n      <th>latest_momentum</th>\n      <th>category_groups_list</th>\n      <th>Commerce and Shopping</th>\n      <th>Financial Services</th>\n      <th>Lending and Investments</th>\n      <th>Payments</th>\n    </tr>\n    <tr>\n      <th>org_uuid</th>\n      <th></th>\n      <th></th>\n      <th></th>\n      <th></th>\n      <th></th>\n      <th></th>\n      <th></th>\n      <th></th>\n      <th></th>\n      <th></th>\n      <th></th>\n      <th></th>\n      <th></th>\n      <th></th>\n      <th></th>\n      <th></th>\n      <th></th>\n      <th></th>\n      <th></th>\n      <th></th>\n      <th></th>\n    </tr>\n  </thead>\n  <tbody>\n    <tr>\n      <th>63fa63c6-a528-4c86-bf2c-1d49aba1767e</th>\n      <td>All of Us</td>\n      <td>operating</td>\n      <td>3.0</td>\n      <td>4025000.0</td>\n      <td>4.0767</td>\n      <td>1-10</td>\n      <td>0.0</td>\n      <td>0.0</td>\n      <td>0.0</td>\n      <td>0.0</td>\n      <td>...</td>\n      <td>0</td>\n      <td>0</td>\n      <td>1.478261</td>\n      <td>2.964229</td>\n      <td>2.964229</td>\n      <td>NaN</td>\n      <td>NaN</td>\n      <td>NaN</td>\n      <td>NaN</td>\n      <td>NaN</td>\n    </tr>\n    <tr>\n      <th>55003c8d-441c-80bb-2d71-e26d212a9441</th>\n      <td>PayPlug</td>\n      <td>acquired</td>\n      <td>5.0</td>\n      <td>13316538.0</td>\n      <td>8.7507</td>\n      <td>11-50</td>\n      <td>0.0</td>\n      <td>0.0</td>\n      <td>0.0</td>\n      <td>0.0</td>\n      <td>...</td>\n      <td>0</td>\n      <td>0</td>\n      <td>0.557546</td>\n      <td>0.934681</td>\n      <td>0.331667</td>\n      <td>NaN</td>\n      <td>NaN</td>\n      <td>NaN</td>\n      <td>NaN</td>\n      <td>NaN</td>\n    </tr>\n    <tr>\n      <th>54c9fba5-a3ea-73bb-cf6c-ffcd396e74a3</th>\n      <td>Zeitgold</td>\n      <td>operating</td>\n      <td>5.0</td>\n      <td>57011648.0</td>\n      <td>6.0795</td>\n      <td>101-250</td>\n      <td>0.0</td>\n      <td>0.0</td>\n      <td>0.0</td>\n      <td>0.0</td>\n      <td>...</td>\n      <td>0</td>\n      <td>0</td>\n      <td>0.579845</td>\n      <td>0.825104</td>\n      <td>1.801594</td>\n      <td>NaN</td>\n      <td>NaN</td>\n      <td>NaN</td>\n      <td>NaN</td>\n      <td>NaN</td>\n    </tr>\n    <tr>\n      <th>c2bd02ac-b368-4324-a9ff-e603f8f909a7</th>\n      <td>AID:Tech</td>\n      <td>operating</td>\n      <td>10.0</td>\n      <td>3180350.0</td>\n      <td>4.7068</td>\n      <td>11-50</td>\n      <td>0.0</td>\n      <td>0.0</td>\n      <td>0.0</td>\n      <td>0.0</td>\n      <td>...</td>\n      <td>0</td>\n      <td>0</td>\n      <td>0.515446</td>\n      <td>0.228600</td>\n      <td>0.228600</td>\n      <td>NaN</td>\n      <td>NaN</td>\n      <td>NaN</td>\n      <td>NaN</td>\n      <td>NaN</td>\n    </tr>\n    <tr>\n      <th>8b0259e0-2484-61fd-f708-6552fd353336</th>\n      <td>OwlTing</td>\n      <td>operating</td>\n      <td>4.0</td>\n      <td>5700000.0</td>\n      <td>10.4164</td>\n      <td>101-250</td>\n      <td>0.0</td>\n      <td>0.0</td>\n      <td>0.0</td>\n      <td>0.0</td>\n      <td>...</td>\n      <td>0</td>\n      <td>0</td>\n      <td>0.908425</td>\n      <td>0.341418</td>\n      <td>0.298739</td>\n      <td>NaN</td>\n      <td>NaN</td>\n      <td>NaN</td>\n      <td>NaN</td>\n      <td>NaN</td>\n    </tr>\n  </tbody>\n</table>\n<p>5 rows × 101 columns</p>\n</div>"
     },
     "metadata": {},
     "execution_count": 8
    }
   ],
   "source": [
    "# final_df = df.set_index('org_uuid').join(org_df.set_index('uuid'))\n",
    "# final_df = df.merge(org_df,on='zip_code',how='left')\n",
    "final_df.head()"
   ]
  },
  {
   "cell_type": "code",
   "execution_count": 11,
   "metadata": {},
   "outputs": [
    {
     "output_type": "stream",
     "name": "stdout",
     "text": [
      "<class 'pandas.core.frame.DataFrame'>\nIndex: 3274 entries, 63fa63c6-a528-4c86-bf2c-1d49aba1767e to c09637c8-bbaf-bef0-3ebb-39f50f8063fc\nData columns (total 101 columns):\n #   Column                                       Non-Null Count  Dtype  \n---  ------                                       --------------  -----  \n 0   company_name                                 3274 non-null   object \n 1   status                                       3274 non-null   object \n 2   num_funding_rounds                           3274 non-null   float64\n 3   total_funding_usd                            3274 non-null   float64\n 4   founded_on                                   3274 non-null   float64\n 5   employee_count                               3274 non-null   object \n 6   cat_pca_0                                    3274 non-null   float64\n 7   cat_pca_1                                    3274 non-null   float64\n 8   cat_pca_2                                    3274 non-null   float64\n 9   cat_pca_3                                    3274 non-null   float64\n 10  cat_pca_4                                    3274 non-null   float64\n 11  fd_rd_latest_investment                      3274 non-null   float64\n 12  fd_rd_investment_type_series_unknown         3274 non-null   float64\n 13  fd_rd_investment_type_grant                  3274 non-null   float64\n 14  fd_rd_investment_type_debt_financing         3274 non-null   float64\n 15  fd_rd_investment_type_pre_seed               3274 non-null   float64\n 16  fd_rd_investment_type_post_ipo_equity        3274 non-null   float64\n 17  fd_rd_investment_type_convertible_note       3274 non-null   float64\n 18  fd_rd_investment_type_equity_crowdfunding    3274 non-null   float64\n 19  fd_rd_investment_type_private_equity         3274 non-null   float64\n 20  fd_rd_investment_type_undisclosed            3274 non-null   float64\n 21  fd_rd_investment_type_post_ipo_debt          3274 non-null   float64\n 22  fd_rd_investment_type_corporate_round        3274 non-null   float64\n 23  fd_rd_investment_type_product_crowdfunding   3274 non-null   float64\n 24  fd_rd_investment_type_non_equity_assistance  3274 non-null   float64\n 25  fd_rd_investment_type_initial_coin_offering  3274 non-null   float64\n 26  fd_rd_investment_type_secondary_market       3274 non-null   float64\n 27  fd_rd_investment_type_post_ipo_secondary     3274 non-null   float64\n 28  fd_rd_num_invested_by_top_100                3274 non-null   float64\n 29  event_count                                  3274 non-null   float64\n 30  job_duration                                 3274 non-null   float64\n 31  gender_male                                  3274 non-null   float64\n 32  gender_female                                3274 non-null   float64\n 33  degree_type                                  3274 non-null   float64\n 34  subject_Business                             3274 non-null   float64\n 35  subject_STEM                                 3274 non-null   float64\n 36  subject_Arts_SoSc                            3274 non-null   float64\n 37  num_exec                                     3274 non-null   float64\n 38  first_fund_raised                            3274 non-null   float64\n 39  first_fund_post_money                        3274 non-null   float64\n 40  first_fund_investor_count                    3274 non-null   float64\n 41  has_parent                                   3274 non-null   int64  \n 42  continent_NA                                 3274 non-null   int64  \n 43  continent_EU                                 3274 non-null   int64  \n 44  continent_AS                                 3274 non-null   int64  \n 45  continent_SA                                 3274 non-null   int64  \n 46  continent_AF                                 3274 non-null   int64  \n 47  continent_OC                                 3274 non-null   int64  \n 48  country_code_USA                             3274 non-null   int64  \n 49  country_code_GBR                             3274 non-null   int64  \n 50  country_code_IND                             3274 non-null   int64  \n 51  country_code_CHN                             3274 non-null   int64  \n 52  country_code_CAN                             3274 non-null   int64  \n 53  country_code_SGP                             3274 non-null   int64  \n 54  country_code_AUS                             3274 non-null   int64  \n 55  country_code_DEU                             3274 non-null   int64  \n 56  country_code_BRA                             3274 non-null   int64  \n 57  country_code_CHE                             3274 non-null   int64  \n 58  country_code_ESP                             3274 non-null   int64  \n 59  country_code_FRA                             3274 non-null   int64  \n 60  country_code_NLD                             3274 non-null   int64  \n 61  country_code_HKG                             3274 non-null   int64  \n 62  country_code_ISR                             3274 non-null   int64  \n 63  country_code_KOR                             3274 non-null   int64  \n 64  country_code_SWE                             3274 non-null   int64  \n 65  country_code_JPN                             3274 non-null   int64  \n 66  country_code_MEX                             3274 non-null   int64  \n 67  country_code_IDN                             3274 non-null   int64  \n 68  city_London                                  3274 non-null   int64  \n 69  city_New York                                3274 non-null   int64  \n 70  city_San Francisco                           3274 non-null   int64  \n 71  city_Singapore                               3274 non-null   int64  \n 72  city_Toronto                                 3274 non-null   int64  \n 73  city_Beijing                                 3274 non-null   int64  \n 74  city_Mumbai                                  3274 non-null   int64  \n 75  city_Los Angeles                             3274 non-null   int64  \n 76  city_Chicago                                 3274 non-null   int64  \n 77  city_Sydney                                  3274 non-null   int64  \n 78  city_Paris                                   3274 non-null   int64  \n 79  city_São Paulo                               3274 non-null   int64  \n 80  city_Tokyo                                   3274 non-null   int64  \n 81  city_Berlin                                  3274 non-null   int64  \n 82  city_Boston                                  3274 non-null   int64  \n 83  city_Stockholm                               3274 non-null   int64  \n 84  city_Shanghai                                3274 non-null   int64  \n 85  city_Tel Aviv                                3274 non-null   int64  \n 86  city_Amsterdam                               3274 non-null   int64  \n 87  city_Madrid                                  3274 non-null   int64  \n 88  status_operating                             3274 non-null   int64  \n 89  status_exited                                3274 non-null   int64  \n 90  status_closed                                3274 non-null   int64  \n 91  has_acquisitions                             3274 non-null   int64  \n 92  has_ipo                                      3274 non-null   int64  \n 93  average_change_in_funds                      3274 non-null   float64\n 94  average_momentum                             3274 non-null   float64\n 95  latest_momentum                              3274 non-null   float64\n 96  category_groups_list                         0 non-null      object \n 97  Commerce and Shopping                        0 non-null      float64\n 98  Financial Services                           0 non-null      float64\n 99  Lending and Investments                      0 non-null      float64\n 100 Payments                                     0 non-null      float64\ndtypes: float64(45), int64(52), object(4)\nmemory usage: 2.7+ MB\n"
     ]
    }
   ],
   "source": [
    "final_df.info(max_cols=1000)"
   ]
  },
  {
   "cell_type": "code",
   "execution_count": null,
   "metadata": {},
   "outputs": [],
   "source": []
  }
 ]
}