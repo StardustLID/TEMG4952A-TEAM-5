{
 "metadata": {
  "language_info": {
   "codemirror_mode": {
    "name": "ipython",
    "version": 3
   },
   "file_extension": ".py",
   "mimetype": "text/x-python",
   "name": "python",
   "nbconvert_exporter": "python",
   "pygments_lexer": "ipython3",
   "version": "3.8.3-final"
  },
  "orig_nbformat": 2,
  "kernelspec": {
   "name": "python3",
   "display_name": "Python 3",
   "language": "python"
  }
 },
 "nbformat": 4,
 "nbformat_minor": 2,
 "cells": [
  {
   "cell_type": "code",
   "execution_count": 1,
   "metadata": {},
   "outputs": [],
   "source": [
    "import pandas as pd"
   ]
  },
  {
   "cell_type": "code",
   "execution_count": 6,
   "metadata": {},
   "outputs": [
    {
     "output_type": "stream",
     "name": "stdout",
     "text": [
      "<class 'pandas.core.frame.DataFrame'>\nInt64Index: 4031 entries, 0 to 4049\nData columns (total 97 columns):\n #   Column                                       Non-Null Count  Dtype  \n---  ------                                       --------------  -----  \n 0   company_name                                 4031 non-null   object \n 1   status                                       4031 non-null   object \n 2   num_funding_rounds                           4031 non-null   float64\n 3   total_funding_usd                            4031 non-null   float64\n 4   founded_on                                   4031 non-null   float64\n 5   employee_count                               4031 non-null   object \n 6   cat_pca_0                                    4031 non-null   float64\n 7   cat_pca_1                                    4031 non-null   float64\n 8   cat_pca_2                                    4031 non-null   float64\n 9   cat_pca_3                                    4031 non-null   float64\n 10  cat_pca_4                                    4031 non-null   float64\n 11  fd_rd_latest_investment                      4031 non-null   float64\n 12  fd_rd_investment_type_series_unknown         4031 non-null   float64\n 13  fd_rd_investment_type_grant                  4031 non-null   float64\n 14  fd_rd_investment_type_debt_financing         4031 non-null   float64\n 15  fd_rd_investment_type_pre_seed               4031 non-null   float64\n 16  fd_rd_investment_type_post_ipo_equity        4031 non-null   float64\n 17  fd_rd_investment_type_convertible_note       4031 non-null   float64\n 18  fd_rd_investment_type_equity_crowdfunding    4031 non-null   float64\n 19  fd_rd_investment_type_private_equity         4031 non-null   float64\n 20  fd_rd_investment_type_undisclosed            4031 non-null   float64\n 21  fd_rd_investment_type_post_ipo_debt          4031 non-null   float64\n 22  fd_rd_investment_type_corporate_round        4031 non-null   float64\n 23  fd_rd_investment_type_product_crowdfunding   4031 non-null   float64\n 24  fd_rd_investment_type_non_equity_assistance  4031 non-null   float64\n 25  fd_rd_investment_type_initial_coin_offering  4031 non-null   float64\n 26  fd_rd_investment_type_secondary_market       4031 non-null   float64\n 27  fd_rd_investment_type_post_ipo_secondary     4031 non-null   float64\n 28  fd_rd_num_invested_by_top_100                4031 non-null   float64\n 29  event_count                                  4031 non-null   float64\n 30  job_duration                                 4031 non-null   float64\n 31  gender_male                                  4031 non-null   float64\n 32  gender_female                                4031 non-null   float64\n 33  degree_type                                  4031 non-null   float64\n 34  subject_Business                             4031 non-null   float64\n 35  subject_STEM                                 4031 non-null   float64\n 36  subject_Arts_SoSc                            4031 non-null   float64\n 37  num_exec                                     4031 non-null   float64\n 38  first_fund_raised                            4031 non-null   float64\n 39  first_fund_post_money                        3257 non-null   float64\n 40  first_fund_investor_count                    3257 non-null   float64\n 41  has_parent                                   4031 non-null   int64  \n 42  continent_NA                                 4031 non-null   int64  \n 43  continent_EU                                 4031 non-null   int64  \n 44  continent_AS                                 4031 non-null   int64  \n 45  continent_SA                                 4031 non-null   int64  \n 46  continent_AF                                 4031 non-null   int64  \n 47  continent_OC                                 4031 non-null   int64  \n 48  country_code_USA                             4031 non-null   int64  \n 49  country_code_GBR                             4031 non-null   int64  \n 50  country_code_IND                             4031 non-null   int64  \n 51  country_code_CHN                             4031 non-null   int64  \n 52  country_code_CAN                             4031 non-null   int64  \n 53  country_code_SGP                             4031 non-null   int64  \n 54  country_code_AUS                             4031 non-null   int64  \n 55  country_code_DEU                             4031 non-null   int64  \n 56  country_code_BRA                             4031 non-null   int64  \n 57  country_code_CHE                             4031 non-null   int64  \n 58  country_code_ESP                             4031 non-null   int64  \n 59  country_code_FRA                             4031 non-null   int64  \n 60  country_code_NLD                             4031 non-null   int64  \n 61  country_code_HKG                             4031 non-null   int64  \n 62  country_code_ISR                             4031 non-null   int64  \n 63  country_code_KOR                             4031 non-null   int64  \n 64  country_code_SWE                             4031 non-null   int64  \n 65  country_code_JPN                             4031 non-null   int64  \n 66  country_code_MEX                             4031 non-null   int64  \n 67  country_code_IDN                             4031 non-null   int64  \n 68  city_London                                  4031 non-null   int64  \n 69  city_New York                                4031 non-null   int64  \n 70  city_San Francisco                           4031 non-null   int64  \n 71  city_Singapore                               4031 non-null   int64  \n 72  city_Toronto                                 4031 non-null   int64  \n 73  city_Beijing                                 4031 non-null   int64  \n 74  city_Mumbai                                  4031 non-null   int64  \n 75  city_Los Angeles                             4031 non-null   int64  \n 76  city_Chicago                                 4031 non-null   int64  \n 77  city_Sydney                                  4031 non-null   int64  \n 78  city_Paris                                   4031 non-null   int64  \n 79  city_São Paulo                               4031 non-null   int64  \n 80  city_Tokyo                                   4031 non-null   int64  \n 81  city_Berlin                                  4031 non-null   int64  \n 82  city_Boston                                  4031 non-null   int64  \n 83  city_Stockholm                               4031 non-null   int64  \n 84  city_Shanghai                                4031 non-null   int64  \n 85  city_Tel Aviv                                4031 non-null   int64  \n 86  city_Amsterdam                               4031 non-null   int64  \n 87  city_Madrid                                  4031 non-null   int64  \n 88  status_operating                             4031 non-null   int64  \n 89  status_exited                                4031 non-null   int64  \n 90  status_closed                                4031 non-null   int64  \n 91  has_acquisitions                             4031 non-null   int64  \n 92  has_ipo                                      4031 non-null   int64  \n 93  org_uuid                                     4031 non-null   object \n 94  average_change_in_funds                      4031 non-null   float64\n 95  average_momentum                             4031 non-null   float64\n 96  latest_momentum                              4031 non-null   float64\ndtypes: float64(41), int64(52), object(4)\nmemory usage: 3.0+ MB\n"
     ]
    }
   ],
   "source": [
    "df = pd.read_csv('unifed_csv_with_uuid.csv')\n",
    "df.drop_duplicates(subset=['company_name'], inplace=True)\n",
    "df.info()"
   ]
  },
  {
   "cell_type": "code",
   "execution_count": 3,
   "metadata": {},
   "outputs": [
    {
     "output_type": "execute_result",
     "data": {
      "text/plain": [
       "  company_name     status  num_funding_rounds  total_funding_usd  founded_on  \\\n",
       "0    All of Us  operating                 3.0          4025000.0      4.0767   \n",
       "1      PayPlug   acquired                 5.0         13316538.0      8.7507   \n",
       "2     Zeitgold  operating                 5.0         57011648.0      6.0795   \n",
       "3     AID:Tech  operating                10.0          3180350.0      4.7068   \n",
       "4      OwlTing  operating                 4.0          5700000.0     10.4164   \n",
       "\n",
       "  employee_count  cat_pca_0  cat_pca_1  cat_pca_2  cat_pca_3  ...  \\\n",
       "0           1-10        0.0        0.0        0.0        0.0  ...   \n",
       "1          11-50        0.0        0.0        0.0        0.0  ...   \n",
       "2        101-250        0.0        0.0        0.0        0.0  ...   \n",
       "3          11-50        0.0        0.0        0.0        0.0  ...   \n",
       "4        101-250        0.0        0.0        0.0        0.0  ...   \n",
       "\n",
       "   city_Madrid  status_operating  status_exited  status_closed  \\\n",
       "0            0                 1              0              0   \n",
       "1            0                 0              1              0   \n",
       "2            0                 1              0              0   \n",
       "3            0                 1              0              0   \n",
       "4            0                 1              0              0   \n",
       "\n",
       "   has_acquisitions  has_ipo                              org_uuid  \\\n",
       "0                 0        0  00184562-d645-41c5-ae6b-f8e4359efc4d   \n",
       "1                 0        0  00251aad-6e34-0898-8a72-fe8864a90f92   \n",
       "2                 0        0  004a46b6-701c-937a-068b-7c0a5471eaa8   \n",
       "3                 0        0  0052bd88-2c89-e881-3533-0cff4c853d2c   \n",
       "4                 0        0  005cee33-07d2-81f9-c879-2dcf17e2d436   \n",
       "\n",
       "   average_change_in_funds  average_momentum  latest_momentum  \n",
       "0                 1.478261          2.964229         2.964229  \n",
       "1                 0.557546          0.934681         0.331667  \n",
       "2                 0.579845          0.825104         1.801594  \n",
       "3                 0.515446          0.228600         0.228600  \n",
       "4                 0.908425          0.341418         0.298739  \n",
       "\n",
       "[5 rows x 97 columns]"
      ],
      "text/html": "<div>\n<style scoped>\n    .dataframe tbody tr th:only-of-type {\n        vertical-align: middle;\n    }\n\n    .dataframe tbody tr th {\n        vertical-align: top;\n    }\n\n    .dataframe thead th {\n        text-align: right;\n    }\n</style>\n<table border=\"1\" class=\"dataframe\">\n  <thead>\n    <tr style=\"text-align: right;\">\n      <th></th>\n      <th>company_name</th>\n      <th>status</th>\n      <th>num_funding_rounds</th>\n      <th>total_funding_usd</th>\n      <th>founded_on</th>\n      <th>employee_count</th>\n      <th>cat_pca_0</th>\n      <th>cat_pca_1</th>\n      <th>cat_pca_2</th>\n      <th>cat_pca_3</th>\n      <th>...</th>\n      <th>city_Madrid</th>\n      <th>status_operating</th>\n      <th>status_exited</th>\n      <th>status_closed</th>\n      <th>has_acquisitions</th>\n      <th>has_ipo</th>\n      <th>org_uuid</th>\n      <th>average_change_in_funds</th>\n      <th>average_momentum</th>\n      <th>latest_momentum</th>\n    </tr>\n  </thead>\n  <tbody>\n    <tr>\n      <th>0</th>\n      <td>All of Us</td>\n      <td>operating</td>\n      <td>3.0</td>\n      <td>4025000.0</td>\n      <td>4.0767</td>\n      <td>1-10</td>\n      <td>0.0</td>\n      <td>0.0</td>\n      <td>0.0</td>\n      <td>0.0</td>\n      <td>...</td>\n      <td>0</td>\n      <td>1</td>\n      <td>0</td>\n      <td>0</td>\n      <td>0</td>\n      <td>0</td>\n      <td>00184562-d645-41c5-ae6b-f8e4359efc4d</td>\n      <td>1.478261</td>\n      <td>2.964229</td>\n      <td>2.964229</td>\n    </tr>\n    <tr>\n      <th>1</th>\n      <td>PayPlug</td>\n      <td>acquired</td>\n      <td>5.0</td>\n      <td>13316538.0</td>\n      <td>8.7507</td>\n      <td>11-50</td>\n      <td>0.0</td>\n      <td>0.0</td>\n      <td>0.0</td>\n      <td>0.0</td>\n      <td>...</td>\n      <td>0</td>\n      <td>0</td>\n      <td>1</td>\n      <td>0</td>\n      <td>0</td>\n      <td>0</td>\n      <td>00251aad-6e34-0898-8a72-fe8864a90f92</td>\n      <td>0.557546</td>\n      <td>0.934681</td>\n      <td>0.331667</td>\n    </tr>\n    <tr>\n      <th>2</th>\n      <td>Zeitgold</td>\n      <td>operating</td>\n      <td>5.0</td>\n      <td>57011648.0</td>\n      <td>6.0795</td>\n      <td>101-250</td>\n      <td>0.0</td>\n      <td>0.0</td>\n      <td>0.0</td>\n      <td>0.0</td>\n      <td>...</td>\n      <td>0</td>\n      <td>1</td>\n      <td>0</td>\n      <td>0</td>\n      <td>0</td>\n      <td>0</td>\n      <td>004a46b6-701c-937a-068b-7c0a5471eaa8</td>\n      <td>0.579845</td>\n      <td>0.825104</td>\n      <td>1.801594</td>\n    </tr>\n    <tr>\n      <th>3</th>\n      <td>AID:Tech</td>\n      <td>operating</td>\n      <td>10.0</td>\n      <td>3180350.0</td>\n      <td>4.7068</td>\n      <td>11-50</td>\n      <td>0.0</td>\n      <td>0.0</td>\n      <td>0.0</td>\n      <td>0.0</td>\n      <td>...</td>\n      <td>0</td>\n      <td>1</td>\n      <td>0</td>\n      <td>0</td>\n      <td>0</td>\n      <td>0</td>\n      <td>0052bd88-2c89-e881-3533-0cff4c853d2c</td>\n      <td>0.515446</td>\n      <td>0.228600</td>\n      <td>0.228600</td>\n    </tr>\n    <tr>\n      <th>4</th>\n      <td>OwlTing</td>\n      <td>operating</td>\n      <td>4.0</td>\n      <td>5700000.0</td>\n      <td>10.4164</td>\n      <td>101-250</td>\n      <td>0.0</td>\n      <td>0.0</td>\n      <td>0.0</td>\n      <td>0.0</td>\n      <td>...</td>\n      <td>0</td>\n      <td>1</td>\n      <td>0</td>\n      <td>0</td>\n      <td>0</td>\n      <td>0</td>\n      <td>005cee33-07d2-81f9-c879-2dcf17e2d436</td>\n      <td>0.908425</td>\n      <td>0.341418</td>\n      <td>0.298739</td>\n    </tr>\n  </tbody>\n</table>\n<p>5 rows × 97 columns</p>\n</div>"
     },
     "metadata": {},
     "execution_count": 3
    }
   ],
   "source": [
    "df.head()"
   ]
  },
  {
   "cell_type": "code",
   "execution_count": 4,
   "metadata": {},
   "outputs": [],
   "source": [
    "org_df = pd.read_csv(\"organizations.csv\")\n",
    "\n",
    "keep_col = ['uuid','category_groups_list']\n",
    "org_df = org_df[keep_col]"
   ]
  },
  {
   "cell_type": "code",
   "execution_count": 5,
   "metadata": {},
   "outputs": [],
   "source": [
    "# filter by category group: keep fintech companies\n",
    "# https://support.crunchbase.com/hc/en-us/articles/360043146954-What-Industries-are-included-in-Crunchbase-\n",
    "org_df.dropna(subset=['category_groups_list'], inplace=True)\n",
    "fintech_category_groups = ['Commerce and Shopping','Financial Services','Lending and Investments','Payments']\n",
    "\n",
    "# categories can be formed from one or more above elementary keywords\n",
    "org_df = org_df[org_df['category_groups_list'].str.contains('|'.join(fintech_category_groups))]\n",
    "for keyword in fintech_category_groups:\n",
    "    org_df[keyword] = org_df['category_groups_list'].str.contains(keyword)*1\n",
    "# original col not dropped coz frontend needs it"
   ]
  },
  {
   "cell_type": "code",
   "execution_count": 6,
   "metadata": {},
   "outputs": [
    {
     "output_type": "execute_result",
     "data": {
      "text/plain": [
       "                                   uuid  \\\n",
       "3  f4d5ab44-058b-298b-ea81-380e6e9a8eec   \n",
       "5  7ca12f7a-2f8e-48b4-a8d1-1a33a0e275b9   \n",
       "6  b08efc27-da40-505a-6f9d-c9e14247bf36   \n",
       "7  8d5c7e48-82da-3025-dd46-346a31bab86f   \n",
       "8  60485007-8856-bbac-aa1b-c535c41f5f47   \n",
       "\n",
       "                                category_groups_list  Commerce and Shopping  \\\n",
       "3  Financial Services,Lending and Investments,Sof...                      0   \n",
       "5  Financial Services,Lending and Investments,Sof...                      0   \n",
       "6  Financial Services,Internet Services,Lending a...                      0   \n",
       "7         Financial Services,Lending and Investments                      0   \n",
       "8  Commerce and Shopping,Internet Services,Media ...                      1   \n",
       "\n",
       "   Financial Services  Lending and Investments  Payments  \n",
       "3                   1                        1         0  \n",
       "5                   1                        1         0  \n",
       "6                   1                        1         0  \n",
       "7                   1                        1         0  \n",
       "8                   0                        0         0  "
      ],
      "text/html": "<div>\n<style scoped>\n    .dataframe tbody tr th:only-of-type {\n        vertical-align: middle;\n    }\n\n    .dataframe tbody tr th {\n        vertical-align: top;\n    }\n\n    .dataframe thead th {\n        text-align: right;\n    }\n</style>\n<table border=\"1\" class=\"dataframe\">\n  <thead>\n    <tr style=\"text-align: right;\">\n      <th></th>\n      <th>uuid</th>\n      <th>category_groups_list</th>\n      <th>Commerce and Shopping</th>\n      <th>Financial Services</th>\n      <th>Lending and Investments</th>\n      <th>Payments</th>\n    </tr>\n  </thead>\n  <tbody>\n    <tr>\n      <th>3</th>\n      <td>f4d5ab44-058b-298b-ea81-380e6e9a8eec</td>\n      <td>Financial Services,Lending and Investments,Sof...</td>\n      <td>0</td>\n      <td>1</td>\n      <td>1</td>\n      <td>0</td>\n    </tr>\n    <tr>\n      <th>5</th>\n      <td>7ca12f7a-2f8e-48b4-a8d1-1a33a0e275b9</td>\n      <td>Financial Services,Lending and Investments,Sof...</td>\n      <td>0</td>\n      <td>1</td>\n      <td>1</td>\n      <td>0</td>\n    </tr>\n    <tr>\n      <th>6</th>\n      <td>b08efc27-da40-505a-6f9d-c9e14247bf36</td>\n      <td>Financial Services,Internet Services,Lending a...</td>\n      <td>0</td>\n      <td>1</td>\n      <td>1</td>\n      <td>0</td>\n    </tr>\n    <tr>\n      <th>7</th>\n      <td>8d5c7e48-82da-3025-dd46-346a31bab86f</td>\n      <td>Financial Services,Lending and Investments</td>\n      <td>0</td>\n      <td>1</td>\n      <td>1</td>\n      <td>0</td>\n    </tr>\n    <tr>\n      <th>8</th>\n      <td>60485007-8856-bbac-aa1b-c535c41f5f47</td>\n      <td>Commerce and Shopping,Internet Services,Media ...</td>\n      <td>1</td>\n      <td>0</td>\n      <td>0</td>\n      <td>0</td>\n    </tr>\n  </tbody>\n</table>\n</div>"
     },
     "metadata": {},
     "execution_count": 6
    }
   ],
   "source": [
    "org_df.head()"
   ]
  },
  {
   "cell_type": "code",
   "execution_count": 7,
   "metadata": {},
   "outputs": [
    {
     "output_type": "stream",
     "name": "stdout",
     "text": [
      "<class 'pandas.core.frame.DataFrame'>\nInt64Index: 244441 entries, 3 to 1230948\nData columns (total 6 columns):\n #   Column                   Non-Null Count   Dtype \n---  ------                   --------------   ----- \n 0   uuid                     244441 non-null  object\n 1   category_groups_list     244441 non-null  object\n 2   Commerce and Shopping    244441 non-null  int32 \n 3   Financial Services       244441 non-null  int32 \n 4   Lending and Investments  244441 non-null  int32 \n 5   Payments                 244441 non-null  int32 \ndtypes: int32(4), object(2)\nmemory usage: 9.3+ MB\n"
     ]
    }
   ],
   "source": [
    "org_df.info()"
   ]
  },
  {
   "cell_type": "code",
   "execution_count": 8,
   "metadata": {},
   "outputs": [
    {
     "output_type": "execute_result",
     "data": {
      "text/plain": [
       "                                     company_name     status  \\\n",
       "org_uuid                                                       \n",
       "00184562-d645-41c5-ae6b-f8e4359efc4d    All of Us  operating   \n",
       "00251aad-6e34-0898-8a72-fe8864a90f92      PayPlug   acquired   \n",
       "004a46b6-701c-937a-068b-7c0a5471eaa8     Zeitgold  operating   \n",
       "0052bd88-2c89-e881-3533-0cff4c853d2c     AID:Tech  operating   \n",
       "005cee33-07d2-81f9-c879-2dcf17e2d436      OwlTing  operating   \n",
       "\n",
       "                                      num_funding_rounds  total_funding_usd  \\\n",
       "org_uuid                                                                      \n",
       "00184562-d645-41c5-ae6b-f8e4359efc4d                 3.0          4025000.0   \n",
       "00251aad-6e34-0898-8a72-fe8864a90f92                 5.0         13316538.0   \n",
       "004a46b6-701c-937a-068b-7c0a5471eaa8                 5.0         57011648.0   \n",
       "0052bd88-2c89-e881-3533-0cff4c853d2c                10.0          3180350.0   \n",
       "005cee33-07d2-81f9-c879-2dcf17e2d436                 4.0          5700000.0   \n",
       "\n",
       "                                      founded_on employee_count  cat_pca_0  \\\n",
       "org_uuid                                                                     \n",
       "00184562-d645-41c5-ae6b-f8e4359efc4d      4.0767           1-10        0.0   \n",
       "00251aad-6e34-0898-8a72-fe8864a90f92      8.7507          11-50        0.0   \n",
       "004a46b6-701c-937a-068b-7c0a5471eaa8      6.0795        101-250        0.0   \n",
       "0052bd88-2c89-e881-3533-0cff4c853d2c      4.7068          11-50        0.0   \n",
       "005cee33-07d2-81f9-c879-2dcf17e2d436     10.4164        101-250        0.0   \n",
       "\n",
       "                                      cat_pca_1  cat_pca_2  cat_pca_3  ...  \\\n",
       "org_uuid                                                               ...   \n",
       "00184562-d645-41c5-ae6b-f8e4359efc4d        0.0        0.0        0.0  ...   \n",
       "00251aad-6e34-0898-8a72-fe8864a90f92        0.0        0.0        0.0  ...   \n",
       "004a46b6-701c-937a-068b-7c0a5471eaa8        0.0        0.0        0.0  ...   \n",
       "0052bd88-2c89-e881-3533-0cff4c853d2c        0.0        0.0        0.0  ...   \n",
       "005cee33-07d2-81f9-c879-2dcf17e2d436        0.0        0.0        0.0  ...   \n",
       "\n",
       "                                      has_acquisitions  has_ipo  \\\n",
       "org_uuid                                                          \n",
       "00184562-d645-41c5-ae6b-f8e4359efc4d                 0        0   \n",
       "00251aad-6e34-0898-8a72-fe8864a90f92                 0        0   \n",
       "004a46b6-701c-937a-068b-7c0a5471eaa8                 0        0   \n",
       "0052bd88-2c89-e881-3533-0cff4c853d2c                 0        0   \n",
       "005cee33-07d2-81f9-c879-2dcf17e2d436                 0        0   \n",
       "\n",
       "                                      average_change_in_funds  \\\n",
       "org_uuid                                                        \n",
       "00184562-d645-41c5-ae6b-f8e4359efc4d                 1.478261   \n",
       "00251aad-6e34-0898-8a72-fe8864a90f92                 0.557546   \n",
       "004a46b6-701c-937a-068b-7c0a5471eaa8                 0.579845   \n",
       "0052bd88-2c89-e881-3533-0cff4c853d2c                 0.515446   \n",
       "005cee33-07d2-81f9-c879-2dcf17e2d436                 0.908425   \n",
       "\n",
       "                                      average_momentum  latest_momentum  \\\n",
       "org_uuid                                                                  \n",
       "00184562-d645-41c5-ae6b-f8e4359efc4d          2.964229         2.964229   \n",
       "00251aad-6e34-0898-8a72-fe8864a90f92          0.934681         0.331667   \n",
       "004a46b6-701c-937a-068b-7c0a5471eaa8          0.825104         1.801594   \n",
       "0052bd88-2c89-e881-3533-0cff4c853d2c          0.228600         0.228600   \n",
       "005cee33-07d2-81f9-c879-2dcf17e2d436          0.341418         0.298739   \n",
       "\n",
       "                                                                   category_groups_list  \\\n",
       "org_uuid                                                                                  \n",
       "00184562-d645-41c5-ae6b-f8e4359efc4d         Financial Services,Lending and Investments   \n",
       "00251aad-6e34-0898-8a72-fe8864a90f92  Commerce and Shopping,Financial Services,Payments   \n",
       "004a46b6-701c-937a-068b-7c0a5471eaa8  Artificial Intelligence,Data and Analytics,Fin...   \n",
       "0052bd88-2c89-e881-3533-0cff4c853d2c  Financial Services,Government and Military,Inf...   \n",
       "005cee33-07d2-81f9-c879-2dcf17e2d436  Commerce and Shopping,Mobile,Other,Travel and ...   \n",
       "\n",
       "                                      Commerce and Shopping  \\\n",
       "org_uuid                                                      \n",
       "00184562-d645-41c5-ae6b-f8e4359efc4d                    0.0   \n",
       "00251aad-6e34-0898-8a72-fe8864a90f92                    1.0   \n",
       "004a46b6-701c-937a-068b-7c0a5471eaa8                    0.0   \n",
       "0052bd88-2c89-e881-3533-0cff4c853d2c                    0.0   \n",
       "005cee33-07d2-81f9-c879-2dcf17e2d436                    1.0   \n",
       "\n",
       "                                      Financial Services  \\\n",
       "org_uuid                                                   \n",
       "00184562-d645-41c5-ae6b-f8e4359efc4d                 1.0   \n",
       "00251aad-6e34-0898-8a72-fe8864a90f92                 1.0   \n",
       "004a46b6-701c-937a-068b-7c0a5471eaa8                 1.0   \n",
       "0052bd88-2c89-e881-3533-0cff4c853d2c                 1.0   \n",
       "005cee33-07d2-81f9-c879-2dcf17e2d436                 0.0   \n",
       "\n",
       "                                      Lending and Investments  Payments  \n",
       "org_uuid                                                                 \n",
       "00184562-d645-41c5-ae6b-f8e4359efc4d                      1.0       0.0  \n",
       "00251aad-6e34-0898-8a72-fe8864a90f92                      0.0       1.0  \n",
       "004a46b6-701c-937a-068b-7c0a5471eaa8                      0.0       0.0  \n",
       "0052bd88-2c89-e881-3533-0cff4c853d2c                      0.0       0.0  \n",
       "005cee33-07d2-81f9-c879-2dcf17e2d436                      0.0       0.0  \n",
       "\n",
       "[5 rows x 101 columns]"
      ],
      "text/html": "<div>\n<style scoped>\n    .dataframe tbody tr th:only-of-type {\n        vertical-align: middle;\n    }\n\n    .dataframe tbody tr th {\n        vertical-align: top;\n    }\n\n    .dataframe thead th {\n        text-align: right;\n    }\n</style>\n<table border=\"1\" class=\"dataframe\">\n  <thead>\n    <tr style=\"text-align: right;\">\n      <th></th>\n      <th>company_name</th>\n      <th>status</th>\n      <th>num_funding_rounds</th>\n      <th>total_funding_usd</th>\n      <th>founded_on</th>\n      <th>employee_count</th>\n      <th>cat_pca_0</th>\n      <th>cat_pca_1</th>\n      <th>cat_pca_2</th>\n      <th>cat_pca_3</th>\n      <th>...</th>\n      <th>has_acquisitions</th>\n      <th>has_ipo</th>\n      <th>average_change_in_funds</th>\n      <th>average_momentum</th>\n      <th>latest_momentum</th>\n      <th>category_groups_list</th>\n      <th>Commerce and Shopping</th>\n      <th>Financial Services</th>\n      <th>Lending and Investments</th>\n      <th>Payments</th>\n    </tr>\n    <tr>\n      <th>org_uuid</th>\n      <th></th>\n      <th></th>\n      <th></th>\n      <th></th>\n      <th></th>\n      <th></th>\n      <th></th>\n      <th></th>\n      <th></th>\n      <th></th>\n      <th></th>\n      <th></th>\n      <th></th>\n      <th></th>\n      <th></th>\n      <th></th>\n      <th></th>\n      <th></th>\n      <th></th>\n      <th></th>\n      <th></th>\n    </tr>\n  </thead>\n  <tbody>\n    <tr>\n      <th>00184562-d645-41c5-ae6b-f8e4359efc4d</th>\n      <td>All of Us</td>\n      <td>operating</td>\n      <td>3.0</td>\n      <td>4025000.0</td>\n      <td>4.0767</td>\n      <td>1-10</td>\n      <td>0.0</td>\n      <td>0.0</td>\n      <td>0.0</td>\n      <td>0.0</td>\n      <td>...</td>\n      <td>0</td>\n      <td>0</td>\n      <td>1.478261</td>\n      <td>2.964229</td>\n      <td>2.964229</td>\n      <td>Financial Services,Lending and Investments</td>\n      <td>0.0</td>\n      <td>1.0</td>\n      <td>1.0</td>\n      <td>0.0</td>\n    </tr>\n    <tr>\n      <th>00251aad-6e34-0898-8a72-fe8864a90f92</th>\n      <td>PayPlug</td>\n      <td>acquired</td>\n      <td>5.0</td>\n      <td>13316538.0</td>\n      <td>8.7507</td>\n      <td>11-50</td>\n      <td>0.0</td>\n      <td>0.0</td>\n      <td>0.0</td>\n      <td>0.0</td>\n      <td>...</td>\n      <td>0</td>\n      <td>0</td>\n      <td>0.557546</td>\n      <td>0.934681</td>\n      <td>0.331667</td>\n      <td>Commerce and Shopping,Financial Services,Payments</td>\n      <td>1.0</td>\n      <td>1.0</td>\n      <td>0.0</td>\n      <td>1.0</td>\n    </tr>\n    <tr>\n      <th>004a46b6-701c-937a-068b-7c0a5471eaa8</th>\n      <td>Zeitgold</td>\n      <td>operating</td>\n      <td>5.0</td>\n      <td>57011648.0</td>\n      <td>6.0795</td>\n      <td>101-250</td>\n      <td>0.0</td>\n      <td>0.0</td>\n      <td>0.0</td>\n      <td>0.0</td>\n      <td>...</td>\n      <td>0</td>\n      <td>0</td>\n      <td>0.579845</td>\n      <td>0.825104</td>\n      <td>1.801594</td>\n      <td>Artificial Intelligence,Data and Analytics,Fin...</td>\n      <td>0.0</td>\n      <td>1.0</td>\n      <td>0.0</td>\n      <td>0.0</td>\n    </tr>\n    <tr>\n      <th>0052bd88-2c89-e881-3533-0cff4c853d2c</th>\n      <td>AID:Tech</td>\n      <td>operating</td>\n      <td>10.0</td>\n      <td>3180350.0</td>\n      <td>4.7068</td>\n      <td>11-50</td>\n      <td>0.0</td>\n      <td>0.0</td>\n      <td>0.0</td>\n      <td>0.0</td>\n      <td>...</td>\n      <td>0</td>\n      <td>0</td>\n      <td>0.515446</td>\n      <td>0.228600</td>\n      <td>0.228600</td>\n      <td>Financial Services,Government and Military,Inf...</td>\n      <td>0.0</td>\n      <td>1.0</td>\n      <td>0.0</td>\n      <td>0.0</td>\n    </tr>\n    <tr>\n      <th>005cee33-07d2-81f9-c879-2dcf17e2d436</th>\n      <td>OwlTing</td>\n      <td>operating</td>\n      <td>4.0</td>\n      <td>5700000.0</td>\n      <td>10.4164</td>\n      <td>101-250</td>\n      <td>0.0</td>\n      <td>0.0</td>\n      <td>0.0</td>\n      <td>0.0</td>\n      <td>...</td>\n      <td>0</td>\n      <td>0</td>\n      <td>0.908425</td>\n      <td>0.341418</td>\n      <td>0.298739</td>\n      <td>Commerce and Shopping,Mobile,Other,Travel and ...</td>\n      <td>1.0</td>\n      <td>0.0</td>\n      <td>0.0</td>\n      <td>0.0</td>\n    </tr>\n  </tbody>\n</table>\n<p>5 rows × 101 columns</p>\n</div>"
     },
     "metadata": {},
     "execution_count": 8
    }
   ],
   "source": [
    "final_df = df.set_index('org_uuid').join(org_df.set_index('uuid'))\n",
    "# final_df = df.merge(org_df,on='zip_code',how='left')\n",
    "final_df.head()"
   ]
  },
  {
   "cell_type": "code",
   "execution_count": 9,
   "metadata": {},
   "outputs": [
    {
     "output_type": "stream",
     "name": "stdout",
     "text": [
      "<class 'pandas.core.frame.DataFrame'>\nIndex: 4050 entries, 00184562-d645-41c5-ae6b-f8e4359efc4d to ffffabce-6d4a-b3d1-13c0-4e90cedf5270\nData columns (total 101 columns):\n #   Column                                       Non-Null Count  Dtype  \n---  ------                                       --------------  -----  \n 0   company_name                                 4050 non-null   object \n 1   status                                       4050 non-null   object \n 2   num_funding_rounds                           4050 non-null   float64\n 3   total_funding_usd                            4050 non-null   float64\n 4   founded_on                                   4050 non-null   float64\n 5   employee_count                               4050 non-null   object \n 6   cat_pca_0                                    4050 non-null   float64\n 7   cat_pca_1                                    4050 non-null   float64\n 8   cat_pca_2                                    4050 non-null   float64\n 9   cat_pca_3                                    4050 non-null   float64\n 10  cat_pca_4                                    4050 non-null   float64\n 11  fd_rd_latest_investment                      4050 non-null   float64\n 12  fd_rd_investment_type_series_unknown         4050 non-null   float64\n 13  fd_rd_investment_type_grant                  4050 non-null   float64\n 14  fd_rd_investment_type_debt_financing         4050 non-null   float64\n 15  fd_rd_investment_type_pre_seed               4050 non-null   float64\n 16  fd_rd_investment_type_post_ipo_equity        4050 non-null   float64\n 17  fd_rd_investment_type_convertible_note       4050 non-null   float64\n 18  fd_rd_investment_type_equity_crowdfunding    4050 non-null   float64\n 19  fd_rd_investment_type_private_equity         4050 non-null   float64\n 20  fd_rd_investment_type_undisclosed            4050 non-null   float64\n 21  fd_rd_investment_type_post_ipo_debt          4050 non-null   float64\n 22  fd_rd_investment_type_corporate_round        4050 non-null   float64\n 23  fd_rd_investment_type_product_crowdfunding   4050 non-null   float64\n 24  fd_rd_investment_type_non_equity_assistance  4050 non-null   float64\n 25  fd_rd_investment_type_initial_coin_offering  4050 non-null   float64\n 26  fd_rd_investment_type_secondary_market       4050 non-null   float64\n 27  fd_rd_investment_type_post_ipo_secondary     4050 non-null   float64\n 28  fd_rd_num_invested_by_top_100                4050 non-null   float64\n 29  event_count                                  4050 non-null   float64\n 30  job_duration                                 4050 non-null   float64\n 31  gender_male                                  4050 non-null   float64\n 32  gender_female                                4050 non-null   float64\n 33  degree_type                                  4050 non-null   float64\n 34  subject_Business                             4050 non-null   float64\n 35  subject_STEM                                 4050 non-null   float64\n 36  subject_Arts_SoSc                            4050 non-null   float64\n 37  num_exec                                     4050 non-null   float64\n 38  first_fund_raised                            4050 non-null   float64\n 39  first_fund_post_money                        3274 non-null   float64\n 40  first_fund_investor_count                    3274 non-null   float64\n 41  has_parent                                   4050 non-null   int64  \n 42  continent_NA                                 4050 non-null   int64  \n 43  continent_EU                                 4050 non-null   int64  \n 44  continent_AS                                 4050 non-null   int64  \n 45  continent_SA                                 4050 non-null   int64  \n 46  continent_AF                                 4050 non-null   int64  \n 47  continent_OC                                 4050 non-null   int64  \n 48  country_code_USA                             4050 non-null   int64  \n 49  country_code_GBR                             4050 non-null   int64  \n 50  country_code_IND                             4050 non-null   int64  \n 51  country_code_CHN                             4050 non-null   int64  \n 52  country_code_CAN                             4050 non-null   int64  \n 53  country_code_SGP                             4050 non-null   int64  \n 54  country_code_AUS                             4050 non-null   int64  \n 55  country_code_DEU                             4050 non-null   int64  \n 56  country_code_BRA                             4050 non-null   int64  \n 57  country_code_CHE                             4050 non-null   int64  \n 58  country_code_ESP                             4050 non-null   int64  \n 59  country_code_FRA                             4050 non-null   int64  \n 60  country_code_NLD                             4050 non-null   int64  \n 61  country_code_HKG                             4050 non-null   int64  \n 62  country_code_ISR                             4050 non-null   int64  \n 63  country_code_KOR                             4050 non-null   int64  \n 64  country_code_SWE                             4050 non-null   int64  \n 65  country_code_JPN                             4050 non-null   int64  \n 66  country_code_MEX                             4050 non-null   int64  \n 67  country_code_IDN                             4050 non-null   int64  \n 68  city_London                                  4050 non-null   int64  \n 69  city_New York                                4050 non-null   int64  \n 70  city_San Francisco                           4050 non-null   int64  \n 71  city_Singapore                               4050 non-null   int64  \n 72  city_Toronto                                 4050 non-null   int64  \n 73  city_Beijing                                 4050 non-null   int64  \n 74  city_Mumbai                                  4050 non-null   int64  \n 75  city_Los Angeles                             4050 non-null   int64  \n 76  city_Chicago                                 4050 non-null   int64  \n 77  city_Sydney                                  4050 non-null   int64  \n 78  city_Paris                                   4050 non-null   int64  \n 79  city_São Paulo                               4050 non-null   int64  \n 80  city_Tokyo                                   4050 non-null   int64  \n 81  city_Berlin                                  4050 non-null   int64  \n 82  city_Boston                                  4050 non-null   int64  \n 83  city_Stockholm                               4050 non-null   int64  \n 84  city_Shanghai                                4050 non-null   int64  \n 85  city_Tel Aviv                                4050 non-null   int64  \n 86  city_Amsterdam                               4050 non-null   int64  \n 87  city_Madrid                                  4050 non-null   int64  \n 88  status_operating                             4050 non-null   int64  \n 89  status_exited                                4050 non-null   int64  \n 90  status_closed                                4050 non-null   int64  \n 91  has_acquisitions                             4050 non-null   int64  \n 92  has_ipo                                      4050 non-null   int64  \n 93  average_change_in_funds                      4050 non-null   float64\n 94  average_momentum                             4050 non-null   float64\n 95  latest_momentum                              4050 non-null   float64\n 96  category_groups_list                         3867 non-null   object \n 97  Commerce and Shopping                        3867 non-null   float64\n 98  Financial Services                           3867 non-null   float64\n 99  Lending and Investments                      3867 non-null   float64\n 100 Payments                                     3867 non-null   float64\ndtypes: float64(45), int64(52), object(4)\nmemory usage: 3.3+ MB\n"
     ]
    }
   ],
   "source": [
    "final_df.info(max_cols=1000)"
   ]
  },
  {
   "cell_type": "code",
   "execution_count": null,
   "metadata": {},
   "outputs": [],
   "source": []
  }
 ]
}