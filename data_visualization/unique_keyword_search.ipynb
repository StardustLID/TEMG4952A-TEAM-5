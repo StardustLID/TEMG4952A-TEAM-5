{
 "metadata": {
  "language_info": {
   "codemirror_mode": {
    "name": "ipython",
    "version": 3
   },
   "file_extension": ".py",
   "mimetype": "text/x-python",
   "name": "python",
   "nbconvert_exporter": "python",
   "pygments_lexer": "ipython3",
   "version": "3.8.3-final"
  },
  "orig_nbformat": 2,
  "kernelspec": {
   "name": "python3",
   "display_name": "Python 3",
   "language": "python"
  }
 },
 "nbformat": 4,
 "nbformat_minor": 2,
 "cells": [
  {
   "source": [
    "This is an example to show the use of unique_keyword_search() defined below."
   ],
   "cell_type": "markdown",
   "metadata": {}
  },
  {
   "cell_type": "code",
   "execution_count": 1,
   "metadata": {},
   "outputs": [],
   "source": [
    "# import library\n",
    "import pandas as pd\n",
    "from collections import Counter"
   ]
  },
  {
   "cell_type": "code",
   "execution_count": 2,
   "metadata": {},
   "outputs": [],
   "source": [
    "df_org = pd.read_csv(\"../bulk_export_processed/cleaned_csv/organizations_cleaned.csv\")"
   ]
  },
  {
   "cell_type": "code",
   "execution_count": 3,
   "metadata": {},
   "outputs": [
    {
     "output_type": "execute_result",
     "data": {
      "text/plain": [
       "                                   uuid country_code      region  \\\n",
       "0  cf3a40e6-920e-edfd-569e-371f84e0a4e4          USA  California   \n",
       "1  fa65a572-1621-dd22-57a8-92bb49217ac5          GBR     England   \n",
       "2  74a20af3-f4dd-6188-de60-c4ee6cd0ca4a          CHN    Zhejiang   \n",
       "3  f33a3674-ec6b-14ca-16dc-437f280dc10b          USA    Virginia   \n",
       "4  8fa7fd0d-d5cc-425d-52cc-a2019e7d42a3          USA  California   \n",
       "\n",
       "            city     status  \\\n",
       "0  San Francisco  operating   \n",
       "1         London  operating   \n",
       "2       Hangzhou  operating   \n",
       "3         Reston  operating   \n",
       "4   Santa Monica  operating   \n",
       "\n",
       "                                       category_list  \\\n",
       "0  Finance,Financial Services,Health Care,Venture...   \n",
       "1         Financial Services,FinTech,Venture Capital   \n",
       "2  Banking,E-Commerce,Financial Services,FinTech,...   \n",
       "3  E-Commerce,Financial Services,Information Tech...   \n",
       "4     Cyber Security,Developer APIs,FinTech,Software   \n",
       "\n",
       "                                category_groups_list  num_funding_rounds  \\\n",
       "0  Financial Services,Health Care,Lending and Inv...                 NaN   \n",
       "1         Financial Services,Lending and Investments                 NaN   \n",
       "2  Commerce and Shopping,Financial Services,Inter...                 4.0   \n",
       "3  Commerce and Shopping,Financial Services,Infor...                 NaN   \n",
       "4  Financial Services,Information Technology,Priv...                 1.0   \n",
       "\n",
       "   total_funding_usd  founded_on last_funding_on closed_on employee_count  \\\n",
       "0                NaN  2015-01-01             NaN       NaN        101-250   \n",
       "1                NaN  2018-01-01             NaN       NaN          11-50   \n",
       "2       2.200000e+10  2014-10-01      2018-06-08       NaN     5001-10000   \n",
       "3                NaN  2015-01-01             NaN       NaN           1-10   \n",
       "4                NaN  2013-08-20      2014-01-23       NaN           1-10   \n",
       "\n",
       "  primary_role  num_exits  \n",
       "0     investor       24.0  \n",
       "1     investor       10.0  \n",
       "2      company       12.0  \n",
       "3     investor       19.0  \n",
       "4      company        NaN  "
      ],
      "text/html": "<div>\n<style scoped>\n    .dataframe tbody tr th:only-of-type {\n        vertical-align: middle;\n    }\n\n    .dataframe tbody tr th {\n        vertical-align: top;\n    }\n\n    .dataframe thead th {\n        text-align: right;\n    }\n</style>\n<table border=\"1\" class=\"dataframe\">\n  <thead>\n    <tr style=\"text-align: right;\">\n      <th></th>\n      <th>uuid</th>\n      <th>country_code</th>\n      <th>region</th>\n      <th>city</th>\n      <th>status</th>\n      <th>category_list</th>\n      <th>category_groups_list</th>\n      <th>num_funding_rounds</th>\n      <th>total_funding_usd</th>\n      <th>founded_on</th>\n      <th>last_funding_on</th>\n      <th>closed_on</th>\n      <th>employee_count</th>\n      <th>primary_role</th>\n      <th>num_exits</th>\n    </tr>\n  </thead>\n  <tbody>\n    <tr>\n      <th>0</th>\n      <td>cf3a40e6-920e-edfd-569e-371f84e0a4e4</td>\n      <td>USA</td>\n      <td>California</td>\n      <td>San Francisco</td>\n      <td>operating</td>\n      <td>Finance,Financial Services,Health Care,Venture...</td>\n      <td>Financial Services,Health Care,Lending and Inv...</td>\n      <td>NaN</td>\n      <td>NaN</td>\n      <td>2015-01-01</td>\n      <td>NaN</td>\n      <td>NaN</td>\n      <td>101-250</td>\n      <td>investor</td>\n      <td>24.0</td>\n    </tr>\n    <tr>\n      <th>1</th>\n      <td>fa65a572-1621-dd22-57a8-92bb49217ac5</td>\n      <td>GBR</td>\n      <td>England</td>\n      <td>London</td>\n      <td>operating</td>\n      <td>Financial Services,FinTech,Venture Capital</td>\n      <td>Financial Services,Lending and Investments</td>\n      <td>NaN</td>\n      <td>NaN</td>\n      <td>2018-01-01</td>\n      <td>NaN</td>\n      <td>NaN</td>\n      <td>11-50</td>\n      <td>investor</td>\n      <td>10.0</td>\n    </tr>\n    <tr>\n      <th>2</th>\n      <td>74a20af3-f4dd-6188-de60-c4ee6cd0ca4a</td>\n      <td>CHN</td>\n      <td>Zhejiang</td>\n      <td>Hangzhou</td>\n      <td>operating</td>\n      <td>Banking,E-Commerce,Financial Services,FinTech,...</td>\n      <td>Commerce and Shopping,Financial Services,Inter...</td>\n      <td>4.0</td>\n      <td>2.200000e+10</td>\n      <td>2014-10-01</td>\n      <td>2018-06-08</td>\n      <td>NaN</td>\n      <td>5001-10000</td>\n      <td>company</td>\n      <td>12.0</td>\n    </tr>\n    <tr>\n      <th>3</th>\n      <td>f33a3674-ec6b-14ca-16dc-437f280dc10b</td>\n      <td>USA</td>\n      <td>Virginia</td>\n      <td>Reston</td>\n      <td>operating</td>\n      <td>E-Commerce,Financial Services,Information Tech...</td>\n      <td>Commerce and Shopping,Financial Services,Infor...</td>\n      <td>NaN</td>\n      <td>NaN</td>\n      <td>2015-01-01</td>\n      <td>NaN</td>\n      <td>NaN</td>\n      <td>1-10</td>\n      <td>investor</td>\n      <td>19.0</td>\n    </tr>\n    <tr>\n      <th>4</th>\n      <td>8fa7fd0d-d5cc-425d-52cc-a2019e7d42a3</td>\n      <td>USA</td>\n      <td>California</td>\n      <td>Santa Monica</td>\n      <td>operating</td>\n      <td>Cyber Security,Developer APIs,FinTech,Software</td>\n      <td>Financial Services,Information Technology,Priv...</td>\n      <td>1.0</td>\n      <td>NaN</td>\n      <td>2013-08-20</td>\n      <td>2014-01-23</td>\n      <td>NaN</td>\n      <td>1-10</td>\n      <td>company</td>\n      <td>NaN</td>\n    </tr>\n  </tbody>\n</table>\n</div>"
     },
     "metadata": {},
     "execution_count": 3
    }
   ],
   "source": [
    "df_org.head()"
   ]
  },
  {
   "cell_type": "code",
   "execution_count": 4,
   "metadata": {},
   "outputs": [
    {
     "output_type": "stream",
     "name": "stdout",
     "text": [
      "Financial Services                                      1882\nFinance,Financial Services                              1492\nFinancial Services,FinTech                               748\nFinance,Financial Services,Venture Capital               692\nFinance                                                  616\n                                                        ... \nFinancial Services,FinTech,Search Engine                   1\nBlockchain,Cryptocurrency,Freelance                        1\nBig Data,Blockchain,Internet,Machine Learning,Mobile       1\nBlockchain,Marketplace,Sharing Economy                     1\nPayments,QR Codes                                          1\nName: category_list, Length: 17450, dtype: int64\n"
     ]
    }
   ],
   "source": [
    "# count the values of categories\n",
    "org_series = df_org['category_list'].value_counts()\n",
    "print(org_series)"
   ]
  },
  {
   "cell_type": "code",
   "execution_count": 5,
   "metadata": {},
   "outputs": [],
   "source": [
    "# Stardust ver unique keyword search\n",
    "def unique_keyword_search(df_col: pd.Series, num_selected: int) -> list:\n",
    "    '''\n",
    "    Performs unique keyword search on a dataframe's column for its most common keywords\n",
    "\n",
    "    :param pd.Series df_col: column of a pd.DataFrame (e.g. df['col'])\n",
    "    :param int num_selected: number of keywords\n",
    "    :return: list of keywords in decreasing occurrence\n",
    "    :rtype: list\n",
    "    '''\n",
    "    keywords = []\n",
    "    for entry in df_col:\n",
    "        words = entry.split(',')\n",
    "        [keywords.append(word) for word in words]\n",
    "    sorted_keywords = Counter(keywords).most_common()\n",
    "    output_keywords = []\n",
    "    for i in range(num_selected):\n",
    "        output_keywords.append(sorted_keywords[i][0])\n",
    "    return output_keywords"
   ]
  },
  {
   "cell_type": "code",
   "execution_count": 6,
   "metadata": {},
   "outputs": [
    {
     "output_type": "execute_result",
     "data": {
      "text/plain": [
       "['Financial Services',\n",
       " 'FinTech',\n",
       " 'Finance',\n",
       " 'Blockchain',\n",
       " 'Information Technology',\n",
       " 'Software',\n",
       " 'Payments',\n",
       " 'Cryptocurrency',\n",
       " 'Venture Capital',\n",
       " 'Internet',\n",
       " 'Banking',\n",
       " 'Consulting',\n",
       " 'Mobile Payments',\n",
       " 'E-Commerce',\n",
       " 'Insurance',\n",
       " 'Bitcoin',\n",
       " 'Artificial Intelligence',\n",
       " 'Mobile',\n",
       " 'Crowdfunding',\n",
       " 'SaaS',\n",
       " 'Real Estate',\n",
       " 'Apps',\n",
       " 'Personal Finance',\n",
       " 'Accounting',\n",
       " 'Mobile Apps',\n",
       " 'Asset Management',\n",
       " 'Marketplace',\n",
       " 'Lending',\n",
       " 'Big Data',\n",
       " 'Machine Learning']"
      ]
     },
     "metadata": {},
     "execution_count": 6
    }
   ],
   "source": [
    "fintech_keywords = unique_keyword_search(df_org['category_list'], 30)\n",
    "fintech_keywords"
   ]
  }
 ]
}