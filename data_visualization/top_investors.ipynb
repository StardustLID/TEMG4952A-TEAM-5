{
 "metadata": {
  "language_info": {
   "codemirror_mode": {
    "name": "ipython",
    "version": 3
   },
   "file_extension": ".py",
   "mimetype": "text/x-python",
   "name": "python",
   "nbconvert_exporter": "python",
   "pygments_lexer": "ipython3",
   "version": "3.8.3-final"
  },
  "orig_nbformat": 2,
  "kernelspec": {
   "name": "python3",
   "display_name": "Python 3",
   "language": "python"
  }
 },
 "nbformat": 4,
 "nbformat_minor": 2,
 "cells": [
  {
   "cell_type": "code",
   "execution_count": 1,
   "metadata": {},
   "outputs": [],
   "source": [
    "# import library\n",
    "import pandas as pd"
   ]
  },
  {
   "cell_type": "code",
   "execution_count": 2,
   "metadata": {},
   "outputs": [],
   "source": [
    "# read the CSV\n",
    "df = pd.read_csv(\"../bulk_export_processed/investors_processed.csv\")\n",
    "# change the cols to keep\n",
    "keep_col = ['uuid','name','investment_count','founded_on','closed_on']\n",
    "df = df[keep_col]"
   ]
  },
  {
   "cell_type": "code",
   "execution_count": 3,
   "metadata": {},
   "outputs": [],
   "source": [
    "df.dropna(axis=0, how='any', subset=['investment_count'], inplace=True)"
   ]
  },
  {
   "cell_type": "code",
   "execution_count": 4,
   "metadata": {},
   "outputs": [],
   "source": [
    "df.drop(df[df['investment_count'] < 100].index, inplace=True)"
   ]
  },
  {
   "cell_type": "code",
   "execution_count": 5,
   "metadata": {},
   "outputs": [],
   "source": [
    "df['investment_count'] = df['investment_count'].astype(int)"
   ]
  },
  {
   "cell_type": "code",
   "execution_count": 6,
   "metadata": {},
   "outputs": [
    {
     "output_type": "stream",
     "name": "stdout",
     "text": [
      "<class 'pandas.core.frame.DataFrame'>\nInt64Index: 763 entries, 1 to 149823\nData columns (total 5 columns):\n #   Column            Non-Null Count  Dtype \n---  ------            --------------  ----- \n 0   uuid              763 non-null    object\n 1   name              763 non-null    object\n 2   investment_count  763 non-null    int32 \n 3   founded_on        744 non-null    object\n 4   closed_on         7 non-null      object\ndtypes: int32(1), object(4)\nmemory usage: 32.8+ KB\n"
     ]
    }
   ],
   "source": [
    "df.info()"
   ]
  },
  {
   "cell_type": "code",
   "execution_count": 7,
   "metadata": {},
   "outputs": [
    {
     "output_type": "execute_result",
     "data": {
      "text/plain": [
       "                                    uuid                       name  \\\n",
       "1   f4d5ab44-058b-298b-ea81-380e6e9a8eec            Omidyar Network   \n",
       "10  7ca12f7a-2f8e-48b4-a8d1-1a33a0e275b9           Trinity Ventures   \n",
       "11  b08efc27-da40-505a-6f9d-c9e14247bf36                      Accel   \n",
       "12  8d5c7e48-82da-3025-dd46-346a31bab86f  Meritech Capital Partners   \n",
       "26  c6fff75f-74e6-5e98-494a-037c4202baf8           Mission Ventures   \n",
       "\n",
       "    investment_count founded_on closed_on  \n",
       "1                315   1/1/2004       NaN  \n",
       "10               444   1/1/1986       NaN  \n",
       "11              1499   1/1/1983       NaN  \n",
       "12               279   1/1/1999       NaN  \n",
       "26               101   1/1/1996       NaN  "
      ],
      "text/html": "<div>\n<style scoped>\n    .dataframe tbody tr th:only-of-type {\n        vertical-align: middle;\n    }\n\n    .dataframe tbody tr th {\n        vertical-align: top;\n    }\n\n    .dataframe thead th {\n        text-align: right;\n    }\n</style>\n<table border=\"1\" class=\"dataframe\">\n  <thead>\n    <tr style=\"text-align: right;\">\n      <th></th>\n      <th>uuid</th>\n      <th>name</th>\n      <th>investment_count</th>\n      <th>founded_on</th>\n      <th>closed_on</th>\n    </tr>\n  </thead>\n  <tbody>\n    <tr>\n      <th>1</th>\n      <td>f4d5ab44-058b-298b-ea81-380e6e9a8eec</td>\n      <td>Omidyar Network</td>\n      <td>315</td>\n      <td>1/1/2004</td>\n      <td>NaN</td>\n    </tr>\n    <tr>\n      <th>10</th>\n      <td>7ca12f7a-2f8e-48b4-a8d1-1a33a0e275b9</td>\n      <td>Trinity Ventures</td>\n      <td>444</td>\n      <td>1/1/1986</td>\n      <td>NaN</td>\n    </tr>\n    <tr>\n      <th>11</th>\n      <td>b08efc27-da40-505a-6f9d-c9e14247bf36</td>\n      <td>Accel</td>\n      <td>1499</td>\n      <td>1/1/1983</td>\n      <td>NaN</td>\n    </tr>\n    <tr>\n      <th>12</th>\n      <td>8d5c7e48-82da-3025-dd46-346a31bab86f</td>\n      <td>Meritech Capital Partners</td>\n      <td>279</td>\n      <td>1/1/1999</td>\n      <td>NaN</td>\n    </tr>\n    <tr>\n      <th>26</th>\n      <td>c6fff75f-74e6-5e98-494a-037c4202baf8</td>\n      <td>Mission Ventures</td>\n      <td>101</td>\n      <td>1/1/1996</td>\n      <td>NaN</td>\n    </tr>\n  </tbody>\n</table>\n</div>"
     },
     "metadata": {},
     "execution_count": 7
    }
   ],
   "source": [
    "df.head()"
   ]
  },
  {
   "cell_type": "code",
   "execution_count": 8,
   "metadata": {},
   "outputs": [],
   "source": [
    "df.sort_values(by='investment_count', axis=0, ascending=False, inplace=True)"
   ]
  },
  {
   "cell_type": "code",
   "execution_count": 9,
   "metadata": {},
   "outputs": [
    {
     "output_type": "execute_result",
     "data": {
      "text/plain": [
       "                                       uuid  \\\n",
       "27418  1d0c86bf-c986-6b40-d757-4d97cdd5d877   \n",
       "2270   73633ee4-ea65-2967-6c5d-9b5fec7d2d5e   \n",
       "51976  3718597a-dd39-6661-3630-09cdd43bcac2   \n",
       "15698  56e40f50-97c7-2a77-255d-1d97d5f30646   \n",
       "724    47b84763-9727-7cdf-b194-2742e3963147   \n",
       "13792  39041e62-6b24-ae8d-1347-4cea947e832c   \n",
       "11     b08efc27-da40-505a-6f9d-c9e14247bf36   \n",
       "45     0c867fde-2b9a-df10-fdb9-66b74f355f91   \n",
       "1774   f3716725-552d-b9b5-59ad-de4ec64b1751   \n",
       "14705  183692b0-b175-b125-89ce-2badd9f56b55   \n",
       "1753   343a0c91-d3b9-80fa-2330-cfde495decf1   \n",
       "53684  1f091122-81cf-fc14-e315-17f351495916   \n",
       "83     2d0a5bf0-e53e-9a07-2243-9bcd561421ec   \n",
       "21639  ac41030f-c20d-0060-3f0a-37f0eee13779   \n",
       "20250  01a2a666-577c-1673-eba6-74c02aaf2e80   \n",
       "16463  93c87ab7-7cee-5c54-9941-104693dbbdba   \n",
       "84     beadb218-e5fa-2686-bc95-4dfaa9acc2e8   \n",
       "9837   d7aaabbf-a2c0-dffe-0c55-4fadd678c289   \n",
       "10111  902deab4-ec41-68ce-d9df-c0c959578176   \n",
       "13301  3bfb69a8-61b6-ec30-1512-73bd1ca35bc5   \n",
       "\n",
       "                                       name  investment_count founded_on  \\\n",
       "27418  EASME - EU Executive Agency for SMEs              3715   1/1/2004   \n",
       "2270                           Y Combinator              3272   1/3/2005   \n",
       "51976                             Techstars              3093   1/8/2006   \n",
       "15698                          500 Startups              2427   1/4/2010   \n",
       "724               New Enterprise Associates              1874   1/1/1977   \n",
       "13792                                  SOSV              1830  19/4/1994   \n",
       "11                                    Accel              1499   1/1/1983   \n",
       "45                          Sequoia Capital              1427  1/11/1972   \n",
       "1774                          Intel Capital              1418   1/1/1991   \n",
       "14705                         MassChallenge              1342   1/6/2009   \n",
       "1753                            IDG Capital              1238   1/1/1992   \n",
       "53684                          Venture Kick              1231   1/9/2007   \n",
       "83                          Kleiner Perkins              1213   1/3/1972   \n",
       "21639                                 Wayra              1158   1/4/2011   \n",
       "20250                             Crowdcube              1133   1/8/2010   \n",
       "16463                         plug and play              1072   1/1/2006   \n",
       "84                Bessemer Venture Partners              1010   1/1/1911   \n",
       "9837                                NYSERDA              1004   1/1/1975   \n",
       "10111                              SV Angel               932   1/1/2009   \n",
       "13301         Right Side Capital Management               914   1/1/2010   \n",
       "\n",
       "      closed_on  \n",
       "27418       NaN  \n",
       "2270        NaN  \n",
       "51976       NaN  \n",
       "15698       NaN  \n",
       "724         NaN  \n",
       "13792       NaN  \n",
       "11          NaN  \n",
       "45          NaN  \n",
       "1774        NaN  \n",
       "14705       NaN  \n",
       "1753        NaN  \n",
       "53684       NaN  \n",
       "83          NaN  \n",
       "21639       NaN  \n",
       "20250       NaN  \n",
       "16463       NaN  \n",
       "84          NaN  \n",
       "9837        NaN  \n",
       "10111       NaN  \n",
       "13301       NaN  "
      ],
      "text/html": "<div>\n<style scoped>\n    .dataframe tbody tr th:only-of-type {\n        vertical-align: middle;\n    }\n\n    .dataframe tbody tr th {\n        vertical-align: top;\n    }\n\n    .dataframe thead th {\n        text-align: right;\n    }\n</style>\n<table border=\"1\" class=\"dataframe\">\n  <thead>\n    <tr style=\"text-align: right;\">\n      <th></th>\n      <th>uuid</th>\n      <th>name</th>\n      <th>investment_count</th>\n      <th>founded_on</th>\n      <th>closed_on</th>\n    </tr>\n  </thead>\n  <tbody>\n    <tr>\n      <th>27418</th>\n      <td>1d0c86bf-c986-6b40-d757-4d97cdd5d877</td>\n      <td>EASME - EU Executive Agency for SMEs</td>\n      <td>3715</td>\n      <td>1/1/2004</td>\n      <td>NaN</td>\n    </tr>\n    <tr>\n      <th>2270</th>\n      <td>73633ee4-ea65-2967-6c5d-9b5fec7d2d5e</td>\n      <td>Y Combinator</td>\n      <td>3272</td>\n      <td>1/3/2005</td>\n      <td>NaN</td>\n    </tr>\n    <tr>\n      <th>51976</th>\n      <td>3718597a-dd39-6661-3630-09cdd43bcac2</td>\n      <td>Techstars</td>\n      <td>3093</td>\n      <td>1/8/2006</td>\n      <td>NaN</td>\n    </tr>\n    <tr>\n      <th>15698</th>\n      <td>56e40f50-97c7-2a77-255d-1d97d5f30646</td>\n      <td>500 Startups</td>\n      <td>2427</td>\n      <td>1/4/2010</td>\n      <td>NaN</td>\n    </tr>\n    <tr>\n      <th>724</th>\n      <td>47b84763-9727-7cdf-b194-2742e3963147</td>\n      <td>New Enterprise Associates</td>\n      <td>1874</td>\n      <td>1/1/1977</td>\n      <td>NaN</td>\n    </tr>\n    <tr>\n      <th>13792</th>\n      <td>39041e62-6b24-ae8d-1347-4cea947e832c</td>\n      <td>SOSV</td>\n      <td>1830</td>\n      <td>19/4/1994</td>\n      <td>NaN</td>\n    </tr>\n    <tr>\n      <th>11</th>\n      <td>b08efc27-da40-505a-6f9d-c9e14247bf36</td>\n      <td>Accel</td>\n      <td>1499</td>\n      <td>1/1/1983</td>\n      <td>NaN</td>\n    </tr>\n    <tr>\n      <th>45</th>\n      <td>0c867fde-2b9a-df10-fdb9-66b74f355f91</td>\n      <td>Sequoia Capital</td>\n      <td>1427</td>\n      <td>1/11/1972</td>\n      <td>NaN</td>\n    </tr>\n    <tr>\n      <th>1774</th>\n      <td>f3716725-552d-b9b5-59ad-de4ec64b1751</td>\n      <td>Intel Capital</td>\n      <td>1418</td>\n      <td>1/1/1991</td>\n      <td>NaN</td>\n    </tr>\n    <tr>\n      <th>14705</th>\n      <td>183692b0-b175-b125-89ce-2badd9f56b55</td>\n      <td>MassChallenge</td>\n      <td>1342</td>\n      <td>1/6/2009</td>\n      <td>NaN</td>\n    </tr>\n    <tr>\n      <th>1753</th>\n      <td>343a0c91-d3b9-80fa-2330-cfde495decf1</td>\n      <td>IDG Capital</td>\n      <td>1238</td>\n      <td>1/1/1992</td>\n      <td>NaN</td>\n    </tr>\n    <tr>\n      <th>53684</th>\n      <td>1f091122-81cf-fc14-e315-17f351495916</td>\n      <td>Venture Kick</td>\n      <td>1231</td>\n      <td>1/9/2007</td>\n      <td>NaN</td>\n    </tr>\n    <tr>\n      <th>83</th>\n      <td>2d0a5bf0-e53e-9a07-2243-9bcd561421ec</td>\n      <td>Kleiner Perkins</td>\n      <td>1213</td>\n      <td>1/3/1972</td>\n      <td>NaN</td>\n    </tr>\n    <tr>\n      <th>21639</th>\n      <td>ac41030f-c20d-0060-3f0a-37f0eee13779</td>\n      <td>Wayra</td>\n      <td>1158</td>\n      <td>1/4/2011</td>\n      <td>NaN</td>\n    </tr>\n    <tr>\n      <th>20250</th>\n      <td>01a2a666-577c-1673-eba6-74c02aaf2e80</td>\n      <td>Crowdcube</td>\n      <td>1133</td>\n      <td>1/8/2010</td>\n      <td>NaN</td>\n    </tr>\n    <tr>\n      <th>16463</th>\n      <td>93c87ab7-7cee-5c54-9941-104693dbbdba</td>\n      <td>plug and play</td>\n      <td>1072</td>\n      <td>1/1/2006</td>\n      <td>NaN</td>\n    </tr>\n    <tr>\n      <th>84</th>\n      <td>beadb218-e5fa-2686-bc95-4dfaa9acc2e8</td>\n      <td>Bessemer Venture Partners</td>\n      <td>1010</td>\n      <td>1/1/1911</td>\n      <td>NaN</td>\n    </tr>\n    <tr>\n      <th>9837</th>\n      <td>d7aaabbf-a2c0-dffe-0c55-4fadd678c289</td>\n      <td>NYSERDA</td>\n      <td>1004</td>\n      <td>1/1/1975</td>\n      <td>NaN</td>\n    </tr>\n    <tr>\n      <th>10111</th>\n      <td>902deab4-ec41-68ce-d9df-c0c959578176</td>\n      <td>SV Angel</td>\n      <td>932</td>\n      <td>1/1/2009</td>\n      <td>NaN</td>\n    </tr>\n    <tr>\n      <th>13301</th>\n      <td>3bfb69a8-61b6-ec30-1512-73bd1ca35bc5</td>\n      <td>Right Side Capital Management</td>\n      <td>914</td>\n      <td>1/1/2010</td>\n      <td>NaN</td>\n    </tr>\n  </tbody>\n</table>\n</div>"
     },
     "metadata": {},
     "execution_count": 9
    }
   ],
   "source": [
    "df.head(20)"
   ]
  },
  {
   "cell_type": "code",
   "execution_count": null,
   "metadata": {},
   "outputs": [],
   "source": []
  }
 ]
}