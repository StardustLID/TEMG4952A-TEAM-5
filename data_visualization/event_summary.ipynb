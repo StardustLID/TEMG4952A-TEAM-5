{
 "metadata": {
  "language_info": {
   "codemirror_mode": {
    "name": "ipython",
    "version": 3
   },
   "file_extension": ".py",
   "mimetype": "text/x-python",
   "name": "python",
   "nbconvert_exporter": "python",
   "pygments_lexer": "ipython3",
   "version": "3.8.3-final"
  },
  "orig_nbformat": 2,
  "kernelspec": {
   "name": "python3",
   "display_name": "Python 3",
   "language": "python"
  }
 },
 "nbformat": 4,
 "nbformat_minor": 2,
 "cells": [
  {
   "cell_type": "code",
   "execution_count": 1,
   "metadata": {},
   "outputs": [],
   "source": [
    "# import library\n",
    "import pandas as pd"
   ]
  },
  {
   "cell_type": "code",
   "execution_count": 2,
   "metadata": {},
   "outputs": [],
   "source": [
    "# read the CSV\n",
    "df = pd.read_csv(\"../bulk_export_processed/cleaned_csv/event_appearances_cleaned.csv\")\n",
    "# change the cols to keep\n",
    "keep_col = ['participant_name']\n",
    "df = df[keep_col]"
   ]
  },
  {
   "cell_type": "code",
   "execution_count": 3,
   "metadata": {},
   "outputs": [
    {
     "output_type": "execute_result",
     "data": {
      "text/plain": [
       "          participant_name  event_count\n",
       "0                Microsoft          775\n",
       "1                      IBM          644\n",
       "2                    Intel          490\n",
       "3                   Google          438\n",
       "4                    Cisco          415\n",
       "...                    ...          ...\n",
       "219136       Jan Neubacher            1\n",
       "219137           Yuta Miki            1\n",
       "219138  KB Scaffolding LTD            1\n",
       "219139      Lorne Michaels            1\n",
       "219140        SphereOptics            1\n",
       "\n",
       "[219141 rows x 2 columns]"
      ],
      "text/html": "<div>\n<style scoped>\n    .dataframe tbody tr th:only-of-type {\n        vertical-align: middle;\n    }\n\n    .dataframe tbody tr th {\n        vertical-align: top;\n    }\n\n    .dataframe thead th {\n        text-align: right;\n    }\n</style>\n<table border=\"1\" class=\"dataframe\">\n  <thead>\n    <tr style=\"text-align: right;\">\n      <th></th>\n      <th>participant_name</th>\n      <th>event_count</th>\n    </tr>\n  </thead>\n  <tbody>\n    <tr>\n      <th>0</th>\n      <td>Microsoft</td>\n      <td>775</td>\n    </tr>\n    <tr>\n      <th>1</th>\n      <td>IBM</td>\n      <td>644</td>\n    </tr>\n    <tr>\n      <th>2</th>\n      <td>Intel</td>\n      <td>490</td>\n    </tr>\n    <tr>\n      <th>3</th>\n      <td>Google</td>\n      <td>438</td>\n    </tr>\n    <tr>\n      <th>4</th>\n      <td>Cisco</td>\n      <td>415</td>\n    </tr>\n    <tr>\n      <th>...</th>\n      <td>...</td>\n      <td>...</td>\n    </tr>\n    <tr>\n      <th>219136</th>\n      <td>Jan Neubacher</td>\n      <td>1</td>\n    </tr>\n    <tr>\n      <th>219137</th>\n      <td>Yuta Miki</td>\n      <td>1</td>\n    </tr>\n    <tr>\n      <th>219138</th>\n      <td>KB Scaffolding LTD</td>\n      <td>1</td>\n    </tr>\n    <tr>\n      <th>219139</th>\n      <td>Lorne Michaels</td>\n      <td>1</td>\n    </tr>\n    <tr>\n      <th>219140</th>\n      <td>SphereOptics</td>\n      <td>1</td>\n    </tr>\n  </tbody>\n</table>\n<p>219141 rows × 2 columns</p>\n</div>"
     },
     "metadata": {},
     "execution_count": 3
    }
   ],
   "source": [
    "event_count_df = df['participant_name'].value_counts().reset_index(name='event_count')\n",
    "event_count_df.rename(columns={\"index\": \"participant_name\"})"
   ]
  },
  {
   "cell_type": "code",
   "execution_count": 4,
   "metadata": {},
   "outputs": [
    {
     "output_type": "execute_result",
     "data": {
      "text/plain": [
       "                     index  event_count\n",
       "0                Microsoft          775\n",
       "1                      IBM          644\n",
       "2                    Intel          490\n",
       "3                   Google          438\n",
       "4                    Cisco          415\n",
       "...                    ...          ...\n",
       "219136       Jan Neubacher            1\n",
       "219137           Yuta Miki            1\n",
       "219138  KB Scaffolding LTD            1\n",
       "219139      Lorne Michaels            1\n",
       "219140        SphereOptics            1\n",
       "\n",
       "[219141 rows x 2 columns]"
      ],
      "text/html": "<div>\n<style scoped>\n    .dataframe tbody tr th:only-of-type {\n        vertical-align: middle;\n    }\n\n    .dataframe tbody tr th {\n        vertical-align: top;\n    }\n\n    .dataframe thead th {\n        text-align: right;\n    }\n</style>\n<table border=\"1\" class=\"dataframe\">\n  <thead>\n    <tr style=\"text-align: right;\">\n      <th></th>\n      <th>index</th>\n      <th>event_count</th>\n    </tr>\n  </thead>\n  <tbody>\n    <tr>\n      <th>0</th>\n      <td>Microsoft</td>\n      <td>775</td>\n    </tr>\n    <tr>\n      <th>1</th>\n      <td>IBM</td>\n      <td>644</td>\n    </tr>\n    <tr>\n      <th>2</th>\n      <td>Intel</td>\n      <td>490</td>\n    </tr>\n    <tr>\n      <th>3</th>\n      <td>Google</td>\n      <td>438</td>\n    </tr>\n    <tr>\n      <th>4</th>\n      <td>Cisco</td>\n      <td>415</td>\n    </tr>\n    <tr>\n      <th>...</th>\n      <td>...</td>\n      <td>...</td>\n    </tr>\n    <tr>\n      <th>219136</th>\n      <td>Jan Neubacher</td>\n      <td>1</td>\n    </tr>\n    <tr>\n      <th>219137</th>\n      <td>Yuta Miki</td>\n      <td>1</td>\n    </tr>\n    <tr>\n      <th>219138</th>\n      <td>KB Scaffolding LTD</td>\n      <td>1</td>\n    </tr>\n    <tr>\n      <th>219139</th>\n      <td>Lorne Michaels</td>\n      <td>1</td>\n    </tr>\n    <tr>\n      <th>219140</th>\n      <td>SphereOptics</td>\n      <td>1</td>\n    </tr>\n  </tbody>\n</table>\n<p>219141 rows × 2 columns</p>\n</div>"
     },
     "metadata": {},
     "execution_count": 4
    }
   ],
   "source": [
    "# df.reset_index(inplace=True)\n",
    "# df.drop(axis=1, labels='index', inplace=True)\n",
    "event_count_df"
   ]
  },
  {
   "cell_type": "code",
   "execution_count": 5,
   "metadata": {},
   "outputs": [],
   "source": [
    "# event_count_df.to_csv(\"event_summary.csv\", index=False)"
   ]
  }
 ]
}