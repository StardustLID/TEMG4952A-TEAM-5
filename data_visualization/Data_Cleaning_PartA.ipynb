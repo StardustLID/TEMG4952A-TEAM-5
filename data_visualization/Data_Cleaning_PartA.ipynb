{
 "metadata": {
  "language_info": {
   "codemirror_mode": {
    "name": "ipython",
    "version": 3
   },
   "file_extension": ".py",
   "mimetype": "text/x-python",
   "name": "python",
   "nbconvert_exporter": "python",
   "pygments_lexer": "ipython3",
   "version": "3.8.3-final"
  },
  "orig_nbformat": 2,
  "kernelspec": {
   "name": "python3",
   "display_name": "Python 3",
   "language": "python"
  }
 },
 "nbformat": 4,
 "nbformat_minor": 2,
 "cells": [
  {
   "cell_type": "code",
   "execution_count": 1,
   "metadata": {},
   "outputs": [],
   "source": [
    "import pandas as pd\n",
    "pd.options.display.max_columns = None\n",
    "from collections import Counter"
   ]
  },
  {
   "cell_type": "code",
   "execution_count": 2,
   "metadata": {},
   "outputs": [],
   "source": [
    "def unique_keyword_search(df_col: pd.Series, num_selected: int) -> list:\n",
    "    '''\n",
    "    Performs unique keyword search on a dataframe's column for its most common keywords\n",
    "\n",
    "    :param pd.Series df_col: column of a pd.DataFrame (e.g. df['col'])\n",
    "    :param int num_selected: number of keywords\n",
    "    :return: list of keywords in decreasing occurrence\n",
    "    :rtype: list\n",
    "    '''\n",
    "    keywords = []\n",
    "    for entry in df_col:\n",
    "        words = entry.split(',')\n",
    "        [keywords.append(word) for word in words]\n",
    "    sorted_keywords = Counter(keywords).most_common()\n",
    "    output_keywords = []\n",
    "    for i in range(num_selected):\n",
    "        output_keywords.append(sorted_keywords[i][0])\n",
    "    return output_keywords"
   ]
  },
  {
   "cell_type": "code",
   "execution_count": 3,
   "metadata": {},
   "outputs": [],
   "source": [
    "org_df=pd.read_csv(\"org_final_joined_new.csv\")"
   ]
  },
  {
   "cell_type": "code",
   "execution_count": 4,
   "metadata": {},
   "outputs": [
    {
     "output_type": "stream",
     "name": "stdout",
     "text": [
      "<class 'pandas.core.frame.DataFrame'>\nRangeIndex: 1018183 entries, 0 to 1018182\nData columns (total 135 columns):\n #   Column                                          Non-Null Count    Dtype  \n---  ------                                          --------------    -----  \n 0   Unnamed: 0                                      1018183 non-null  int64  \n 1   uuid                                            1018183 non-null  object \n 2   partner_type                                    626902 non-null   object \n 3   country_code                                    1012303 non-null  object \n 4   region                                          1012303 non-null  object \n 5   city                                            1012303 non-null  object \n 6   status                                          1018183 non-null  object \n 7   category_list                                   1018183 non-null  object \n 8   category_groups_list                            1018183 non-null  object \n 9   num_funding_rounds                              857368 non-null   float64\n 10  total_funding_usd                               833031 non-null   float64\n 11  founded_on                                      1018183 non-null  object \n 12  last_funding_on                                 857364 non-null   object \n 13  closed_on                                       5402 non-null     object \n 14  employee_count                                  1018183 non-null  object \n 15  primary_role                                    1018183 non-null  object \n 16  num_exits                                       205669 non-null   float64\n 17  lead_investor_name                              801174 non-null   object \n 18  lead_investor_type                              801174 non-null   object \n 19  lead_investor_roles                             801174 non-null   object \n 20  lead_investor_domain                            777827 non-null   object \n 21  lead_investor_country_code                      793250 non-null   object \n 22  lead_investor_region                            791454 non-null   object \n 23  lead_investor_city                              791451 non-null   object \n 24  lead_investor_investor_types                    763781 non-null   object \n 25  lead_investor_investment_count                  801174 non-null   float64\n 26  lead_investor_total_funding_usd                 55681 non-null    float64\n 27  lead_investor_founded_on                        767389 non-null   object \n 28  lead_investor_closed_on                         87 non-null       object \n 29  fund_rd_type                                    801174 non-null   object \n 30  fund_rd_country_code                            801050 non-null   object \n 31  fund_rd_state_code                              526937 non-null   object \n 32  fund_rd_region                                  801050 non-null   object \n 33  fund_rd_city                                    801050 non-null   object \n 34  fund_rd_investment_type                         801174 non-null   object \n 35  fund_rd_announced_on                            801174 non-null   object \n 36  fund_rd_raised_amount_usd                       745743 non-null   float64\n 37  fund_rd_raised_amount                           745743 non-null   float64\n 38  fund_rd_raised_amount_currency_code             745743 non-null   object \n 39  fund_rd_post_money_valuation_usd                145384 non-null   float64\n 40  fund_rd_post_money_valuation                    145384 non-null   float64\n 41  fund_rd_post_money_valuation_currency_code      145384 non-null   object \n 42  fund_rd_investor_count                          801174 non-null   float64\n 43  fund_rd_org_name                                801174 non-null   object \n 44  partner_name                                    626902 non-null   object \n 45  partner_roles                                   626902 non-null   object \n 46  partner_domain                                  215325 non-null   object \n 47  partner_country_code                            588023 non-null   object \n 48  partner_region                                  575476 non-null   object \n 49  partner_city                                    573357 non-null   object \n 50  partner_investor_types                          626902 non-null   object \n 51  partner_investment_count                        332464 non-null   float64\n 52  investor_name                                   626902 non-null   object \n 53  investor_type                                   626902 non-null   object \n 54  investor_roles                                  626902 non-null   object \n 55  investor_domain                                 622425 non-null   object \n 56  investor_country_code                           625618 non-null   object \n 57  investor_region                                 625614 non-null   object \n 58  investor_city                                   625614 non-null   object \n 59  investor_investor_types                         604903 non-null   object \n 60  investor_investment_count                       626902 non-null   float64\n 61  investor_total_funding_usd                      23431 non-null    float64\n 62  investor_founded_on                             622085 non-null   object \n 63  ipo_country_code                                9299 non-null     object \n 64  ipo_region                                      9299 non-null     object \n 65  ipo_city                                        9299 non-null     object \n 66  ipo_stock_exchange_symbol                       9280 non-null     object \n 67  ipo_went_public_on                              9299 non-null     object \n 68  ipo_share_price_usd                             7174 non-null     float64\n 69  ipo_valuation_price_usd                         3452 non-null     float64\n 70  ipo_money_raised_usd                            6291 non-null     float64\n 71  funds_raised_amount_usd                         148148 non-null   float64\n 72  acquisitions_acquirer_uuid                      35801 non-null    object \n 73  acquisitions_acquirer_name                      35801 non-null    object \n 74  acquisitions_acquirer_country_code              35611 non-null    object \n 75  acquisitions_acquirer_region                    35611 non-null    object \n 76  acquisitions_acquirer_city                      35611 non-null    object \n 77  acquisitions_acquired_on                        35801 non-null    object \n 78  acquisitions_price_usd                          11210 non-null    float64\n 79  parent_org_rank                                 21329 non-null    float64\n 80  event_names                                     860952 non-null   object \n 81  event_rank                                      860952 non-null   float64\n 82  event_short_description                         860952 non-null   object \n 83  event_started_on                                860952 non-null   object \n 84  event_ended_on                                  860952 non-null   object \n 85  event_venue_name                                850216 non-null   object \n 86  event_description                               791798 non-null   object \n 87  event_country_code                              850218 non-null   object \n 88  event_region                                    850218 non-null   object \n 89  event_city                                      850218 non-null   object \n 90  event_event_roles                               860952 non-null   object \n 91  participant_name                                860952 non-null   object \n 92  person                                          860952 non-null   float64\n 93  organization                                    860952 non-null   float64\n 94  speaker                                         860952 non-null   float64\n 95  sponsor                                         860952 non-null   float64\n 96  exhibitor                                       860952 non-null   float64\n 97  organizer                                       860952 non-null   float64\n 98  contestant                                      860952 non-null   float64\n 99  organization_name                               1000932 non-null  object \n 100 job_started_on                                  647535 non-null   object \n 101 job_ended_on                                    221714 non-null   object \n 102 job_is_current                                  1000932 non-null  object \n 103 job_executive                                   1000932 non-null  float64\n 104 job_employee                                    1000932 non-null  float64\n 105 job_board_member                                1000932 non-null  float64\n 106 job_advisor                                     1000932 non-null  float64\n 107 job_board_observer                              1000932 non-null  float64\n 108 person_personal_name                            989579 non-null   object \n 109 person_personal_gender                          983075 non-null   object \n 110 person_personal_country_code                    868088 non-null   object \n 111 person_personal_region                          818625 non-null   object \n 112 person_personal_city                            805938 non-null   object \n 113 person_personal_featured_job_organization_name  885416 non-null   object \n 114 person_personal_featured_job_title              885376 non-null   object \n 115 person_degree_degree_type                       740716 non-null   object \n 116 person_degree_subject                           705265 non-null   object \n 117 person_degree_started_on                        376600 non-null   object \n 118 person_degree_completed_on                      479684 non-null   object \n 119 person_degree_is_completed                      740716 non-null   object \n 120 person_event_name                               665160 non-null   object \n 121 person_event_rank                               665160 non-null   float64\n 122 person_event_started_on                         665160 non-null   object \n 123 person_event_ended_on                           665160 non-null   object \n 124 person_event_country_code                       635146 non-null   object \n 125 person_event_region                             635146 non-null   object \n 126 person_event_city                               635146 non-null   object \n 127 person_event_roles                              665160 non-null   object \n 128 person_person                                   665160 non-null   float64\n 129 person_organization                             665160 non-null   float64\n 130 person_speaker                                  665160 non-null   float64\n 131 person_sponsor                                  665160 non-null   float64\n 132 person_exhibitor                                665160 non-null   float64\n 133 person_organizer                                665160 non-null   float64\n 134 person_contestant                               665160 non-null   float64\ndtypes: float64(40), int64(1), object(94)\nmemory usage: 1.0+ GB\n"
     ]
    }
   ],
   "source": [
    "org_df.info(max_cols=1000)"
   ]
  },
  {
   "cell_type": "code",
   "execution_count": 5,
   "metadata": {},
   "outputs": [],
   "source": [
    "new_df= org_df[[\"Unnamed: 0\", \"uuid\"]].copy()"
   ]
  },
  {
   "cell_type": "code",
   "execution_count": 6,
   "metadata": {},
   "outputs": [],
   "source": [
    "#D_country code\n",
    "country_df= org_df[[\"country_code\"]].copy()\n",
    "country_df=pd.get_dummies(country_df, prefix=[\"country\"], columns=[\"country_code\"], drop_first=False)\n",
    "new_df=new_df.join(country_df)"
   ]
  },
  {
   "cell_type": "code",
   "execution_count": 7,
   "metadata": {},
   "outputs": [],
   "source": [
    "#E_Region\n",
    "new_df[\"region\"]= org_df[\"region\"]"
   ]
  },
  {
   "cell_type": "code",
   "execution_count": 8,
   "metadata": {},
   "outputs": [],
   "source": [
    "#F_CIty\n",
    "city_df= org_df[[\"city\"]].copy()\n",
    "city_df=pd.get_dummies(city_df, prefix=[\"city\"], columns=[\"city\"], drop_first=False)\n",
    "new_df=new_df.join(city_df)"
   ]
  },
  {
   "cell_type": "code",
   "execution_count": 9,
   "metadata": {},
   "outputs": [],
   "source": [
    "#G_Status\n",
    "status_df= org_df[[\"status\"]].copy()\n",
    "status_df=pd.get_dummies(status_df, prefix=[\"status\"], columns=[\"status\"], drop_first=False)\n",
    "\n",
    "\n",
    "keep_col = [\"status_operating\", \"status_closed\"] # change the cols to keep\n",
    "drop_row = [0, 1] # change the rows to drop\n",
    "status_df = status_df[keep_col].drop(drop_row)\n",
    "new_df=new_df.join(status_df)"
   ]
  },
  {
   "cell_type": "code",
   "execution_count": 10,
   "metadata": {
    "tags": []
   },
   "outputs": [],
   "source": [
    "#H:category_list & I: category_groups_list (p.s. there is no null cell)\n",
    "category_df=org_df[[\"category_list\",\"category_groups_list\"]].copy()\n",
    "\n",
    "#Concantante 2 columns\n",
    "category_df[\"category_concat\"]= category_df[\"category_list\"]+ \",\" + category_df[\"category_groups_list\"]\n",
    "\n",
    "#keyword search\n",
    "kw= unique_keyword_search(category_df[\"category_concat\"], 100)\n",
    "#kw[0]\n",
    "name_arr= [[] for _ in range(100)] #When access name_arr[column][row]\n",
    "counter=0 \n",
    "\n",
    "for i in category_df[\"category_concat\"]:    \n",
    "    for j in range(len(kw)):\n",
    "        if kw[j] in i: \n",
    "            #print(counter)\n",
    "            name_arr[j].append(1)\n",
    "        else: \n",
    "            name_arr[j].append(0)\n",
    "    counter=counter+1\n",
    "\n",
    "for i in range(100): \n",
    "    category_df[\"cat_\"+kw[i]]=name_arr[i]\n",
    "category_df= category_df.drop(columns=[\"category_list\", \"category_groups_list\", \"category_concat\"])\n",
    "\n",
    "new_df=new_df.join(category_df)"
   ]
  },
  {
   "cell_type": "code",
   "execution_count": 11,
   "metadata": {},
   "outputs": [],
   "source": [
    "#O: Employee_count\n",
    "def em_count_func(df): \n",
    "    if df[\"employee_count\"]==\"1-10\" :\n",
    "        return 1\n",
    "    if df[\"employee_count\"]==\"11-50\" :\n",
    "        return 2\n",
    "    if df[\"employee_count\"]==\"51-100\" :\n",
    "        return 3\n",
    "    if df[\"employee_count\"]==\"101-250\" :\n",
    "        return 4\n",
    "    if df[\"employee_count\"]==\"251-500\" :\n",
    "        return 5\n",
    "    if df[\"employee_count\"]==\"501-1000\" :\n",
    "        return 6\n",
    "    if df[\"employee_count\"]==\"1001-5000\" :\n",
    "        return 7\n",
    "    if df[\"employee_count\"]==\"5001-10000\" :\n",
    "        return 8\n",
    "    if df[\"employee_count\"]==\"10000+\" :\n",
    "        return 9\n",
    "    if df[\"employee_count\"]==\"unknown\" :\n",
    "        return 0\n",
    "\n",
    "Employee_count_df= org_df[[\"employee_count\"]].copy()\n",
    "Employee_count_df[\"employee_count_scaled\"]= Employee_count_df.apply(em_count_func, axis=1)\n",
    "\n",
    "\n",
    "keep_col = [\"employee_count_scaled\"] # change the cols to keep\n",
    "drop_row = [0, 1] # change the rows to drop\n",
    "Employee_count_df = Employee_count_df[keep_col].drop(drop_row)\n",
    "new_df=new_df.join(Employee_count_df)"
   ]
  },
  {
   "cell_type": "code",
   "execution_count": 12,
   "metadata": {},
   "outputs": [],
   "source": [
    "#P_primary_role\n",
    "pri_role_df= org_df[[\"primary_role\"]].copy()\n",
    "pri_role_df=pd.get_dummies(pri_role_df, prefix=[\"pri_role\"], columns=[\"primary_role\"], drop_first=False)\n",
    "new_df=new_df.join(pri_role_df)"
   ]
  },
  {
   "cell_type": "code",
   "execution_count": 13,
   "metadata": {},
   "outputs": [],
   "source": [
    "#Q_num_exists \n",
    "num_exits_df= org_df[[\"num_exits\"]].copy()\n",
    "num_exits_df[\"num_exits\"]=num_exits_df[\"num_exits\"].fillna(0)\n",
    "\n",
    "new_df=new_df.join(num_exits_df)"
   ]
  },
  {
   "cell_type": "code",
   "execution_count": 14,
   "metadata": {},
   "outputs": [],
   "source": [
    "#R_lead_investor_name\n",
    "\n",
    "dummy_df= org_df[[\"lead_investor_name\"]].copy()\n",
    "new_df=new_df.join(dummy_df)"
   ]
  },
  {
   "cell_type": "code",
   "execution_count": 15,
   "metadata": {},
   "outputs": [],
   "source": [
    "#S_lead_investor_type\n",
    "\n",
    "lead_invest_type_df=org_df[[\"lead_investor_type\"]].copy()\n",
    "lead_invest_type_df=pd.get_dummies(lead_invest_type_df, prefix=[\"investor_type\"], columns=[\"lead_investor_type\"], drop_first=False)\n",
    "#new_df=new_df.join(lead_invest_type_df)"
   ]
  },
  {
   "cell_type": "code",
   "execution_count": 16,
   "metadata": {},
   "outputs": [],
   "source": [
    "#T_lead_investor_roles\n",
    "lead_investor_role_df= org_df[[\"lead_investor_roles\"]].copy()\n",
    "investor=[]\n",
    "company=[]\n",
    "school=[]\n",
    "\n",
    "\n",
    "inv_type_name_arr= [\"investor\", \"company\", \"school\"]\n",
    "inv_type_arr= [investor, company, school]\n",
    "lead_investor_role_df[\"lead_investor_roles\"]= lead_investor_role_df[\"lead_investor_roles\"].fillna(0)\n",
    "\n",
    "for i in lead_investor_role_df[\"lead_investor_roles\"]:\n",
    "    if i==0: \n",
    "        inv_type_arr[0].append(0)\n",
    "        inv_type_arr[1].append(0)\n",
    "        inv_type_arr[2].append(0)\n",
    "        continue\n",
    "    for j in range(len(inv_type_name_arr)):\n",
    "        if inv_type_name_arr[j] in i: \n",
    "            inv_type_arr[j].append(1)\n",
    "        else: \n",
    "            inv_type_arr[j].append(0)\n",
    "\n",
    "lead_investor_role_df[\"inv_investor\"]= investor\n",
    "lead_investor_role_df[\"inv_company\"]= company\n",
    "lead_investor_role_df[\"inv_school\"]= school\n",
    "\n",
    "keep_col = [\"inv_investor\", \"inv_company\", \"inv_school\"] # change the cols to keep\n",
    "drop_row = [0, 1] # change the rows to drop\n",
    "lead_investor_role_df = lead_investor_role_df[keep_col].drop(drop_row)\n",
    "new_df=new_df.join(lead_investor_role_df)\n"
   ]
  },
  {
   "cell_type": "code",
   "execution_count": 17,
   "metadata": {},
   "outputs": [],
   "source": [
    "#V_lead_investor_country_code\n",
    "\n",
    "lead_country_df= org_df[[\"lead_investor_country_code\"]].copy()\n",
    "lead_country_df=pd.get_dummies(lead_country_df, prefix=[\"investor_country\"], columns=[\"lead_investor_country_code\"], drop_first=False)\n",
    "new_df=new_df.join(lead_country_df)"
   ]
  },
  {
   "cell_type": "code",
   "execution_count": 18,
   "metadata": {},
   "outputs": [],
   "source": [
    "#W_Lead_investor_region\n",
    "dummy_df= org_df[[\"lead_investor_region\"]].copy()\n",
    "new_df=new_df.join(dummy_df)"
   ]
  },
  {
   "cell_type": "code",
   "execution_count": 19,
   "metadata": {},
   "outputs": [],
   "source": [
    "#X_lead_investor_city\n",
    "lead_city_df= org_df[[\"lead_investor_city\"]].copy()\n",
    "lead_city_df=pd.get_dummies(lead_city_df, prefix=[\"investor_city\"], columns=[\"lead_investor_city\"], drop_first=False)\n",
    "new_df=new_df.join(lead_city_df)"
   ]
  },
  {
   "cell_type": "code",
   "execution_count": 20,
   "metadata": {},
   "outputs": [],
   "source": [
    "#Y_lead_investor_type\n",
    "\n",
    "lead_investor_type_df= org_df[[\"lead_investor_investor_types\"]].copy()\n",
    "lead_investor_type_df=pd.get_dummies(lead_investor_type_df, prefix=[\"investor_type\"], columns=[\"lead_investor_investor_types\"], drop_first=False)\n",
    "lead_investor_type_df\n",
    "new_df=new_df.join(lead_investor_type_df)"
   ]
  },
  {
   "cell_type": "code",
   "execution_count": 21,
   "metadata": {},
   "outputs": [],
   "source": [
    "#Z_lead_investor_investment_count\n",
    "lead_investor_count_df= org_df[[\"lead_investor_investment_count\"]].copy()\n",
    "lead_investor_count_df[\"lead_investor_investment_count\"]=lead_investor_count_df[\"lead_investor_investment_count\"].fillna(0)\n",
    "\n",
    "new_df=new_df.join(lead_investor_count_df)"
   ]
  },
  {
   "cell_type": "code",
   "execution_count": 22,
   "metadata": {},
   "outputs": [],
   "source": [
    "#AA_lead_investor_total_funding_usd\n",
    "lead_investor_fund_df= org_df[[\"lead_investor_total_funding_usd\"]].copy()\n",
    "lead_investor_fund_df[\"lead_investor_total_funding_usd\"]=lead_investor_fund_df[\"lead_investor_total_funding_usd\"].fillna(0)\n",
    "\n",
    "new_df=new_df.join(lead_investor_fund_df)"
   ]
  },
  {
   "cell_type": "code",
   "execution_count": 23,
   "metadata": {},
   "outputs": [],
   "source": [
    "#AD_fund_rd_type\n",
    "fund_rd_type_df= org_df[[\"fund_rd_type\"]].copy()\n",
    "fund_rd_type_df[\"fund_rd_type\"]=fund_rd_type_df[\"fund_rd_type\"].fillna(0)\n",
    "\n",
    "new_df=new_df.join(fund_rd_type_df)"
   ]
  },
  {
   "cell_type": "code",
   "execution_count": 24,
   "metadata": {},
   "outputs": [],
   "source": [
    "#AE_country_code\n",
    "\n",
    "fund_country_df= org_df[[\"fund_rd_country_code\"]].copy()\n",
    "fund_country_df=pd.get_dummies(fund_country_df, prefix=[\"fund_country\"], columns=[\"fund_rd_country_code\"], drop_first=False)\n",
    "new_df=new_df.join(fund_country_df)"
   ]
  },
  {
   "cell_type": "code",
   "execution_count": 25,
   "metadata": {},
   "outputs": [],
   "source": [
    "#AF& AG region and statecode\n",
    "dummy_df= org_df[[\"fund_rd_state_code\", \"fund_rd_region\"]].copy()\n",
    "new_df=new_df.join(dummy_df)"
   ]
  },
  {
   "cell_type": "code",
   "execution_count": 26,
   "metadata": {},
   "outputs": [],
   "source": [
    "#AH_city\n",
    "\n",
    "fund_city_df= org_df[[\"fund_rd_city\"]].copy()\n",
    "fund_city_df=pd.get_dummies(fund_city_df, prefix=[\"fund_country\"], columns=[\"fund_rd_city\"], drop_first=False)\n",
    "new_df=new_df.join(fund_city_df)\n"
   ]
  },
  {
   "cell_type": "code",
   "execution_count": 27,
   "metadata": {},
   "outputs": [],
   "source": [
    "#AI_fund_rd_raised_amount_usd (Discovered that if there is no entry for \"type\", there will be nan)\n",
    "\n",
    "fund_raised_df= org_df[[\"fund_rd_raised_amount_usd\"]].copy()\n",
    "fund_raised_df=fund_raised_df.fillna(fund_raised_df.mean())\n",
    "\n",
    "new_df=new_df.join(fund_raised_df)\n"
   ]
  },
  {
   "cell_type": "code",
   "execution_count": 28,
   "metadata": {},
   "outputs": [],
   "source": [
    "# AN_ fund_rd_post_money_valuation_usd\n",
    "\n",
    "fund_posted_df= org_df[[\"fund_rd_post_money_valuation_usd\"]].copy()\n",
    "fund_posted_df=fund_posted_df.fillna(fund_posted_df.mean())\n",
    "new_df=new_df.join(fund_posted_df)"
   ]
  },
  {
   "cell_type": "code",
   "execution_count": 29,
   "metadata": {},
   "outputs": [
    {
     "output_type": "stream",
     "name": "stdout",
     "text": [
      "<class 'pandas.core.frame.DataFrame'>\nRangeIndex: 1018183 entries, 0 to 1018182\nColumns: 5865 entries, Unnamed: 0 to fund_rd_post_money_valuation_usd\ndtypes: float64(11), int64(101), object(7), uint8(5746)\nmemory usage: 6.4+ GB\n"
     ]
    }
   ],
   "source": [
    "new_df.info()"
   ]
  }
 ]
}