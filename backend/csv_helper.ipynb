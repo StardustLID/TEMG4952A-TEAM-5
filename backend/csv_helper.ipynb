{
 "metadata": {
  "language_info": {
   "codemirror_mode": {
    "name": "ipython",
    "version": 3
   },
   "file_extension": ".py",
   "mimetype": "text/x-python",
   "name": "python",
   "nbconvert_exporter": "python",
   "pygments_lexer": "ipython3",
   "version": "3.8.3-final"
  },
  "orig_nbformat": 2,
  "kernelspec": {
   "name": "python3",
   "display_name": "Python 3",
   "language": "python"
  }
 },
 "nbformat": 4,
 "nbformat_minor": 2,
 "cells": [
  {
   "source": [
    "## Number of Employees"
   ],
   "cell_type": "markdown",
   "metadata": {}
  },
  {
   "cell_type": "code",
   "execution_count": 5,
   "metadata": {},
   "outputs": [],
   "source": [
    "# import library\n",
    "import pandas as pd"
   ]
  },
  {
   "cell_type": "code",
   "execution_count": 6,
   "metadata": {},
   "outputs": [],
   "source": [
    "# read the CSV\n",
    "df = pd.read_csv(\"../Week3_Onwards/unifed_csv_without_duplicated_company.csv\")"
   ]
  },
  {
   "cell_type": "code",
   "execution_count": 7,
   "metadata": {},
   "outputs": [],
   "source": [
    "# df.head()"
   ]
  },
  {
   "cell_type": "code",
   "execution_count": 8,
   "metadata": {},
   "outputs": [],
   "source": [
    "# specify the column to count\n",
    "col_to_count = 'employee_count'\n",
    "series = df[col_to_count].value_counts()"
   ]
  },
  {
   "cell_type": "code",
   "execution_count": 9,
   "metadata": {},
   "outputs": [
    {
     "output_type": "execute_result",
     "data": {
      "text/plain": [
       "1-10          17014\n",
       "11-50         10452\n",
       "unknown        5882\n",
       "51-100         1490\n",
       "101-250        1419\n",
       "251-500         484\n",
       "501-1000        195\n",
       "1001-5000       171\n",
       "10000+           47\n",
       "5001-10000       44\n",
       "Name: employee_count, dtype: int64"
      ]
     },
     "metadata": {},
     "execution_count": 9
    }
   ],
   "source": [
    "series"
   ]
  },
  {
   "cell_type": "code",
   "execution_count": 10,
   "metadata": {},
   "outputs": [],
   "source": [
    "# drop the undesired labels\n",
    "labels_to_drop = ['unknown']\n",
    "series.drop(labels=labels_to_drop, inplace=True)"
   ]
  },
  {
   "cell_type": "code",
   "execution_count": 11,
   "metadata": {},
   "outputs": [
    {
     "output_type": "execute_result",
     "data": {
      "text/plain": [
       "1-10          17014\n",
       "11-50         10452\n",
       "51-100         1490\n",
       "101-250        1419\n",
       "251-500         484\n",
       "501-1000        195\n",
       "1001-5000       171\n",
       "10000+           47\n",
       "5001-10000       44\n",
       "Name: employee_count, dtype: int64"
      ]
     },
     "metadata": {},
     "execution_count": 11
    }
   ],
   "source": [
    "series"
   ]
  },
  {
   "cell_type": "code",
   "execution_count": 12,
   "metadata": {},
   "outputs": [],
   "source": [
    "temp = series['10000+']\n",
    "series.drop(labels='10000+', inplace=True)\n",
    "series['10000+'] = temp"
   ]
  },
  {
   "cell_type": "code",
   "execution_count": 13,
   "metadata": {},
   "outputs": [
    {
     "output_type": "execute_result",
     "data": {
      "text/plain": [
       "1-10          17014\n",
       "11-50         10452\n",
       "51-100         1490\n",
       "101-250        1419\n",
       "251-500         484\n",
       "501-1000        195\n",
       "1001-5000       171\n",
       "5001-10000       44\n",
       "10000+           47\n",
       "Name: employee_count, dtype: int64"
      ]
     },
     "metadata": {},
     "execution_count": 13
    }
   ],
   "source": [
    "series"
   ]
  },
  {
   "cell_type": "code",
   "execution_count": 14,
   "metadata": {},
   "outputs": [],
   "source": [
    "df = series.to_frame()"
   ]
  },
  {
   "cell_type": "code",
   "execution_count": 15,
   "metadata": {},
   "outputs": [
    {
     "output_type": "execute_result",
     "data": {
      "text/plain": [
       "            employee_count\n",
       "1-10                 17014\n",
       "11-50                10452\n",
       "51-100                1490\n",
       "101-250               1419\n",
       "251-500                484\n",
       "501-1000               195\n",
       "1001-5000              171\n",
       "5001-10000              44\n",
       "10000+                  47"
      ],
      "text/html": "<div>\n<style scoped>\n    .dataframe tbody tr th:only-of-type {\n        vertical-align: middle;\n    }\n\n    .dataframe tbody tr th {\n        vertical-align: top;\n    }\n\n    .dataframe thead th {\n        text-align: right;\n    }\n</style>\n<table border=\"1\" class=\"dataframe\">\n  <thead>\n    <tr style=\"text-align: right;\">\n      <th></th>\n      <th>employee_count</th>\n    </tr>\n  </thead>\n  <tbody>\n    <tr>\n      <th>1-10</th>\n      <td>17014</td>\n    </tr>\n    <tr>\n      <th>11-50</th>\n      <td>10452</td>\n    </tr>\n    <tr>\n      <th>51-100</th>\n      <td>1490</td>\n    </tr>\n    <tr>\n      <th>101-250</th>\n      <td>1419</td>\n    </tr>\n    <tr>\n      <th>251-500</th>\n      <td>484</td>\n    </tr>\n    <tr>\n      <th>501-1000</th>\n      <td>195</td>\n    </tr>\n    <tr>\n      <th>1001-5000</th>\n      <td>171</td>\n    </tr>\n    <tr>\n      <th>5001-10000</th>\n      <td>44</td>\n    </tr>\n    <tr>\n      <th>10000+</th>\n      <td>47</td>\n    </tr>\n  </tbody>\n</table>\n</div>"
     },
     "metadata": {},
     "execution_count": 15
    }
   ],
   "source": [
    "df"
   ]
  },
  {
   "cell_type": "code",
   "execution_count": 16,
   "metadata": {},
   "outputs": [],
   "source": [
    "df.reset_index(inplace=True)"
   ]
  },
  {
   "cell_type": "code",
   "execution_count": 17,
   "metadata": {},
   "outputs": [
    {
     "output_type": "execute_result",
     "data": {
      "text/plain": [
       "        index  employee_count\n",
       "0        1-10           17014\n",
       "1       11-50           10452\n",
       "2      51-100            1490\n",
       "3     101-250            1419\n",
       "4     251-500             484\n",
       "5    501-1000             195\n",
       "6   1001-5000             171\n",
       "7  5001-10000              44\n",
       "8      10000+              47"
      ],
      "text/html": "<div>\n<style scoped>\n    .dataframe tbody tr th:only-of-type {\n        vertical-align: middle;\n    }\n\n    .dataframe tbody tr th {\n        vertical-align: top;\n    }\n\n    .dataframe thead th {\n        text-align: right;\n    }\n</style>\n<table border=\"1\" class=\"dataframe\">\n  <thead>\n    <tr style=\"text-align: right;\">\n      <th></th>\n      <th>index</th>\n      <th>employee_count</th>\n    </tr>\n  </thead>\n  <tbody>\n    <tr>\n      <th>0</th>\n      <td>1-10</td>\n      <td>17014</td>\n    </tr>\n    <tr>\n      <th>1</th>\n      <td>11-50</td>\n      <td>10452</td>\n    </tr>\n    <tr>\n      <th>2</th>\n      <td>51-100</td>\n      <td>1490</td>\n    </tr>\n    <tr>\n      <th>3</th>\n      <td>101-250</td>\n      <td>1419</td>\n    </tr>\n    <tr>\n      <th>4</th>\n      <td>251-500</td>\n      <td>484</td>\n    </tr>\n    <tr>\n      <th>5</th>\n      <td>501-1000</td>\n      <td>195</td>\n    </tr>\n    <tr>\n      <th>6</th>\n      <td>1001-5000</td>\n      <td>171</td>\n    </tr>\n    <tr>\n      <th>7</th>\n      <td>5001-10000</td>\n      <td>44</td>\n    </tr>\n    <tr>\n      <th>8</th>\n      <td>10000+</td>\n      <td>47</td>\n    </tr>\n  </tbody>\n</table>\n</div>"
     },
     "metadata": {},
     "execution_count": 17
    }
   ],
   "source": [
    "df"
   ]
  },
  {
   "cell_type": "code",
   "execution_count": 18,
   "metadata": {},
   "outputs": [],
   "source": [
    "# rename in the dict\n",
    "df.rename(columns={'employee_count': 'freq', 'index': 'employee_count'}, inplace=True)"
   ]
  },
  {
   "cell_type": "code",
   "execution_count": 19,
   "metadata": {},
   "outputs": [
    {
     "output_type": "execute_result",
     "data": {
      "text/plain": [
       "  employee_count   freq\n",
       "0           1-10  17014\n",
       "1          11-50  10452\n",
       "2         51-100   1490\n",
       "3        101-250   1419\n",
       "4        251-500    484\n",
       "5       501-1000    195\n",
       "6      1001-5000    171\n",
       "7     5001-10000     44\n",
       "8         10000+     47"
      ],
      "text/html": "<div>\n<style scoped>\n    .dataframe tbody tr th:only-of-type {\n        vertical-align: middle;\n    }\n\n    .dataframe tbody tr th {\n        vertical-align: top;\n    }\n\n    .dataframe thead th {\n        text-align: right;\n    }\n</style>\n<table border=\"1\" class=\"dataframe\">\n  <thead>\n    <tr style=\"text-align: right;\">\n      <th></th>\n      <th>employee_count</th>\n      <th>freq</th>\n    </tr>\n  </thead>\n  <tbody>\n    <tr>\n      <th>0</th>\n      <td>1-10</td>\n      <td>17014</td>\n    </tr>\n    <tr>\n      <th>1</th>\n      <td>11-50</td>\n      <td>10452</td>\n    </tr>\n    <tr>\n      <th>2</th>\n      <td>51-100</td>\n      <td>1490</td>\n    </tr>\n    <tr>\n      <th>3</th>\n      <td>101-250</td>\n      <td>1419</td>\n    </tr>\n    <tr>\n      <th>4</th>\n      <td>251-500</td>\n      <td>484</td>\n    </tr>\n    <tr>\n      <th>5</th>\n      <td>501-1000</td>\n      <td>195</td>\n    </tr>\n    <tr>\n      <th>6</th>\n      <td>1001-5000</td>\n      <td>171</td>\n    </tr>\n    <tr>\n      <th>7</th>\n      <td>5001-10000</td>\n      <td>44</td>\n    </tr>\n    <tr>\n      <th>8</th>\n      <td>10000+</td>\n      <td>47</td>\n    </tr>\n  </tbody>\n</table>\n</div>"
     },
     "metadata": {},
     "execution_count": 19
    }
   ],
   "source": [
    "df"
   ]
  },
  {
   "cell_type": "code",
   "execution_count": 20,
   "metadata": {},
   "outputs": [
    {
     "output_type": "execute_result",
     "data": {
      "text/plain": [
       "'employee_count   freq\\n          1-10  17014\\n         11-50  10452\\n        51-100   1490\\n       101-250   1419\\n       251-500    484\\n      501-1000    195\\n     1001-5000    171\\n    5001-10000     44\\n        10000+     47'"
      ]
     },
     "metadata": {},
     "execution_count": 20
    }
   ],
   "source": [
    "# output df or series\n",
    "# uncomment to output a lightweight csv\n",
    "# df.to_csv(\"employee_count.csv\", index=False)\n",
    "df.to_string(index=False)"
   ]
  },
  {
   "source": [
    "## Company Age"
   ],
   "cell_type": "markdown",
   "metadata": {}
  },
  {
   "cell_type": "code",
   "execution_count": 1,
   "metadata": {},
   "outputs": [
    {
     "output_type": "execute_result",
     "data": {
      "text/plain": [
       "      founded_on  cat_pca_0  cat_pca_1  cat_pca_2  cat_pca_3  cat_pca_4\n",
       "0     2018-01-01        0.0        0.0        0.0        0.0        0.0\n",
       "1     2011-01-01        0.0        0.0        0.0        0.0        0.0\n",
       "2     2018-01-01        0.0        0.0        0.0        0.0        0.0\n",
       "3     2011-11-11        0.0        0.0        0.0        0.0        0.0\n",
       "4     2014-10-17        0.0        0.0        0.0        0.0        0.0\n",
       "...          ...        ...        ...        ...        ...        ...\n",
       "32919 2016-01-01        0.0        0.0        0.0        0.0        0.0\n",
       "32920 2014-01-01        0.0        0.0        0.0        0.0        0.0\n",
       "32921 2012-01-01        0.0        0.0        0.0        0.0        0.0\n",
       "32922 2013-02-18        0.0        0.0        0.0        0.0        0.0\n",
       "32923 2015-01-01        0.0        0.0        0.0        0.0        0.0\n",
       "\n",
       "[32924 rows x 6 columns]"
      ],
      "text/html": "<div>\n<style scoped>\n    .dataframe tbody tr th:only-of-type {\n        vertical-align: middle;\n    }\n\n    .dataframe tbody tr th {\n        vertical-align: top;\n    }\n\n    .dataframe thead th {\n        text-align: right;\n    }\n</style>\n<table border=\"1\" class=\"dataframe\">\n  <thead>\n    <tr style=\"text-align: right;\">\n      <th></th>\n      <th>founded_on</th>\n      <th>cat_pca_0</th>\n      <th>cat_pca_1</th>\n      <th>cat_pca_2</th>\n      <th>cat_pca_3</th>\n      <th>cat_pca_4</th>\n    </tr>\n  </thead>\n  <tbody>\n    <tr>\n      <th>0</th>\n      <td>2018-01-01</td>\n      <td>0.0</td>\n      <td>0.0</td>\n      <td>0.0</td>\n      <td>0.0</td>\n      <td>0.0</td>\n    </tr>\n    <tr>\n      <th>1</th>\n      <td>2011-01-01</td>\n      <td>0.0</td>\n      <td>0.0</td>\n      <td>0.0</td>\n      <td>0.0</td>\n      <td>0.0</td>\n    </tr>\n    <tr>\n      <th>2</th>\n      <td>2018-01-01</td>\n      <td>0.0</td>\n      <td>0.0</td>\n      <td>0.0</td>\n      <td>0.0</td>\n      <td>0.0</td>\n    </tr>\n    <tr>\n      <th>3</th>\n      <td>2011-11-11</td>\n      <td>0.0</td>\n      <td>0.0</td>\n      <td>0.0</td>\n      <td>0.0</td>\n      <td>0.0</td>\n    </tr>\n    <tr>\n      <th>4</th>\n      <td>2014-10-17</td>\n      <td>0.0</td>\n      <td>0.0</td>\n      <td>0.0</td>\n      <td>0.0</td>\n      <td>0.0</td>\n    </tr>\n    <tr>\n      <th>...</th>\n      <td>...</td>\n      <td>...</td>\n      <td>...</td>\n      <td>...</td>\n      <td>...</td>\n      <td>...</td>\n    </tr>\n    <tr>\n      <th>32919</th>\n      <td>2016-01-01</td>\n      <td>0.0</td>\n      <td>0.0</td>\n      <td>0.0</td>\n      <td>0.0</td>\n      <td>0.0</td>\n    </tr>\n    <tr>\n      <th>32920</th>\n      <td>2014-01-01</td>\n      <td>0.0</td>\n      <td>0.0</td>\n      <td>0.0</td>\n      <td>0.0</td>\n      <td>0.0</td>\n    </tr>\n    <tr>\n      <th>32921</th>\n      <td>2012-01-01</td>\n      <td>0.0</td>\n      <td>0.0</td>\n      <td>0.0</td>\n      <td>0.0</td>\n      <td>0.0</td>\n    </tr>\n    <tr>\n      <th>32922</th>\n      <td>2013-02-18</td>\n      <td>0.0</td>\n      <td>0.0</td>\n      <td>0.0</td>\n      <td>0.0</td>\n      <td>0.0</td>\n    </tr>\n    <tr>\n      <th>32923</th>\n      <td>2015-01-01</td>\n      <td>0.0</td>\n      <td>0.0</td>\n      <td>0.0</td>\n      <td>0.0</td>\n      <td>0.0</td>\n    </tr>\n  </tbody>\n</table>\n<p>32924 rows × 6 columns</p>\n</div>"
     },
     "metadata": {},
     "execution_count": 1
    }
   ],
   "source": [
    "import pandas as pd\n",
    "df = pd.read_csv(\"../Week3_Onwards/unifed_csv_20210124_2.csv\", parse_dates=['founded_on'])\n",
    "\n",
    "categories = ['cat_pca_0', 'cat_pca_1', 'cat_pca_2', 'cat_pca_3', 'cat_pca_4']\n",
    "cols_to_keep = ['founded_on', *categories]\n",
    "df = df[cols_to_keep]\n",
    "df"
   ]
  },
  {
   "cell_type": "code",
   "execution_count": 2,
   "metadata": {},
   "outputs": [
    {
     "output_type": "execute_result",
     "data": {
      "text/plain": [
       "       founded_on  cat_pca_0  cat_pca_1  cat_pca_2  cat_pca_3  cat_pca_4\n",
       "0        3.067717        0.0        0.0        0.0        0.0        0.0\n",
       "1       10.073197        0.0        0.0        0.0        0.0        0.0\n",
       "2        3.067717        0.0        0.0        0.0        0.0        0.0\n",
       "3        9.212923        0.0        0.0        0.0        0.0        0.0\n",
       "4        6.278676        0.0        0.0        0.0        0.0        0.0\n",
       "...           ...        ...        ...        ...        ...        ...\n",
       "32919    5.070457        0.0        0.0        0.0        0.0        0.0\n",
       "32920    7.070457        0.0        0.0        0.0        0.0        0.0\n",
       "32921    9.073197        0.0        0.0        0.0        0.0        0.0\n",
       "32922    7.938950        0.0        0.0        0.0        0.0        0.0\n",
       "32923    6.070457        0.0        0.0        0.0        0.0        0.0\n",
       "\n",
       "[32924 rows x 6 columns]"
      ],
      "text/html": "<div>\n<style scoped>\n    .dataframe tbody tr th:only-of-type {\n        vertical-align: middle;\n    }\n\n    .dataframe tbody tr th {\n        vertical-align: top;\n    }\n\n    .dataframe thead th {\n        text-align: right;\n    }\n</style>\n<table border=\"1\" class=\"dataframe\">\n  <thead>\n    <tr style=\"text-align: right;\">\n      <th></th>\n      <th>founded_on</th>\n      <th>cat_pca_0</th>\n      <th>cat_pca_1</th>\n      <th>cat_pca_2</th>\n      <th>cat_pca_3</th>\n      <th>cat_pca_4</th>\n    </tr>\n  </thead>\n  <tbody>\n    <tr>\n      <th>0</th>\n      <td>3.067717</td>\n      <td>0.0</td>\n      <td>0.0</td>\n      <td>0.0</td>\n      <td>0.0</td>\n      <td>0.0</td>\n    </tr>\n    <tr>\n      <th>1</th>\n      <td>10.073197</td>\n      <td>0.0</td>\n      <td>0.0</td>\n      <td>0.0</td>\n      <td>0.0</td>\n      <td>0.0</td>\n    </tr>\n    <tr>\n      <th>2</th>\n      <td>3.067717</td>\n      <td>0.0</td>\n      <td>0.0</td>\n      <td>0.0</td>\n      <td>0.0</td>\n      <td>0.0</td>\n    </tr>\n    <tr>\n      <th>3</th>\n      <td>9.212923</td>\n      <td>0.0</td>\n      <td>0.0</td>\n      <td>0.0</td>\n      <td>0.0</td>\n      <td>0.0</td>\n    </tr>\n    <tr>\n      <th>4</th>\n      <td>6.278676</td>\n      <td>0.0</td>\n      <td>0.0</td>\n      <td>0.0</td>\n      <td>0.0</td>\n      <td>0.0</td>\n    </tr>\n    <tr>\n      <th>...</th>\n      <td>...</td>\n      <td>...</td>\n      <td>...</td>\n      <td>...</td>\n      <td>...</td>\n      <td>...</td>\n    </tr>\n    <tr>\n      <th>32919</th>\n      <td>5.070457</td>\n      <td>0.0</td>\n      <td>0.0</td>\n      <td>0.0</td>\n      <td>0.0</td>\n      <td>0.0</td>\n    </tr>\n    <tr>\n      <th>32920</th>\n      <td>7.070457</td>\n      <td>0.0</td>\n      <td>0.0</td>\n      <td>0.0</td>\n      <td>0.0</td>\n      <td>0.0</td>\n    </tr>\n    <tr>\n      <th>32921</th>\n      <td>9.073197</td>\n      <td>0.0</td>\n      <td>0.0</td>\n      <td>0.0</td>\n      <td>0.0</td>\n      <td>0.0</td>\n    </tr>\n    <tr>\n      <th>32922</th>\n      <td>7.938950</td>\n      <td>0.0</td>\n      <td>0.0</td>\n      <td>0.0</td>\n      <td>0.0</td>\n      <td>0.0</td>\n    </tr>\n    <tr>\n      <th>32923</th>\n      <td>6.070457</td>\n      <td>0.0</td>\n      <td>0.0</td>\n      <td>0.0</td>\n      <td>0.0</td>\n      <td>0.0</td>\n    </tr>\n  </tbody>\n</table>\n<p>32924 rows × 6 columns</p>\n</div>"
     },
     "metadata": {},
     "execution_count": 2
    }
   ],
   "source": [
    "today = pd.Timestamp.today()\n",
    "df['founded_on'] = (today - df['founded_on']) / pd.Timedelta(365, unit=\"d\")\n",
    "df"
   ]
  },
  {
   "cell_type": "code",
   "execution_count": 3,
   "metadata": {},
   "outputs": [
    {
     "output_type": "execute_result",
     "data": {
      "text/plain": [
       "       founded_on  cat_pca_0  cat_pca_1  cat_pca_2  cat_pca_3  cat_pca_4\n",
       "0               3          0          0          0          0          0\n",
       "1              10          0          0          0          0          0\n",
       "2               3          0          0          0          0          0\n",
       "3               9          0          0          0          0          0\n",
       "4               6          0          0          0          0          0\n",
       "...           ...        ...        ...        ...        ...        ...\n",
       "32919           5          0          0          0          0          0\n",
       "32920           7          0          0          0          0          0\n",
       "32921           9          0          0          0          0          0\n",
       "32922           8          0          0          0          0          0\n",
       "32923           6          0          0          0          0          0\n",
       "\n",
       "[32924 rows x 6 columns]"
      ],
      "text/html": "<div>\n<style scoped>\n    .dataframe tbody tr th:only-of-type {\n        vertical-align: middle;\n    }\n\n    .dataframe tbody tr th {\n        vertical-align: top;\n    }\n\n    .dataframe thead th {\n        text-align: right;\n    }\n</style>\n<table border=\"1\" class=\"dataframe\">\n  <thead>\n    <tr style=\"text-align: right;\">\n      <th></th>\n      <th>founded_on</th>\n      <th>cat_pca_0</th>\n      <th>cat_pca_1</th>\n      <th>cat_pca_2</th>\n      <th>cat_pca_3</th>\n      <th>cat_pca_4</th>\n    </tr>\n  </thead>\n  <tbody>\n    <tr>\n      <th>0</th>\n      <td>3</td>\n      <td>0</td>\n      <td>0</td>\n      <td>0</td>\n      <td>0</td>\n      <td>0</td>\n    </tr>\n    <tr>\n      <th>1</th>\n      <td>10</td>\n      <td>0</td>\n      <td>0</td>\n      <td>0</td>\n      <td>0</td>\n      <td>0</td>\n    </tr>\n    <tr>\n      <th>2</th>\n      <td>3</td>\n      <td>0</td>\n      <td>0</td>\n      <td>0</td>\n      <td>0</td>\n      <td>0</td>\n    </tr>\n    <tr>\n      <th>3</th>\n      <td>9</td>\n      <td>0</td>\n      <td>0</td>\n      <td>0</td>\n      <td>0</td>\n      <td>0</td>\n    </tr>\n    <tr>\n      <th>4</th>\n      <td>6</td>\n      <td>0</td>\n      <td>0</td>\n      <td>0</td>\n      <td>0</td>\n      <td>0</td>\n    </tr>\n    <tr>\n      <th>...</th>\n      <td>...</td>\n      <td>...</td>\n      <td>...</td>\n      <td>...</td>\n      <td>...</td>\n      <td>...</td>\n    </tr>\n    <tr>\n      <th>32919</th>\n      <td>5</td>\n      <td>0</td>\n      <td>0</td>\n      <td>0</td>\n      <td>0</td>\n      <td>0</td>\n    </tr>\n    <tr>\n      <th>32920</th>\n      <td>7</td>\n      <td>0</td>\n      <td>0</td>\n      <td>0</td>\n      <td>0</td>\n      <td>0</td>\n    </tr>\n    <tr>\n      <th>32921</th>\n      <td>9</td>\n      <td>0</td>\n      <td>0</td>\n      <td>0</td>\n      <td>0</td>\n      <td>0</td>\n    </tr>\n    <tr>\n      <th>32922</th>\n      <td>8</td>\n      <td>0</td>\n      <td>0</td>\n      <td>0</td>\n      <td>0</td>\n      <td>0</td>\n    </tr>\n    <tr>\n      <th>32923</th>\n      <td>6</td>\n      <td>0</td>\n      <td>0</td>\n      <td>0</td>\n      <td>0</td>\n      <td>0</td>\n    </tr>\n  </tbody>\n</table>\n<p>32924 rows × 6 columns</p>\n</div>"
     },
     "metadata": {},
     "execution_count": 3
    }
   ],
   "source": [
    "df['founded_on'] = df['founded_on'].round(0).astype(int)\n",
    "\n",
    "for _ in categories:\n",
    "    df[_] = df[_].round(0).astype(int)\n",
    "\n",
    "df"
   ]
  },
  {
   "cell_type": "code",
   "execution_count": 4,
   "metadata": {},
   "outputs": [
    {
     "output_type": "execute_result",
     "data": {
      "text/plain": [
       "    company_age   all\n",
       "0             0   133\n",
       "1             1  1132\n",
       "2             2  2280\n",
       "3             3  4632\n",
       "4             4  4468\n",
       "5             5  3850\n",
       "6             6  3707\n",
       "7             7  3529\n",
       "8             8  2803\n",
       "9             9  2524\n",
       "10           10  2119\n",
       "11           11  1747"
      ],
      "text/html": "<div>\n<style scoped>\n    .dataframe tbody tr th:only-of-type {\n        vertical-align: middle;\n    }\n\n    .dataframe tbody tr th {\n        vertical-align: top;\n    }\n\n    .dataframe thead th {\n        text-align: right;\n    }\n</style>\n<table border=\"1\" class=\"dataframe\">\n  <thead>\n    <tr style=\"text-align: right;\">\n      <th></th>\n      <th>company_age</th>\n      <th>all</th>\n    </tr>\n  </thead>\n  <tbody>\n    <tr>\n      <th>0</th>\n      <td>0</td>\n      <td>133</td>\n    </tr>\n    <tr>\n      <th>1</th>\n      <td>1</td>\n      <td>1132</td>\n    </tr>\n    <tr>\n      <th>2</th>\n      <td>2</td>\n      <td>2280</td>\n    </tr>\n    <tr>\n      <th>3</th>\n      <td>3</td>\n      <td>4632</td>\n    </tr>\n    <tr>\n      <th>4</th>\n      <td>4</td>\n      <td>4468</td>\n    </tr>\n    <tr>\n      <th>5</th>\n      <td>5</td>\n      <td>3850</td>\n    </tr>\n    <tr>\n      <th>6</th>\n      <td>6</td>\n      <td>3707</td>\n    </tr>\n    <tr>\n      <th>7</th>\n      <td>7</td>\n      <td>3529</td>\n    </tr>\n    <tr>\n      <th>8</th>\n      <td>8</td>\n      <td>2803</td>\n    </tr>\n    <tr>\n      <th>9</th>\n      <td>9</td>\n      <td>2524</td>\n    </tr>\n    <tr>\n      <th>10</th>\n      <td>10</td>\n      <td>2119</td>\n    </tr>\n    <tr>\n      <th>11</th>\n      <td>11</td>\n      <td>1747</td>\n    </tr>\n  </tbody>\n</table>\n</div>"
     },
     "metadata": {},
     "execution_count": 4
    }
   ],
   "source": [
    "df_count_all =  df['founded_on'].value_counts().sort_index().to_frame()\n",
    "df_count_all.reset_index(inplace=True)\n",
    "df_count_all.rename(columns={'index': 'company_age', 'founded_on': 'all'}, inplace=True)\n",
    "df_count_all"
   ]
  },
  {
   "cell_type": "code",
   "execution_count": 5,
   "metadata": {},
   "outputs": [
    {
     "output_type": "execute_result",
     "data": {
      "text/plain": [
       "[    company_age   all\n",
       " 0             0   133\n",
       " 1             1  1132\n",
       " 2             2  2280\n",
       " 3             3  4632\n",
       " 4             4  4468\n",
       " 5             5  3850\n",
       " 6             6  3707\n",
       " 7             7  3529\n",
       " 8             8  2803\n",
       " 9             9  2524\n",
       " 10           10  2119\n",
       " 11           11  1747,\n",
       "     company_age  cat_pca_0\n",
       " 0             0         11\n",
       " 1             1         60\n",
       " 2             2        117\n",
       " 3             3        154\n",
       " 4             4        194\n",
       " 5             5        180\n",
       " 6             6        172\n",
       " 7             7        149\n",
       " 8             8        122\n",
       " 9             9        112\n",
       " 10           10        114\n",
       " 11           11        103,\n",
       "     company_age  cat_pca_1\n",
       " 0             0          3\n",
       " 1             1          9\n",
       " 2             2         12\n",
       " 3             3         22\n",
       " 4             4         14\n",
       " 5             5          7\n",
       " 6             6         21\n",
       " 7             7         53\n",
       " 8             8         69\n",
       " 9             9         51\n",
       " 10           10         58\n",
       " 11           11         47,\n",
       "     company_age  cat_pca_2\n",
       " 0             0         10\n",
       " 1             1         70\n",
       " 2             2         68\n",
       " 3             3         62\n",
       " 4             4         53\n",
       " 5             5         37\n",
       " 6             6         18\n",
       " 7             7         19\n",
       " 8             8         18\n",
       " 9             9          6\n",
       " 10           10          2,\n",
       "     company_age  cat_pca_3\n",
       " 0             0          2\n",
       " 1             1         10\n",
       " 2             2         17\n",
       " 3             3         84\n",
       " 4             4         65\n",
       " 5             5         23\n",
       " 6             6          5\n",
       " 7             7          8\n",
       " 8             8          3\n",
       " 9             9          1\n",
       " 10           10          2\n",
       " 11           11          2,\n",
       "    company_age  cat_pca_4\n",
       " 0            0          1\n",
       " 1            1          6\n",
       " 2            2         14\n",
       " 3            3         42\n",
       " 4            4         25\n",
       " 5            5          8\n",
       " 6            6          1\n",
       " 7            7          6\n",
       " 8            8          4\n",
       " 9            9          2]"
      ]
     },
     "metadata": {},
     "execution_count": 5
    }
   ],
   "source": [
    "df_category_counts = [df_count_all]\n",
    "\n",
    "for _ in categories:\n",
    "    temp = df[df[_] == 1]\n",
    "    df_count = temp['founded_on'].value_counts().sort_index().to_frame()\n",
    "    df_count.reset_index(inplace=True)\n",
    "    df_count.rename(columns={'index': 'company_age', 'founded_on': _},inplace=True)\n",
    "    df_category_counts.append(df_count)\n",
    "\n",
    "df_category_counts"
   ]
  },
  {
   "cell_type": "code",
   "execution_count": 6,
   "metadata": {},
   "outputs": [
    {
     "output_type": "execute_result",
     "data": {
      "text/plain": [
       "    company_age   all  cat_pca_0  cat_pca_1  cat_pca_2  cat_pca_3  cat_pca_4\n",
       "0             0   133         11          3         10          2          1\n",
       "1             1  1132         60          9         70         10          6\n",
       "2             2  2280        117         12         68         17         14\n",
       "3             3  4632        154         22         62         84         42\n",
       "4             4  4468        194         14         53         65         25\n",
       "5             5  3850        180          7         37         23          8\n",
       "6             6  3707        172         21         18          5          1\n",
       "7             7  3529        149         53         19          8          6\n",
       "8             8  2803        122         69         18          3          4\n",
       "9             9  2524        112         51          6          1          2\n",
       "10           10  2119        114         58          2          2          0\n",
       "11           11  1747        103         47          0          2          0"
      ],
      "text/html": "<div>\n<style scoped>\n    .dataframe tbody tr th:only-of-type {\n        vertical-align: middle;\n    }\n\n    .dataframe tbody tr th {\n        vertical-align: top;\n    }\n\n    .dataframe thead th {\n        text-align: right;\n    }\n</style>\n<table border=\"1\" class=\"dataframe\">\n  <thead>\n    <tr style=\"text-align: right;\">\n      <th></th>\n      <th>company_age</th>\n      <th>all</th>\n      <th>cat_pca_0</th>\n      <th>cat_pca_1</th>\n      <th>cat_pca_2</th>\n      <th>cat_pca_3</th>\n      <th>cat_pca_4</th>\n    </tr>\n  </thead>\n  <tbody>\n    <tr>\n      <th>0</th>\n      <td>0</td>\n      <td>133</td>\n      <td>11</td>\n      <td>3</td>\n      <td>10</td>\n      <td>2</td>\n      <td>1</td>\n    </tr>\n    <tr>\n      <th>1</th>\n      <td>1</td>\n      <td>1132</td>\n      <td>60</td>\n      <td>9</td>\n      <td>70</td>\n      <td>10</td>\n      <td>6</td>\n    </tr>\n    <tr>\n      <th>2</th>\n      <td>2</td>\n      <td>2280</td>\n      <td>117</td>\n      <td>12</td>\n      <td>68</td>\n      <td>17</td>\n      <td>14</td>\n    </tr>\n    <tr>\n      <th>3</th>\n      <td>3</td>\n      <td>4632</td>\n      <td>154</td>\n      <td>22</td>\n      <td>62</td>\n      <td>84</td>\n      <td>42</td>\n    </tr>\n    <tr>\n      <th>4</th>\n      <td>4</td>\n      <td>4468</td>\n      <td>194</td>\n      <td>14</td>\n      <td>53</td>\n      <td>65</td>\n      <td>25</td>\n    </tr>\n    <tr>\n      <th>5</th>\n      <td>5</td>\n      <td>3850</td>\n      <td>180</td>\n      <td>7</td>\n      <td>37</td>\n      <td>23</td>\n      <td>8</td>\n    </tr>\n    <tr>\n      <th>6</th>\n      <td>6</td>\n      <td>3707</td>\n      <td>172</td>\n      <td>21</td>\n      <td>18</td>\n      <td>5</td>\n      <td>1</td>\n    </tr>\n    <tr>\n      <th>7</th>\n      <td>7</td>\n      <td>3529</td>\n      <td>149</td>\n      <td>53</td>\n      <td>19</td>\n      <td>8</td>\n      <td>6</td>\n    </tr>\n    <tr>\n      <th>8</th>\n      <td>8</td>\n      <td>2803</td>\n      <td>122</td>\n      <td>69</td>\n      <td>18</td>\n      <td>3</td>\n      <td>4</td>\n    </tr>\n    <tr>\n      <th>9</th>\n      <td>9</td>\n      <td>2524</td>\n      <td>112</td>\n      <td>51</td>\n      <td>6</td>\n      <td>1</td>\n      <td>2</td>\n    </tr>\n    <tr>\n      <th>10</th>\n      <td>10</td>\n      <td>2119</td>\n      <td>114</td>\n      <td>58</td>\n      <td>2</td>\n      <td>2</td>\n      <td>0</td>\n    </tr>\n    <tr>\n      <th>11</th>\n      <td>11</td>\n      <td>1747</td>\n      <td>103</td>\n      <td>47</td>\n      <td>0</td>\n      <td>2</td>\n      <td>0</td>\n    </tr>\n  </tbody>\n</table>\n</div>"
     },
     "metadata": {},
     "execution_count": 6
    }
   ],
   "source": [
    "# Merge dataframes together (Join on 'company_age')\n",
    "from functools import reduce\n",
    "\n",
    "df_merged = reduce(lambda left,right: pd.merge(left, right, on='company_age', how='left'),df_category_counts)\n",
    "\n",
    "# Fill NaN generated from natural left join\n",
    "for _ in categories:\n",
    "    df_merged[_] = df_merged[_].fillna(0).astype(int)\n",
    "\n",
    "df_merged"
   ]
  },
  {
   "source": [
    "## No. of Funding Rounds"
   ],
   "cell_type": "markdown",
   "metadata": {}
  },
  {
   "cell_type": "code",
   "execution_count": 1,
   "metadata": {},
   "outputs": [],
   "source": [
    "import pandas as pd\n",
    "df = pd.read_csv(\"../Week3_Onwards/unifed_csv_without_duplicated_company.csv\")"
   ]
  },
  {
   "cell_type": "code",
   "execution_count": 2,
   "metadata": {},
   "outputs": [
    {
     "output_type": "execute_result",
     "data": {
      "text/plain": [
       "0.0        4\n",
       "1.0     6396\n",
       "2.0     2518\n",
       "3.0     1304\n",
       "4.0      780\n",
       "5.0      429\n",
       "6.0      246\n",
       "7.0      151\n",
       "8.0       94\n",
       "9.0       46\n",
       "10.0      22\n",
       "11.0      18\n",
       "12.0       7\n",
       "13.0       5\n",
       "14.0       7\n",
       "15.0       3\n",
       "16.0       2\n",
       "17.0       1\n",
       "19.0       1\n",
       "20.0       1\n",
       "23.0       1\n",
       "Name: num_funding_rounds, dtype: int64"
      ]
     },
     "metadata": {},
     "execution_count": 2
    }
   ],
   "source": [
    "series = df['num_funding_rounds'].value_counts().sort_index()\n",
    "series"
   ]
  },
  {
   "cell_type": "code",
   "execution_count": 3,
   "metadata": {},
   "outputs": [
    {
     "output_type": "execute_result",
     "data": {
      "text/plain": [
       "    index  num_funding_rounds\n",
       "1     1.0                6396\n",
       "2     2.0                2518\n",
       "3     3.0                1304\n",
       "4     4.0                 780\n",
       "5     5.0                 429\n",
       "6     6.0                 246\n",
       "7     7.0                 151\n",
       "8     8.0                  94\n",
       "9     9.0                  46\n",
       "10   10.0                  22\n",
       "11   11.0                  18\n",
       "12   12.0                   7\n",
       "13   13.0                   5\n",
       "14   14.0                   7\n",
       "15   15.0                   3\n",
       "16   16.0                   2\n",
       "17   17.0                   1\n",
       "18   19.0                   1\n",
       "19   20.0                   1\n",
       "20   23.0                   1"
      ],
      "text/html": "<div>\n<style scoped>\n    .dataframe tbody tr th:only-of-type {\n        vertical-align: middle;\n    }\n\n    .dataframe tbody tr th {\n        vertical-align: top;\n    }\n\n    .dataframe thead th {\n        text-align: right;\n    }\n</style>\n<table border=\"1\" class=\"dataframe\">\n  <thead>\n    <tr style=\"text-align: right;\">\n      <th></th>\n      <th>index</th>\n      <th>num_funding_rounds</th>\n    </tr>\n  </thead>\n  <tbody>\n    <tr>\n      <th>1</th>\n      <td>1.0</td>\n      <td>6396</td>\n    </tr>\n    <tr>\n      <th>2</th>\n      <td>2.0</td>\n      <td>2518</td>\n    </tr>\n    <tr>\n      <th>3</th>\n      <td>3.0</td>\n      <td>1304</td>\n    </tr>\n    <tr>\n      <th>4</th>\n      <td>4.0</td>\n      <td>780</td>\n    </tr>\n    <tr>\n      <th>5</th>\n      <td>5.0</td>\n      <td>429</td>\n    </tr>\n    <tr>\n      <th>6</th>\n      <td>6.0</td>\n      <td>246</td>\n    </tr>\n    <tr>\n      <th>7</th>\n      <td>7.0</td>\n      <td>151</td>\n    </tr>\n    <tr>\n      <th>8</th>\n      <td>8.0</td>\n      <td>94</td>\n    </tr>\n    <tr>\n      <th>9</th>\n      <td>9.0</td>\n      <td>46</td>\n    </tr>\n    <tr>\n      <th>10</th>\n      <td>10.0</td>\n      <td>22</td>\n    </tr>\n    <tr>\n      <th>11</th>\n      <td>11.0</td>\n      <td>18</td>\n    </tr>\n    <tr>\n      <th>12</th>\n      <td>12.0</td>\n      <td>7</td>\n    </tr>\n    <tr>\n      <th>13</th>\n      <td>13.0</td>\n      <td>5</td>\n    </tr>\n    <tr>\n      <th>14</th>\n      <td>14.0</td>\n      <td>7</td>\n    </tr>\n    <tr>\n      <th>15</th>\n      <td>15.0</td>\n      <td>3</td>\n    </tr>\n    <tr>\n      <th>16</th>\n      <td>16.0</td>\n      <td>2</td>\n    </tr>\n    <tr>\n      <th>17</th>\n      <td>17.0</td>\n      <td>1</td>\n    </tr>\n    <tr>\n      <th>18</th>\n      <td>19.0</td>\n      <td>1</td>\n    </tr>\n    <tr>\n      <th>19</th>\n      <td>20.0</td>\n      <td>1</td>\n    </tr>\n    <tr>\n      <th>20</th>\n      <td>23.0</td>\n      <td>1</td>\n    </tr>\n  </tbody>\n</table>\n</div>"
     },
     "metadata": {},
     "execution_count": 3
    }
   ],
   "source": [
    "df = series.to_frame()\n",
    "df = series.reset_index().drop(index=0) # Remove no. of rounds == 0\n",
    "df"
   ]
  },
  {
   "cell_type": "code",
   "execution_count": 4,
   "metadata": {},
   "outputs": [
    {
     "output_type": "execute_result",
     "data": {
      "text/plain": [
       "   index  num_funding_rounds\n",
       "1      1                6396\n",
       "2      2                2518\n",
       "3      3                1304\n",
       "4      4                 780\n",
       "5      5                 429\n",
       "6      6                 246\n",
       "7      7                 151\n",
       "8      8                  94\n",
       "9      9                  46\n",
       "10    10                  22\n",
       "11    11                  18\n",
       "12    12                   7\n",
       "13    13                   5\n",
       "14    14                   7\n",
       "15    15                   3\n",
       "16    16                   2\n",
       "17    17                   1\n",
       "18    19                   1\n",
       "19    20                   1\n",
       "20    23                   1"
      ],
      "text/html": "<div>\n<style scoped>\n    .dataframe tbody tr th:only-of-type {\n        vertical-align: middle;\n    }\n\n    .dataframe tbody tr th {\n        vertical-align: top;\n    }\n\n    .dataframe thead th {\n        text-align: right;\n    }\n</style>\n<table border=\"1\" class=\"dataframe\">\n  <thead>\n    <tr style=\"text-align: right;\">\n      <th></th>\n      <th>index</th>\n      <th>num_funding_rounds</th>\n    </tr>\n  </thead>\n  <tbody>\n    <tr>\n      <th>1</th>\n      <td>1</td>\n      <td>6396</td>\n    </tr>\n    <tr>\n      <th>2</th>\n      <td>2</td>\n      <td>2518</td>\n    </tr>\n    <tr>\n      <th>3</th>\n      <td>3</td>\n      <td>1304</td>\n    </tr>\n    <tr>\n      <th>4</th>\n      <td>4</td>\n      <td>780</td>\n    </tr>\n    <tr>\n      <th>5</th>\n      <td>5</td>\n      <td>429</td>\n    </tr>\n    <tr>\n      <th>6</th>\n      <td>6</td>\n      <td>246</td>\n    </tr>\n    <tr>\n      <th>7</th>\n      <td>7</td>\n      <td>151</td>\n    </tr>\n    <tr>\n      <th>8</th>\n      <td>8</td>\n      <td>94</td>\n    </tr>\n    <tr>\n      <th>9</th>\n      <td>9</td>\n      <td>46</td>\n    </tr>\n    <tr>\n      <th>10</th>\n      <td>10</td>\n      <td>22</td>\n    </tr>\n    <tr>\n      <th>11</th>\n      <td>11</td>\n      <td>18</td>\n    </tr>\n    <tr>\n      <th>12</th>\n      <td>12</td>\n      <td>7</td>\n    </tr>\n    <tr>\n      <th>13</th>\n      <td>13</td>\n      <td>5</td>\n    </tr>\n    <tr>\n      <th>14</th>\n      <td>14</td>\n      <td>7</td>\n    </tr>\n    <tr>\n      <th>15</th>\n      <td>15</td>\n      <td>3</td>\n    </tr>\n    <tr>\n      <th>16</th>\n      <td>16</td>\n      <td>2</td>\n    </tr>\n    <tr>\n      <th>17</th>\n      <td>17</td>\n      <td>1</td>\n    </tr>\n    <tr>\n      <th>18</th>\n      <td>19</td>\n      <td>1</td>\n    </tr>\n    <tr>\n      <th>19</th>\n      <td>20</td>\n      <td>1</td>\n    </tr>\n    <tr>\n      <th>20</th>\n      <td>23</td>\n      <td>1</td>\n    </tr>\n  </tbody>\n</table>\n</div>"
     },
     "metadata": {},
     "execution_count": 4
    }
   ],
   "source": [
    "df['index'] = df['index'].astype(int).astype(str)\n",
    "df"
   ]
  },
  {
   "cell_type": "code",
   "execution_count": 5,
   "metadata": {},
   "outputs": [
    {
     "output_type": "execute_result",
     "data": {
      "text/plain": [
       "   x_labels  y_values\n",
       "1         1      6396\n",
       "2         2      2518\n",
       "3         3      1304\n",
       "4         4       780\n",
       "5         5       429\n",
       "6         6       246\n",
       "7         7       151\n",
       "8         8        94\n",
       "9         9        46\n",
       "10       10        22\n",
       "11       11        18\n",
       "12       12         7\n",
       "13       13         5\n",
       "14       14         7\n",
       "15       15         3\n",
       "16       16         2\n",
       "17       17         1\n",
       "18       19         1\n",
       "19       20         1\n",
       "20       23         1"
      ],
      "text/html": "<div>\n<style scoped>\n    .dataframe tbody tr th:only-of-type {\n        vertical-align: middle;\n    }\n\n    .dataframe tbody tr th {\n        vertical-align: top;\n    }\n\n    .dataframe thead th {\n        text-align: right;\n    }\n</style>\n<table border=\"1\" class=\"dataframe\">\n  <thead>\n    <tr style=\"text-align: right;\">\n      <th></th>\n      <th>x_labels</th>\n      <th>y_values</th>\n    </tr>\n  </thead>\n  <tbody>\n    <tr>\n      <th>1</th>\n      <td>1</td>\n      <td>6396</td>\n    </tr>\n    <tr>\n      <th>2</th>\n      <td>2</td>\n      <td>2518</td>\n    </tr>\n    <tr>\n      <th>3</th>\n      <td>3</td>\n      <td>1304</td>\n    </tr>\n    <tr>\n      <th>4</th>\n      <td>4</td>\n      <td>780</td>\n    </tr>\n    <tr>\n      <th>5</th>\n      <td>5</td>\n      <td>429</td>\n    </tr>\n    <tr>\n      <th>6</th>\n      <td>6</td>\n      <td>246</td>\n    </tr>\n    <tr>\n      <th>7</th>\n      <td>7</td>\n      <td>151</td>\n    </tr>\n    <tr>\n      <th>8</th>\n      <td>8</td>\n      <td>94</td>\n    </tr>\n    <tr>\n      <th>9</th>\n      <td>9</td>\n      <td>46</td>\n    </tr>\n    <tr>\n      <th>10</th>\n      <td>10</td>\n      <td>22</td>\n    </tr>\n    <tr>\n      <th>11</th>\n      <td>11</td>\n      <td>18</td>\n    </tr>\n    <tr>\n      <th>12</th>\n      <td>12</td>\n      <td>7</td>\n    </tr>\n    <tr>\n      <th>13</th>\n      <td>13</td>\n      <td>5</td>\n    </tr>\n    <tr>\n      <th>14</th>\n      <td>14</td>\n      <td>7</td>\n    </tr>\n    <tr>\n      <th>15</th>\n      <td>15</td>\n      <td>3</td>\n    </tr>\n    <tr>\n      <th>16</th>\n      <td>16</td>\n      <td>2</td>\n    </tr>\n    <tr>\n      <th>17</th>\n      <td>17</td>\n      <td>1</td>\n    </tr>\n    <tr>\n      <th>18</th>\n      <td>19</td>\n      <td>1</td>\n    </tr>\n    <tr>\n      <th>19</th>\n      <td>20</td>\n      <td>1</td>\n    </tr>\n    <tr>\n      <th>20</th>\n      <td>23</td>\n      <td>1</td>\n    </tr>\n  </tbody>\n</table>\n</div>"
     },
     "metadata": {},
     "execution_count": 5
    }
   ],
   "source": [
    "df.rename(columns={'index': 'x_labels', 'num_funding_rounds': 'y_values'}, inplace=True)\n",
    "df"
   ]
  },
  {
   "cell_type": "code",
   "execution_count": 6,
   "metadata": {},
   "outputs": [
    {
     "output_type": "execute_result",
     "data": {
      "text/plain": [
       "  x_labels  y_values\n",
       "1        1      6396\n",
       "2        2      2518\n",
       "3        3      1304\n",
       "4        4       780\n",
       "5        5       429\n",
       "6        6       246\n",
       "7        7       151\n",
       "8       ≥8       208"
      ],
      "text/html": "<div>\n<style scoped>\n    .dataframe tbody tr th:only-of-type {\n        vertical-align: middle;\n    }\n\n    .dataframe tbody tr th {\n        vertical-align: top;\n    }\n\n    .dataframe thead th {\n        text-align: right;\n    }\n</style>\n<table border=\"1\" class=\"dataframe\">\n  <thead>\n    <tr style=\"text-align: right;\">\n      <th></th>\n      <th>x_labels</th>\n      <th>y_values</th>\n    </tr>\n  </thead>\n  <tbody>\n    <tr>\n      <th>1</th>\n      <td>1</td>\n      <td>6396</td>\n    </tr>\n    <tr>\n      <th>2</th>\n      <td>2</td>\n      <td>2518</td>\n    </tr>\n    <tr>\n      <th>3</th>\n      <td>3</td>\n      <td>1304</td>\n    </tr>\n    <tr>\n      <th>4</th>\n      <td>4</td>\n      <td>780</td>\n    </tr>\n    <tr>\n      <th>5</th>\n      <td>5</td>\n      <td>429</td>\n    </tr>\n    <tr>\n      <th>6</th>\n      <td>6</td>\n      <td>246</td>\n    </tr>\n    <tr>\n      <th>7</th>\n      <td>7</td>\n      <td>151</td>\n    </tr>\n    <tr>\n      <th>8</th>\n      <td>≥8</td>\n      <td>208</td>\n    </tr>\n  </tbody>\n</table>\n</div>"
     },
     "metadata": {},
     "execution_count": 6
    }
   ],
   "source": [
    "# Sum the \"y_values\" starting from row 8 to 20\n",
    "# Also change the x_labels of row 8 to \"8+\"\n",
    "df.iloc[7,1] = df.iloc[7:, 1].sum()\n",
    "df.iloc[7,0] = '≥8'\n",
    "df = df[:8]    # Only take the first 8 rows\n",
    "df"
   ]
  },
  {
   "cell_type": "code",
   "execution_count": 7,
   "metadata": {},
   "outputs": [
    {
     "output_type": "execute_result",
     "data": {
      "text/plain": [
       "'x_labels,y_values\\r\\n1,6396\\r\\n2,2518\\r\\n3,1304\\r\\n4,780\\r\\n5,429\\r\\n6,246\\r\\n7,151\\r\\n≥8,208\\r\\n'"
      ]
     },
     "metadata": {},
     "execution_count": 7
    }
   ],
   "source": [
    "df.to_csv(index=False)"
   ]
  },
  {
   "source": [
    "## No. of Investments by Top 20 Investors"
   ],
   "cell_type": "markdown",
   "metadata": {}
  },
  {
   "cell_type": "code",
   "execution_count": 11,
   "metadata": {},
   "outputs": [
    {
     "output_type": "execute_result",
     "data": {
      "text/plain": [
       "                                   uuid              name          type  \\\n",
       "0  bf4d7b0e-b34d-2fd8-d292-6049c4f7efc7              Zoho  organization   \n",
       "1  f4d5ab44-058b-298b-ea81-380e6e9a8eec   Omidyar Network  organization   \n",
       "2  df662812-7f97-0b43-9d3e-12f64f504fbb          Facebook  organization   \n",
       "3  a01b8d46-d311-3333-7c34-aa3ae9c03f22   Mark Zuckerberg        person   \n",
       "4  084aaa07-0795-1fe8-9c46-98bbeb02cd64  Dustin Moskovitz        person   \n",
       "\n",
       "              roles        domain country_code      region           city  \\\n",
       "0  investor,company      zoho.com          USA  California     Pleasanton   \n",
       "1          investor   omidyar.com          USA  California   Redwood City   \n",
       "2  investor,company  facebook.com          USA  California     Menlo Park   \n",
       "3          investor           NaN          USA  California      Palo Alto   \n",
       "4          investor           NaN          USA  California  San Francisco   \n",
       "\n",
       "             investor_types  investment_count  total_funding_usd founded_on  \\\n",
       "0                       NaN               6.0                NaN  15/9/1996   \n",
       "1  family_investment_office             315.0                NaN   1/1/2004   \n",
       "2                       NaN              32.0       1.612282e+10   4/2/2004   \n",
       "3                     angel               8.0                NaN        NaN   \n",
       "4                     angel              13.0                NaN        NaN   \n",
       "\n",
       "  closed_on  \n",
       "0       NaN  \n",
       "1       NaN  \n",
       "2       NaN  \n",
       "3       NaN  \n",
       "4       NaN  "
      ],
      "text/html": "<div>\n<style scoped>\n    .dataframe tbody tr th:only-of-type {\n        vertical-align: middle;\n    }\n\n    .dataframe tbody tr th {\n        vertical-align: top;\n    }\n\n    .dataframe thead th {\n        text-align: right;\n    }\n</style>\n<table border=\"1\" class=\"dataframe\">\n  <thead>\n    <tr style=\"text-align: right;\">\n      <th></th>\n      <th>uuid</th>\n      <th>name</th>\n      <th>type</th>\n      <th>roles</th>\n      <th>domain</th>\n      <th>country_code</th>\n      <th>region</th>\n      <th>city</th>\n      <th>investor_types</th>\n      <th>investment_count</th>\n      <th>total_funding_usd</th>\n      <th>founded_on</th>\n      <th>closed_on</th>\n    </tr>\n  </thead>\n  <tbody>\n    <tr>\n      <th>0</th>\n      <td>bf4d7b0e-b34d-2fd8-d292-6049c4f7efc7</td>\n      <td>Zoho</td>\n      <td>organization</td>\n      <td>investor,company</td>\n      <td>zoho.com</td>\n      <td>USA</td>\n      <td>California</td>\n      <td>Pleasanton</td>\n      <td>NaN</td>\n      <td>6.0</td>\n      <td>NaN</td>\n      <td>15/9/1996</td>\n      <td>NaN</td>\n    </tr>\n    <tr>\n      <th>1</th>\n      <td>f4d5ab44-058b-298b-ea81-380e6e9a8eec</td>\n      <td>Omidyar Network</td>\n      <td>organization</td>\n      <td>investor</td>\n      <td>omidyar.com</td>\n      <td>USA</td>\n      <td>California</td>\n      <td>Redwood City</td>\n      <td>family_investment_office</td>\n      <td>315.0</td>\n      <td>NaN</td>\n      <td>1/1/2004</td>\n      <td>NaN</td>\n    </tr>\n    <tr>\n      <th>2</th>\n      <td>df662812-7f97-0b43-9d3e-12f64f504fbb</td>\n      <td>Facebook</td>\n      <td>organization</td>\n      <td>investor,company</td>\n      <td>facebook.com</td>\n      <td>USA</td>\n      <td>California</td>\n      <td>Menlo Park</td>\n      <td>NaN</td>\n      <td>32.0</td>\n      <td>1.612282e+10</td>\n      <td>4/2/2004</td>\n      <td>NaN</td>\n    </tr>\n    <tr>\n      <th>3</th>\n      <td>a01b8d46-d311-3333-7c34-aa3ae9c03f22</td>\n      <td>Mark Zuckerberg</td>\n      <td>person</td>\n      <td>investor</td>\n      <td>NaN</td>\n      <td>USA</td>\n      <td>California</td>\n      <td>Palo Alto</td>\n      <td>angel</td>\n      <td>8.0</td>\n      <td>NaN</td>\n      <td>NaN</td>\n      <td>NaN</td>\n    </tr>\n    <tr>\n      <th>4</th>\n      <td>084aaa07-0795-1fe8-9c46-98bbeb02cd64</td>\n      <td>Dustin Moskovitz</td>\n      <td>person</td>\n      <td>investor</td>\n      <td>NaN</td>\n      <td>USA</td>\n      <td>California</td>\n      <td>San Francisco</td>\n      <td>angel</td>\n      <td>13.0</td>\n      <td>NaN</td>\n      <td>NaN</td>\n      <td>NaN</td>\n    </tr>\n  </tbody>\n</table>\n</div>"
     },
     "metadata": {},
     "execution_count": 11
    }
   ],
   "source": [
    "import pandas as pd\n",
    "df = pd.read_csv(\"../bulk_export_processed/investors_processed.csv\")\n",
    "df.head()"
   ]
  },
  {
   "cell_type": "code",
   "execution_count": 12,
   "metadata": {},
   "outputs": [
    {
     "output_type": "execute_result",
     "data": {
      "text/plain": [
       "                                                     name  investment_count\n",
       "0                                                    Zoho               6.0\n",
       "1                                         Omidyar Network             315.0\n",
       "2                                                Facebook              32.0\n",
       "3                                         Mark Zuckerberg               8.0\n",
       "4                                        Dustin Moskovitz              13.0\n",
       "...                                                   ...               ...\n",
       "168186                                        Sara Wright               NaN\n",
       "168187  Shanghai Yongquan Yixin Investment Development...               1.0\n",
       "168188                                     Ignite Capital               NaN\n",
       "168189                                S&C Messina Capital               NaN\n",
       "168190                                  Line of Credit.AI               NaN\n",
       "\n",
       "[168191 rows x 2 columns]"
      ],
      "text/html": "<div>\n<style scoped>\n    .dataframe tbody tr th:only-of-type {\n        vertical-align: middle;\n    }\n\n    .dataframe tbody tr th {\n        vertical-align: top;\n    }\n\n    .dataframe thead th {\n        text-align: right;\n    }\n</style>\n<table border=\"1\" class=\"dataframe\">\n  <thead>\n    <tr style=\"text-align: right;\">\n      <th></th>\n      <th>name</th>\n      <th>investment_count</th>\n    </tr>\n  </thead>\n  <tbody>\n    <tr>\n      <th>0</th>\n      <td>Zoho</td>\n      <td>6.0</td>\n    </tr>\n    <tr>\n      <th>1</th>\n      <td>Omidyar Network</td>\n      <td>315.0</td>\n    </tr>\n    <tr>\n      <th>2</th>\n      <td>Facebook</td>\n      <td>32.0</td>\n    </tr>\n    <tr>\n      <th>3</th>\n      <td>Mark Zuckerberg</td>\n      <td>8.0</td>\n    </tr>\n    <tr>\n      <th>4</th>\n      <td>Dustin Moskovitz</td>\n      <td>13.0</td>\n    </tr>\n    <tr>\n      <th>...</th>\n      <td>...</td>\n      <td>...</td>\n    </tr>\n    <tr>\n      <th>168186</th>\n      <td>Sara Wright</td>\n      <td>NaN</td>\n    </tr>\n    <tr>\n      <th>168187</th>\n      <td>Shanghai Yongquan Yixin Investment Development...</td>\n      <td>1.0</td>\n    </tr>\n    <tr>\n      <th>168188</th>\n      <td>Ignite Capital</td>\n      <td>NaN</td>\n    </tr>\n    <tr>\n      <th>168189</th>\n      <td>S&amp;C Messina Capital</td>\n      <td>NaN</td>\n    </tr>\n    <tr>\n      <th>168190</th>\n      <td>Line of Credit.AI</td>\n      <td>NaN</td>\n    </tr>\n  </tbody>\n</table>\n<p>168191 rows × 2 columns</p>\n</div>"
     },
     "metadata": {},
     "execution_count": 12
    }
   ],
   "source": [
    "# Drop unnecessary columns\n",
    "keep_col = ['name', 'investment_count']\n",
    "df = df[keep_col]\n",
    "df"
   ]
  },
  {
   "cell_type": "code",
   "execution_count": 13,
   "metadata": {},
   "outputs": [
    {
     "output_type": "execute_result",
     "data": {
      "text/plain": [
       "                             name  investment_count\n",
       "1                 Omidyar Network             315.0\n",
       "10               Trinity Ventures             444.0\n",
       "11                          Accel            1499.0\n",
       "12      Meritech Capital Partners             279.0\n",
       "26               Mission Ventures             101.0\n",
       "...                           ...               ...\n",
       "125169                  Threshold             849.0\n",
       "126312                    Upscale             110.0\n",
       "128176      Pegasus Tech Ventures             210.0\n",
       "131294               WRVI Capital             104.0\n",
       "149823              FastTrackTech             106.0\n",
       "\n",
       "[763 rows x 2 columns]"
      ],
      "text/html": "<div>\n<style scoped>\n    .dataframe tbody tr th:only-of-type {\n        vertical-align: middle;\n    }\n\n    .dataframe tbody tr th {\n        vertical-align: top;\n    }\n\n    .dataframe thead th {\n        text-align: right;\n    }\n</style>\n<table border=\"1\" class=\"dataframe\">\n  <thead>\n    <tr style=\"text-align: right;\">\n      <th></th>\n      <th>name</th>\n      <th>investment_count</th>\n    </tr>\n  </thead>\n  <tbody>\n    <tr>\n      <th>1</th>\n      <td>Omidyar Network</td>\n      <td>315.0</td>\n    </tr>\n    <tr>\n      <th>10</th>\n      <td>Trinity Ventures</td>\n      <td>444.0</td>\n    </tr>\n    <tr>\n      <th>11</th>\n      <td>Accel</td>\n      <td>1499.0</td>\n    </tr>\n    <tr>\n      <th>12</th>\n      <td>Meritech Capital Partners</td>\n      <td>279.0</td>\n    </tr>\n    <tr>\n      <th>26</th>\n      <td>Mission Ventures</td>\n      <td>101.0</td>\n    </tr>\n    <tr>\n      <th>...</th>\n      <td>...</td>\n      <td>...</td>\n    </tr>\n    <tr>\n      <th>125169</th>\n      <td>Threshold</td>\n      <td>849.0</td>\n    </tr>\n    <tr>\n      <th>126312</th>\n      <td>Upscale</td>\n      <td>110.0</td>\n    </tr>\n    <tr>\n      <th>128176</th>\n      <td>Pegasus Tech Ventures</td>\n      <td>210.0</td>\n    </tr>\n    <tr>\n      <th>131294</th>\n      <td>WRVI Capital</td>\n      <td>104.0</td>\n    </tr>\n    <tr>\n      <th>149823</th>\n      <td>FastTrackTech</td>\n      <td>106.0</td>\n    </tr>\n  </tbody>\n</table>\n<p>763 rows × 2 columns</p>\n</div>"
     },
     "metadata": {},
     "execution_count": 13
    }
   ],
   "source": [
    "# Drop NaN and filter out investors with investment_count < 100\n",
    "df.dropna(axis=0, how='any', subset=['investment_count'], inplace=True)\n",
    "df.drop(df[df['investment_count'] < 100].index, inplace=True)\n",
    "df"
   ]
  },
  {
   "cell_type": "code",
   "execution_count": 14,
   "metadata": {},
   "outputs": [
    {
     "output_type": "execute_result",
     "data": {
      "text/plain": [
       "                                       name  investment_count\n",
       "27418  EASME - EU Executive Agency for SMEs              3715\n",
       "2270                           Y Combinator              3272\n",
       "51976                             Techstars              3093\n",
       "15698                          500 Startups              2427\n",
       "724               New Enterprise Associates              1874\n",
       "13792                                  SOSV              1830\n",
       "11                                    Accel              1499\n",
       "45                          Sequoia Capital              1427\n",
       "1774                          Intel Capital              1418\n",
       "14705                         MassChallenge              1342\n",
       "1753                            IDG Capital              1238\n",
       "53684                          Venture Kick              1231\n",
       "83                          Kleiner Perkins              1213\n",
       "21639                                 Wayra              1158\n",
       "20250                             Crowdcube              1133\n",
       "16463                         plug and play              1072\n",
       "84                Bessemer Venture Partners              1010\n",
       "9837                                NYSERDA              1004\n",
       "10111                              SV Angel               932\n",
       "13301         Right Side Capital Management               914"
      ],
      "text/html": "<div>\n<style scoped>\n    .dataframe tbody tr th:only-of-type {\n        vertical-align: middle;\n    }\n\n    .dataframe tbody tr th {\n        vertical-align: top;\n    }\n\n    .dataframe thead th {\n        text-align: right;\n    }\n</style>\n<table border=\"1\" class=\"dataframe\">\n  <thead>\n    <tr style=\"text-align: right;\">\n      <th></th>\n      <th>name</th>\n      <th>investment_count</th>\n    </tr>\n  </thead>\n  <tbody>\n    <tr>\n      <th>27418</th>\n      <td>EASME - EU Executive Agency for SMEs</td>\n      <td>3715</td>\n    </tr>\n    <tr>\n      <th>2270</th>\n      <td>Y Combinator</td>\n      <td>3272</td>\n    </tr>\n    <tr>\n      <th>51976</th>\n      <td>Techstars</td>\n      <td>3093</td>\n    </tr>\n    <tr>\n      <th>15698</th>\n      <td>500 Startups</td>\n      <td>2427</td>\n    </tr>\n    <tr>\n      <th>724</th>\n      <td>New Enterprise Associates</td>\n      <td>1874</td>\n    </tr>\n    <tr>\n      <th>13792</th>\n      <td>SOSV</td>\n      <td>1830</td>\n    </tr>\n    <tr>\n      <th>11</th>\n      <td>Accel</td>\n      <td>1499</td>\n    </tr>\n    <tr>\n      <th>45</th>\n      <td>Sequoia Capital</td>\n      <td>1427</td>\n    </tr>\n    <tr>\n      <th>1774</th>\n      <td>Intel Capital</td>\n      <td>1418</td>\n    </tr>\n    <tr>\n      <th>14705</th>\n      <td>MassChallenge</td>\n      <td>1342</td>\n    </tr>\n    <tr>\n      <th>1753</th>\n      <td>IDG Capital</td>\n      <td>1238</td>\n    </tr>\n    <tr>\n      <th>53684</th>\n      <td>Venture Kick</td>\n      <td>1231</td>\n    </tr>\n    <tr>\n      <th>83</th>\n      <td>Kleiner Perkins</td>\n      <td>1213</td>\n    </tr>\n    <tr>\n      <th>21639</th>\n      <td>Wayra</td>\n      <td>1158</td>\n    </tr>\n    <tr>\n      <th>20250</th>\n      <td>Crowdcube</td>\n      <td>1133</td>\n    </tr>\n    <tr>\n      <th>16463</th>\n      <td>plug and play</td>\n      <td>1072</td>\n    </tr>\n    <tr>\n      <th>84</th>\n      <td>Bessemer Venture Partners</td>\n      <td>1010</td>\n    </tr>\n    <tr>\n      <th>9837</th>\n      <td>NYSERDA</td>\n      <td>1004</td>\n    </tr>\n    <tr>\n      <th>10111</th>\n      <td>SV Angel</td>\n      <td>932</td>\n    </tr>\n    <tr>\n      <th>13301</th>\n      <td>Right Side Capital Management</td>\n      <td>914</td>\n    </tr>\n  </tbody>\n</table>\n</div>"
     },
     "metadata": {},
     "execution_count": 14
    }
   ],
   "source": [
    "# Cast `investment_count` to int & sort in descending order\n",
    "df['investment_count'] = df['investment_count'].astype(int)\n",
    "df.sort_values(by='investment_count', axis=0, ascending=False, inplace=True)\n",
    "\n",
    "# Get the first 20 rows (ie. top 20 investors)\n",
    "df = df[:20]\n",
    "\n",
    "df"
   ]
  },
  {
   "cell_type": "code",
   "execution_count": 15,
   "metadata": {},
   "outputs": [
    {
     "output_type": "execute_result",
     "data": {
      "text/plain": [
       "                                    name  investment_count\n",
       "0   EASME - EU Executive Agency for SMEs              3715\n",
       "1                           Y Combinator              3272\n",
       "2                              Techstars              3093\n",
       "3                           500 Startups              2427\n",
       "4              New Enterprise Associates              1874\n",
       "5                                   SOSV              1830\n",
       "6                                  Accel              1499\n",
       "7                        Sequoia Capital              1427\n",
       "8                          Intel Capital              1418\n",
       "9                          MassChallenge              1342\n",
       "10                           IDG Capital              1238\n",
       "11                          Venture Kick              1231\n",
       "12                       Kleiner Perkins              1213\n",
       "13                                 Wayra              1158\n",
       "14                             Crowdcube              1133\n",
       "15                         plug and play              1072\n",
       "16             Bessemer Venture Partners              1010\n",
       "17                               NYSERDA              1004\n",
       "18                              SV Angel               932\n",
       "19         Right Side Capital Management               914"
      ],
      "text/html": "<div>\n<style scoped>\n    .dataframe tbody tr th:only-of-type {\n        vertical-align: middle;\n    }\n\n    .dataframe tbody tr th {\n        vertical-align: top;\n    }\n\n    .dataframe thead th {\n        text-align: right;\n    }\n</style>\n<table border=\"1\" class=\"dataframe\">\n  <thead>\n    <tr style=\"text-align: right;\">\n      <th></th>\n      <th>name</th>\n      <th>investment_count</th>\n    </tr>\n  </thead>\n  <tbody>\n    <tr>\n      <th>0</th>\n      <td>EASME - EU Executive Agency for SMEs</td>\n      <td>3715</td>\n    </tr>\n    <tr>\n      <th>1</th>\n      <td>Y Combinator</td>\n      <td>3272</td>\n    </tr>\n    <tr>\n      <th>2</th>\n      <td>Techstars</td>\n      <td>3093</td>\n    </tr>\n    <tr>\n      <th>3</th>\n      <td>500 Startups</td>\n      <td>2427</td>\n    </tr>\n    <tr>\n      <th>4</th>\n      <td>New Enterprise Associates</td>\n      <td>1874</td>\n    </tr>\n    <tr>\n      <th>5</th>\n      <td>SOSV</td>\n      <td>1830</td>\n    </tr>\n    <tr>\n      <th>6</th>\n      <td>Accel</td>\n      <td>1499</td>\n    </tr>\n    <tr>\n      <th>7</th>\n      <td>Sequoia Capital</td>\n      <td>1427</td>\n    </tr>\n    <tr>\n      <th>8</th>\n      <td>Intel Capital</td>\n      <td>1418</td>\n    </tr>\n    <tr>\n      <th>9</th>\n      <td>MassChallenge</td>\n      <td>1342</td>\n    </tr>\n    <tr>\n      <th>10</th>\n      <td>IDG Capital</td>\n      <td>1238</td>\n    </tr>\n    <tr>\n      <th>11</th>\n      <td>Venture Kick</td>\n      <td>1231</td>\n    </tr>\n    <tr>\n      <th>12</th>\n      <td>Kleiner Perkins</td>\n      <td>1213</td>\n    </tr>\n    <tr>\n      <th>13</th>\n      <td>Wayra</td>\n      <td>1158</td>\n    </tr>\n    <tr>\n      <th>14</th>\n      <td>Crowdcube</td>\n      <td>1133</td>\n    </tr>\n    <tr>\n      <th>15</th>\n      <td>plug and play</td>\n      <td>1072</td>\n    </tr>\n    <tr>\n      <th>16</th>\n      <td>Bessemer Venture Partners</td>\n      <td>1010</td>\n    </tr>\n    <tr>\n      <th>17</th>\n      <td>NYSERDA</td>\n      <td>1004</td>\n    </tr>\n    <tr>\n      <th>18</th>\n      <td>SV Angel</td>\n      <td>932</td>\n    </tr>\n    <tr>\n      <th>19</th>\n      <td>Right Side Capital Management</td>\n      <td>914</td>\n    </tr>\n  </tbody>\n</table>\n</div>"
     },
     "metadata": {},
     "execution_count": 15
    }
   ],
   "source": [
    "# Reset the index\n",
    "df.reset_index(inplace=True)\n",
    "df.drop(axis=1, labels='index', inplace=True)\n",
    "df"
   ]
  },
  {
   "cell_type": "code",
   "execution_count": 16,
   "metadata": {},
   "outputs": [
    {
     "output_type": "stream",
     "name": "stdout",
     "text": [
      "name,investment_count\nEASME - EU Executive Agency for SMEs,3715\nY Combinator,3272\nTechstars,3093\n500 Startups,2427\nNew Enterprise Associates,1874\nSOSV,1830\nAccel,1499\nSequoia Capital,1427\nIntel Capital,1418\nMassChallenge,1342\nIDG Capital,1238\nVenture Kick,1231\nKleiner Perkins,1213\nWayra,1158\nCrowdcube,1133\nplug and play,1072\nBessemer Venture Partners,1010\nNYSERDA,1004\nSV Angel,932\nRight Side Capital Management,914\n\n"
     ]
    }
   ],
   "source": [
    "print(df.to_csv(index=False))"
   ]
  },
  {
   "source": [
    "## Acquisition Price"
   ],
   "cell_type": "markdown",
   "metadata": {}
  },
  {
   "cell_type": "code",
   "execution_count": 27,
   "metadata": {},
   "outputs": [],
   "source": [
    "import pandas as pd\n",
    "df = pd.read_csv(\"../Week3_Onwards/unifed_csv_without_duplicated_company.csv\")"
   ]
  },
  {
   "cell_type": "code",
   "execution_count": 28,
   "metadata": {},
   "outputs": [
    {
     "output_type": "execute_result",
     "data": {
      "text/plain": [
       "0        0.0\n",
       "1        0.0\n",
       "2        0.0\n",
       "3        0.0\n",
       "4        0.0\n",
       "        ... \n",
       "37193    0.0\n",
       "37194    0.0\n",
       "37195    0.0\n",
       "37196    0.0\n",
       "37197    0.0\n",
       "Name: acquisitions_price_usd, Length: 37198, dtype: float64"
      ]
     },
     "metadata": {},
     "execution_count": 28
    }
   ],
   "source": [
    "series = df['acquisitions_price_usd']\n",
    "series"
   ]
  },
  {
   "cell_type": "code",
   "execution_count": 30,
   "metadata": {},
   "outputs": [
    {
     "output_type": "execute_result",
     "data": {
      "text/plain": [
       "       acquisitions_price_usd\n",
       "0                         0.0\n",
       "1                         0.0\n",
       "2                         0.0\n",
       "3                         0.0\n",
       "4                         0.0\n",
       "...                       ...\n",
       "37193                     0.0\n",
       "37194                     0.0\n",
       "37195                     0.0\n",
       "37196                     0.0\n",
       "37197                     0.0\n",
       "\n",
       "[37198 rows x 1 columns]"
      ],
      "text/html": "<div>\n<style scoped>\n    .dataframe tbody tr th:only-of-type {\n        vertical-align: middle;\n    }\n\n    .dataframe tbody tr th {\n        vertical-align: top;\n    }\n\n    .dataframe thead th {\n        text-align: right;\n    }\n</style>\n<table border=\"1\" class=\"dataframe\">\n  <thead>\n    <tr style=\"text-align: right;\">\n      <th></th>\n      <th>acquisitions_price_usd</th>\n    </tr>\n  </thead>\n  <tbody>\n    <tr>\n      <th>0</th>\n      <td>0.0</td>\n    </tr>\n    <tr>\n      <th>1</th>\n      <td>0.0</td>\n    </tr>\n    <tr>\n      <th>2</th>\n      <td>0.0</td>\n    </tr>\n    <tr>\n      <th>3</th>\n      <td>0.0</td>\n    </tr>\n    <tr>\n      <th>4</th>\n      <td>0.0</td>\n    </tr>\n    <tr>\n      <th>...</th>\n      <td>...</td>\n    </tr>\n    <tr>\n      <th>37193</th>\n      <td>0.0</td>\n    </tr>\n    <tr>\n      <th>37194</th>\n      <td>0.0</td>\n    </tr>\n    <tr>\n      <th>37195</th>\n      <td>0.0</td>\n    </tr>\n    <tr>\n      <th>37196</th>\n      <td>0.0</td>\n    </tr>\n    <tr>\n      <th>37197</th>\n      <td>0.0</td>\n    </tr>\n  </tbody>\n</table>\n<p>37198 rows × 1 columns</p>\n</div>"
     },
     "metadata": {},
     "execution_count": 30
    }
   ],
   "source": [
    "df = series.to_frame()\n",
    "df"
   ]
  },
  {
   "cell_type": "code",
   "execution_count": 31,
   "metadata": {},
   "outputs": [
    {
     "output_type": "execute_result",
     "data": {
      "text/plain": [
       "       x_values\n",
       "0           0.0\n",
       "1           0.0\n",
       "2           0.0\n",
       "3           0.0\n",
       "4           0.0\n",
       "...         ...\n",
       "37193       0.0\n",
       "37194       0.0\n",
       "37195       0.0\n",
       "37196       0.0\n",
       "37197       0.0\n",
       "\n",
       "[37198 rows x 1 columns]"
      ],
      "text/html": "<div>\n<style scoped>\n    .dataframe tbody tr th:only-of-type {\n        vertical-align: middle;\n    }\n\n    .dataframe tbody tr th {\n        vertical-align: top;\n    }\n\n    .dataframe thead th {\n        text-align: right;\n    }\n</style>\n<table border=\"1\" class=\"dataframe\">\n  <thead>\n    <tr style=\"text-align: right;\">\n      <th></th>\n      <th>x_values</th>\n    </tr>\n  </thead>\n  <tbody>\n    <tr>\n      <th>0</th>\n      <td>0.0</td>\n    </tr>\n    <tr>\n      <th>1</th>\n      <td>0.0</td>\n    </tr>\n    <tr>\n      <th>2</th>\n      <td>0.0</td>\n    </tr>\n    <tr>\n      <th>3</th>\n      <td>0.0</td>\n    </tr>\n    <tr>\n      <th>4</th>\n      <td>0.0</td>\n    </tr>\n    <tr>\n      <th>...</th>\n      <td>...</td>\n    </tr>\n    <tr>\n      <th>37193</th>\n      <td>0.0</td>\n    </tr>\n    <tr>\n      <th>37194</th>\n      <td>0.0</td>\n    </tr>\n    <tr>\n      <th>37195</th>\n      <td>0.0</td>\n    </tr>\n    <tr>\n      <th>37196</th>\n      <td>0.0</td>\n    </tr>\n    <tr>\n      <th>37197</th>\n      <td>0.0</td>\n    </tr>\n  </tbody>\n</table>\n<p>37198 rows × 1 columns</p>\n</div>"
     },
     "metadata": {},
     "execution_count": 31
    }
   ],
   "source": [
    "df.rename(columns={'acquisitions_price_usd': 'x_values'}, inplace=True)\n",
    "df"
   ]
  },
  {
   "cell_type": "code",
   "execution_count": 32,
   "metadata": {},
   "outputs": [
    {
     "output_type": "execute_result",
     "data": {
      "text/plain": [
       "0\\n0.0\\n0.0\\n0.0\\n0.0\\n0.0\\n0.0\\n0.0\\n0.0\\n0.0\\n0.0\\n0.0\\n0.0\\n0.0\\n0.0\\n0.0\\n0.0\\n0.0\\n0.0\\n0.0\\n0.0\\n0.0\\n0.0\\n0.0\\n0.0\\n0.0\\n0.0\\n0.0\\n0.0\\n0.0\\n0.0\\n0.0\\n0.0\\n0.0\\n0.0\\n0.0\\n0.0\\n0.0\\n0.0\\n0.0\\n0.0\\n0.0\\n0.0\\n0.0\\n0.0\\n0.0\\n0.0\\n0.0\\n0.0\\n0.0\\n0.0\\n0.0\\n0.0\\n0.0\\n0.0\\n0.0\\n0.0\\n0.0\\n0.0\\n0.0\\n0.0\\n0.0\\n0.0\\n0.0\\n0.0\\n0.0\\n0.0\\n532152690.379562\\n0.0\\n0.0\\n0.0\\n0.0\\n0.0\\n0.0\\n0.0\\n0.0\\n0.0\\n0.0\\n0.0\\n0.0\\n0.0\\n0.0\\n0.0\\n0.0\\n0.0\\n0.0\\n0.0\\n0.0\\n0.0\\n0.0\\n0.0\\n0.0\\n0.0\\n0.0\\n0.0\\n0.0\\n0.0\\n0.0\\n0.0\\n0.0\\n0.0\\n0.0\\n0.0\\n0.0\\n0.0\\n0.0\\n0.0\\n0.0\\n0.0\\n0.0\\n0.0\\n0.0\\n0.0\\n0.0\\n0.0\\n0.0\\n0.0\\n0.0\\n0.0\\n0.0\\n0.0\\n0.0\\n0.0\\n0.0\\n0.0\\n0.0\\n0.0\\n0.0\\n0.0\\n0.0\\n0.0\\n0.0\\n0.0\\n0.0\\n532152690.379562\\n0.0\\n0.0\\n0.0\\n0.0\\n0.0\\n0.0\\n0.0\\n0.0\\n532152690.379562\\n0.0\\n0.0\\n0.0\\n0.0\\n0.0\\n0.0\\n0.0\\n0.0\\n0.0\\n0.0\\n0.0\\n0.0\\n0.0\\n0.0\\n0.0\\n0.0\\n0.0\\n0.0\\n0.0\\n0.0\\n0.0\\n0.0\\n0.0\\n0.0\\n0.0\\n0.0\\n0.0\\n0.0\\n0.0\\n0.0\\n0.0\\n0.0\\n0.0\\n0.0\\n0.0\\n0.0\\n0.0\\n0.0\\n0.0\\n0.0\\n0.0\\n0.0\\n0.0\\n0.0\\n0.0\\n0.0\\n0.0\\n0.0\\n0.0\\n0.0\\n0.0\\n0.0\\n0.0\\n0.0\\n0.0\\n0.0\\n0.0\\n0.0\\n0.0\\n0.0\\n0.0\\n0.0\\n0.0\\n0.0\\n0.0\\n0.0\\n0.0\\n0.0\\n0.0\\n0.0\\n532152690.379562\\n0.0\\n0.0\\n0.0\\n0.0\\n0.0\\n0.0\\n0.0\\n0.0\\n532152690.379562\\n0.0\\n0.0\\n532152690.379562\\n0.0\\n0.0\\n0.0\\n0.0\\n0.0\\n0.0\\n0.0\\n0.0\\n0.0\\n0.0\\n0.0\\n0.0\\n532152690.379562\\n0.0\\n0.0\\n0.0\\n0.0\\n0.0\\n0.0\\n0.0\\n0.0\\n0.0\\n0.0\\n0.0\\n0.0\\n0.0\\n0.0\\n0.0\\n0.0\\n0.0\\n0.0\\n0.0\\n0.0\\n0.0\\n0.0\\n0.0\\n0.0\\n0.0\\n0.0\\n0.0\\n0.0\\n0.0\\n0.0\\n0.0\\n0.0\\n0.0\\n532152690.379562\\n0.0\\n0.0\\n0.0\\n0.0\\n0.0\\n0.0\\n0.0\\n0.0\\n0.0\\n0.0\\n0.0\\n0.0\\n0.0\\n0.0\\n0.0\\n0.0\\n0.0\\n0.0\\n0.0\\n0.0\\n0.0\\n0.0\\n0.0\\n0.0\\n0.0\\n0.0\\n0.0\\n0.0\\n0.0\\n0.0\\n0.0\\n0.0\\n0.0\\n0.0\\n0.0\\n0.0\\n0.0\\n0.0\\n0.0\\n0.0\\n0.0\\n0.0\\n0.0\\n0.0\\n0.0\\n0.0\\n0.0\\n0.0\\n0.0\\n0.0\\n0.0\\n0.0\\n0.0\\n0.0\\n0.0\\n0.0\\n0.0\\n0.0\\n0.0\\n0.0\\n0.0\\n0.0\\n0.0\\n0.0\\n0.0\\n0.0\\n0.0\\n0.0\\n0.0\\n0.0\\n0.0\\n0.0\\n0.0\\n0.0\\n0.0\\n0.0\\n0.0\\n0.0\\n0.0\\n0.0\\n0.0\\n0.0\\n0.0\\n0.0\\n0.0\\n0.0\\n0.0\\n0.0\\n0.0\\n0.0\\n0.0\\n0.0\\n0.0\\n0.0\\n0.0\\n0.0\\n0.0\\n0.0\\n0.0\\n0.0\\n0.0\\n0.0\\n0.0\\n0.0\\n0.0\\n0.0\\n0.0\\n0.0\\n0.0\\n0.0\\n0.0\\n0.0\\n0.0\\n0.0\\n0.0\\n0.0\\n0.0\\n532152690.379562\\n0.0\\n0.0\\n0.0\\n0.0\\n0.0\\n0.0\\n0.0\\n0.0\\n0.0\\n0.0\\n0.0\\n0.0\\n0.0\\n0.0\\n0.0\\n0.0\\n532152690.379562\\n0.0\\n0.0\\n0.0\\n0.0\\n0.0\\n0.0\\n0.0\\n0.0\\n0.0\\n0.0\\n0.0\\n0.0\\n532152690.379562\\n0.0\\n0.0\\n0.0\\n0.0\\n0.0\\n0.0\\n0.0\\n0.0\\n0.0\\n0.0\\n0.0\\n0.0\\n0.0\\n0.0\\n0.0\\n0.0\\n0.0\\n0.0\\n0.0\\n0.0\\n0.0\\n0.0\\n532152690.379562\\n0.0\\n0.0\\n532152690.379562\\n0.0\\n0.0\\n532152690.379562\\n0.0\\n0.0\\n0.0\\n532152690.379562\\n0.0\\n0.0\\n532152690.379562\\n0.0\\n532152690.379562\\n0.0\\n0.0\\n0.0\\n0.0\\n0.0\\n0.0\\n0.0\\n0.0\\n0.0\\n0.0\\n0.0\\n0.0\\n0.0\\n0.0\\n0.0\\n0.0\\n0.0\\n0.0\\n0.0\\n0.0\\n0.0\\n0.0\\n0.0\\n0.0\\n0.0\\n0.0\\n0.0\\n0.0\\n0.0\\n0.0\\n0.0\\n0.0\\n0.0\\n0.0\\n0.0\\n0.0\\n0.0\\n0.0\\n0.0\\n0.0\\n0.0\\n0.0\\n0.0\\n0.0\\n0.0\\n0.0\\n0.0\\n0.0\\n0.0\\n0.0\\n0.0\\n0.0\\n0.0\\n0.0\\n0.0\\n0.0\\n0.0\\n0.0\\n0.0\\n0.0\\n0.0\\n0.0\\n0.0\\n0.0\\n0.0\\n0.0\\n0.0\\n0.0\\n0.0\\n532152690.379562\\n0.0\\n0.0\\n0.0\\n0.0\\n532152690.379562\\n0.0\\n0.0\\n0.0\\n0.0\\n0.0\\n0.0\\n0.0\\n0.0\\n0.0\\n0.0\\n0.0\\n0.0\\n0.0\\n0.0\\n0.0\\n0.0\\n0.0\\n532152690.379562\\n0.0\\n0.0\\n0.0\\n0.0\\n0.0\\n0.0\\n0.0\\n0.0\\n0.0\\n0.0\\n0.0\\n0.0\\n0.0\\n0.0\\n0.0\\n0.0\\n0.0\\n0.0\\n0.0\\n0.0\\n0.0\\n0.0\\n0.0\\n0.0\\n0.0\\n0.0\\n0.0\\n0.0\\n0.0\\n0.0\\n0.0\\n0.0\\n0.0\\n0.0\\n0.0\\n0.0\\n0.0\\n0.0\\n0.0\\n0.0\\n0.0\\n0.0\\n0.0\\n0.0\\n0.0\\n0.0\\n0.0\\n0.0\\n0.0\\n0.0\\n0.0\\n0.0\\n0.0\\n0.0\\n0.0\\n0.0\\n0.0\\n0.0\\n0.0\\n0.0\\n0.0\\n0.0\\n0.0\\n532152690.379562\\n0.0\\n0.0\\n0.0\\n0.0\\n0.0\\n0.0\\n0.0\\n0.0\\n0.0\\n0.0\\n0.0\\n0.0\\n0.0\\n0.0\\n0.0\\n0.0\\n0.0\\n532152690.379562\\n0.0\\n0.0\\n0.0\\n0.0\\n0.0\\n0.0\\n0.0\\n0.0\\n0.0\\n0.0\\n0.0\\n0.0\\n0.0\\n0.0\\n0.0\\n0.0\\n0.0\\n0.0\\n0.0\\n0.0\\n0.0\\n0.0\\n0.0\\n0.0\\n0.0\\n0.0\\n0.0\\n0.0\\n0.0\\n0.0\\n0.0\\n0.0\\n0.0\\n532152690.379562\\n0.0\\n0.0\\n0.0\\n0.0\\n0.0\\n0.0\\n0.0\\n0.0\\n0.0\\n0.0\\n0.0\\n0.0\\n0.0\\n0.0\\n0.0\\n0.0\\n0.0\\n0.0\\n0.0\\n0.0\\n0.0\\n0.0\\n0.0\\n0.0\\n0.0\\n0.0\\n0.0\\n0.0\\n0.0\\n0.0\\n0.0\\n0.0\\n0.0\\n0.0\\n0.0\\n0.0\\n0.0\\n0.0\\n0.0\\n0.0\\n0.0\\n0.0\\n0.0\\n0.0\\n0.0\\n0.0\\n0.0\\n0.0\\n0.0\\n0.0\\n0.0\\n0.0\\n0.0\\n0.0\\n0.0\\n0.0\\n0.0\\n0.0\\n0.0\\n0.0\\n0.0\\n0.0\\n0.0\\n0.0\\n0.0\\n0.0\\n0.0\\n0.0\\n0.0\\n532152690.379562\\n0.0\\n0.0\\n0.0\\n0.0\\n0.0\\n0.0\\n0.0\\n0.0\\n0.0\\n0.0\\n0.0\\n0.0\\n0.0\\n0.0\\n532152690.379562\\n0.0\\n0.0\\n0.0\\n0.0\\n0.0\\n0.0\\n0.0\\n0.0\\n0.0\\n0.0\\n0.0\\n0.0\\n0.0\\n0.0\\n0.0\\n0.0\\n0.0\\n0.0\\n0.0\\n0.0\\n0.0\\n0.0\\n0.0\\n0.0\\n0.0\\n0.0\\n0.0\\n0.0\\n0.0\\n0.0\\n0.0\\n0.0\\n0.0\\n0.0\\n0.0\\n0.0\\n0.0\\n0.0\\n0.0\\n0.0\\n0.0\\n0.0\\n0.0\\n0.0\\n0.0\\n0.0\\n0.0\\n0.0\\n0.0\\n0.0\\n0.0\\n0.0\\n0.0\\n0.0\\n0.0\\n0.0\\n0.0\\n0.0\\n0.0\\n0.0\\n0.0\\n0.0\\n0.0\\n0.0\\n0.0\\n0.0\\n0.0\\n0.0\\n0.0\\n0.0\\n0.0\\n0.0\\n0.0\\n0.0\\n0.0\\n0.0\\n0.0\\n0.0\\n0.0\\n0.0\\n0.0\\n0.0\\n0.0\\n0.0\\n0.0\\n0.0\\n0.0\\n0.0\\n0.0\\n0.0\\n0.0\\n532152690.379562\\n0.0\\n0.0\\n0.0\\n0.0\\n0.0\\n0.0\\n0.0\\n0.0\\n0.0\\n0.0\\n0.0\\n0.0\\n0.0\\n0.0\\n0.0\\n0.0\\n0.0\\n0.0\\n0.0\\n0.0\\n0.0\\n0.0\\n0.0\\n0.0\\n0.0\\n0.0\\n0.0\\n0.0\\n0.0\\n532152690.379562\\n0.0\\n0.0\\n0.0\\n0.0\\n0.0\\n0.0\\n0.0\\n0.0\\n0.0\\n0.0\\n0.0\\n0.0\\n0.0\\n0.0\\n0.0\\n0.0\\n0.0\\n0.0\\n0.0\\n0.0\\n0.0\\n0.0\\n0.0\\n0.0\\n0.0\\n0.0\\n0.0\\n0.0\\n0.0\\n0.0\\n0.0\\n0.0\\n0.0\\n0.0\\n0.0\\n0.0\\n0.0\\n0.0\\n0.0\\n0.0\\n0.0\\n0.0\\n0.0\\n0.0\\n0.0\\n0.0\\n0.0\\n0.0\\n0.0\\n0.0\\n0.0\\n0.0\\n532152690.379562\\n0.0\\n0.0\\n0.0\\n0.0\\n0.0\\n0.0\\n0.0\\n0.0\\n0.0\\n0.0\\n0.0\\n0.0\\n0.0\\n0.0\\n0.0\\n0.0\\n0.0\\n0.0\\n0.0\\n0.0\\n0.0\\n0.0\\n0.0\\n0.0\\n0.0\\n0.0\\n0.0\\n0.0\\n532152690.379562\\n0.0\\n0.0\\n0.0\\n0.0\\n0.0\\n0.0\\n0.0\\n0.0\\n0.0\\n0.0\\n0.0\\n0.0\\n0.0\\n0.0\\n532152690.379562\\n0.0\\n0.0\\n0.0\\n0.0\\n532152690.379562\\n0.0\\n0.0\\n0.0\\n532152690.379562\\n0.0\\n0.0\\n0.0\\n0.0\\n0.0\\n0.0\\n0.0\\n0.0\\n0.0\\n0.0\\n0.0\\n0.0\\n0.0\\n0.0\\n532152690.379562\\n0.0\\n0.0\\n532152690.379562\\n0.0\\n0.0\\n0.0\\n0.0\\n0.0\\n0.0\\n0.0\\n0.0\\n0.0\\n0.0\\n0.0\\n0.0\\n0.0\\n0.0\\n0.0\\n0.0\\n0.0\\n0.0\\n0.0\\n0.0\\n0.0\\n0.0\\n0.0\\n0.0\\n0.0\\n0.0\\n0.0\\n0.0\\n0.0\\n0.0\\n0.0\\n532152690.379562\\n0.0\\n0.0\\n0.0\\n0.0\\n0.0\\n0.0\\n0.0\\n0.0\\n0.0\\n532152690.379562\\n0.0\\n0.0\\n0.0\\n0.0\\n0.0\\n0.0\\n0.0\\n0.0\\n0.0\\n0.0\\n0.0\\n0.0\\n0.0\\n0.0\\n0.0\\n0.0\\n532152690.379562\\n0.0\\n0.0\\n0.0\\n0.0\\n0.0\\n0.0\\n0.0\\n0.0\\n0.0\\n0.0\\n532152690.379562\\n0.0\\n0.0\\n0.0\\n0.0\\n0.0\\n0.0\\n0.0\\n0.0\\n0.0\\n0.0\\n0.0\\n0.0\\n0.0\\n0.0\\n0.0\\n0.0\\n0.0\\n0.0\\n0.0\\n0.0\\n0.0\\n0.0\\n0.0\\n0.0\\n0.0\\n0.0\\n0.0\\n0.0\\n0.0\\n0.0\\n0.0\\n0.0\\n532152690.379562\\n0.0\\n0.0\\n0.0\\n0.0\\n0.0\\n532152690.379562\\n0.0\\n0.0\\n0.0\\n0.0\\n0.0\\n0.0\\n0.0\\n0.0\\n0.0\\n0.0\\n0.0\\n0.0\\n0.0\\n0.0\\n0.0\\n0.0\\n0.0\\n0.0\\n0.0\\n0.0\\n0.0\\n0.0\\n0.0\\n0.0\\n0.0\\n0.0\\n0.0\\n0.0\\n0.0\\n0.0\\n0.0\\n0.0\\n0.0\\n0.0\\n0.0\\n0.0\\n0.0\\n0.0\\n0.0\\n0.0\\n0.0\\n0.0\\n0.0\\n0.0\\n0.0\\n0.0\\n0.0\\n0.0\\n0.0\\n0.0\\n0.0\\n0.0\\n0.0\\n0.0\\n0.0\\n0.0\\n0.0\\n0.0\\n0.0\\n0.0\\n0.0\\n0.0\\n0.0\\n0.0\\n0.0\\n0.0\\n0.0\\n0.0\\n0.0\\n0.0\\n0.0\\n532152690.379562\\n0.0\\n0.0\\n0.0\\n0.0\\n0.0\\n0.0\\n0.0\\n0.0\\n532152690.379562\\n0.0\\n0.0\\n0.0\\n0.0\\n0.0\\n0.0\\n0.0\\n0.0\\n0.0\\n0.0\\n0.0\\n0.0\\n0.0\\n0.0\\n0.0\\n0.0\\n0.0\\n0.0\\n0.0\\n0.0\\n0.0\\n0.0\\n0.0\\n0.0\\n0.0\\n0.0\\n0.0\\n0.0\\n0.0\\n0.0\\n0.0\\n0.0\\n0.0\\n0.0\\n0.0\\n0.0\\n0.0\\n0.0\\n0.0\\n0.0\\n0.0\\n0.0\\n0.0\\n0.0\\n0.0\\n0.0\\n0.0\\n0.0\\n0.0\\n0.0\\n0.0\\n0.0\\n0.0\\n0.0\\n0.0\\n0.0\\n0.0\\n0.0\\n0.0\\n0.0\\n0.0\\n0.0\\n0.0\\n0.0\\n0.0\\n0.0\\n0.0\\n0.0\\n0.0\\n0.0\\n0.0\\n0.0\\n0.0\\n0.0\\n0.0\\n0.0\\n0.0\\n0.0\\n0.0\\n532152690.379562\\n0.0\\n0.0\\n0.0\\n0.0\\n0.0\\n0.0\\n0.0\\n0.0\\n532152690.379562\\n0.0\\n0.0\\n0.0\\n0.0\\n0.0\\n0.0\\n0.0\\n0.0\\n0.0\\n0.0\\n0.0\\n0.0\\n0.0\\n0.0\\n0.0\\n0.0\\n0.0\\n0.0\\n0.0\\n0.0\\n0.0\\n532152690.379562\\n0.0\\n0.0\\n0.0\\n0.0\\n532152690.379562\\n0.0\\n0.0\\n0.0\\n0.0\\n0.0\\n0.0\\n0.0\\n0.0\\n532152690.379562\\n0.0\\n0.0\\n0.0\\n0.0\\n0.0\\n0.0\\n0.0\\n0.0\\n0.0\\n0.0\\n0.0\\n0.0\\n0.0\\n0.0\\n0.0\\n0.0\\n0.0\\n0.0\\n0.0\\n0.0\\n0.0\\n0.0\\n0.0\\n0.0\\n0.0\\n0.0\\n0.0\\n0.0\\n0.0\\n0.0\\n0.0\\n0.0\\n0.0\\n0.0\\n0.0\\n0.0\\n0.0\\n0.0\\n0.0\\n0.0\\n0.0\\n0.0\\n0.0\\n0.0\\n0.0\\n0.0\\n0.0\\n0.0\\n0.0\\n0.0\\n0.0\\n0.0\\n0.0\\n0.0\\n0.0\\n0.0\\n0.0\\n0.0\\n0.0\\n0.0\\n0.0\\n0.0\\n0.0\\n0.0\\n0.0\\n0.0\\n0.0\\n0.0\\n0.0\\n0.0\\n0.0\\n0.0\\n0.0\\n0.0\\n0.0\\n0.0\\n0.0\\n0.0\\n0.0\\n0.0\\n0.0\\n0.0\\n0.0\\n0.0\\n0.0\\n0.0\\n0.0\\n0.0\\n0.0\\n0.0\\n0.0\\n0.0\\n0.0\\n0.0\\n0.0\\n0.0\\n0.0\\n0.0\\n0.0\\n0.0\\n0.0\\n0.0\\n0.0\\n0.0\\n0.0\\n532152690.379562\\n0.0\\n532152690.379562\\n0.0\\n0.0\\n0.0\\n0.0\\n0.0\\n0.0\\n0.0\\n0.0\\n0.0\\n0.0\\n0.0\\n0.0\\n0.0\\n0.0\\n0.0\\n0.0\\n0.0\\n0.0\\n0.0\\n0.0\\n0.0\\n0.0\\n0.0\\n0.0\\n0.0\\n0.0\\n0.0\\n0.0\\n0.0\\n0.0\\n0.0\\n0.0\\n0.0\\n0.0\\n0.0\\n0.0\\n0.0\\n0.0\\n532152690.379562\\n0.0\\n0.0\\n0.0\\n0.0\\n0.0\\n0.0\\n0.0\\n0.0\\n0.0\\n0.0\\n0.0\\n0.0\\n0.0\\n0.0\\n0.0\\n0.0\\n0.0\\n0.0\\n0.0\\n0.0\\n0.0\\n0.0\\n0.0\\n0.0\\n0.0\\n0.0\\n0.0\\n0.0\\n0.0\\n0.0\\n0.0\\n0.0\\n0.0\\n0.0\\n0.0\\n0.0\\n0.0\\n0.0\\n0.0\\n0.0\\n0.0\\n0.0\\n0.0\\n0.0\\n0.0\\n0.0\\n0.0\\n0.0\\n532152690.379562\\n0.0\\n0.0\\n0.0\\n532152690.379562\\n0.0\\n0.0\\n0.0\\n0.0\\n0.0\\n0.0\\n0.0\\n0.0\\n0.0\\n0.0\\n0.0\\n0.0\\n0.0\\n0.0\\n0.0\\n0.0\\n0.0\\n0.0\\n0.0\\n0.0\\n0.0\\n0.0\\n0.0\\n0.0\\n0.0\\n0.0\\n0.0\\n0.0\\n0.0\\n532152690.379562\\n0.0\\n0.0\\n0.0\\n532152690.379562\\n0.0\\n0.0\\n0.0\\n0.0\\n0.0\\n0.0\\n0.0\\n0.0\\n0.0\\n0.0\\n0.0\\n0.0\\n0.0\\n0.0\\n0.0\\n0.0\\n0.0\\n0.0\\n0.0\\n0.0\\n0.0\\n0.0\\n0.0\\n0.0\\n0.0\\n0.0\\n0.0\\n532152690.379562\\n0.0\\n0.0\\n0.0\\n0.0\\n0.0\\n0.0\\n0.0\\n0.0\\n0.0\\n0.0\\n0.0\\n0.0\\n0.0\\n0.0\\n0.0\\n0.0\\n0.0\\n0.0\\n0.0\\n0.0\\n0.0\\n0.0\\n0.0\\n0.0\\n0.0\\n0.0\\n0.0\\n0.0\\n0.0\\n0.0\\n0.0\\n0.0\\n0.0\\n0.0\\n0.0\\n0.0\\n0.0\\n0.0\\n0.0\\n0.0\\n0.0\\n0.0\\n532152690.379562\\n0.0\\n0.0\\n0.0\\n0.0\\n0.0\\n0.0\\n0.0\\n0.0\\n0.0\\n0.0\\n0.0\\n0.0\\n0.0\\n0.0\\n0.0\\n0.0\\n0.0\\n0.0\\n0.0\\n0.0\\n0.0\\n0.0\\n0.0\\n0.0\\n0.0\\n532152690.379562\\n0.0\\n0.0\\n0.0\\n0.0\\n0.0\\n0.0\\n0.0\\n0.0\\n0.0\\n0.0\\n0.0\\n0.0\\n0.0\\n0.0\\n0.0\\n0.0\\n0.0\\n0.0\\n0.0\\n0.0\\n0.0\\n0.0\\n0.0\\n0.0\\n0.0\\n0.0\\n0.0\\n0.0\\n0.0\\n0.0\\n0.0\\n0.0\\n0.0\\n0.0\\n0.0\\n0.0\\n0.0\\n0.0\\n0.0\\n0.0\\n0.0\\n0.0\\n0.0\\n532152690.379562\\n0.0\\n0.0\\n0.0\\n0.0\\n0.0\\n0.0\\n0.0\\n0.0\\n0.0\\n0.0\\n0.0\\n0.0\\n0.0\\n0.0\\n0.0\\n0.0\\n0.0\\n0.0\\n0.0\\n0.0\\n0.0\\n0.0\\n0.0\\n0.0\\n0.0\\n0.0\\n0.0\\n0.0\\n0.0\\n0.0\\n0.0\\n0.0\\n0.0\\n0.0\\n0.0\\n0.0\\n0.0\\n0.0\\n0.0\\n0.0\\n0.0\\n0.0\\n0.0\\n0.0\\n0.0\\n0.0\\n0.0\\n0.0\\n0.0\\n0.0\\n0.0\\n532152690.379562\\n0.0\\n0.0\\n0.0\\n0.0\\n0.0\\n0.0\\n0.0\\n0.0\\n0.0\\n0.0\\n0.0\\n0.0\\n0.0\\n0.0\\n0.0\\n0.0\\n0.0\\n0.0\\n0.0\\n0.0\\n0.0\\n0.0\\n0.0\\n0.0\\n0.0\\n0.0\\n0.0\\n0.0\\n0.0\\n0.0\\n0.0\\n0.0\\n0.0\\n0.0\\n0.0\\n0.0\\n532152690.379562\\n0.0\\n0.0\\n532152690.379562\\n0.0\\n0.0\\n0.0\\n0.0\\n0.0\\n0.0\\n0.0\\n0.0\\n0.0\\n532152690.379562\\n0.0\\n0.0\\n0.0\\n0.0\\n532152690.379562\\n0.0\\n0.0\\n0.0\\n0.0\\n0.0\\n0.0\\n0.0\\n0.0\\n0.0\\n0.0\\n0.0\\n0.0\\n0.0\\n0.0\\n0.0\\n0.0\\n0.0\\n0.0\\n0.0\\n0.0\\n0.0\\n0.0\\n0.0\\n0.0\\n0.0\\n0.0\\n0.0\\n0.0\\n0.0\\n0.0\\n0.0\\n0.0\\n0.0\\n0.0\\n0.0\\n0.0\\n0.0\\n0.0\\n0.0\\n0.0\\n0.0\\n0.0\\n0.0\\n0.0\\n0.0\\n0.0\\n0.0\\n532152690.379562\\n0.0\\n0.0\\n0.0\\n0.0\\n0.0\\n0.0\\n0.0\\n0.0\\n0.0\\n0.0\\n0.0\\n0.0\\n0.0\\n0.0\\n0.0\\n0.0\\n0.0\\n0.0\\n0.0\\n0.0\\n0.0\\n0.0\\n0.0\\n0.0\\n0.0\\n0.0\\n0.0\\n0.0\\n0.0\\n0.0\\n0.0\\n0.0\\n532152690.379562\\n0.0\\n0.0\\n0.0\\n0.0\\n0.0\\n0.0\\n0.0\\n0.0\\n0.0\\n0.0\\n0.0\\n0.0\\n0.0\\n0.0\\n0.0\\n0.0\\n0.0\\n0.0\\n0.0\\n0.0\\n0.0\\n0.0\\n0.0\\n0.0\\n0.0\\n0.0\\n0.0\\n0.0\\n0.0\\n0.0\\n0.0\\n0.0\\n0.0\\n0.0\\n0.0\\n0.0\\n0.0\\n0.0\\n0.0\\n0.0\\n0.0\\n0.0\\n0.0\\n0.0\\n0.0\\n0.0\\n0.0\\n0.0\\n0.0\\n0.0\\n0.0\\n0.0\\n0.0\\n0.0\\n0.0\\n532152690.379562\\n0.0\\n0.0\\n0.0\\n0.0\\n0.0\\n0.0\\n0.0\\n0.0\\n0.0\\n0.0\\n0.0\\n0.0\\n0.0\\n0.0\\n0.0\\n532152690.379562\\n0.0\\n0.0\\n0.0\\n0.0\\n0.0\\n0.0\\n0.0\\n0.0\\n0.0\\n0.0\\n0.0\\n0.0\\n0.0\\n0.0\\n0.0\\n0.0\\n0.0\\n0.0\\n0.0\\n0.0\\n0.0\\n0.0\\n0.0\\n0.0\\n0.0\\n0.0\\n0.0\\n532152690.379562\\n0.0\\n0.0\\n0.0\\n0.0\\n0.0\\n0.0\\n0.0\\n0.0\\n0.0\\n0.0\\n0.0\\n0.0\\n0.0\\n0.0\\n0.0\\n0.0\\n0.0\\n0.0\\n0.0\\n0.0\\n0.0\\n0.0\\n0.0\\n0.0\\n0.0\\n0.0\\n0.0\\n0.0\\n0.0\\n0.0\\n0.0\\n0.0\\n0.0\\n0.0\\n0.0\\n0.0\\n0.0\\n0.0\\n0.0\\n0.0\\n0.0\\n0.0\\n0.0\\n0.0\\n0.0\\n0.0\\n0.0\\n532152690.379562\\n0.0\\n0.0\\n0.0\\n0.0\\n0.0\\n532152690.379562\\n0.0\\n0.0\\n0.0\\n0.0\\n0.0\\n0.0\\n0.0\\n0.0\\n0.0\\n0.0\\n0.0\\n0.0\\n0.0\\n0.0\\n0.0\\n0.0\\n0.0\\n0.0\\n0.0\\n0.0\\n0.0\\n0.0\\n0.0\\n0.0\\n0.0\\n0.0\\n532152690.379562\\n0.0\\n0.0\\n0.0\\n0.0\\n0.0\\n0.0\\n0.0\\n0.0\\n0.0\\n0.0\\n0.0\\n0.0\\n0.0\\n0.0\\n0.0\\n0.0\\n0.0\\n0.0\\n0.0\\n0.0\\n0.0\\n0.0\\n0.0\\n0.0\\n0.0\\n0.0\\n0.0\\n0.0\\n0.0\\n0.0\\n0.0\\n0.0\\n0.0\\n0.0\\n0.0\\n0.0\\n0.0\\n0.0\\n532152690.379562\\n0.0\\n0.0\\n0.0\\n0.0\\n0.0\\n0.0\\n0.0\\n0.0\\n0.0\\n0.0\\n0.0\\n0.0\\n0.0\\n0.0\\n0.0\\n0.0\\n0.0\\n0.0\\n0.0\\n0.0\\n0.0\\n0.0\\n0.0\\n0.0\\n0.0\\n0.0\\n0.0\\n0.0\\n0.0\\n0.0\\n0.0\\n0.0\\n0.0\\n0.0\\n0.0\\n0.0\\n532152690.379562\\n0.0\\n0.0\\n0.0\\n0.0\\n0.0\\n0.0\\n0.0\\n0.0\\n0.0\\n0.0\\n0.0\\n0.0\\n0.0\\n0.0\\n0.0\\n0.0\\n0.0\\n0.0\\n0.0\\n0.0\\n0.0\\n0.0\\n0.0\\n0.0\\n0.0\\n532152690.379562\\n0.0\\n0.0\\n0.0\\n0.0\\n0.0\\n0.0\\n0.0\\n0.0\\n0.0\\n0.0\\n0.0\\n0.0\\n0.0\\n0.0\\n0.0\\n0.0\\n0.0\\n0.0\\n0.0\\n0.0\\n0.0\\n0.0\\n0.0\\n0.0\\n0.0\\n0.0\\n0.0\\n0.0\\n0.0\\n0.0\\n0.0\\n0.0\\n0.0\\n0.0\\n0.0\\n0.0\\n0.0\\n0.0\\n0.0\\n0.0\\n0.0\\n0.0\\n0.0\\n0.0\\n0.0\\n0.0\\n0.0\\n532152690.379562\\n0.0\\n0.0\\n0.0\\n0.0\\n0.0\\n0.0\\n0.0\\n0.0\\n0.0\\n0.0\\n0.0\\n0.0\\n0.0\\n0.0\\n0.0\\n0.0\\n0.0\\n0.0\\n0.0\\n0.0\\n0.0\\n0.0\\n0.0\\n0.0\\n0.0\\n0.0\\n0.0\\n0.0\\n0.0\\n0.0\\n0.0\\n0.0\\n0.0\\n0.0\\n0.0\\n0.0\\n0.0\\n0.0\\n0.0\\n532152690.379562\\n0.0\\n0.0\\n0.0\\n532152690.379562\\n0.0\\n0.0\\n0.0\\n0.0\\n0.0\\n0.0\\n0.0\\n0.0\\n0.0\\n0.0\\n0.0\\n0.0\\n0.0\\n0.0\\n0.0\\n0.0\\n0.0\\n0.0\\n0.0\\n0.0\\n0.0\\n0.0\\n0.0\\n0.0\\n0.0\\n0.0\\n0.0\\n0.0\\n0.0\\n0.0\\n0.0\\n0.0\\n0.0\\n0.0\\n0.0\\n0.0\\n0.0\\n0.0\\n0.0\\n0.0\\n0.0\\n532152690.379562\\n0.0\\n0.0\\n0.0\\n532152690.379562\\n0.0\\n532152690.379562\\n0.0\\n0.0\\n0.0\\n0.0\\n0.0\\n0.0\\n0.0\\n0.0\\n0.0\\n0.0\\n0.0\\n0.0\\n0.0\\n0.0\\n0.0\\n0.0\\n0.0\\n0.0\\n0.0\\n0.0\\n0.0\\n0.0\\n0.0\\n0.0\\n0.0\\n0.0\\n0.0\\n0.0\\n0.0\\n0.0\\n0.0\\n0.0\\n0.0\\n0.0\\n0.0\\n0.0\\n0.0\\n0.0\\n0.0\\n0.0\\n0.0\\n0.0\\n0.0\\n0.0\\n0.0\\n0.0\\n0.0\\n0.0\\n0.0\\n0.0\\n0.0\\n0.0\\n0.0\\n0.0\\n0.0\\n0.0\\n0.0\\n0.0\\n0.0\\n532152690.379562\\n0.0\\n0.0\\n0.0\\n0.0\\n0.0\\n0.0\\n0.0\\n0.0\\n0.0\\n0.0\\n0.0\\n0.0\\n532152690.379562\\n0.0\\n0.0\\n0.0\\n0.0\\n0.0\\n0.0\\n0.0\\n0.0\\n0.0\\n0.0\\n0.0\\n0.0\\n0.0\\n0.0\\n0.0\\n0.0\\n0.0\\n0.0\\n0.0\\n0.0\\n0.0\\n0.0\\n0.0\\n0.0\\n0.0\\n0.0\\n0.0\\n0.0\\n0.0\\n0.0\\n0.0\\n0.0\\n0.0\\n0.0\\n0.0\\n0.0\\n0.0\\n0.0\\n0.0\\n0.0\\n0.0\\n0.0\\n0.0\\n0.0\\n0.0\\n0.0\\n0.0\\n0.0\\n0.0\\n0.0\\n0.0\\n0.0\\n0.0\\n0.0\\n0.0\\n0.0\\n0.0\\n532152690.379562\\n0.0\\n0.0\\n0.0\\n0.0\\n0.0\\n0.0\\n0.0\\n0.0\\n0.0\\n0.0\\n0.0\\n0.0\\n0.0\\n0.0\\n0.0\\n0.0\\n0.0\\n0.0\\n0.0\\n0.0\\n0.0\\n0.0\\n0.0\\n0.0\\n0.0\\n0.0\\n0.0\\n0.0\\n0.0\\n0.0\\n0.0\\n0.0\\n0.0\\n0.0\\n0.0\\n0.0\\n0.0\\n0.0\\n0.0\\n0.0\\n0.0\\n0.0\\n0.0\\n0.0\\n0.0\\n0.0\\n0.0\\n0.0\\n0.0\\n532152690.379562\\n0.0\\n0.0\\n0.0\\n532152690.379562\\n0.0\\n0.0\\n0.0\\n0.0\\n0.0\\n0.0\\n0.0\\n0.0\\n0.0\\n0.0\\n0.0\\n0.0\\n0.0\\n0.0\\n0.0\\n0.0\\n0.0\\n0.0\\n0.0\\n0.0\\n0.0\\n0.0\\n0.0\\n0.0\\n0.0\\n0.0\\n0.0\\n0.0\\n0.0\\n0.0\\n0.0\\n0.0\\n0.0\\n0.0\\n0.0\\n0.0\\n0.0\\n0.0\\n0.0\\n0.0\\n0.0\\n0.0\\n0.0\\n0.0\\n0.0\\n0.0\\n0.0\\n0.0\\n0.0\\n0.0\\n0.0\\n0.0\\n0.0\\n0.0\\n0.0\\n0.0\\n0.0\\n0.0\\n0.0\\n0.0\\n0.0\\n0.0\\n0.0\\n0.0\\n0.0\\n0.0\\n0.0\\n0.0\\n0.0\\n0.0\\n0.0\\n0.0\\n0.0\\n0.0\\n0.0\\n0.0\\n0.0\\n0.0\\n0.0\\n0.0\\n0.0\\n0.0\\n0.0\\n0.0\\n0.0\\n0.0\\n0.0\\n0.0\\n0.0\\n0.0\\n0.0\\n0.0\\n0.0\\n0.0\\n0.0\\n0.0\\n0.0\\n0.0\\n0.0\\n0.0\\n0.0\\n0.0\\n0.0\\n0.0\\n0.0\\n0.0\\n0.0\\n0.0\\n0.0\\n0.0\\n0.0\\n0.0\\n0.0\\n0.0\\n0.0\\n0.0\\n0.0\\n0.0\\n532152690.379562\\n0.0\\n0.0\\n0.0\\n0.0\\n0.0\\n0.0\\n0.0\\n0.0\\n0.0\\n0.0\\n0.0\\n0.0\\n0.0\\n0.0\\n0.0\\n0.0\\n0.0\\n0.0\\n0.0\\n0.0\\n0.0\\n0.0\\n0.0\\n0.0\\n0.0\\n0.0\\n0.0\\n0.0\\n0.0\\n0.0\\n0.0\\n0.0\\n0.0\\n0.0\\n0.0\\n0.0\\n0.0\\n0.0\\n0.0\\n0.0\\n0.0\\n0.0\\n0.0\\n0.0\\n0.0\\n0.0\\n0.0\\n0.0\\n0.0\\n0.0\\n0.0\\n0.0\\n0.0\\n0.0\\n0.0\\n0.0\\n0.0\\n0.0\\n0.0\\n0.0\\n0.0\\n0.0\\n0.0\\n0.0\\n0.0\\n0.0\\n0.0\\n0.0\\n0.0\\n0.0\\n0.0\\n0.0\\n0.0\\n0.0\\n0.0\\n0.0\\n0.0\\n0.0\\n532152690.379562\\n0.0\\n0.0\\n0.0\\n0.0\\n0.0\\n0.0\\n0.0\\n0.0\\n0.0\\n0.0\\n0.0\\n0.0\\n0.0\\n0.0\\n0.0\\n0.0\\n0.0\\n0.0\\n0.0\\n0.0\\n0.0\\n0.0\\n0.0\\n0.0\\n0.0\\n0.0\\n0.0\\n0.0\\n0.0\\n0.0\\n0.0\\n0.0\\n0.0\\n0.0\\n0.0\\n0.0\\n0.0\\n0.0\\n0.0\\n0.0\\n0.0\\n0.0\\n0.0\\n532152690.379562\\n0.0\\n0.0\\n0.0\\n0.0\\n0.0\\n0.0\\n0.0\\n0.0\\n0.0\\n0.0\\n532152690.379562\\n0.0\\n0.0\\n0.0\\n0.0\\n0.0\\n0.0\\n0.0\\n0.0\\n0.0\\n0.0\\n0.0\\n0.0\\n0.0\\n0.0\\n0.0\\n0.0\\n0.0\\n0.0\\n0.0\\n0.0\\n0.0\\n0.0\\n0.0\\n0.0\\n0.0\\n0.0\\n0.0\\n0.0\\n532152690.379562\\n0.0\\n0.0\\n0.0\\n0.0\\n0.0\\n0.0\\n0.0\\n0.0\\n0.0\\n0.0\\n0.0\\n0.0\\n532152690.379562\\n0.0\\n0.0\\n0.0\\n0.0\\n0.0\\n0.0\\n0.0\\n0.0\\n0.0\\n0.0\\n0.0\\n0.0\\n0.0\\n532152690.379562\\n0.0\\n0.0\\n532152690.379562\\n0.0\\n0.0\\n0.0\\n0.0\\n0.0\\n0.0\\n0.0\\n0.0\\n0.0\\n0.0\\n0.0\\n0.0\\n0.0\\n0.0\\n0.0\\n0.0\\n0.0\\n0.0\\n0.0\\n0.0\\n0.0\\n0.0\\n0.0\\n532152690.379562\\n0.0\\n0.0\\n0.0\\n0.0\\n0.0\\n0.0\\n0.0\\n0.0\\n0.0\\n0.0\\n0.0\\n0.0\\n0.0\\n0.0\\n0.0\\n0.0\\n0.0\\n0.0\\n0.0\\n0.0\\n0.0\\n0.0\\n0.0\\n0.0\\n0.0\\n0.0\\n0.0\\n0.0\\n0.0\\n0.0\\n0.0\\n0.0\\n0.0\\n0.0\\n0.0\\n0.0\\n0.0\\n0.0\\n0.0\\n0.0\\n0.0\\n0.0\\n0.0\\n0.0\\n0.0\\n0.0\\n0.0\\n0.0\\n0.0\\n0.0\\n0.0\\n0.0\\n0.0\\n0.0\\n0.0\\n0.0\\n0.0\\n532152690.379562\\n0.0\\n0.0\\n0.0\\n532152690.379562\\n0.0\\n0.0\\n0.0\\n0.0\\n0.0\\n0.0\\n0.0\\n0.0\\n0.0\\n0.0\\n0.0\\n0.0\\n0.0\\n0.0\\n0.0\\n0.0\\n0.0\\n0.0\\n0.0\\n0.0\\n0.0\\n0.0\\n0.0\\n0.0\\n0.0\\n0.0\\n532152690.379562\\n0.0\\n0.0\\n0.0\\n0.0\\n0.0\\n0.0\\n0.0\\n0.0\\n0.0\\n0.0\\n532152690.379562\\n0.0\\n0.0\\n0.0\\n0.0\\n0.0\\n532152690.379562\\n0.0\\n0.0\\n0.0\\n0.0\\n0.0\\n0.0\\n532152690.379562\\n0.0\\n0.0\\n0.0\\n0.0\\n0.0\\n0.0\\n0.0\\n0.0\\n0.0\\n0.0\\n0.0\\n0.0\\n0.0\\n0.0\\n0.0\\n0.0\\n0.0\\n0.0\\n0.0\\n0.0\\n0.0\\n0.0\\n0.0\\n0.0\\n0.0\\n0.0\\n0.0\\n0.0\\n0.0\\n0.0\\n0.0\\n0.0\\n0.0\\n0.0\\n0.0\\n0.0\\n0.0\\n0.0\\n0.0\\n0.0\\n0.0\\n0.0\\n0.0\\n0.0\\n0.0\\n532152690.379562\\n0.0\\n0.0\\n0.0\\n0.0\\n0.0\\n0.0\\n0.0\\n0.0\\n0.0\\n0.0\\n0.0\\n0.0\\n0.0\\n0.0\\n0.0\\n0.0\\n0.0\\n0.0\\n0.0\\n0.0\\n0.0\\n0.0\\n0.0\\n0.0\\n0.0\\n0.0\\n0.0\\n0.0\\n0.0\\n0.0\\n0.0\\n0.0\\n0.0\\n0.0\\n0.0\\n0.0\\n0.0\\n0.0\\n0.0\\n0.0\\n0.0\\n0.0\\n0.0\\n0.0\\n0.0\\n0.0\\n0.0\\n0.0\\n0.0\\n0.0\\n0.0\\n0.0\\n0.0\\n0.0\\n0.0\\n0.0\\n0.0\\n0.0\\n0.0\\n0.0\\n0.0\\n0.0\\n0.0\\n0.0\\n0.0\\n0.0\\n0.0\\n0.0\\n0.0\\n0.0\\n0.0\\n0.0\\n0.0\\n0.0\\n0.0\\n0.0\\n0.0\\n0.0\\n0.0\\n0.0\\n0.0\\n0.0\\n0.0\\n0.0\\n0.0\\n0.0\\n0.0\\n0.0\\n0.0\\n0.0\\n0.0\\n0.0\\n0.0\\n0.0\\n0.0\\n0.0\\n0.0\\n0.0\\n532152690.379562\\n0.0\\n0.0\\n0.0\\n0.0\\n0.0\\n0.0\\n0.0\\n0.0\\n0.0\\n0.0\\n0.0\\n0.0\\n532152690.379562\\n0.0\\n0.0\\n0.0\\n0.0\\n0.0\\n0.0\\n0.0\\n0.0\\n0.0\\n0.0\\n0.0\\n0.0\\n0.0\\n0.0\\n0.0\\n0.0\\n532152690.379562\\n0.0\\n0.0\\n0.0\\n0.0\\n0.0\\n0.0\\n0.0\\n0.0\\n0.0\\n0.0\\n0.0\\n0.0\\n0.0\\n0.0\\n0.0\\n0.0\\n0.0\\n0.0\\n0.0\\n0.0\\n0.0\\n0.0\\n0.0\\n532152690.379562\\n0.0\\n0.0\\n0.0\\n0.0\\n0.0\\n532152690.379562\\n0.0\\n0.0\\n0.0\\n0.0\\n0.0\\n0.0\\n0.0\\n0.0\\n0.0\\n0.0\\n0.0\\n0.0\\n532152690.379562\\n0.0\\n0.0\\n0.0\\n0.0\\n0.0\\n0.0\\n0.0\\n0.0\\n0.0\\n0.0\\n0.0\\n0.0\\n0.0\\n0.0\\n0.0\\n0.0\\n0.0\\n0.0\\n0.0\\n0.0\\n0.0\\n532152690.379562\\n0.0\\n0.0\\n0.0\\n0.0\\n0.0\\n0.0\\n0.0\\n0.0\\n0.0\\n0.0\\n0.0\\n0.0\\n0.0\\n0.0\\n0.0\\n0.0\\n0.0\\n0.0\\n0.0\\n0.0\\n0.0\\n0.0\\n532152690.379562\\n0.0\\n0.0\\n0.0\\n0.0\\n0.0\\n0.0\\n0.0\\n0.0\\n0.0\\n0.0\\n0.0\\n0.0\\n0.0\\n0.0\\n0.0\\n0.0\\n0.0\\n0.0\\n0.0\\n0.0\\n0.0\\n0.0\\n532152690.379562\\n0.0\\n0.0\\n0.0\\n0.0\\n0.0\\n0.0\\n0.0\\n0.0\\n0.0\\n0.0\\n0.0\\n0.0\\n0.0\\n0.0\\n0.0\\n0.0\\n532152690.379562\\n0.0\\n0.0\\n0.0\\n0.0\\n0.0\\n0.0\\n0.0\\n0.0\\n0.0\\n0.0\\n0.0\\n0.0\\n0.0\\n0.0\\n0.0\\n0.0\\n0.0\\n0.0\\n0.0\\n0.0\\n0.0\\n0.0\\n0.0\\n0.0\\n0.0\\n0.0\\n0.0\\n0.0\\n0.0\\n0.0\\n0.0\\n0.0\\n0.0\\n0.0\\n0.0\\n0.0\\n0.0\\n0.0\\n0.0\\n0.0\\n0.0\\n0.0\\n0.0\\n0.0\\n0.0\\n0.0\\n0.0\\n0.0\\n0.0\\n0.0\\n0.0\\n0.0\\n0.0\\n0.0\\n0.0\\n0.0\\n0.0\\n0.0\\n0.0\\n0.0\\n0.0\\n0.0\\n0.0\\n0.0\\n0.0\\n0.0\\n532152690.379562\\n0.0\\n0.0\\n0.0\\n0.0\\n0.0\\n0.0\\n0.0\\n0.0\\n0.0\\n0.0\\n0.0\\n0.0\\n0.0\\n0.0\\n0.0\\n0.0\\n0.0\\n0.0\\n0.0\\n0.0\\n0.0\\n0.0\\n0.0\\n0.0\\n0.0\\n0.0\\n0.0\\n0.0\\n0.0\\n0.0\\n0.0\\n0.0\\n0.0\\n0.0\\n0.0\\n0.0\\n532152690.379562\\n0.0\\n0.0\\n0.0\\n0.0\\n0.0\\n0.0\\n0.0\\n0.0\\n0.0\\n0.0\\n0.0\\n0.0\\n0.0\\n0.0\\n0.0\\n0.0\\n0.0\\n0.0\\n0.0\\n0.0\\n0.0\\n0.0\\n0.0\\n0.0\\n0.0\\n0.0\\n0.0\\n0.0\\n0.0\\n0.0\\n0.0\\n0.0\\n0.0\\n0.0\\n0.0\\n0.0\\n0.0\\n0.0\\n0.0\\n0.0\\n0.0\\n0.0\\n532152690.379562\\n0.0\\n0.0\\n0.0\\n0.0\\n0.0\\n0.0\\n0.0\\n0.0\\n0.0\\n0.0\\n0.0\\n0.0\\n0.0\\n0.0\\n0.0\\n0.0\\n0.0\\n0.0\\n0.0\\n0.0\\n0.0\\n0.0\\n0.0\\n0.0\\n0.0\\n0.0\\n0.0\\n0.0\\n0.0\\n0.0\\n0.0\\n0.0\\n0.0\\n0.0\\n0.0\\n0.0\\n0.0\\n0.0\\n0.0\\n0.0\\n0.0\\n0.0\\n0.0\\n0.0\\n0.0\\n0.0\\n0.0\\n0.0\\n0.0\\n0.0\\n0.0\\n0.0\\n0.0\\n0.0\\n0.0\\n0.0\\n0.0\\n0.0\\n0.0\\n0.0\\n0.0\\n0.0\\n0.0\\n0.0\\n0.0\\n0.0\\n0.0\\n0.0\\n0.0\\n0.0\\n0.0\\n0.0\\n0.0\\n0.0\\n0.0\\n0.0\\n0.0\\n0.0\\n0.0\\n0.0\\n0.0\\n0.0\\n0.0\\n0.0\\n0.0\\n0.0\\n0.0\\n0.0\\n0.0\\n0.0\\n0.0\\n0.0\\n0.0\\n0.0\\n0.0\\n0.0\\n0.0\\n0.0\\n0.0\\n532152690.379562\\n0.0\\n0.0\\n0.0\\n0.0\\n0.0\\n0.0\\n0.0\\n0.0\\n0.0\\n0.0\\n0.0\\n0.0\\n0.0\\n0.0\\n0.0\\n0.0\\n0.0\\n0.0\\n0.0\\n0.0\\n0.0\\n0.0\\n0.0\\n0.0\\n0.0\\n0.0\\n0.0\\n0.0\\n0.0\\n0.0\\n0.0\\n0.0\\n0.0\\n0.0\\n0.0\\n0.0\\n0.0\\n0.0\\n0.0\\n0.0\\n0.0\\n0.0\\n0.0\\n0.0\\n0.0\\n0.0\\n0.0\\n0.0\\n0.0\\n0.0\\n0.0\\n0.0\\n0.0\\n0.0\\n0.0\\n0.0\\n0.0\\n0.0\\n0.0\\n0.0\\n0.0\\n0.0\\n0.0\\n0.0\\n0.0\\n0.0\\n0.0\\n0.0\\n0.0\\n0.0\\n0.0\\n0.0\\n0.0\\n0.0\\n0.0\\n0.0\\n0.0\\n0.0\\n0.0\\n0.0\\n0.0\\n0.0\\n0.0\\n0.0\\n0.0\\n0.0\\n0.0\\n0.0\\n0.0\\n0.0\\n0.0\\n0.0\\n0.0\\n0.0\\n0.0\\n0.0\\n0.0\\n0.0\\n0.0\\n0.0\\n0.0\\n0.0\\n0.0\\n0.0\\n0.0\\n0.0\\n0.0\\n0.0\\n0.0\\n0.0\\n0.0\\n0.0\\n0.0\\n0.0\\n0.0\\n0.0\\n0.0\\n0.0\\n0.0\\n0.0\\n0.0\\n0.0\\n0.0\\n0.0\\n0.0\\n0.0\\n0.0\\n0.0\\n0.0\\n0.0\\n532152690.379562\\n0.0\\n0.0\\n0.0\\n0.0\\n0.0\\n0.0\\n0.0\\n0.0\\n0.0\\n0.0\\n0.0\\n0.0\\n0.0\\n0.0\\n0.0\\n0.0\\n0.0\\n0.0\\n0.0\\n0.0\\n0.0\\n0.0\\n0.0\\n0.0\\n0.0\\n0.0\\n0.0\\n0.0\\n0.0\\n0.0\\n0.0\\n0.0\\n0.0\\n0.0\\n0.0\\n0.0\\n0.0\\n0.0\\n0.0\\n0.0\\n0.0\\n0.0\\n0.0\\n0.0\\n0.0\\n0.0\\n0.0\\n0.0\\n0.0\\n0.0\\n0.0\\n0.0\\n0.0\\n0.0\\n0.0\\n0.0\\n0.0\\n0.0\\n532152690.379562\\n0.0\\n0.0\\n0.0\\n0.0\\n0.0\\n0.0\\n0.0\\n0.0\\n0.0\\n0.0\\n0.0\\n0.0\\n0.0\\n0.0\\n0.0\\n0.0\\n0.0\\n0.0\\n0.0\\n0.0\\n0.0\\n'"
      ]
     },
     "metadata": {},
     "execution_count": 32
    }
   ],
   "source": [
    "df.to_csv(index = False)"
   ]
  },
  {
   "source": [
    "## Total Funds Raised"
   ],
   "cell_type": "markdown",
   "metadata": {}
  },
  {
   "cell_type": "code",
   "execution_count": 33,
   "metadata": {},
   "outputs": [],
   "source": [
    "import pandas as pd\n",
    "df = pd.read_csv(\"../Week3_Onwards/unifed_csv_without_duplicated_company.csv\")"
   ]
  },
  {
   "cell_type": "code",
   "execution_count": 34,
   "metadata": {},
   "outputs": [
    {
     "output_type": "execute_result",
     "data": {
      "text/plain": [
       "0               NaN\n",
       "1               NaN\n",
       "2               NaN\n",
       "3               NaN\n",
       "4        25200000.0\n",
       "            ...    \n",
       "37193           NaN\n",
       "37194           NaN\n",
       "37195           NaN\n",
       "37196    14523274.0\n",
       "37197     1087000.0\n",
       "Name: total_funding_usd, Length: 37198, dtype: float64"
      ]
     },
     "metadata": {},
     "execution_count": 34
    }
   ],
   "source": [
    "series = df['total_funding_usd']\n",
    "series"
   ]
  },
  {
   "cell_type": "code",
   "execution_count": 37,
   "metadata": {},
   "outputs": [
    {
     "output_type": "execute_result",
     "data": {
      "text/plain": [
       "       total_funding_usd\n",
       "0                    NaN\n",
       "1                    NaN\n",
       "2                    NaN\n",
       "3                    NaN\n",
       "4             25200000.0\n",
       "...                  ...\n",
       "37193                NaN\n",
       "37194                NaN\n",
       "37195                NaN\n",
       "37196         14523274.0\n",
       "37197          1087000.0\n",
       "\n",
       "[37198 rows x 1 columns]"
      ],
      "text/html": "<div>\n<style scoped>\n    .dataframe tbody tr th:only-of-type {\n        vertical-align: middle;\n    }\n\n    .dataframe tbody tr th {\n        vertical-align: top;\n    }\n\n    .dataframe thead th {\n        text-align: right;\n    }\n</style>\n<table border=\"1\" class=\"dataframe\">\n  <thead>\n    <tr style=\"text-align: right;\">\n      <th></th>\n      <th>total_funding_usd</th>\n    </tr>\n  </thead>\n  <tbody>\n    <tr>\n      <th>0</th>\n      <td>NaN</td>\n    </tr>\n    <tr>\n      <th>1</th>\n      <td>NaN</td>\n    </tr>\n    <tr>\n      <th>2</th>\n      <td>NaN</td>\n    </tr>\n    <tr>\n      <th>3</th>\n      <td>NaN</td>\n    </tr>\n    <tr>\n      <th>4</th>\n      <td>25200000.0</td>\n    </tr>\n    <tr>\n      <th>...</th>\n      <td>...</td>\n    </tr>\n    <tr>\n      <th>37193</th>\n      <td>NaN</td>\n    </tr>\n    <tr>\n      <th>37194</th>\n      <td>NaN</td>\n    </tr>\n    <tr>\n      <th>37195</th>\n      <td>NaN</td>\n    </tr>\n    <tr>\n      <th>37196</th>\n      <td>14523274.0</td>\n    </tr>\n    <tr>\n      <th>37197</th>\n      <td>1087000.0</td>\n    </tr>\n  </tbody>\n</table>\n<p>37198 rows × 1 columns</p>\n</div>"
     },
     "metadata": {},
     "execution_count": 37
    }
   ],
   "source": [
    "df = series.to_frame()\n",
    "df"
   ]
  },
  {
   "cell_type": "code",
   "execution_count": 47,
   "metadata": {},
   "outputs": [
    {
     "output_type": "execute_result",
     "data": {
      "text/plain": [
       "         x_values\n",
       "0             NaN\n",
       "1             NaN\n",
       "2             NaN\n",
       "3             NaN\n",
       "4      25200000.0\n",
       "...           ...\n",
       "37193         NaN\n",
       "37194         NaN\n",
       "37195         NaN\n",
       "37196  14523274.0\n",
       "37197   1087000.0\n",
       "\n",
       "[37198 rows x 1 columns]"
      ],
      "text/html": "<div>\n<style scoped>\n    .dataframe tbody tr th:only-of-type {\n        vertical-align: middle;\n    }\n\n    .dataframe tbody tr th {\n        vertical-align: top;\n    }\n\n    .dataframe thead th {\n        text-align: right;\n    }\n</style>\n<table border=\"1\" class=\"dataframe\">\n  <thead>\n    <tr style=\"text-align: right;\">\n      <th></th>\n      <th>x_values</th>\n    </tr>\n  </thead>\n  <tbody>\n    <tr>\n      <th>0</th>\n      <td>NaN</td>\n    </tr>\n    <tr>\n      <th>1</th>\n      <td>NaN</td>\n    </tr>\n    <tr>\n      <th>2</th>\n      <td>NaN</td>\n    </tr>\n    <tr>\n      <th>3</th>\n      <td>NaN</td>\n    </tr>\n    <tr>\n      <th>4</th>\n      <td>25200000.0</td>\n    </tr>\n    <tr>\n      <th>...</th>\n      <td>...</td>\n    </tr>\n    <tr>\n      <th>37193</th>\n      <td>NaN</td>\n    </tr>\n    <tr>\n      <th>37194</th>\n      <td>NaN</td>\n    </tr>\n    <tr>\n      <th>37195</th>\n      <td>NaN</td>\n    </tr>\n    <tr>\n      <th>37196</th>\n      <td>14523274.0</td>\n    </tr>\n    <tr>\n      <th>37197</th>\n      <td>1087000.0</td>\n    </tr>\n  </tbody>\n</table>\n<p>37198 rows × 1 columns</p>\n</div>"
     },
     "metadata": {},
     "execution_count": 47
    }
   ],
   "source": [
    "df.rename(columns={'total_funding_usd': 'x_values'}, inplace=True)\n",
    "df"
   ]
  },
  {
   "cell_type": "code",
   "execution_count": 52,
   "metadata": {},
   "outputs": [
    {
     "output_type": "execute_result",
     "data": {
      "text/plain": [
       "         x_values\n",
       "4      25200000.0\n",
       "10      4025000.0\n",
       "20     13316538.0\n",
       "28      1700000.0\n",
       "38     57011648.0\n",
       "...           ...\n",
       "37177   1000000.0\n",
       "37186     65625.0\n",
       "37188   3700000.0\n",
       "37196  14523274.0\n",
       "37197   1087000.0\n",
       "\n",
       "[9093 rows x 1 columns]"
      ],
      "text/html": "<div>\n<style scoped>\n    .dataframe tbody tr th:only-of-type {\n        vertical-align: middle;\n    }\n\n    .dataframe tbody tr th {\n        vertical-align: top;\n    }\n\n    .dataframe thead th {\n        text-align: right;\n    }\n</style>\n<table border=\"1\" class=\"dataframe\">\n  <thead>\n    <tr style=\"text-align: right;\">\n      <th></th>\n      <th>x_values</th>\n    </tr>\n  </thead>\n  <tbody>\n    <tr>\n      <th>4</th>\n      <td>25200000.0</td>\n    </tr>\n    <tr>\n      <th>10</th>\n      <td>4025000.0</td>\n    </tr>\n    <tr>\n      <th>20</th>\n      <td>13316538.0</td>\n    </tr>\n    <tr>\n      <th>28</th>\n      <td>1700000.0</td>\n    </tr>\n    <tr>\n      <th>38</th>\n      <td>57011648.0</td>\n    </tr>\n    <tr>\n      <th>...</th>\n      <td>...</td>\n    </tr>\n    <tr>\n      <th>37177</th>\n      <td>1000000.0</td>\n    </tr>\n    <tr>\n      <th>37186</th>\n      <td>65625.0</td>\n    </tr>\n    <tr>\n      <th>37188</th>\n      <td>3700000.0</td>\n    </tr>\n    <tr>\n      <th>37196</th>\n      <td>14523274.0</td>\n    </tr>\n    <tr>\n      <th>37197</th>\n      <td>1087000.0</td>\n    </tr>\n  </tbody>\n</table>\n<p>9093 rows × 1 columns</p>\n</div>"
     },
     "metadata": {},
     "execution_count": 52
    }
   ],
   "source": [
    "df.dropna(inplace=True)\n",
    "df"
   ]
  },
  {
   "cell_type": "code",
   "execution_count": null,
   "metadata": {},
   "outputs": [],
   "source": [
    "df.to_csv(index = False)"
   ]
  },
  {
   "source": [
    "## Number of Investment"
   ],
   "cell_type": "markdown",
   "metadata": {}
  },
  {
   "cell_type": "code",
   "execution_count": 19,
   "metadata": {},
   "outputs": [],
   "source": [
    "import pandas as pd\n",
    "df = pd.read_csv(\"../Week3_Onwards/unifed_csv_without_duplicated_company.csv\")"
   ]
  },
  {
   "cell_type": "code",
   "execution_count": 20,
   "metadata": {},
   "outputs": [
    {
     "output_type": "execute_result",
     "data": {
      "text/plain": [
       "       investment_count\n",
       "0                   0.0\n",
       "1                   0.0\n",
       "2                   0.0\n",
       "3                   0.0\n",
       "4                   0.0\n",
       "...                 ...\n",
       "37193               0.0\n",
       "37194               0.0\n",
       "37195               0.0\n",
       "37196               0.0\n",
       "37197               0.0\n",
       "\n",
       "[37198 rows x 1 columns]"
      ],
      "text/html": "<div>\n<style scoped>\n    .dataframe tbody tr th:only-of-type {\n        vertical-align: middle;\n    }\n\n    .dataframe tbody tr th {\n        vertical-align: top;\n    }\n\n    .dataframe thead th {\n        text-align: right;\n    }\n</style>\n<table border=\"1\" class=\"dataframe\">\n  <thead>\n    <tr style=\"text-align: right;\">\n      <th></th>\n      <th>investment_count</th>\n    </tr>\n  </thead>\n  <tbody>\n    <tr>\n      <th>0</th>\n      <td>0.0</td>\n    </tr>\n    <tr>\n      <th>1</th>\n      <td>0.0</td>\n    </tr>\n    <tr>\n      <th>2</th>\n      <td>0.0</td>\n    </tr>\n    <tr>\n      <th>3</th>\n      <td>0.0</td>\n    </tr>\n    <tr>\n      <th>4</th>\n      <td>0.0</td>\n    </tr>\n    <tr>\n      <th>...</th>\n      <td>...</td>\n    </tr>\n    <tr>\n      <th>37193</th>\n      <td>0.0</td>\n    </tr>\n    <tr>\n      <th>37194</th>\n      <td>0.0</td>\n    </tr>\n    <tr>\n      <th>37195</th>\n      <td>0.0</td>\n    </tr>\n    <tr>\n      <th>37196</th>\n      <td>0.0</td>\n    </tr>\n    <tr>\n      <th>37197</th>\n      <td>0.0</td>\n    </tr>\n  </tbody>\n</table>\n<p>37198 rows × 1 columns</p>\n</div>"
     },
     "metadata": {},
     "execution_count": 20
    }
   ],
   "source": [
    "series = df['investment_count']\n",
    "df = series.to_frame()\n",
    "\n",
    "df"
   ]
  },
  {
   "cell_type": "code",
   "execution_count": 21,
   "metadata": {},
   "outputs": [
    {
     "output_type": "execute_result",
     "data": {
      "text/plain": [
       "investment_count    36627\n",
       "dtype: int64"
      ]
     },
     "metadata": {},
     "execution_count": 21
    }
   ],
   "source": [
    "df[df < 100].count()"
   ]
  },
  {
   "cell_type": "code",
   "execution_count": 22,
   "metadata": {},
   "outputs": [
    {
     "output_type": "execute_result",
     "data": {
      "text/plain": [
       "investment_count    36627\n",
       "dtype: int64"
      ]
     },
     "metadata": {},
     "execution_count": 22
    }
   ],
   "source": [
    "df[df == 0].count()"
   ]
  },
  {
   "cell_type": "code",
   "execution_count": 23,
   "metadata": {},
   "outputs": [
    {
     "output_type": "execute_result",
     "data": {
      "text/plain": [
       "       investment_count\n",
       "38                315.0\n",
       "75                244.0\n",
       "105              1072.0\n",
       "126               402.0\n",
       "129               129.0\n",
       "...                 ...\n",
       "36784             264.0\n",
       "36812             315.0\n",
       "36837             155.0\n",
       "36857            1830.0\n",
       "36858             764.0\n",
       "\n",
       "[571 rows x 1 columns]"
      ],
      "text/html": "<div>\n<style scoped>\n    .dataframe tbody tr th:only-of-type {\n        vertical-align: middle;\n    }\n\n    .dataframe tbody tr th {\n        vertical-align: top;\n    }\n\n    .dataframe thead th {\n        text-align: right;\n    }\n</style>\n<table border=\"1\" class=\"dataframe\">\n  <thead>\n    <tr style=\"text-align: right;\">\n      <th></th>\n      <th>investment_count</th>\n    </tr>\n  </thead>\n  <tbody>\n    <tr>\n      <th>38</th>\n      <td>315.0</td>\n    </tr>\n    <tr>\n      <th>75</th>\n      <td>244.0</td>\n    </tr>\n    <tr>\n      <th>105</th>\n      <td>1072.0</td>\n    </tr>\n    <tr>\n      <th>126</th>\n      <td>402.0</td>\n    </tr>\n    <tr>\n      <th>129</th>\n      <td>129.0</td>\n    </tr>\n    <tr>\n      <th>...</th>\n      <td>...</td>\n    </tr>\n    <tr>\n      <th>36784</th>\n      <td>264.0</td>\n    </tr>\n    <tr>\n      <th>36812</th>\n      <td>315.0</td>\n    </tr>\n    <tr>\n      <th>36837</th>\n      <td>155.0</td>\n    </tr>\n    <tr>\n      <th>36857</th>\n      <td>1830.0</td>\n    </tr>\n    <tr>\n      <th>36858</th>\n      <td>764.0</td>\n    </tr>\n  </tbody>\n</table>\n<p>571 rows × 1 columns</p>\n</div>"
     },
     "metadata": {},
     "execution_count": 23
    }
   ],
   "source": [
    "#drop zero\n",
    "df = df[~(df == 0).any(axis = 1)]\n",
    "df"
   ]
  },
  {
   "cell_type": "code",
   "execution_count": 25,
   "metadata": {},
   "outputs": [
    {
     "output_type": "execute_result",
     "data": {
      "text/plain": [
       "'investment_count\\n315.0\\n244.0\\n1072.0\\n402.0\\n129.0\\n764.0\\n124.0\\n232.0\\n2427.0\\n145.0\\n434.0\\n1874.0\\n1830.0\\n594.0\\n1830.0\\n635.0\\n3093.0\\n1213.0\\n1830.0\\n594.0\\n133.0\\n219.0\\n434.0\\n315.0\\n116.0\\n1072.0\\n393.0\\n1830.0\\n874.0\\n317.0\\n761.0\\n395.0\\n1072.0\\n224.0\\n1874.0\\n112.0\\n232.0\\n189.0\\n2427.0\\n317.0\\n1830.0\\n122.0\\n1072.0\\n313.0\\n382.0\\n841.0\\n312.0\\n164.0\\n119.0\\n153.0\\n2427.0\\n520.0\\n230.0\\n157.0\\n234.0\\n1830.0\\n120.0\\n1427.0\\n111.0\\n156.0\\n567.0\\n376.0\\n122.0\\n175.0\\n126.0\\n120.0\\n122.0\\n324.0\\n142.0\\n242.0\\n460.0\\n179.0\\n791.0\\n313.0\\n143.0\\n787.0\\n156.0\\n142.0\\n153.0\\n635.0\\n265.0\\n216.0\\n123.0\\n112.0\\n292.0\\n222.0\\n1072.0\\n230.0\\n120.0\\n395.0\\n125.0\\n382.0\\n1072.0\\n199.0\\n571.0\\n613.0\\n198.0\\n850.0\\n159.0\\n787.0\\n159.0\\n151.0\\n1830.0\\n850.0\\n1427.0\\n349.0\\n1427.0\\n388.0\\n402.0\\n203.0\\n507.0\\n393.0\\n146.0\\n158.0\\n370.0\\n112.0\\n142.0\\n764.0\\n393.0\\n317.0\\n850.0\\n324.0\\n238.0\\n219.0\\n224.0\\n613.0\\n3093.0\\n153.0\\n434.0\\n469.0\\n244.0\\n103.0\\n312.0\\n276.0\\n180.0\\n237.0\\n189.0\\n791.0\\n395.0\\n230.0\\n611.0\\n280.0\\n580.0\\n259.0\\n572.0\\n237.0\\n255.0\\n787.0\\n123.0\\n193.0\\n230.0\\n120.0\\n151.0\\n649.0\\n1830.0\\n1830.0\\n141.0\\n224.0\\n1427.0\\n1830.0\\n109.0\\n230.0\\n151.0\\n402.0\\n193.0\\n635.0\\n393.0\\n515.0\\n462.0\\n331.0\\n176.0\\n376.0\\n203.0\\n312.0\\n121.0\\n153.0\\n3093.0\\n613.0\\n237.0\\n145.0\\n155.0\\n106.0\\n3093.0\\n460.0\\n1072.0\\n849.0\\n127.0\\n216.0\\n850.0\\n158.0\\n268.0\\n157.0\\n291.0\\n189.0\\n566.0\\n170.0\\n635.0\\n323.0\\n386.0\\n1830.0\\n611.0\\n101.0\\n257.0\\n109.0\\n126.0\\n384.0\\n175.0\\n1499.0\\n444.0\\n649.0\\n291.0\\n189.0\\n127.0\\n3093.0\\n507.0\\n268.0\\n151.0\\n159.0\\n862.0\\n3093.0\\n189.0\\n862.0\\n156.0\\n1874.0\\n304.0\\n1830.0\\n331.0\\n157.0\\n507.0\\n189.0\\n144.0\\n126.0\\n268.0\\n132.0\\n460.0\\n195.0\\n127.0\\n150.0\\n1830.0\\n179.0\\n388.0\\n134.0\\n1072.0\\n393.0\\n134.0\\n862.0\\n193.0\\n123.0\\n120.0\\n123.0\\n862.0\\n179.0\\n368.0\\n340.0\\n189.0\\n764.0\\n157.0\\n460.0\\n180.0\\n1874.0\\n193.0\\n434.0\\n158.0\\n124.0\\n124.0\\n101.0\\n477.0\\n127.0\\n222.0\\n233.0\\n224.0\\n1072.0\\n153.0\\n230.0\\n302.0\\n619.0\\n106.0\\n192.0\\n1830.0\\n384.0\\n215.0\\n1213.0\\n460.0\\n153.0\\n874.0\\n215.0\\n1830.0\\n605.0\\n111.0\\n370.0\\n3093.0\\n548.0\\n1072.0\\n106.0\\n119.0\\n611.0\\n657.0\\n611.0\\n613.0\\n116.0\\n3093.0\\n140.0\\n402.0\\n276.0\\n418.0\\n172.0\\n348.0\\n243.0\\n257.0\\n386.0\\n619.0\\n324.0\\n1830.0\\n507.0\\n133.0\\n161.0\\n1010.0\\n1830.0\\n189.0\\n2427.0\\n181.0\\n153.0\\n580.0\\n169.0\\n142.0\\n469.0\\n1072.0\\n331.0\\n1830.0\\n101.0\\n460.0\\n123.0\\n100.0\\n230.0\\n166.0\\n194.0\\n460.0\\n344.0\\n230.0\\n189.0\\n193.0\\n112.0\\n189.0\\n279.0\\n133.0\\n103.0\\n649.0\\n169.0\\n156.0\\n2427.0\\n613.0\\n208.0\\n1072.0\\n152.0\\n172.0\\n366.0\\n255.0\\n737.0\\n169.0\\n255.0\\n259.0\\n764.0\\n222.0\\n243.0\\n230.0\\n172.0\\n150.0\\n1830.0\\n215.0\\n120.0\\n315.0\\n460.0\\n395.0\\n106.0\\n173.0\\n236.0\\n460.0\\n196.0\\n402.0\\n702.0\\n153.0\\n2427.0\\n128.0\\n103.0\\n3093.0\\n468.0\\n233.0\\n874.0\\n101.0\\n515.0\\n434.0\\n276.0\\n131.0\\n459.0\\n127.0\\n459.0\\n469.0\\n2427.0\\n120.0\\n507.0\\n159.0\\n1072.0\\n105.0\\n1499.0\\n611.0\\n103.0\\n3272.0\\n2427.0\\n402.0\\n112.0\\n376.0\\n153.0\\n611.0\\n565.0\\n732.0\\n1499.0\\n177.0\\n276.0\\n105.0\\n1072.0\\n105.0\\n507.0\\n1499.0\\n222.0\\n106.0\\n171.0\\n142.0\\n111.0\\n1072.0\\n331.0\\n123.0\\n112.0\\n234.0\\n153.0\\n1830.0\\n566.0\\n315.0\\n434.0\\n315.0\\n470.0\\n114.0\\n144.0\\n571.0\\n304.0\\n515.0\\n126.0\\n134.0\\n444.0\\n140.0\\n131.0\\n611.0\\n850.0\\n106.0\\n3272.0\\n194.0\\n120.0\\n120.0\\n862.0\\n1830.0\\n126.0\\n109.0\\n3093.0\\n302.0\\n144.0\\n103.0\\n611.0\\n222.0\\n1072.0\\n205.0\\n613.0\\n395.0\\n107.0\\n315.0\\n1213.0\\n613.0\\n333.0\\n2427.0\\n217.0\\n144.0\\n101.0\\n144.0\\n111.0\\n470.0\\n203.0\\n144.0\\n179.0\\n1830.0\\n515.0\\n129.0\\n101.0\\n189.0\\n106.0\\n156.0\\n572.0\\n348.0\\n179.0\\n515.0\\n395.0\\n1072.0\\n764.0\\n195.0\\n189.0\\n348.0\\n103.0\\n324.0\\n323.0\\n127.0\\n131.0\\n132.0\\n1213.0\\n2427.0\\n270.0\\n507.0\\n395.0\\n155.0\\n144.0\\n395.0\\n219.0\\n317.0\\n236.0\\n235.0\\n1830.0\\n100.0\\n657.0\\n265.0\\n175.0\\n116.0\\n101.0\\n1072.0\\n159.0\\n119.0\\n143.0\\n300.0\\n233.0\\n379.0\\n125.0\\n841.0\\n1830.0\\n378.0\\n462.0\\n565.0\\n567.0\\n103.0\\n199.0\\n572.0\\n216.0\\n158.0\\n169.0\\n2427.0\\n354.0\\n194.0\\n348.0\\n120.0\\n101.0\\n122.0\\n1830.0\\n148.0\\n142.0\\n377.0\\n116.0\\n116.0\\n169.0\\n144.0\\n131.0\\n649.0\\n649.0\\n264.0\\n315.0\\n155.0\\n1830.0\\n764.0\\n'"
      ]
     },
     "metadata": {},
     "execution_count": 25
    }
   ],
   "source": [
    "df.to_csv(index=False)"
   ]
  },
  {
   "source": [
    "## No of Companies Owned by Top 20 Founders"
   ],
   "cell_type": "markdown",
   "metadata": {}
  },
  {
   "cell_type": "code",
   "execution_count": 2,
   "metadata": {},
   "outputs": [
    {
     "output_type": "execute_result",
     "data": {
      "text/plain": [
       "                                        uuid     rank  \\\n",
       "0       c62807f2-3487-f63b-e7fc-559b752ed44c  26818.0   \n",
       "1       419cabe1-4d71-5f64-3e9b-c9d0fb445cca  51088.0   \n",
       "2       01bd2058-ccf8-6102-f253-9224a67a592b  35009.0   \n",
       "3       831becd6-e913-b9f5-ac09-2bff915f9453  41607.0   \n",
       "4       9da90ee7-aad7-e0b4-8456-839363032e5e  82210.0   \n",
       "...                                      ...      ...   \n",
       "109820  1e5d9ac2-a293-47b9-a599-bc2be8c3b069   6608.0   \n",
       "109821  436fabdf-305a-4dc8-88ff-7d333d9ab620   6607.0   \n",
       "109822  99f54962-ec76-4456-8f19-d0f6833e01d2  36988.0   \n",
       "109823  bac58cf7-c6a5-4fa2-96e5-6341b9237cb1   1573.0   \n",
       "109824  8d6b103d-89f9-44e2-8f96-d81c237caa44      NaN   \n",
       "\n",
       "                               acquiree_uuid                  acquiree_name  \\\n",
       "0       180ebf67-68d0-2316-e93d-8e1e546330ba                        Flektor   \n",
       "1       5b05e013-a448-3a0b-d872-a6ae668e1192                   GrandCentral   \n",
       "2       8249dffa-1ca6-6f99-9f76-d56c83f85f2d                        Last.fm   \n",
       "3       10dd03fa-69ff-3a82-6321-c6b16c9a9f41                 Kosiso - store   \n",
       "4       0af10345-613d-e144-f8bd-b62e288985a0                     Recipezaar   \n",
       "...                                      ...                            ...   \n",
       "109820  88916525-5f2b-4be6-a7b5-0b879ce4efb3         Carl von Linnékliniken   \n",
       "109821  2f2a9e5f-1a7e-4916-a240-8f5e8e3c6efc                        Demetra   \n",
       "109822  26863a5f-509e-45f6-ac1f-bb4abe63f3b4                    Data Driver   \n",
       "109823  ba060c5f-6947-4a36-ba63-a0a10ed74df8  Great and Relentless Few Show   \n",
       "109824  74cfd4e9-e176-4092-90a0-5fad4663a241               Tepia Technology   \n",
       "\n",
       "       acquiree_country_code acquiree_region acquiree_city  \\\n",
       "0                        USA      California   Culver City   \n",
       "1                        USA      California       Fremont   \n",
       "2                        GBR         England        London   \n",
       "3                        USA        Illinois       Chicago   \n",
       "4                        USA      Washington        Vashon   \n",
       "...                      ...             ...           ...   \n",
       "109820                   SWE     Uppsala Lan       Uppsala   \n",
       "109821                   ITA           Lazio      Tuscania   \n",
       "109822                   CHN        Shanghai      Shanghai   \n",
       "109823                   NaN             NaN           NaN   \n",
       "109824                   CHN         Beijing       Haidian   \n",
       "\n",
       "                               acquirer_uuid  \\\n",
       "0       d70777cc-14bd-2416-0692-5a483781b78b   \n",
       "1       6acfa7da-1dbd-936e-d985-cf07a1b27711   \n",
       "2       f09c1228-2e7d-1889-6647-ba5021b2e4ea   \n",
       "3       6acfa7da-1dbd-936e-d985-cf07a1b27711   \n",
       "4       b5a96cd7-044d-70f0-04c5-f125e57a4b35   \n",
       "...                                      ...   \n",
       "109820  4aebc204-6b18-4406-bcbb-54b99d60d46f   \n",
       "109821  4aebc204-6b18-4406-bcbb-54b99d60d46f   \n",
       "109822  67e319ff-d9e6-49fb-b5b6-cf44af694d08   \n",
       "109823  f8c3d362-1d7c-4ed8-9a6b-f0fc62edc5d9   \n",
       "109824  d17f0d6e-ccad-498f-9b80-ed751932c463   \n",
       "\n",
       "                                            acquirer_name  \\\n",
       "0                                   Fox Interactive Media   \n",
       "1                                                  Google   \n",
       "2                                                     CBS   \n",
       "3                                                  Google   \n",
       "4                                        Scripps Networks   \n",
       "...                                                   ...   \n",
       "109820                                     GeneraLife IVF   \n",
       "109821                                     GeneraLife IVF   \n",
       "109822                  SGSG Science & Technology Company   \n",
       "109823  Institute of Higher Global Studies | Since 200...   \n",
       "109824                  Zhejiang Yongan Rongtong Holdings   \n",
       "\n",
       "       acquirer_country_code acquirer_region  acquirer_city acquired_on  \\\n",
       "0                        USA      California  Beverly Hills   30/5/2007   \n",
       "1                        USA      California  Mountain View    1/7/2007   \n",
       "2                        USA        New York       New York    1/5/2007   \n",
       "3                        USA      California  Mountain View   23/5/2007   \n",
       "4                        USA       Tennessee      Knoxville    1/7/2007   \n",
       "...                      ...             ...            ...         ...   \n",
       "109820                   ESP          Madrid         Madrid   1/10/2020   \n",
       "109821                   ESP          Madrid         Madrid   1/10/2020   \n",
       "109822                   CHN       Guangdong         Zhuhai   12/7/2020   \n",
       "109823                   USA         Alabama     Huntsville  25/12/2020   \n",
       "109824                   CHN        Zhejiang       Shaoxing   19/3/2019   \n",
       "\n",
       "          price_usd  \n",
       "0               NaN  \n",
       "1        60000000.0  \n",
       "2       280000000.0  \n",
       "3       100000000.0  \n",
       "4               NaN  \n",
       "...             ...  \n",
       "109820          NaN  \n",
       "109821          NaN  \n",
       "109822    7140919.0  \n",
       "109823     100000.0  \n",
       "109824   13409020.0  \n",
       "\n",
       "[109825 rows x 14 columns]"
      ],
      "text/html": "<div>\n<style scoped>\n    .dataframe tbody tr th:only-of-type {\n        vertical-align: middle;\n    }\n\n    .dataframe tbody tr th {\n        vertical-align: top;\n    }\n\n    .dataframe thead th {\n        text-align: right;\n    }\n</style>\n<table border=\"1\" class=\"dataframe\">\n  <thead>\n    <tr style=\"text-align: right;\">\n      <th></th>\n      <th>uuid</th>\n      <th>rank</th>\n      <th>acquiree_uuid</th>\n      <th>acquiree_name</th>\n      <th>acquiree_country_code</th>\n      <th>acquiree_region</th>\n      <th>acquiree_city</th>\n      <th>acquirer_uuid</th>\n      <th>acquirer_name</th>\n      <th>acquirer_country_code</th>\n      <th>acquirer_region</th>\n      <th>acquirer_city</th>\n      <th>acquired_on</th>\n      <th>price_usd</th>\n    </tr>\n  </thead>\n  <tbody>\n    <tr>\n      <th>0</th>\n      <td>c62807f2-3487-f63b-e7fc-559b752ed44c</td>\n      <td>26818.0</td>\n      <td>180ebf67-68d0-2316-e93d-8e1e546330ba</td>\n      <td>Flektor</td>\n      <td>USA</td>\n      <td>California</td>\n      <td>Culver City</td>\n      <td>d70777cc-14bd-2416-0692-5a483781b78b</td>\n      <td>Fox Interactive Media</td>\n      <td>USA</td>\n      <td>California</td>\n      <td>Beverly Hills</td>\n      <td>30/5/2007</td>\n      <td>NaN</td>\n    </tr>\n    <tr>\n      <th>1</th>\n      <td>419cabe1-4d71-5f64-3e9b-c9d0fb445cca</td>\n      <td>51088.0</td>\n      <td>5b05e013-a448-3a0b-d872-a6ae668e1192</td>\n      <td>GrandCentral</td>\n      <td>USA</td>\n      <td>California</td>\n      <td>Fremont</td>\n      <td>6acfa7da-1dbd-936e-d985-cf07a1b27711</td>\n      <td>Google</td>\n      <td>USA</td>\n      <td>California</td>\n      <td>Mountain View</td>\n      <td>1/7/2007</td>\n      <td>60000000.0</td>\n    </tr>\n    <tr>\n      <th>2</th>\n      <td>01bd2058-ccf8-6102-f253-9224a67a592b</td>\n      <td>35009.0</td>\n      <td>8249dffa-1ca6-6f99-9f76-d56c83f85f2d</td>\n      <td>Last.fm</td>\n      <td>GBR</td>\n      <td>England</td>\n      <td>London</td>\n      <td>f09c1228-2e7d-1889-6647-ba5021b2e4ea</td>\n      <td>CBS</td>\n      <td>USA</td>\n      <td>New York</td>\n      <td>New York</td>\n      <td>1/5/2007</td>\n      <td>280000000.0</td>\n    </tr>\n    <tr>\n      <th>3</th>\n      <td>831becd6-e913-b9f5-ac09-2bff915f9453</td>\n      <td>41607.0</td>\n      <td>10dd03fa-69ff-3a82-6321-c6b16c9a9f41</td>\n      <td>Kosiso - store</td>\n      <td>USA</td>\n      <td>Illinois</td>\n      <td>Chicago</td>\n      <td>6acfa7da-1dbd-936e-d985-cf07a1b27711</td>\n      <td>Google</td>\n      <td>USA</td>\n      <td>California</td>\n      <td>Mountain View</td>\n      <td>23/5/2007</td>\n      <td>100000000.0</td>\n    </tr>\n    <tr>\n      <th>4</th>\n      <td>9da90ee7-aad7-e0b4-8456-839363032e5e</td>\n      <td>82210.0</td>\n      <td>0af10345-613d-e144-f8bd-b62e288985a0</td>\n      <td>Recipezaar</td>\n      <td>USA</td>\n      <td>Washington</td>\n      <td>Vashon</td>\n      <td>b5a96cd7-044d-70f0-04c5-f125e57a4b35</td>\n      <td>Scripps Networks</td>\n      <td>USA</td>\n      <td>Tennessee</td>\n      <td>Knoxville</td>\n      <td>1/7/2007</td>\n      <td>NaN</td>\n    </tr>\n    <tr>\n      <th>...</th>\n      <td>...</td>\n      <td>...</td>\n      <td>...</td>\n      <td>...</td>\n      <td>...</td>\n      <td>...</td>\n      <td>...</td>\n      <td>...</td>\n      <td>...</td>\n      <td>...</td>\n      <td>...</td>\n      <td>...</td>\n      <td>...</td>\n      <td>...</td>\n    </tr>\n    <tr>\n      <th>109820</th>\n      <td>1e5d9ac2-a293-47b9-a599-bc2be8c3b069</td>\n      <td>6608.0</td>\n      <td>88916525-5f2b-4be6-a7b5-0b879ce4efb3</td>\n      <td>Carl von Linnékliniken</td>\n      <td>SWE</td>\n      <td>Uppsala Lan</td>\n      <td>Uppsala</td>\n      <td>4aebc204-6b18-4406-bcbb-54b99d60d46f</td>\n      <td>GeneraLife IVF</td>\n      <td>ESP</td>\n      <td>Madrid</td>\n      <td>Madrid</td>\n      <td>1/10/2020</td>\n      <td>NaN</td>\n    </tr>\n    <tr>\n      <th>109821</th>\n      <td>436fabdf-305a-4dc8-88ff-7d333d9ab620</td>\n      <td>6607.0</td>\n      <td>2f2a9e5f-1a7e-4916-a240-8f5e8e3c6efc</td>\n      <td>Demetra</td>\n      <td>ITA</td>\n      <td>Lazio</td>\n      <td>Tuscania</td>\n      <td>4aebc204-6b18-4406-bcbb-54b99d60d46f</td>\n      <td>GeneraLife IVF</td>\n      <td>ESP</td>\n      <td>Madrid</td>\n      <td>Madrid</td>\n      <td>1/10/2020</td>\n      <td>NaN</td>\n    </tr>\n    <tr>\n      <th>109822</th>\n      <td>99f54962-ec76-4456-8f19-d0f6833e01d2</td>\n      <td>36988.0</td>\n      <td>26863a5f-509e-45f6-ac1f-bb4abe63f3b4</td>\n      <td>Data Driver</td>\n      <td>CHN</td>\n      <td>Shanghai</td>\n      <td>Shanghai</td>\n      <td>67e319ff-d9e6-49fb-b5b6-cf44af694d08</td>\n      <td>SGSG Science &amp; Technology Company</td>\n      <td>CHN</td>\n      <td>Guangdong</td>\n      <td>Zhuhai</td>\n      <td>12/7/2020</td>\n      <td>7140919.0</td>\n    </tr>\n    <tr>\n      <th>109823</th>\n      <td>bac58cf7-c6a5-4fa2-96e5-6341b9237cb1</td>\n      <td>1573.0</td>\n      <td>ba060c5f-6947-4a36-ba63-a0a10ed74df8</td>\n      <td>Great and Relentless Few Show</td>\n      <td>NaN</td>\n      <td>NaN</td>\n      <td>NaN</td>\n      <td>f8c3d362-1d7c-4ed8-9a6b-f0fc62edc5d9</td>\n      <td>Institute of Higher Global Studies | Since 200...</td>\n      <td>USA</td>\n      <td>Alabama</td>\n      <td>Huntsville</td>\n      <td>25/12/2020</td>\n      <td>100000.0</td>\n    </tr>\n    <tr>\n      <th>109824</th>\n      <td>8d6b103d-89f9-44e2-8f96-d81c237caa44</td>\n      <td>NaN</td>\n      <td>74cfd4e9-e176-4092-90a0-5fad4663a241</td>\n      <td>Tepia Technology</td>\n      <td>CHN</td>\n      <td>Beijing</td>\n      <td>Haidian</td>\n      <td>d17f0d6e-ccad-498f-9b80-ed751932c463</td>\n      <td>Zhejiang Yongan Rongtong Holdings</td>\n      <td>CHN</td>\n      <td>Zhejiang</td>\n      <td>Shaoxing</td>\n      <td>19/3/2019</td>\n      <td>13409020.0</td>\n    </tr>\n  </tbody>\n</table>\n<p>109825 rows × 14 columns</p>\n</div>"
     },
     "metadata": {},
     "execution_count": 2
    }
   ],
   "source": [
    "import pandas as pd\n",
    "df = pd.read_csv(\"../bulk_export_processed/acquisitions_processed.csv\")\n",
    "df"
   ]
  },
  {
   "cell_type": "code",
   "execution_count": 7,
   "metadata": {},
   "outputs": [
    {
     "output_type": "execute_result",
     "data": {
      "text/plain": [
       "Gallagher                             372\n",
       "HUB International                     306\n",
       "Google                                244\n",
       "Microsoft                             235\n",
       "Cisco                                 231\n",
       "                                     ... \n",
       "UNUM Therapeutics                       1\n",
       "Fox and Hound Restaurant                1\n",
       "Carlisle Interconnect Technologies      1\n",
       "Global Omnium                           1\n",
       "Galls                                   1\n",
       "Name: acquirer_name, Length: 38188, dtype: int64"
      ]
     },
     "metadata": {},
     "execution_count": 7
    }
   ],
   "source": [
    "series = df['acquirer_name'].value_counts()\n",
    "series"
   ]
  },
  {
   "cell_type": "code",
   "execution_count": 13,
   "metadata": {},
   "outputs": [
    {
     "output_type": "execute_result",
     "data": {
      "text/plain": [
       "                                 x_labels  y_values\n",
       "0                               Gallagher       372\n",
       "1                       HUB International       306\n",
       "2                                  Google       244\n",
       "3                               Microsoft       235\n",
       "4                                   Cisco       231\n",
       "...                                   ...       ...\n",
       "38183                   UNUM Therapeutics         1\n",
       "38184            Fox and Hound Restaurant         1\n",
       "38185  Carlisle Interconnect Technologies         1\n",
       "38186                       Global Omnium         1\n",
       "38187                               Galls         1\n",
       "\n",
       "[38188 rows x 2 columns]"
      ],
      "text/html": "<div>\n<style scoped>\n    .dataframe tbody tr th:only-of-type {\n        vertical-align: middle;\n    }\n\n    .dataframe tbody tr th {\n        vertical-align: top;\n    }\n\n    .dataframe thead th {\n        text-align: right;\n    }\n</style>\n<table border=\"1\" class=\"dataframe\">\n  <thead>\n    <tr style=\"text-align: right;\">\n      <th></th>\n      <th>x_labels</th>\n      <th>y_values</th>\n    </tr>\n  </thead>\n  <tbody>\n    <tr>\n      <th>0</th>\n      <td>Gallagher</td>\n      <td>372</td>\n    </tr>\n    <tr>\n      <th>1</th>\n      <td>HUB International</td>\n      <td>306</td>\n    </tr>\n    <tr>\n      <th>2</th>\n      <td>Google</td>\n      <td>244</td>\n    </tr>\n    <tr>\n      <th>3</th>\n      <td>Microsoft</td>\n      <td>235</td>\n    </tr>\n    <tr>\n      <th>4</th>\n      <td>Cisco</td>\n      <td>231</td>\n    </tr>\n    <tr>\n      <th>...</th>\n      <td>...</td>\n      <td>...</td>\n    </tr>\n    <tr>\n      <th>38183</th>\n      <td>UNUM Therapeutics</td>\n      <td>1</td>\n    </tr>\n    <tr>\n      <th>38184</th>\n      <td>Fox and Hound Restaurant</td>\n      <td>1</td>\n    </tr>\n    <tr>\n      <th>38185</th>\n      <td>Carlisle Interconnect Technologies</td>\n      <td>1</td>\n    </tr>\n    <tr>\n      <th>38186</th>\n      <td>Global Omnium</td>\n      <td>1</td>\n    </tr>\n    <tr>\n      <th>38187</th>\n      <td>Galls</td>\n      <td>1</td>\n    </tr>\n  </tbody>\n</table>\n<p>38188 rows × 2 columns</p>\n</div>"
     },
     "metadata": {},
     "execution_count": 13
    }
   ],
   "source": [
    "df = series.to_frame()\n",
    "df.reset_index(inplace=True)\t\n",
    "df.rename(columns={'index': 'x_labels', 'acquirer_name': 'y_values'}, inplace=True)\n",
    "df"
   ]
  },
  {
   "cell_type": "code",
   "execution_count": 11,
   "metadata": {},
   "outputs": [
    {
     "output_type": "execute_result",
     "data": {
      "text/plain": [
       "               y_values  x_labels\n",
       "0             Gallagher       372\n",
       "1     HUB International       306\n",
       "2                Google       244\n",
       "3             Microsoft       235\n",
       "4                 Cisco       231\n",
       "5  CVC Capital Partners       217\n",
       "6     Riverside Company       209\n",
       "7       AssuredPartners       193\n",
       "8                   IBM       189\n",
       "9             Accenture       185"
      ],
      "text/html": "<div>\n<style scoped>\n    .dataframe tbody tr th:only-of-type {\n        vertical-align: middle;\n    }\n\n    .dataframe tbody tr th {\n        vertical-align: top;\n    }\n\n    .dataframe thead th {\n        text-align: right;\n    }\n</style>\n<table border=\"1\" class=\"dataframe\">\n  <thead>\n    <tr style=\"text-align: right;\">\n      <th></th>\n      <th>y_values</th>\n      <th>x_labels</th>\n    </tr>\n  </thead>\n  <tbody>\n    <tr>\n      <th>0</th>\n      <td>Gallagher</td>\n      <td>372</td>\n    </tr>\n    <tr>\n      <th>1</th>\n      <td>HUB International</td>\n      <td>306</td>\n    </tr>\n    <tr>\n      <th>2</th>\n      <td>Google</td>\n      <td>244</td>\n    </tr>\n    <tr>\n      <th>3</th>\n      <td>Microsoft</td>\n      <td>235</td>\n    </tr>\n    <tr>\n      <th>4</th>\n      <td>Cisco</td>\n      <td>231</td>\n    </tr>\n    <tr>\n      <th>5</th>\n      <td>CVC Capital Partners</td>\n      <td>217</td>\n    </tr>\n    <tr>\n      <th>6</th>\n      <td>Riverside Company</td>\n      <td>209</td>\n    </tr>\n    <tr>\n      <th>7</th>\n      <td>AssuredPartners</td>\n      <td>193</td>\n    </tr>\n    <tr>\n      <th>8</th>\n      <td>IBM</td>\n      <td>189</td>\n    </tr>\n    <tr>\n      <th>9</th>\n      <td>Accenture</td>\n      <td>185</td>\n    </tr>\n  </tbody>\n</table>\n</div>"
     },
     "metadata": {},
     "execution_count": 11
    }
   ],
   "source": [
    "df = df[:10]\n",
    "df"
   ]
  },
  {
   "cell_type": "code",
   "execution_count": 12,
   "metadata": {},
   "outputs": [
    {
     "output_type": "execute_result",
     "data": {
      "text/plain": [
       "'y_values,x_labels\\nGallagher,372\\nHUB International,306\\nGoogle,244\\nMicrosoft,235\\nCisco,231\\nCVC Capital Partners,217\\nRiverside Company,209\\nAssuredPartners,193\\nIBM,189\\nAccenture,185\\n'"
      ]
     },
     "metadata": {},
     "execution_count": 12
    }
   ],
   "source": [
    "df.to_csv(index=False)"
   ]
  },
  {
   "cell_type": "code",
   "execution_count": null,
   "metadata": {},
   "outputs": [],
   "source": []
  },
  {
   "source": [
    "## Founder Education level"
   ],
   "cell_type": "markdown",
   "metadata": {}
  },
  {
   "cell_type": "code",
   "execution_count": 32,
   "metadata": {},
   "outputs": [],
   "source": [
    "import pandas as pd\n",
    "df = pd.read_csv(\"../Week3_Onwards/unifed_csv_without_duplicated_company.csv\")"
   ]
  },
  {
   "cell_type": "code",
   "execution_count": 33,
   "metadata": {},
   "outputs": [
    {
     "output_type": "execute_result",
     "data": {
      "text/plain": [
       "   index  degree_type\n",
       "0    0.0        31760\n",
       "1    1.0         2701\n",
       "2    2.0         2535\n",
       "3    3.0          202"
      ],
      "text/html": "<div>\n<style scoped>\n    .dataframe tbody tr th:only-of-type {\n        vertical-align: middle;\n    }\n\n    .dataframe tbody tr th {\n        vertical-align: top;\n    }\n\n    .dataframe thead th {\n        text-align: right;\n    }\n</style>\n<table border=\"1\" class=\"dataframe\">\n  <thead>\n    <tr style=\"text-align: right;\">\n      <th></th>\n      <th>index</th>\n      <th>degree_type</th>\n    </tr>\n  </thead>\n  <tbody>\n    <tr>\n      <th>0</th>\n      <td>0.0</td>\n      <td>31760</td>\n    </tr>\n    <tr>\n      <th>1</th>\n      <td>1.0</td>\n      <td>2701</td>\n    </tr>\n    <tr>\n      <th>2</th>\n      <td>2.0</td>\n      <td>2535</td>\n    </tr>\n    <tr>\n      <th>3</th>\n      <td>3.0</td>\n      <td>202</td>\n    </tr>\n  </tbody>\n</table>\n</div>"
     },
     "metadata": {},
     "execution_count": 33
    }
   ],
   "source": [
    "df_edu = df['degree_type'].value_counts().to_frame()\n",
    "df_edu.reset_index(inplace=True)\n",
    "df_edu"
   ]
  },
  {
   "cell_type": "code",
   "execution_count": 34,
   "metadata": {},
   "outputs": [
    {
     "output_type": "execute_result",
     "data": {
      "text/plain": [
       "  x_labels  y_values\n",
       "1        1      2701\n",
       "2        2      2535\n",
       "3        3       202"
      ],
      "text/html": "<div>\n<style scoped>\n    .dataframe tbody tr th:only-of-type {\n        vertical-align: middle;\n    }\n\n    .dataframe tbody tr th {\n        vertical-align: top;\n    }\n\n    .dataframe thead th {\n        text-align: right;\n    }\n</style>\n<table border=\"1\" class=\"dataframe\">\n  <thead>\n    <tr style=\"text-align: right;\">\n      <th></th>\n      <th>x_labels</th>\n      <th>y_values</th>\n    </tr>\n  </thead>\n  <tbody>\n    <tr>\n      <th>1</th>\n      <td>1</td>\n      <td>2701</td>\n    </tr>\n    <tr>\n      <th>2</th>\n      <td>2</td>\n      <td>2535</td>\n    </tr>\n    <tr>\n      <th>3</th>\n      <td>3</td>\n      <td>202</td>\n    </tr>\n  </tbody>\n</table>\n</div>"
     },
     "metadata": {},
     "execution_count": 34
    }
   ],
   "source": [
    "df_edu['index'] = df_edu['index'].astype(int).astype(str)\n",
    "df_edu.rename(columns={'index': 'x_labels', 'degree_type': 'y_values'}, inplace=True)\n",
    "df_edu = df_edu[1:]\n",
    "df_edu"
   ]
  },
  {
   "cell_type": "code",
   "execution_count": 35,
   "metadata": {},
   "outputs": [
    {
     "output_type": "execute_result",
     "data": {
      "text/plain": [
       "   x_labels  y_values\n",
       "1  Bachelor      2701\n",
       "2    Master      2535\n",
       "3       PhD       202"
      ],
      "text/html": "<div>\n<style scoped>\n    .dataframe tbody tr th:only-of-type {\n        vertical-align: middle;\n    }\n\n    .dataframe tbody tr th {\n        vertical-align: top;\n    }\n\n    .dataframe thead th {\n        text-align: right;\n    }\n</style>\n<table border=\"1\" class=\"dataframe\">\n  <thead>\n    <tr style=\"text-align: right;\">\n      <th></th>\n      <th>x_labels</th>\n      <th>y_values</th>\n    </tr>\n  </thead>\n  <tbody>\n    <tr>\n      <th>1</th>\n      <td>Bachelor</td>\n      <td>2701</td>\n    </tr>\n    <tr>\n      <th>2</th>\n      <td>Master</td>\n      <td>2535</td>\n    </tr>\n    <tr>\n      <th>3</th>\n      <td>PhD</td>\n      <td>202</td>\n    </tr>\n  </tbody>\n</table>\n</div>"
     },
     "metadata": {},
     "execution_count": 35
    }
   ],
   "source": [
    "x_label_convert = {1: \"Bachelor\", 2: \"Master\", 3: \"PhD\"}\n",
    "\n",
    "for key, value in x_label_convert.items():\n",
    "    df_edu.at[key, 'x_labels'] = value\n",
    "\n",
    "df_edu"
   ]
  },
  {
   "source": [
    "## Bubble Plot"
   ],
   "cell_type": "markdown",
   "metadata": {}
  },
  {
   "cell_type": "code",
   "execution_count": 1,
   "metadata": {},
   "outputs": [
    {
     "output_type": "execute_result",
     "data": {
      "text/plain": [
       "                               company_uuid country_code         region  \\\n",
       "0      0001a6ec-e7e9-4d1b-8a77-adb5ac815420          JPN          Tokyo   \n",
       "1      0003f244-79d0-6178-353e-33dabaf3b2c6          USA     California   \n",
       "2      00057beb-5724-c809-5cd2-a0a7c6b017aa          ESP         Madrid   \n",
       "3      000ab460-8462-450d-ab34-b3c54fc252fd          LKA        Western   \n",
       "4      000ad7a8-b868-f301-5f00-2a3361288fc9          USA       New York   \n",
       "...                                     ...          ...            ...   \n",
       "37193  fff9249a-baea-49a9-baca-a57b28ee7e6f          USA     California   \n",
       "37194  fffa7546-aba8-5bbf-11a9-105d61b0dd0e          NLD  Noord-Brabant   \n",
       "37195  fffbd05f-57b7-4fdc-94a6-be656719db8c          CHN       Zhejiang   \n",
       "37196  fffe3b0b-8545-4414-9c0e-a3f961c4e420          CHN      Guangdong   \n",
       "37197  ffffabce-6d4a-b3d1-13c0-4e90cedf5270          USA       New York   \n",
       "\n",
       "                city  operating  closed  success  success_acquired  \\\n",
       "0              Tokyo          1       0        0                 0   \n",
       "1      San Francisco          1       0        0                 0   \n",
       "2             Madrid          1       0        0                 0   \n",
       "3            Colombo          1       0        0                 0   \n",
       "4           Brooklyn          1       0        0                 0   \n",
       "...              ...        ...     ...      ...               ...   \n",
       "37193    Los Angeles          1       0        0                 0   \n",
       "37194       Maaskant          1       0        0                 0   \n",
       "37195         Ningbo          1       0        0                 0   \n",
       "37196      Guangzhou          1       0        0                 0   \n",
       "37197       New York          1       0        0                 0   \n",
       "\n",
       "       success_ipo  num_funding_rounds  ...  has_acquisitions  has_ipo  \\\n",
       "0                0                 NaN  ...                 0        0   \n",
       "1                0                 NaN  ...                 0        0   \n",
       "2                0                 NaN  ...                 0        0   \n",
       "3                0                 NaN  ...                 0        0   \n",
       "4                0                 2.0  ...                 0        0   \n",
       "...            ...                 ...  ...               ...      ...   \n",
       "37193            0                 NaN  ...                 0        0   \n",
       "37194            0                 NaN  ...                 0        0   \n",
       "37195            0                 NaN  ...                 0        0   \n",
       "37196            0                 1.0  ...                 0        0   \n",
       "37197            0                 6.0  ...                 0        0   \n",
       "\n",
       "      time_in_year                                   investment_delta  \\\n",
       "0              NaN                                                NaN   \n",
       "1              NaN                                                NaN   \n",
       "2              NaN                                                NaN   \n",
       "3              NaN                                                NaN   \n",
       "4              NaN                                                NaN   \n",
       "...            ...                                                ...   \n",
       "37193          NaN                                                NaN   \n",
       "37194          NaN                                                NaN   \n",
       "37195          NaN                                                NaN   \n",
       "37196          NaN                                                NaN   \n",
       "37197       6.0795  ['grant to angel', 'angel to product_crowdfund...   \n",
       "\n",
       "                                       norm_amount_delta  \\\n",
       "0                                                    NaN   \n",
       "1                                                    NaN   \n",
       "2                                                    NaN   \n",
       "3                                                    NaN   \n",
       "4                                                    NaN   \n",
       "...                                                  ...   \n",
       "37193                                                NaN   \n",
       "37194                                                NaN   \n",
       "37195                                                NaN   \n",
       "37196                                                NaN   \n",
       "37197  [1.368421052631579, 0.024691358024691357, 0.87...   \n",
       "\n",
       "                                                momentum       ROI  \\\n",
       "0                                                    NaN       NaN   \n",
       "1                                                    NaN       NaN   \n",
       "2                                                    NaN       NaN   \n",
       "3                                                    NaN       NaN   \n",
       "4                                                    NaN       NaN   \n",
       "...                                                  ...       ...   \n",
       "37193                                                NaN       NaN   \n",
       "37194                                                NaN       NaN   \n",
       "37195                                                NaN       NaN   \n",
       "37196                                                NaN       NaN   \n",
       "37197  [4.161864515302853, 0.06577346303860244, 1.316...  4.161865   \n",
       "\n",
       "       max_norm_amount_delta  mean_norm_amount_delta  roi_from_mean_momentum  \n",
       "0                        NaN                     NaN                     NaN  \n",
       "1                        NaN                     NaN                     NaN  \n",
       "2                        NaN                     NaN                     NaN  \n",
       "3                        NaN                     NaN                     NaN  \n",
       "4                        NaN                     NaN                     NaN  \n",
       "...                      ...                     ...                     ...  \n",
       "37193                    NaN                     NaN                     NaN  \n",
       "37194                    NaN                     NaN                     NaN  \n",
       "37195                    NaN                     NaN                     NaN  \n",
       "37196                    NaN                     NaN                     NaN  \n",
       "37197               1.368421                0.836687                0.087506  \n",
       "\n",
       "[37198 rows x 132 columns]"
      ],
      "text/html": "<div>\n<style scoped>\n    .dataframe tbody tr th:only-of-type {\n        vertical-align: middle;\n    }\n\n    .dataframe tbody tr th {\n        vertical-align: top;\n    }\n\n    .dataframe thead th {\n        text-align: right;\n    }\n</style>\n<table border=\"1\" class=\"dataframe\">\n  <thead>\n    <tr style=\"text-align: right;\">\n      <th></th>\n      <th>company_uuid</th>\n      <th>country_code</th>\n      <th>region</th>\n      <th>city</th>\n      <th>operating</th>\n      <th>closed</th>\n      <th>success</th>\n      <th>success_acquired</th>\n      <th>success_ipo</th>\n      <th>num_funding_rounds</th>\n      <th>...</th>\n      <th>has_acquisitions</th>\n      <th>has_ipo</th>\n      <th>time_in_year</th>\n      <th>investment_delta</th>\n      <th>norm_amount_delta</th>\n      <th>momentum</th>\n      <th>ROI</th>\n      <th>max_norm_amount_delta</th>\n      <th>mean_norm_amount_delta</th>\n      <th>roi_from_mean_momentum</th>\n    </tr>\n  </thead>\n  <tbody>\n    <tr>\n      <th>0</th>\n      <td>0001a6ec-e7e9-4d1b-8a77-adb5ac815420</td>\n      <td>JPN</td>\n      <td>Tokyo</td>\n      <td>Tokyo</td>\n      <td>1</td>\n      <td>0</td>\n      <td>0</td>\n      <td>0</td>\n      <td>0</td>\n      <td>NaN</td>\n      <td>...</td>\n      <td>0</td>\n      <td>0</td>\n      <td>NaN</td>\n      <td>NaN</td>\n      <td>NaN</td>\n      <td>NaN</td>\n      <td>NaN</td>\n      <td>NaN</td>\n      <td>NaN</td>\n      <td>NaN</td>\n    </tr>\n    <tr>\n      <th>1</th>\n      <td>0003f244-79d0-6178-353e-33dabaf3b2c6</td>\n      <td>USA</td>\n      <td>California</td>\n      <td>San Francisco</td>\n      <td>1</td>\n      <td>0</td>\n      <td>0</td>\n      <td>0</td>\n      <td>0</td>\n      <td>NaN</td>\n      <td>...</td>\n      <td>0</td>\n      <td>0</td>\n      <td>NaN</td>\n      <td>NaN</td>\n      <td>NaN</td>\n      <td>NaN</td>\n      <td>NaN</td>\n      <td>NaN</td>\n      <td>NaN</td>\n      <td>NaN</td>\n    </tr>\n    <tr>\n      <th>2</th>\n      <td>00057beb-5724-c809-5cd2-a0a7c6b017aa</td>\n      <td>ESP</td>\n      <td>Madrid</td>\n      <td>Madrid</td>\n      <td>1</td>\n      <td>0</td>\n      <td>0</td>\n      <td>0</td>\n      <td>0</td>\n      <td>NaN</td>\n      <td>...</td>\n      <td>0</td>\n      <td>0</td>\n      <td>NaN</td>\n      <td>NaN</td>\n      <td>NaN</td>\n      <td>NaN</td>\n      <td>NaN</td>\n      <td>NaN</td>\n      <td>NaN</td>\n      <td>NaN</td>\n    </tr>\n    <tr>\n      <th>3</th>\n      <td>000ab460-8462-450d-ab34-b3c54fc252fd</td>\n      <td>LKA</td>\n      <td>Western</td>\n      <td>Colombo</td>\n      <td>1</td>\n      <td>0</td>\n      <td>0</td>\n      <td>0</td>\n      <td>0</td>\n      <td>NaN</td>\n      <td>...</td>\n      <td>0</td>\n      <td>0</td>\n      <td>NaN</td>\n      <td>NaN</td>\n      <td>NaN</td>\n      <td>NaN</td>\n      <td>NaN</td>\n      <td>NaN</td>\n      <td>NaN</td>\n      <td>NaN</td>\n    </tr>\n    <tr>\n      <th>4</th>\n      <td>000ad7a8-b868-f301-5f00-2a3361288fc9</td>\n      <td>USA</td>\n      <td>New York</td>\n      <td>Brooklyn</td>\n      <td>1</td>\n      <td>0</td>\n      <td>0</td>\n      <td>0</td>\n      <td>0</td>\n      <td>2.0</td>\n      <td>...</td>\n      <td>0</td>\n      <td>0</td>\n      <td>NaN</td>\n      <td>NaN</td>\n      <td>NaN</td>\n      <td>NaN</td>\n      <td>NaN</td>\n      <td>NaN</td>\n      <td>NaN</td>\n      <td>NaN</td>\n    </tr>\n    <tr>\n      <th>...</th>\n      <td>...</td>\n      <td>...</td>\n      <td>...</td>\n      <td>...</td>\n      <td>...</td>\n      <td>...</td>\n      <td>...</td>\n      <td>...</td>\n      <td>...</td>\n      <td>...</td>\n      <td>...</td>\n      <td>...</td>\n      <td>...</td>\n      <td>...</td>\n      <td>...</td>\n      <td>...</td>\n      <td>...</td>\n      <td>...</td>\n      <td>...</td>\n      <td>...</td>\n      <td>...</td>\n    </tr>\n    <tr>\n      <th>37193</th>\n      <td>fff9249a-baea-49a9-baca-a57b28ee7e6f</td>\n      <td>USA</td>\n      <td>California</td>\n      <td>Los Angeles</td>\n      <td>1</td>\n      <td>0</td>\n      <td>0</td>\n      <td>0</td>\n      <td>0</td>\n      <td>NaN</td>\n      <td>...</td>\n      <td>0</td>\n      <td>0</td>\n      <td>NaN</td>\n      <td>NaN</td>\n      <td>NaN</td>\n      <td>NaN</td>\n      <td>NaN</td>\n      <td>NaN</td>\n      <td>NaN</td>\n      <td>NaN</td>\n    </tr>\n    <tr>\n      <th>37194</th>\n      <td>fffa7546-aba8-5bbf-11a9-105d61b0dd0e</td>\n      <td>NLD</td>\n      <td>Noord-Brabant</td>\n      <td>Maaskant</td>\n      <td>1</td>\n      <td>0</td>\n      <td>0</td>\n      <td>0</td>\n      <td>0</td>\n      <td>NaN</td>\n      <td>...</td>\n      <td>0</td>\n      <td>0</td>\n      <td>NaN</td>\n      <td>NaN</td>\n      <td>NaN</td>\n      <td>NaN</td>\n      <td>NaN</td>\n      <td>NaN</td>\n      <td>NaN</td>\n      <td>NaN</td>\n    </tr>\n    <tr>\n      <th>37195</th>\n      <td>fffbd05f-57b7-4fdc-94a6-be656719db8c</td>\n      <td>CHN</td>\n      <td>Zhejiang</td>\n      <td>Ningbo</td>\n      <td>1</td>\n      <td>0</td>\n      <td>0</td>\n      <td>0</td>\n      <td>0</td>\n      <td>NaN</td>\n      <td>...</td>\n      <td>0</td>\n      <td>0</td>\n      <td>NaN</td>\n      <td>NaN</td>\n      <td>NaN</td>\n      <td>NaN</td>\n      <td>NaN</td>\n      <td>NaN</td>\n      <td>NaN</td>\n      <td>NaN</td>\n    </tr>\n    <tr>\n      <th>37196</th>\n      <td>fffe3b0b-8545-4414-9c0e-a3f961c4e420</td>\n      <td>CHN</td>\n      <td>Guangdong</td>\n      <td>Guangzhou</td>\n      <td>1</td>\n      <td>0</td>\n      <td>0</td>\n      <td>0</td>\n      <td>0</td>\n      <td>1.0</td>\n      <td>...</td>\n      <td>0</td>\n      <td>0</td>\n      <td>NaN</td>\n      <td>NaN</td>\n      <td>NaN</td>\n      <td>NaN</td>\n      <td>NaN</td>\n      <td>NaN</td>\n      <td>NaN</td>\n      <td>NaN</td>\n    </tr>\n    <tr>\n      <th>37197</th>\n      <td>ffffabce-6d4a-b3d1-13c0-4e90cedf5270</td>\n      <td>USA</td>\n      <td>New York</td>\n      <td>New York</td>\n      <td>1</td>\n      <td>0</td>\n      <td>0</td>\n      <td>0</td>\n      <td>0</td>\n      <td>6.0</td>\n      <td>...</td>\n      <td>0</td>\n      <td>0</td>\n      <td>6.0795</td>\n      <td>['grant to angel', 'angel to product_crowdfund...</td>\n      <td>[1.368421052631579, 0.024691358024691357, 0.87...</td>\n      <td>[4.161864515302853, 0.06577346303860244, 1.316...</td>\n      <td>4.161865</td>\n      <td>1.368421</td>\n      <td>0.836687</td>\n      <td>0.087506</td>\n    </tr>\n  </tbody>\n</table>\n<p>37198 rows × 132 columns</p>\n</div>"
     },
     "metadata": {},
     "execution_count": 1
    }
   ],
   "source": [
    "import pandas as pd\n",
    "df = pd.read_csv(\"../Week3_Onwards/unifed_csv_without_duplicated_company.csv\")\n",
    "df"
   ]
  },
  {
   "cell_type": "code",
   "execution_count": 2,
   "metadata": {},
   "outputs": [
    {
     "output_type": "execute_result",
     "data": {
      "text/plain": [
       "      employee_count  degree_type       ROI\n",
       "0            unknown          0.0       NaN\n",
       "1             51-100          2.0       NaN\n",
       "2               1-10          0.0       NaN\n",
       "3               1-10          0.0       NaN\n",
       "4              11-50          0.0       NaN\n",
       "...              ...          ...       ...\n",
       "37193          11-50          0.0       NaN\n",
       "37194          11-50          0.0       NaN\n",
       "37195        unknown          0.0       NaN\n",
       "37196        unknown          0.0       NaN\n",
       "37197           1-10          0.0  4.161865\n",
       "\n",
       "[37198 rows x 3 columns]"
      ],
      "text/html": "<div>\n<style scoped>\n    .dataframe tbody tr th:only-of-type {\n        vertical-align: middle;\n    }\n\n    .dataframe tbody tr th {\n        vertical-align: top;\n    }\n\n    .dataframe thead th {\n        text-align: right;\n    }\n</style>\n<table border=\"1\" class=\"dataframe\">\n  <thead>\n    <tr style=\"text-align: right;\">\n      <th></th>\n      <th>employee_count</th>\n      <th>degree_type</th>\n      <th>ROI</th>\n    </tr>\n  </thead>\n  <tbody>\n    <tr>\n      <th>0</th>\n      <td>unknown</td>\n      <td>0.0</td>\n      <td>NaN</td>\n    </tr>\n    <tr>\n      <th>1</th>\n      <td>51-100</td>\n      <td>2.0</td>\n      <td>NaN</td>\n    </tr>\n    <tr>\n      <th>2</th>\n      <td>1-10</td>\n      <td>0.0</td>\n      <td>NaN</td>\n    </tr>\n    <tr>\n      <th>3</th>\n      <td>1-10</td>\n      <td>0.0</td>\n      <td>NaN</td>\n    </tr>\n    <tr>\n      <th>4</th>\n      <td>11-50</td>\n      <td>0.0</td>\n      <td>NaN</td>\n    </tr>\n    <tr>\n      <th>...</th>\n      <td>...</td>\n      <td>...</td>\n      <td>...</td>\n    </tr>\n    <tr>\n      <th>37193</th>\n      <td>11-50</td>\n      <td>0.0</td>\n      <td>NaN</td>\n    </tr>\n    <tr>\n      <th>37194</th>\n      <td>11-50</td>\n      <td>0.0</td>\n      <td>NaN</td>\n    </tr>\n    <tr>\n      <th>37195</th>\n      <td>unknown</td>\n      <td>0.0</td>\n      <td>NaN</td>\n    </tr>\n    <tr>\n      <th>37196</th>\n      <td>unknown</td>\n      <td>0.0</td>\n      <td>NaN</td>\n    </tr>\n    <tr>\n      <th>37197</th>\n      <td>1-10</td>\n      <td>0.0</td>\n      <td>4.161865</td>\n    </tr>\n  </tbody>\n</table>\n<p>37198 rows × 3 columns</p>\n</div>"
     },
     "metadata": {},
     "execution_count": 2
    }
   ],
   "source": [
    "df = df[['employee_count', 'degree_type','ROI']]\n",
    "df"
   ]
  },
  {
   "cell_type": "code",
   "execution_count": 3,
   "metadata": {},
   "outputs": [
    {
     "output_type": "execute_result",
     "data": {
      "text/plain": [
       "      employee_count  degree_type       ROI\n",
       "10              1-10          0.0  3.155306\n",
       "20             11-50          0.0  0.303599\n",
       "38           101-250          2.0 -0.032928\n",
       "48             11-50          0.0  0.248205\n",
       "75             11-50          0.0  0.999467\n",
       "...              ...          ...       ...\n",
       "37121          11-50          2.0  0.551227\n",
       "37127        251-500          0.0 -3.477051\n",
       "37172        101-250          1.0 -0.223943\n",
       "37174          11-50          0.0  0.352082\n",
       "37197           1-10          0.0  4.161865\n",
       "\n",
       "[3644 rows x 3 columns]"
      ],
      "text/html": "<div>\n<style scoped>\n    .dataframe tbody tr th:only-of-type {\n        vertical-align: middle;\n    }\n\n    .dataframe tbody tr th {\n        vertical-align: top;\n    }\n\n    .dataframe thead th {\n        text-align: right;\n    }\n</style>\n<table border=\"1\" class=\"dataframe\">\n  <thead>\n    <tr style=\"text-align: right;\">\n      <th></th>\n      <th>employee_count</th>\n      <th>degree_type</th>\n      <th>ROI</th>\n    </tr>\n  </thead>\n  <tbody>\n    <tr>\n      <th>10</th>\n      <td>1-10</td>\n      <td>0.0</td>\n      <td>3.155306</td>\n    </tr>\n    <tr>\n      <th>20</th>\n      <td>11-50</td>\n      <td>0.0</td>\n      <td>0.303599</td>\n    </tr>\n    <tr>\n      <th>38</th>\n      <td>101-250</td>\n      <td>2.0</td>\n      <td>-0.032928</td>\n    </tr>\n    <tr>\n      <th>48</th>\n      <td>11-50</td>\n      <td>0.0</td>\n      <td>0.248205</td>\n    </tr>\n    <tr>\n      <th>75</th>\n      <td>11-50</td>\n      <td>0.0</td>\n      <td>0.999467</td>\n    </tr>\n    <tr>\n      <th>...</th>\n      <td>...</td>\n      <td>...</td>\n      <td>...</td>\n    </tr>\n    <tr>\n      <th>37121</th>\n      <td>11-50</td>\n      <td>2.0</td>\n      <td>0.551227</td>\n    </tr>\n    <tr>\n      <th>37127</th>\n      <td>251-500</td>\n      <td>0.0</td>\n      <td>-3.477051</td>\n    </tr>\n    <tr>\n      <th>37172</th>\n      <td>101-250</td>\n      <td>1.0</td>\n      <td>-0.223943</td>\n    </tr>\n    <tr>\n      <th>37174</th>\n      <td>11-50</td>\n      <td>0.0</td>\n      <td>0.352082</td>\n    </tr>\n    <tr>\n      <th>37197</th>\n      <td>1-10</td>\n      <td>0.0</td>\n      <td>4.161865</td>\n    </tr>\n  </tbody>\n</table>\n<p>3644 rows × 3 columns</p>\n</div>"
     },
     "metadata": {},
     "execution_count": 3
    }
   ],
   "source": [
    "df.dropna(inplace = True)\n",
    "df"
   ]
  },
  {
   "cell_type": "code",
   "execution_count": 4,
   "metadata": {},
   "outputs": [
    {
     "output_type": "execute_result",
     "data": {
      "text/plain": [
       "      employee_count  degree_type       ROI\n",
       "10              1-10          0.0  3.155306\n",
       "20             11-50          0.0  0.303599\n",
       "38           101-250          2.0 -0.032928\n",
       "48             11-50          0.0  0.248205\n",
       "75             11-50          0.0  0.999467\n",
       "...              ...          ...       ...\n",
       "37121          11-50          2.0  0.551227\n",
       "37127        251-500          0.0 -3.477051\n",
       "37172        101-250          1.0 -0.223943\n",
       "37174          11-50          0.0  0.352082\n",
       "37197           1-10          0.0  4.161865\n",
       "\n",
       "[3623 rows x 3 columns]"
      ],
      "text/html": "<div>\n<style scoped>\n    .dataframe tbody tr th:only-of-type {\n        vertical-align: middle;\n    }\n\n    .dataframe tbody tr th {\n        vertical-align: top;\n    }\n\n    .dataframe thead th {\n        text-align: right;\n    }\n</style>\n<table border=\"1\" class=\"dataframe\">\n  <thead>\n    <tr style=\"text-align: right;\">\n      <th></th>\n      <th>employee_count</th>\n      <th>degree_type</th>\n      <th>ROI</th>\n    </tr>\n  </thead>\n  <tbody>\n    <tr>\n      <th>10</th>\n      <td>1-10</td>\n      <td>0.0</td>\n      <td>3.155306</td>\n    </tr>\n    <tr>\n      <th>20</th>\n      <td>11-50</td>\n      <td>0.0</td>\n      <td>0.303599</td>\n    </tr>\n    <tr>\n      <th>38</th>\n      <td>101-250</td>\n      <td>2.0</td>\n      <td>-0.032928</td>\n    </tr>\n    <tr>\n      <th>48</th>\n      <td>11-50</td>\n      <td>0.0</td>\n      <td>0.248205</td>\n    </tr>\n    <tr>\n      <th>75</th>\n      <td>11-50</td>\n      <td>0.0</td>\n      <td>0.999467</td>\n    </tr>\n    <tr>\n      <th>...</th>\n      <td>...</td>\n      <td>...</td>\n      <td>...</td>\n    </tr>\n    <tr>\n      <th>37121</th>\n      <td>11-50</td>\n      <td>2.0</td>\n      <td>0.551227</td>\n    </tr>\n    <tr>\n      <th>37127</th>\n      <td>251-500</td>\n      <td>0.0</td>\n      <td>-3.477051</td>\n    </tr>\n    <tr>\n      <th>37172</th>\n      <td>101-250</td>\n      <td>1.0</td>\n      <td>-0.223943</td>\n    </tr>\n    <tr>\n      <th>37174</th>\n      <td>11-50</td>\n      <td>0.0</td>\n      <td>0.352082</td>\n    </tr>\n    <tr>\n      <th>37197</th>\n      <td>1-10</td>\n      <td>0.0</td>\n      <td>4.161865</td>\n    </tr>\n  </tbody>\n</table>\n<p>3623 rows × 3 columns</p>\n</div>"
     },
     "metadata": {},
     "execution_count": 4
    }
   ],
   "source": [
    "df.drop(df[df['employee_count'] == \"unknown\"].index, inplace = True)\n",
    "df"
   ]
  },
  {
   "cell_type": "code",
   "execution_count": 6,
   "metadata": {},
   "outputs": [
    {
     "output_type": "execute_result",
     "data": {
      "text/plain": [
       " 0.000000     88\n",
       " inf          49\n",
       "-2.355713      2\n",
       " 2.277460      2\n",
       " 0.514073      2\n",
       "              ..\n",
       " 0.470921      1\n",
       " 0.521981      1\n",
       " 79.021459     1\n",
       " 2.049919      1\n",
       " 6.952491      1\n",
       "Name: ROI, Length: 3481, dtype: int64"
      ]
     },
     "metadata": {},
     "execution_count": 6
    }
   ],
   "source": [
    "df[\"ROI\"].value_counts()"
   ]
  },
  {
   "cell_type": "code",
   "execution_count": 7,
   "metadata": {},
   "outputs": [
    {
     "output_type": "execute_result",
     "data": {
      "text/plain": [
       "      employee_count  degree_type       ROI\n",
       "10                 1          0.0  3.155306\n",
       "20                11          0.0  0.303599\n",
       "38               101          2.0 -0.032928\n",
       "48                11          0.0  0.248205\n",
       "75                11          0.0  0.999467\n",
       "...              ...          ...       ...\n",
       "37121             11          2.0  0.551227\n",
       "37127            251          0.0 -3.477051\n",
       "37172            101          1.0 -0.223943\n",
       "37174             11          0.0  0.352082\n",
       "37197              1          0.0  4.161865\n",
       "\n",
       "[3623 rows x 3 columns]"
      ],
      "text/html": "<div>\n<style scoped>\n    .dataframe tbody tr th:only-of-type {\n        vertical-align: middle;\n    }\n\n    .dataframe tbody tr th {\n        vertical-align: top;\n    }\n\n    .dataframe thead th {\n        text-align: right;\n    }\n</style>\n<table border=\"1\" class=\"dataframe\">\n  <thead>\n    <tr style=\"text-align: right;\">\n      <th></th>\n      <th>employee_count</th>\n      <th>degree_type</th>\n      <th>ROI</th>\n    </tr>\n  </thead>\n  <tbody>\n    <tr>\n      <th>10</th>\n      <td>1</td>\n      <td>0.0</td>\n      <td>3.155306</td>\n    </tr>\n    <tr>\n      <th>20</th>\n      <td>11</td>\n      <td>0.0</td>\n      <td>0.303599</td>\n    </tr>\n    <tr>\n      <th>38</th>\n      <td>101</td>\n      <td>2.0</td>\n      <td>-0.032928</td>\n    </tr>\n    <tr>\n      <th>48</th>\n      <td>11</td>\n      <td>0.0</td>\n      <td>0.248205</td>\n    </tr>\n    <tr>\n      <th>75</th>\n      <td>11</td>\n      <td>0.0</td>\n      <td>0.999467</td>\n    </tr>\n    <tr>\n      <th>...</th>\n      <td>...</td>\n      <td>...</td>\n      <td>...</td>\n    </tr>\n    <tr>\n      <th>37121</th>\n      <td>11</td>\n      <td>2.0</td>\n      <td>0.551227</td>\n    </tr>\n    <tr>\n      <th>37127</th>\n      <td>251</td>\n      <td>0.0</td>\n      <td>-3.477051</td>\n    </tr>\n    <tr>\n      <th>37172</th>\n      <td>101</td>\n      <td>1.0</td>\n      <td>-0.223943</td>\n    </tr>\n    <tr>\n      <th>37174</th>\n      <td>11</td>\n      <td>0.0</td>\n      <td>0.352082</td>\n    </tr>\n    <tr>\n      <th>37197</th>\n      <td>1</td>\n      <td>0.0</td>\n      <td>4.161865</td>\n    </tr>\n  </tbody>\n</table>\n<p>3623 rows × 3 columns</p>\n</div>"
     },
     "metadata": {},
     "execution_count": 7
    }
   ],
   "source": [
    "df['employee_count'] = df['employee_count'].str.split('-').str[0]\n",
    "df"
   ]
  },
  {
   "cell_type": "code",
   "execution_count": 13,
   "metadata": {},
   "outputs": [],
   "source": [
    "import numpy as np\n",
    "df.drop(df[df['ROI'] == np.inf].index, inplace = True)"
   ]
  },
  {
   "cell_type": "code",
   "execution_count": 14,
   "metadata": {},
   "outputs": [
    {
     "output_type": "execute_result",
     "data": {
      "text/plain": [
       " 0.000000     88\n",
       " 2.277460      2\n",
       " 2.622951      2\n",
       "-2.355713      2\n",
       " 1.601025      2\n",
       "              ..\n",
       " 0.470921      1\n",
       " 0.521981      1\n",
       " 79.021459     1\n",
       " 2.049919      1\n",
       " 6.952491      1\n",
       "Name: ROI, Length: 3480, dtype: int64"
      ]
     },
     "metadata": {},
     "execution_count": 14
    }
   ],
   "source": [
    "df[\"ROI\"].value_counts()"
   ]
  },
  {
   "cell_type": "code",
   "execution_count": null,
   "metadata": {},
   "outputs": [],
   "source": []
  },
  {
   "source": [
    "## Funding Location"
   ],
   "cell_type": "markdown",
   "metadata": {}
  },
  {
   "cell_type": "code",
   "execution_count": 8,
   "metadata": {},
   "outputs": [],
   "source": [
    "import pandas as pd\n",
    "import json\n",
    "df = pd.read_csv(\"../Week3_Onwards/unifed_csv_without_duplicated_company.csv\")"
   ]
  },
  {
   "cell_type": "code",
   "execution_count": 9,
   "metadata": {},
   "outputs": [
    {
     "output_type": "execute_result",
     "data": {
      "text/plain": [
       "     country_code\n",
       "USA         11721\n",
       "GBR          3172\n",
       "CHN          2903\n",
       "IND          1627\n",
       "CAN          1283\n",
       "..            ...\n",
       "IRQ             1\n",
       "NER             1\n",
       "AIA             1\n",
       "SOM             1\n",
       "LCA             1\n",
       "\n",
       "[162 rows x 1 columns]"
      ],
      "text/html": "<div>\n<style scoped>\n    .dataframe tbody tr th:only-of-type {\n        vertical-align: middle;\n    }\n\n    .dataframe tbody tr th {\n        vertical-align: top;\n    }\n\n    .dataframe thead th {\n        text-align: right;\n    }\n</style>\n<table border=\"1\" class=\"dataframe\">\n  <thead>\n    <tr style=\"text-align: right;\">\n      <th></th>\n      <th>country_code</th>\n    </tr>\n  </thead>\n  <tbody>\n    <tr>\n      <th>USA</th>\n      <td>11721</td>\n    </tr>\n    <tr>\n      <th>GBR</th>\n      <td>3172</td>\n    </tr>\n    <tr>\n      <th>CHN</th>\n      <td>2903</td>\n    </tr>\n    <tr>\n      <th>IND</th>\n      <td>1627</td>\n    </tr>\n    <tr>\n      <th>CAN</th>\n      <td>1283</td>\n    </tr>\n    <tr>\n      <th>...</th>\n      <td>...</td>\n    </tr>\n    <tr>\n      <th>IRQ</th>\n      <td>1</td>\n    </tr>\n    <tr>\n      <th>NER</th>\n      <td>1</td>\n    </tr>\n    <tr>\n      <th>AIA</th>\n      <td>1</td>\n    </tr>\n    <tr>\n      <th>SOM</th>\n      <td>1</td>\n    </tr>\n    <tr>\n      <th>LCA</th>\n      <td>1</td>\n    </tr>\n  </tbody>\n</table>\n<p>162 rows × 1 columns</p>\n</div>"
     },
     "metadata": {},
     "execution_count": 9
    }
   ],
   "source": [
    "df_countries = df['country_code'].value_counts().to_frame()\n",
    "df_countries"
   ]
  },
  {
   "cell_type": "code",
   "execution_count": 10,
   "metadata": {},
   "outputs": [
    {
     "output_type": "execute_result",
     "data": {
      "text/plain": [
       "    country_code  count\n",
       "0            USA  11721\n",
       "1            GBR   3172\n",
       "2            CHN   2903\n",
       "3            IND   1627\n",
       "4            CAN   1283\n",
       "..           ...    ...\n",
       "157          IRQ      1\n",
       "158          NER      1\n",
       "159          AIA      1\n",
       "160          SOM      1\n",
       "161          LCA      1\n",
       "\n",
       "[162 rows x 2 columns]"
      ],
      "text/html": "<div>\n<style scoped>\n    .dataframe tbody tr th:only-of-type {\n        vertical-align: middle;\n    }\n\n    .dataframe tbody tr th {\n        vertical-align: top;\n    }\n\n    .dataframe thead th {\n        text-align: right;\n    }\n</style>\n<table border=\"1\" class=\"dataframe\">\n  <thead>\n    <tr style=\"text-align: right;\">\n      <th></th>\n      <th>country_code</th>\n      <th>count</th>\n    </tr>\n  </thead>\n  <tbody>\n    <tr>\n      <th>0</th>\n      <td>USA</td>\n      <td>11721</td>\n    </tr>\n    <tr>\n      <th>1</th>\n      <td>GBR</td>\n      <td>3172</td>\n    </tr>\n    <tr>\n      <th>2</th>\n      <td>CHN</td>\n      <td>2903</td>\n    </tr>\n    <tr>\n      <th>3</th>\n      <td>IND</td>\n      <td>1627</td>\n    </tr>\n    <tr>\n      <th>4</th>\n      <td>CAN</td>\n      <td>1283</td>\n    </tr>\n    <tr>\n      <th>...</th>\n      <td>...</td>\n      <td>...</td>\n    </tr>\n    <tr>\n      <th>157</th>\n      <td>IRQ</td>\n      <td>1</td>\n    </tr>\n    <tr>\n      <th>158</th>\n      <td>NER</td>\n      <td>1</td>\n    </tr>\n    <tr>\n      <th>159</th>\n      <td>AIA</td>\n      <td>1</td>\n    </tr>\n    <tr>\n      <th>160</th>\n      <td>SOM</td>\n      <td>1</td>\n    </tr>\n    <tr>\n      <th>161</th>\n      <td>LCA</td>\n      <td>1</td>\n    </tr>\n  </tbody>\n</table>\n<p>162 rows × 2 columns</p>\n</div>"
     },
     "metadata": {},
     "execution_count": 10
    }
   ],
   "source": [
    "df_countries.reset_index(inplace=True)\n",
    "df_countries.rename(columns={'index': 'country_code', 'country_code': 'count'}, inplace=True)\n",
    "df_countries"
   ]
  },
  {
   "source": [
    "## Search Bar"
   ],
   "cell_type": "markdown",
   "metadata": {}
  },
  {
   "cell_type": "code",
   "execution_count": 8,
   "metadata": {},
   "outputs": [
    {
     "output_type": "execute_result",
     "data": {
      "text/plain": [
       "         index                              org_uuid  \\\n",
       "0            0  00000aa4-ba42-9b68-a9c3-040c9f3bf9b9   \n",
       "1            1  00002470-bff7-6226-5800-0ca1b3787b6f   \n",
       "2            4  0000d497-c93a-eea3-eeb0-a943dfb4f71e   \n",
       "3            5  0001a8cc-0cdc-4a30-b4d3-da1b425069e1   \n",
       "4            6  0001eae7-077d-4d0b-a717-f67bcf2a09fa   \n",
       "...        ...                                   ...   \n",
       "127676  230284  fffd10a8-24fc-4775-947a-25b31aa778ba   \n",
       "127677  230285  fffd1c13-6ad7-4d48-a937-7c9b6ccc75dc   \n",
       "127678  230287  fffe3b0b-8545-4414-9c0e-a3f961c4e420   \n",
       "127679  230288  ffff2bea-7e44-4563-b311-65daadb683cd   \n",
       "127680  230290  ffffabce-6d4a-b3d1-13c0-4e90cedf5270   \n",
       "\n",
       "                        org_name  \\\n",
       "0                  Formel D GmbH   \n",
       "1                     Codementor   \n",
       "2                      AutoOffer   \n",
       "3                    SnapClarity   \n",
       "4       Workspace Property Trust   \n",
       "...                          ...   \n",
       "127676                    Holo-X   \n",
       "127677                      Peng   \n",
       "127678                    Cheegu   \n",
       "127679                  MoneCity   \n",
       "127680                     ERNIT   \n",
       "\n",
       "                                        announced_on_list  \\\n",
       "0                                          ['2017-09-30']   \n",
       "1              ['2014-03-31', '2015-09-30', '2016-12-31']   \n",
       "2                                          ['2017-03-31']   \n",
       "3                                          ['2018-03-31']   \n",
       "4                                          ['2018-06-30']   \n",
       "...                                                   ...   \n",
       "127676                                     ['2020-06-30']   \n",
       "127677                       ['2014-03-31', '2014-12-31']   \n",
       "127678                                     ['2017-03-31']   \n",
       "127679                       ['2010-12-31', '2013-06-30']   \n",
       "127680  ['2015-03-31', '2015-06-30', '2015-09-30', '20...   \n",
       "\n",
       "                                     investment_type_list  \\\n",
       "0                                      ['series_unknown']   \n",
       "1                                ['seed', 'seed', 'seed']   \n",
       "2                                      ['series_unknown']   \n",
       "3                                      ['series_unknown']   \n",
       "4                                      ['debt_financing']   \n",
       "...                                                   ...   \n",
       "127676                                           ['seed']   \n",
       "127677                           ['series_a', 'series_b']   \n",
       "127678                                 ['series_unknown']   \n",
       "127679                              ['angel', 'series_a']   \n",
       "127680  ['grant', 'angel', 'product_crowdfunding', 'se...   \n",
       "\n",
       "                                 raised_amount_usd_list investor_count_list  \n",
       "0                                          [82607364.0]                 [1]  \n",
       "1                      [600000.0, 1200000.0, 1600000.0]           [5, 4, 1]  \n",
       "2                                            [431576.0]                 [0]  \n",
       "3                                           [1500000.0]                 [0]  \n",
       "4                                        [1275000000.0]                 [1]  \n",
       "...                                                 ...                 ...  \n",
       "127676                                       [110421.0]                 [3]  \n",
       "127677                          [4000000.0, 17000000.0]              [1, 4]  \n",
       "127678                                     [14523274.0]                 [1]  \n",
       "127679                            [451407.0, 1616916.0]              [1, 1]  \n",
       "127680  [15000.0, 80000.0, 82000.0, 210000.0, 700000.0]     [1, 0, 0, 3, 2]  \n",
       "\n",
       "[127681 rows x 7 columns]"
      ],
      "text/html": "<div>\n<style scoped>\n    .dataframe tbody tr th:only-of-type {\n        vertical-align: middle;\n    }\n\n    .dataframe tbody tr th {\n        vertical-align: top;\n    }\n\n    .dataframe thead th {\n        text-align: right;\n    }\n</style>\n<table border=\"1\" class=\"dataframe\">\n  <thead>\n    <tr style=\"text-align: right;\">\n      <th></th>\n      <th>index</th>\n      <th>org_uuid</th>\n      <th>org_name</th>\n      <th>announced_on_list</th>\n      <th>investment_type_list</th>\n      <th>raised_amount_usd_list</th>\n      <th>investor_count_list</th>\n    </tr>\n  </thead>\n  <tbody>\n    <tr>\n      <th>0</th>\n      <td>0</td>\n      <td>00000aa4-ba42-9b68-a9c3-040c9f3bf9b9</td>\n      <td>Formel D GmbH</td>\n      <td>['2017-09-30']</td>\n      <td>['series_unknown']</td>\n      <td>[82607364.0]</td>\n      <td>[1]</td>\n    </tr>\n    <tr>\n      <th>1</th>\n      <td>1</td>\n      <td>00002470-bff7-6226-5800-0ca1b3787b6f</td>\n      <td>Codementor</td>\n      <td>['2014-03-31', '2015-09-30', '2016-12-31']</td>\n      <td>['seed', 'seed', 'seed']</td>\n      <td>[600000.0, 1200000.0, 1600000.0]</td>\n      <td>[5, 4, 1]</td>\n    </tr>\n    <tr>\n      <th>2</th>\n      <td>4</td>\n      <td>0000d497-c93a-eea3-eeb0-a943dfb4f71e</td>\n      <td>AutoOffer</td>\n      <td>['2017-03-31']</td>\n      <td>['series_unknown']</td>\n      <td>[431576.0]</td>\n      <td>[0]</td>\n    </tr>\n    <tr>\n      <th>3</th>\n      <td>5</td>\n      <td>0001a8cc-0cdc-4a30-b4d3-da1b425069e1</td>\n      <td>SnapClarity</td>\n      <td>['2018-03-31']</td>\n      <td>['series_unknown']</td>\n      <td>[1500000.0]</td>\n      <td>[0]</td>\n    </tr>\n    <tr>\n      <th>4</th>\n      <td>6</td>\n      <td>0001eae7-077d-4d0b-a717-f67bcf2a09fa</td>\n      <td>Workspace Property Trust</td>\n      <td>['2018-06-30']</td>\n      <td>['debt_financing']</td>\n      <td>[1275000000.0]</td>\n      <td>[1]</td>\n    </tr>\n    <tr>\n      <th>...</th>\n      <td>...</td>\n      <td>...</td>\n      <td>...</td>\n      <td>...</td>\n      <td>...</td>\n      <td>...</td>\n      <td>...</td>\n    </tr>\n    <tr>\n      <th>127676</th>\n      <td>230284</td>\n      <td>fffd10a8-24fc-4775-947a-25b31aa778ba</td>\n      <td>Holo-X</td>\n      <td>['2020-06-30']</td>\n      <td>['seed']</td>\n      <td>[110421.0]</td>\n      <td>[3]</td>\n    </tr>\n    <tr>\n      <th>127677</th>\n      <td>230285</td>\n      <td>fffd1c13-6ad7-4d48-a937-7c9b6ccc75dc</td>\n      <td>Peng</td>\n      <td>['2014-03-31', '2014-12-31']</td>\n      <td>['series_a', 'series_b']</td>\n      <td>[4000000.0, 17000000.0]</td>\n      <td>[1, 4]</td>\n    </tr>\n    <tr>\n      <th>127678</th>\n      <td>230287</td>\n      <td>fffe3b0b-8545-4414-9c0e-a3f961c4e420</td>\n      <td>Cheegu</td>\n      <td>['2017-03-31']</td>\n      <td>['series_unknown']</td>\n      <td>[14523274.0]</td>\n      <td>[1]</td>\n    </tr>\n    <tr>\n      <th>127679</th>\n      <td>230288</td>\n      <td>ffff2bea-7e44-4563-b311-65daadb683cd</td>\n      <td>MoneCity</td>\n      <td>['2010-12-31', '2013-06-30']</td>\n      <td>['angel', 'series_a']</td>\n      <td>[451407.0, 1616916.0]</td>\n      <td>[1, 1]</td>\n    </tr>\n    <tr>\n      <th>127680</th>\n      <td>230290</td>\n      <td>ffffabce-6d4a-b3d1-13c0-4e90cedf5270</td>\n      <td>ERNIT</td>\n      <td>['2015-03-31', '2015-06-30', '2015-09-30', '20...</td>\n      <td>['grant', 'angel', 'product_crowdfunding', 'se...</td>\n      <td>[15000.0, 80000.0, 82000.0, 210000.0, 700000.0]</td>\n      <td>[1, 0, 0, 3, 2]</td>\n    </tr>\n  </tbody>\n</table>\n<p>127681 rows × 7 columns</p>\n</div>"
     },
     "metadata": {},
     "execution_count": 8
    }
   ],
   "source": [
    "import pandas as pd\n",
    "df = pd.read_csv(\"../Week3_Onwards/frontend_funding_per_round_list.csv\")\n",
    "df"
   ]
  },
  {
   "cell_type": "code",
   "execution_count": 9,
   "metadata": {},
   "outputs": [
    {
     "output_type": "execute_result",
     "data": {
      "text/plain": [
       "                        org_name  \\\n",
       "0                  Formel D GmbH   \n",
       "1                     Codementor   \n",
       "2                      AutoOffer   \n",
       "3                    SnapClarity   \n",
       "4       Workspace Property Trust   \n",
       "...                          ...   \n",
       "127676                    Holo-X   \n",
       "127677                      Peng   \n",
       "127678                    Cheegu   \n",
       "127679                  MoneCity   \n",
       "127680                     ERNIT   \n",
       "\n",
       "                                        announced_on_list  \\\n",
       "0                                          ['2017-09-30']   \n",
       "1              ['2014-03-31', '2015-09-30', '2016-12-31']   \n",
       "2                                          ['2017-03-31']   \n",
       "3                                          ['2018-03-31']   \n",
       "4                                          ['2018-06-30']   \n",
       "...                                                   ...   \n",
       "127676                                     ['2020-06-30']   \n",
       "127677                       ['2014-03-31', '2014-12-31']   \n",
       "127678                                     ['2017-03-31']   \n",
       "127679                       ['2010-12-31', '2013-06-30']   \n",
       "127680  ['2015-03-31', '2015-06-30', '2015-09-30', '20...   \n",
       "\n",
       "                                     investment_type_list  \\\n",
       "0                                      ['series_unknown']   \n",
       "1                                ['seed', 'seed', 'seed']   \n",
       "2                                      ['series_unknown']   \n",
       "3                                      ['series_unknown']   \n",
       "4                                      ['debt_financing']   \n",
       "...                                                   ...   \n",
       "127676                                           ['seed']   \n",
       "127677                           ['series_a', 'series_b']   \n",
       "127678                                 ['series_unknown']   \n",
       "127679                              ['angel', 'series_a']   \n",
       "127680  ['grant', 'angel', 'product_crowdfunding', 'se...   \n",
       "\n",
       "                                 raised_amount_usd_list investor_count_list  \n",
       "0                                          [82607364.0]                 [1]  \n",
       "1                      [600000.0, 1200000.0, 1600000.0]           [5, 4, 1]  \n",
       "2                                            [431576.0]                 [0]  \n",
       "3                                           [1500000.0]                 [0]  \n",
       "4                                        [1275000000.0]                 [1]  \n",
       "...                                                 ...                 ...  \n",
       "127676                                       [110421.0]                 [3]  \n",
       "127677                          [4000000.0, 17000000.0]              [1, 4]  \n",
       "127678                                     [14523274.0]                 [1]  \n",
       "127679                            [451407.0, 1616916.0]              [1, 1]  \n",
       "127680  [15000.0, 80000.0, 82000.0, 210000.0, 700000.0]     [1, 0, 0, 3, 2]  \n",
       "\n",
       "[127681 rows x 5 columns]"
      ],
      "text/html": "<div>\n<style scoped>\n    .dataframe tbody tr th:only-of-type {\n        vertical-align: middle;\n    }\n\n    .dataframe tbody tr th {\n        vertical-align: top;\n    }\n\n    .dataframe thead th {\n        text-align: right;\n    }\n</style>\n<table border=\"1\" class=\"dataframe\">\n  <thead>\n    <tr style=\"text-align: right;\">\n      <th></th>\n      <th>org_name</th>\n      <th>announced_on_list</th>\n      <th>investment_type_list</th>\n      <th>raised_amount_usd_list</th>\n      <th>investor_count_list</th>\n    </tr>\n  </thead>\n  <tbody>\n    <tr>\n      <th>0</th>\n      <td>Formel D GmbH</td>\n      <td>['2017-09-30']</td>\n      <td>['series_unknown']</td>\n      <td>[82607364.0]</td>\n      <td>[1]</td>\n    </tr>\n    <tr>\n      <th>1</th>\n      <td>Codementor</td>\n      <td>['2014-03-31', '2015-09-30', '2016-12-31']</td>\n      <td>['seed', 'seed', 'seed']</td>\n      <td>[600000.0, 1200000.0, 1600000.0]</td>\n      <td>[5, 4, 1]</td>\n    </tr>\n    <tr>\n      <th>2</th>\n      <td>AutoOffer</td>\n      <td>['2017-03-31']</td>\n      <td>['series_unknown']</td>\n      <td>[431576.0]</td>\n      <td>[0]</td>\n    </tr>\n    <tr>\n      <th>3</th>\n      <td>SnapClarity</td>\n      <td>['2018-03-31']</td>\n      <td>['series_unknown']</td>\n      <td>[1500000.0]</td>\n      <td>[0]</td>\n    </tr>\n    <tr>\n      <th>4</th>\n      <td>Workspace Property Trust</td>\n      <td>['2018-06-30']</td>\n      <td>['debt_financing']</td>\n      <td>[1275000000.0]</td>\n      <td>[1]</td>\n    </tr>\n    <tr>\n      <th>...</th>\n      <td>...</td>\n      <td>...</td>\n      <td>...</td>\n      <td>...</td>\n      <td>...</td>\n    </tr>\n    <tr>\n      <th>127676</th>\n      <td>Holo-X</td>\n      <td>['2020-06-30']</td>\n      <td>['seed']</td>\n      <td>[110421.0]</td>\n      <td>[3]</td>\n    </tr>\n    <tr>\n      <th>127677</th>\n      <td>Peng</td>\n      <td>['2014-03-31', '2014-12-31']</td>\n      <td>['series_a', 'series_b']</td>\n      <td>[4000000.0, 17000000.0]</td>\n      <td>[1, 4]</td>\n    </tr>\n    <tr>\n      <th>127678</th>\n      <td>Cheegu</td>\n      <td>['2017-03-31']</td>\n      <td>['series_unknown']</td>\n      <td>[14523274.0]</td>\n      <td>[1]</td>\n    </tr>\n    <tr>\n      <th>127679</th>\n      <td>MoneCity</td>\n      <td>['2010-12-31', '2013-06-30']</td>\n      <td>['angel', 'series_a']</td>\n      <td>[451407.0, 1616916.0]</td>\n      <td>[1, 1]</td>\n    </tr>\n    <tr>\n      <th>127680</th>\n      <td>ERNIT</td>\n      <td>['2015-03-31', '2015-06-30', '2015-09-30', '20...</td>\n      <td>['grant', 'angel', 'product_crowdfunding', 'se...</td>\n      <td>[15000.0, 80000.0, 82000.0, 210000.0, 700000.0]</td>\n      <td>[1, 0, 0, 3, 2]</td>\n    </tr>\n  </tbody>\n</table>\n<p>127681 rows × 5 columns</p>\n</div>"
     },
     "metadata": {},
     "execution_count": 9
    }
   ],
   "source": [
    "df.drop(columns=\"index\", inplace = True)\n",
    "df.drop(columns=\"org_uuid\", inplace = True)\n",
    "df"
   ]
  },
  {
   "cell_type": "code",
   "execution_count": 10,
   "metadata": {},
   "outputs": [
    {
     "output_type": "execute_result",
     "data": {
      "text/plain": [
       "y\\'],[1500000.0],[0]\\nYuedunovel.com,\"[\\'2017-03-31\\', \\'2017-03-31\\', \\'2017-12-31\\']\",\"[\\'angel\\', \\'series_a\\', \\'series_b\\']\",\"[431984.0, 1455297.0, 3037575.0]\",\"[1, 1, 1]\"\\nVicino,[\\'2013-03-31\\'],[\\'seed\\'],[600000.0],[1]\\nElectronic Parking,[\\'2014-12-31\\'],[\\'seed\\'],[345892.0],[1]\\nCrave Retail,[\\'2019-12-31\\'],[\\'pre_seed\\'],[695000.0],[3]\\nHim Teknoforge,[\\'2016-06-30\\'],[\\'series_unknown\\'],[4505755.0],[1]\\nBuffalo Niagara Waterkeeper,[\\'2018-12-31\\'],[\\'grant\\'],[3000000.0],[1]\\nKennady Diamonds,\"[\\'2013-12-31\\', \\'2015-09-30\\']\",\"[\\'post_ipo_equity\\', \\'post_ipo_equity\\']\",\"[361404.0, 61556.0]\",\"[0, 0]\"\\nTestWe,\"[\\'2015-03-31\\', \\'2017-09-30\\']\",\"[\\'pre_seed\\', \\'series_a\\']\",\"[65740.0, 1485197.0]\",\"[1, 3]\"\\nCoastal Enterprises,[\\'2017-06-30\\'],[\\'debt_financing\\'],[6961500.0],[0]\\nScholars,\"[\\'2019-06-30\\', \\'2020-12-31\\']\",\"[\\'pre_seed\\', \\'pre_seed\\']\",\"[330000.0, 670000.0]\",\"[0, 1]\"\\nTriOcula Technologies,[\\'2017-12-31\\'],[\\'pre_seed\\'],[50000.0],[1]\\nSendSpend,[\\'2019-12-31\\'],[\\'seed\\'],[120000.0],[1]\\nBean and Goose,[\\'2019-06-30\\'],[\\'seed\\'],[225170.0],[0]\\nWeVue,[\\'2014-03-31\\'],[\\'angel\\'],[685000.0],[0]\\nMerit Medical Systems,[\\'2018-09-30\\'],[\\'post_ipo_equity\\'],[217000000.0],[0]\\nFareness,\"[\\'2015-09-30\\', \\'2016-12-31\\', \\'2017-06-30\\']\",\"[\\'seed\\', \\'seed\\', \\'seed\\']\",\"[250000.0, 750000.0, 500000.0]\",\"[0, 0, 0]\"\\nCardStar,\"[\\'2010-03-31\\', \\'2010-12-31\\', \\'2011-09-30\\']\",\"[\\'series_a\\', \\'series_a\\', \\'debt_financing\\']\",\"[1000000.0, 750000.0, 280882.0]\",\"[3, 3, 0]\"\\nMobile Storytelling,\"[\\'2016-12-31\\', \\'2016-12-31\\']\",\"[\\'seed\\', \\'series_unknown\\']\",\"[476745.0, 542757.0]\",\"[1, 0]\"\\nBelly Ballot,[\\'2011-12-31\\'],[\\'seed\\'],[75000.0],[0]\\nKvotter,[\\'2016-09-30\\'],[\\'seed\\'],[5000.0],[1]\\nISO Group,\"[\\'2011-03-31\\', \\'2012-09-30\\', \\'2013-03-31\\', \\'2013-09-30\\', \\'2017-12-31\\']\",\"[\\'series_unknown\\', \\'series_unknown\\', \\'debt_financing\\', \\'debt_financing\\', \\'series_unknown\\']\",\"[837877.0, 1200558.0, 1700000.0, 750000.0, 2299999.0]\",\"[0, 0, 0, 0, 0]\"\\nAirsupply,[\\'2017-06-30\\'],[\\'seed\\'],[321902.0],[2]\\nGENERAL MEDICAL MERATE,[\\'2012-09-30\\'],[\\'series_unknown\\'],[16118413.0],[1]\\nKiQ Robotics,[\\'2019-12-31\\'],[\\'seed\\'],[456834.0],[1]\\nCDE Asia,[\\'2019-09-30\\'],[\\'series_unknown\\'],[14500000.0],[1]\\nDAMAE Medical,\"[\\'2015-06-30\\', \\'2015-06-30\\', \\'2017-06-30\\']\",\"[\\'grant\\', \\'pre_seed\\', \\'seed\\']\",\"[53854.0, 67211.0, 2173056.0]\",\"[1, 1, 4]\"\\nSausalitos,[\\'2014-06-30\\'],[\\'debt_financing\\'],[37498994.0],[1]\\nErbi Biosystems,\"[\\'2018-09-30\\', \\'2020-12-31\\']\",\"[\\'seed\\', \\'seed\\']\",\"[475000.0, 3800000.0]\",\"[0, 1]\"\\nAtlantic Farms,[\\'2020-12-31\\'],[\\'angel\\'],[282732.0],[0]\\nIROA Technologies LLC,\"[\\'2013-06-30\\', \\'2013-06-30\\']\",\"[\\'seed\\', \\'series_a\\']\",\"[700000.0, 1000000.0]\",\"[1, 1]\"\\nCutnut,\"[\\'2017-09-30\\', \\'2018-06-30\\']\",\"[\\'angel\\', \\'angel\\']\",\"[58702.0, 75845.0]\",\"[1, 1]\"\\nKeepItSafe,[\\'2011-12-31\\'],[\\'series_a\\'],[8421244.0],[1]\\nMotosumo,[\\'2016-03-31\\'],[\\'seed\\'],[500000.0],[2]\\nLucerno Dynamics,\"[\\'2016-03-31\\', \\'2016-03-31\\', \\'2016-09-30\\', \\'2019-06-30\\', \\'2020-06-30\\']\",\"[\\'debt_financing\\', \\'seed\\', \\'series_a\\', \\'debt_financing\\', \\'debt_financing\\']\",\"[950000.0, 250000.0, 6000000.0, 1100000.0, 100000.0]\",\"[0, 1, 0, 0, 0]\"\\nPowerWise Holdings,\"[\\'2011-03-31\\', \\'2011-06-30\\', \\'2013-03-31\\']\",\"[\\'series_unknown\\', \\'series_unknown\\', \\'series_unknown\\']\",\"[2583000.0, 1181500.0, 536100.0]\",\"[0, 0, 0]\"\\nReoverse Telecom,[\\'2013-06-30\\'],[\\'seed\\'],[275000.0],[1]\\nFuelSave,\"[\\'2017-12-31\\', \\'2019-09-30\\']\",\"[\\'grant\\', \\'pre_seed\\']\",\"[1861817.0, 120000.0]\",\"[1, 2]\"\\nSukedachi,\"[\\'2017-09-30\\', \\'2018-06-30\\', \\'2019-06-30\\', \\'2019-09-30\\']\",\"[\\'seed\\', \\'series_a\\', \\'corporate_round\\', \\'series_b\\']\",\"[451852.0, 4956514.0, 1787331.0, 4636888.0]\",\"[2, 7, 2, 1]\"\\nReelsky Data Systems,[\\'2018-12-31\\'],[\\'series_a\\'],[5416414.0],[1]\\nOrthoevidence,\"[\\'2015-06-30\\', \\'2018-12-31\\']\",\"[\\'series_unknown\\', \\'series_unknown\\']\",\"[110000.0, 1000000.0]\",\"[0, 0]\"\\nRealDirect,\"[\\'2010-03-31\\', \\'2011-06-30\\']\",\"[\\'seed\\', \\'series_a\\']\",\"[650000.0, 2000000.0]\",\"[1, 4]\"\\nLEAD,\"[\\'2017-09-30\\', \\'2019-03-31\\', \\'2020-09-30\\']\",\"[\\'seed\\', \\'seed\\', \\'pre_seed\\']\",\"[300000.0, 300000.0, 50000.0]\",\"[2, 3, 1]\"\\nContinuous Precision Medicine,[\\'2016-09-30\\'],[\\'seed\\'],[769940.0],[0]\\nISAAC,[\\'2019-12-31\\'],[\\'seed\\'],[633869.0],[0]\\nDeepSea Technologies,[\\'2020-06-30\\'],[\\'series_a\\'],[3247439.0],[1]\\nBlackham Resources Limited,[\\'2014-12-31\\'],[\\'post_ipo_equity\\'],[3500000.0],[0]\\nDittach,\"[\\'2015-03-31\\', \\'2017-09-30\\']\",\"[\\'convertible_note\\', \\'convertible_note\\']\",\"[1400000.0, 150000.0]\",\"[0, 0]\"\\nFermTech Kft,[\\'2017-12-31\\'],[\\'pre_seed\\'],[35679.0],[1]\\nTwyxt,[\\'2012-09-30\\'],[\\'seed\\'],[25000.0],[1]\\niSENTIUM,\"[\\'2013-12-31\\', \\'2014-12-31\\', \\'2016-09-30\\']\",\"[\\'series_unknown\\', \\'series_unknown\\', \\'series_unknown\\']\",\"[1300000.0, 3830000.0, 1175000.0]\",\"[0, 2, 0]\"\\nVisual Labs,[\\'2018-03-31\\'],[\\'angel\\'],[669996.0],[1]\\nVeabor,\"[\\'2016-12-31\\', \\'2018-06-30\\']\",\"[\\'pre_seed\\', \\'pre_seed\\']\",\"[100000.0, 200000.0]\",\"[0, 0]\"\\nPathSpot,\"[\\'2018-06-30\\', \\'2019-09-30\\', \\'2020-06-30\\']\",\"[\\'seed\\', \\'seed\\', \\'series_a\\']\",\"[2005118.0, 2000000.0, 6500000.0]\",\"[6, 2, 3]\"\\nGravity Jack,[\\'2012-06-30\\'],[\\'debt_financing\\'],[500000.0],[0]\\nExpense Check,[\\'2016-03-31\\'],[\\'series_unknown\\'],[750984.0],[1]\\nMasterImage 3D,[\\'2011-03-31\\'],[\\'series_unknown\\'],[15000000.0],[1]\\nAutoCruitment,[\\'2016-03-31\\'],[\\'seed\\'],[150000.0],[0]\\nHelloDone,[\\'2019-03-31\\'],[\\'pre_seed\\'],[3039212.0],[2]\\nAventri,\"[\\'2012-09-30\\', \\'2013-12-31\\', \\'2016-06-30\\']\",\"[\\'series_b\\', \\'series_unknown\\', \\'series_c\\']\",\"[7750000.0, 5500000.0, 20000000.0]\",\"[3, 0, 4]\"\\nShanyuan,\"[\\'2011-03-31\\', \\'2011-09-30\\', \\'2014-09-30\\']\",\"[\\'series_unknown\\', \\'series_a\\', \\'series_unknown\\']\",\"[7606612.0, 1546625.0, 8133181.0]\",\"[5, 2, 1]\"\\nHALL Structured Finance (HSF),[\\'2018-03-31\\'],[\\'debt_financing\\'],[35500000.0],[0]\\nNeoclinical,\"[\\'2014-09-30\\', \\'2015-03-31\\']\",\"[\\'seed\\', \\'seed\\']\",\"[465212.0, 468896.0]\",\"[1, 1]\"\\nONtheGO Platforms,\"[\\'2013-09-30\\', \\'2014-03-31\\', \\'2014-12-31\\', \\'2015-12-31\\']\",\"[\\'seed\\', \\'seed\\', \\'seed\\', \\'series_unknown\\']\",\"[323000.0, 713213.0, 175000.0, 1879639.0]\",\"[1, 16, 0, 0]\"\\nKoa Organic Beverages,[\\'2013-12-31\\'],[\\'pre_seed\\'],[210000.0],[0]\\nPixx Pros,[\\'2017-09-30\\'],[\\'seed\\'],[100000.0],[0]\\nHOPE Japan,\"[\\'2015-09-30\\', \\'2015-12-31\\']\",\"[\\'series_unknown\\', \\'series_unknown\\']\",\"[1206974.0, 116773.0]\",\"[1, 1]\"\\nYI-Mobility,[\\'2015-03-31\\'],[\\'series_unknown\\'],[345000.0],[0]\\nDock411,[\\'2015-09-30\\'],[\\'seed\\'],[450000.0],[0]\\nCylan,[\\'2013-12-31\\'],[\\'series_a\\'],[4082502.0],[1]\\nBetter Booch,[\\'2019-06-30\\'],[\\'series_unknown\\'],[2500000.0],[1]\\nTasman Environmental Markets,[\\'2019-12-31\\'],[\\'series_a\\'],[6036999.0],[1]\\nWavebreak Media,\"[\\'2010-09-30\\', \\'2012-03-31\\', \\'2015-03-31\\']\",\"[\\'series_unknown\\', \\'series_unknown\\', \\'convertible_note\\']\",\"[470755.0, 523080.0, 1033140.0]\",\"[2, 2, 0]\"\\nTownsend Security,[\\'2020-06-30\\'],[\\'seed\\'],[30000.0],[0]\\nInsurello,\"[\\'2017-06-30\\', \\'2018-06-30\\', \\'2019-06-30\\', \\'2020-06-30\\']\",\"[\\'series_unknown\\', \\'series_unknown\\', \\'series_unknown\\', \\'series_unknown\\']\",\"[277342.0, 674691.0, 2700000.0, 8043417.0]\",\"[2, 3, 2, 3]\"\\nAgDevCo,[\\'2018-09-30\\'],[\\'grant\\'],[70774596.0],[1]\\nPackage Concierge,\"[\\'2015-03-31\\', \\'2016-09-30\\']\",\"[\\'series_unknown\\', \\'seed\\']\",\"[1300000.0, 500000.0]\",\"[0, 0]\"\\nHeadSprout,[\\'2010-03-31\\'],[\\'debt_financing\\'],[256751.0],[0]\\nLifebit,\"[\\'2017-09-30\\', \\'2018-09-30\\', \\'2020-06-30\\']\",\"[\\'seed\\', \\'seed\\', \\'series_a\\']\",\"[120000.0, 3000000.0, 7500000.0]\",\"[2, 4, 4]\"\\nJobbatical,\"[\\'2014-12-31\\', \\'2015-09-30\\', \\'2016-03-31\\', \\'2016-12-31\\', \\'2017-09-30\\']\",\"[\\'pre_seed\\', \\'seed\\', \\'seed\\', \\'seed\\', \\'series_a\\']\",\"[327890.0, 576416.0, 2000000.0, 1000000.0, 4000000.0]\",\"[7, 8, 3, 1, 4]\"\\nVisiwa,[\\'2014-06-30\\'],[\\'seed\\'],[163602.0],[0]\\nAllin Interactive,\"[\\'2013-09-30\\', \\'2014-03-31\\', \\'2014-06-30\\', \\'2014-12-31\\', \\'2015-03-31\\', \\'2015-09-30\\', \\'2015-12-31\\', \\'2016-03-31\\', \\'2017-03-31\\', \\'2017-09-30\\', \\'2018-06-30\\']\",\"[\\'seed\\', \\'series_unknown\\', \\'series_unknown\\', \\'series_unknown\\', \\'series_unknown\\', \\'series_unknown\\', \\'series_unknown\\', \\'series_unknown\\', \\'series_unknown\\', \\'series_unknown\\', \\'series_unknown\\']\",\"[2000000.0, 1000000.0, 3000000.0, 2000000.0, 2000000.0, 2000000.0, 5500000.0, 1200000.0, 1500000.0, 1000000.0, 1800000.0]\",\"[0, 0, 0, 0, 0, 0, 0, 0, 0, 0, 0]\"\\nOrgger,[\\'2011-06-30\\'],[\\'seed\\'],[150000.0],[0]\\nSolid Bond Solutions,[\\'2020-03-31\\'],[\\'debt_financing\\'],[290187.0],[1]\\nAlpine Data Labs,\"[\\'2011-06-30\\', \\'2013-12-31\\', \\'2017-06-30\\']\",\"[\\'series_a\\', \\'series_b\\', \\'convertible_note\\']\",\"[7500000.0, 16000000.0, 1500000.0]\",\"[4, 5, 4]\"\\nEasyParcel,[\\'2019-09-30\\'],[\\'series_b\\'],[10550000.0],[2]\\nBookingDirection,[\\'2014-06-30\\'],[\\'seed\\'],[1000000.0],[0]\\nMonetate,\"[\\'2010-12-31\\', \\'2011-09-30\\', \\'2013-03-31\\', \\'2013-12-31\\']\",\"[\\'series_a\\', \\'series_b\\', \\'private_equity\\', \\'series_c\\']\",\"[5100000.0, 15000000.0, 17347000.0, 8000000.0]\",\"[3, 2, 0, 6]\"\\nOmni Hospitals,[\\'2013-09-30\\'],[\\'series_a\\'],[9800000.0],[1]\\nUpwing Energy,[\\'2020-03-31\\'],[\\'series_unknown\\'],[10125000.0],[0]\\nPowerVision,\"[\\'2011-09-30\\', \\'2012-03-31\\', \\'2014-03-31\\', \\'2014-06-30\\', \\'2016-06-30\\']\",\"[\\'series_c\\', \\'series_c\\', \\'series_d\\', \\'series_d\\', \\'series_d\\']\",\"[24000000.0, 12500000.0, 20000000.0, 30000000.0, 10000000.0]\",\"[5, 1, 7, 3, 3]\"\\nDiablo Technologies,\"[\\'2012-12-31\\', \\'2013-03-31\\', \\'2014-03-31\\', \\'2016-03-31\\']\",\"[\\'undisclosed\\', \\'series_unknown\\', \\'series_unknown\\', \\'series_c\\']\",\"[28049676.0, 7309778.0, 11748895.0, 37000000.0]\",\"[5, 5, 4, 9]\"\\nCalAsian Chamber of Commerce,[\\'2015-12-31\\'],[\\'grant\\'],[50000.0],[0]\\nCaihong Lushi,\"[\\'2016-06-30\\', \\'2017-06-30\\']\",\"[\\'seed\\', \\'angel\\']\",\"[464220.0, 1158069.0]\",\"[2, 1]\"\\nDivorceForce,[\\'2015-03-31\\'],[\\'seed\\'],[2850000.0],[0]\\nUmlax,[\\'2014-12-31\\'],[\\'series_unknown\\'],[2754012.0],[1]\\nHealthDecision,\"[\\'2016-03-31\\', \\'2017-03-31\\']\",\"[\\'undisclosed\\', \\'undisclosed\\']\",\"[65000.0, 155499.0]\",\"[0, 0]\"\\nWunderlist,\"[\\'2010-09-30\\', \\'2010-12-31\\', \\'2011-12-31\\', \\'2013-12-31\\']\",\"[\\'angel\\', \\'seed\\', \\'series_a\\', \\'series_b\\']\",\"[128056.0, 655835.0, 4200000.0, 30000000.0]\",\"[0, 1, 1, 3]\"\\nZS Pharma,\"[\\'2010-12-31\\', \\'2012-12-31\\', \\'2014-03-31\\', \\'2014-09-30\\']\",\"[\\'series_unknown\\', \\'series_c\\', \\'series_d\\', \\'post_ipo_debt\\']\",\"[1987972.0, 46000000.0, 55000000.0, 20000000.0]\",\"[1, 6, 9, 0]\"\\nOurly,[\\'2018-03-31\\'],[\\'series_unknown\\'],[3420000.0],[1]\\nTrivato,\"[\\'2013-12-31\\', \\'2014-09-30\\', \\'2015-09-30\\', \\'2015-12-31\\']\",\"[\\'seed\\', \\'angel\\', \\'undisclosed\\', \\'series_unknown\\']\",\"[60000.0, 300000.0, 231784.0, 240000.0]\",\"[0, 1, 1, 1]\"\\nRecruiting Sports Network,[\\'2012-12-31\\'],[\\'seed\\'],[750000.0],[0]\\naXpire,[\\'2018-03-31\\'],[\\'undisclosed\\'],[20000000.0],[0]\\nTenderCuts,[\\'2017-09-30\\'],[\\'angel\\'],[759255.0],[0]\\nBringShare,\"[\\'2011-03-31\\', \\'2011-09-30\\', \\'2011-12-31\\', \\'2013-06-30\\']\",\"[\\'series_a\\', \\'series_unknown\\', \\'series_a\\', \\'series_unknown\\']\",\"[1000000.0, 611931.0, 1000000.0, 220000.0]\",\"[1, 0, 1, 0]\"\\nSisense,\"[\\'2010-09-30\\', \\'2013-06-30\\', \\'2014-06-30\\', \\'2016-03-31\\', \\'2018-09-30\\', \\'2020-03-31\\']\",\"[\\'series_a\\', \\'series_b\\', \\'series_c\\', \\'series_d\\', \\'series_e\\', \\'series_f\\']\",\"[4000000.0, 10000000.0, 30000000.0, 50000000.0, 80000000.0, 100000000.0]\",\"[3, 3, 6, 5, 6, 6]\"\\nVitaminLab,[\\'2018-09-30\\'],[\\'seed\\'],[700000.0],[1]\\nCutie Pie,[\\'2016-09-30\\'],[\\'seed\\'],[504852.0],[1]\\nsmartlure,[\\'2018-09-30\\'],[\\'corporate_round\\'],[351840.0],[2]\\nSignal Data,\"[\\'2010-09-30\\', \\'2011-12-31\\', \\'2012-06-30\\', \\'2012-09-30\\', \\'2013-09-30\\']\",\"[\\'seed\\', \\'angel\\', \\'debt_financing\\', \\'series_a\\', \\'series_a\\']\",\"[167000.0, 355000.0, 280000.0, 2000000.0, 2000000.0]\",\"[2, 0, 0, 3, 1]\"\\nNovatel Wireless,\"[\\'2014-09-30\\', \\'2015-06-30\\']\",\"[\\'post_ipo_equity\\', \\'post_ipo_equity\\']\",\"[14411764.0, 143700000.0]\",\"[0, 1]\"\\nCapital Pilot,[\\'2017-03-31\\'],[\\'equity_crowdfunding\\'],[99770.0],[0]\\nCourtScribes,\"[\\'2018-06-30\\', \\'2019-12-31\\']\",\"[\\'series_unknown\\', \\'series_unknown\\']\",\"[1176260.0, 501000.0]\",\"[0, 0]\"\\nALOKI,[\\'2017-09-30\\'],[\\'pre_seed\\'],[79564.0],[1]\\nNear.in,[\\'2015-03-31\\'],[\\'seed\\'],[290000.0],[4]\\nTalefun,[\\'2015-06-30\\'],[\\'angel\\'],[485575.0],[1]\\nPiers Park Sailing Center,[\\'2018-12-31\\'],[\\'grant\\'],[20000.0],[1]\\nMonooQ,\"[\\'2019-03-31\\', \\'2019-06-30\\']\",\"[\\'angel\\', \\'corporate_round\\']\",\"[222226.0, 45199.0]\",\"[2, 1]\"\\nCore Quantum Technologies,[\\'2014-12-31\\'],[\\'seed\\'],[150000.0],[0]\\nPeach Goods,[\\'2019-06-30\\'],[\\'pre_seed\\'],[500000.0],[0]\\nWEEL,\"[\\'2017-09-30\\', \\'2019-03-31\\', \\'2019-06-30\\', \\'2020-03-31\\']\",\"[\\'series_a\\', \\'series_b\\', \\'series_b\\', \\'series_unknown\\']\",\"[8500000.0, 6000000.0, 30000000.0, 18615041.0]\",\"[3, 3, 1, 1]\"\\nAlpaca,\"[\\'2015-12-31\\', \\'2017-03-31\\', \\'2018-12-31\\', \\'2019-12-31\\', \\'2020-12-31\\']\",\"[\\'seed\\', \\'series_unknown\\', \\'series_unknown\\', \\'series_a\\', \\'series_a\\']\",\"[1000000.0, 1800000.0, 3000000.0, 6000000.0, 10000000.0]\",\"[5, 9, 6, 11, 5]\"\\nInList,[\\'2014-12-31\\'],[\\'series_unknown\\'],[3000000.0],[3]\\nUmoja Biopharma,[\\'2020-12-31\\'],[\\'series_a\\'],[53000000.0],[2]\\n\"Hibersense, Inc.\",[\\'2019-12-31\\'],[\\'debt_financing\\'],[550000.0],[0]\\nIlluminOss Medical,\"[\\'2011-12-31\\', \\'2012-06-30\\', \\'2012-09-30\\', \\'2014-06-30\\', \\'2016-03-31\\']\",\"[\\'debt_financing\\', \\'debt_financing\\', \\'series_c\\', \\'series_unknown\\', \\'series_unknown\\']\",\"[4000000.0, 1400000.0, 28000000.0, 6450000.0, 5000000.0]\",\"[0, 0, 9, 0, 0]\"\\nPowerCore,[\\'2016-03-31\\'],[\\'seed\\'],[2000000.0],[4]\\nKTVme,\"[\\'2015-12-31\\', \\'2018-03-31\\']\",\"[\\'series_a\\', \\'series_b\\']\",\"[11872048.0, 19088219.0]\",\"[0, 4]\"\\nQspeed Semiconductor,[\\'2010-06-30\\'],[\\'series_unknown\\'],[1100000.0],[0]\\nSocialThreader,[\\'2012-12-31\\'],[\\'seed\\'],[45000.0],[3]\\nPlatstack,[\\'2019-03-31\\'],[\\'seed\\'],[1200000.0],[0]\\nPattern Bioscience,\"[\\'2018-06-30\\', \\'2020-03-31\\']\",\"[\\'series_unknown\\', \\'corporate_round\\']\",\"[3550000.0, 21900000.0]\",\"[0, 1]\"\\nTutorTap,[\\'2015-03-31\\'],[\\'seed\\'],[231362.0],[0]\\nInternet of Coins,[\\'2017-09-30\\'],[\\'equity_crowdfunding\\'],[1000000.0],[0]\\nCheckr,\"[\\'2014-12-31\\', \\'2016-03-31\\', \\'2018-06-30\\', \\'2019-09-30\\']\",\"[\\'series_a\\', \\'series_b\\', \\'series_c\\', \\'series_d\\']\",\"[9000000.0, 40000000.0, 100000000.0, 160000000.0]\",\"[17, 8, 3, 4]\"\\nGD Seventy Eight Music,[\\'2017-03-31\\'],[\\'seed\\'],[31657.0],[0]\\nYabbly,\"[\\'2012-06-30\\', \\'2012-12-31\\', \\'2013-06-30\\', \\'2014-09-30\\']\",\"[\\'seed\\', \\'seed\\', \\'seed\\', \\'debt_financing\\']\",\"[500000.0, 300000.0, 695000.0, 500000.0]\",\"[0, 0, 0, 0]\"\\nDottid,[\\'2020-03-31\\'],[\\'seed\\'],[3850000.0],[3]\\nDazzling Star,[\\'2017-09-30\\'],[\\'series_a\\'],[12000000.0],[2]\\nUDAMO,[\\'2018-09-30\\'],[\\'grant\\'],[130780.0],[2]\\nReflex Vans,[\\'2015-06-30\\'],[\\'series_unknown\\'],[11871221.0],[1]\\nArcadier,\"[\\'2013-12-31\\', \\'2016-03-31\\', \\'2017-12-31\\', \\'2018-09-30\\']\",\"[\\'seed\\', \\'seed\\', \\'series_a\\', \\'series_a\\']\",\"[1000000.0, 1000000.0, 3000000.0, 3000000.0]\",\"[0, 1, 0, 0]\"\\nWizata,\"[\\'2018-06-30\\', \\'2020-06-30\\']\",\"[\\'seed\\', \\'series_a\\']\",\"[1756409.0, 3020002.0]\",\"[2, 3]\"\\nYunxuetang,\"[\\'2013-03-31\\', \\'2014-12-31\\', \\'2017-06-30\\', \\'2017-12-31\\', \\'2018-12-31\\', \\'2020-03-31\\']\",\"[\\'seed\\', \\'series_a\\', \\'series_b\\', \\'series_b\\', \\'series_c\\', \\'series_d\\']\",\"[5831158.0, 11000000.0, 22000000.0, 10204527.0, 50000000.0, 100000000.0]\",\"[1, 1, 2, 1, 2, 3]\"\\nNovasentis,\"[\\'2013-06-30\\', \\'2014-06-30\\', \\'2018-03-31\\']\",\"[\\'series_unknown\\', \\'series_b\\', \\'series_unknown\\']\",\"[1951867.0, 10412177.0, 9010577.0]\",\"[2, 3, 0]\"\\nOne Medical,\"[\\'2011-09-30\\', \\'2013-03-31\\', \\'2014-06-30\\', \\'2015-12-31\\', \\'2018-09-30\\', \\'2018-09-30\\']\",\"[\\'series_e\\', \\'series_f\\', \\'private_equity\\', \\'private_equity\\', \\'private_equity\\', \\'secondary_market\\']\",\"[20000000.0, 30000000.0, 40000000.0, 65000000.0, 220000000.0, 130000000.0]\",\"[4, 5, 7, 2, 1, 1]\"\\nPhin & Phebes Ice Cream,\"[\\'2012-09-30\\', \\'2014-09-30\\']\",\"[\\'seed\\', \\'seed\\']\",\"[150000.0, 360000.0]\",\"[0, 0]\"\\nbabystep.tv,\"[\\'2015-03-31\\', \\'2016-09-30\\']\",\"[\\'angel\\', \\'angel\\']\",\"[3000000.0, 1000000.0]\",\"[0, 0]\"\\nProspect Dugout,\"[\\'2016-03-31\\', \\'2017-03-31\\']\",\"[\\'private_equity\\', \\'private_equity\\']\",\"[15000.0, 80000.0]\",\"[0, 0]\"\\nUtilityAPI,\"[\\'2014-09-30\\', \\'2014-12-31\\', \\'2015-12-31\\', \\'2015-12-31\\', \\'2016-03-31\\', \\'2016-12-31\\']\",\"[\\'pre_seed\\', \\'convertible_note\\', \\'grant\\', \\'seed\\', \\'convertible_note\\', \\'grant\\']\",\"[10000.0, 120000.0, 762000.0, 767000.0, 75000.0, 15000.0]\",\"[0, 0, 1, 2, 1, 1]\"\\nHydro Wind Energy,[\\'2020-03-31\\'],[\\'pre_seed\\'],[120000.0],[2]\\nNEC Corporation,[\\'2020-06-30\\'],[\\'post_ipo_equity\\'],[560000000.0],[1]\\nSPARC,[\\'2013-06-30\\'],[\\'seed\\'],[3500000.0],[1]\\nEttda.com,[\\'2018-12-31\\'],[\\'series_unknown\\'],[2912000.0],[1]\\nVoiceMap,\"[\\'2014-12-31\\', \\'2016-06-30\\']\",\"[\\'seed\\', \\'seed\\']\",\"[110000.0, 250000.0]\",\"[0, 0]\"\\nMovio,[\\'2012-12-31\\'],[\\'seed\\'],[950000.0],[2]\\nGROW,[\\'2017-12-31\\'],[\\'series_unknown\\'],[2400000.0],[2]\\nScopus Engineering,[\\'2013-03-31\\'],[\\'private_equity\\'],[19397224.0],[1]\\nOcutronics,[\\'2011-03-31\\'],[\\'series_unknown\\'],[125000.0],[0]\\neyeofcloud.com,[\\'2017-12-31\\'],[\\'angel\\'],[452070.0],[1]\\nVSware,[\\'2014-03-31\\'],[\\'seed\\'],[1031681.0],[0]\\nAlison,[\\'2019-03-31\\'],[\\'debt_financing\\'],[5730751.0],[0]\\nZero1,[\\'2018-09-30\\'],[\\'convertible_note\\'],[65625.0],[1]\\nCHEQROOM,[\\'2014-09-30\\'],[\\'seed\\'],[262661.0],[2]\\nBiorem Inc.,\"[\\'2013-12-31\\', \\'2018-03-31\\']\",\"[\\'post_ipo_debt\\', \\'grant\\']\",\"[3000000.0, 135000.0]\",\"[1, 1]\"\\nInstant BioScan,\"[\\'2013-09-30\\', \\'2014-06-30\\']\",\"[\\'debt_financing\\', \\'debt_financing\\']\",\"[1500000.0, 1500000.0]\",\"[0, 0]\"\\nDongdong,[\\'2014-03-31\\'],[\\'angel\\'],[493442.0],[1]\\nLegacy Healthcare,[\\'2017-12-31\\'],[\\'series_b\\'],[2041327.0],[0]\\nSana Biotechnology,[\\'2020-06-30\\'],[\\'series_a\\'],[700000000.0],[11]\\nPowermat Technologies,\"[\\'2011-03-31\\', \\'2011-12-31\\']\",\"[\\'series_b\\', \\'series_c\\']\",\"[5000000.0, 80000000.0]\",\"[3, 2]\"\\nProperly,[\\'2018-12-31\\'],[\\'series_a\\'],[8500000.0],[3]\\nPersistence One,[\\'2020-12-31\\'],[\\'initial_coin_offering\\'],[3700000.0],[4]\\nDigital Folio,[\\'2011-12-31\\'],[\\'angel\\'],[1200000.0],[0]\\nBid Ops,\"[\\'2018-03-31\\', \\'2019-03-31\\']\",\"[\\'convertible_note\\', \\'seed\\']\",\"[200000.0, 1750000.0]\",\"[2, 3]\"\\nPathoVax,\"[\\'2016-12-31\\', \\'2018-03-31\\', \\'2018-09-30\\']\",\"[\\'seed\\', \\'grant\\', \\'series_unknown\\']\",\"[500000.0, 2500000.0, 2750000.0]\",\"[1, 0, 0]\"\\nActive,\"[\\'2018-06-30\\', \\'2018-06-30\\']\",\"[\\'angel\\', \\'series_a\\']\",\"[469260.0, 463492.0]\",\"[0, 0]\"\\nRobodub,\"[\\'2018-03-31\\', \\'2018-03-31\\', \\'2019-12-31\\']\",\"[\\'debt_financing\\', \\'pre_seed\\', \\'grant\\']\",\"[100000.0, 20000.0, 500000.0]\",\"[1, 2, 1]\"\\nAmusing Quest,[\\'2013-03-31\\'],[\\'seed\\'],[250000.0],[0]\\nJoySports,\"[\\'2012-12-31\\', \\'2018-12-31\\']\",\"[\\'angel\\', \\'seed\\']\",\"[32472.0, 1446340.0]\",\"[0, 1]\"\\nGeoSentric,[\\'2010-03-31\\'],[\\'post_ipo_equity\\'],[11000000.0],[1]\\nIVèS,[\\'2017-12-31\\'],[\\'series_unknown\\'],[1292275.0],[1]\\nIRIS Polymers,[\\'2018-03-31\\'],[\\'series_unknown\\'],[498811.0],[1]\\nGizumo,[\\'2018-03-31\\'],[\\'corporate_round\\'],[1035952.0],[2]\\nOlio,[\\'2019-03-31\\'],[\\'seed\\'],[2500000.0],[1]\\nStackMob,[\\'2011-06-30\\'],[\\'series_a\\'],[7500000.0],[3]\\nPicnara,[\\'2018-12-31\\'],[\\'pre_seed\\'],[26500.0],[0]\\nHolo-X,[\\'2020-06-30\\'],[\\'seed\\'],[110421.0],[3]\\nPeng,\"[\\'2014-03-31\\', \\'2014-12-31\\']\",\"[\\'series_a\\', \\'series_b\\']\",\"[4000000.0, 17000000.0]\",\"[1, 4]\"\\nCheegu,[\\'2017-03-31\\'],[\\'series_unknown\\'],[14523274.0],[1]\\nMoneCity,\"[\\'2010-12-31\\', \\'2013-06-30\\']\",\"[\\'angel\\', \\'series_a\\']\",\"[451407.0, 1616916.0]\",\"[1, 1]\"\\nERNIT,\"[\\'2015-03-31\\', \\'2015-06-30\\', \\'2015-09-30\\', \\'2016-06-30\\', \\'2017-03-31\\']\",\"[\\'grant\\', \\'angel\\', \\'product_crowdfunding\\', \\'seed\\', \\'seed\\']\",\"[15000.0, 80000.0, 82000.0, 210000.0, 700000.0]\",\"[1, 0, 0, 3, 2]\"\\n'"
      ]
     },
     "metadata": {},
     "execution_count": 10
    }
   ],
   "source": [
    "df.to_csv(index = False)"
   ]
  },
  {
   "source": [
    "## Changable Graph"
   ],
   "cell_type": "markdown",
   "metadata": {}
  },
  {
   "cell_type": "code",
   "execution_count": 3,
   "metadata": {},
   "outputs": [
    {
     "output_type": "stream",
     "name": "stdout",
     "text": [
      "<class 'pandas.core.frame.DataFrame'>\nRangeIndex: 32924 entries, 0 to 32923\nData columns (total 56 columns):\n #   Column                                       Non-Null Count  Dtype         \n---  ------                                       --------------  -----         \n 0   company_name                                 32924 non-null  object        \n 1   rank                                         32921 non-null  float64       \n 2   country_code                                 29489 non-null  object        \n 3   city                                         29489 non-null  object        \n 4   status                                       32924 non-null  object        \n 5   num_funding_rounds                           11995 non-null  float64       \n 6   total_funding_usd                            9131 non-null   float64       \n 7   founded_on                                   32924 non-null  datetime64[ns]\n 8   employee_count                               32924 non-null  object        \n 9   cat_pca_0                                    32924 non-null  float64       \n 10  cat_pca_1                                    32924 non-null  float64       \n 11  cat_pca_2                                    32924 non-null  float64       \n 12  cat_pca_3                                    32924 non-null  float64       \n 13  cat_pca_4                                    32924 non-null  float64       \n 14  fd_rd_latest_investment                      4094 non-null   float64       \n 15  fd_rd_investment_type_series_unknown         4094 non-null   float64       \n 16  fd_rd_investment_type_grant                  4094 non-null   float64       \n 17  fd_rd_investment_type_debt_financing         4094 non-null   float64       \n 18  fd_rd_investment_type_pre_seed               4094 non-null   float64       \n 19  fd_rd_investment_type_post_ipo_equity        4094 non-null   float64       \n 20  fd_rd_investment_type_convertible_note       4094 non-null   float64       \n 21  fd_rd_investment_type_equity_crowdfunding    4094 non-null   float64       \n 22  fd_rd_investment_type_private_equity         4094 non-null   float64       \n 23  fd_rd_investment_type_undisclosed            4094 non-null   float64       \n 24  fd_rd_investment_type_post_ipo_debt          4094 non-null   float64       \n 25  fd_rd_investment_type_corporate_round        4094 non-null   float64       \n 26  fd_rd_investment_type_product_crowdfunding   4094 non-null   float64       \n 27  fd_rd_investment_type_non_equity_assistance  4094 non-null   float64       \n 28  fd_rd_investment_type_initial_coin_offering  4094 non-null   float64       \n 29  fd_rd_investment_type_secondary_market       4094 non-null   float64       \n 30  fd_rd_investment_type_post_ipo_secondary     4094 non-null   float64       \n 31  fd_rd_norm_amount_delta                      4094 non-null   object        \n 32  fd_rd_momentum                               4094 non-null   object        \n 33  fd_rd_mean_norm_amount_delta                 4094 non-null   float64       \n 34  fd_rd_mean_momentum                          4094 non-null   float64       \n 35  fd_rd_num_invested_by_top_100                2624 non-null   float64       \n 36  fd_rd_first_fund_raised                      3305 non-null   float64       \n 37  ipo_went_public_on                           352 non-null    object        \n 38  ipo_share_price_usd                          80 non-null     float64       \n 39  ipo_valuation_price_usd                      53 non-null     float64       \n 40  ipo_money_raised_usd                         88 non-null     float64       \n 41  funds_uuid                                   96 non-null     object        \n 42  funds_raised_amount_usd                      75 non-null     float64       \n 43  acq_acquired_on                              1298 non-null   object        \n 44  acq_price_usd                                154 non-null    float64       \n 45  parent_org_parent_uuid                       464 non-null    object        \n 46  event_count                                  3800 non-null   float64       \n 47  job_duration                                 17959 non-null  float64       \n 48  gender_male                                  17959 non-null  float64       \n 49  gender_female                                17959 non-null  float64       \n 50  degree_type                                  17959 non-null  float64       \n 51  subject_Business                             17959 non-null  float64       \n 52  subject_STEM                                 17959 non-null  float64       \n 53  subject_Arts_SoSc                            17959 non-null  float64       \n 54  num_exec                                     17959 non-null  float64       \n 55  company_uuid                                 32924 non-null  object        \ndtypes: datetime64[ns](1), float64(43), object(12)\nmemory usage: 14.1+ MB\n"
     ]
    }
   ],
   "source": [
    "import pandas as pd\n",
    "df = pd.read_csv(\"../Week3_Onwards/unifed_csv_20210124_2.csv\", parse_dates=['founded_on'])\n",
    "df.info()"
   ]
  },
  {
   "cell_type": "code",
   "execution_count": 4,
   "metadata": {},
   "outputs": [
    {
     "output_type": "execute_result",
     "data": {
      "text/plain": [
       "      employee_count founded_on  degree_type  fd_rd_first_fund_raised  \\\n",
       "0            unknown 2018-01-01     0.000000                      NaN   \n",
       "1               1-10 2011-01-01          NaN                      NaN   \n",
       "2               1-10 2018-01-01          NaN                      NaN   \n",
       "3              11-50 2011-11-11     0.070175                      NaN   \n",
       "4              11-50 2014-10-17          NaN                      NaN   \n",
       "...              ...        ...          ...                      ...   \n",
       "32919        unknown 2016-01-01     0.000000                      NaN   \n",
       "32920          11-50 2014-01-01     0.000000                      NaN   \n",
       "32921          11-50 2012-01-01          NaN                      NaN   \n",
       "32922        unknown 2013-02-18          NaN                      NaN   \n",
       "32923           1-10 2015-01-01     0.666667                 990000.0   \n",
       "\n",
       "       fd_rd_mean_momentum  fd_rd_num_invested_by_top_100  \n",
       "0                      NaN                            NaN  \n",
       "1                      NaN                            NaN  \n",
       "2                      NaN                            NaN  \n",
       "3                      NaN                            NaN  \n",
       "4                      NaN                            NaN  \n",
       "...                    ...                            ...  \n",
       "32919                  NaN                            NaN  \n",
       "32920                  NaN                            NaN  \n",
       "32921                  NaN                            NaN  \n",
       "32922                  NaN                            NaN  \n",
       "32923             2.047393                            0.0  \n",
       "\n",
       "[32924 rows x 6 columns]"
      ],
      "text/html": "<div>\n<style scoped>\n    .dataframe tbody tr th:only-of-type {\n        vertical-align: middle;\n    }\n\n    .dataframe tbody tr th {\n        vertical-align: top;\n    }\n\n    .dataframe thead th {\n        text-align: right;\n    }\n</style>\n<table border=\"1\" class=\"dataframe\">\n  <thead>\n    <tr style=\"text-align: right;\">\n      <th></th>\n      <th>employee_count</th>\n      <th>founded_on</th>\n      <th>degree_type</th>\n      <th>fd_rd_first_fund_raised</th>\n      <th>fd_rd_mean_momentum</th>\n      <th>fd_rd_num_invested_by_top_100</th>\n    </tr>\n  </thead>\n  <tbody>\n    <tr>\n      <th>0</th>\n      <td>unknown</td>\n      <td>2018-01-01</td>\n      <td>0.000000</td>\n      <td>NaN</td>\n      <td>NaN</td>\n      <td>NaN</td>\n    </tr>\n    <tr>\n      <th>1</th>\n      <td>1-10</td>\n      <td>2011-01-01</td>\n      <td>NaN</td>\n      <td>NaN</td>\n      <td>NaN</td>\n      <td>NaN</td>\n    </tr>\n    <tr>\n      <th>2</th>\n      <td>1-10</td>\n      <td>2018-01-01</td>\n      <td>NaN</td>\n      <td>NaN</td>\n      <td>NaN</td>\n      <td>NaN</td>\n    </tr>\n    <tr>\n      <th>3</th>\n      <td>11-50</td>\n      <td>2011-11-11</td>\n      <td>0.070175</td>\n      <td>NaN</td>\n      <td>NaN</td>\n      <td>NaN</td>\n    </tr>\n    <tr>\n      <th>4</th>\n      <td>11-50</td>\n      <td>2014-10-17</td>\n      <td>NaN</td>\n      <td>NaN</td>\n      <td>NaN</td>\n      <td>NaN</td>\n    </tr>\n    <tr>\n      <th>...</th>\n      <td>...</td>\n      <td>...</td>\n      <td>...</td>\n      <td>...</td>\n      <td>...</td>\n      <td>...</td>\n    </tr>\n    <tr>\n      <th>32919</th>\n      <td>unknown</td>\n      <td>2016-01-01</td>\n      <td>0.000000</td>\n      <td>NaN</td>\n      <td>NaN</td>\n      <td>NaN</td>\n    </tr>\n    <tr>\n      <th>32920</th>\n      <td>11-50</td>\n      <td>2014-01-01</td>\n      <td>0.000000</td>\n      <td>NaN</td>\n      <td>NaN</td>\n      <td>NaN</td>\n    </tr>\n    <tr>\n      <th>32921</th>\n      <td>11-50</td>\n      <td>2012-01-01</td>\n      <td>NaN</td>\n      <td>NaN</td>\n      <td>NaN</td>\n      <td>NaN</td>\n    </tr>\n    <tr>\n      <th>32922</th>\n      <td>unknown</td>\n      <td>2013-02-18</td>\n      <td>NaN</td>\n      <td>NaN</td>\n      <td>NaN</td>\n      <td>NaN</td>\n    </tr>\n    <tr>\n      <th>32923</th>\n      <td>1-10</td>\n      <td>2015-01-01</td>\n      <td>0.666667</td>\n      <td>990000.0</td>\n      <td>2.047393</td>\n      <td>0.0</td>\n    </tr>\n  </tbody>\n</table>\n<p>32924 rows × 6 columns</p>\n</div>"
     },
     "metadata": {},
     "execution_count": 4
    }
   ],
   "source": [
    "cols_to_keep = ['employee_count','founded_on',  'degree_type', \"fd_rd_first_fund_raised\", \"fd_rd_mean_momentum\", \"fd_rd_num_invested_by_top_100\"]\n",
    "df = df[cols_to_keep]\n",
    "df"
   ]
  },
  {
   "cell_type": "code",
   "execution_count": 5,
   "metadata": {},
   "outputs": [
    {
     "output_type": "execute_result",
     "data": {
      "text/plain": [
       "      employee_count founded_on  degree_type  fd_rd_first_fund_raised  \\\n",
       "16             11-50 2012-05-01     0.333333                1832166.0   \n",
       "33           101-250 2015-01-01     0.727273                      0.0   \n",
       "43             11-50 2016-05-16     0.526316                1180350.0   \n",
       "47           101-250 2010-09-01     1.000000                2100000.0   \n",
       "72             11-50 2011-04-01     1.142857                2000000.0   \n",
       "...              ...        ...          ...                      ...   \n",
       "32849          11-50 2014-04-09     0.666667                2386434.0   \n",
       "32863          11-50 2017-01-01     0.666667                3490002.0   \n",
       "32904         51-100 2010-01-01     0.500000                 522000.0   \n",
       "32907          11-50 2015-02-18     0.222222                1000000.0   \n",
       "32923           1-10 2015-01-01     0.666667                 990000.0   \n",
       "\n",
       "       fd_rd_mean_momentum  fd_rd_num_invested_by_top_100  \n",
       "16                0.934681                            0.0  \n",
       "33                0.825104                            2.0  \n",
       "43                0.228600                            1.0  \n",
       "47                0.341418                            0.0  \n",
       "72                0.854750                            1.0  \n",
       "...                    ...                            ...  \n",
       "32849             0.142896                            0.0  \n",
       "32863             0.541750                            0.0  \n",
       "32904             1.521582                            1.0  \n",
       "32907             0.476957                            1.0  \n",
       "32923             2.047393                            0.0  \n",
       "\n",
       "[1913 rows x 6 columns]"
      ],
      "text/html": "<div>\n<style scoped>\n    .dataframe tbody tr th:only-of-type {\n        vertical-align: middle;\n    }\n\n    .dataframe tbody tr th {\n        vertical-align: top;\n    }\n\n    .dataframe thead th {\n        text-align: right;\n    }\n</style>\n<table border=\"1\" class=\"dataframe\">\n  <thead>\n    <tr style=\"text-align: right;\">\n      <th></th>\n      <th>employee_count</th>\n      <th>founded_on</th>\n      <th>degree_type</th>\n      <th>fd_rd_first_fund_raised</th>\n      <th>fd_rd_mean_momentum</th>\n      <th>fd_rd_num_invested_by_top_100</th>\n    </tr>\n  </thead>\n  <tbody>\n    <tr>\n      <th>16</th>\n      <td>11-50</td>\n      <td>2012-05-01</td>\n      <td>0.333333</td>\n      <td>1832166.0</td>\n      <td>0.934681</td>\n      <td>0.0</td>\n    </tr>\n    <tr>\n      <th>33</th>\n      <td>101-250</td>\n      <td>2015-01-01</td>\n      <td>0.727273</td>\n      <td>0.0</td>\n      <td>0.825104</td>\n      <td>2.0</td>\n    </tr>\n    <tr>\n      <th>43</th>\n      <td>11-50</td>\n      <td>2016-05-16</td>\n      <td>0.526316</td>\n      <td>1180350.0</td>\n      <td>0.228600</td>\n      <td>1.0</td>\n    </tr>\n    <tr>\n      <th>47</th>\n      <td>101-250</td>\n      <td>2010-09-01</td>\n      <td>1.000000</td>\n      <td>2100000.0</td>\n      <td>0.341418</td>\n      <td>0.0</td>\n    </tr>\n    <tr>\n      <th>72</th>\n      <td>11-50</td>\n      <td>2011-04-01</td>\n      <td>1.142857</td>\n      <td>2000000.0</td>\n      <td>0.854750</td>\n      <td>1.0</td>\n    </tr>\n    <tr>\n      <th>...</th>\n      <td>...</td>\n      <td>...</td>\n      <td>...</td>\n      <td>...</td>\n      <td>...</td>\n      <td>...</td>\n    </tr>\n    <tr>\n      <th>32849</th>\n      <td>11-50</td>\n      <td>2014-04-09</td>\n      <td>0.666667</td>\n      <td>2386434.0</td>\n      <td>0.142896</td>\n      <td>0.0</td>\n    </tr>\n    <tr>\n      <th>32863</th>\n      <td>11-50</td>\n      <td>2017-01-01</td>\n      <td>0.666667</td>\n      <td>3490002.0</td>\n      <td>0.541750</td>\n      <td>0.0</td>\n    </tr>\n    <tr>\n      <th>32904</th>\n      <td>51-100</td>\n      <td>2010-01-01</td>\n      <td>0.500000</td>\n      <td>522000.0</td>\n      <td>1.521582</td>\n      <td>1.0</td>\n    </tr>\n    <tr>\n      <th>32907</th>\n      <td>11-50</td>\n      <td>2015-02-18</td>\n      <td>0.222222</td>\n      <td>1000000.0</td>\n      <td>0.476957</td>\n      <td>1.0</td>\n    </tr>\n    <tr>\n      <th>32923</th>\n      <td>1-10</td>\n      <td>2015-01-01</td>\n      <td>0.666667</td>\n      <td>990000.0</td>\n      <td>2.047393</td>\n      <td>0.0</td>\n    </tr>\n  </tbody>\n</table>\n<p>1913 rows × 6 columns</p>\n</div>"
     },
     "metadata": {},
     "execution_count": 5
    }
   ],
   "source": [
    "df.dropna(inplace = True)\n",
    "df"
   ]
  },
  {
   "cell_type": "code",
   "execution_count": 6,
   "metadata": {},
   "outputs": [
    {
     "output_type": "execute_result",
     "data": {
      "text/plain": [
       "      employee_count  founded_on  degree_type  fd_rd_first_fund_raised  \\\n",
       "16             11-50    8.741890     0.333333                1832166.0   \n",
       "33           101-250    6.070657     0.727273                      0.0   \n",
       "43             11-50    4.698055     0.526316                1180350.0   \n",
       "47           101-250   10.407644     1.000000                2100000.0   \n",
       "72             11-50    9.826822     1.142857                2000000.0   \n",
       "...              ...         ...          ...                      ...   \n",
       "32849          11-50    6.802164     0.666667                2386434.0   \n",
       "32863          11-50    4.067918     0.666667                3490002.0   \n",
       "32904         51-100   11.073397     0.500000                 522000.0   \n",
       "32907          11-50    5.939151     0.222222                1000000.0   \n",
       "32923           1-10    6.070657     0.666667                 990000.0   \n",
       "\n",
       "       fd_rd_mean_momentum  fd_rd_num_invested_by_top_100  \n",
       "16                0.934681                            0.0  \n",
       "33                0.825104                            2.0  \n",
       "43                0.228600                            1.0  \n",
       "47                0.341418                            0.0  \n",
       "72                0.854750                            1.0  \n",
       "...                    ...                            ...  \n",
       "32849             0.142896                            0.0  \n",
       "32863             0.541750                            0.0  \n",
       "32904             1.521582                            1.0  \n",
       "32907             0.476957                            1.0  \n",
       "32923             2.047393                            0.0  \n",
       "\n",
       "[1913 rows x 6 columns]"
      ],
      "text/html": "<div>\n<style scoped>\n    .dataframe tbody tr th:only-of-type {\n        vertical-align: middle;\n    }\n\n    .dataframe tbody tr th {\n        vertical-align: top;\n    }\n\n    .dataframe thead th {\n        text-align: right;\n    }\n</style>\n<table border=\"1\" class=\"dataframe\">\n  <thead>\n    <tr style=\"text-align: right;\">\n      <th></th>\n      <th>employee_count</th>\n      <th>founded_on</th>\n      <th>degree_type</th>\n      <th>fd_rd_first_fund_raised</th>\n      <th>fd_rd_mean_momentum</th>\n      <th>fd_rd_num_invested_by_top_100</th>\n    </tr>\n  </thead>\n  <tbody>\n    <tr>\n      <th>16</th>\n      <td>11-50</td>\n      <td>8.741890</td>\n      <td>0.333333</td>\n      <td>1832166.0</td>\n      <td>0.934681</td>\n      <td>0.0</td>\n    </tr>\n    <tr>\n      <th>33</th>\n      <td>101-250</td>\n      <td>6.070657</td>\n      <td>0.727273</td>\n      <td>0.0</td>\n      <td>0.825104</td>\n      <td>2.0</td>\n    </tr>\n    <tr>\n      <th>43</th>\n      <td>11-50</td>\n      <td>4.698055</td>\n      <td>0.526316</td>\n      <td>1180350.0</td>\n      <td>0.228600</td>\n      <td>1.0</td>\n    </tr>\n    <tr>\n      <th>47</th>\n      <td>101-250</td>\n      <td>10.407644</td>\n      <td>1.000000</td>\n      <td>2100000.0</td>\n      <td>0.341418</td>\n      <td>0.0</td>\n    </tr>\n    <tr>\n      <th>72</th>\n      <td>11-50</td>\n      <td>9.826822</td>\n      <td>1.142857</td>\n      <td>2000000.0</td>\n      <td>0.854750</td>\n      <td>1.0</td>\n    </tr>\n    <tr>\n      <th>...</th>\n      <td>...</td>\n      <td>...</td>\n      <td>...</td>\n      <td>...</td>\n      <td>...</td>\n      <td>...</td>\n    </tr>\n    <tr>\n      <th>32849</th>\n      <td>11-50</td>\n      <td>6.802164</td>\n      <td>0.666667</td>\n      <td>2386434.0</td>\n      <td>0.142896</td>\n      <td>0.0</td>\n    </tr>\n    <tr>\n      <th>32863</th>\n      <td>11-50</td>\n      <td>4.067918</td>\n      <td>0.666667</td>\n      <td>3490002.0</td>\n      <td>0.541750</td>\n      <td>0.0</td>\n    </tr>\n    <tr>\n      <th>32904</th>\n      <td>51-100</td>\n      <td>11.073397</td>\n      <td>0.500000</td>\n      <td>522000.0</td>\n      <td>1.521582</td>\n      <td>1.0</td>\n    </tr>\n    <tr>\n      <th>32907</th>\n      <td>11-50</td>\n      <td>5.939151</td>\n      <td>0.222222</td>\n      <td>1000000.0</td>\n      <td>0.476957</td>\n      <td>1.0</td>\n    </tr>\n    <tr>\n      <th>32923</th>\n      <td>1-10</td>\n      <td>6.070657</td>\n      <td>0.666667</td>\n      <td>990000.0</td>\n      <td>2.047393</td>\n      <td>0.0</td>\n    </tr>\n  </tbody>\n</table>\n<p>1913 rows × 6 columns</p>\n</div>"
     },
     "metadata": {},
     "execution_count": 6
    }
   ],
   "source": [
    "today = pd.Timestamp.today()\n",
    "df['founded_on'] = (today - df['founded_on']) / pd.Timedelta(365, unit=\"d\")\n",
    "df"
   ]
  },
  {
   "cell_type": "code",
   "execution_count": 7,
   "metadata": {},
   "outputs": [
    {
     "output_type": "execute_result",
     "data": {
      "text/plain": [
       "      employee_count  company_age  degree_level  first_fund  mean_momentum  \\\n",
       "16             11-50     8.741890      0.333333   1832166.0       0.934681   \n",
       "33           101-250     6.070657      0.727273         0.0       0.825104   \n",
       "43             11-50     4.698055      0.526316   1180350.0       0.228600   \n",
       "47           101-250    10.407644      1.000000   2100000.0       0.341418   \n",
       "72             11-50     9.826822      1.142857   2000000.0       0.854750   \n",
       "...              ...          ...           ...         ...            ...   \n",
       "32849          11-50     6.802164      0.666667   2386434.0       0.142896   \n",
       "32863          11-50     4.067918      0.666667   3490002.0       0.541750   \n",
       "32904         51-100    11.073397      0.500000    522000.0       1.521582   \n",
       "32907          11-50     5.939151      0.222222   1000000.0       0.476957   \n",
       "32923           1-10     6.070657      0.666667    990000.0       2.047393   \n",
       "\n",
       "       num_invested  \n",
       "16              0.0  \n",
       "33              2.0  \n",
       "43              1.0  \n",
       "47              0.0  \n",
       "72              1.0  \n",
       "...             ...  \n",
       "32849           0.0  \n",
       "32863           0.0  \n",
       "32904           1.0  \n",
       "32907           1.0  \n",
       "32923           0.0  \n",
       "\n",
       "[1913 rows x 6 columns]"
      ],
      "text/html": "<div>\n<style scoped>\n    .dataframe tbody tr th:only-of-type {\n        vertical-align: middle;\n    }\n\n    .dataframe tbody tr th {\n        vertical-align: top;\n    }\n\n    .dataframe thead th {\n        text-align: right;\n    }\n</style>\n<table border=\"1\" class=\"dataframe\">\n  <thead>\n    <tr style=\"text-align: right;\">\n      <th></th>\n      <th>employee_count</th>\n      <th>company_age</th>\n      <th>degree_level</th>\n      <th>first_fund</th>\n      <th>mean_momentum</th>\n      <th>num_invested</th>\n    </tr>\n  </thead>\n  <tbody>\n    <tr>\n      <th>16</th>\n      <td>11-50</td>\n      <td>8.741890</td>\n      <td>0.333333</td>\n      <td>1832166.0</td>\n      <td>0.934681</td>\n      <td>0.0</td>\n    </tr>\n    <tr>\n      <th>33</th>\n      <td>101-250</td>\n      <td>6.070657</td>\n      <td>0.727273</td>\n      <td>0.0</td>\n      <td>0.825104</td>\n      <td>2.0</td>\n    </tr>\n    <tr>\n      <th>43</th>\n      <td>11-50</td>\n      <td>4.698055</td>\n      <td>0.526316</td>\n      <td>1180350.0</td>\n      <td>0.228600</td>\n      <td>1.0</td>\n    </tr>\n    <tr>\n      <th>47</th>\n      <td>101-250</td>\n      <td>10.407644</td>\n      <td>1.000000</td>\n      <td>2100000.0</td>\n      <td>0.341418</td>\n      <td>0.0</td>\n    </tr>\n    <tr>\n      <th>72</th>\n      <td>11-50</td>\n      <td>9.826822</td>\n      <td>1.142857</td>\n      <td>2000000.0</td>\n      <td>0.854750</td>\n      <td>1.0</td>\n    </tr>\n    <tr>\n      <th>...</th>\n      <td>...</td>\n      <td>...</td>\n      <td>...</td>\n      <td>...</td>\n      <td>...</td>\n      <td>...</td>\n    </tr>\n    <tr>\n      <th>32849</th>\n      <td>11-50</td>\n      <td>6.802164</td>\n      <td>0.666667</td>\n      <td>2386434.0</td>\n      <td>0.142896</td>\n      <td>0.0</td>\n    </tr>\n    <tr>\n      <th>32863</th>\n      <td>11-50</td>\n      <td>4.067918</td>\n      <td>0.666667</td>\n      <td>3490002.0</td>\n      <td>0.541750</td>\n      <td>0.0</td>\n    </tr>\n    <tr>\n      <th>32904</th>\n      <td>51-100</td>\n      <td>11.073397</td>\n      <td>0.500000</td>\n      <td>522000.0</td>\n      <td>1.521582</td>\n      <td>1.0</td>\n    </tr>\n    <tr>\n      <th>32907</th>\n      <td>11-50</td>\n      <td>5.939151</td>\n      <td>0.222222</td>\n      <td>1000000.0</td>\n      <td>0.476957</td>\n      <td>1.0</td>\n    </tr>\n    <tr>\n      <th>32923</th>\n      <td>1-10</td>\n      <td>6.070657</td>\n      <td>0.666667</td>\n      <td>990000.0</td>\n      <td>2.047393</td>\n      <td>0.0</td>\n    </tr>\n  </tbody>\n</table>\n<p>1913 rows × 6 columns</p>\n</div>"
     },
     "metadata": {},
     "execution_count": 7
    }
   ],
   "source": [
    "df.rename(columns={'founded_on': 'company_age', 'degree_type': 'degree_level', \n",
    "\t'fd_rd_first_fund_raised': 'first_fund', 'fd_rd_mean_momentum': 'mean_momentum',\n",
    "\t \"fd_rd_num_invested_by_top_100\": \"num_invested\"}, inplace=True)\n",
    "\n",
    "df"
   ]
  },
  {
   "cell_type": "code",
   "execution_count": 8,
   "metadata": {},
   "outputs": [
    {
     "output_type": "execute_result",
     "data": {
      "text/plain": [
       "      employee_count      xdata  degree_level      ydata  mean_momentum  \\\n",
       "16             11-50   8.741890      0.333333  1832166.0       0.934681   \n",
       "33           101-250   6.070657      0.727273        0.0       0.825104   \n",
       "43             11-50   4.698055      0.526316  1180350.0       0.228600   \n",
       "47           101-250  10.407644      1.000000  2100000.0       0.341418   \n",
       "72             11-50   9.826822      1.142857  2000000.0       0.854750   \n",
       "...              ...        ...           ...        ...            ...   \n",
       "32849          11-50   6.802164      0.666667  2386434.0       0.142896   \n",
       "32863          11-50   4.067918      0.666667  3490002.0       0.541750   \n",
       "32904         51-100  11.073397      0.500000   522000.0       1.521582   \n",
       "32907          11-50   5.939151      0.222222  1000000.0       0.476957   \n",
       "32923           1-10   6.070657      0.666667   990000.0       2.047393   \n",
       "\n",
       "       num_invested  \n",
       "16              0.0  \n",
       "33              2.0  \n",
       "43              1.0  \n",
       "47              0.0  \n",
       "72              1.0  \n",
       "...             ...  \n",
       "32849           0.0  \n",
       "32863           0.0  \n",
       "32904           1.0  \n",
       "32907           1.0  \n",
       "32923           0.0  \n",
       "\n",
       "[1913 rows x 6 columns]"
      ],
      "text/html": "<div>\n<style scoped>\n    .dataframe tbody tr th:only-of-type {\n        vertical-align: middle;\n    }\n\n    .dataframe tbody tr th {\n        vertical-align: top;\n    }\n\n    .dataframe thead th {\n        text-align: right;\n    }\n</style>\n<table border=\"1\" class=\"dataframe\">\n  <thead>\n    <tr style=\"text-align: right;\">\n      <th></th>\n      <th>employee_count</th>\n      <th>xdata</th>\n      <th>degree_level</th>\n      <th>ydata</th>\n      <th>mean_momentum</th>\n      <th>num_invested</th>\n    </tr>\n  </thead>\n  <tbody>\n    <tr>\n      <th>16</th>\n      <td>11-50</td>\n      <td>8.741890</td>\n      <td>0.333333</td>\n      <td>1832166.0</td>\n      <td>0.934681</td>\n      <td>0.0</td>\n    </tr>\n    <tr>\n      <th>33</th>\n      <td>101-250</td>\n      <td>6.070657</td>\n      <td>0.727273</td>\n      <td>0.0</td>\n      <td>0.825104</td>\n      <td>2.0</td>\n    </tr>\n    <tr>\n      <th>43</th>\n      <td>11-50</td>\n      <td>4.698055</td>\n      <td>0.526316</td>\n      <td>1180350.0</td>\n      <td>0.228600</td>\n      <td>1.0</td>\n    </tr>\n    <tr>\n      <th>47</th>\n      <td>101-250</td>\n      <td>10.407644</td>\n      <td>1.000000</td>\n      <td>2100000.0</td>\n      <td>0.341418</td>\n      <td>0.0</td>\n    </tr>\n    <tr>\n      <th>72</th>\n      <td>11-50</td>\n      <td>9.826822</td>\n      <td>1.142857</td>\n      <td>2000000.0</td>\n      <td>0.854750</td>\n      <td>1.0</td>\n    </tr>\n    <tr>\n      <th>...</th>\n      <td>...</td>\n      <td>...</td>\n      <td>...</td>\n      <td>...</td>\n      <td>...</td>\n      <td>...</td>\n    </tr>\n    <tr>\n      <th>32849</th>\n      <td>11-50</td>\n      <td>6.802164</td>\n      <td>0.666667</td>\n      <td>2386434.0</td>\n      <td>0.142896</td>\n      <td>0.0</td>\n    </tr>\n    <tr>\n      <th>32863</th>\n      <td>11-50</td>\n      <td>4.067918</td>\n      <td>0.666667</td>\n      <td>3490002.0</td>\n      <td>0.541750</td>\n      <td>0.0</td>\n    </tr>\n    <tr>\n      <th>32904</th>\n      <td>51-100</td>\n      <td>11.073397</td>\n      <td>0.500000</td>\n      <td>522000.0</td>\n      <td>1.521582</td>\n      <td>1.0</td>\n    </tr>\n    <tr>\n      <th>32907</th>\n      <td>11-50</td>\n      <td>5.939151</td>\n      <td>0.222222</td>\n      <td>1000000.0</td>\n      <td>0.476957</td>\n      <td>1.0</td>\n    </tr>\n    <tr>\n      <th>32923</th>\n      <td>1-10</td>\n      <td>6.070657</td>\n      <td>0.666667</td>\n      <td>990000.0</td>\n      <td>2.047393</td>\n      <td>0.0</td>\n    </tr>\n  </tbody>\n</table>\n<p>1913 rows × 6 columns</p>\n</div>"
     },
     "metadata": {},
     "execution_count": 8
    }
   ],
   "source": [
    "df.rename(columns={'company_age': 'xdata', \"first_fund\": 'ydata', }, inplace=True)\n",
    "df"
   ]
  },
  {
   "cell_type": "code",
   "execution_count": 11,
   "metadata": {},
   "outputs": [
    {
     "output_type": "execute_result",
     "data": {
      "text/plain": [
       "           xdata      ydata\n",
       "16      8.741890  1832166.0\n",
       "33      6.070657        0.0\n",
       "43      4.698055  1180350.0\n",
       "47     10.407644  2100000.0\n",
       "72      9.826822  2000000.0\n",
       "...          ...        ...\n",
       "32849   6.802164  2386434.0\n",
       "32863   4.067918  3490002.0\n",
       "32904  11.073397   522000.0\n",
       "32907   5.939151  1000000.0\n",
       "32923   6.070657   990000.0\n",
       "\n",
       "[1913 rows x 2 columns]"
      ],
      "text/html": "<div>\n<style scoped>\n    .dataframe tbody tr th:only-of-type {\n        vertical-align: middle;\n    }\n\n    .dataframe tbody tr th {\n        vertical-align: top;\n    }\n\n    .dataframe thead th {\n        text-align: right;\n    }\n</style>\n<table border=\"1\" class=\"dataframe\">\n  <thead>\n    <tr style=\"text-align: right;\">\n      <th></th>\n      <th>xdata</th>\n      <th>ydata</th>\n    </tr>\n  </thead>\n  <tbody>\n    <tr>\n      <th>16</th>\n      <td>8.741890</td>\n      <td>1832166.0</td>\n    </tr>\n    <tr>\n      <th>33</th>\n      <td>6.070657</td>\n      <td>0.0</td>\n    </tr>\n    <tr>\n      <th>43</th>\n      <td>4.698055</td>\n      <td>1180350.0</td>\n    </tr>\n    <tr>\n      <th>47</th>\n      <td>10.407644</td>\n      <td>2100000.0</td>\n    </tr>\n    <tr>\n      <th>72</th>\n      <td>9.826822</td>\n      <td>2000000.0</td>\n    </tr>\n    <tr>\n      <th>...</th>\n      <td>...</td>\n      <td>...</td>\n    </tr>\n    <tr>\n      <th>32849</th>\n      <td>6.802164</td>\n      <td>2386434.0</td>\n    </tr>\n    <tr>\n      <th>32863</th>\n      <td>4.067918</td>\n      <td>3490002.0</td>\n    </tr>\n    <tr>\n      <th>32904</th>\n      <td>11.073397</td>\n      <td>522000.0</td>\n    </tr>\n    <tr>\n      <th>32907</th>\n      <td>5.939151</td>\n      <td>1000000.0</td>\n    </tr>\n    <tr>\n      <th>32923</th>\n      <td>6.070657</td>\n      <td>990000.0</td>\n    </tr>\n  </tbody>\n</table>\n<p>1913 rows × 2 columns</p>\n</div>"
     },
     "metadata": {},
     "execution_count": 11
    }
   ],
   "source": [
    "df = df[['xdata', 'ydata']]\n",
    "df"
   ]
  },
  {
   "cell_type": "code",
   "execution_count": 12,
   "metadata": {},
   "outputs": [
    {
     "output_type": "execute_result",
     "data": {
      "text/plain": [
       "0.0\\n6.070657420758245,7000000.0\\n1.9829861878815322,7850328.0\\n9.073397146785641,1500000.0\\n7.070657420758245,1717694.0\\n11.073397146785641,600000.0\\n2.821342352265094,2200000.0\\n7.40490399610071,1640817.0\\n5.632301256374683,2000000.0\\n8.237780708429478,5752643.0\\n8.070657420758245,6902965.0\\n10.073397146785641,235000.0\\n4.0679176947308475,145000.0\\n4.577506735826738,9000000.0\\n11.073397146785641,500000.0\\n5.843260160484272,4100000.0\\n6.070657420758245,1170000.0\\n5.070657420758245,1620000.0\\n10.073397146785641,2532150.0\\n3.2350409824020803,622878.0\\n3.062438242676053,3418284.0\\n5.070657420758245,100000.0\\n7.070657420758245,3275000.0\\n8.070657420758245,800297.0\\n7.070657420758245,0.0\\n7.070657420758245,2012092.0\\n5.2953149550048195,4450000.0\\n5.051479338566463,5905735.0\\n5.0679176947308475,3935856.0\\n3.067917694730847,42250.0\\n6.917232763223998,0.0\\n7.070657420758245,2200000.0\\n6.070657420758245,1500000.0\\n7.070657420758245,2200000.0\\n7.656958790621259,400000.0\\n7.070657420758245,3190000.0\\n6.070657420758245,1200000.0\\n6.070657420758245,2360000.0\\n5.237780708429478,2800000.0\\n2.103534133087012,5302856.0\\n9.073397146785641,2550000.0\\n7.070657420758245,2000000.0\\n3.4103834481555046,1952310.0\\n6.070657420758245,750000.0\\n5.821342352265094,2000000.0\\n7.070657420758245,0.0\\n7.070657420758245,5749999.0\\n6.070657420758245,1000000.0\\n3.424082078292491,483131.0\\n6.1555889276075595,2600000.0\\n5.070657420758245,1100000.0\\n3.067917694730847,3800000.0\\n2.739150571443176,1425721.0\\n6.070657420758245,637625.0\\n6.070657420758245,4605248.0\\n3.821342352265094,3000000.0\\n8.070657420758245,2000000.0\\n11.073397146785641,0.0\\n6.070657420758245,0.0\\n4.0679176947308475,3250000.0\\n8.070657420758245,1000000.0\\n5.1555889276075595,2665013.0\\n4.985725913908929,500000.0\\n7.188465639936327,434452.0\\n4.6925752289774225,120000.0\\n2.821342352265094,2908624.0\\n9.073397146785641,0.0\\n5.070657420758245,8500000.0\\n4.0679176947308475,800000.0\\n4.23504098240208,1250000.0\\n3.982986187881532,6350000.0\\n8.566547831717148,2100000.0\\n7.070657420758245,0.0\\n6.40490399610071,10019814.0\\n2.067917694730847,3468772.0\\n7.070657420758245,3000000.0\\n5.270657420758244,20000000.0\\n5.070657420758245,1791570.0\\n9.988465639936326,1118000.0\\n10.309013585141805,3229254.0\\n4.0679176947308475,3063229.0\\n3.961068379662354,1000000.0\\n8.070657420758245,1956880.0\\n6.909013585141806,500000.0\\n2.3939450919911214,1955000.0\\n2.550109475552765,4330000.0\\n4.270657420758244,500000.0\\n2.821342352265094,600000.0\\n7.070657420758245,40000.0\\n3.6076437221281075,585388.0\\n6.5309313933609845,709976.0\\n9.74463002349797,200000.0\\n7.070657420758245,1700000.0\\n8.818602626237697,0.0\\n6.911753311169203,2634305.0\\n8.070657420758245,16500000.0\\n4.341890297470574,2775000.0\\n4.128191667333587,1500000.0\\n11.073397146785641,1100000.0\\n5.070657420758245,965564.0\\n6.410383448155505,315000.0\\n6.070657420758245,2360000.0\\n3.067917694730847,11617547.0\\n2.9309313933609844,1235000.0\\n6.070657420758245,1520000.0\\n3.067917694730847,785000.0\\n5.5747670097993405,1750000.0\\n7.070657420758245,1296923.0\\n6.440520434456874,1159546.0\\n7.070657420758245,3500000.0\\n6.481616324867834,1435000.0\\n10.073397146785641,200000.0\\n9.659698516648655,3700000.0\\n4.906273859114409,6250000.0\\n8.40490399610071,970378.0\\n6.278876598840436,631820.0\\n5.070657420758245,0.0\\n6.49531495500482,2000000.0\\n6.070657420758245,2276538.0\\n4.0679176947308475,320000.0\\n9.717232763223999,3680000.0\\n6.070657420758245,4000000.0\\n5.577506735826738,2230000.0\\n8.322712215278793,725000.0\\n9.073397146785641,8017010.0\\n10.073397146785641,635021.0\\n10.073397146785641,1838246.0\\n4.0679176947308475,525000.0\\n3.067917694730847,250000.0\\n7.070657420758245,0.0\\n8.429561530347286,12346720.0\\n10.74463002349797,277000.0\\n9.826821804319888,750000.0\\n8.322712215278793,500000.0\\n6.070657420758245,0.0\\n5.541890297470573,0.0\\n3.739150571443176,880000.0\\n6.070657420758245,8665136.0\\n5.1775067358267375,2000000.0\\n6.1555889276075595,2144000.0\\n6.788465639936327,517250.0\\n6.070657420758245,2000000.0\\n6.070657420758245,15265311.0\\n3.9994245440459157,617500.0\\n7.070657420758245,1100000.0\\n11.073397146785641,0.0\\n6.070657420758245,1540000.0\\n11.0158629002103,2822352.0\\n3.067917694730847,4000000.0\\n9.256958790621258,0.0\\n9.988465639936326,1639353.0\\n6.72545194130619,3700000.0\\n5.070657420758245,500000.0\\n2.067917694730847,4400000.0\\n6.070657420758245,4500000.0\\n4.319972489251395,1907053.0\\n6.733671119388381,1252551.0\\n6.070657420758245,1000000.0\\n4.152849201580162,250000.0\\n4.0679176947308475,15750000.0\\n11.073397146785641,5310680.0\\n7.056958790621258,1443000.0\\n6.070657420758245,2100000.0\\n5.511753311169204,499701.0\\n7.070657420758245,1000000.0\\n8.40490399610071,5200000.0\\n8.566547831717148,1020000.0\\n9.073397146785641,3362692.0\\n1.3035341330870116,1740000.0\\n5.678876598840437,2141600.0\\n10.073397146785641,83635.0\\n9.621342352265094,370000.0\\n4.0679176947308475,2750000.0\\n2.917232763223998,470000.0\\n10.073397146785641,900000.0\\n4.0679176947308475,4750000.0\\n2.717232763223998,1650000.0\\n3.067917694730847,1049625.0\\n10.073397146785641,446653.0\\n5.070657420758245,3322899.0\\n3.402164270073313,2500000.0\\n4.051479338566463,1902145.0\\n5.172027283771943,355117.0\\n3.4898355029500254,3100000.0\\n6.010383448155505,1400000.0\\n5.366547831717148,650000.0\\n6.656958790621259,1700000.0\\n7.824082078292491,2700000.0\\n7.070657420758245,5500000.0\\n3.1966848180185186,2334200.0\\n5.070657420758245,3200000.0\\n10.073397146785641,250000.0\\n5.656958790621259,0.0\\n5.703534133087012,100000.0\\n5.070657420758245,1200000.0\\n3.654219064593861,1487772.0\\n6.070657420758245,4750000.0\\n7.070657420758245,540583.0\\n10.073397146785641,0.0\\n4.0679176947308475,3709141.0\\n6.070657420758245,2000000.0\\n5.070657420758245,5625000.0\\n3.067917694730847,1162583.0\\n4.0679176947308475,4170000.0\\n8.070657420758245,0.0\\n5.741890297470573,15000000.0\\n8.070657420758245,1100000.0\\n3.067917694730847,6000000.0\\n7.070657420758245,1000000.0\\n4.0679176947308475,3619820.0\\n5.824082078292491,328551.0\\n5.070657420758245,2500000.0\\n5.070657420758245,0.0\\n4.141890297470574,420756.0\\n8.741890297470574,20000.0\\n6.070657420758245,248878.0\\n3.1528492015801626,1150000.0\\n9.659698516648655,1768000.0\\n10.826821804319888,1537500.0\\n7.070657420758245,1500000.0\\n3.8925752289774227,1102423.0\\n4.152849201580162,4960617.0\\n2.067917694730847,2699997.0\\n9.659698516648655,1500000.0\\n0.9035341330870117,1228400.0\\n4.706273859114409,5432651.0\\n6.06517796870345,976205.0\\n1.0679176947308473,4741280.0\\n6.070657420758245,847797.0\\n6.985725913908929,2500000.0\\n6.070657420758245,10432238.0\\n3.739150571443176,5000000.0\\n10.073397146785641,2000000.0\\n7.070657420758245,2295691.0\\n9.073397146785641,500000.0\\n7.070657420758245,1500000.0\\n8.070657420758245,138735.0\\n3.7829861878815323,340000.0\\n6.070657420758245,1157091.0\\n5.270657420758244,120000.0\\n3.572027283771943,1600000.0\\n8.070657420758245,125000.0\\n6.711753311169203,767766.0\\n7.739150571443176,803601.0\\n9.073397146785641,1050000.0\\n5.941890297470573,1200000.0\\n3.5583286536349568,358350.0\\n3.739150571443176,1500000.0\\n8.741890297470574,5000000.0\\n5.40490399610071,790990.0\\n5.656958790621259,450000.0\\n11.073397146785641,2150000.0\\n4.0679176947308475,4000000.0\\n8.070657420758245,3250000.0\\n7.070657420758245,2373578.0\\n8.070657420758245,1256000.0\\n3.982986187881532,200000.0\\n4.654219064593861,35586.0\\n10.073397146785641,1400000.0\\n4.824082078292491,1703556.0\\n7.070657420758245,1970324.0\\n4.747369749525368,4000000.0\\n3.067917694730847,3549687.0\\n5.1555889276075595,2200000.0\\n3.067917694730847,5000001.0\\n2.8186026262376966,2850000.0\\n6.070657420758245,5300000.0\\n5.070657420758245,3900000.0\\n7.909013585141806,2120000.0\\n11.073397146785641,0.0\\n7.656958790621259,41250.0\\n7.070657420758245,2908139.0\\n2.358328653634957,6477000.0\\n5.119972489251396,0.0\\n5.070657420758245,0.0\\n11.073397146785641,5975000.0\\n6.070657420758245,969921.0\\n9.073397146785641,1500000.0\\n7.070657420758245,2750000.0\\n4.418602626237696,3510614.0\\n7.0679176947308475,2595000.0\\n7.048739612539067,1172267.0\\n6.109013585141806,753460.0\\n7.070657420758245,2150000.0\\n7.070657420758245,7000000.0\\n10.073397146785641,1000000.0\\n7.070657420758245,0.0\\n4.0679176947308475,4000000.0\\n8.070657420758245,0.0\\n9.74463002349797,983000.0\\n11.073397146785641,1800000.0\\n7.245999886511669,1500000.0\\n8.656958790621259,1751565.0\\n8.988465639936326,3000000.0\\n7.070657420758245,500000.0\\n5.237780708429478,670000.0\\n4.654219064593861,1600000.0\\n5.070657420758245,5070000.0\\n2.067917694730847,1525000.0\\n2.067917694730847,7500000.0\\n5.678876598840437,10300000.0\\n7.070657420758245,1700858.0\\n6.489835502950025,3200000.0\\n6.788465639936327,700000.0\\n8.070657420758245,1500000.0\\n11.073397146785641,1050000.0\\n5.070657420758245,923371.0\\n4.37476700979934,1305154.0\\n8.070657420758245,1500000.0\\n1.9062738591144088,2700000.0\\n2.909013585141806,2250000.0\\n5.741890297470573,0.0\\n9.407643722128107,2000000.0\\n5.070657420758245,6315608.0\\n2.067917694730847,1150000.0\\n9.492575228977422,2000000.0\\n7.070657420758245,120000.0\\n7.070657420758245,0.0\\n10.073397146785641,500000.0\\n3.906273859114409,3210000.0\\n6.070657420758245,3240062.0\\n9.073397146785641,4099999.0\\n5.5747670097993405,800000.0\\n11.073397146785641,1872500.0\\n3.424082078292491,203944.0\\n7.070657420758245,2700000.0\\n9.073397146785641,3448590.0\\n11.073397146785641,22659995.0\\n4.0679176947308475,6000000.0\\n4.0679176947308475,1700000.0\\n8.322712215278793,153000.0\\n3.402164270073313,3826195.0\\n3.982986187881532,200000.0\\n9.073397146785641,0.0\\n5.040520434456875,4300000.0\\n3.2350409824020803,1500000.0\\n5.237780708429478,2237087.0\\n5.322712215278792,600000.0\\n3.067917694730847,0.0\\n7.818602626237697,2500000.0\\n4.985725913908929,700000.0\\n6.070657420758245,612500.0\\n3.487095776922628,3100000.0\\n5.656958790621259,4120000.0\\n9.74463002349797,0.0\\n7.982986187881532,1200000.0\\n5.070657420758245,766027.0\\n6.5747670097993405,750000.0\\n7.070657420758245,0.0\\n10.911753311169203,3500000.0\\n7.873397146785642,5432226.0\\n5.070657420758245,1500000.0\\n5.070657420758245,77210.0\\n9.073397146785641,1000000.0\\n5.070657420758245,20309.0\\n7.070657420758245,1000000.0\\n6.070657420758245,500000.0\\n3.3254519413061896,1200000.0\\n2.572027283771943,6300000.0\\n4.26517796870345,40000.0\\n1.5720272837719431,4305000.0\\n3.067917694730847,1950000.0\\n3.067917694730847,3289999.0\\n6.070657420758245,3250000.0\\n3.656958790621258,1525000.0\\n4.443260160484272,678973.0\\n3.067917694730847,7000000.0\\n6.519972489251395,2500000.0\\n5.914493037196601,2050000.0\\n5.070657420758245,781494.0\\n4.0679176947308475,2748238.0\\n3.63504098240208,1297833.0\\n7.322712215278792,1822849.0\\n3.067917694730847,2200000.0\\n9.073397146785641,3600000.0\\n3.067917694730847,1550000.0\\n4.152849201580162,786600.0\\n3.4487396125390664,3695000.0\\n5.761068379662354,4000000.0\\n6.070657420758245,1339350.0\\n0.8596985166486555,1600000.0\\n6.837780708429477,6000000.0\\n4.92545194130619,400000.0\\n4.248739612539066,1650000.0\\n2.9446300234979708,500000.0\\n10.703534133087011,80000.0\\n3.739150571443176,325177.0\\n9.158328653634957,1148609.0\\n8.070657420758245,3825000.0\\n3.739150571443176,1200000.0\\n7.070657420758245,2870000.0\\n8.969287557744545,1750000.0\\n4.23504098240208,2283000.0\\n6.070657420758245,2200000.0\\n4.23504098240208,3368444.0\\n1.402164270073313,12912373.0\\n10.073397146785641,0.0\\n4.0679176947308475,0.0\\n6.1555889276075595,716590.0\\n8.070657420758245,850000.0\\n6.070657420758245,1192312.0\\n8.741890297470574,0.0\\n5.070657420758245,2865000.0\\n7.070657420758245,5400000.0\\n6.070657420758245,0.0\\n4.0679176947308475,1190000.0\\n8.070657420758245,2077479.0\\n7.070657420758245,1012000.0\\n6.898054681032217,6756000.0\\n11.073397146785641,480000.0\\n3.067917694730847,2640000.0\\n8.070657420758245,2393928.0\\n0.7610683796623542,2300000.0\\n6.070657420758245,3500000.0\\n4.23504098240208,968111.0\\n8.909013585141807,5500000.0\\n3.067917694730847,2419299.0\\n8.824082078292491,1750000.0\\n5.5747670097993405,626061.0\\n9.073397146785641,650000.0\\n5.070657420758245,350740.0\\n7.1555889276075595,500000.0\\n5.070657420758245,1000000.0\\n8.070657420758245,48872.0\\n5.122712215278792,1887667.0\\n6.070657420758245,5000000.0\\n7.1555889276075595,1992665.0\\n7.070657420758245,1671422.0\\n10.298054681032218,3400000.0\\n7.909013585141806,0.0\\n7.070657420758245,2250000.0\\n6.40490399610071,1800000.0\\n6.070657420758245,559260.0\\n2.067917694730847,364464.0\\n9.073397146785641,408817.0\\n7.489835502950025,917881.0\\n5.0240820782924915,3050000.0\\n4.763808105689751,1600000.0\\n3.067917694730847,6500000.0\\n3.498054681032217,13300000.0\\n8.070657420758245,0.0\\n7.5747670097993405,879833.0\\n5.40490399610071,1333856.0\\n4.947369749525368,360000.0\\n6.5747670097993405,2390845.0\\n3.577506735826738,5400000.0\\n10.073397146785641,6000000.0\\n3.067917694730847,3999131.0\\n3.5446300234979704,5000000.0\\n2.7747670097993407,226200.0\\n4.774767009799341,1808678.0\\n5.070657420758245,7400000.0\\n9.073397146785641,1552052.0\\n6.070657420758245,250000.0\\n0.9035341330870117,4500000.0\\n7.070657420758245,1500000.0\\n7.824082078292491,2400000.0\\n2.067917694730847,325000.0\\n6.843260160484272,2349593.0\\n4.654219064593861,1242151.0\\n6.070657420758245,6900000.0\\n9.073397146785641,1500000.0\\n4.0679176947308475,6000000.0\\n9.073397146785641,500000.0\\n6.070657420758245,2100000.0\\n9.073397146785641,0.0\\n4.0679176947308475,1176007.0\\n8.909013585141807,1700000.0\\n6.070657420758245,4860220.0\\n8.070657420758245,1080000.0\\n7.974767009799341,2330000.0\\n5.018602626237697,230000.0\\n7.070657420758245,3000000.0\\n4.0679176947308475,6130000.0\\n6.070657420758245,2051467.0\\n10.440520434456875,3012879.0\\n6.37476700979934,1343100.0\\n2.147369749525368,1759743.0\\n4.0679176947308475,1069000.0\\n6.070657420758245,1000000.0\\n3.5638081056897515,250000.0\\n5.070657420758245,4000000.0\\n10.884356050895232,612793.0\\n6.909013585141806,0.0\\n4.0679176947308475,12000000.0\\n5.070657420758245,250000.0\\n10.073397146785641,3300000.0\\n11.073397146785641,0.0\\n6.070657420758245,183810.0\\n6.070657420758245,4000000.0\\n5.982986187881532,240000.0\\n6.909013585141806,1524594.0\\n5.070657420758245,2250000.0\\n3.402164270073313,3000000.0\\n5.0459998865116695,3046341.0\\n10.158328653634957,1250000.0\\n6.985725913908929,291340.0\\n9.073397146785641,464859.0\\n10.073397146785641,1481309.0\\n8.74463002349797,458145.0\\n6.1555889276075595,3900000.0\\n6.862438242676053,212005.0\\n6.070657420758245,1782553.0\\n5.010383448155505,0.0\\n8.15558892760756,617173.0\\n6.070657420758245,2259097.0\\n7.070657420758245,939196.0\\n1.9747670097993404,4500000.0\\n7.070657420758245,3142174.0\\n4.00490399610071,7307411.0\\n3.2350409824020803,1700000.0\\n2.2350409824020803,4500000.0\\n2.3254519413061896,2821582.0\\n6.40490399610071,2800000.0\\n3.067917694730847,190000.0\\n1.739150571443176,348615.0\\n5.070657420758245,2120000.0\\n7.070657420758245,1250000.0\\n4.0679176947308475,215312.0\\n10.073397146785641,0.0\\n4.4870957769226285,1049000.0\\n6.569287557744546,3700000.0\\n3.2350409824020803,400000.0\\n8.070657420758245,559284.0\\n8.911753311169203,5105000.0\\n6.5747670097993405,3100000.0\\n4.152849201580162,2900000.0\\n4.733671119388381,710233.0\\n8.237780708429478,0.0\\n11.073397146785641,266000.0\\n9.407643722128107,0.0\\n3.4295615303472857,1620000.0\\n7.070657420758245,325000.0\\n7.007643722128107,2056223.0\\n11.073397146785641,2697332.0\\n9.073397146785641,500000.0\\n9.240520434456874,1225000.0\\n2.6158629002102995,2200000.0\\n3.067917694730847,150000.0\\n4.0679176947308475,2313541.0\\n4.0679176947308475,1809128.0\\n7.824082078292491,2585000.0\\n6.824082078292491,0.0\\n5.237780708429478,3808697.0\\n6.070657420758245,6380474.0\\n2.067917694730847,2750000.0\\n7.909013585141806,1350000.0\\n5.070657420758245,776137.0\\n5.070657420758245,3245376.0\\n2.067917694730847,1850000.0\\n5.322712215278792,1067223.0\\n8.489835502950026,63668.0\\n5.5747670097993405,120000.0\\n3.350109475552765,4878308.0\\n2.821342352265094,3897236.0\\n7.744630023497971,25000.0\\n4.0679176947308475,1550000.0\\n6.070657420758245,12050000.0\\n10.073397146785641,5000000.0\\n7.070657420758245,1044125.0\\n8.070657420758245,1137116.0\\n6.821342352265094,1540000.0\\n4.0679176947308475,1400000.0\\n6.070657420758245,500000.0\\n8.070657420758245,1477536.0\\n9.073397146785641,850000.0\\n3.654219064593861,5500000.0\\n6.498054681032217,2240480.0\\n4.0679176947308475,220000.0\\n9.073397146785641,0.0\\n5.780246461854135,70000.0\\n3.067917694730847,722162.0\\n8.330931393360984,1300000.0\\n3.982986187881532,1502119.0\\n6.032301256374683,521881.0\\n7.070657420758245,3893220.0\\n7.070657420758245,450000.0\\n9.073397146785641,384615.0\\n6.070657420758245,3254120.0\\n9.073397146785641,775372.0\\n3.739150571443176,9588646.0\\n8.95558892760756,290870.0\\n7.070657420758245,600000.0\\n10.073397146785641,2443940.0\\n8.070657420758245,3500000.0\\n3.067917694730847,2188239.0\\n6.070657420758245,819300.0\\n6.070657420758245,1800000.0\\n3.402164270073313,0.0\\n3.739150571443176,2400000.0\\n6.1555889276075595,2500000.0\\n2.6816163248678335,5000000.0\\n7.5747670097993405,2800000.0\\n6.791205365963724,4220000.0\\n10.073397146785641,0.0\\n5.772027283771943,0.0\\n4.0679176947308475,250000.0\\n5.6487396125390665,4000000.0\\n6.070657420758245,0.0\\n7.070657420758245,2500000.0\\n7.985725913908929,3539949.0\\n5.69531495500482,660406.0\\n5.070657420758245,3400000.0\\n6.070657420758245,1500000.0\\n7.37476700979934,645000.0\\n5.070657420758245,0.0\\n7.070657420758245,120000.0\\n4.0679176947308475,3000000.0\\n6.1555889276075595,25000.0\\n6.059698516648655,3700000.0\\n9.073397146785641,128069.0\\n4.824082078292491,6750000.0\\n7.322712215278792,2500000.0\\n7.070657420758245,0.0\\n5.906273859114409,600000.0\\n5.328191667333587,5448259.0\\n8.552849201580162,687689.0\\n3.12545194130619,58000.0\\n6.070657420758245,4375000.0\\n5.070657420758245,6500000.0\\n11.073397146785641,2791393.0\\n6.717232763223998,550000.0\\n9.073397146785641,5300000.0\\n5.761068379662354,2196562.0\\n9.74463002349797,2510000.0\\n3.7720272837719433,2500000.0\\n2.654219064593861,4400000.0\\n6.070657420758245,4250000.0\\n6.070657420758245,7500000.0\\n7.070657420758245,50000.0\\n6.070657420758245,1600000.0\\n10.073397146785641,3724900.0\\n3.067917694730847,9200000.0\\n10.659698516648655,2300000.0\\n9.073397146785641,2500000.0\\n6.202164270073313,1402948.0\\n3.067917694730847,1500000.0\\n8.070657420758245,1300000.0\\n6.985725913908929,500000.0\\n5.89531495500482,4500000.0\\n6.369287557744546,400000.0\\n10.073397146785641,2100000.0\\n6.5747670097993405,0.0\\n4.862438242676053,3600000.0\\n8.070657420758245,2250000.0\\n10.073397146785641,652688.0\\n9.073397146785641,4000000.0\\n10.492575228977422,495000.0\\n5.741890297470573,2620000.0\\n2.3199724892513953,904508.0\\n3.572027283771943,3390293.0\\n4.0679176947308475,1500000.0\\n10.073397146785641,0.0\\n9.826821804319888,500000.0\\n6.34463002349797,50803.0\\n5.070657420758245,500000.0\\n4.0679176947308475,1510122.0\\n3.0103834481555047,620000.0\\n4.0679176947308475,5400000.0\\n4.6186026262376965,2100000.0\\n7.070657420758245,2841416.0\\n11.073397146785641,434009.0\\n6.070657420758245,1650000.0\\n7.824082078292491,0.0\\n9.073397146785641,3200000.0\\n5.322712215278792,2017887.0\\n5.00490399610071,1750000.0\\n5.503534133087012,0.0\\n1.9062738591144088,10000000.0\\n8.070657420758245,3775000.0\\n1.8405204344568746,88042.0\\n6.070657420758245,6000000.0\\n9.32545194130619,1439706.0\\n8.070657420758245,3000000.0\\n2.487095776922628,222169.0\\n3.906273859114409,312152.0\\n9.073397146785641,1300000.0\\n6.070657420758245,1000000.0\\n7.070657420758245,5000000.0\\n3.402164270073313,2700000.0\\n9.525451941306189,0.0\\n2.739150571443176,2015107.0\\n5.070657420758245,13546088.0\\n5.070657420758245,3500000.0\\n4.774767009799341,4100000.0\\n6.237780708429478,610223.0\\n9.073397146785641,200000.0\\n6.070657420758245,616260.0\\n6.656958790621259,535634.0\\n3.689835502950025,1706684.0\\n4.0679176947308475,10900000.0\\n6.824082078292491,500000.0\\n6.939150571443176,2080000.0\\n2.067917694730847,2650000.0\\n4.23504098240208,7230000.0\\n8.070657420758245,3506197.0\\n7.741890297470573,20000.0\\n8.139150571443176,3750000.0\\n4.985725913908929,2600000.0\\n6.802164270073313,2386434.0\\n4.0679176947308475,3490002.0\\n11.073397146785641,522000.0\\n5.939150571443176,1000000.0\\n6.070657420758245,990000.0\\n'"
      ]
     },
     "metadata": {},
     "execution_count": 12
    }
   ],
   "source": [
    "df.to_csv(index=False)"
   ]
  },
  {
   "cell_type": "code",
   "execution_count": null,
   "metadata": {},
   "outputs": [],
   "source": []
  }
 ]
}