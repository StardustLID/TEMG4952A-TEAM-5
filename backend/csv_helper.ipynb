{
 "metadata": {
  "language_info": {
   "codemirror_mode": {
    "name": "ipython",
    "version": 3
   },
   "file_extension": ".py",
   "mimetype": "text/x-python",
   "name": "python",
   "nbconvert_exporter": "python",
   "pygments_lexer": "ipython3",
   "version": "3.8.5-final"
  },
  "orig_nbformat": 2,
  "kernelspec": {
   "name": "python3",
   "display_name": "Python 3",
   "language": "python"
  }
 },
 "nbformat": 4,
 "nbformat_minor": 2,
 "cells": [
  {
   "source": [
    "## Number of Employees"
   ],
   "cell_type": "markdown",
   "metadata": {}
  },
  {
   "cell_type": "code",
   "execution_count": 5,
   "metadata": {},
   "outputs": [],
   "source": [
    "# import library\n",
    "import pandas as pd"
   ]
  },
  {
   "cell_type": "code",
   "execution_count": 6,
   "metadata": {},
   "outputs": [],
   "source": [
    "# read the CSV\n",
    "df = pd.read_csv(\"../Week3_Onwards/unifed_csv_without_duplicated_company.csv\")"
   ]
  },
  {
   "cell_type": "code",
   "execution_count": 7,
   "metadata": {},
   "outputs": [],
   "source": [
    "# df.head()"
   ]
  },
  {
   "cell_type": "code",
   "execution_count": 8,
   "metadata": {},
   "outputs": [],
   "source": [
    "# specify the column to count\n",
    "col_to_count = 'employee_count'\n",
    "series = df[col_to_count].value_counts()"
   ]
  },
  {
   "cell_type": "code",
   "execution_count": 9,
   "metadata": {},
   "outputs": [
    {
     "output_type": "execute_result",
     "data": {
      "text/plain": [
       "1-10          17014\n",
       "11-50         10452\n",
       "unknown        5882\n",
       "51-100         1490\n",
       "101-250        1419\n",
       "251-500         484\n",
       "501-1000        195\n",
       "1001-5000       171\n",
       "10000+           47\n",
       "5001-10000       44\n",
       "Name: employee_count, dtype: int64"
      ]
     },
     "metadata": {},
     "execution_count": 9
    }
   ],
   "source": [
    "series"
   ]
  },
  {
   "cell_type": "code",
   "execution_count": 10,
   "metadata": {},
   "outputs": [],
   "source": [
    "# drop the undesired labels\n",
    "labels_to_drop = ['unknown']\n",
    "series.drop(labels=labels_to_drop, inplace=True)"
   ]
  },
  {
   "cell_type": "code",
   "execution_count": 11,
   "metadata": {},
   "outputs": [
    {
     "output_type": "execute_result",
     "data": {
      "text/plain": [
       "1-10          17014\n",
       "11-50         10452\n",
       "51-100         1490\n",
       "101-250        1419\n",
       "251-500         484\n",
       "501-1000        195\n",
       "1001-5000       171\n",
       "10000+           47\n",
       "5001-10000       44\n",
       "Name: employee_count, dtype: int64"
      ]
     },
     "metadata": {},
     "execution_count": 11
    }
   ],
   "source": [
    "series"
   ]
  },
  {
   "cell_type": "code",
   "execution_count": 12,
   "metadata": {},
   "outputs": [],
   "source": [
    "temp = series['10000+']\n",
    "series.drop(labels='10000+', inplace=True)\n",
    "series['10000+'] = temp"
   ]
  },
  {
   "cell_type": "code",
   "execution_count": 13,
   "metadata": {},
   "outputs": [
    {
     "output_type": "execute_result",
     "data": {
      "text/plain": [
       "1-10          17014\n",
       "11-50         10452\n",
       "51-100         1490\n",
       "101-250        1419\n",
       "251-500         484\n",
       "501-1000        195\n",
       "1001-5000       171\n",
       "5001-10000       44\n",
       "10000+           47\n",
       "Name: employee_count, dtype: int64"
      ]
     },
     "metadata": {},
     "execution_count": 13
    }
   ],
   "source": [
    "series"
   ]
  },
  {
   "cell_type": "code",
   "execution_count": 14,
   "metadata": {},
   "outputs": [],
   "source": [
    "df = series.to_frame()"
   ]
  },
  {
   "cell_type": "code",
   "execution_count": 15,
   "metadata": {},
   "outputs": [
    {
     "output_type": "execute_result",
     "data": {
      "text/plain": [
       "            employee_count\n",
       "1-10                 17014\n",
       "11-50                10452\n",
       "51-100                1490\n",
       "101-250               1419\n",
       "251-500                484\n",
       "501-1000               195\n",
       "1001-5000              171\n",
       "5001-10000              44\n",
       "10000+                  47"
      ],
      "text/html": "<div>\n<style scoped>\n    .dataframe tbody tr th:only-of-type {\n        vertical-align: middle;\n    }\n\n    .dataframe tbody tr th {\n        vertical-align: top;\n    }\n\n    .dataframe thead th {\n        text-align: right;\n    }\n</style>\n<table border=\"1\" class=\"dataframe\">\n  <thead>\n    <tr style=\"text-align: right;\">\n      <th></th>\n      <th>employee_count</th>\n    </tr>\n  </thead>\n  <tbody>\n    <tr>\n      <th>1-10</th>\n      <td>17014</td>\n    </tr>\n    <tr>\n      <th>11-50</th>\n      <td>10452</td>\n    </tr>\n    <tr>\n      <th>51-100</th>\n      <td>1490</td>\n    </tr>\n    <tr>\n      <th>101-250</th>\n      <td>1419</td>\n    </tr>\n    <tr>\n      <th>251-500</th>\n      <td>484</td>\n    </tr>\n    <tr>\n      <th>501-1000</th>\n      <td>195</td>\n    </tr>\n    <tr>\n      <th>1001-5000</th>\n      <td>171</td>\n    </tr>\n    <tr>\n      <th>5001-10000</th>\n      <td>44</td>\n    </tr>\n    <tr>\n      <th>10000+</th>\n      <td>47</td>\n    </tr>\n  </tbody>\n</table>\n</div>"
     },
     "metadata": {},
     "execution_count": 15
    }
   ],
   "source": [
    "df"
   ]
  },
  {
   "cell_type": "code",
   "execution_count": 16,
   "metadata": {},
   "outputs": [],
   "source": [
    "df.reset_index(inplace=True)"
   ]
  },
  {
   "cell_type": "code",
   "execution_count": 17,
   "metadata": {},
   "outputs": [
    {
     "output_type": "execute_result",
     "data": {
      "text/plain": [
       "        index  employee_count\n",
       "0        1-10           17014\n",
       "1       11-50           10452\n",
       "2      51-100            1490\n",
       "3     101-250            1419\n",
       "4     251-500             484\n",
       "5    501-1000             195\n",
       "6   1001-5000             171\n",
       "7  5001-10000              44\n",
       "8      10000+              47"
      ],
      "text/html": "<div>\n<style scoped>\n    .dataframe tbody tr th:only-of-type {\n        vertical-align: middle;\n    }\n\n    .dataframe tbody tr th {\n        vertical-align: top;\n    }\n\n    .dataframe thead th {\n        text-align: right;\n    }\n</style>\n<table border=\"1\" class=\"dataframe\">\n  <thead>\n    <tr style=\"text-align: right;\">\n      <th></th>\n      <th>index</th>\n      <th>employee_count</th>\n    </tr>\n  </thead>\n  <tbody>\n    <tr>\n      <th>0</th>\n      <td>1-10</td>\n      <td>17014</td>\n    </tr>\n    <tr>\n      <th>1</th>\n      <td>11-50</td>\n      <td>10452</td>\n    </tr>\n    <tr>\n      <th>2</th>\n      <td>51-100</td>\n      <td>1490</td>\n    </tr>\n    <tr>\n      <th>3</th>\n      <td>101-250</td>\n      <td>1419</td>\n    </tr>\n    <tr>\n      <th>4</th>\n      <td>251-500</td>\n      <td>484</td>\n    </tr>\n    <tr>\n      <th>5</th>\n      <td>501-1000</td>\n      <td>195</td>\n    </tr>\n    <tr>\n      <th>6</th>\n      <td>1001-5000</td>\n      <td>171</td>\n    </tr>\n    <tr>\n      <th>7</th>\n      <td>5001-10000</td>\n      <td>44</td>\n    </tr>\n    <tr>\n      <th>8</th>\n      <td>10000+</td>\n      <td>47</td>\n    </tr>\n  </tbody>\n</table>\n</div>"
     },
     "metadata": {},
     "execution_count": 17
    }
   ],
   "source": [
    "df"
   ]
  },
  {
   "cell_type": "code",
   "execution_count": 18,
   "metadata": {},
   "outputs": [],
   "source": [
    "# rename in the dict\n",
    "df.rename(columns={'employee_count': 'freq', 'index': 'employee_count'}, inplace=True)"
   ]
  },
  {
   "cell_type": "code",
   "execution_count": 19,
   "metadata": {},
   "outputs": [
    {
     "output_type": "execute_result",
     "data": {
      "text/plain": [
       "  employee_count   freq\n",
       "0           1-10  17014\n",
       "1          11-50  10452\n",
       "2         51-100   1490\n",
       "3        101-250   1419\n",
       "4        251-500    484\n",
       "5       501-1000    195\n",
       "6      1001-5000    171\n",
       "7     5001-10000     44\n",
       "8         10000+     47"
      ],
      "text/html": "<div>\n<style scoped>\n    .dataframe tbody tr th:only-of-type {\n        vertical-align: middle;\n    }\n\n    .dataframe tbody tr th {\n        vertical-align: top;\n    }\n\n    .dataframe thead th {\n        text-align: right;\n    }\n</style>\n<table border=\"1\" class=\"dataframe\">\n  <thead>\n    <tr style=\"text-align: right;\">\n      <th></th>\n      <th>employee_count</th>\n      <th>freq</th>\n    </tr>\n  </thead>\n  <tbody>\n    <tr>\n      <th>0</th>\n      <td>1-10</td>\n      <td>17014</td>\n    </tr>\n    <tr>\n      <th>1</th>\n      <td>11-50</td>\n      <td>10452</td>\n    </tr>\n    <tr>\n      <th>2</th>\n      <td>51-100</td>\n      <td>1490</td>\n    </tr>\n    <tr>\n      <th>3</th>\n      <td>101-250</td>\n      <td>1419</td>\n    </tr>\n    <tr>\n      <th>4</th>\n      <td>251-500</td>\n      <td>484</td>\n    </tr>\n    <tr>\n      <th>5</th>\n      <td>501-1000</td>\n      <td>195</td>\n    </tr>\n    <tr>\n      <th>6</th>\n      <td>1001-5000</td>\n      <td>171</td>\n    </tr>\n    <tr>\n      <th>7</th>\n      <td>5001-10000</td>\n      <td>44</td>\n    </tr>\n    <tr>\n      <th>8</th>\n      <td>10000+</td>\n      <td>47</td>\n    </tr>\n  </tbody>\n</table>\n</div>"
     },
     "metadata": {},
     "execution_count": 19
    }
   ],
   "source": [
    "df"
   ]
  },
  {
   "cell_type": "code",
   "execution_count": 20,
   "metadata": {},
   "outputs": [
    {
     "output_type": "execute_result",
     "data": {
      "text/plain": [
       "'employee_count   freq\\n          1-10  17014\\n         11-50  10452\\n        51-100   1490\\n       101-250   1419\\n       251-500    484\\n      501-1000    195\\n     1001-5000    171\\n    5001-10000     44\\n        10000+     47'"
      ]
     },
     "metadata": {},
     "execution_count": 20
    }
   ],
   "source": [
    "# output df or series\n",
    "# uncomment to output a lightweight csv\n",
    "# df.to_csv(\"employee_count.csv\", index=False)\n",
    "df.to_string(index=False)"
   ]
  },
  {
   "source": [
    "## Company Age"
   ],
   "cell_type": "markdown",
   "metadata": {}
  },
  {
   "cell_type": "code",
   "execution_count": 68,
   "metadata": {},
   "outputs": [
    {
     "output_type": "execute_result",
     "data": {
      "text/plain": [
       "       founded_on  Financial Services  FinTech  Finance  Payments\n",
       "0          3.0767                   0        0        0         0\n",
       "1          5.6658                   0        0        0         0\n",
       "2         10.0822                   0        0        0         0\n",
       "3          3.0767                   0        0        0         0\n",
       "4          9.2219                   0        0        0         0\n",
       "...           ...                 ...      ...      ...       ...\n",
       "37193      7.0795                   0        0        0         0\n",
       "37194      9.0822                   0        0        0         0\n",
       "37195      6.4795                   0        0        0         0\n",
       "37196      7.9479                   0        0        0         0\n",
       "37197      6.0795                   0        0        0         0\n",
       "\n",
       "[37198 rows x 5 columns]"
      ],
      "text/html": "<div>\n<style scoped>\n    .dataframe tbody tr th:only-of-type {\n        vertical-align: middle;\n    }\n\n    .dataframe tbody tr th {\n        vertical-align: top;\n    }\n\n    .dataframe thead th {\n        text-align: right;\n    }\n</style>\n<table border=\"1\" class=\"dataframe\">\n  <thead>\n    <tr style=\"text-align: right;\">\n      <th></th>\n      <th>founded_on</th>\n      <th>Financial Services</th>\n      <th>FinTech</th>\n      <th>Finance</th>\n      <th>Payments</th>\n    </tr>\n  </thead>\n  <tbody>\n    <tr>\n      <th>0</th>\n      <td>3.0767</td>\n      <td>0</td>\n      <td>0</td>\n      <td>0</td>\n      <td>0</td>\n    </tr>\n    <tr>\n      <th>1</th>\n      <td>5.6658</td>\n      <td>0</td>\n      <td>0</td>\n      <td>0</td>\n      <td>0</td>\n    </tr>\n    <tr>\n      <th>2</th>\n      <td>10.0822</td>\n      <td>0</td>\n      <td>0</td>\n      <td>0</td>\n      <td>0</td>\n    </tr>\n    <tr>\n      <th>3</th>\n      <td>3.0767</td>\n      <td>0</td>\n      <td>0</td>\n      <td>0</td>\n      <td>0</td>\n    </tr>\n    <tr>\n      <th>4</th>\n      <td>9.2219</td>\n      <td>0</td>\n      <td>0</td>\n      <td>0</td>\n      <td>0</td>\n    </tr>\n    <tr>\n      <th>...</th>\n      <td>...</td>\n      <td>...</td>\n      <td>...</td>\n      <td>...</td>\n      <td>...</td>\n    </tr>\n    <tr>\n      <th>37193</th>\n      <td>7.0795</td>\n      <td>0</td>\n      <td>0</td>\n      <td>0</td>\n      <td>0</td>\n    </tr>\n    <tr>\n      <th>37194</th>\n      <td>9.0822</td>\n      <td>0</td>\n      <td>0</td>\n      <td>0</td>\n      <td>0</td>\n    </tr>\n    <tr>\n      <th>37195</th>\n      <td>6.4795</td>\n      <td>0</td>\n      <td>0</td>\n      <td>0</td>\n      <td>0</td>\n    </tr>\n    <tr>\n      <th>37196</th>\n      <td>7.9479</td>\n      <td>0</td>\n      <td>0</td>\n      <td>0</td>\n      <td>0</td>\n    </tr>\n    <tr>\n      <th>37197</th>\n      <td>6.0795</td>\n      <td>0</td>\n      <td>0</td>\n      <td>0</td>\n      <td>0</td>\n    </tr>\n  </tbody>\n</table>\n<p>37198 rows × 5 columns</p>\n</div>"
     },
     "metadata": {},
     "execution_count": 68
    }
   ],
   "source": [
    "import pandas as pd\n",
    "df = pd.read_csv(\"../Week3_Onwards/unifed_csv_without_duplicated_company.csv\")\n",
    "\n",
    "categories = ['Financial Services', 'FinTech', 'Finance', 'Payments']\n",
    "cols_to_keep = ['founded_on', *categories]\n",
    "df = df[cols_to_keep]\n",
    "df"
   ]
  },
  {
   "cell_type": "code",
   "execution_count": 69,
   "metadata": {},
   "outputs": [
    {
     "output_type": "execute_result",
     "data": {
      "text/plain": [
       "   founded_on  Financial Services  FinTech  Finance  Payments\n",
       "0           3                   0        0        0         0\n",
       "1           6                   0        0        0         0\n",
       "2          10                   0        0        0         0\n",
       "3           3                   0        0        0         0\n",
       "4           9                   0        0        0         0"
      ],
      "text/html": "<div>\n<style scoped>\n    .dataframe tbody tr th:only-of-type {\n        vertical-align: middle;\n    }\n\n    .dataframe tbody tr th {\n        vertical-align: top;\n    }\n\n    .dataframe thead th {\n        text-align: right;\n    }\n</style>\n<table border=\"1\" class=\"dataframe\">\n  <thead>\n    <tr style=\"text-align: right;\">\n      <th></th>\n      <th>founded_on</th>\n      <th>Financial Services</th>\n      <th>FinTech</th>\n      <th>Finance</th>\n      <th>Payments</th>\n    </tr>\n  </thead>\n  <tbody>\n    <tr>\n      <th>0</th>\n      <td>3</td>\n      <td>0</td>\n      <td>0</td>\n      <td>0</td>\n      <td>0</td>\n    </tr>\n    <tr>\n      <th>1</th>\n      <td>6</td>\n      <td>0</td>\n      <td>0</td>\n      <td>0</td>\n      <td>0</td>\n    </tr>\n    <tr>\n      <th>2</th>\n      <td>10</td>\n      <td>0</td>\n      <td>0</td>\n      <td>0</td>\n      <td>0</td>\n    </tr>\n    <tr>\n      <th>3</th>\n      <td>3</td>\n      <td>0</td>\n      <td>0</td>\n      <td>0</td>\n      <td>0</td>\n    </tr>\n    <tr>\n      <th>4</th>\n      <td>9</td>\n      <td>0</td>\n      <td>0</td>\n      <td>0</td>\n      <td>0</td>\n    </tr>\n  </tbody>\n</table>\n</div>"
     },
     "metadata": {},
     "execution_count": 69
    }
   ],
   "source": [
    "df['founded_on'] = df['founded_on'].round(0).astype(int)\n",
    "df.head()"
   ]
  },
  {
   "cell_type": "code",
   "execution_count": 70,
   "metadata": {},
   "outputs": [
    {
     "output_type": "execute_result",
     "data": {
      "text/plain": [
       "    company_age   All\n",
       "0             0   138\n",
       "1             1  1278\n",
       "2             2  2539\n",
       "3             3  5195\n",
       "4             4  5169\n",
       "5             5  4680\n",
       "6             6  4708\n",
       "7             7  4338\n",
       "8             8  3500\n",
       "9             9  3136\n",
       "10           10  2517"
      ],
      "text/html": "<div>\n<style scoped>\n    .dataframe tbody tr th:only-of-type {\n        vertical-align: middle;\n    }\n\n    .dataframe tbody tr th {\n        vertical-align: top;\n    }\n\n    .dataframe thead th {\n        text-align: right;\n    }\n</style>\n<table border=\"1\" class=\"dataframe\">\n  <thead>\n    <tr style=\"text-align: right;\">\n      <th></th>\n      <th>company_age</th>\n      <th>All</th>\n    </tr>\n  </thead>\n  <tbody>\n    <tr>\n      <th>0</th>\n      <td>0</td>\n      <td>138</td>\n    </tr>\n    <tr>\n      <th>1</th>\n      <td>1</td>\n      <td>1278</td>\n    </tr>\n    <tr>\n      <th>2</th>\n      <td>2</td>\n      <td>2539</td>\n    </tr>\n    <tr>\n      <th>3</th>\n      <td>3</td>\n      <td>5195</td>\n    </tr>\n    <tr>\n      <th>4</th>\n      <td>4</td>\n      <td>5169</td>\n    </tr>\n    <tr>\n      <th>5</th>\n      <td>5</td>\n      <td>4680</td>\n    </tr>\n    <tr>\n      <th>6</th>\n      <td>6</td>\n      <td>4708</td>\n    </tr>\n    <tr>\n      <th>7</th>\n      <td>7</td>\n      <td>4338</td>\n    </tr>\n    <tr>\n      <th>8</th>\n      <td>8</td>\n      <td>3500</td>\n    </tr>\n    <tr>\n      <th>9</th>\n      <td>9</td>\n      <td>3136</td>\n    </tr>\n    <tr>\n      <th>10</th>\n      <td>10</td>\n      <td>2517</td>\n    </tr>\n  </tbody>\n</table>\n</div>"
     },
     "metadata": {},
     "execution_count": 70
    }
   ],
   "source": [
    "df_count_all =  df['founded_on'].value_counts().sort_index().to_frame()\n",
    "df_count_all.reset_index(inplace=True)\n",
    "df_count_all.rename(columns={'index': 'company_age', 'founded_on': 'All'}, inplace=True)\n",
    "df_count_all"
   ]
  },
  {
   "cell_type": "code",
   "execution_count": 71,
   "metadata": {},
   "outputs": [
    {
     "output_type": "execute_result",
     "data": {
      "text/plain": [
       "[    company_age   All\n",
       " 0             0   138\n",
       " 1             1  1278\n",
       " 2             2  2539\n",
       " 3             3  5195\n",
       " 4             4  5169\n",
       " 5             5  4680\n",
       " 6             6  4708\n",
       " 7             7  4338\n",
       " 8             8  3500\n",
       " 9             9  3136\n",
       " 10           10  2517,\n",
       "     company_age  Financial Services\n",
       " 0             0                  11\n",
       " 1             1                  69\n",
       " 2             2                 141\n",
       " 3             3                 192\n",
       " 4             4                 246\n",
       " 5             5                 241\n",
       " 6             6                 245\n",
       " 7             7                 225\n",
       " 8             8                 189\n",
       " 9             9                 174\n",
       " 10           10                 149,\n",
       "     company_age  FinTech\n",
       " 0             0       11\n",
       " 1             1       69\n",
       " 2             2       68\n",
       " 3             3       66\n",
       " 4             4       62\n",
       " 5             5       43\n",
       " 6             6       19\n",
       " 7             7       20\n",
       " 8             8       18\n",
       " 9             9        8\n",
       " 10           10        2,\n",
       "     company_age  Finance\n",
       " 0             0        3\n",
       " 1             1       11\n",
       " 2             2       17\n",
       " 3             3       40\n",
       " 4             4       37\n",
       " 5             5       43\n",
       " 6             6       63\n",
       " 7             7       98\n",
       " 8             8      114\n",
       " 9             9       93\n",
       " 10           10       97,\n",
       "    company_age  Payments\n",
       " 0            1         6\n",
       " 1            2         3\n",
       " 2            3         4\n",
       " 3            4         8\n",
       " 4            5        10\n",
       " 5            6         9\n",
       " 6            7        11\n",
       " 7            8         7\n",
       " 8            9        13\n",
       " 9           10         5]"
      ]
     },
     "metadata": {},
     "execution_count": 71
    }
   ],
   "source": [
    "df_category_counts = [df_count_all]\n",
    "\n",
    "for _ in categories:\n",
    "    temp = df[df[_] == 1]\n",
    "    df_count = temp['founded_on'].value_counts().sort_index().to_frame()\n",
    "    df_count.reset_index(inplace=True)\n",
    "    df_count.rename(columns={'index': 'company_age', 'founded_on': _},inplace=True)\n",
    "    df_category_counts.append(df_count)\n",
    "\n",
    "df_category_counts"
   ]
  },
  {
   "cell_type": "code",
   "execution_count": 73,
   "metadata": {},
   "outputs": [
    {
     "output_type": "execute_result",
     "data": {
      "text/plain": [
       "    company_age   All  Financial Services  FinTech  Finance  Payments\n",
       "0             0   138                  11       11        3       NaN\n",
       "1             1  1278                  69       69       11       6.0\n",
       "2             2  2539                 141       68       17       3.0\n",
       "3             3  5195                 192       66       40       4.0\n",
       "4             4  5169                 246       62       37       8.0\n",
       "5             5  4680                 241       43       43      10.0\n",
       "6             6  4708                 245       19       63       9.0\n",
       "7             7  4338                 225       20       98      11.0\n",
       "8             8  3500                 189       18      114       7.0\n",
       "9             9  3136                 174        8       93      13.0\n",
       "10           10  2517                 149        2       97       5.0"
      ],
      "text/html": "<div>\n<style scoped>\n    .dataframe tbody tr th:only-of-type {\n        vertical-align: middle;\n    }\n\n    .dataframe tbody tr th {\n        vertical-align: top;\n    }\n\n    .dataframe thead th {\n        text-align: right;\n    }\n</style>\n<table border=\"1\" class=\"dataframe\">\n  <thead>\n    <tr style=\"text-align: right;\">\n      <th></th>\n      <th>company_age</th>\n      <th>All</th>\n      <th>Financial Services</th>\n      <th>FinTech</th>\n      <th>Finance</th>\n      <th>Payments</th>\n    </tr>\n  </thead>\n  <tbody>\n    <tr>\n      <th>0</th>\n      <td>0</td>\n      <td>138</td>\n      <td>11</td>\n      <td>11</td>\n      <td>3</td>\n      <td>NaN</td>\n    </tr>\n    <tr>\n      <th>1</th>\n      <td>1</td>\n      <td>1278</td>\n      <td>69</td>\n      <td>69</td>\n      <td>11</td>\n      <td>6.0</td>\n    </tr>\n    <tr>\n      <th>2</th>\n      <td>2</td>\n      <td>2539</td>\n      <td>141</td>\n      <td>68</td>\n      <td>17</td>\n      <td>3.0</td>\n    </tr>\n    <tr>\n      <th>3</th>\n      <td>3</td>\n      <td>5195</td>\n      <td>192</td>\n      <td>66</td>\n      <td>40</td>\n      <td>4.0</td>\n    </tr>\n    <tr>\n      <th>4</th>\n      <td>4</td>\n      <td>5169</td>\n      <td>246</td>\n      <td>62</td>\n      <td>37</td>\n      <td>8.0</td>\n    </tr>\n    <tr>\n      <th>5</th>\n      <td>5</td>\n      <td>4680</td>\n      <td>241</td>\n      <td>43</td>\n      <td>43</td>\n      <td>10.0</td>\n    </tr>\n    <tr>\n      <th>6</th>\n      <td>6</td>\n      <td>4708</td>\n      <td>245</td>\n      <td>19</td>\n      <td>63</td>\n      <td>9.0</td>\n    </tr>\n    <tr>\n      <th>7</th>\n      <td>7</td>\n      <td>4338</td>\n      <td>225</td>\n      <td>20</td>\n      <td>98</td>\n      <td>11.0</td>\n    </tr>\n    <tr>\n      <th>8</th>\n      <td>8</td>\n      <td>3500</td>\n      <td>189</td>\n      <td>18</td>\n      <td>114</td>\n      <td>7.0</td>\n    </tr>\n    <tr>\n      <th>9</th>\n      <td>9</td>\n      <td>3136</td>\n      <td>174</td>\n      <td>8</td>\n      <td>93</td>\n      <td>13.0</td>\n    </tr>\n    <tr>\n      <th>10</th>\n      <td>10</td>\n      <td>2517</td>\n      <td>149</td>\n      <td>2</td>\n      <td>97</td>\n      <td>5.0</td>\n    </tr>\n  </tbody>\n</table>\n</div>"
     },
     "metadata": {},
     "execution_count": 73
    }
   ],
   "source": [
    "# Merge dataframes together (Join on 'company_age')\n",
    "from functools import reduce\n",
    "\n",
    "df_merged = reduce(lambda left,right: pd.merge(left, right, on='company_age', how='left'),df_category_counts)\n",
    "\n",
    "df_merged"
   ]
  },
  {
   "cell_type": "code",
   "execution_count": 76,
   "metadata": {},
   "outputs": [
    {
     "output_type": "execute_result",
     "data": {
      "text/plain": [
       "    company_age   All  Financial Services  FinTech  Finance  Payments\n",
       "0             0   138                  11       11        3         0\n",
       "1             1  1278                  69       69       11         6\n",
       "2             2  2539                 141       68       17         3\n",
       "3             3  5195                 192       66       40         4\n",
       "4             4  5169                 246       62       37         8\n",
       "5             5  4680                 241       43       43        10\n",
       "6             6  4708                 245       19       63         9\n",
       "7             7  4338                 225       20       98        11\n",
       "8             8  3500                 189       18      114         7\n",
       "9             9  3136                 174        8       93        13\n",
       "10           10  2517                 149        2       97         5"
      ],
      "text/html": "<div>\n<style scoped>\n    .dataframe tbody tr th:only-of-type {\n        vertical-align: middle;\n    }\n\n    .dataframe tbody tr th {\n        vertical-align: top;\n    }\n\n    .dataframe thead th {\n        text-align: right;\n    }\n</style>\n<table border=\"1\" class=\"dataframe\">\n  <thead>\n    <tr style=\"text-align: right;\">\n      <th></th>\n      <th>company_age</th>\n      <th>All</th>\n      <th>Financial Services</th>\n      <th>FinTech</th>\n      <th>Finance</th>\n      <th>Payments</th>\n    </tr>\n  </thead>\n  <tbody>\n    <tr>\n      <th>0</th>\n      <td>0</td>\n      <td>138</td>\n      <td>11</td>\n      <td>11</td>\n      <td>3</td>\n      <td>0</td>\n    </tr>\n    <tr>\n      <th>1</th>\n      <td>1</td>\n      <td>1278</td>\n      <td>69</td>\n      <td>69</td>\n      <td>11</td>\n      <td>6</td>\n    </tr>\n    <tr>\n      <th>2</th>\n      <td>2</td>\n      <td>2539</td>\n      <td>141</td>\n      <td>68</td>\n      <td>17</td>\n      <td>3</td>\n    </tr>\n    <tr>\n      <th>3</th>\n      <td>3</td>\n      <td>5195</td>\n      <td>192</td>\n      <td>66</td>\n      <td>40</td>\n      <td>4</td>\n    </tr>\n    <tr>\n      <th>4</th>\n      <td>4</td>\n      <td>5169</td>\n      <td>246</td>\n      <td>62</td>\n      <td>37</td>\n      <td>8</td>\n    </tr>\n    <tr>\n      <th>5</th>\n      <td>5</td>\n      <td>4680</td>\n      <td>241</td>\n      <td>43</td>\n      <td>43</td>\n      <td>10</td>\n    </tr>\n    <tr>\n      <th>6</th>\n      <td>6</td>\n      <td>4708</td>\n      <td>245</td>\n      <td>19</td>\n      <td>63</td>\n      <td>9</td>\n    </tr>\n    <tr>\n      <th>7</th>\n      <td>7</td>\n      <td>4338</td>\n      <td>225</td>\n      <td>20</td>\n      <td>98</td>\n      <td>11</td>\n    </tr>\n    <tr>\n      <th>8</th>\n      <td>8</td>\n      <td>3500</td>\n      <td>189</td>\n      <td>18</td>\n      <td>114</td>\n      <td>7</td>\n    </tr>\n    <tr>\n      <th>9</th>\n      <td>9</td>\n      <td>3136</td>\n      <td>174</td>\n      <td>8</td>\n      <td>93</td>\n      <td>13</td>\n    </tr>\n    <tr>\n      <th>10</th>\n      <td>10</td>\n      <td>2517</td>\n      <td>149</td>\n      <td>2</td>\n      <td>97</td>\n      <td>5</td>\n    </tr>\n  </tbody>\n</table>\n</div>"
     },
     "metadata": {},
     "execution_count": 76
    }
   ],
   "source": [
    "# Fix the \"Payments\" column\n",
    "df_merged['Payments'] = df_merged['Payments'].fillna(0).astype(int)\n",
    "df_merged"
   ]
  },
  {
   "source": [
    "## No. of Funding Rounds"
   ],
   "cell_type": "markdown",
   "metadata": {}
  },
  {
   "cell_type": "code",
   "execution_count": 1,
   "metadata": {},
   "outputs": [],
   "source": [
    "import pandas as pd\n",
    "df = pd.read_csv(\"../Week3_Onwards/unifed_csv_without_duplicated_company.csv\")"
   ]
  },
  {
   "cell_type": "code",
   "execution_count": 2,
   "metadata": {},
   "outputs": [
    {
     "output_type": "execute_result",
     "data": {
      "text/plain": [
       "0.0        4\n",
       "1.0     6396\n",
       "2.0     2518\n",
       "3.0     1304\n",
       "4.0      780\n",
       "5.0      429\n",
       "6.0      246\n",
       "7.0      151\n",
       "8.0       94\n",
       "9.0       46\n",
       "10.0      22\n",
       "11.0      18\n",
       "12.0       7\n",
       "13.0       5\n",
       "14.0       7\n",
       "15.0       3\n",
       "16.0       2\n",
       "17.0       1\n",
       "19.0       1\n",
       "20.0       1\n",
       "23.0       1\n",
       "Name: num_funding_rounds, dtype: int64"
      ]
     },
     "metadata": {},
     "execution_count": 2
    }
   ],
   "source": [
    "series = df['num_funding_rounds'].value_counts().sort_index()\n",
    "series"
   ]
  },
  {
   "cell_type": "code",
   "execution_count": 3,
   "metadata": {},
   "outputs": [
    {
     "output_type": "execute_result",
     "data": {
      "text/plain": [
       "    index  num_funding_rounds\n",
       "1     1.0                6396\n",
       "2     2.0                2518\n",
       "3     3.0                1304\n",
       "4     4.0                 780\n",
       "5     5.0                 429\n",
       "6     6.0                 246\n",
       "7     7.0                 151\n",
       "8     8.0                  94\n",
       "9     9.0                  46\n",
       "10   10.0                  22\n",
       "11   11.0                  18\n",
       "12   12.0                   7\n",
       "13   13.0                   5\n",
       "14   14.0                   7\n",
       "15   15.0                   3\n",
       "16   16.0                   2\n",
       "17   17.0                   1\n",
       "18   19.0                   1\n",
       "19   20.0                   1\n",
       "20   23.0                   1"
      ],
      "text/html": "<div>\n<style scoped>\n    .dataframe tbody tr th:only-of-type {\n        vertical-align: middle;\n    }\n\n    .dataframe tbody tr th {\n        vertical-align: top;\n    }\n\n    .dataframe thead th {\n        text-align: right;\n    }\n</style>\n<table border=\"1\" class=\"dataframe\">\n  <thead>\n    <tr style=\"text-align: right;\">\n      <th></th>\n      <th>index</th>\n      <th>num_funding_rounds</th>\n    </tr>\n  </thead>\n  <tbody>\n    <tr>\n      <th>1</th>\n      <td>1.0</td>\n      <td>6396</td>\n    </tr>\n    <tr>\n      <th>2</th>\n      <td>2.0</td>\n      <td>2518</td>\n    </tr>\n    <tr>\n      <th>3</th>\n      <td>3.0</td>\n      <td>1304</td>\n    </tr>\n    <tr>\n      <th>4</th>\n      <td>4.0</td>\n      <td>780</td>\n    </tr>\n    <tr>\n      <th>5</th>\n      <td>5.0</td>\n      <td>429</td>\n    </tr>\n    <tr>\n      <th>6</th>\n      <td>6.0</td>\n      <td>246</td>\n    </tr>\n    <tr>\n      <th>7</th>\n      <td>7.0</td>\n      <td>151</td>\n    </tr>\n    <tr>\n      <th>8</th>\n      <td>8.0</td>\n      <td>94</td>\n    </tr>\n    <tr>\n      <th>9</th>\n      <td>9.0</td>\n      <td>46</td>\n    </tr>\n    <tr>\n      <th>10</th>\n      <td>10.0</td>\n      <td>22</td>\n    </tr>\n    <tr>\n      <th>11</th>\n      <td>11.0</td>\n      <td>18</td>\n    </tr>\n    <tr>\n      <th>12</th>\n      <td>12.0</td>\n      <td>7</td>\n    </tr>\n    <tr>\n      <th>13</th>\n      <td>13.0</td>\n      <td>5</td>\n    </tr>\n    <tr>\n      <th>14</th>\n      <td>14.0</td>\n      <td>7</td>\n    </tr>\n    <tr>\n      <th>15</th>\n      <td>15.0</td>\n      <td>3</td>\n    </tr>\n    <tr>\n      <th>16</th>\n      <td>16.0</td>\n      <td>2</td>\n    </tr>\n    <tr>\n      <th>17</th>\n      <td>17.0</td>\n      <td>1</td>\n    </tr>\n    <tr>\n      <th>18</th>\n      <td>19.0</td>\n      <td>1</td>\n    </tr>\n    <tr>\n      <th>19</th>\n      <td>20.0</td>\n      <td>1</td>\n    </tr>\n    <tr>\n      <th>20</th>\n      <td>23.0</td>\n      <td>1</td>\n    </tr>\n  </tbody>\n</table>\n</div>"
     },
     "metadata": {},
     "execution_count": 3
    }
   ],
   "source": [
    "df = series.to_frame()\n",
    "df = series.reset_index().drop(index=0) # Remove no. of rounds == 0\n",
    "df"
   ]
  },
  {
   "cell_type": "code",
   "execution_count": 4,
   "metadata": {},
   "outputs": [
    {
     "output_type": "execute_result",
     "data": {
      "text/plain": [
       "   index  num_funding_rounds\n",
       "1      1                6396\n",
       "2      2                2518\n",
       "3      3                1304\n",
       "4      4                 780\n",
       "5      5                 429\n",
       "6      6                 246\n",
       "7      7                 151\n",
       "8      8                  94\n",
       "9      9                  46\n",
       "10    10                  22\n",
       "11    11                  18\n",
       "12    12                   7\n",
       "13    13                   5\n",
       "14    14                   7\n",
       "15    15                   3\n",
       "16    16                   2\n",
       "17    17                   1\n",
       "18    19                   1\n",
       "19    20                   1\n",
       "20    23                   1"
      ],
      "text/html": "<div>\n<style scoped>\n    .dataframe tbody tr th:only-of-type {\n        vertical-align: middle;\n    }\n\n    .dataframe tbody tr th {\n        vertical-align: top;\n    }\n\n    .dataframe thead th {\n        text-align: right;\n    }\n</style>\n<table border=\"1\" class=\"dataframe\">\n  <thead>\n    <tr style=\"text-align: right;\">\n      <th></th>\n      <th>index</th>\n      <th>num_funding_rounds</th>\n    </tr>\n  </thead>\n  <tbody>\n    <tr>\n      <th>1</th>\n      <td>1</td>\n      <td>6396</td>\n    </tr>\n    <tr>\n      <th>2</th>\n      <td>2</td>\n      <td>2518</td>\n    </tr>\n    <tr>\n      <th>3</th>\n      <td>3</td>\n      <td>1304</td>\n    </tr>\n    <tr>\n      <th>4</th>\n      <td>4</td>\n      <td>780</td>\n    </tr>\n    <tr>\n      <th>5</th>\n      <td>5</td>\n      <td>429</td>\n    </tr>\n    <tr>\n      <th>6</th>\n      <td>6</td>\n      <td>246</td>\n    </tr>\n    <tr>\n      <th>7</th>\n      <td>7</td>\n      <td>151</td>\n    </tr>\n    <tr>\n      <th>8</th>\n      <td>8</td>\n      <td>94</td>\n    </tr>\n    <tr>\n      <th>9</th>\n      <td>9</td>\n      <td>46</td>\n    </tr>\n    <tr>\n      <th>10</th>\n      <td>10</td>\n      <td>22</td>\n    </tr>\n    <tr>\n      <th>11</th>\n      <td>11</td>\n      <td>18</td>\n    </tr>\n    <tr>\n      <th>12</th>\n      <td>12</td>\n      <td>7</td>\n    </tr>\n    <tr>\n      <th>13</th>\n      <td>13</td>\n      <td>5</td>\n    </tr>\n    <tr>\n      <th>14</th>\n      <td>14</td>\n      <td>7</td>\n    </tr>\n    <tr>\n      <th>15</th>\n      <td>15</td>\n      <td>3</td>\n    </tr>\n    <tr>\n      <th>16</th>\n      <td>16</td>\n      <td>2</td>\n    </tr>\n    <tr>\n      <th>17</th>\n      <td>17</td>\n      <td>1</td>\n    </tr>\n    <tr>\n      <th>18</th>\n      <td>19</td>\n      <td>1</td>\n    </tr>\n    <tr>\n      <th>19</th>\n      <td>20</td>\n      <td>1</td>\n    </tr>\n    <tr>\n      <th>20</th>\n      <td>23</td>\n      <td>1</td>\n    </tr>\n  </tbody>\n</table>\n</div>"
     },
     "metadata": {},
     "execution_count": 4
    }
   ],
   "source": [
    "df['index'] = df['index'].astype(int).astype(str)\n",
    "df"
   ]
  },
  {
   "cell_type": "code",
   "execution_count": 5,
   "metadata": {},
   "outputs": [
    {
     "output_type": "execute_result",
     "data": {
      "text/plain": [
       "   x_labels  y_values\n",
       "1         1      6396\n",
       "2         2      2518\n",
       "3         3      1304\n",
       "4         4       780\n",
       "5         5       429\n",
       "6         6       246\n",
       "7         7       151\n",
       "8         8        94\n",
       "9         9        46\n",
       "10       10        22\n",
       "11       11        18\n",
       "12       12         7\n",
       "13       13         5\n",
       "14       14         7\n",
       "15       15         3\n",
       "16       16         2\n",
       "17       17         1\n",
       "18       19         1\n",
       "19       20         1\n",
       "20       23         1"
      ],
      "text/html": "<div>\n<style scoped>\n    .dataframe tbody tr th:only-of-type {\n        vertical-align: middle;\n    }\n\n    .dataframe tbody tr th {\n        vertical-align: top;\n    }\n\n    .dataframe thead th {\n        text-align: right;\n    }\n</style>\n<table border=\"1\" class=\"dataframe\">\n  <thead>\n    <tr style=\"text-align: right;\">\n      <th></th>\n      <th>x_labels</th>\n      <th>y_values</th>\n    </tr>\n  </thead>\n  <tbody>\n    <tr>\n      <th>1</th>\n      <td>1</td>\n      <td>6396</td>\n    </tr>\n    <tr>\n      <th>2</th>\n      <td>2</td>\n      <td>2518</td>\n    </tr>\n    <tr>\n      <th>3</th>\n      <td>3</td>\n      <td>1304</td>\n    </tr>\n    <tr>\n      <th>4</th>\n      <td>4</td>\n      <td>780</td>\n    </tr>\n    <tr>\n      <th>5</th>\n      <td>5</td>\n      <td>429</td>\n    </tr>\n    <tr>\n      <th>6</th>\n      <td>6</td>\n      <td>246</td>\n    </tr>\n    <tr>\n      <th>7</th>\n      <td>7</td>\n      <td>151</td>\n    </tr>\n    <tr>\n      <th>8</th>\n      <td>8</td>\n      <td>94</td>\n    </tr>\n    <tr>\n      <th>9</th>\n      <td>9</td>\n      <td>46</td>\n    </tr>\n    <tr>\n      <th>10</th>\n      <td>10</td>\n      <td>22</td>\n    </tr>\n    <tr>\n      <th>11</th>\n      <td>11</td>\n      <td>18</td>\n    </tr>\n    <tr>\n      <th>12</th>\n      <td>12</td>\n      <td>7</td>\n    </tr>\n    <tr>\n      <th>13</th>\n      <td>13</td>\n      <td>5</td>\n    </tr>\n    <tr>\n      <th>14</th>\n      <td>14</td>\n      <td>7</td>\n    </tr>\n    <tr>\n      <th>15</th>\n      <td>15</td>\n      <td>3</td>\n    </tr>\n    <tr>\n      <th>16</th>\n      <td>16</td>\n      <td>2</td>\n    </tr>\n    <tr>\n      <th>17</th>\n      <td>17</td>\n      <td>1</td>\n    </tr>\n    <tr>\n      <th>18</th>\n      <td>19</td>\n      <td>1</td>\n    </tr>\n    <tr>\n      <th>19</th>\n      <td>20</td>\n      <td>1</td>\n    </tr>\n    <tr>\n      <th>20</th>\n      <td>23</td>\n      <td>1</td>\n    </tr>\n  </tbody>\n</table>\n</div>"
     },
     "metadata": {},
     "execution_count": 5
    }
   ],
   "source": [
    "df.rename(columns={'index': 'x_labels', 'num_funding_rounds': 'y_values'}, inplace=True)\n",
    "df"
   ]
  },
  {
   "cell_type": "code",
   "execution_count": 6,
   "metadata": {},
   "outputs": [
    {
     "output_type": "execute_result",
     "data": {
      "text/plain": [
       "  x_labels  y_values\n",
       "1        1      6396\n",
       "2        2      2518\n",
       "3        3      1304\n",
       "4        4       780\n",
       "5        5       429\n",
       "6        6       246\n",
       "7        7       151\n",
       "8       ≥8       208"
      ],
      "text/html": "<div>\n<style scoped>\n    .dataframe tbody tr th:only-of-type {\n        vertical-align: middle;\n    }\n\n    .dataframe tbody tr th {\n        vertical-align: top;\n    }\n\n    .dataframe thead th {\n        text-align: right;\n    }\n</style>\n<table border=\"1\" class=\"dataframe\">\n  <thead>\n    <tr style=\"text-align: right;\">\n      <th></th>\n      <th>x_labels</th>\n      <th>y_values</th>\n    </tr>\n  </thead>\n  <tbody>\n    <tr>\n      <th>1</th>\n      <td>1</td>\n      <td>6396</td>\n    </tr>\n    <tr>\n      <th>2</th>\n      <td>2</td>\n      <td>2518</td>\n    </tr>\n    <tr>\n      <th>3</th>\n      <td>3</td>\n      <td>1304</td>\n    </tr>\n    <tr>\n      <th>4</th>\n      <td>4</td>\n      <td>780</td>\n    </tr>\n    <tr>\n      <th>5</th>\n      <td>5</td>\n      <td>429</td>\n    </tr>\n    <tr>\n      <th>6</th>\n      <td>6</td>\n      <td>246</td>\n    </tr>\n    <tr>\n      <th>7</th>\n      <td>7</td>\n      <td>151</td>\n    </tr>\n    <tr>\n      <th>8</th>\n      <td>≥8</td>\n      <td>208</td>\n    </tr>\n  </tbody>\n</table>\n</div>"
     },
     "metadata": {},
     "execution_count": 6
    }
   ],
   "source": [
    "# Sum the \"y_values\" starting from row 8 to 20\n",
    "# Also change the x_labels of row 8 to \"8+\"\n",
    "df.iloc[7,1] = df.iloc[7:, 1].sum()\n",
    "df.iloc[7,0] = '≥8'\n",
    "df = df[:8]    # Only take the first 8 rows\n",
    "df"
   ]
  },
  {
   "cell_type": "code",
   "execution_count": 7,
   "metadata": {},
   "outputs": [
    {
     "output_type": "execute_result",
     "data": {
      "text/plain": [
       "'x_labels,y_values\\r\\n1,6396\\r\\n2,2518\\r\\n3,1304\\r\\n4,780\\r\\n5,429\\r\\n6,246\\r\\n7,151\\r\\n≥8,208\\r\\n'"
      ]
     },
     "metadata": {},
     "execution_count": 7
    }
   ],
   "source": [
    "df.to_csv(index=False)"
   ]
  },
  {
   "source": [
    "## No. of Investments by Top 20 Investors"
   ],
   "cell_type": "markdown",
   "metadata": {}
  },
  {
   "cell_type": "code",
   "execution_count": 11,
   "metadata": {},
   "outputs": [
    {
     "output_type": "execute_result",
     "data": {
      "text/plain": [
       "                                   uuid              name          type  \\\n",
       "0  bf4d7b0e-b34d-2fd8-d292-6049c4f7efc7              Zoho  organization   \n",
       "1  f4d5ab44-058b-298b-ea81-380e6e9a8eec   Omidyar Network  organization   \n",
       "2  df662812-7f97-0b43-9d3e-12f64f504fbb          Facebook  organization   \n",
       "3  a01b8d46-d311-3333-7c34-aa3ae9c03f22   Mark Zuckerberg        person   \n",
       "4  084aaa07-0795-1fe8-9c46-98bbeb02cd64  Dustin Moskovitz        person   \n",
       "\n",
       "              roles        domain country_code      region           city  \\\n",
       "0  investor,company      zoho.com          USA  California     Pleasanton   \n",
       "1          investor   omidyar.com          USA  California   Redwood City   \n",
       "2  investor,company  facebook.com          USA  California     Menlo Park   \n",
       "3          investor           NaN          USA  California      Palo Alto   \n",
       "4          investor           NaN          USA  California  San Francisco   \n",
       "\n",
       "             investor_types  investment_count  total_funding_usd founded_on  \\\n",
       "0                       NaN               6.0                NaN  15/9/1996   \n",
       "1  family_investment_office             315.0                NaN   1/1/2004   \n",
       "2                       NaN              32.0       1.612282e+10   4/2/2004   \n",
       "3                     angel               8.0                NaN        NaN   \n",
       "4                     angel              13.0                NaN        NaN   \n",
       "\n",
       "  closed_on  \n",
       "0       NaN  \n",
       "1       NaN  \n",
       "2       NaN  \n",
       "3       NaN  \n",
       "4       NaN  "
      ],
      "text/html": "<div>\n<style scoped>\n    .dataframe tbody tr th:only-of-type {\n        vertical-align: middle;\n    }\n\n    .dataframe tbody tr th {\n        vertical-align: top;\n    }\n\n    .dataframe thead th {\n        text-align: right;\n    }\n</style>\n<table border=\"1\" class=\"dataframe\">\n  <thead>\n    <tr style=\"text-align: right;\">\n      <th></th>\n      <th>uuid</th>\n      <th>name</th>\n      <th>type</th>\n      <th>roles</th>\n      <th>domain</th>\n      <th>country_code</th>\n      <th>region</th>\n      <th>city</th>\n      <th>investor_types</th>\n      <th>investment_count</th>\n      <th>total_funding_usd</th>\n      <th>founded_on</th>\n      <th>closed_on</th>\n    </tr>\n  </thead>\n  <tbody>\n    <tr>\n      <th>0</th>\n      <td>bf4d7b0e-b34d-2fd8-d292-6049c4f7efc7</td>\n      <td>Zoho</td>\n      <td>organization</td>\n      <td>investor,company</td>\n      <td>zoho.com</td>\n      <td>USA</td>\n      <td>California</td>\n      <td>Pleasanton</td>\n      <td>NaN</td>\n      <td>6.0</td>\n      <td>NaN</td>\n      <td>15/9/1996</td>\n      <td>NaN</td>\n    </tr>\n    <tr>\n      <th>1</th>\n      <td>f4d5ab44-058b-298b-ea81-380e6e9a8eec</td>\n      <td>Omidyar Network</td>\n      <td>organization</td>\n      <td>investor</td>\n      <td>omidyar.com</td>\n      <td>USA</td>\n      <td>California</td>\n      <td>Redwood City</td>\n      <td>family_investment_office</td>\n      <td>315.0</td>\n      <td>NaN</td>\n      <td>1/1/2004</td>\n      <td>NaN</td>\n    </tr>\n    <tr>\n      <th>2</th>\n      <td>df662812-7f97-0b43-9d3e-12f64f504fbb</td>\n      <td>Facebook</td>\n      <td>organization</td>\n      <td>investor,company</td>\n      <td>facebook.com</td>\n      <td>USA</td>\n      <td>California</td>\n      <td>Menlo Park</td>\n      <td>NaN</td>\n      <td>32.0</td>\n      <td>1.612282e+10</td>\n      <td>4/2/2004</td>\n      <td>NaN</td>\n    </tr>\n    <tr>\n      <th>3</th>\n      <td>a01b8d46-d311-3333-7c34-aa3ae9c03f22</td>\n      <td>Mark Zuckerberg</td>\n      <td>person</td>\n      <td>investor</td>\n      <td>NaN</td>\n      <td>USA</td>\n      <td>California</td>\n      <td>Palo Alto</td>\n      <td>angel</td>\n      <td>8.0</td>\n      <td>NaN</td>\n      <td>NaN</td>\n      <td>NaN</td>\n    </tr>\n    <tr>\n      <th>4</th>\n      <td>084aaa07-0795-1fe8-9c46-98bbeb02cd64</td>\n      <td>Dustin Moskovitz</td>\n      <td>person</td>\n      <td>investor</td>\n      <td>NaN</td>\n      <td>USA</td>\n      <td>California</td>\n      <td>San Francisco</td>\n      <td>angel</td>\n      <td>13.0</td>\n      <td>NaN</td>\n      <td>NaN</td>\n      <td>NaN</td>\n    </tr>\n  </tbody>\n</table>\n</div>"
     },
     "metadata": {},
     "execution_count": 11
    }
   ],
   "source": [
    "import pandas as pd\n",
    "df = pd.read_csv(\"../bulk_export_processed/investors_processed.csv\")\n",
    "df.head()"
   ]
  },
  {
   "cell_type": "code",
   "execution_count": 12,
   "metadata": {},
   "outputs": [
    {
     "output_type": "execute_result",
     "data": {
      "text/plain": [
       "                                                     name  investment_count\n",
       "0                                                    Zoho               6.0\n",
       "1                                         Omidyar Network             315.0\n",
       "2                                                Facebook              32.0\n",
       "3                                         Mark Zuckerberg               8.0\n",
       "4                                        Dustin Moskovitz              13.0\n",
       "...                                                   ...               ...\n",
       "168186                                        Sara Wright               NaN\n",
       "168187  Shanghai Yongquan Yixin Investment Development...               1.0\n",
       "168188                                     Ignite Capital               NaN\n",
       "168189                                S&C Messina Capital               NaN\n",
       "168190                                  Line of Credit.AI               NaN\n",
       "\n",
       "[168191 rows x 2 columns]"
      ],
      "text/html": "<div>\n<style scoped>\n    .dataframe tbody tr th:only-of-type {\n        vertical-align: middle;\n    }\n\n    .dataframe tbody tr th {\n        vertical-align: top;\n    }\n\n    .dataframe thead th {\n        text-align: right;\n    }\n</style>\n<table border=\"1\" class=\"dataframe\">\n  <thead>\n    <tr style=\"text-align: right;\">\n      <th></th>\n      <th>name</th>\n      <th>investment_count</th>\n    </tr>\n  </thead>\n  <tbody>\n    <tr>\n      <th>0</th>\n      <td>Zoho</td>\n      <td>6.0</td>\n    </tr>\n    <tr>\n      <th>1</th>\n      <td>Omidyar Network</td>\n      <td>315.0</td>\n    </tr>\n    <tr>\n      <th>2</th>\n      <td>Facebook</td>\n      <td>32.0</td>\n    </tr>\n    <tr>\n      <th>3</th>\n      <td>Mark Zuckerberg</td>\n      <td>8.0</td>\n    </tr>\n    <tr>\n      <th>4</th>\n      <td>Dustin Moskovitz</td>\n      <td>13.0</td>\n    </tr>\n    <tr>\n      <th>...</th>\n      <td>...</td>\n      <td>...</td>\n    </tr>\n    <tr>\n      <th>168186</th>\n      <td>Sara Wright</td>\n      <td>NaN</td>\n    </tr>\n    <tr>\n      <th>168187</th>\n      <td>Shanghai Yongquan Yixin Investment Development...</td>\n      <td>1.0</td>\n    </tr>\n    <tr>\n      <th>168188</th>\n      <td>Ignite Capital</td>\n      <td>NaN</td>\n    </tr>\n    <tr>\n      <th>168189</th>\n      <td>S&amp;C Messina Capital</td>\n      <td>NaN</td>\n    </tr>\n    <tr>\n      <th>168190</th>\n      <td>Line of Credit.AI</td>\n      <td>NaN</td>\n    </tr>\n  </tbody>\n</table>\n<p>168191 rows × 2 columns</p>\n</div>"
     },
     "metadata": {},
     "execution_count": 12
    }
   ],
   "source": [
    "# Drop unnecessary columns\n",
    "keep_col = ['name', 'investment_count']\n",
    "df = df[keep_col]\n",
    "df"
   ]
  },
  {
   "cell_type": "code",
   "execution_count": 13,
   "metadata": {},
   "outputs": [
    {
     "output_type": "execute_result",
     "data": {
      "text/plain": [
       "                             name  investment_count\n",
       "1                 Omidyar Network             315.0\n",
       "10               Trinity Ventures             444.0\n",
       "11                          Accel            1499.0\n",
       "12      Meritech Capital Partners             279.0\n",
       "26               Mission Ventures             101.0\n",
       "...                           ...               ...\n",
       "125169                  Threshold             849.0\n",
       "126312                    Upscale             110.0\n",
       "128176      Pegasus Tech Ventures             210.0\n",
       "131294               WRVI Capital             104.0\n",
       "149823              FastTrackTech             106.0\n",
       "\n",
       "[763 rows x 2 columns]"
      ],
      "text/html": "<div>\n<style scoped>\n    .dataframe tbody tr th:only-of-type {\n        vertical-align: middle;\n    }\n\n    .dataframe tbody tr th {\n        vertical-align: top;\n    }\n\n    .dataframe thead th {\n        text-align: right;\n    }\n</style>\n<table border=\"1\" class=\"dataframe\">\n  <thead>\n    <tr style=\"text-align: right;\">\n      <th></th>\n      <th>name</th>\n      <th>investment_count</th>\n    </tr>\n  </thead>\n  <tbody>\n    <tr>\n      <th>1</th>\n      <td>Omidyar Network</td>\n      <td>315.0</td>\n    </tr>\n    <tr>\n      <th>10</th>\n      <td>Trinity Ventures</td>\n      <td>444.0</td>\n    </tr>\n    <tr>\n      <th>11</th>\n      <td>Accel</td>\n      <td>1499.0</td>\n    </tr>\n    <tr>\n      <th>12</th>\n      <td>Meritech Capital Partners</td>\n      <td>279.0</td>\n    </tr>\n    <tr>\n      <th>26</th>\n      <td>Mission Ventures</td>\n      <td>101.0</td>\n    </tr>\n    <tr>\n      <th>...</th>\n      <td>...</td>\n      <td>...</td>\n    </tr>\n    <tr>\n      <th>125169</th>\n      <td>Threshold</td>\n      <td>849.0</td>\n    </tr>\n    <tr>\n      <th>126312</th>\n      <td>Upscale</td>\n      <td>110.0</td>\n    </tr>\n    <tr>\n      <th>128176</th>\n      <td>Pegasus Tech Ventures</td>\n      <td>210.0</td>\n    </tr>\n    <tr>\n      <th>131294</th>\n      <td>WRVI Capital</td>\n      <td>104.0</td>\n    </tr>\n    <tr>\n      <th>149823</th>\n      <td>FastTrackTech</td>\n      <td>106.0</td>\n    </tr>\n  </tbody>\n</table>\n<p>763 rows × 2 columns</p>\n</div>"
     },
     "metadata": {},
     "execution_count": 13
    }
   ],
   "source": [
    "# Drop NaN and filter out investors with investment_count < 100\n",
    "df.dropna(axis=0, how='any', subset=['investment_count'], inplace=True)\n",
    "df.drop(df[df['investment_count'] < 100].index, inplace=True)\n",
    "df"
   ]
  },
  {
   "cell_type": "code",
   "execution_count": 14,
   "metadata": {},
   "outputs": [
    {
     "output_type": "execute_result",
     "data": {
      "text/plain": [
       "                                       name  investment_count\n",
       "27418  EASME - EU Executive Agency for SMEs              3715\n",
       "2270                           Y Combinator              3272\n",
       "51976                             Techstars              3093\n",
       "15698                          500 Startups              2427\n",
       "724               New Enterprise Associates              1874\n",
       "13792                                  SOSV              1830\n",
       "11                                    Accel              1499\n",
       "45                          Sequoia Capital              1427\n",
       "1774                          Intel Capital              1418\n",
       "14705                         MassChallenge              1342\n",
       "1753                            IDG Capital              1238\n",
       "53684                          Venture Kick              1231\n",
       "83                          Kleiner Perkins              1213\n",
       "21639                                 Wayra              1158\n",
       "20250                             Crowdcube              1133\n",
       "16463                         plug and play              1072\n",
       "84                Bessemer Venture Partners              1010\n",
       "9837                                NYSERDA              1004\n",
       "10111                              SV Angel               932\n",
       "13301         Right Side Capital Management               914"
      ],
      "text/html": "<div>\n<style scoped>\n    .dataframe tbody tr th:only-of-type {\n        vertical-align: middle;\n    }\n\n    .dataframe tbody tr th {\n        vertical-align: top;\n    }\n\n    .dataframe thead th {\n        text-align: right;\n    }\n</style>\n<table border=\"1\" class=\"dataframe\">\n  <thead>\n    <tr style=\"text-align: right;\">\n      <th></th>\n      <th>name</th>\n      <th>investment_count</th>\n    </tr>\n  </thead>\n  <tbody>\n    <tr>\n      <th>27418</th>\n      <td>EASME - EU Executive Agency for SMEs</td>\n      <td>3715</td>\n    </tr>\n    <tr>\n      <th>2270</th>\n      <td>Y Combinator</td>\n      <td>3272</td>\n    </tr>\n    <tr>\n      <th>51976</th>\n      <td>Techstars</td>\n      <td>3093</td>\n    </tr>\n    <tr>\n      <th>15698</th>\n      <td>500 Startups</td>\n      <td>2427</td>\n    </tr>\n    <tr>\n      <th>724</th>\n      <td>New Enterprise Associates</td>\n      <td>1874</td>\n    </tr>\n    <tr>\n      <th>13792</th>\n      <td>SOSV</td>\n      <td>1830</td>\n    </tr>\n    <tr>\n      <th>11</th>\n      <td>Accel</td>\n      <td>1499</td>\n    </tr>\n    <tr>\n      <th>45</th>\n      <td>Sequoia Capital</td>\n      <td>1427</td>\n    </tr>\n    <tr>\n      <th>1774</th>\n      <td>Intel Capital</td>\n      <td>1418</td>\n    </tr>\n    <tr>\n      <th>14705</th>\n      <td>MassChallenge</td>\n      <td>1342</td>\n    </tr>\n    <tr>\n      <th>1753</th>\n      <td>IDG Capital</td>\n      <td>1238</td>\n    </tr>\n    <tr>\n      <th>53684</th>\n      <td>Venture Kick</td>\n      <td>1231</td>\n    </tr>\n    <tr>\n      <th>83</th>\n      <td>Kleiner Perkins</td>\n      <td>1213</td>\n    </tr>\n    <tr>\n      <th>21639</th>\n      <td>Wayra</td>\n      <td>1158</td>\n    </tr>\n    <tr>\n      <th>20250</th>\n      <td>Crowdcube</td>\n      <td>1133</td>\n    </tr>\n    <tr>\n      <th>16463</th>\n      <td>plug and play</td>\n      <td>1072</td>\n    </tr>\n    <tr>\n      <th>84</th>\n      <td>Bessemer Venture Partners</td>\n      <td>1010</td>\n    </tr>\n    <tr>\n      <th>9837</th>\n      <td>NYSERDA</td>\n      <td>1004</td>\n    </tr>\n    <tr>\n      <th>10111</th>\n      <td>SV Angel</td>\n      <td>932</td>\n    </tr>\n    <tr>\n      <th>13301</th>\n      <td>Right Side Capital Management</td>\n      <td>914</td>\n    </tr>\n  </tbody>\n</table>\n</div>"
     },
     "metadata": {},
     "execution_count": 14
    }
   ],
   "source": [
    "# Cast `investment_count` to int & sort in descending order\n",
    "df['investment_count'] = df['investment_count'].astype(int)\n",
    "df.sort_values(by='investment_count', axis=0, ascending=False, inplace=True)\n",
    "\n",
    "# Get the first 20 rows (ie. top 20 investors)\n",
    "df = df[:20]\n",
    "\n",
    "df"
   ]
  },
  {
   "cell_type": "code",
   "execution_count": 15,
   "metadata": {},
   "outputs": [
    {
     "output_type": "execute_result",
     "data": {
      "text/plain": [
       "                                    name  investment_count\n",
       "0   EASME - EU Executive Agency for SMEs              3715\n",
       "1                           Y Combinator              3272\n",
       "2                              Techstars              3093\n",
       "3                           500 Startups              2427\n",
       "4              New Enterprise Associates              1874\n",
       "5                                   SOSV              1830\n",
       "6                                  Accel              1499\n",
       "7                        Sequoia Capital              1427\n",
       "8                          Intel Capital              1418\n",
       "9                          MassChallenge              1342\n",
       "10                           IDG Capital              1238\n",
       "11                          Venture Kick              1231\n",
       "12                       Kleiner Perkins              1213\n",
       "13                                 Wayra              1158\n",
       "14                             Crowdcube              1133\n",
       "15                         plug and play              1072\n",
       "16             Bessemer Venture Partners              1010\n",
       "17                               NYSERDA              1004\n",
       "18                              SV Angel               932\n",
       "19         Right Side Capital Management               914"
      ],
      "text/html": "<div>\n<style scoped>\n    .dataframe tbody tr th:only-of-type {\n        vertical-align: middle;\n    }\n\n    .dataframe tbody tr th {\n        vertical-align: top;\n    }\n\n    .dataframe thead th {\n        text-align: right;\n    }\n</style>\n<table border=\"1\" class=\"dataframe\">\n  <thead>\n    <tr style=\"text-align: right;\">\n      <th></th>\n      <th>name</th>\n      <th>investment_count</th>\n    </tr>\n  </thead>\n  <tbody>\n    <tr>\n      <th>0</th>\n      <td>EASME - EU Executive Agency for SMEs</td>\n      <td>3715</td>\n    </tr>\n    <tr>\n      <th>1</th>\n      <td>Y Combinator</td>\n      <td>3272</td>\n    </tr>\n    <tr>\n      <th>2</th>\n      <td>Techstars</td>\n      <td>3093</td>\n    </tr>\n    <tr>\n      <th>3</th>\n      <td>500 Startups</td>\n      <td>2427</td>\n    </tr>\n    <tr>\n      <th>4</th>\n      <td>New Enterprise Associates</td>\n      <td>1874</td>\n    </tr>\n    <tr>\n      <th>5</th>\n      <td>SOSV</td>\n      <td>1830</td>\n    </tr>\n    <tr>\n      <th>6</th>\n      <td>Accel</td>\n      <td>1499</td>\n    </tr>\n    <tr>\n      <th>7</th>\n      <td>Sequoia Capital</td>\n      <td>1427</td>\n    </tr>\n    <tr>\n      <th>8</th>\n      <td>Intel Capital</td>\n      <td>1418</td>\n    </tr>\n    <tr>\n      <th>9</th>\n      <td>MassChallenge</td>\n      <td>1342</td>\n    </tr>\n    <tr>\n      <th>10</th>\n      <td>IDG Capital</td>\n      <td>1238</td>\n    </tr>\n    <tr>\n      <th>11</th>\n      <td>Venture Kick</td>\n      <td>1231</td>\n    </tr>\n    <tr>\n      <th>12</th>\n      <td>Kleiner Perkins</td>\n      <td>1213</td>\n    </tr>\n    <tr>\n      <th>13</th>\n      <td>Wayra</td>\n      <td>1158</td>\n    </tr>\n    <tr>\n      <th>14</th>\n      <td>Crowdcube</td>\n      <td>1133</td>\n    </tr>\n    <tr>\n      <th>15</th>\n      <td>plug and play</td>\n      <td>1072</td>\n    </tr>\n    <tr>\n      <th>16</th>\n      <td>Bessemer Venture Partners</td>\n      <td>1010</td>\n    </tr>\n    <tr>\n      <th>17</th>\n      <td>NYSERDA</td>\n      <td>1004</td>\n    </tr>\n    <tr>\n      <th>18</th>\n      <td>SV Angel</td>\n      <td>932</td>\n    </tr>\n    <tr>\n      <th>19</th>\n      <td>Right Side Capital Management</td>\n      <td>914</td>\n    </tr>\n  </tbody>\n</table>\n</div>"
     },
     "metadata": {},
     "execution_count": 15
    }
   ],
   "source": [
    "# Reset the index\n",
    "df.reset_index(inplace=True)\n",
    "df.drop(axis=1, labels='index', inplace=True)\n",
    "df"
   ]
  },
  {
   "cell_type": "code",
   "execution_count": 16,
   "metadata": {},
   "outputs": [
    {
     "output_type": "stream",
     "name": "stdout",
     "text": [
      "name,investment_count\nEASME - EU Executive Agency for SMEs,3715\nY Combinator,3272\nTechstars,3093\n500 Startups,2427\nNew Enterprise Associates,1874\nSOSV,1830\nAccel,1499\nSequoia Capital,1427\nIntel Capital,1418\nMassChallenge,1342\nIDG Capital,1238\nVenture Kick,1231\nKleiner Perkins,1213\nWayra,1158\nCrowdcube,1133\nplug and play,1072\nBessemer Venture Partners,1010\nNYSERDA,1004\nSV Angel,932\nRight Side Capital Management,914\n\n"
     ]
    }
   ],
   "source": [
    "print(df.to_csv(index=False))"
   ]
  },
  {
   "source": [
    "## Acquisition Price"
   ],
   "cell_type": "markdown",
   "metadata": {}
  },
  {
   "cell_type": "code",
   "execution_count": 27,
   "metadata": {},
   "outputs": [],
   "source": [
    "import pandas as pd\n",
    "df = pd.read_csv(\"../Week3_Onwards/unifed_csv_without_duplicated_company.csv\")"
   ]
  },
  {
   "cell_type": "code",
   "execution_count": 28,
   "metadata": {},
   "outputs": [
    {
     "output_type": "execute_result",
     "data": {
      "text/plain": [
       "0        0.0\n",
       "1        0.0\n",
       "2        0.0\n",
       "3        0.0\n",
       "4        0.0\n",
       "        ... \n",
       "37193    0.0\n",
       "37194    0.0\n",
       "37195    0.0\n",
       "37196    0.0\n",
       "37197    0.0\n",
       "Name: acquisitions_price_usd, Length: 37198, dtype: float64"
      ]
     },
     "metadata": {},
     "execution_count": 28
    }
   ],
   "source": [
    "series = df['acquisitions_price_usd']\n",
    "series"
   ]
  },
  {
   "cell_type": "code",
   "execution_count": 30,
   "metadata": {},
   "outputs": [
    {
     "output_type": "execute_result",
     "data": {
      "text/plain": [
       "       acquisitions_price_usd\n",
       "0                         0.0\n",
       "1                         0.0\n",
       "2                         0.0\n",
       "3                         0.0\n",
       "4                         0.0\n",
       "...                       ...\n",
       "37193                     0.0\n",
       "37194                     0.0\n",
       "37195                     0.0\n",
       "37196                     0.0\n",
       "37197                     0.0\n",
       "\n",
       "[37198 rows x 1 columns]"
      ],
      "text/html": "<div>\n<style scoped>\n    .dataframe tbody tr th:only-of-type {\n        vertical-align: middle;\n    }\n\n    .dataframe tbody tr th {\n        vertical-align: top;\n    }\n\n    .dataframe thead th {\n        text-align: right;\n    }\n</style>\n<table border=\"1\" class=\"dataframe\">\n  <thead>\n    <tr style=\"text-align: right;\">\n      <th></th>\n      <th>acquisitions_price_usd</th>\n    </tr>\n  </thead>\n  <tbody>\n    <tr>\n      <th>0</th>\n      <td>0.0</td>\n    </tr>\n    <tr>\n      <th>1</th>\n      <td>0.0</td>\n    </tr>\n    <tr>\n      <th>2</th>\n      <td>0.0</td>\n    </tr>\n    <tr>\n      <th>3</th>\n      <td>0.0</td>\n    </tr>\n    <tr>\n      <th>4</th>\n      <td>0.0</td>\n    </tr>\n    <tr>\n      <th>...</th>\n      <td>...</td>\n    </tr>\n    <tr>\n      <th>37193</th>\n      <td>0.0</td>\n    </tr>\n    <tr>\n      <th>37194</th>\n      <td>0.0</td>\n    </tr>\n    <tr>\n      <th>37195</th>\n      <td>0.0</td>\n    </tr>\n    <tr>\n      <th>37196</th>\n      <td>0.0</td>\n    </tr>\n    <tr>\n      <th>37197</th>\n      <td>0.0</td>\n    </tr>\n  </tbody>\n</table>\n<p>37198 rows × 1 columns</p>\n</div>"
     },
     "metadata": {},
     "execution_count": 30
    }
   ],
   "source": [
    "df = series.to_frame()\n",
    "df"
   ]
  },
  {
   "cell_type": "code",
   "execution_count": 31,
   "metadata": {},
   "outputs": [
    {
     "output_type": "execute_result",
     "data": {
      "text/plain": [
       "       x_values\n",
       "0           0.0\n",
       "1           0.0\n",
       "2           0.0\n",
       "3           0.0\n",
       "4           0.0\n",
       "...         ...\n",
       "37193       0.0\n",
       "37194       0.0\n",
       "37195       0.0\n",
       "37196       0.0\n",
       "37197       0.0\n",
       "\n",
       "[37198 rows x 1 columns]"
      ],
      "text/html": "<div>\n<style scoped>\n    .dataframe tbody tr th:only-of-type {\n        vertical-align: middle;\n    }\n\n    .dataframe tbody tr th {\n        vertical-align: top;\n    }\n\n    .dataframe thead th {\n        text-align: right;\n    }\n</style>\n<table border=\"1\" class=\"dataframe\">\n  <thead>\n    <tr style=\"text-align: right;\">\n      <th></th>\n      <th>x_values</th>\n    </tr>\n  </thead>\n  <tbody>\n    <tr>\n      <th>0</th>\n      <td>0.0</td>\n    </tr>\n    <tr>\n      <th>1</th>\n      <td>0.0</td>\n    </tr>\n    <tr>\n      <th>2</th>\n      <td>0.0</td>\n    </tr>\n    <tr>\n      <th>3</th>\n      <td>0.0</td>\n    </tr>\n    <tr>\n      <th>4</th>\n      <td>0.0</td>\n    </tr>\n    <tr>\n      <th>...</th>\n      <td>...</td>\n    </tr>\n    <tr>\n      <th>37193</th>\n      <td>0.0</td>\n    </tr>\n    <tr>\n      <th>37194</th>\n      <td>0.0</td>\n    </tr>\n    <tr>\n      <th>37195</th>\n      <td>0.0</td>\n    </tr>\n    <tr>\n      <th>37196</th>\n      <td>0.0</td>\n    </tr>\n    <tr>\n      <th>37197</th>\n      <td>0.0</td>\n    </tr>\n  </tbody>\n</table>\n<p>37198 rows × 1 columns</p>\n</div>"
     },
     "metadata": {},
     "execution_count": 31
    }
   ],
   "source": [
    "df.rename(columns={'acquisitions_price_usd': 'x_values'}, inplace=True)\n",
    "df"
   ]
  },
  {
   "cell_type": "code",
   "execution_count": 32,
   "metadata": {},
   "outputs": [
    {
     "output_type": "execute_result",
     "data": {
      "text/plain": [
       "0\\n0.0\\n0.0\\n0.0\\n0.0\\n0.0\\n0.0\\n0.0\\n0.0\\n0.0\\n0.0\\n0.0\\n0.0\\n0.0\\n0.0\\n0.0\\n0.0\\n0.0\\n0.0\\n0.0\\n0.0\\n0.0\\n0.0\\n0.0\\n0.0\\n0.0\\n0.0\\n0.0\\n0.0\\n0.0\\n0.0\\n0.0\\n0.0\\n0.0\\n0.0\\n0.0\\n0.0\\n0.0\\n0.0\\n0.0\\n0.0\\n0.0\\n0.0\\n0.0\\n0.0\\n0.0\\n0.0\\n0.0\\n0.0\\n0.0\\n0.0\\n0.0\\n0.0\\n0.0\\n0.0\\n0.0\\n0.0\\n0.0\\n0.0\\n0.0\\n0.0\\n0.0\\n0.0\\n0.0\\n0.0\\n0.0\\n0.0\\n532152690.379562\\n0.0\\n0.0\\n0.0\\n0.0\\n0.0\\n0.0\\n0.0\\n0.0\\n0.0\\n0.0\\n0.0\\n0.0\\n0.0\\n0.0\\n0.0\\n0.0\\n0.0\\n0.0\\n0.0\\n0.0\\n0.0\\n0.0\\n0.0\\n0.0\\n0.0\\n0.0\\n0.0\\n0.0\\n0.0\\n0.0\\n0.0\\n0.0\\n0.0\\n0.0\\n0.0\\n0.0\\n0.0\\n0.0\\n0.0\\n0.0\\n0.0\\n0.0\\n0.0\\n0.0\\n0.0\\n0.0\\n0.0\\n0.0\\n0.0\\n0.0\\n0.0\\n0.0\\n0.0\\n0.0\\n0.0\\n0.0\\n0.0\\n0.0\\n0.0\\n0.0\\n0.0\\n0.0\\n0.0\\n0.0\\n0.0\\n0.0\\n532152690.379562\\n0.0\\n0.0\\n0.0\\n0.0\\n0.0\\n0.0\\n0.0\\n0.0\\n532152690.379562\\n0.0\\n0.0\\n0.0\\n0.0\\n0.0\\n0.0\\n0.0\\n0.0\\n0.0\\n0.0\\n0.0\\n0.0\\n0.0\\n0.0\\n0.0\\n0.0\\n0.0\\n0.0\\n0.0\\n0.0\\n0.0\\n0.0\\n0.0\\n0.0\\n0.0\\n0.0\\n0.0\\n0.0\\n0.0\\n0.0\\n0.0\\n0.0\\n0.0\\n0.0\\n0.0\\n0.0\\n0.0\\n0.0\\n0.0\\n0.0\\n0.0\\n0.0\\n0.0\\n0.0\\n0.0\\n0.0\\n0.0\\n0.0\\n0.0\\n0.0\\n0.0\\n0.0\\n0.0\\n0.0\\n0.0\\n0.0\\n0.0\\n0.0\\n0.0\\n0.0\\n0.0\\n0.0\\n0.0\\n0.0\\n0.0\\n0.0\\n0.0\\n0.0\\n0.0\\n0.0\\n532152690.379562\\n0.0\\n0.0\\n0.0\\n0.0\\n0.0\\n0.0\\n0.0\\n0.0\\n532152690.379562\\n0.0\\n0.0\\n532152690.379562\\n0.0\\n0.0\\n0.0\\n0.0\\n0.0\\n0.0\\n0.0\\n0.0\\n0.0\\n0.0\\n0.0\\n0.0\\n532152690.379562\\n0.0\\n0.0\\n0.0\\n0.0\\n0.0\\n0.0\\n0.0\\n0.0\\n0.0\\n0.0\\n0.0\\n0.0\\n0.0\\n0.0\\n0.0\\n0.0\\n0.0\\n0.0\\n0.0\\n0.0\\n0.0\\n0.0\\n0.0\\n0.0\\n0.0\\n0.0\\n0.0\\n0.0\\n0.0\\n0.0\\n0.0\\n0.0\\n0.0\\n532152690.379562\\n0.0\\n0.0\\n0.0\\n0.0\\n0.0\\n0.0\\n0.0\\n0.0\\n0.0\\n0.0\\n0.0\\n0.0\\n0.0\\n0.0\\n0.0\\n0.0\\n0.0\\n0.0\\n0.0\\n0.0\\n0.0\\n0.0\\n0.0\\n0.0\\n0.0\\n0.0\\n0.0\\n0.0\\n0.0\\n0.0\\n0.0\\n0.0\\n0.0\\n0.0\\n0.0\\n0.0\\n0.0\\n0.0\\n0.0\\n0.0\\n0.0\\n0.0\\n0.0\\n0.0\\n0.0\\n0.0\\n0.0\\n0.0\\n0.0\\n0.0\\n0.0\\n0.0\\n0.0\\n0.0\\n0.0\\n0.0\\n0.0\\n0.0\\n0.0\\n0.0\\n0.0\\n0.0\\n0.0\\n0.0\\n0.0\\n0.0\\n0.0\\n0.0\\n0.0\\n0.0\\n0.0\\n0.0\\n0.0\\n0.0\\n0.0\\n0.0\\n0.0\\n0.0\\n0.0\\n0.0\\n0.0\\n0.0\\n0.0\\n0.0\\n0.0\\n0.0\\n0.0\\n0.0\\n0.0\\n0.0\\n0.0\\n0.0\\n0.0\\n0.0\\n0.0\\n0.0\\n0.0\\n0.0\\n0.0\\n0.0\\n0.0\\n0.0\\n0.0\\n0.0\\n0.0\\n0.0\\n0.0\\n0.0\\n0.0\\n0.0\\n0.0\\n0.0\\n0.0\\n0.0\\n0.0\\n0.0\\n0.0\\n532152690.379562\\n0.0\\n0.0\\n0.0\\n0.0\\n0.0\\n0.0\\n0.0\\n0.0\\n0.0\\n0.0\\n0.0\\n0.0\\n0.0\\n0.0\\n0.0\\n0.0\\n532152690.379562\\n0.0\\n0.0\\n0.0\\n0.0\\n0.0\\n0.0\\n0.0\\n0.0\\n0.0\\n0.0\\n0.0\\n0.0\\n532152690.379562\\n0.0\\n0.0\\n0.0\\n0.0\\n0.0\\n0.0\\n0.0\\n0.0\\n0.0\\n0.0\\n0.0\\n0.0\\n0.0\\n0.0\\n0.0\\n0.0\\n0.0\\n0.0\\n0.0\\n0.0\\n0.0\\n0.0\\n532152690.379562\\n0.0\\n0.0\\n532152690.379562\\n0.0\\n0.0\\n532152690.379562\\n0.0\\n0.0\\n0.0\\n532152690.379562\\n0.0\\n0.0\\n532152690.379562\\n0.0\\n532152690.379562\\n0.0\\n0.0\\n0.0\\n0.0\\n0.0\\n0.0\\n0.0\\n0.0\\n0.0\\n0.0\\n0.0\\n0.0\\n0.0\\n0.0\\n0.0\\n0.0\\n0.0\\n0.0\\n0.0\\n0.0\\n0.0\\n0.0\\n0.0\\n0.0\\n0.0\\n0.0\\n0.0\\n0.0\\n0.0\\n0.0\\n0.0\\n0.0\\n0.0\\n0.0\\n0.0\\n0.0\\n0.0\\n0.0\\n0.0\\n0.0\\n0.0\\n0.0\\n0.0\\n0.0\\n0.0\\n0.0\\n0.0\\n0.0\\n0.0\\n0.0\\n0.0\\n0.0\\n0.0\\n0.0\\n0.0\\n0.0\\n0.0\\n0.0\\n0.0\\n0.0\\n0.0\\n0.0\\n0.0\\n0.0\\n0.0\\n0.0\\n0.0\\n0.0\\n0.0\\n532152690.379562\\n0.0\\n0.0\\n0.0\\n0.0\\n532152690.379562\\n0.0\\n0.0\\n0.0\\n0.0\\n0.0\\n0.0\\n0.0\\n0.0\\n0.0\\n0.0\\n0.0\\n0.0\\n0.0\\n0.0\\n0.0\\n0.0\\n0.0\\n532152690.379562\\n0.0\\n0.0\\n0.0\\n0.0\\n0.0\\n0.0\\n0.0\\n0.0\\n0.0\\n0.0\\n0.0\\n0.0\\n0.0\\n0.0\\n0.0\\n0.0\\n0.0\\n0.0\\n0.0\\n0.0\\n0.0\\n0.0\\n0.0\\n0.0\\n0.0\\n0.0\\n0.0\\n0.0\\n0.0\\n0.0\\n0.0\\n0.0\\n0.0\\n0.0\\n0.0\\n0.0\\n0.0\\n0.0\\n0.0\\n0.0\\n0.0\\n0.0\\n0.0\\n0.0\\n0.0\\n0.0\\n0.0\\n0.0\\n0.0\\n0.0\\n0.0\\n0.0\\n0.0\\n0.0\\n0.0\\n0.0\\n0.0\\n0.0\\n0.0\\n0.0\\n0.0\\n0.0\\n0.0\\n532152690.379562\\n0.0\\n0.0\\n0.0\\n0.0\\n0.0\\n0.0\\n0.0\\n0.0\\n0.0\\n0.0\\n0.0\\n0.0\\n0.0\\n0.0\\n0.0\\n0.0\\n0.0\\n532152690.379562\\n0.0\\n0.0\\n0.0\\n0.0\\n0.0\\n0.0\\n0.0\\n0.0\\n0.0\\n0.0\\n0.0\\n0.0\\n0.0\\n0.0\\n0.0\\n0.0\\n0.0\\n0.0\\n0.0\\n0.0\\n0.0\\n0.0\\n0.0\\n0.0\\n0.0\\n0.0\\n0.0\\n0.0\\n0.0\\n0.0\\n0.0\\n0.0\\n0.0\\n532152690.379562\\n0.0\\n0.0\\n0.0\\n0.0\\n0.0\\n0.0\\n0.0\\n0.0\\n0.0\\n0.0\\n0.0\\n0.0\\n0.0\\n0.0\\n0.0\\n0.0\\n0.0\\n0.0\\n0.0\\n0.0\\n0.0\\n0.0\\n0.0\\n0.0\\n0.0\\n0.0\\n0.0\\n0.0\\n0.0\\n0.0\\n0.0\\n0.0\\n0.0\\n0.0\\n0.0\\n0.0\\n0.0\\n0.0\\n0.0\\n0.0\\n0.0\\n0.0\\n0.0\\n0.0\\n0.0\\n0.0\\n0.0\\n0.0\\n0.0\\n0.0\\n0.0\\n0.0\\n0.0\\n0.0\\n0.0\\n0.0\\n0.0\\n0.0\\n0.0\\n0.0\\n0.0\\n0.0\\n0.0\\n0.0\\n0.0\\n0.0\\n0.0\\n0.0\\n0.0\\n532152690.379562\\n0.0\\n0.0\\n0.0\\n0.0\\n0.0\\n0.0\\n0.0\\n0.0\\n0.0\\n0.0\\n0.0\\n0.0\\n0.0\\n0.0\\n532152690.379562\\n0.0\\n0.0\\n0.0\\n0.0\\n0.0\\n0.0\\n0.0\\n0.0\\n0.0\\n0.0\\n0.0\\n0.0\\n0.0\\n0.0\\n0.0\\n0.0\\n0.0\\n0.0\\n0.0\\n0.0\\n0.0\\n0.0\\n0.0\\n0.0\\n0.0\\n0.0\\n0.0\\n0.0\\n0.0\\n0.0\\n0.0\\n0.0\\n0.0\\n0.0\\n0.0\\n0.0\\n0.0\\n0.0\\n0.0\\n0.0\\n0.0\\n0.0\\n0.0\\n0.0\\n0.0\\n0.0\\n0.0\\n0.0\\n0.0\\n0.0\\n0.0\\n0.0\\n0.0\\n0.0\\n0.0\\n0.0\\n0.0\\n0.0\\n0.0\\n0.0\\n0.0\\n0.0\\n0.0\\n0.0\\n0.0\\n0.0\\n0.0\\n0.0\\n0.0\\n0.0\\n0.0\\n0.0\\n0.0\\n0.0\\n0.0\\n0.0\\n0.0\\n0.0\\n0.0\\n0.0\\n0.0\\n0.0\\n0.0\\n0.0\\n0.0\\n0.0\\n0.0\\n0.0\\n0.0\\n0.0\\n0.0\\n532152690.379562\\n0.0\\n0.0\\n0.0\\n0.0\\n0.0\\n0.0\\n0.0\\n0.0\\n0.0\\n0.0\\n0.0\\n0.0\\n0.0\\n0.0\\n0.0\\n0.0\\n0.0\\n0.0\\n0.0\\n0.0\\n0.0\\n0.0\\n0.0\\n0.0\\n0.0\\n0.0\\n0.0\\n0.0\\n0.0\\n532152690.379562\\n0.0\\n0.0\\n0.0\\n0.0\\n0.0\\n0.0\\n0.0\\n0.0\\n0.0\\n0.0\\n0.0\\n0.0\\n0.0\\n0.0\\n0.0\\n0.0\\n0.0\\n0.0\\n0.0\\n0.0\\n0.0\\n0.0\\n0.0\\n0.0\\n0.0\\n0.0\\n0.0\\n0.0\\n0.0\\n0.0\\n0.0\\n0.0\\n0.0\\n0.0\\n0.0\\n0.0\\n0.0\\n0.0\\n0.0\\n0.0\\n0.0\\n0.0\\n0.0\\n0.0\\n0.0\\n0.0\\n0.0\\n0.0\\n0.0\\n0.0\\n0.0\\n0.0\\n532152690.379562\\n0.0\\n0.0\\n0.0\\n0.0\\n0.0\\n0.0\\n0.0\\n0.0\\n0.0\\n0.0\\n0.0\\n0.0\\n0.0\\n0.0\\n0.0\\n0.0\\n0.0\\n0.0\\n0.0\\n0.0\\n0.0\\n0.0\\n0.0\\n0.0\\n0.0\\n0.0\\n0.0\\n0.0\\n532152690.379562\\n0.0\\n0.0\\n0.0\\n0.0\\n0.0\\n0.0\\n0.0\\n0.0\\n0.0\\n0.0\\n0.0\\n0.0\\n0.0\\n0.0\\n532152690.379562\\n0.0\\n0.0\\n0.0\\n0.0\\n532152690.379562\\n0.0\\n0.0\\n0.0\\n532152690.379562\\n0.0\\n0.0\\n0.0\\n0.0\\n0.0\\n0.0\\n0.0\\n0.0\\n0.0\\n0.0\\n0.0\\n0.0\\n0.0\\n0.0\\n532152690.379562\\n0.0\\n0.0\\n532152690.379562\\n0.0\\n0.0\\n0.0\\n0.0\\n0.0\\n0.0\\n0.0\\n0.0\\n0.0\\n0.0\\n0.0\\n0.0\\n0.0\\n0.0\\n0.0\\n0.0\\n0.0\\n0.0\\n0.0\\n0.0\\n0.0\\n0.0\\n0.0\\n0.0\\n0.0\\n0.0\\n0.0\\n0.0\\n0.0\\n0.0\\n0.0\\n532152690.379562\\n0.0\\n0.0\\n0.0\\n0.0\\n0.0\\n0.0\\n0.0\\n0.0\\n0.0\\n532152690.379562\\n0.0\\n0.0\\n0.0\\n0.0\\n0.0\\n0.0\\n0.0\\n0.0\\n0.0\\n0.0\\n0.0\\n0.0\\n0.0\\n0.0\\n0.0\\n0.0\\n532152690.379562\\n0.0\\n0.0\\n0.0\\n0.0\\n0.0\\n0.0\\n0.0\\n0.0\\n0.0\\n0.0\\n532152690.379562\\n0.0\\n0.0\\n0.0\\n0.0\\n0.0\\n0.0\\n0.0\\n0.0\\n0.0\\n0.0\\n0.0\\n0.0\\n0.0\\n0.0\\n0.0\\n0.0\\n0.0\\n0.0\\n0.0\\n0.0\\n0.0\\n0.0\\n0.0\\n0.0\\n0.0\\n0.0\\n0.0\\n0.0\\n0.0\\n0.0\\n0.0\\n0.0\\n532152690.379562\\n0.0\\n0.0\\n0.0\\n0.0\\n0.0\\n532152690.379562\\n0.0\\n0.0\\n0.0\\n0.0\\n0.0\\n0.0\\n0.0\\n0.0\\n0.0\\n0.0\\n0.0\\n0.0\\n0.0\\n0.0\\n0.0\\n0.0\\n0.0\\n0.0\\n0.0\\n0.0\\n0.0\\n0.0\\n0.0\\n0.0\\n0.0\\n0.0\\n0.0\\n0.0\\n0.0\\n0.0\\n0.0\\n0.0\\n0.0\\n0.0\\n0.0\\n0.0\\n0.0\\n0.0\\n0.0\\n0.0\\n0.0\\n0.0\\n0.0\\n0.0\\n0.0\\n0.0\\n0.0\\n0.0\\n0.0\\n0.0\\n0.0\\n0.0\\n0.0\\n0.0\\n0.0\\n0.0\\n0.0\\n0.0\\n0.0\\n0.0\\n0.0\\n0.0\\n0.0\\n0.0\\n0.0\\n0.0\\n0.0\\n0.0\\n0.0\\n0.0\\n0.0\\n532152690.379562\\n0.0\\n0.0\\n0.0\\n0.0\\n0.0\\n0.0\\n0.0\\n0.0\\n532152690.379562\\n0.0\\n0.0\\n0.0\\n0.0\\n0.0\\n0.0\\n0.0\\n0.0\\n0.0\\n0.0\\n0.0\\n0.0\\n0.0\\n0.0\\n0.0\\n0.0\\n0.0\\n0.0\\n0.0\\n0.0\\n0.0\\n0.0\\n0.0\\n0.0\\n0.0\\n0.0\\n0.0\\n0.0\\n0.0\\n0.0\\n0.0\\n0.0\\n0.0\\n0.0\\n0.0\\n0.0\\n0.0\\n0.0\\n0.0\\n0.0\\n0.0\\n0.0\\n0.0\\n0.0\\n0.0\\n0.0\\n0.0\\n0.0\\n0.0\\n0.0\\n0.0\\n0.0\\n0.0\\n0.0\\n0.0\\n0.0\\n0.0\\n0.0\\n0.0\\n0.0\\n0.0\\n0.0\\n0.0\\n0.0\\n0.0\\n0.0\\n0.0\\n0.0\\n0.0\\n0.0\\n0.0\\n0.0\\n0.0\\n0.0\\n0.0\\n0.0\\n0.0\\n0.0\\n0.0\\n532152690.379562\\n0.0\\n0.0\\n0.0\\n0.0\\n0.0\\n0.0\\n0.0\\n0.0\\n532152690.379562\\n0.0\\n0.0\\n0.0\\n0.0\\n0.0\\n0.0\\n0.0\\n0.0\\n0.0\\n0.0\\n0.0\\n0.0\\n0.0\\n0.0\\n0.0\\n0.0\\n0.0\\n0.0\\n0.0\\n0.0\\n0.0\\n532152690.379562\\n0.0\\n0.0\\n0.0\\n0.0\\n532152690.379562\\n0.0\\n0.0\\n0.0\\n0.0\\n0.0\\n0.0\\n0.0\\n0.0\\n532152690.379562\\n0.0\\n0.0\\n0.0\\n0.0\\n0.0\\n0.0\\n0.0\\n0.0\\n0.0\\n0.0\\n0.0\\n0.0\\n0.0\\n0.0\\n0.0\\n0.0\\n0.0\\n0.0\\n0.0\\n0.0\\n0.0\\n0.0\\n0.0\\n0.0\\n0.0\\n0.0\\n0.0\\n0.0\\n0.0\\n0.0\\n0.0\\n0.0\\n0.0\\n0.0\\n0.0\\n0.0\\n0.0\\n0.0\\n0.0\\n0.0\\n0.0\\n0.0\\n0.0\\n0.0\\n0.0\\n0.0\\n0.0\\n0.0\\n0.0\\n0.0\\n0.0\\n0.0\\n0.0\\n0.0\\n0.0\\n0.0\\n0.0\\n0.0\\n0.0\\n0.0\\n0.0\\n0.0\\n0.0\\n0.0\\n0.0\\n0.0\\n0.0\\n0.0\\n0.0\\n0.0\\n0.0\\n0.0\\n0.0\\n0.0\\n0.0\\n0.0\\n0.0\\n0.0\\n0.0\\n0.0\\n0.0\\n0.0\\n0.0\\n0.0\\n0.0\\n0.0\\n0.0\\n0.0\\n0.0\\n0.0\\n0.0\\n0.0\\n0.0\\n0.0\\n0.0\\n0.0\\n0.0\\n0.0\\n0.0\\n0.0\\n0.0\\n0.0\\n0.0\\n0.0\\n0.0\\n532152690.379562\\n0.0\\n532152690.379562\\n0.0\\n0.0\\n0.0\\n0.0\\n0.0\\n0.0\\n0.0\\n0.0\\n0.0\\n0.0\\n0.0\\n0.0\\n0.0\\n0.0\\n0.0\\n0.0\\n0.0\\n0.0\\n0.0\\n0.0\\n0.0\\n0.0\\n0.0\\n0.0\\n0.0\\n0.0\\n0.0\\n0.0\\n0.0\\n0.0\\n0.0\\n0.0\\n0.0\\n0.0\\n0.0\\n0.0\\n0.0\\n0.0\\n532152690.379562\\n0.0\\n0.0\\n0.0\\n0.0\\n0.0\\n0.0\\n0.0\\n0.0\\n0.0\\n0.0\\n0.0\\n0.0\\n0.0\\n0.0\\n0.0\\n0.0\\n0.0\\n0.0\\n0.0\\n0.0\\n0.0\\n0.0\\n0.0\\n0.0\\n0.0\\n0.0\\n0.0\\n0.0\\n0.0\\n0.0\\n0.0\\n0.0\\n0.0\\n0.0\\n0.0\\n0.0\\n0.0\\n0.0\\n0.0\\n0.0\\n0.0\\n0.0\\n0.0\\n0.0\\n0.0\\n0.0\\n0.0\\n0.0\\n532152690.379562\\n0.0\\n0.0\\n0.0\\n532152690.379562\\n0.0\\n0.0\\n0.0\\n0.0\\n0.0\\n0.0\\n0.0\\n0.0\\n0.0\\n0.0\\n0.0\\n0.0\\n0.0\\n0.0\\n0.0\\n0.0\\n0.0\\n0.0\\n0.0\\n0.0\\n0.0\\n0.0\\n0.0\\n0.0\\n0.0\\n0.0\\n0.0\\n0.0\\n0.0\\n532152690.379562\\n0.0\\n0.0\\n0.0\\n532152690.379562\\n0.0\\n0.0\\n0.0\\n0.0\\n0.0\\n0.0\\n0.0\\n0.0\\n0.0\\n0.0\\n0.0\\n0.0\\n0.0\\n0.0\\n0.0\\n0.0\\n0.0\\n0.0\\n0.0\\n0.0\\n0.0\\n0.0\\n0.0\\n0.0\\n0.0\\n0.0\\n0.0\\n532152690.379562\\n0.0\\n0.0\\n0.0\\n0.0\\n0.0\\n0.0\\n0.0\\n0.0\\n0.0\\n0.0\\n0.0\\n0.0\\n0.0\\n0.0\\n0.0\\n0.0\\n0.0\\n0.0\\n0.0\\n0.0\\n0.0\\n0.0\\n0.0\\n0.0\\n0.0\\n0.0\\n0.0\\n0.0\\n0.0\\n0.0\\n0.0\\n0.0\\n0.0\\n0.0\\n0.0\\n0.0\\n0.0\\n0.0\\n0.0\\n0.0\\n0.0\\n0.0\\n532152690.379562\\n0.0\\n0.0\\n0.0\\n0.0\\n0.0\\n0.0\\n0.0\\n0.0\\n0.0\\n0.0\\n0.0\\n0.0\\n0.0\\n0.0\\n0.0\\n0.0\\n0.0\\n0.0\\n0.0\\n0.0\\n0.0\\n0.0\\n0.0\\n0.0\\n0.0\\n532152690.379562\\n0.0\\n0.0\\n0.0\\n0.0\\n0.0\\n0.0\\n0.0\\n0.0\\n0.0\\n0.0\\n0.0\\n0.0\\n0.0\\n0.0\\n0.0\\n0.0\\n0.0\\n0.0\\n0.0\\n0.0\\n0.0\\n0.0\\n0.0\\n0.0\\n0.0\\n0.0\\n0.0\\n0.0\\n0.0\\n0.0\\n0.0\\n0.0\\n0.0\\n0.0\\n0.0\\n0.0\\n0.0\\n0.0\\n0.0\\n0.0\\n0.0\\n0.0\\n0.0\\n532152690.379562\\n0.0\\n0.0\\n0.0\\n0.0\\n0.0\\n0.0\\n0.0\\n0.0\\n0.0\\n0.0\\n0.0\\n0.0\\n0.0\\n0.0\\n0.0\\n0.0\\n0.0\\n0.0\\n0.0\\n0.0\\n0.0\\n0.0\\n0.0\\n0.0\\n0.0\\n0.0\\n0.0\\n0.0\\n0.0\\n0.0\\n0.0\\n0.0\\n0.0\\n0.0\\n0.0\\n0.0\\n0.0\\n0.0\\n0.0\\n0.0\\n0.0\\n0.0\\n0.0\\n0.0\\n0.0\\n0.0\\n0.0\\n0.0\\n0.0\\n0.0\\n0.0\\n532152690.379562\\n0.0\\n0.0\\n0.0\\n0.0\\n0.0\\n0.0\\n0.0\\n0.0\\n0.0\\n0.0\\n0.0\\n0.0\\n0.0\\n0.0\\n0.0\\n0.0\\n0.0\\n0.0\\n0.0\\n0.0\\n0.0\\n0.0\\n0.0\\n0.0\\n0.0\\n0.0\\n0.0\\n0.0\\n0.0\\n0.0\\n0.0\\n0.0\\n0.0\\n0.0\\n0.0\\n0.0\\n532152690.379562\\n0.0\\n0.0\\n532152690.379562\\n0.0\\n0.0\\n0.0\\n0.0\\n0.0\\n0.0\\n0.0\\n0.0\\n0.0\\n532152690.379562\\n0.0\\n0.0\\n0.0\\n0.0\\n532152690.379562\\n0.0\\n0.0\\n0.0\\n0.0\\n0.0\\n0.0\\n0.0\\n0.0\\n0.0\\n0.0\\n0.0\\n0.0\\n0.0\\n0.0\\n0.0\\n0.0\\n0.0\\n0.0\\n0.0\\n0.0\\n0.0\\n0.0\\n0.0\\n0.0\\n0.0\\n0.0\\n0.0\\n0.0\\n0.0\\n0.0\\n0.0\\n0.0\\n0.0\\n0.0\\n0.0\\n0.0\\n0.0\\n0.0\\n0.0\\n0.0\\n0.0\\n0.0\\n0.0\\n0.0\\n0.0\\n0.0\\n0.0\\n532152690.379562\\n0.0\\n0.0\\n0.0\\n0.0\\n0.0\\n0.0\\n0.0\\n0.0\\n0.0\\n0.0\\n0.0\\n0.0\\n0.0\\n0.0\\n0.0\\n0.0\\n0.0\\n0.0\\n0.0\\n0.0\\n0.0\\n0.0\\n0.0\\n0.0\\n0.0\\n0.0\\n0.0\\n0.0\\n0.0\\n0.0\\n0.0\\n0.0\\n532152690.379562\\n0.0\\n0.0\\n0.0\\n0.0\\n0.0\\n0.0\\n0.0\\n0.0\\n0.0\\n0.0\\n0.0\\n0.0\\n0.0\\n0.0\\n0.0\\n0.0\\n0.0\\n0.0\\n0.0\\n0.0\\n0.0\\n0.0\\n0.0\\n0.0\\n0.0\\n0.0\\n0.0\\n0.0\\n0.0\\n0.0\\n0.0\\n0.0\\n0.0\\n0.0\\n0.0\\n0.0\\n0.0\\n0.0\\n0.0\\n0.0\\n0.0\\n0.0\\n0.0\\n0.0\\n0.0\\n0.0\\n0.0\\n0.0\\n0.0\\n0.0\\n0.0\\n0.0\\n0.0\\n0.0\\n0.0\\n532152690.379562\\n0.0\\n0.0\\n0.0\\n0.0\\n0.0\\n0.0\\n0.0\\n0.0\\n0.0\\n0.0\\n0.0\\n0.0\\n0.0\\n0.0\\n0.0\\n532152690.379562\\n0.0\\n0.0\\n0.0\\n0.0\\n0.0\\n0.0\\n0.0\\n0.0\\n0.0\\n0.0\\n0.0\\n0.0\\n0.0\\n0.0\\n0.0\\n0.0\\n0.0\\n0.0\\n0.0\\n0.0\\n0.0\\n0.0\\n0.0\\n0.0\\n0.0\\n0.0\\n0.0\\n532152690.379562\\n0.0\\n0.0\\n0.0\\n0.0\\n0.0\\n0.0\\n0.0\\n0.0\\n0.0\\n0.0\\n0.0\\n0.0\\n0.0\\n0.0\\n0.0\\n0.0\\n0.0\\n0.0\\n0.0\\n0.0\\n0.0\\n0.0\\n0.0\\n0.0\\n0.0\\n0.0\\n0.0\\n0.0\\n0.0\\n0.0\\n0.0\\n0.0\\n0.0\\n0.0\\n0.0\\n0.0\\n0.0\\n0.0\\n0.0\\n0.0\\n0.0\\n0.0\\n0.0\\n0.0\\n0.0\\n0.0\\n0.0\\n532152690.379562\\n0.0\\n0.0\\n0.0\\n0.0\\n0.0\\n532152690.379562\\n0.0\\n0.0\\n0.0\\n0.0\\n0.0\\n0.0\\n0.0\\n0.0\\n0.0\\n0.0\\n0.0\\n0.0\\n0.0\\n0.0\\n0.0\\n0.0\\n0.0\\n0.0\\n0.0\\n0.0\\n0.0\\n0.0\\n0.0\\n0.0\\n0.0\\n0.0\\n532152690.379562\\n0.0\\n0.0\\n0.0\\n0.0\\n0.0\\n0.0\\n0.0\\n0.0\\n0.0\\n0.0\\n0.0\\n0.0\\n0.0\\n0.0\\n0.0\\n0.0\\n0.0\\n0.0\\n0.0\\n0.0\\n0.0\\n0.0\\n0.0\\n0.0\\n0.0\\n0.0\\n0.0\\n0.0\\n0.0\\n0.0\\n0.0\\n0.0\\n0.0\\n0.0\\n0.0\\n0.0\\n0.0\\n0.0\\n532152690.379562\\n0.0\\n0.0\\n0.0\\n0.0\\n0.0\\n0.0\\n0.0\\n0.0\\n0.0\\n0.0\\n0.0\\n0.0\\n0.0\\n0.0\\n0.0\\n0.0\\n0.0\\n0.0\\n0.0\\n0.0\\n0.0\\n0.0\\n0.0\\n0.0\\n0.0\\n0.0\\n0.0\\n0.0\\n0.0\\n0.0\\n0.0\\n0.0\\n0.0\\n0.0\\n0.0\\n0.0\\n532152690.379562\\n0.0\\n0.0\\n0.0\\n0.0\\n0.0\\n0.0\\n0.0\\n0.0\\n0.0\\n0.0\\n0.0\\n0.0\\n0.0\\n0.0\\n0.0\\n0.0\\n0.0\\n0.0\\n0.0\\n0.0\\n0.0\\n0.0\\n0.0\\n0.0\\n0.0\\n532152690.379562\\n0.0\\n0.0\\n0.0\\n0.0\\n0.0\\n0.0\\n0.0\\n0.0\\n0.0\\n0.0\\n0.0\\n0.0\\n0.0\\n0.0\\n0.0\\n0.0\\n0.0\\n0.0\\n0.0\\n0.0\\n0.0\\n0.0\\n0.0\\n0.0\\n0.0\\n0.0\\n0.0\\n0.0\\n0.0\\n0.0\\n0.0\\n0.0\\n0.0\\n0.0\\n0.0\\n0.0\\n0.0\\n0.0\\n0.0\\n0.0\\n0.0\\n0.0\\n0.0\\n0.0\\n0.0\\n0.0\\n0.0\\n532152690.379562\\n0.0\\n0.0\\n0.0\\n0.0\\n0.0\\n0.0\\n0.0\\n0.0\\n0.0\\n0.0\\n0.0\\n0.0\\n0.0\\n0.0\\n0.0\\n0.0\\n0.0\\n0.0\\n0.0\\n0.0\\n0.0\\n0.0\\n0.0\\n0.0\\n0.0\\n0.0\\n0.0\\n0.0\\n0.0\\n0.0\\n0.0\\n0.0\\n0.0\\n0.0\\n0.0\\n0.0\\n0.0\\n0.0\\n0.0\\n532152690.379562\\n0.0\\n0.0\\n0.0\\n532152690.379562\\n0.0\\n0.0\\n0.0\\n0.0\\n0.0\\n0.0\\n0.0\\n0.0\\n0.0\\n0.0\\n0.0\\n0.0\\n0.0\\n0.0\\n0.0\\n0.0\\n0.0\\n0.0\\n0.0\\n0.0\\n0.0\\n0.0\\n0.0\\n0.0\\n0.0\\n0.0\\n0.0\\n0.0\\n0.0\\n0.0\\n0.0\\n0.0\\n0.0\\n0.0\\n0.0\\n0.0\\n0.0\\n0.0\\n0.0\\n0.0\\n0.0\\n532152690.379562\\n0.0\\n0.0\\n0.0\\n532152690.379562\\n0.0\\n532152690.379562\\n0.0\\n0.0\\n0.0\\n0.0\\n0.0\\n0.0\\n0.0\\n0.0\\n0.0\\n0.0\\n0.0\\n0.0\\n0.0\\n0.0\\n0.0\\n0.0\\n0.0\\n0.0\\n0.0\\n0.0\\n0.0\\n0.0\\n0.0\\n0.0\\n0.0\\n0.0\\n0.0\\n0.0\\n0.0\\n0.0\\n0.0\\n0.0\\n0.0\\n0.0\\n0.0\\n0.0\\n0.0\\n0.0\\n0.0\\n0.0\\n0.0\\n0.0\\n0.0\\n0.0\\n0.0\\n0.0\\n0.0\\n0.0\\n0.0\\n0.0\\n0.0\\n0.0\\n0.0\\n0.0\\n0.0\\n0.0\\n0.0\\n0.0\\n0.0\\n532152690.379562\\n0.0\\n0.0\\n0.0\\n0.0\\n0.0\\n0.0\\n0.0\\n0.0\\n0.0\\n0.0\\n0.0\\n0.0\\n532152690.379562\\n0.0\\n0.0\\n0.0\\n0.0\\n0.0\\n0.0\\n0.0\\n0.0\\n0.0\\n0.0\\n0.0\\n0.0\\n0.0\\n0.0\\n0.0\\n0.0\\n0.0\\n0.0\\n0.0\\n0.0\\n0.0\\n0.0\\n0.0\\n0.0\\n0.0\\n0.0\\n0.0\\n0.0\\n0.0\\n0.0\\n0.0\\n0.0\\n0.0\\n0.0\\n0.0\\n0.0\\n0.0\\n0.0\\n0.0\\n0.0\\n0.0\\n0.0\\n0.0\\n0.0\\n0.0\\n0.0\\n0.0\\n0.0\\n0.0\\n0.0\\n0.0\\n0.0\\n0.0\\n0.0\\n0.0\\n0.0\\n0.0\\n532152690.379562\\n0.0\\n0.0\\n0.0\\n0.0\\n0.0\\n0.0\\n0.0\\n0.0\\n0.0\\n0.0\\n0.0\\n0.0\\n0.0\\n0.0\\n0.0\\n0.0\\n0.0\\n0.0\\n0.0\\n0.0\\n0.0\\n0.0\\n0.0\\n0.0\\n0.0\\n0.0\\n0.0\\n0.0\\n0.0\\n0.0\\n0.0\\n0.0\\n0.0\\n0.0\\n0.0\\n0.0\\n0.0\\n0.0\\n0.0\\n0.0\\n0.0\\n0.0\\n0.0\\n0.0\\n0.0\\n0.0\\n0.0\\n0.0\\n0.0\\n532152690.379562\\n0.0\\n0.0\\n0.0\\n532152690.379562\\n0.0\\n0.0\\n0.0\\n0.0\\n0.0\\n0.0\\n0.0\\n0.0\\n0.0\\n0.0\\n0.0\\n0.0\\n0.0\\n0.0\\n0.0\\n0.0\\n0.0\\n0.0\\n0.0\\n0.0\\n0.0\\n0.0\\n0.0\\n0.0\\n0.0\\n0.0\\n0.0\\n0.0\\n0.0\\n0.0\\n0.0\\n0.0\\n0.0\\n0.0\\n0.0\\n0.0\\n0.0\\n0.0\\n0.0\\n0.0\\n0.0\\n0.0\\n0.0\\n0.0\\n0.0\\n0.0\\n0.0\\n0.0\\n0.0\\n0.0\\n0.0\\n0.0\\n0.0\\n0.0\\n0.0\\n0.0\\n0.0\\n0.0\\n0.0\\n0.0\\n0.0\\n0.0\\n0.0\\n0.0\\n0.0\\n0.0\\n0.0\\n0.0\\n0.0\\n0.0\\n0.0\\n0.0\\n0.0\\n0.0\\n0.0\\n0.0\\n0.0\\n0.0\\n0.0\\n0.0\\n0.0\\n0.0\\n0.0\\n0.0\\n0.0\\n0.0\\n0.0\\n0.0\\n0.0\\n0.0\\n0.0\\n0.0\\n0.0\\n0.0\\n0.0\\n0.0\\n0.0\\n0.0\\n0.0\\n0.0\\n0.0\\n0.0\\n0.0\\n0.0\\n0.0\\n0.0\\n0.0\\n0.0\\n0.0\\n0.0\\n0.0\\n0.0\\n0.0\\n0.0\\n0.0\\n0.0\\n0.0\\n0.0\\n532152690.379562\\n0.0\\n0.0\\n0.0\\n0.0\\n0.0\\n0.0\\n0.0\\n0.0\\n0.0\\n0.0\\n0.0\\n0.0\\n0.0\\n0.0\\n0.0\\n0.0\\n0.0\\n0.0\\n0.0\\n0.0\\n0.0\\n0.0\\n0.0\\n0.0\\n0.0\\n0.0\\n0.0\\n0.0\\n0.0\\n0.0\\n0.0\\n0.0\\n0.0\\n0.0\\n0.0\\n0.0\\n0.0\\n0.0\\n0.0\\n0.0\\n0.0\\n0.0\\n0.0\\n0.0\\n0.0\\n0.0\\n0.0\\n0.0\\n0.0\\n0.0\\n0.0\\n0.0\\n0.0\\n0.0\\n0.0\\n0.0\\n0.0\\n0.0\\n0.0\\n0.0\\n0.0\\n0.0\\n0.0\\n0.0\\n0.0\\n0.0\\n0.0\\n0.0\\n0.0\\n0.0\\n0.0\\n0.0\\n0.0\\n0.0\\n0.0\\n0.0\\n0.0\\n0.0\\n532152690.379562\\n0.0\\n0.0\\n0.0\\n0.0\\n0.0\\n0.0\\n0.0\\n0.0\\n0.0\\n0.0\\n0.0\\n0.0\\n0.0\\n0.0\\n0.0\\n0.0\\n0.0\\n0.0\\n0.0\\n0.0\\n0.0\\n0.0\\n0.0\\n0.0\\n0.0\\n0.0\\n0.0\\n0.0\\n0.0\\n0.0\\n0.0\\n0.0\\n0.0\\n0.0\\n0.0\\n0.0\\n0.0\\n0.0\\n0.0\\n0.0\\n0.0\\n0.0\\n0.0\\n532152690.379562\\n0.0\\n0.0\\n0.0\\n0.0\\n0.0\\n0.0\\n0.0\\n0.0\\n0.0\\n0.0\\n532152690.379562\\n0.0\\n0.0\\n0.0\\n0.0\\n0.0\\n0.0\\n0.0\\n0.0\\n0.0\\n0.0\\n0.0\\n0.0\\n0.0\\n0.0\\n0.0\\n0.0\\n0.0\\n0.0\\n0.0\\n0.0\\n0.0\\n0.0\\n0.0\\n0.0\\n0.0\\n0.0\\n0.0\\n0.0\\n532152690.379562\\n0.0\\n0.0\\n0.0\\n0.0\\n0.0\\n0.0\\n0.0\\n0.0\\n0.0\\n0.0\\n0.0\\n0.0\\n532152690.379562\\n0.0\\n0.0\\n0.0\\n0.0\\n0.0\\n0.0\\n0.0\\n0.0\\n0.0\\n0.0\\n0.0\\n0.0\\n0.0\\n532152690.379562\\n0.0\\n0.0\\n532152690.379562\\n0.0\\n0.0\\n0.0\\n0.0\\n0.0\\n0.0\\n0.0\\n0.0\\n0.0\\n0.0\\n0.0\\n0.0\\n0.0\\n0.0\\n0.0\\n0.0\\n0.0\\n0.0\\n0.0\\n0.0\\n0.0\\n0.0\\n0.0\\n532152690.379562\\n0.0\\n0.0\\n0.0\\n0.0\\n0.0\\n0.0\\n0.0\\n0.0\\n0.0\\n0.0\\n0.0\\n0.0\\n0.0\\n0.0\\n0.0\\n0.0\\n0.0\\n0.0\\n0.0\\n0.0\\n0.0\\n0.0\\n0.0\\n0.0\\n0.0\\n0.0\\n0.0\\n0.0\\n0.0\\n0.0\\n0.0\\n0.0\\n0.0\\n0.0\\n0.0\\n0.0\\n0.0\\n0.0\\n0.0\\n0.0\\n0.0\\n0.0\\n0.0\\n0.0\\n0.0\\n0.0\\n0.0\\n0.0\\n0.0\\n0.0\\n0.0\\n0.0\\n0.0\\n0.0\\n0.0\\n0.0\\n0.0\\n532152690.379562\\n0.0\\n0.0\\n0.0\\n532152690.379562\\n0.0\\n0.0\\n0.0\\n0.0\\n0.0\\n0.0\\n0.0\\n0.0\\n0.0\\n0.0\\n0.0\\n0.0\\n0.0\\n0.0\\n0.0\\n0.0\\n0.0\\n0.0\\n0.0\\n0.0\\n0.0\\n0.0\\n0.0\\n0.0\\n0.0\\n0.0\\n532152690.379562\\n0.0\\n0.0\\n0.0\\n0.0\\n0.0\\n0.0\\n0.0\\n0.0\\n0.0\\n0.0\\n532152690.379562\\n0.0\\n0.0\\n0.0\\n0.0\\n0.0\\n532152690.379562\\n0.0\\n0.0\\n0.0\\n0.0\\n0.0\\n0.0\\n532152690.379562\\n0.0\\n0.0\\n0.0\\n0.0\\n0.0\\n0.0\\n0.0\\n0.0\\n0.0\\n0.0\\n0.0\\n0.0\\n0.0\\n0.0\\n0.0\\n0.0\\n0.0\\n0.0\\n0.0\\n0.0\\n0.0\\n0.0\\n0.0\\n0.0\\n0.0\\n0.0\\n0.0\\n0.0\\n0.0\\n0.0\\n0.0\\n0.0\\n0.0\\n0.0\\n0.0\\n0.0\\n0.0\\n0.0\\n0.0\\n0.0\\n0.0\\n0.0\\n0.0\\n0.0\\n0.0\\n532152690.379562\\n0.0\\n0.0\\n0.0\\n0.0\\n0.0\\n0.0\\n0.0\\n0.0\\n0.0\\n0.0\\n0.0\\n0.0\\n0.0\\n0.0\\n0.0\\n0.0\\n0.0\\n0.0\\n0.0\\n0.0\\n0.0\\n0.0\\n0.0\\n0.0\\n0.0\\n0.0\\n0.0\\n0.0\\n0.0\\n0.0\\n0.0\\n0.0\\n0.0\\n0.0\\n0.0\\n0.0\\n0.0\\n0.0\\n0.0\\n0.0\\n0.0\\n0.0\\n0.0\\n0.0\\n0.0\\n0.0\\n0.0\\n0.0\\n0.0\\n0.0\\n0.0\\n0.0\\n0.0\\n0.0\\n0.0\\n0.0\\n0.0\\n0.0\\n0.0\\n0.0\\n0.0\\n0.0\\n0.0\\n0.0\\n0.0\\n0.0\\n0.0\\n0.0\\n0.0\\n0.0\\n0.0\\n0.0\\n0.0\\n0.0\\n0.0\\n0.0\\n0.0\\n0.0\\n0.0\\n0.0\\n0.0\\n0.0\\n0.0\\n0.0\\n0.0\\n0.0\\n0.0\\n0.0\\n0.0\\n0.0\\n0.0\\n0.0\\n0.0\\n0.0\\n0.0\\n0.0\\n0.0\\n0.0\\n532152690.379562\\n0.0\\n0.0\\n0.0\\n0.0\\n0.0\\n0.0\\n0.0\\n0.0\\n0.0\\n0.0\\n0.0\\n0.0\\n532152690.379562\\n0.0\\n0.0\\n0.0\\n0.0\\n0.0\\n0.0\\n0.0\\n0.0\\n0.0\\n0.0\\n0.0\\n0.0\\n0.0\\n0.0\\n0.0\\n0.0\\n532152690.379562\\n0.0\\n0.0\\n0.0\\n0.0\\n0.0\\n0.0\\n0.0\\n0.0\\n0.0\\n0.0\\n0.0\\n0.0\\n0.0\\n0.0\\n0.0\\n0.0\\n0.0\\n0.0\\n0.0\\n0.0\\n0.0\\n0.0\\n0.0\\n532152690.379562\\n0.0\\n0.0\\n0.0\\n0.0\\n0.0\\n532152690.379562\\n0.0\\n0.0\\n0.0\\n0.0\\n0.0\\n0.0\\n0.0\\n0.0\\n0.0\\n0.0\\n0.0\\n0.0\\n532152690.379562\\n0.0\\n0.0\\n0.0\\n0.0\\n0.0\\n0.0\\n0.0\\n0.0\\n0.0\\n0.0\\n0.0\\n0.0\\n0.0\\n0.0\\n0.0\\n0.0\\n0.0\\n0.0\\n0.0\\n0.0\\n0.0\\n532152690.379562\\n0.0\\n0.0\\n0.0\\n0.0\\n0.0\\n0.0\\n0.0\\n0.0\\n0.0\\n0.0\\n0.0\\n0.0\\n0.0\\n0.0\\n0.0\\n0.0\\n0.0\\n0.0\\n0.0\\n0.0\\n0.0\\n0.0\\n532152690.379562\\n0.0\\n0.0\\n0.0\\n0.0\\n0.0\\n0.0\\n0.0\\n0.0\\n0.0\\n0.0\\n0.0\\n0.0\\n0.0\\n0.0\\n0.0\\n0.0\\n0.0\\n0.0\\n0.0\\n0.0\\n0.0\\n0.0\\n532152690.379562\\n0.0\\n0.0\\n0.0\\n0.0\\n0.0\\n0.0\\n0.0\\n0.0\\n0.0\\n0.0\\n0.0\\n0.0\\n0.0\\n0.0\\n0.0\\n0.0\\n532152690.379562\\n0.0\\n0.0\\n0.0\\n0.0\\n0.0\\n0.0\\n0.0\\n0.0\\n0.0\\n0.0\\n0.0\\n0.0\\n0.0\\n0.0\\n0.0\\n0.0\\n0.0\\n0.0\\n0.0\\n0.0\\n0.0\\n0.0\\n0.0\\n0.0\\n0.0\\n0.0\\n0.0\\n0.0\\n0.0\\n0.0\\n0.0\\n0.0\\n0.0\\n0.0\\n0.0\\n0.0\\n0.0\\n0.0\\n0.0\\n0.0\\n0.0\\n0.0\\n0.0\\n0.0\\n0.0\\n0.0\\n0.0\\n0.0\\n0.0\\n0.0\\n0.0\\n0.0\\n0.0\\n0.0\\n0.0\\n0.0\\n0.0\\n0.0\\n0.0\\n0.0\\n0.0\\n0.0\\n0.0\\n0.0\\n0.0\\n0.0\\n532152690.379562\\n0.0\\n0.0\\n0.0\\n0.0\\n0.0\\n0.0\\n0.0\\n0.0\\n0.0\\n0.0\\n0.0\\n0.0\\n0.0\\n0.0\\n0.0\\n0.0\\n0.0\\n0.0\\n0.0\\n0.0\\n0.0\\n0.0\\n0.0\\n0.0\\n0.0\\n0.0\\n0.0\\n0.0\\n0.0\\n0.0\\n0.0\\n0.0\\n0.0\\n0.0\\n0.0\\n0.0\\n532152690.379562\\n0.0\\n0.0\\n0.0\\n0.0\\n0.0\\n0.0\\n0.0\\n0.0\\n0.0\\n0.0\\n0.0\\n0.0\\n0.0\\n0.0\\n0.0\\n0.0\\n0.0\\n0.0\\n0.0\\n0.0\\n0.0\\n0.0\\n0.0\\n0.0\\n0.0\\n0.0\\n0.0\\n0.0\\n0.0\\n0.0\\n0.0\\n0.0\\n0.0\\n0.0\\n0.0\\n0.0\\n0.0\\n0.0\\n0.0\\n0.0\\n0.0\\n0.0\\n532152690.379562\\n0.0\\n0.0\\n0.0\\n0.0\\n0.0\\n0.0\\n0.0\\n0.0\\n0.0\\n0.0\\n0.0\\n0.0\\n0.0\\n0.0\\n0.0\\n0.0\\n0.0\\n0.0\\n0.0\\n0.0\\n0.0\\n0.0\\n0.0\\n0.0\\n0.0\\n0.0\\n0.0\\n0.0\\n0.0\\n0.0\\n0.0\\n0.0\\n0.0\\n0.0\\n0.0\\n0.0\\n0.0\\n0.0\\n0.0\\n0.0\\n0.0\\n0.0\\n0.0\\n0.0\\n0.0\\n0.0\\n0.0\\n0.0\\n0.0\\n0.0\\n0.0\\n0.0\\n0.0\\n0.0\\n0.0\\n0.0\\n0.0\\n0.0\\n0.0\\n0.0\\n0.0\\n0.0\\n0.0\\n0.0\\n0.0\\n0.0\\n0.0\\n0.0\\n0.0\\n0.0\\n0.0\\n0.0\\n0.0\\n0.0\\n0.0\\n0.0\\n0.0\\n0.0\\n0.0\\n0.0\\n0.0\\n0.0\\n0.0\\n0.0\\n0.0\\n0.0\\n0.0\\n0.0\\n0.0\\n0.0\\n0.0\\n0.0\\n0.0\\n0.0\\n0.0\\n0.0\\n0.0\\n0.0\\n0.0\\n532152690.379562\\n0.0\\n0.0\\n0.0\\n0.0\\n0.0\\n0.0\\n0.0\\n0.0\\n0.0\\n0.0\\n0.0\\n0.0\\n0.0\\n0.0\\n0.0\\n0.0\\n0.0\\n0.0\\n0.0\\n0.0\\n0.0\\n0.0\\n0.0\\n0.0\\n0.0\\n0.0\\n0.0\\n0.0\\n0.0\\n0.0\\n0.0\\n0.0\\n0.0\\n0.0\\n0.0\\n0.0\\n0.0\\n0.0\\n0.0\\n0.0\\n0.0\\n0.0\\n0.0\\n0.0\\n0.0\\n0.0\\n0.0\\n0.0\\n0.0\\n0.0\\n0.0\\n0.0\\n0.0\\n0.0\\n0.0\\n0.0\\n0.0\\n0.0\\n0.0\\n0.0\\n0.0\\n0.0\\n0.0\\n0.0\\n0.0\\n0.0\\n0.0\\n0.0\\n0.0\\n0.0\\n0.0\\n0.0\\n0.0\\n0.0\\n0.0\\n0.0\\n0.0\\n0.0\\n0.0\\n0.0\\n0.0\\n0.0\\n0.0\\n0.0\\n0.0\\n0.0\\n0.0\\n0.0\\n0.0\\n0.0\\n0.0\\n0.0\\n0.0\\n0.0\\n0.0\\n0.0\\n0.0\\n0.0\\n0.0\\n0.0\\n0.0\\n0.0\\n0.0\\n0.0\\n0.0\\n0.0\\n0.0\\n0.0\\n0.0\\n0.0\\n0.0\\n0.0\\n0.0\\n0.0\\n0.0\\n0.0\\n0.0\\n0.0\\n0.0\\n0.0\\n0.0\\n0.0\\n0.0\\n0.0\\n0.0\\n0.0\\n0.0\\n0.0\\n0.0\\n0.0\\n532152690.379562\\n0.0\\n0.0\\n0.0\\n0.0\\n0.0\\n0.0\\n0.0\\n0.0\\n0.0\\n0.0\\n0.0\\n0.0\\n0.0\\n0.0\\n0.0\\n0.0\\n0.0\\n0.0\\n0.0\\n0.0\\n0.0\\n0.0\\n0.0\\n0.0\\n0.0\\n0.0\\n0.0\\n0.0\\n0.0\\n0.0\\n0.0\\n0.0\\n0.0\\n0.0\\n0.0\\n0.0\\n0.0\\n0.0\\n0.0\\n0.0\\n0.0\\n0.0\\n0.0\\n0.0\\n0.0\\n0.0\\n0.0\\n0.0\\n0.0\\n0.0\\n0.0\\n0.0\\n0.0\\n0.0\\n0.0\\n0.0\\n0.0\\n0.0\\n532152690.379562\\n0.0\\n0.0\\n0.0\\n0.0\\n0.0\\n0.0\\n0.0\\n0.0\\n0.0\\n0.0\\n0.0\\n0.0\\n0.0\\n0.0\\n0.0\\n0.0\\n0.0\\n0.0\\n0.0\\n0.0\\n0.0\\n'"
      ]
     },
     "metadata": {},
     "execution_count": 32
    }
   ],
   "source": [
    "df.to_csv(index = False)"
   ]
  },
  {
   "source": [
    "## Total Funds Raised"
   ],
   "cell_type": "markdown",
   "metadata": {}
  },
  {
   "cell_type": "code",
   "execution_count": 33,
   "metadata": {},
   "outputs": [],
   "source": [
    "import pandas as pd\n",
    "df = pd.read_csv(\"../Week3_Onwards/unifed_csv_without_duplicated_company.csv\")"
   ]
  },
  {
   "cell_type": "code",
   "execution_count": 34,
   "metadata": {},
   "outputs": [
    {
     "output_type": "execute_result",
     "data": {
      "text/plain": [
       "0               NaN\n",
       "1               NaN\n",
       "2               NaN\n",
       "3               NaN\n",
       "4        25200000.0\n",
       "            ...    \n",
       "37193           NaN\n",
       "37194           NaN\n",
       "37195           NaN\n",
       "37196    14523274.0\n",
       "37197     1087000.0\n",
       "Name: total_funding_usd, Length: 37198, dtype: float64"
      ]
     },
     "metadata": {},
     "execution_count": 34
    }
   ],
   "source": [
    "series = df['total_funding_usd']\n",
    "series"
   ]
  },
  {
   "cell_type": "code",
   "execution_count": 37,
   "metadata": {},
   "outputs": [
    {
     "output_type": "execute_result",
     "data": {
      "text/plain": [
       "       total_funding_usd\n",
       "0                    NaN\n",
       "1                    NaN\n",
       "2                    NaN\n",
       "3                    NaN\n",
       "4             25200000.0\n",
       "...                  ...\n",
       "37193                NaN\n",
       "37194                NaN\n",
       "37195                NaN\n",
       "37196         14523274.0\n",
       "37197          1087000.0\n",
       "\n",
       "[37198 rows x 1 columns]"
      ],
      "text/html": "<div>\n<style scoped>\n    .dataframe tbody tr th:only-of-type {\n        vertical-align: middle;\n    }\n\n    .dataframe tbody tr th {\n        vertical-align: top;\n    }\n\n    .dataframe thead th {\n        text-align: right;\n    }\n</style>\n<table border=\"1\" class=\"dataframe\">\n  <thead>\n    <tr style=\"text-align: right;\">\n      <th></th>\n      <th>total_funding_usd</th>\n    </tr>\n  </thead>\n  <tbody>\n    <tr>\n      <th>0</th>\n      <td>NaN</td>\n    </tr>\n    <tr>\n      <th>1</th>\n      <td>NaN</td>\n    </tr>\n    <tr>\n      <th>2</th>\n      <td>NaN</td>\n    </tr>\n    <tr>\n      <th>3</th>\n      <td>NaN</td>\n    </tr>\n    <tr>\n      <th>4</th>\n      <td>25200000.0</td>\n    </tr>\n    <tr>\n      <th>...</th>\n      <td>...</td>\n    </tr>\n    <tr>\n      <th>37193</th>\n      <td>NaN</td>\n    </tr>\n    <tr>\n      <th>37194</th>\n      <td>NaN</td>\n    </tr>\n    <tr>\n      <th>37195</th>\n      <td>NaN</td>\n    </tr>\n    <tr>\n      <th>37196</th>\n      <td>14523274.0</td>\n    </tr>\n    <tr>\n      <th>37197</th>\n      <td>1087000.0</td>\n    </tr>\n  </tbody>\n</table>\n<p>37198 rows × 1 columns</p>\n</div>"
     },
     "metadata": {},
     "execution_count": 37
    }
   ],
   "source": [
    "df = series.to_frame()\n",
    "df"
   ]
  },
  {
   "cell_type": "code",
   "execution_count": 47,
   "metadata": {},
   "outputs": [
    {
     "output_type": "execute_result",
     "data": {
      "text/plain": [
       "         x_values\n",
       "0             NaN\n",
       "1             NaN\n",
       "2             NaN\n",
       "3             NaN\n",
       "4      25200000.0\n",
       "...           ...\n",
       "37193         NaN\n",
       "37194         NaN\n",
       "37195         NaN\n",
       "37196  14523274.0\n",
       "37197   1087000.0\n",
       "\n",
       "[37198 rows x 1 columns]"
      ],
      "text/html": "<div>\n<style scoped>\n    .dataframe tbody tr th:only-of-type {\n        vertical-align: middle;\n    }\n\n    .dataframe tbody tr th {\n        vertical-align: top;\n    }\n\n    .dataframe thead th {\n        text-align: right;\n    }\n</style>\n<table border=\"1\" class=\"dataframe\">\n  <thead>\n    <tr style=\"text-align: right;\">\n      <th></th>\n      <th>x_values</th>\n    </tr>\n  </thead>\n  <tbody>\n    <tr>\n      <th>0</th>\n      <td>NaN</td>\n    </tr>\n    <tr>\n      <th>1</th>\n      <td>NaN</td>\n    </tr>\n    <tr>\n      <th>2</th>\n      <td>NaN</td>\n    </tr>\n    <tr>\n      <th>3</th>\n      <td>NaN</td>\n    </tr>\n    <tr>\n      <th>4</th>\n      <td>25200000.0</td>\n    </tr>\n    <tr>\n      <th>...</th>\n      <td>...</td>\n    </tr>\n    <tr>\n      <th>37193</th>\n      <td>NaN</td>\n    </tr>\n    <tr>\n      <th>37194</th>\n      <td>NaN</td>\n    </tr>\n    <tr>\n      <th>37195</th>\n      <td>NaN</td>\n    </tr>\n    <tr>\n      <th>37196</th>\n      <td>14523274.0</td>\n    </tr>\n    <tr>\n      <th>37197</th>\n      <td>1087000.0</td>\n    </tr>\n  </tbody>\n</table>\n<p>37198 rows × 1 columns</p>\n</div>"
     },
     "metadata": {},
     "execution_count": 47
    }
   ],
   "source": [
    "df.rename(columns={'total_funding_usd': 'x_values'}, inplace=True)\n",
    "df"
   ]
  },
  {
   "cell_type": "code",
   "execution_count": 52,
   "metadata": {},
   "outputs": [
    {
     "output_type": "execute_result",
     "data": {
      "text/plain": [
       "         x_values\n",
       "4      25200000.0\n",
       "10      4025000.0\n",
       "20     13316538.0\n",
       "28      1700000.0\n",
       "38     57011648.0\n",
       "...           ...\n",
       "37177   1000000.0\n",
       "37186     65625.0\n",
       "37188   3700000.0\n",
       "37196  14523274.0\n",
       "37197   1087000.0\n",
       "\n",
       "[9093 rows x 1 columns]"
      ],
      "text/html": "<div>\n<style scoped>\n    .dataframe tbody tr th:only-of-type {\n        vertical-align: middle;\n    }\n\n    .dataframe tbody tr th {\n        vertical-align: top;\n    }\n\n    .dataframe thead th {\n        text-align: right;\n    }\n</style>\n<table border=\"1\" class=\"dataframe\">\n  <thead>\n    <tr style=\"text-align: right;\">\n      <th></th>\n      <th>x_values</th>\n    </tr>\n  </thead>\n  <tbody>\n    <tr>\n      <th>4</th>\n      <td>25200000.0</td>\n    </tr>\n    <tr>\n      <th>10</th>\n      <td>4025000.0</td>\n    </tr>\n    <tr>\n      <th>20</th>\n      <td>13316538.0</td>\n    </tr>\n    <tr>\n      <th>28</th>\n      <td>1700000.0</td>\n    </tr>\n    <tr>\n      <th>38</th>\n      <td>57011648.0</td>\n    </tr>\n    <tr>\n      <th>...</th>\n      <td>...</td>\n    </tr>\n    <tr>\n      <th>37177</th>\n      <td>1000000.0</td>\n    </tr>\n    <tr>\n      <th>37186</th>\n      <td>65625.0</td>\n    </tr>\n    <tr>\n      <th>37188</th>\n      <td>3700000.0</td>\n    </tr>\n    <tr>\n      <th>37196</th>\n      <td>14523274.0</td>\n    </tr>\n    <tr>\n      <th>37197</th>\n      <td>1087000.0</td>\n    </tr>\n  </tbody>\n</table>\n<p>9093 rows × 1 columns</p>\n</div>"
     },
     "metadata": {},
     "execution_count": 52
    }
   ],
   "source": [
    "df.dropna(inplace=True)\n",
    "df"
   ]
  },
  {
   "cell_type": "code",
   "execution_count": null,
   "metadata": {},
   "outputs": [],
   "source": [
    "df.to_csv(index = False)"
   ]
  },
  {
   "source": [
    "## Number of Investment"
   ],
   "cell_type": "markdown",
   "metadata": {}
  },
  {
   "cell_type": "code",
   "execution_count": 19,
   "metadata": {},
   "outputs": [],
   "source": [
    "import pandas as pd\n",
    "df = pd.read_csv(\"../Week3_Onwards/unifed_csv_without_duplicated_company.csv\")"
   ]
  },
  {
   "cell_type": "code",
   "execution_count": 20,
   "metadata": {},
   "outputs": [
    {
     "output_type": "execute_result",
     "data": {
      "text/plain": [
       "       investment_count\n",
       "0                   0.0\n",
       "1                   0.0\n",
       "2                   0.0\n",
       "3                   0.0\n",
       "4                   0.0\n",
       "...                 ...\n",
       "37193               0.0\n",
       "37194               0.0\n",
       "37195               0.0\n",
       "37196               0.0\n",
       "37197               0.0\n",
       "\n",
       "[37198 rows x 1 columns]"
      ],
      "text/html": "<div>\n<style scoped>\n    .dataframe tbody tr th:only-of-type {\n        vertical-align: middle;\n    }\n\n    .dataframe tbody tr th {\n        vertical-align: top;\n    }\n\n    .dataframe thead th {\n        text-align: right;\n    }\n</style>\n<table border=\"1\" class=\"dataframe\">\n  <thead>\n    <tr style=\"text-align: right;\">\n      <th></th>\n      <th>investment_count</th>\n    </tr>\n  </thead>\n  <tbody>\n    <tr>\n      <th>0</th>\n      <td>0.0</td>\n    </tr>\n    <tr>\n      <th>1</th>\n      <td>0.0</td>\n    </tr>\n    <tr>\n      <th>2</th>\n      <td>0.0</td>\n    </tr>\n    <tr>\n      <th>3</th>\n      <td>0.0</td>\n    </tr>\n    <tr>\n      <th>4</th>\n      <td>0.0</td>\n    </tr>\n    <tr>\n      <th>...</th>\n      <td>...</td>\n    </tr>\n    <tr>\n      <th>37193</th>\n      <td>0.0</td>\n    </tr>\n    <tr>\n      <th>37194</th>\n      <td>0.0</td>\n    </tr>\n    <tr>\n      <th>37195</th>\n      <td>0.0</td>\n    </tr>\n    <tr>\n      <th>37196</th>\n      <td>0.0</td>\n    </tr>\n    <tr>\n      <th>37197</th>\n      <td>0.0</td>\n    </tr>\n  </tbody>\n</table>\n<p>37198 rows × 1 columns</p>\n</div>"
     },
     "metadata": {},
     "execution_count": 20
    }
   ],
   "source": [
    "series = df['investment_count']\n",
    "df = series.to_frame()\n",
    "\n",
    "df"
   ]
  },
  {
   "cell_type": "code",
   "execution_count": 21,
   "metadata": {},
   "outputs": [
    {
     "output_type": "execute_result",
     "data": {
      "text/plain": [
       "investment_count    36627\n",
       "dtype: int64"
      ]
     },
     "metadata": {},
     "execution_count": 21
    }
   ],
   "source": [
    "df[df < 100].count()"
   ]
  },
  {
   "cell_type": "code",
   "execution_count": 22,
   "metadata": {},
   "outputs": [
    {
     "output_type": "execute_result",
     "data": {
      "text/plain": [
       "investment_count    36627\n",
       "dtype: int64"
      ]
     },
     "metadata": {},
     "execution_count": 22
    }
   ],
   "source": [
    "df[df == 0].count()"
   ]
  },
  {
   "cell_type": "code",
   "execution_count": 23,
   "metadata": {},
   "outputs": [
    {
     "output_type": "execute_result",
     "data": {
      "text/plain": [
       "       investment_count\n",
       "38                315.0\n",
       "75                244.0\n",
       "105              1072.0\n",
       "126               402.0\n",
       "129               129.0\n",
       "...                 ...\n",
       "36784             264.0\n",
       "36812             315.0\n",
       "36837             155.0\n",
       "36857            1830.0\n",
       "36858             764.0\n",
       "\n",
       "[571 rows x 1 columns]"
      ],
      "text/html": "<div>\n<style scoped>\n    .dataframe tbody tr th:only-of-type {\n        vertical-align: middle;\n    }\n\n    .dataframe tbody tr th {\n        vertical-align: top;\n    }\n\n    .dataframe thead th {\n        text-align: right;\n    }\n</style>\n<table border=\"1\" class=\"dataframe\">\n  <thead>\n    <tr style=\"text-align: right;\">\n      <th></th>\n      <th>investment_count</th>\n    </tr>\n  </thead>\n  <tbody>\n    <tr>\n      <th>38</th>\n      <td>315.0</td>\n    </tr>\n    <tr>\n      <th>75</th>\n      <td>244.0</td>\n    </tr>\n    <tr>\n      <th>105</th>\n      <td>1072.0</td>\n    </tr>\n    <tr>\n      <th>126</th>\n      <td>402.0</td>\n    </tr>\n    <tr>\n      <th>129</th>\n      <td>129.0</td>\n    </tr>\n    <tr>\n      <th>...</th>\n      <td>...</td>\n    </tr>\n    <tr>\n      <th>36784</th>\n      <td>264.0</td>\n    </tr>\n    <tr>\n      <th>36812</th>\n      <td>315.0</td>\n    </tr>\n    <tr>\n      <th>36837</th>\n      <td>155.0</td>\n    </tr>\n    <tr>\n      <th>36857</th>\n      <td>1830.0</td>\n    </tr>\n    <tr>\n      <th>36858</th>\n      <td>764.0</td>\n    </tr>\n  </tbody>\n</table>\n<p>571 rows × 1 columns</p>\n</div>"
     },
     "metadata": {},
     "execution_count": 23
    }
   ],
   "source": [
    "#drop zero\n",
    "df = df[~(df == 0).any(axis = 1)]\n",
    "df"
   ]
  },
  {
   "cell_type": "code",
   "execution_count": 25,
   "metadata": {},
   "outputs": [
    {
     "output_type": "execute_result",
     "data": {
      "text/plain": [
       "'investment_count\\n315.0\\n244.0\\n1072.0\\n402.0\\n129.0\\n764.0\\n124.0\\n232.0\\n2427.0\\n145.0\\n434.0\\n1874.0\\n1830.0\\n594.0\\n1830.0\\n635.0\\n3093.0\\n1213.0\\n1830.0\\n594.0\\n133.0\\n219.0\\n434.0\\n315.0\\n116.0\\n1072.0\\n393.0\\n1830.0\\n874.0\\n317.0\\n761.0\\n395.0\\n1072.0\\n224.0\\n1874.0\\n112.0\\n232.0\\n189.0\\n2427.0\\n317.0\\n1830.0\\n122.0\\n1072.0\\n313.0\\n382.0\\n841.0\\n312.0\\n164.0\\n119.0\\n153.0\\n2427.0\\n520.0\\n230.0\\n157.0\\n234.0\\n1830.0\\n120.0\\n1427.0\\n111.0\\n156.0\\n567.0\\n376.0\\n122.0\\n175.0\\n126.0\\n120.0\\n122.0\\n324.0\\n142.0\\n242.0\\n460.0\\n179.0\\n791.0\\n313.0\\n143.0\\n787.0\\n156.0\\n142.0\\n153.0\\n635.0\\n265.0\\n216.0\\n123.0\\n112.0\\n292.0\\n222.0\\n1072.0\\n230.0\\n120.0\\n395.0\\n125.0\\n382.0\\n1072.0\\n199.0\\n571.0\\n613.0\\n198.0\\n850.0\\n159.0\\n787.0\\n159.0\\n151.0\\n1830.0\\n850.0\\n1427.0\\n349.0\\n1427.0\\n388.0\\n402.0\\n203.0\\n507.0\\n393.0\\n146.0\\n158.0\\n370.0\\n112.0\\n142.0\\n764.0\\n393.0\\n317.0\\n850.0\\n324.0\\n238.0\\n219.0\\n224.0\\n613.0\\n3093.0\\n153.0\\n434.0\\n469.0\\n244.0\\n103.0\\n312.0\\n276.0\\n180.0\\n237.0\\n189.0\\n791.0\\n395.0\\n230.0\\n611.0\\n280.0\\n580.0\\n259.0\\n572.0\\n237.0\\n255.0\\n787.0\\n123.0\\n193.0\\n230.0\\n120.0\\n151.0\\n649.0\\n1830.0\\n1830.0\\n141.0\\n224.0\\n1427.0\\n1830.0\\n109.0\\n230.0\\n151.0\\n402.0\\n193.0\\n635.0\\n393.0\\n515.0\\n462.0\\n331.0\\n176.0\\n376.0\\n203.0\\n312.0\\n121.0\\n153.0\\n3093.0\\n613.0\\n237.0\\n145.0\\n155.0\\n106.0\\n3093.0\\n460.0\\n1072.0\\n849.0\\n127.0\\n216.0\\n850.0\\n158.0\\n268.0\\n157.0\\n291.0\\n189.0\\n566.0\\n170.0\\n635.0\\n323.0\\n386.0\\n1830.0\\n611.0\\n101.0\\n257.0\\n109.0\\n126.0\\n384.0\\n175.0\\n1499.0\\n444.0\\n649.0\\n291.0\\n189.0\\n127.0\\n3093.0\\n507.0\\n268.0\\n151.0\\n159.0\\n862.0\\n3093.0\\n189.0\\n862.0\\n156.0\\n1874.0\\n304.0\\n1830.0\\n331.0\\n157.0\\n507.0\\n189.0\\n144.0\\n126.0\\n268.0\\n132.0\\n460.0\\n195.0\\n127.0\\n150.0\\n1830.0\\n179.0\\n388.0\\n134.0\\n1072.0\\n393.0\\n134.0\\n862.0\\n193.0\\n123.0\\n120.0\\n123.0\\n862.0\\n179.0\\n368.0\\n340.0\\n189.0\\n764.0\\n157.0\\n460.0\\n180.0\\n1874.0\\n193.0\\n434.0\\n158.0\\n124.0\\n124.0\\n101.0\\n477.0\\n127.0\\n222.0\\n233.0\\n224.0\\n1072.0\\n153.0\\n230.0\\n302.0\\n619.0\\n106.0\\n192.0\\n1830.0\\n384.0\\n215.0\\n1213.0\\n460.0\\n153.0\\n874.0\\n215.0\\n1830.0\\n605.0\\n111.0\\n370.0\\n3093.0\\n548.0\\n1072.0\\n106.0\\n119.0\\n611.0\\n657.0\\n611.0\\n613.0\\n116.0\\n3093.0\\n140.0\\n402.0\\n276.0\\n418.0\\n172.0\\n348.0\\n243.0\\n257.0\\n386.0\\n619.0\\n324.0\\n1830.0\\n507.0\\n133.0\\n161.0\\n1010.0\\n1830.0\\n189.0\\n2427.0\\n181.0\\n153.0\\n580.0\\n169.0\\n142.0\\n469.0\\n1072.0\\n331.0\\n1830.0\\n101.0\\n460.0\\n123.0\\n100.0\\n230.0\\n166.0\\n194.0\\n460.0\\n344.0\\n230.0\\n189.0\\n193.0\\n112.0\\n189.0\\n279.0\\n133.0\\n103.0\\n649.0\\n169.0\\n156.0\\n2427.0\\n613.0\\n208.0\\n1072.0\\n152.0\\n172.0\\n366.0\\n255.0\\n737.0\\n169.0\\n255.0\\n259.0\\n764.0\\n222.0\\n243.0\\n230.0\\n172.0\\n150.0\\n1830.0\\n215.0\\n120.0\\n315.0\\n460.0\\n395.0\\n106.0\\n173.0\\n236.0\\n460.0\\n196.0\\n402.0\\n702.0\\n153.0\\n2427.0\\n128.0\\n103.0\\n3093.0\\n468.0\\n233.0\\n874.0\\n101.0\\n515.0\\n434.0\\n276.0\\n131.0\\n459.0\\n127.0\\n459.0\\n469.0\\n2427.0\\n120.0\\n507.0\\n159.0\\n1072.0\\n105.0\\n1499.0\\n611.0\\n103.0\\n3272.0\\n2427.0\\n402.0\\n112.0\\n376.0\\n153.0\\n611.0\\n565.0\\n732.0\\n1499.0\\n177.0\\n276.0\\n105.0\\n1072.0\\n105.0\\n507.0\\n1499.0\\n222.0\\n106.0\\n171.0\\n142.0\\n111.0\\n1072.0\\n331.0\\n123.0\\n112.0\\n234.0\\n153.0\\n1830.0\\n566.0\\n315.0\\n434.0\\n315.0\\n470.0\\n114.0\\n144.0\\n571.0\\n304.0\\n515.0\\n126.0\\n134.0\\n444.0\\n140.0\\n131.0\\n611.0\\n850.0\\n106.0\\n3272.0\\n194.0\\n120.0\\n120.0\\n862.0\\n1830.0\\n126.0\\n109.0\\n3093.0\\n302.0\\n144.0\\n103.0\\n611.0\\n222.0\\n1072.0\\n205.0\\n613.0\\n395.0\\n107.0\\n315.0\\n1213.0\\n613.0\\n333.0\\n2427.0\\n217.0\\n144.0\\n101.0\\n144.0\\n111.0\\n470.0\\n203.0\\n144.0\\n179.0\\n1830.0\\n515.0\\n129.0\\n101.0\\n189.0\\n106.0\\n156.0\\n572.0\\n348.0\\n179.0\\n515.0\\n395.0\\n1072.0\\n764.0\\n195.0\\n189.0\\n348.0\\n103.0\\n324.0\\n323.0\\n127.0\\n131.0\\n132.0\\n1213.0\\n2427.0\\n270.0\\n507.0\\n395.0\\n155.0\\n144.0\\n395.0\\n219.0\\n317.0\\n236.0\\n235.0\\n1830.0\\n100.0\\n657.0\\n265.0\\n175.0\\n116.0\\n101.0\\n1072.0\\n159.0\\n119.0\\n143.0\\n300.0\\n233.0\\n379.0\\n125.0\\n841.0\\n1830.0\\n378.0\\n462.0\\n565.0\\n567.0\\n103.0\\n199.0\\n572.0\\n216.0\\n158.0\\n169.0\\n2427.0\\n354.0\\n194.0\\n348.0\\n120.0\\n101.0\\n122.0\\n1830.0\\n148.0\\n142.0\\n377.0\\n116.0\\n116.0\\n169.0\\n144.0\\n131.0\\n649.0\\n649.0\\n264.0\\n315.0\\n155.0\\n1830.0\\n764.0\\n'"
      ]
     },
     "metadata": {},
     "execution_count": 25
    }
   ],
   "source": [
    "df.to_csv(index=False)"
   ]
  },
  {
   "cell_type": "code",
   "execution_count": null,
   "metadata": {},
   "outputs": [],
   "source": []
  }
 ]
}