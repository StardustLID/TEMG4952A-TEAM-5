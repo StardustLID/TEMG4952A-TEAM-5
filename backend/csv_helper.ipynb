{
 "metadata": {
  "language_info": {
   "codemirror_mode": {
    "name": "ipython",
    "version": 3
   },
   "file_extension": ".py",
   "mimetype": "text/x-python",
   "name": "python",
   "nbconvert_exporter": "python",
   "pygments_lexer": "ipython3",
   "version": "3.8.3-final"
  },
  "orig_nbformat": 2,
  "kernelspec": {
   "name": "python3",
   "display_name": "Python 3",
   "language": "python"
  }
 },
 "nbformat": 4,
 "nbformat_minor": 2,
 "cells": [
  {
   "cell_type": "code",
   "execution_count": 5,
   "metadata": {},
   "outputs": [],
   "source": [
    "# import library\n",
    "import pandas as pd"
   ]
  },
  {
   "cell_type": "code",
   "execution_count": 6,
   "metadata": {},
   "outputs": [],
   "source": [
    "# read the CSV\n",
    "df = pd.read_csv(\"../Week3_Onwards/unifed_csv_without_duplicated_company.csv\")"
   ]
  },
  {
   "cell_type": "code",
   "execution_count": 7,
   "metadata": {},
   "outputs": [],
   "source": [
    "# df.head()"
   ]
  },
  {
   "cell_type": "code",
   "execution_count": 8,
   "metadata": {},
   "outputs": [],
   "source": [
    "# specify the column to count\n",
    "col_to_count = 'employee_count'\n",
    "series = df[col_to_count].value_counts()"
   ]
  },
  {
   "cell_type": "code",
   "execution_count": 9,
   "metadata": {},
   "outputs": [
    {
     "output_type": "execute_result",
     "data": {
      "text/plain": [
       "1-10          17014\n",
       "11-50         10452\n",
       "unknown        5882\n",
       "51-100         1490\n",
       "101-250        1419\n",
       "251-500         484\n",
       "501-1000        195\n",
       "1001-5000       171\n",
       "10000+           47\n",
       "5001-10000       44\n",
       "Name: employee_count, dtype: int64"
      ]
     },
     "metadata": {},
     "execution_count": 9
    }
   ],
   "source": [
    "series"
   ]
  },
  {
   "cell_type": "code",
   "execution_count": 10,
   "metadata": {},
   "outputs": [],
   "source": [
    "# drop the undesired labels\n",
    "labels_to_drop = ['unknown']\n",
    "series.drop(labels=labels_to_drop, inplace=True)"
   ]
  },
  {
   "cell_type": "code",
   "execution_count": 11,
   "metadata": {},
   "outputs": [
    {
     "output_type": "execute_result",
     "data": {
      "text/plain": [
       "1-10          17014\n",
       "11-50         10452\n",
       "51-100         1490\n",
       "101-250        1419\n",
       "251-500         484\n",
       "501-1000        195\n",
       "1001-5000       171\n",
       "10000+           47\n",
       "5001-10000       44\n",
       "Name: employee_count, dtype: int64"
      ]
     },
     "metadata": {},
     "execution_count": 11
    }
   ],
   "source": [
    "series"
   ]
  },
  {
   "cell_type": "code",
   "execution_count": 12,
   "metadata": {},
   "outputs": [],
   "source": [
    "temp = series['10000+']\n",
    "series.drop(labels='10000+', inplace=True)\n",
    "series['10000+'] = temp"
   ]
  },
  {
   "cell_type": "code",
   "execution_count": 13,
   "metadata": {},
   "outputs": [
    {
     "output_type": "execute_result",
     "data": {
      "text/plain": [
       "1-10          17014\n",
       "11-50         10452\n",
       "51-100         1490\n",
       "101-250        1419\n",
       "251-500         484\n",
       "501-1000        195\n",
       "1001-5000       171\n",
       "5001-10000       44\n",
       "10000+           47\n",
       "Name: employee_count, dtype: int64"
      ]
     },
     "metadata": {},
     "execution_count": 13
    }
   ],
   "source": [
    "series"
   ]
  },
  {
   "cell_type": "code",
   "execution_count": 14,
   "metadata": {},
   "outputs": [],
   "source": [
    "df = series.to_frame()"
   ]
  },
  {
   "cell_type": "code",
   "execution_count": 15,
   "metadata": {},
   "outputs": [
    {
     "output_type": "execute_result",
     "data": {
      "text/plain": [
       "            employee_count\n",
       "1-10                 17014\n",
       "11-50                10452\n",
       "51-100                1490\n",
       "101-250               1419\n",
       "251-500                484\n",
       "501-1000               195\n",
       "1001-5000              171\n",
       "5001-10000              44\n",
       "10000+                  47"
      ],
      "text/html": "<div>\n<style scoped>\n    .dataframe tbody tr th:only-of-type {\n        vertical-align: middle;\n    }\n\n    .dataframe tbody tr th {\n        vertical-align: top;\n    }\n\n    .dataframe thead th {\n        text-align: right;\n    }\n</style>\n<table border=\"1\" class=\"dataframe\">\n  <thead>\n    <tr style=\"text-align: right;\">\n      <th></th>\n      <th>employee_count</th>\n    </tr>\n  </thead>\n  <tbody>\n    <tr>\n      <th>1-10</th>\n      <td>17014</td>\n    </tr>\n    <tr>\n      <th>11-50</th>\n      <td>10452</td>\n    </tr>\n    <tr>\n      <th>51-100</th>\n      <td>1490</td>\n    </tr>\n    <tr>\n      <th>101-250</th>\n      <td>1419</td>\n    </tr>\n    <tr>\n      <th>251-500</th>\n      <td>484</td>\n    </tr>\n    <tr>\n      <th>501-1000</th>\n      <td>195</td>\n    </tr>\n    <tr>\n      <th>1001-5000</th>\n      <td>171</td>\n    </tr>\n    <tr>\n      <th>5001-10000</th>\n      <td>44</td>\n    </tr>\n    <tr>\n      <th>10000+</th>\n      <td>47</td>\n    </tr>\n  </tbody>\n</table>\n</div>"
     },
     "metadata": {},
     "execution_count": 15
    }
   ],
   "source": [
    "df"
   ]
  },
  {
   "cell_type": "code",
   "execution_count": 16,
   "metadata": {},
   "outputs": [],
   "source": [
    "df.reset_index(inplace=True)"
   ]
  },
  {
   "cell_type": "code",
   "execution_count": 17,
   "metadata": {},
   "outputs": [
    {
     "output_type": "execute_result",
     "data": {
      "text/plain": [
       "        index  employee_count\n",
       "0        1-10           17014\n",
       "1       11-50           10452\n",
       "2      51-100            1490\n",
       "3     101-250            1419\n",
       "4     251-500             484\n",
       "5    501-1000             195\n",
       "6   1001-5000             171\n",
       "7  5001-10000              44\n",
       "8      10000+              47"
      ],
      "text/html": "<div>\n<style scoped>\n    .dataframe tbody tr th:only-of-type {\n        vertical-align: middle;\n    }\n\n    .dataframe tbody tr th {\n        vertical-align: top;\n    }\n\n    .dataframe thead th {\n        text-align: right;\n    }\n</style>\n<table border=\"1\" class=\"dataframe\">\n  <thead>\n    <tr style=\"text-align: right;\">\n      <th></th>\n      <th>index</th>\n      <th>employee_count</th>\n    </tr>\n  </thead>\n  <tbody>\n    <tr>\n      <th>0</th>\n      <td>1-10</td>\n      <td>17014</td>\n    </tr>\n    <tr>\n      <th>1</th>\n      <td>11-50</td>\n      <td>10452</td>\n    </tr>\n    <tr>\n      <th>2</th>\n      <td>51-100</td>\n      <td>1490</td>\n    </tr>\n    <tr>\n      <th>3</th>\n      <td>101-250</td>\n      <td>1419</td>\n    </tr>\n    <tr>\n      <th>4</th>\n      <td>251-500</td>\n      <td>484</td>\n    </tr>\n    <tr>\n      <th>5</th>\n      <td>501-1000</td>\n      <td>195</td>\n    </tr>\n    <tr>\n      <th>6</th>\n      <td>1001-5000</td>\n      <td>171</td>\n    </tr>\n    <tr>\n      <th>7</th>\n      <td>5001-10000</td>\n      <td>44</td>\n    </tr>\n    <tr>\n      <th>8</th>\n      <td>10000+</td>\n      <td>47</td>\n    </tr>\n  </tbody>\n</table>\n</div>"
     },
     "metadata": {},
     "execution_count": 17
    }
   ],
   "source": [
    "df"
   ]
  },
  {
   "cell_type": "code",
   "execution_count": 18,
   "metadata": {},
   "outputs": [],
   "source": [
    "# rename in the dict\n",
    "df.rename(columns={'employee_count': 'freq', 'index': 'employee_count'}, inplace=True)"
   ]
  },
  {
   "cell_type": "code",
   "execution_count": 19,
   "metadata": {},
   "outputs": [
    {
     "output_type": "execute_result",
     "data": {
      "text/plain": [
       "  employee_count   freq\n",
       "0           1-10  17014\n",
       "1          11-50  10452\n",
       "2         51-100   1490\n",
       "3        101-250   1419\n",
       "4        251-500    484\n",
       "5       501-1000    195\n",
       "6      1001-5000    171\n",
       "7     5001-10000     44\n",
       "8         10000+     47"
      ],
      "text/html": "<div>\n<style scoped>\n    .dataframe tbody tr th:only-of-type {\n        vertical-align: middle;\n    }\n\n    .dataframe tbody tr th {\n        vertical-align: top;\n    }\n\n    .dataframe thead th {\n        text-align: right;\n    }\n</style>\n<table border=\"1\" class=\"dataframe\">\n  <thead>\n    <tr style=\"text-align: right;\">\n      <th></th>\n      <th>employee_count</th>\n      <th>freq</th>\n    </tr>\n  </thead>\n  <tbody>\n    <tr>\n      <th>0</th>\n      <td>1-10</td>\n      <td>17014</td>\n    </tr>\n    <tr>\n      <th>1</th>\n      <td>11-50</td>\n      <td>10452</td>\n    </tr>\n    <tr>\n      <th>2</th>\n      <td>51-100</td>\n      <td>1490</td>\n    </tr>\n    <tr>\n      <th>3</th>\n      <td>101-250</td>\n      <td>1419</td>\n    </tr>\n    <tr>\n      <th>4</th>\n      <td>251-500</td>\n      <td>484</td>\n    </tr>\n    <tr>\n      <th>5</th>\n      <td>501-1000</td>\n      <td>195</td>\n    </tr>\n    <tr>\n      <th>6</th>\n      <td>1001-5000</td>\n      <td>171</td>\n    </tr>\n    <tr>\n      <th>7</th>\n      <td>5001-10000</td>\n      <td>44</td>\n    </tr>\n    <tr>\n      <th>8</th>\n      <td>10000+</td>\n      <td>47</td>\n    </tr>\n  </tbody>\n</table>\n</div>"
     },
     "metadata": {},
     "execution_count": 19
    }
   ],
   "source": [
    "df"
   ]
  },
  {
   "cell_type": "code",
   "execution_count": 20,
   "metadata": {},
   "outputs": [
    {
     "output_type": "execute_result",
     "data": {
      "text/plain": [
       "'employee_count   freq\\n          1-10  17014\\n         11-50  10452\\n        51-100   1490\\n       101-250   1419\\n       251-500    484\\n      501-1000    195\\n     1001-5000    171\\n    5001-10000     44\\n        10000+     47'"
      ]
     },
     "metadata": {},
     "execution_count": 20
    }
   ],
   "source": [
    "# output df or series\n",
    "# uncomment to output a lightweight csv\n",
    "# df.to_csv(\"employee_count.csv\", index=False)\n",
    "df.to_string(index=False)"
   ]
  },
  {
   "source": [
    "## No. of Funding Rounds"
   ],
   "cell_type": "markdown",
   "metadata": {}
  },
  {
   "cell_type": "code",
   "execution_count": 21,
   "metadata": {},
   "outputs": [],
   "source": [
    "import pandas as pd\n",
    "df = pd.read_csv(\"../Week3_Onwards/unifed_csv_without_duplicated_company.csv\")"
   ]
  },
  {
   "cell_type": "code",
   "execution_count": 22,
   "metadata": {},
   "outputs": [
    {
     "output_type": "execute_result",
     "data": {
      "text/plain": [
       "0.0        4\n",
       "1.0     6396\n",
       "2.0     2518\n",
       "3.0     1304\n",
       "4.0      780\n",
       "5.0      429\n",
       "6.0      246\n",
       "7.0      151\n",
       "8.0       94\n",
       "9.0       46\n",
       "10.0      22\n",
       "11.0      18\n",
       "12.0       7\n",
       "13.0       5\n",
       "14.0       7\n",
       "15.0       3\n",
       "16.0       2\n",
       "17.0       1\n",
       "19.0       1\n",
       "20.0       1\n",
       "23.0       1\n",
       "Name: num_funding_rounds, dtype: int64"
      ]
     },
     "metadata": {},
     "execution_count": 22
    }
   ],
   "source": [
    "series = df['num_funding_rounds'].value_counts().sort_index()\n",
    "series"
   ]
  },
  {
   "cell_type": "code",
   "execution_count": 23,
   "metadata": {},
   "outputs": [
    {
     "output_type": "execute_result",
     "data": {
      "text/plain": [
       "    index  num_funding_rounds\n",
       "1     1.0                6396\n",
       "2     2.0                2518\n",
       "3     3.0                1304\n",
       "4     4.0                 780\n",
       "5     5.0                 429\n",
       "6     6.0                 246\n",
       "7     7.0                 151\n",
       "8     8.0                  94\n",
       "9     9.0                  46\n",
       "10   10.0                  22\n",
       "11   11.0                  18\n",
       "12   12.0                   7\n",
       "13   13.0                   5\n",
       "14   14.0                   7\n",
       "15   15.0                   3\n",
       "16   16.0                   2\n",
       "17   17.0                   1\n",
       "18   19.0                   1\n",
       "19   20.0                   1\n",
       "20   23.0                   1"
      ],
      "text/html": "<div>\n<style scoped>\n    .dataframe tbody tr th:only-of-type {\n        vertical-align: middle;\n    }\n\n    .dataframe tbody tr th {\n        vertical-align: top;\n    }\n\n    .dataframe thead th {\n        text-align: right;\n    }\n</style>\n<table border=\"1\" class=\"dataframe\">\n  <thead>\n    <tr style=\"text-align: right;\">\n      <th></th>\n      <th>index</th>\n      <th>num_funding_rounds</th>\n    </tr>\n  </thead>\n  <tbody>\n    <tr>\n      <th>1</th>\n      <td>1.0</td>\n      <td>6396</td>\n    </tr>\n    <tr>\n      <th>2</th>\n      <td>2.0</td>\n      <td>2518</td>\n    </tr>\n    <tr>\n      <th>3</th>\n      <td>3.0</td>\n      <td>1304</td>\n    </tr>\n    <tr>\n      <th>4</th>\n      <td>4.0</td>\n      <td>780</td>\n    </tr>\n    <tr>\n      <th>5</th>\n      <td>5.0</td>\n      <td>429</td>\n    </tr>\n    <tr>\n      <th>6</th>\n      <td>6.0</td>\n      <td>246</td>\n    </tr>\n    <tr>\n      <th>7</th>\n      <td>7.0</td>\n      <td>151</td>\n    </tr>\n    <tr>\n      <th>8</th>\n      <td>8.0</td>\n      <td>94</td>\n    </tr>\n    <tr>\n      <th>9</th>\n      <td>9.0</td>\n      <td>46</td>\n    </tr>\n    <tr>\n      <th>10</th>\n      <td>10.0</td>\n      <td>22</td>\n    </tr>\n    <tr>\n      <th>11</th>\n      <td>11.0</td>\n      <td>18</td>\n    </tr>\n    <tr>\n      <th>12</th>\n      <td>12.0</td>\n      <td>7</td>\n    </tr>\n    <tr>\n      <th>13</th>\n      <td>13.0</td>\n      <td>5</td>\n    </tr>\n    <tr>\n      <th>14</th>\n      <td>14.0</td>\n      <td>7</td>\n    </tr>\n    <tr>\n      <th>15</th>\n      <td>15.0</td>\n      <td>3</td>\n    </tr>\n    <tr>\n      <th>16</th>\n      <td>16.0</td>\n      <td>2</td>\n    </tr>\n    <tr>\n      <th>17</th>\n      <td>17.0</td>\n      <td>1</td>\n    </tr>\n    <tr>\n      <th>18</th>\n      <td>19.0</td>\n      <td>1</td>\n    </tr>\n    <tr>\n      <th>19</th>\n      <td>20.0</td>\n      <td>1</td>\n    </tr>\n    <tr>\n      <th>20</th>\n      <td>23.0</td>\n      <td>1</td>\n    </tr>\n  </tbody>\n</table>\n</div>"
     },
     "metadata": {},
     "execution_count": 23
    }
   ],
   "source": [
    "df = series.to_frame()\n",
    "df = series.reset_index().drop(index=0) # Remove no. of rounds == 0\n",
    "df"
   ]
  },
  {
   "cell_type": "code",
   "execution_count": 24,
   "metadata": {},
   "outputs": [
    {
     "output_type": "execute_result",
     "data": {
      "text/plain": [
       "    index  num_funding_rounds\n",
       "1       1                6396\n",
       "2       2                2518\n",
       "3       3                1304\n",
       "4       4                 780\n",
       "5       5                 429\n",
       "6       6                 246\n",
       "7       7                 151\n",
       "8       8                  94\n",
       "9       9                  46\n",
       "10     10                  22\n",
       "11     11                  18\n",
       "12     12                   7\n",
       "13     13                   5\n",
       "14     14                   7\n",
       "15     15                   3\n",
       "16     16                   2\n",
       "17     17                   1\n",
       "18     19                   1\n",
       "19     20                   1\n",
       "20     23                   1"
      ],
      "text/html": "<div>\n<style scoped>\n    .dataframe tbody tr th:only-of-type {\n        vertical-align: middle;\n    }\n\n    .dataframe tbody tr th {\n        vertical-align: top;\n    }\n\n    .dataframe thead th {\n        text-align: right;\n    }\n</style>\n<table border=\"1\" class=\"dataframe\">\n  <thead>\n    <tr style=\"text-align: right;\">\n      <th></th>\n      <th>index</th>\n      <th>num_funding_rounds</th>\n    </tr>\n  </thead>\n  <tbody>\n    <tr>\n      <th>1</th>\n      <td>1</td>\n      <td>6396</td>\n    </tr>\n    <tr>\n      <th>2</th>\n      <td>2</td>\n      <td>2518</td>\n    </tr>\n    <tr>\n      <th>3</th>\n      <td>3</td>\n      <td>1304</td>\n    </tr>\n    <tr>\n      <th>4</th>\n      <td>4</td>\n      <td>780</td>\n    </tr>\n    <tr>\n      <th>5</th>\n      <td>5</td>\n      <td>429</td>\n    </tr>\n    <tr>\n      <th>6</th>\n      <td>6</td>\n      <td>246</td>\n    </tr>\n    <tr>\n      <th>7</th>\n      <td>7</td>\n      <td>151</td>\n    </tr>\n    <tr>\n      <th>8</th>\n      <td>8</td>\n      <td>94</td>\n    </tr>\n    <tr>\n      <th>9</th>\n      <td>9</td>\n      <td>46</td>\n    </tr>\n    <tr>\n      <th>10</th>\n      <td>10</td>\n      <td>22</td>\n    </tr>\n    <tr>\n      <th>11</th>\n      <td>11</td>\n      <td>18</td>\n    </tr>\n    <tr>\n      <th>12</th>\n      <td>12</td>\n      <td>7</td>\n    </tr>\n    <tr>\n      <th>13</th>\n      <td>13</td>\n      <td>5</td>\n    </tr>\n    <tr>\n      <th>14</th>\n      <td>14</td>\n      <td>7</td>\n    </tr>\n    <tr>\n      <th>15</th>\n      <td>15</td>\n      <td>3</td>\n    </tr>\n    <tr>\n      <th>16</th>\n      <td>16</td>\n      <td>2</td>\n    </tr>\n    <tr>\n      <th>17</th>\n      <td>17</td>\n      <td>1</td>\n    </tr>\n    <tr>\n      <th>18</th>\n      <td>19</td>\n      <td>1</td>\n    </tr>\n    <tr>\n      <th>19</th>\n      <td>20</td>\n      <td>1</td>\n    </tr>\n    <tr>\n      <th>20</th>\n      <td>23</td>\n      <td>1</td>\n    </tr>\n  </tbody>\n</table>\n</div>"
     },
     "metadata": {},
     "execution_count": 24
    }
   ],
   "source": [
    "df['index'] = df['index'].astype(int)\n",
    "df"
   ]
  },
  {
   "cell_type": "code",
   "execution_count": 25,
   "metadata": {},
   "outputs": [
    {
     "output_type": "execute_result",
     "data": {
      "text/plain": [
       "    x_labels  y_values\n",
       "1          1      6396\n",
       "2          2      2518\n",
       "3          3      1304\n",
       "4          4       780\n",
       "5          5       429\n",
       "6          6       246\n",
       "7          7       151\n",
       "8          8        94\n",
       "9          9        46\n",
       "10        10        22\n",
       "11        11        18\n",
       "12        12         7\n",
       "13        13         5\n",
       "14        14         7\n",
       "15        15         3\n",
       "16        16         2\n",
       "17        17         1\n",
       "18        19         1\n",
       "19        20         1\n",
       "20        23         1"
      ],
      "text/html": "<div>\n<style scoped>\n    .dataframe tbody tr th:only-of-type {\n        vertical-align: middle;\n    }\n\n    .dataframe tbody tr th {\n        vertical-align: top;\n    }\n\n    .dataframe thead th {\n        text-align: right;\n    }\n</style>\n<table border=\"1\" class=\"dataframe\">\n  <thead>\n    <tr style=\"text-align: right;\">\n      <th></th>\n      <th>x_labels</th>\n      <th>y_values</th>\n    </tr>\n  </thead>\n  <tbody>\n    <tr>\n      <th>1</th>\n      <td>1</td>\n      <td>6396</td>\n    </tr>\n    <tr>\n      <th>2</th>\n      <td>2</td>\n      <td>2518</td>\n    </tr>\n    <tr>\n      <th>3</th>\n      <td>3</td>\n      <td>1304</td>\n    </tr>\n    <tr>\n      <th>4</th>\n      <td>4</td>\n      <td>780</td>\n    </tr>\n    <tr>\n      <th>5</th>\n      <td>5</td>\n      <td>429</td>\n    </tr>\n    <tr>\n      <th>6</th>\n      <td>6</td>\n      <td>246</td>\n    </tr>\n    <tr>\n      <th>7</th>\n      <td>7</td>\n      <td>151</td>\n    </tr>\n    <tr>\n      <th>8</th>\n      <td>8</td>\n      <td>94</td>\n    </tr>\n    <tr>\n      <th>9</th>\n      <td>9</td>\n      <td>46</td>\n    </tr>\n    <tr>\n      <th>10</th>\n      <td>10</td>\n      <td>22</td>\n    </tr>\n    <tr>\n      <th>11</th>\n      <td>11</td>\n      <td>18</td>\n    </tr>\n    <tr>\n      <th>12</th>\n      <td>12</td>\n      <td>7</td>\n    </tr>\n    <tr>\n      <th>13</th>\n      <td>13</td>\n      <td>5</td>\n    </tr>\n    <tr>\n      <th>14</th>\n      <td>14</td>\n      <td>7</td>\n    </tr>\n    <tr>\n      <th>15</th>\n      <td>15</td>\n      <td>3</td>\n    </tr>\n    <tr>\n      <th>16</th>\n      <td>16</td>\n      <td>2</td>\n    </tr>\n    <tr>\n      <th>17</th>\n      <td>17</td>\n      <td>1</td>\n    </tr>\n    <tr>\n      <th>18</th>\n      <td>19</td>\n      <td>1</td>\n    </tr>\n    <tr>\n      <th>19</th>\n      <td>20</td>\n      <td>1</td>\n    </tr>\n    <tr>\n      <th>20</th>\n      <td>23</td>\n      <td>1</td>\n    </tr>\n  </tbody>\n</table>\n</div>"
     },
     "metadata": {},
     "execution_count": 25
    }
   ],
   "source": [
    "df.rename(columns={'index': 'x_labels', 'num_funding_rounds': 'y_values'}, inplace=True)\n",
    "df"
   ]
  },
  {
   "cell_type": "code",
   "execution_count": 26,
   "metadata": {},
   "outputs": [
    {
     "output_type": "execute_result",
     "data": {
      "text/plain": [
       "'x_labels,y_values\\n1,6396\\n2,2518\\n3,1304\\n4,780\\n5,429\\n6,246\\n7,151\\n8,94\\n9,46\\n10,22\\n11,18\\n12,7\\n13,5\\n14,7\\n15,3\\n16,2\\n17,1\\n19,1\\n20,1\\n23,1\\n'"
      ]
     },
     "metadata": {},
     "execution_count": 26
    }
   ],
   "source": [
    "df.to_csv(index=False)"
   ]
  },
  {
   "source": [
    "## Acquisition Price"
   ],
   "cell_type": "markdown",
   "metadata": {}
  },
  {
   "cell_type": "code",
   "execution_count": 27,
   "metadata": {},
   "outputs": [],
   "source": [
    "import pandas as pd\n",
    "df = pd.read_csv(\"../Week3_Onwards/unifed_csv_without_duplicated_company.csv\")"
   ]
  },
  {
   "cell_type": "code",
   "execution_count": 28,
   "metadata": {},
   "outputs": [
    {
     "output_type": "execute_result",
     "data": {
      "text/plain": [
       "0        0.0\n",
       "1        0.0\n",
       "2        0.0\n",
       "3        0.0\n",
       "4        0.0\n",
       "        ... \n",
       "37193    0.0\n",
       "37194    0.0\n",
       "37195    0.0\n",
       "37196    0.0\n",
       "37197    0.0\n",
       "Name: acquisitions_price_usd, Length: 37198, dtype: float64"
      ]
     },
     "metadata": {},
     "execution_count": 28
    }
   ],
   "source": [
    "series = df['acquisitions_price_usd']\n",
    "series"
   ]
  },
  {
   "cell_type": "code",
   "execution_count": 30,
   "metadata": {},
   "outputs": [
    {
     "output_type": "execute_result",
     "data": {
      "text/plain": [
       "       acquisitions_price_usd\n",
       "0                         0.0\n",
       "1                         0.0\n",
       "2                         0.0\n",
       "3                         0.0\n",
       "4                         0.0\n",
       "...                       ...\n",
       "37193                     0.0\n",
       "37194                     0.0\n",
       "37195                     0.0\n",
       "37196                     0.0\n",
       "37197                     0.0\n",
       "\n",
       "[37198 rows x 1 columns]"
      ],
      "text/html": "<div>\n<style scoped>\n    .dataframe tbody tr th:only-of-type {\n        vertical-align: middle;\n    }\n\n    .dataframe tbody tr th {\n        vertical-align: top;\n    }\n\n    .dataframe thead th {\n        text-align: right;\n    }\n</style>\n<table border=\"1\" class=\"dataframe\">\n  <thead>\n    <tr style=\"text-align: right;\">\n      <th></th>\n      <th>acquisitions_price_usd</th>\n    </tr>\n  </thead>\n  <tbody>\n    <tr>\n      <th>0</th>\n      <td>0.0</td>\n    </tr>\n    <tr>\n      <th>1</th>\n      <td>0.0</td>\n    </tr>\n    <tr>\n      <th>2</th>\n      <td>0.0</td>\n    </tr>\n    <tr>\n      <th>3</th>\n      <td>0.0</td>\n    </tr>\n    <tr>\n      <th>4</th>\n      <td>0.0</td>\n    </tr>\n    <tr>\n      <th>...</th>\n      <td>...</td>\n    </tr>\n    <tr>\n      <th>37193</th>\n      <td>0.0</td>\n    </tr>\n    <tr>\n      <th>37194</th>\n      <td>0.0</td>\n    </tr>\n    <tr>\n      <th>37195</th>\n      <td>0.0</td>\n    </tr>\n    <tr>\n      <th>37196</th>\n      <td>0.0</td>\n    </tr>\n    <tr>\n      <th>37197</th>\n      <td>0.0</td>\n    </tr>\n  </tbody>\n</table>\n<p>37198 rows × 1 columns</p>\n</div>"
     },
     "metadata": {},
     "execution_count": 30
    }
   ],
   "source": [
    "df = series.to_frame()\n",
    "df"
   ]
  },
  {
   "cell_type": "code",
   "execution_count": 31,
   "metadata": {},
   "outputs": [
    {
     "output_type": "execute_result",
     "data": {
      "text/plain": [
       "       x_values\n",
       "0           0.0\n",
       "1           0.0\n",
       "2           0.0\n",
       "3           0.0\n",
       "4           0.0\n",
       "...         ...\n",
       "37193       0.0\n",
       "37194       0.0\n",
       "37195       0.0\n",
       "37196       0.0\n",
       "37197       0.0\n",
       "\n",
       "[37198 rows x 1 columns]"
      ],
      "text/html": "<div>\n<style scoped>\n    .dataframe tbody tr th:only-of-type {\n        vertical-align: middle;\n    }\n\n    .dataframe tbody tr th {\n        vertical-align: top;\n    }\n\n    .dataframe thead th {\n        text-align: right;\n    }\n</style>\n<table border=\"1\" class=\"dataframe\">\n  <thead>\n    <tr style=\"text-align: right;\">\n      <th></th>\n      <th>x_values</th>\n    </tr>\n  </thead>\n  <tbody>\n    <tr>\n      <th>0</th>\n      <td>0.0</td>\n    </tr>\n    <tr>\n      <th>1</th>\n      <td>0.0</td>\n    </tr>\n    <tr>\n      <th>2</th>\n      <td>0.0</td>\n    </tr>\n    <tr>\n      <th>3</th>\n      <td>0.0</td>\n    </tr>\n    <tr>\n      <th>4</th>\n      <td>0.0</td>\n    </tr>\n    <tr>\n      <th>...</th>\n      <td>...</td>\n    </tr>\n    <tr>\n      <th>37193</th>\n      <td>0.0</td>\n    </tr>\n    <tr>\n      <th>37194</th>\n      <td>0.0</td>\n    </tr>\n    <tr>\n      <th>37195</th>\n      <td>0.0</td>\n    </tr>\n    <tr>\n      <th>37196</th>\n      <td>0.0</td>\n    </tr>\n    <tr>\n      <th>37197</th>\n      <td>0.0</td>\n    </tr>\n  </tbody>\n</table>\n<p>37198 rows × 1 columns</p>\n</div>"
     },
     "metadata": {},
     "execution_count": 31
    }
   ],
   "source": [
    "df.rename(columns={'acquisitions_price_usd': 'x_values'}, inplace=True)\n",
    "df"
   ]
  },
  {
   "cell_type": "code",
   "execution_count": 32,
   "metadata": {},
   "outputs": [
    {
     "output_type": "execute_result",
     "data": {
      "text/plain": [
       "0\\n0.0\\n0.0\\n0.0\\n0.0\\n0.0\\n0.0\\n0.0\\n0.0\\n0.0\\n0.0\\n0.0\\n0.0\\n0.0\\n0.0\\n0.0\\n0.0\\n0.0\\n0.0\\n0.0\\n0.0\\n0.0\\n0.0\\n0.0\\n0.0\\n0.0\\n0.0\\n0.0\\n0.0\\n0.0\\n0.0\\n0.0\\n0.0\\n0.0\\n0.0\\n0.0\\n0.0\\n0.0\\n0.0\\n0.0\\n0.0\\n0.0\\n0.0\\n0.0\\n0.0\\n0.0\\n0.0\\n0.0\\n0.0\\n0.0\\n0.0\\n0.0\\n0.0\\n0.0\\n0.0\\n0.0\\n0.0\\n0.0\\n0.0\\n0.0\\n0.0\\n0.0\\n0.0\\n0.0\\n0.0\\n0.0\\n0.0\\n532152690.379562\\n0.0\\n0.0\\n0.0\\n0.0\\n0.0\\n0.0\\n0.0\\n0.0\\n0.0\\n0.0\\n0.0\\n0.0\\n0.0\\n0.0\\n0.0\\n0.0\\n0.0\\n0.0\\n0.0\\n0.0\\n0.0\\n0.0\\n0.0\\n0.0\\n0.0\\n0.0\\n0.0\\n0.0\\n0.0\\n0.0\\n0.0\\n0.0\\n0.0\\n0.0\\n0.0\\n0.0\\n0.0\\n0.0\\n0.0\\n0.0\\n0.0\\n0.0\\n0.0\\n0.0\\n0.0\\n0.0\\n0.0\\n0.0\\n0.0\\n0.0\\n0.0\\n0.0\\n0.0\\n0.0\\n0.0\\n0.0\\n0.0\\n0.0\\n0.0\\n0.0\\n0.0\\n0.0\\n0.0\\n0.0\\n0.0\\n0.0\\n532152690.379562\\n0.0\\n0.0\\n0.0\\n0.0\\n0.0\\n0.0\\n0.0\\n0.0\\n532152690.379562\\n0.0\\n0.0\\n0.0\\n0.0\\n0.0\\n0.0\\n0.0\\n0.0\\n0.0\\n0.0\\n0.0\\n0.0\\n0.0\\n0.0\\n0.0\\n0.0\\n0.0\\n0.0\\n0.0\\n0.0\\n0.0\\n0.0\\n0.0\\n0.0\\n0.0\\n0.0\\n0.0\\n0.0\\n0.0\\n0.0\\n0.0\\n0.0\\n0.0\\n0.0\\n0.0\\n0.0\\n0.0\\n0.0\\n0.0\\n0.0\\n0.0\\n0.0\\n0.0\\n0.0\\n0.0\\n0.0\\n0.0\\n0.0\\n0.0\\n0.0\\n0.0\\n0.0\\n0.0\\n0.0\\n0.0\\n0.0\\n0.0\\n0.0\\n0.0\\n0.0\\n0.0\\n0.0\\n0.0\\n0.0\\n0.0\\n0.0\\n0.0\\n0.0\\n0.0\\n0.0\\n532152690.379562\\n0.0\\n0.0\\n0.0\\n0.0\\n0.0\\n0.0\\n0.0\\n0.0\\n532152690.379562\\n0.0\\n0.0\\n532152690.379562\\n0.0\\n0.0\\n0.0\\n0.0\\n0.0\\n0.0\\n0.0\\n0.0\\n0.0\\n0.0\\n0.0\\n0.0\\n532152690.379562\\n0.0\\n0.0\\n0.0\\n0.0\\n0.0\\n0.0\\n0.0\\n0.0\\n0.0\\n0.0\\n0.0\\n0.0\\n0.0\\n0.0\\n0.0\\n0.0\\n0.0\\n0.0\\n0.0\\n0.0\\n0.0\\n0.0\\n0.0\\n0.0\\n0.0\\n0.0\\n0.0\\n0.0\\n0.0\\n0.0\\n0.0\\n0.0\\n0.0\\n532152690.379562\\n0.0\\n0.0\\n0.0\\n0.0\\n0.0\\n0.0\\n0.0\\n0.0\\n0.0\\n0.0\\n0.0\\n0.0\\n0.0\\n0.0\\n0.0\\n0.0\\n0.0\\n0.0\\n0.0\\n0.0\\n0.0\\n0.0\\n0.0\\n0.0\\n0.0\\n0.0\\n0.0\\n0.0\\n0.0\\n0.0\\n0.0\\n0.0\\n0.0\\n0.0\\n0.0\\n0.0\\n0.0\\n0.0\\n0.0\\n0.0\\n0.0\\n0.0\\n0.0\\n0.0\\n0.0\\n0.0\\n0.0\\n0.0\\n0.0\\n0.0\\n0.0\\n0.0\\n0.0\\n0.0\\n0.0\\n0.0\\n0.0\\n0.0\\n0.0\\n0.0\\n0.0\\n0.0\\n0.0\\n0.0\\n0.0\\n0.0\\n0.0\\n0.0\\n0.0\\n0.0\\n0.0\\n0.0\\n0.0\\n0.0\\n0.0\\n0.0\\n0.0\\n0.0\\n0.0\\n0.0\\n0.0\\n0.0\\n0.0\\n0.0\\n0.0\\n0.0\\n0.0\\n0.0\\n0.0\\n0.0\\n0.0\\n0.0\\n0.0\\n0.0\\n0.0\\n0.0\\n0.0\\n0.0\\n0.0\\n0.0\\n0.0\\n0.0\\n0.0\\n0.0\\n0.0\\n0.0\\n0.0\\n0.0\\n0.0\\n0.0\\n0.0\\n0.0\\n0.0\\n0.0\\n0.0\\n0.0\\n0.0\\n532152690.379562\\n0.0\\n0.0\\n0.0\\n0.0\\n0.0\\n0.0\\n0.0\\n0.0\\n0.0\\n0.0\\n0.0\\n0.0\\n0.0\\n0.0\\n0.0\\n0.0\\n532152690.379562\\n0.0\\n0.0\\n0.0\\n0.0\\n0.0\\n0.0\\n0.0\\n0.0\\n0.0\\n0.0\\n0.0\\n0.0\\n532152690.379562\\n0.0\\n0.0\\n0.0\\n0.0\\n0.0\\n0.0\\n0.0\\n0.0\\n0.0\\n0.0\\n0.0\\n0.0\\n0.0\\n0.0\\n0.0\\n0.0\\n0.0\\n0.0\\n0.0\\n0.0\\n0.0\\n0.0\\n532152690.379562\\n0.0\\n0.0\\n532152690.379562\\n0.0\\n0.0\\n532152690.379562\\n0.0\\n0.0\\n0.0\\n532152690.379562\\n0.0\\n0.0\\n532152690.379562\\n0.0\\n532152690.379562\\n0.0\\n0.0\\n0.0\\n0.0\\n0.0\\n0.0\\n0.0\\n0.0\\n0.0\\n0.0\\n0.0\\n0.0\\n0.0\\n0.0\\n0.0\\n0.0\\n0.0\\n0.0\\n0.0\\n0.0\\n0.0\\n0.0\\n0.0\\n0.0\\n0.0\\n0.0\\n0.0\\n0.0\\n0.0\\n0.0\\n0.0\\n0.0\\n0.0\\n0.0\\n0.0\\n0.0\\n0.0\\n0.0\\n0.0\\n0.0\\n0.0\\n0.0\\n0.0\\n0.0\\n0.0\\n0.0\\n0.0\\n0.0\\n0.0\\n0.0\\n0.0\\n0.0\\n0.0\\n0.0\\n0.0\\n0.0\\n0.0\\n0.0\\n0.0\\n0.0\\n0.0\\n0.0\\n0.0\\n0.0\\n0.0\\n0.0\\n0.0\\n0.0\\n0.0\\n532152690.379562\\n0.0\\n0.0\\n0.0\\n0.0\\n532152690.379562\\n0.0\\n0.0\\n0.0\\n0.0\\n0.0\\n0.0\\n0.0\\n0.0\\n0.0\\n0.0\\n0.0\\n0.0\\n0.0\\n0.0\\n0.0\\n0.0\\n0.0\\n532152690.379562\\n0.0\\n0.0\\n0.0\\n0.0\\n0.0\\n0.0\\n0.0\\n0.0\\n0.0\\n0.0\\n0.0\\n0.0\\n0.0\\n0.0\\n0.0\\n0.0\\n0.0\\n0.0\\n0.0\\n0.0\\n0.0\\n0.0\\n0.0\\n0.0\\n0.0\\n0.0\\n0.0\\n0.0\\n0.0\\n0.0\\n0.0\\n0.0\\n0.0\\n0.0\\n0.0\\n0.0\\n0.0\\n0.0\\n0.0\\n0.0\\n0.0\\n0.0\\n0.0\\n0.0\\n0.0\\n0.0\\n0.0\\n0.0\\n0.0\\n0.0\\n0.0\\n0.0\\n0.0\\n0.0\\n0.0\\n0.0\\n0.0\\n0.0\\n0.0\\n0.0\\n0.0\\n0.0\\n0.0\\n532152690.379562\\n0.0\\n0.0\\n0.0\\n0.0\\n0.0\\n0.0\\n0.0\\n0.0\\n0.0\\n0.0\\n0.0\\n0.0\\n0.0\\n0.0\\n0.0\\n0.0\\n0.0\\n532152690.379562\\n0.0\\n0.0\\n0.0\\n0.0\\n0.0\\n0.0\\n0.0\\n0.0\\n0.0\\n0.0\\n0.0\\n0.0\\n0.0\\n0.0\\n0.0\\n0.0\\n0.0\\n0.0\\n0.0\\n0.0\\n0.0\\n0.0\\n0.0\\n0.0\\n0.0\\n0.0\\n0.0\\n0.0\\n0.0\\n0.0\\n0.0\\n0.0\\n0.0\\n532152690.379562\\n0.0\\n0.0\\n0.0\\n0.0\\n0.0\\n0.0\\n0.0\\n0.0\\n0.0\\n0.0\\n0.0\\n0.0\\n0.0\\n0.0\\n0.0\\n0.0\\n0.0\\n0.0\\n0.0\\n0.0\\n0.0\\n0.0\\n0.0\\n0.0\\n0.0\\n0.0\\n0.0\\n0.0\\n0.0\\n0.0\\n0.0\\n0.0\\n0.0\\n0.0\\n0.0\\n0.0\\n0.0\\n0.0\\n0.0\\n0.0\\n0.0\\n0.0\\n0.0\\n0.0\\n0.0\\n0.0\\n0.0\\n0.0\\n0.0\\n0.0\\n0.0\\n0.0\\n0.0\\n0.0\\n0.0\\n0.0\\n0.0\\n0.0\\n0.0\\n0.0\\n0.0\\n0.0\\n0.0\\n0.0\\n0.0\\n0.0\\n0.0\\n0.0\\n0.0\\n532152690.379562\\n0.0\\n0.0\\n0.0\\n0.0\\n0.0\\n0.0\\n0.0\\n0.0\\n0.0\\n0.0\\n0.0\\n0.0\\n0.0\\n0.0\\n532152690.379562\\n0.0\\n0.0\\n0.0\\n0.0\\n0.0\\n0.0\\n0.0\\n0.0\\n0.0\\n0.0\\n0.0\\n0.0\\n0.0\\n0.0\\n0.0\\n0.0\\n0.0\\n0.0\\n0.0\\n0.0\\n0.0\\n0.0\\n0.0\\n0.0\\n0.0\\n0.0\\n0.0\\n0.0\\n0.0\\n0.0\\n0.0\\n0.0\\n0.0\\n0.0\\n0.0\\n0.0\\n0.0\\n0.0\\n0.0\\n0.0\\n0.0\\n0.0\\n0.0\\n0.0\\n0.0\\n0.0\\n0.0\\n0.0\\n0.0\\n0.0\\n0.0\\n0.0\\n0.0\\n0.0\\n0.0\\n0.0\\n0.0\\n0.0\\n0.0\\n0.0\\n0.0\\n0.0\\n0.0\\n0.0\\n0.0\\n0.0\\n0.0\\n0.0\\n0.0\\n0.0\\n0.0\\n0.0\\n0.0\\n0.0\\n0.0\\n0.0\\n0.0\\n0.0\\n0.0\\n0.0\\n0.0\\n0.0\\n0.0\\n0.0\\n0.0\\n0.0\\n0.0\\n0.0\\n0.0\\n0.0\\n0.0\\n532152690.379562\\n0.0\\n0.0\\n0.0\\n0.0\\n0.0\\n0.0\\n0.0\\n0.0\\n0.0\\n0.0\\n0.0\\n0.0\\n0.0\\n0.0\\n0.0\\n0.0\\n0.0\\n0.0\\n0.0\\n0.0\\n0.0\\n0.0\\n0.0\\n0.0\\n0.0\\n0.0\\n0.0\\n0.0\\n0.0\\n532152690.379562\\n0.0\\n0.0\\n0.0\\n0.0\\n0.0\\n0.0\\n0.0\\n0.0\\n0.0\\n0.0\\n0.0\\n0.0\\n0.0\\n0.0\\n0.0\\n0.0\\n0.0\\n0.0\\n0.0\\n0.0\\n0.0\\n0.0\\n0.0\\n0.0\\n0.0\\n0.0\\n0.0\\n0.0\\n0.0\\n0.0\\n0.0\\n0.0\\n0.0\\n0.0\\n0.0\\n0.0\\n0.0\\n0.0\\n0.0\\n0.0\\n0.0\\n0.0\\n0.0\\n0.0\\n0.0\\n0.0\\n0.0\\n0.0\\n0.0\\n0.0\\n0.0\\n0.0\\n532152690.379562\\n0.0\\n0.0\\n0.0\\n0.0\\n0.0\\n0.0\\n0.0\\n0.0\\n0.0\\n0.0\\n0.0\\n0.0\\n0.0\\n0.0\\n0.0\\n0.0\\n0.0\\n0.0\\n0.0\\n0.0\\n0.0\\n0.0\\n0.0\\n0.0\\n0.0\\n0.0\\n0.0\\n0.0\\n532152690.379562\\n0.0\\n0.0\\n0.0\\n0.0\\n0.0\\n0.0\\n0.0\\n0.0\\n0.0\\n0.0\\n0.0\\n0.0\\n0.0\\n0.0\\n532152690.379562\\n0.0\\n0.0\\n0.0\\n0.0\\n532152690.379562\\n0.0\\n0.0\\n0.0\\n532152690.379562\\n0.0\\n0.0\\n0.0\\n0.0\\n0.0\\n0.0\\n0.0\\n0.0\\n0.0\\n0.0\\n0.0\\n0.0\\n0.0\\n0.0\\n532152690.379562\\n0.0\\n0.0\\n532152690.379562\\n0.0\\n0.0\\n0.0\\n0.0\\n0.0\\n0.0\\n0.0\\n0.0\\n0.0\\n0.0\\n0.0\\n0.0\\n0.0\\n0.0\\n0.0\\n0.0\\n0.0\\n0.0\\n0.0\\n0.0\\n0.0\\n0.0\\n0.0\\n0.0\\n0.0\\n0.0\\n0.0\\n0.0\\n0.0\\n0.0\\n0.0\\n532152690.379562\\n0.0\\n0.0\\n0.0\\n0.0\\n0.0\\n0.0\\n0.0\\n0.0\\n0.0\\n532152690.379562\\n0.0\\n0.0\\n0.0\\n0.0\\n0.0\\n0.0\\n0.0\\n0.0\\n0.0\\n0.0\\n0.0\\n0.0\\n0.0\\n0.0\\n0.0\\n0.0\\n532152690.379562\\n0.0\\n0.0\\n0.0\\n0.0\\n0.0\\n0.0\\n0.0\\n0.0\\n0.0\\n0.0\\n532152690.379562\\n0.0\\n0.0\\n0.0\\n0.0\\n0.0\\n0.0\\n0.0\\n0.0\\n0.0\\n0.0\\n0.0\\n0.0\\n0.0\\n0.0\\n0.0\\n0.0\\n0.0\\n0.0\\n0.0\\n0.0\\n0.0\\n0.0\\n0.0\\n0.0\\n0.0\\n0.0\\n0.0\\n0.0\\n0.0\\n0.0\\n0.0\\n0.0\\n532152690.379562\\n0.0\\n0.0\\n0.0\\n0.0\\n0.0\\n532152690.379562\\n0.0\\n0.0\\n0.0\\n0.0\\n0.0\\n0.0\\n0.0\\n0.0\\n0.0\\n0.0\\n0.0\\n0.0\\n0.0\\n0.0\\n0.0\\n0.0\\n0.0\\n0.0\\n0.0\\n0.0\\n0.0\\n0.0\\n0.0\\n0.0\\n0.0\\n0.0\\n0.0\\n0.0\\n0.0\\n0.0\\n0.0\\n0.0\\n0.0\\n0.0\\n0.0\\n0.0\\n0.0\\n0.0\\n0.0\\n0.0\\n0.0\\n0.0\\n0.0\\n0.0\\n0.0\\n0.0\\n0.0\\n0.0\\n0.0\\n0.0\\n0.0\\n0.0\\n0.0\\n0.0\\n0.0\\n0.0\\n0.0\\n0.0\\n0.0\\n0.0\\n0.0\\n0.0\\n0.0\\n0.0\\n0.0\\n0.0\\n0.0\\n0.0\\n0.0\\n0.0\\n0.0\\n532152690.379562\\n0.0\\n0.0\\n0.0\\n0.0\\n0.0\\n0.0\\n0.0\\n0.0\\n532152690.379562\\n0.0\\n0.0\\n0.0\\n0.0\\n0.0\\n0.0\\n0.0\\n0.0\\n0.0\\n0.0\\n0.0\\n0.0\\n0.0\\n0.0\\n0.0\\n0.0\\n0.0\\n0.0\\n0.0\\n0.0\\n0.0\\n0.0\\n0.0\\n0.0\\n0.0\\n0.0\\n0.0\\n0.0\\n0.0\\n0.0\\n0.0\\n0.0\\n0.0\\n0.0\\n0.0\\n0.0\\n0.0\\n0.0\\n0.0\\n0.0\\n0.0\\n0.0\\n0.0\\n0.0\\n0.0\\n0.0\\n0.0\\n0.0\\n0.0\\n0.0\\n0.0\\n0.0\\n0.0\\n0.0\\n0.0\\n0.0\\n0.0\\n0.0\\n0.0\\n0.0\\n0.0\\n0.0\\n0.0\\n0.0\\n0.0\\n0.0\\n0.0\\n0.0\\n0.0\\n0.0\\n0.0\\n0.0\\n0.0\\n0.0\\n0.0\\n0.0\\n0.0\\n0.0\\n0.0\\n532152690.379562\\n0.0\\n0.0\\n0.0\\n0.0\\n0.0\\n0.0\\n0.0\\n0.0\\n532152690.379562\\n0.0\\n0.0\\n0.0\\n0.0\\n0.0\\n0.0\\n0.0\\n0.0\\n0.0\\n0.0\\n0.0\\n0.0\\n0.0\\n0.0\\n0.0\\n0.0\\n0.0\\n0.0\\n0.0\\n0.0\\n0.0\\n532152690.379562\\n0.0\\n0.0\\n0.0\\n0.0\\n532152690.379562\\n0.0\\n0.0\\n0.0\\n0.0\\n0.0\\n0.0\\n0.0\\n0.0\\n532152690.379562\\n0.0\\n0.0\\n0.0\\n0.0\\n0.0\\n0.0\\n0.0\\n0.0\\n0.0\\n0.0\\n0.0\\n0.0\\n0.0\\n0.0\\n0.0\\n0.0\\n0.0\\n0.0\\n0.0\\n0.0\\n0.0\\n0.0\\n0.0\\n0.0\\n0.0\\n0.0\\n0.0\\n0.0\\n0.0\\n0.0\\n0.0\\n0.0\\n0.0\\n0.0\\n0.0\\n0.0\\n0.0\\n0.0\\n0.0\\n0.0\\n0.0\\n0.0\\n0.0\\n0.0\\n0.0\\n0.0\\n0.0\\n0.0\\n0.0\\n0.0\\n0.0\\n0.0\\n0.0\\n0.0\\n0.0\\n0.0\\n0.0\\n0.0\\n0.0\\n0.0\\n0.0\\n0.0\\n0.0\\n0.0\\n0.0\\n0.0\\n0.0\\n0.0\\n0.0\\n0.0\\n0.0\\n0.0\\n0.0\\n0.0\\n0.0\\n0.0\\n0.0\\n0.0\\n0.0\\n0.0\\n0.0\\n0.0\\n0.0\\n0.0\\n0.0\\n0.0\\n0.0\\n0.0\\n0.0\\n0.0\\n0.0\\n0.0\\n0.0\\n0.0\\n0.0\\n0.0\\n0.0\\n0.0\\n0.0\\n0.0\\n0.0\\n0.0\\n0.0\\n0.0\\n0.0\\n532152690.379562\\n0.0\\n532152690.379562\\n0.0\\n0.0\\n0.0\\n0.0\\n0.0\\n0.0\\n0.0\\n0.0\\n0.0\\n0.0\\n0.0\\n0.0\\n0.0\\n0.0\\n0.0\\n0.0\\n0.0\\n0.0\\n0.0\\n0.0\\n0.0\\n0.0\\n0.0\\n0.0\\n0.0\\n0.0\\n0.0\\n0.0\\n0.0\\n0.0\\n0.0\\n0.0\\n0.0\\n0.0\\n0.0\\n0.0\\n0.0\\n0.0\\n532152690.379562\\n0.0\\n0.0\\n0.0\\n0.0\\n0.0\\n0.0\\n0.0\\n0.0\\n0.0\\n0.0\\n0.0\\n0.0\\n0.0\\n0.0\\n0.0\\n0.0\\n0.0\\n0.0\\n0.0\\n0.0\\n0.0\\n0.0\\n0.0\\n0.0\\n0.0\\n0.0\\n0.0\\n0.0\\n0.0\\n0.0\\n0.0\\n0.0\\n0.0\\n0.0\\n0.0\\n0.0\\n0.0\\n0.0\\n0.0\\n0.0\\n0.0\\n0.0\\n0.0\\n0.0\\n0.0\\n0.0\\n0.0\\n0.0\\n532152690.379562\\n0.0\\n0.0\\n0.0\\n532152690.379562\\n0.0\\n0.0\\n0.0\\n0.0\\n0.0\\n0.0\\n0.0\\n0.0\\n0.0\\n0.0\\n0.0\\n0.0\\n0.0\\n0.0\\n0.0\\n0.0\\n0.0\\n0.0\\n0.0\\n0.0\\n0.0\\n0.0\\n0.0\\n0.0\\n0.0\\n0.0\\n0.0\\n0.0\\n0.0\\n532152690.379562\\n0.0\\n0.0\\n0.0\\n532152690.379562\\n0.0\\n0.0\\n0.0\\n0.0\\n0.0\\n0.0\\n0.0\\n0.0\\n0.0\\n0.0\\n0.0\\n0.0\\n0.0\\n0.0\\n0.0\\n0.0\\n0.0\\n0.0\\n0.0\\n0.0\\n0.0\\n0.0\\n0.0\\n0.0\\n0.0\\n0.0\\n0.0\\n532152690.379562\\n0.0\\n0.0\\n0.0\\n0.0\\n0.0\\n0.0\\n0.0\\n0.0\\n0.0\\n0.0\\n0.0\\n0.0\\n0.0\\n0.0\\n0.0\\n0.0\\n0.0\\n0.0\\n0.0\\n0.0\\n0.0\\n0.0\\n0.0\\n0.0\\n0.0\\n0.0\\n0.0\\n0.0\\n0.0\\n0.0\\n0.0\\n0.0\\n0.0\\n0.0\\n0.0\\n0.0\\n0.0\\n0.0\\n0.0\\n0.0\\n0.0\\n0.0\\n532152690.379562\\n0.0\\n0.0\\n0.0\\n0.0\\n0.0\\n0.0\\n0.0\\n0.0\\n0.0\\n0.0\\n0.0\\n0.0\\n0.0\\n0.0\\n0.0\\n0.0\\n0.0\\n0.0\\n0.0\\n0.0\\n0.0\\n0.0\\n0.0\\n0.0\\n0.0\\n532152690.379562\\n0.0\\n0.0\\n0.0\\n0.0\\n0.0\\n0.0\\n0.0\\n0.0\\n0.0\\n0.0\\n0.0\\n0.0\\n0.0\\n0.0\\n0.0\\n0.0\\n0.0\\n0.0\\n0.0\\n0.0\\n0.0\\n0.0\\n0.0\\n0.0\\n0.0\\n0.0\\n0.0\\n0.0\\n0.0\\n0.0\\n0.0\\n0.0\\n0.0\\n0.0\\n0.0\\n0.0\\n0.0\\n0.0\\n0.0\\n0.0\\n0.0\\n0.0\\n0.0\\n532152690.379562\\n0.0\\n0.0\\n0.0\\n0.0\\n0.0\\n0.0\\n0.0\\n0.0\\n0.0\\n0.0\\n0.0\\n0.0\\n0.0\\n0.0\\n0.0\\n0.0\\n0.0\\n0.0\\n0.0\\n0.0\\n0.0\\n0.0\\n0.0\\n0.0\\n0.0\\n0.0\\n0.0\\n0.0\\n0.0\\n0.0\\n0.0\\n0.0\\n0.0\\n0.0\\n0.0\\n0.0\\n0.0\\n0.0\\n0.0\\n0.0\\n0.0\\n0.0\\n0.0\\n0.0\\n0.0\\n0.0\\n0.0\\n0.0\\n0.0\\n0.0\\n0.0\\n532152690.379562\\n0.0\\n0.0\\n0.0\\n0.0\\n0.0\\n0.0\\n0.0\\n0.0\\n0.0\\n0.0\\n0.0\\n0.0\\n0.0\\n0.0\\n0.0\\n0.0\\n0.0\\n0.0\\n0.0\\n0.0\\n0.0\\n0.0\\n0.0\\n0.0\\n0.0\\n0.0\\n0.0\\n0.0\\n0.0\\n0.0\\n0.0\\n0.0\\n0.0\\n0.0\\n0.0\\n0.0\\n532152690.379562\\n0.0\\n0.0\\n532152690.379562\\n0.0\\n0.0\\n0.0\\n0.0\\n0.0\\n0.0\\n0.0\\n0.0\\n0.0\\n532152690.379562\\n0.0\\n0.0\\n0.0\\n0.0\\n532152690.379562\\n0.0\\n0.0\\n0.0\\n0.0\\n0.0\\n0.0\\n0.0\\n0.0\\n0.0\\n0.0\\n0.0\\n0.0\\n0.0\\n0.0\\n0.0\\n0.0\\n0.0\\n0.0\\n0.0\\n0.0\\n0.0\\n0.0\\n0.0\\n0.0\\n0.0\\n0.0\\n0.0\\n0.0\\n0.0\\n0.0\\n0.0\\n0.0\\n0.0\\n0.0\\n0.0\\n0.0\\n0.0\\n0.0\\n0.0\\n0.0\\n0.0\\n0.0\\n0.0\\n0.0\\n0.0\\n0.0\\n0.0\\n532152690.379562\\n0.0\\n0.0\\n0.0\\n0.0\\n0.0\\n0.0\\n0.0\\n0.0\\n0.0\\n0.0\\n0.0\\n0.0\\n0.0\\n0.0\\n0.0\\n0.0\\n0.0\\n0.0\\n0.0\\n0.0\\n0.0\\n0.0\\n0.0\\n0.0\\n0.0\\n0.0\\n0.0\\n0.0\\n0.0\\n0.0\\n0.0\\n0.0\\n532152690.379562\\n0.0\\n0.0\\n0.0\\n0.0\\n0.0\\n0.0\\n0.0\\n0.0\\n0.0\\n0.0\\n0.0\\n0.0\\n0.0\\n0.0\\n0.0\\n0.0\\n0.0\\n0.0\\n0.0\\n0.0\\n0.0\\n0.0\\n0.0\\n0.0\\n0.0\\n0.0\\n0.0\\n0.0\\n0.0\\n0.0\\n0.0\\n0.0\\n0.0\\n0.0\\n0.0\\n0.0\\n0.0\\n0.0\\n0.0\\n0.0\\n0.0\\n0.0\\n0.0\\n0.0\\n0.0\\n0.0\\n0.0\\n0.0\\n0.0\\n0.0\\n0.0\\n0.0\\n0.0\\n0.0\\n0.0\\n532152690.379562\\n0.0\\n0.0\\n0.0\\n0.0\\n0.0\\n0.0\\n0.0\\n0.0\\n0.0\\n0.0\\n0.0\\n0.0\\n0.0\\n0.0\\n0.0\\n532152690.379562\\n0.0\\n0.0\\n0.0\\n0.0\\n0.0\\n0.0\\n0.0\\n0.0\\n0.0\\n0.0\\n0.0\\n0.0\\n0.0\\n0.0\\n0.0\\n0.0\\n0.0\\n0.0\\n0.0\\n0.0\\n0.0\\n0.0\\n0.0\\n0.0\\n0.0\\n0.0\\n0.0\\n532152690.379562\\n0.0\\n0.0\\n0.0\\n0.0\\n0.0\\n0.0\\n0.0\\n0.0\\n0.0\\n0.0\\n0.0\\n0.0\\n0.0\\n0.0\\n0.0\\n0.0\\n0.0\\n0.0\\n0.0\\n0.0\\n0.0\\n0.0\\n0.0\\n0.0\\n0.0\\n0.0\\n0.0\\n0.0\\n0.0\\n0.0\\n0.0\\n0.0\\n0.0\\n0.0\\n0.0\\n0.0\\n0.0\\n0.0\\n0.0\\n0.0\\n0.0\\n0.0\\n0.0\\n0.0\\n0.0\\n0.0\\n0.0\\n532152690.379562\\n0.0\\n0.0\\n0.0\\n0.0\\n0.0\\n532152690.379562\\n0.0\\n0.0\\n0.0\\n0.0\\n0.0\\n0.0\\n0.0\\n0.0\\n0.0\\n0.0\\n0.0\\n0.0\\n0.0\\n0.0\\n0.0\\n0.0\\n0.0\\n0.0\\n0.0\\n0.0\\n0.0\\n0.0\\n0.0\\n0.0\\n0.0\\n0.0\\n532152690.379562\\n0.0\\n0.0\\n0.0\\n0.0\\n0.0\\n0.0\\n0.0\\n0.0\\n0.0\\n0.0\\n0.0\\n0.0\\n0.0\\n0.0\\n0.0\\n0.0\\n0.0\\n0.0\\n0.0\\n0.0\\n0.0\\n0.0\\n0.0\\n0.0\\n0.0\\n0.0\\n0.0\\n0.0\\n0.0\\n0.0\\n0.0\\n0.0\\n0.0\\n0.0\\n0.0\\n0.0\\n0.0\\n0.0\\n532152690.379562\\n0.0\\n0.0\\n0.0\\n0.0\\n0.0\\n0.0\\n0.0\\n0.0\\n0.0\\n0.0\\n0.0\\n0.0\\n0.0\\n0.0\\n0.0\\n0.0\\n0.0\\n0.0\\n0.0\\n0.0\\n0.0\\n0.0\\n0.0\\n0.0\\n0.0\\n0.0\\n0.0\\n0.0\\n0.0\\n0.0\\n0.0\\n0.0\\n0.0\\n0.0\\n0.0\\n0.0\\n532152690.379562\\n0.0\\n0.0\\n0.0\\n0.0\\n0.0\\n0.0\\n0.0\\n0.0\\n0.0\\n0.0\\n0.0\\n0.0\\n0.0\\n0.0\\n0.0\\n0.0\\n0.0\\n0.0\\n0.0\\n0.0\\n0.0\\n0.0\\n0.0\\n0.0\\n0.0\\n532152690.379562\\n0.0\\n0.0\\n0.0\\n0.0\\n0.0\\n0.0\\n0.0\\n0.0\\n0.0\\n0.0\\n0.0\\n0.0\\n0.0\\n0.0\\n0.0\\n0.0\\n0.0\\n0.0\\n0.0\\n0.0\\n0.0\\n0.0\\n0.0\\n0.0\\n0.0\\n0.0\\n0.0\\n0.0\\n0.0\\n0.0\\n0.0\\n0.0\\n0.0\\n0.0\\n0.0\\n0.0\\n0.0\\n0.0\\n0.0\\n0.0\\n0.0\\n0.0\\n0.0\\n0.0\\n0.0\\n0.0\\n0.0\\n532152690.379562\\n0.0\\n0.0\\n0.0\\n0.0\\n0.0\\n0.0\\n0.0\\n0.0\\n0.0\\n0.0\\n0.0\\n0.0\\n0.0\\n0.0\\n0.0\\n0.0\\n0.0\\n0.0\\n0.0\\n0.0\\n0.0\\n0.0\\n0.0\\n0.0\\n0.0\\n0.0\\n0.0\\n0.0\\n0.0\\n0.0\\n0.0\\n0.0\\n0.0\\n0.0\\n0.0\\n0.0\\n0.0\\n0.0\\n0.0\\n532152690.379562\\n0.0\\n0.0\\n0.0\\n532152690.379562\\n0.0\\n0.0\\n0.0\\n0.0\\n0.0\\n0.0\\n0.0\\n0.0\\n0.0\\n0.0\\n0.0\\n0.0\\n0.0\\n0.0\\n0.0\\n0.0\\n0.0\\n0.0\\n0.0\\n0.0\\n0.0\\n0.0\\n0.0\\n0.0\\n0.0\\n0.0\\n0.0\\n0.0\\n0.0\\n0.0\\n0.0\\n0.0\\n0.0\\n0.0\\n0.0\\n0.0\\n0.0\\n0.0\\n0.0\\n0.0\\n0.0\\n532152690.379562\\n0.0\\n0.0\\n0.0\\n532152690.379562\\n0.0\\n532152690.379562\\n0.0\\n0.0\\n0.0\\n0.0\\n0.0\\n0.0\\n0.0\\n0.0\\n0.0\\n0.0\\n0.0\\n0.0\\n0.0\\n0.0\\n0.0\\n0.0\\n0.0\\n0.0\\n0.0\\n0.0\\n0.0\\n0.0\\n0.0\\n0.0\\n0.0\\n0.0\\n0.0\\n0.0\\n0.0\\n0.0\\n0.0\\n0.0\\n0.0\\n0.0\\n0.0\\n0.0\\n0.0\\n0.0\\n0.0\\n0.0\\n0.0\\n0.0\\n0.0\\n0.0\\n0.0\\n0.0\\n0.0\\n0.0\\n0.0\\n0.0\\n0.0\\n0.0\\n0.0\\n0.0\\n0.0\\n0.0\\n0.0\\n0.0\\n0.0\\n532152690.379562\\n0.0\\n0.0\\n0.0\\n0.0\\n0.0\\n0.0\\n0.0\\n0.0\\n0.0\\n0.0\\n0.0\\n0.0\\n532152690.379562\\n0.0\\n0.0\\n0.0\\n0.0\\n0.0\\n0.0\\n0.0\\n0.0\\n0.0\\n0.0\\n0.0\\n0.0\\n0.0\\n0.0\\n0.0\\n0.0\\n0.0\\n0.0\\n0.0\\n0.0\\n0.0\\n0.0\\n0.0\\n0.0\\n0.0\\n0.0\\n0.0\\n0.0\\n0.0\\n0.0\\n0.0\\n0.0\\n0.0\\n0.0\\n0.0\\n0.0\\n0.0\\n0.0\\n0.0\\n0.0\\n0.0\\n0.0\\n0.0\\n0.0\\n0.0\\n0.0\\n0.0\\n0.0\\n0.0\\n0.0\\n0.0\\n0.0\\n0.0\\n0.0\\n0.0\\n0.0\\n0.0\\n532152690.379562\\n0.0\\n0.0\\n0.0\\n0.0\\n0.0\\n0.0\\n0.0\\n0.0\\n0.0\\n0.0\\n0.0\\n0.0\\n0.0\\n0.0\\n0.0\\n0.0\\n0.0\\n0.0\\n0.0\\n0.0\\n0.0\\n0.0\\n0.0\\n0.0\\n0.0\\n0.0\\n0.0\\n0.0\\n0.0\\n0.0\\n0.0\\n0.0\\n0.0\\n0.0\\n0.0\\n0.0\\n0.0\\n0.0\\n0.0\\n0.0\\n0.0\\n0.0\\n0.0\\n0.0\\n0.0\\n0.0\\n0.0\\n0.0\\n0.0\\n532152690.379562\\n0.0\\n0.0\\n0.0\\n532152690.379562\\n0.0\\n0.0\\n0.0\\n0.0\\n0.0\\n0.0\\n0.0\\n0.0\\n0.0\\n0.0\\n0.0\\n0.0\\n0.0\\n0.0\\n0.0\\n0.0\\n0.0\\n0.0\\n0.0\\n0.0\\n0.0\\n0.0\\n0.0\\n0.0\\n0.0\\n0.0\\n0.0\\n0.0\\n0.0\\n0.0\\n0.0\\n0.0\\n0.0\\n0.0\\n0.0\\n0.0\\n0.0\\n0.0\\n0.0\\n0.0\\n0.0\\n0.0\\n0.0\\n0.0\\n0.0\\n0.0\\n0.0\\n0.0\\n0.0\\n0.0\\n0.0\\n0.0\\n0.0\\n0.0\\n0.0\\n0.0\\n0.0\\n0.0\\n0.0\\n0.0\\n0.0\\n0.0\\n0.0\\n0.0\\n0.0\\n0.0\\n0.0\\n0.0\\n0.0\\n0.0\\n0.0\\n0.0\\n0.0\\n0.0\\n0.0\\n0.0\\n0.0\\n0.0\\n0.0\\n0.0\\n0.0\\n0.0\\n0.0\\n0.0\\n0.0\\n0.0\\n0.0\\n0.0\\n0.0\\n0.0\\n0.0\\n0.0\\n0.0\\n0.0\\n0.0\\n0.0\\n0.0\\n0.0\\n0.0\\n0.0\\n0.0\\n0.0\\n0.0\\n0.0\\n0.0\\n0.0\\n0.0\\n0.0\\n0.0\\n0.0\\n0.0\\n0.0\\n0.0\\n0.0\\n0.0\\n0.0\\n0.0\\n0.0\\n532152690.379562\\n0.0\\n0.0\\n0.0\\n0.0\\n0.0\\n0.0\\n0.0\\n0.0\\n0.0\\n0.0\\n0.0\\n0.0\\n0.0\\n0.0\\n0.0\\n0.0\\n0.0\\n0.0\\n0.0\\n0.0\\n0.0\\n0.0\\n0.0\\n0.0\\n0.0\\n0.0\\n0.0\\n0.0\\n0.0\\n0.0\\n0.0\\n0.0\\n0.0\\n0.0\\n0.0\\n0.0\\n0.0\\n0.0\\n0.0\\n0.0\\n0.0\\n0.0\\n0.0\\n0.0\\n0.0\\n0.0\\n0.0\\n0.0\\n0.0\\n0.0\\n0.0\\n0.0\\n0.0\\n0.0\\n0.0\\n0.0\\n0.0\\n0.0\\n0.0\\n0.0\\n0.0\\n0.0\\n0.0\\n0.0\\n0.0\\n0.0\\n0.0\\n0.0\\n0.0\\n0.0\\n0.0\\n0.0\\n0.0\\n0.0\\n0.0\\n0.0\\n0.0\\n0.0\\n532152690.379562\\n0.0\\n0.0\\n0.0\\n0.0\\n0.0\\n0.0\\n0.0\\n0.0\\n0.0\\n0.0\\n0.0\\n0.0\\n0.0\\n0.0\\n0.0\\n0.0\\n0.0\\n0.0\\n0.0\\n0.0\\n0.0\\n0.0\\n0.0\\n0.0\\n0.0\\n0.0\\n0.0\\n0.0\\n0.0\\n0.0\\n0.0\\n0.0\\n0.0\\n0.0\\n0.0\\n0.0\\n0.0\\n0.0\\n0.0\\n0.0\\n0.0\\n0.0\\n0.0\\n532152690.379562\\n0.0\\n0.0\\n0.0\\n0.0\\n0.0\\n0.0\\n0.0\\n0.0\\n0.0\\n0.0\\n532152690.379562\\n0.0\\n0.0\\n0.0\\n0.0\\n0.0\\n0.0\\n0.0\\n0.0\\n0.0\\n0.0\\n0.0\\n0.0\\n0.0\\n0.0\\n0.0\\n0.0\\n0.0\\n0.0\\n0.0\\n0.0\\n0.0\\n0.0\\n0.0\\n0.0\\n0.0\\n0.0\\n0.0\\n0.0\\n532152690.379562\\n0.0\\n0.0\\n0.0\\n0.0\\n0.0\\n0.0\\n0.0\\n0.0\\n0.0\\n0.0\\n0.0\\n0.0\\n532152690.379562\\n0.0\\n0.0\\n0.0\\n0.0\\n0.0\\n0.0\\n0.0\\n0.0\\n0.0\\n0.0\\n0.0\\n0.0\\n0.0\\n532152690.379562\\n0.0\\n0.0\\n532152690.379562\\n0.0\\n0.0\\n0.0\\n0.0\\n0.0\\n0.0\\n0.0\\n0.0\\n0.0\\n0.0\\n0.0\\n0.0\\n0.0\\n0.0\\n0.0\\n0.0\\n0.0\\n0.0\\n0.0\\n0.0\\n0.0\\n0.0\\n0.0\\n532152690.379562\\n0.0\\n0.0\\n0.0\\n0.0\\n0.0\\n0.0\\n0.0\\n0.0\\n0.0\\n0.0\\n0.0\\n0.0\\n0.0\\n0.0\\n0.0\\n0.0\\n0.0\\n0.0\\n0.0\\n0.0\\n0.0\\n0.0\\n0.0\\n0.0\\n0.0\\n0.0\\n0.0\\n0.0\\n0.0\\n0.0\\n0.0\\n0.0\\n0.0\\n0.0\\n0.0\\n0.0\\n0.0\\n0.0\\n0.0\\n0.0\\n0.0\\n0.0\\n0.0\\n0.0\\n0.0\\n0.0\\n0.0\\n0.0\\n0.0\\n0.0\\n0.0\\n0.0\\n0.0\\n0.0\\n0.0\\n0.0\\n0.0\\n532152690.379562\\n0.0\\n0.0\\n0.0\\n532152690.379562\\n0.0\\n0.0\\n0.0\\n0.0\\n0.0\\n0.0\\n0.0\\n0.0\\n0.0\\n0.0\\n0.0\\n0.0\\n0.0\\n0.0\\n0.0\\n0.0\\n0.0\\n0.0\\n0.0\\n0.0\\n0.0\\n0.0\\n0.0\\n0.0\\n0.0\\n0.0\\n532152690.379562\\n0.0\\n0.0\\n0.0\\n0.0\\n0.0\\n0.0\\n0.0\\n0.0\\n0.0\\n0.0\\n532152690.379562\\n0.0\\n0.0\\n0.0\\n0.0\\n0.0\\n532152690.379562\\n0.0\\n0.0\\n0.0\\n0.0\\n0.0\\n0.0\\n532152690.379562\\n0.0\\n0.0\\n0.0\\n0.0\\n0.0\\n0.0\\n0.0\\n0.0\\n0.0\\n0.0\\n0.0\\n0.0\\n0.0\\n0.0\\n0.0\\n0.0\\n0.0\\n0.0\\n0.0\\n0.0\\n0.0\\n0.0\\n0.0\\n0.0\\n0.0\\n0.0\\n0.0\\n0.0\\n0.0\\n0.0\\n0.0\\n0.0\\n0.0\\n0.0\\n0.0\\n0.0\\n0.0\\n0.0\\n0.0\\n0.0\\n0.0\\n0.0\\n0.0\\n0.0\\n0.0\\n532152690.379562\\n0.0\\n0.0\\n0.0\\n0.0\\n0.0\\n0.0\\n0.0\\n0.0\\n0.0\\n0.0\\n0.0\\n0.0\\n0.0\\n0.0\\n0.0\\n0.0\\n0.0\\n0.0\\n0.0\\n0.0\\n0.0\\n0.0\\n0.0\\n0.0\\n0.0\\n0.0\\n0.0\\n0.0\\n0.0\\n0.0\\n0.0\\n0.0\\n0.0\\n0.0\\n0.0\\n0.0\\n0.0\\n0.0\\n0.0\\n0.0\\n0.0\\n0.0\\n0.0\\n0.0\\n0.0\\n0.0\\n0.0\\n0.0\\n0.0\\n0.0\\n0.0\\n0.0\\n0.0\\n0.0\\n0.0\\n0.0\\n0.0\\n0.0\\n0.0\\n0.0\\n0.0\\n0.0\\n0.0\\n0.0\\n0.0\\n0.0\\n0.0\\n0.0\\n0.0\\n0.0\\n0.0\\n0.0\\n0.0\\n0.0\\n0.0\\n0.0\\n0.0\\n0.0\\n0.0\\n0.0\\n0.0\\n0.0\\n0.0\\n0.0\\n0.0\\n0.0\\n0.0\\n0.0\\n0.0\\n0.0\\n0.0\\n0.0\\n0.0\\n0.0\\n0.0\\n0.0\\n0.0\\n0.0\\n532152690.379562\\n0.0\\n0.0\\n0.0\\n0.0\\n0.0\\n0.0\\n0.0\\n0.0\\n0.0\\n0.0\\n0.0\\n0.0\\n532152690.379562\\n0.0\\n0.0\\n0.0\\n0.0\\n0.0\\n0.0\\n0.0\\n0.0\\n0.0\\n0.0\\n0.0\\n0.0\\n0.0\\n0.0\\n0.0\\n0.0\\n532152690.379562\\n0.0\\n0.0\\n0.0\\n0.0\\n0.0\\n0.0\\n0.0\\n0.0\\n0.0\\n0.0\\n0.0\\n0.0\\n0.0\\n0.0\\n0.0\\n0.0\\n0.0\\n0.0\\n0.0\\n0.0\\n0.0\\n0.0\\n0.0\\n532152690.379562\\n0.0\\n0.0\\n0.0\\n0.0\\n0.0\\n532152690.379562\\n0.0\\n0.0\\n0.0\\n0.0\\n0.0\\n0.0\\n0.0\\n0.0\\n0.0\\n0.0\\n0.0\\n0.0\\n532152690.379562\\n0.0\\n0.0\\n0.0\\n0.0\\n0.0\\n0.0\\n0.0\\n0.0\\n0.0\\n0.0\\n0.0\\n0.0\\n0.0\\n0.0\\n0.0\\n0.0\\n0.0\\n0.0\\n0.0\\n0.0\\n0.0\\n532152690.379562\\n0.0\\n0.0\\n0.0\\n0.0\\n0.0\\n0.0\\n0.0\\n0.0\\n0.0\\n0.0\\n0.0\\n0.0\\n0.0\\n0.0\\n0.0\\n0.0\\n0.0\\n0.0\\n0.0\\n0.0\\n0.0\\n0.0\\n532152690.379562\\n0.0\\n0.0\\n0.0\\n0.0\\n0.0\\n0.0\\n0.0\\n0.0\\n0.0\\n0.0\\n0.0\\n0.0\\n0.0\\n0.0\\n0.0\\n0.0\\n0.0\\n0.0\\n0.0\\n0.0\\n0.0\\n0.0\\n532152690.379562\\n0.0\\n0.0\\n0.0\\n0.0\\n0.0\\n0.0\\n0.0\\n0.0\\n0.0\\n0.0\\n0.0\\n0.0\\n0.0\\n0.0\\n0.0\\n0.0\\n532152690.379562\\n0.0\\n0.0\\n0.0\\n0.0\\n0.0\\n0.0\\n0.0\\n0.0\\n0.0\\n0.0\\n0.0\\n0.0\\n0.0\\n0.0\\n0.0\\n0.0\\n0.0\\n0.0\\n0.0\\n0.0\\n0.0\\n0.0\\n0.0\\n0.0\\n0.0\\n0.0\\n0.0\\n0.0\\n0.0\\n0.0\\n0.0\\n0.0\\n0.0\\n0.0\\n0.0\\n0.0\\n0.0\\n0.0\\n0.0\\n0.0\\n0.0\\n0.0\\n0.0\\n0.0\\n0.0\\n0.0\\n0.0\\n0.0\\n0.0\\n0.0\\n0.0\\n0.0\\n0.0\\n0.0\\n0.0\\n0.0\\n0.0\\n0.0\\n0.0\\n0.0\\n0.0\\n0.0\\n0.0\\n0.0\\n0.0\\n0.0\\n532152690.379562\\n0.0\\n0.0\\n0.0\\n0.0\\n0.0\\n0.0\\n0.0\\n0.0\\n0.0\\n0.0\\n0.0\\n0.0\\n0.0\\n0.0\\n0.0\\n0.0\\n0.0\\n0.0\\n0.0\\n0.0\\n0.0\\n0.0\\n0.0\\n0.0\\n0.0\\n0.0\\n0.0\\n0.0\\n0.0\\n0.0\\n0.0\\n0.0\\n0.0\\n0.0\\n0.0\\n0.0\\n532152690.379562\\n0.0\\n0.0\\n0.0\\n0.0\\n0.0\\n0.0\\n0.0\\n0.0\\n0.0\\n0.0\\n0.0\\n0.0\\n0.0\\n0.0\\n0.0\\n0.0\\n0.0\\n0.0\\n0.0\\n0.0\\n0.0\\n0.0\\n0.0\\n0.0\\n0.0\\n0.0\\n0.0\\n0.0\\n0.0\\n0.0\\n0.0\\n0.0\\n0.0\\n0.0\\n0.0\\n0.0\\n0.0\\n0.0\\n0.0\\n0.0\\n0.0\\n0.0\\n532152690.379562\\n0.0\\n0.0\\n0.0\\n0.0\\n0.0\\n0.0\\n0.0\\n0.0\\n0.0\\n0.0\\n0.0\\n0.0\\n0.0\\n0.0\\n0.0\\n0.0\\n0.0\\n0.0\\n0.0\\n0.0\\n0.0\\n0.0\\n0.0\\n0.0\\n0.0\\n0.0\\n0.0\\n0.0\\n0.0\\n0.0\\n0.0\\n0.0\\n0.0\\n0.0\\n0.0\\n0.0\\n0.0\\n0.0\\n0.0\\n0.0\\n0.0\\n0.0\\n0.0\\n0.0\\n0.0\\n0.0\\n0.0\\n0.0\\n0.0\\n0.0\\n0.0\\n0.0\\n0.0\\n0.0\\n0.0\\n0.0\\n0.0\\n0.0\\n0.0\\n0.0\\n0.0\\n0.0\\n0.0\\n0.0\\n0.0\\n0.0\\n0.0\\n0.0\\n0.0\\n0.0\\n0.0\\n0.0\\n0.0\\n0.0\\n0.0\\n0.0\\n0.0\\n0.0\\n0.0\\n0.0\\n0.0\\n0.0\\n0.0\\n0.0\\n0.0\\n0.0\\n0.0\\n0.0\\n0.0\\n0.0\\n0.0\\n0.0\\n0.0\\n0.0\\n0.0\\n0.0\\n0.0\\n0.0\\n0.0\\n532152690.379562\\n0.0\\n0.0\\n0.0\\n0.0\\n0.0\\n0.0\\n0.0\\n0.0\\n0.0\\n0.0\\n0.0\\n0.0\\n0.0\\n0.0\\n0.0\\n0.0\\n0.0\\n0.0\\n0.0\\n0.0\\n0.0\\n0.0\\n0.0\\n0.0\\n0.0\\n0.0\\n0.0\\n0.0\\n0.0\\n0.0\\n0.0\\n0.0\\n0.0\\n0.0\\n0.0\\n0.0\\n0.0\\n0.0\\n0.0\\n0.0\\n0.0\\n0.0\\n0.0\\n0.0\\n0.0\\n0.0\\n0.0\\n0.0\\n0.0\\n0.0\\n0.0\\n0.0\\n0.0\\n0.0\\n0.0\\n0.0\\n0.0\\n0.0\\n0.0\\n0.0\\n0.0\\n0.0\\n0.0\\n0.0\\n0.0\\n0.0\\n0.0\\n0.0\\n0.0\\n0.0\\n0.0\\n0.0\\n0.0\\n0.0\\n0.0\\n0.0\\n0.0\\n0.0\\n0.0\\n0.0\\n0.0\\n0.0\\n0.0\\n0.0\\n0.0\\n0.0\\n0.0\\n0.0\\n0.0\\n0.0\\n0.0\\n0.0\\n0.0\\n0.0\\n0.0\\n0.0\\n0.0\\n0.0\\n0.0\\n0.0\\n0.0\\n0.0\\n0.0\\n0.0\\n0.0\\n0.0\\n0.0\\n0.0\\n0.0\\n0.0\\n0.0\\n0.0\\n0.0\\n0.0\\n0.0\\n0.0\\n0.0\\n0.0\\n0.0\\n0.0\\n0.0\\n0.0\\n0.0\\n0.0\\n0.0\\n0.0\\n0.0\\n0.0\\n0.0\\n0.0\\n532152690.379562\\n0.0\\n0.0\\n0.0\\n0.0\\n0.0\\n0.0\\n0.0\\n0.0\\n0.0\\n0.0\\n0.0\\n0.0\\n0.0\\n0.0\\n0.0\\n0.0\\n0.0\\n0.0\\n0.0\\n0.0\\n0.0\\n0.0\\n0.0\\n0.0\\n0.0\\n0.0\\n0.0\\n0.0\\n0.0\\n0.0\\n0.0\\n0.0\\n0.0\\n0.0\\n0.0\\n0.0\\n0.0\\n0.0\\n0.0\\n0.0\\n0.0\\n0.0\\n0.0\\n0.0\\n0.0\\n0.0\\n0.0\\n0.0\\n0.0\\n0.0\\n0.0\\n0.0\\n0.0\\n0.0\\n0.0\\n0.0\\n0.0\\n0.0\\n532152690.379562\\n0.0\\n0.0\\n0.0\\n0.0\\n0.0\\n0.0\\n0.0\\n0.0\\n0.0\\n0.0\\n0.0\\n0.0\\n0.0\\n0.0\\n0.0\\n0.0\\n0.0\\n0.0\\n0.0\\n0.0\\n0.0\\n'"
      ]
     },
     "metadata": {},
     "execution_count": 32
    }
   ],
   "source": [
    "df.to_csv(index = False)"
   ]
  },
  {
   "source": [
    "## Total Funds Raised"
   ],
   "cell_type": "markdown",
   "metadata": {}
  },
  {
   "cell_type": "code",
   "execution_count": 33,
   "metadata": {},
   "outputs": [],
   "source": [
    "import pandas as pd\n",
    "df = pd.read_csv(\"../Week3_Onwards/unifed_csv_without_duplicated_company.csv\")"
   ]
  },
  {
   "cell_type": "code",
   "execution_count": 34,
   "metadata": {},
   "outputs": [
    {
     "output_type": "execute_result",
     "data": {
      "text/plain": [
       "0               NaN\n",
       "1               NaN\n",
       "2               NaN\n",
       "3               NaN\n",
       "4        25200000.0\n",
       "            ...    \n",
       "37193           NaN\n",
       "37194           NaN\n",
       "37195           NaN\n",
       "37196    14523274.0\n",
       "37197     1087000.0\n",
       "Name: total_funding_usd, Length: 37198, dtype: float64"
      ]
     },
     "metadata": {},
     "execution_count": 34
    }
   ],
   "source": [
    "series = df['total_funding_usd']\n",
    "series"
   ]
  },
  {
   "cell_type": "code",
   "execution_count": 37,
   "metadata": {},
   "outputs": [
    {
     "output_type": "execute_result",
     "data": {
      "text/plain": [
       "       total_funding_usd\n",
       "0                    NaN\n",
       "1                    NaN\n",
       "2                    NaN\n",
       "3                    NaN\n",
       "4             25200000.0\n",
       "...                  ...\n",
       "37193                NaN\n",
       "37194                NaN\n",
       "37195                NaN\n",
       "37196         14523274.0\n",
       "37197          1087000.0\n",
       "\n",
       "[37198 rows x 1 columns]"
      ],
      "text/html": "<div>\n<style scoped>\n    .dataframe tbody tr th:only-of-type {\n        vertical-align: middle;\n    }\n\n    .dataframe tbody tr th {\n        vertical-align: top;\n    }\n\n    .dataframe thead th {\n        text-align: right;\n    }\n</style>\n<table border=\"1\" class=\"dataframe\">\n  <thead>\n    <tr style=\"text-align: right;\">\n      <th></th>\n      <th>total_funding_usd</th>\n    </tr>\n  </thead>\n  <tbody>\n    <tr>\n      <th>0</th>\n      <td>NaN</td>\n    </tr>\n    <tr>\n      <th>1</th>\n      <td>NaN</td>\n    </tr>\n    <tr>\n      <th>2</th>\n      <td>NaN</td>\n    </tr>\n    <tr>\n      <th>3</th>\n      <td>NaN</td>\n    </tr>\n    <tr>\n      <th>4</th>\n      <td>25200000.0</td>\n    </tr>\n    <tr>\n      <th>...</th>\n      <td>...</td>\n    </tr>\n    <tr>\n      <th>37193</th>\n      <td>NaN</td>\n    </tr>\n    <tr>\n      <th>37194</th>\n      <td>NaN</td>\n    </tr>\n    <tr>\n      <th>37195</th>\n      <td>NaN</td>\n    </tr>\n    <tr>\n      <th>37196</th>\n      <td>14523274.0</td>\n    </tr>\n    <tr>\n      <th>37197</th>\n      <td>1087000.0</td>\n    </tr>\n  </tbody>\n</table>\n<p>37198 rows × 1 columns</p>\n</div>"
     },
     "metadata": {},
     "execution_count": 37
    }
   ],
   "source": [
    "df = series.to_frame()\n",
    "df"
   ]
  },
  {
   "cell_type": "code",
   "execution_count": 38,
   "metadata": {},
   "outputs": [
    {
     "output_type": "execute_result",
     "data": {
      "text/plain": [
       "         x_values\n",
       "0             NaN\n",
       "1             NaN\n",
       "2             NaN\n",
       "3             NaN\n",
       "4      25200000.0\n",
       "...           ...\n",
       "37193         NaN\n",
       "37194         NaN\n",
       "37195         NaN\n",
       "37196  14523274.0\n",
       "37197   1087000.0\n",
       "\n",
       "[37198 rows x 1 columns]"
      ],
      "text/html": "<div>\n<style scoped>\n    .dataframe tbody tr th:only-of-type {\n        vertical-align: middle;\n    }\n\n    .dataframe tbody tr th {\n        vertical-align: top;\n    }\n\n    .dataframe thead th {\n        text-align: right;\n    }\n</style>\n<table border=\"1\" class=\"dataframe\">\n  <thead>\n    <tr style=\"text-align: right;\">\n      <th></th>\n      <th>x_values</th>\n    </tr>\n  </thead>\n  <tbody>\n    <tr>\n      <th>0</th>\n      <td>NaN</td>\n    </tr>\n    <tr>\n      <th>1</th>\n      <td>NaN</td>\n    </tr>\n    <tr>\n      <th>2</th>\n      <td>NaN</td>\n    </tr>\n    <tr>\n      <th>3</th>\n      <td>NaN</td>\n    </tr>\n    <tr>\n      <th>4</th>\n      <td>25200000.0</td>\n    </tr>\n    <tr>\n      <th>...</th>\n      <td>...</td>\n    </tr>\n    <tr>\n      <th>37193</th>\n      <td>NaN</td>\n    </tr>\n    <tr>\n      <th>37194</th>\n      <td>NaN</td>\n    </tr>\n    <tr>\n      <th>37195</th>\n      <td>NaN</td>\n    </tr>\n    <tr>\n      <th>37196</th>\n      <td>14523274.0</td>\n    </tr>\n    <tr>\n      <th>37197</th>\n      <td>1087000.0</td>\n    </tr>\n  </tbody>\n</table>\n<p>37198 rows × 1 columns</p>\n</div>"
     },
     "metadata": {},
     "execution_count": 38
    }
   ],
   "source": [
    "df.rename(columns={'total_funding_usd': 'x_values'}, inplace=True)\n",
    "df"
   ]
  },
  {
   "cell_type": "code",
   "execution_count": 45,
   "metadata": {},
   "outputs": [
    {
     "output_type": "execute_result",
     "data": {
      "text/plain": [
       "         x_values\n",
       "0             NaN\n",
       "1             NaN\n",
       "2             NaN\n",
       "3             NaN\n",
       "4      25200000.0\n",
       "...           ...\n",
       "37193         NaN\n",
       "37194         NaN\n",
       "37195         NaN\n",
       "37196  14523274.0\n",
       "37197   1087000.0\n",
       "\n",
       "[37198 rows x 1 columns]"
      ],
      "text/html": "<div>\n<style scoped>\n    .dataframe tbody tr th:only-of-type {\n        vertical-align: middle;\n    }\n\n    .dataframe tbody tr th {\n        vertical-align: top;\n    }\n\n    .dataframe thead th {\n        text-align: right;\n    }\n</style>\n<table border=\"1\" class=\"dataframe\">\n  <thead>\n    <tr style=\"text-align: right;\">\n      <th></th>\n      <th>x_values</th>\n    </tr>\n  </thead>\n  <tbody>\n    <tr>\n      <th>0</th>\n      <td>NaN</td>\n    </tr>\n    <tr>\n      <th>1</th>\n      <td>NaN</td>\n    </tr>\n    <tr>\n      <th>2</th>\n      <td>NaN</td>\n    </tr>\n    <tr>\n      <th>3</th>\n      <td>NaN</td>\n    </tr>\n    <tr>\n      <th>4</th>\n      <td>25200000.0</td>\n    </tr>\n    <tr>\n      <th>...</th>\n      <td>...</td>\n    </tr>\n    <tr>\n      <th>37193</th>\n      <td>NaN</td>\n    </tr>\n    <tr>\n      <th>37194</th>\n      <td>NaN</td>\n    </tr>\n    <tr>\n      <th>37195</th>\n      <td>NaN</td>\n    </tr>\n    <tr>\n      <th>37196</th>\n      <td>14523274.0</td>\n    </tr>\n    <tr>\n      <th>37197</th>\n      <td>1087000.0</td>\n    </tr>\n  </tbody>\n</table>\n<p>37198 rows × 1 columns</p>\n</div>"
     },
     "metadata": {},
     "execution_count": 45
    }
   ],
   "source": [
    "df.dropna(axis=1)\n",
    "df"
   ]
  },
  {
   "cell_type": "code",
   "execution_count": null,
   "metadata": {},
   "outputs": [],
   "source": [
    "df.to_csv(index = False)"
   ]
  }
 ]
}