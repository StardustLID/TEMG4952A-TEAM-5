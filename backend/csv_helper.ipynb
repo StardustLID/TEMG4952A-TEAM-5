{
 "metadata": {
  "language_info": {
   "codemirror_mode": {
    "name": "ipython",
    "version": 3
   },
   "file_extension": ".py",
   "mimetype": "text/x-python",
   "name": "python",
   "nbconvert_exporter": "python",
   "pygments_lexer": "ipython3",
   "version": "3.8.3-final"
  },
  "orig_nbformat": 2,
  "kernelspec": {
   "name": "python3",
   "display_name": "Python 3",
   "language": "python"
  }
 },
 "nbformat": 4,
 "nbformat_minor": 2,
 "cells": [
  {
   "cell_type": "code",
   "execution_count": 1,
   "metadata": {},
   "outputs": [],
   "source": [
    "# import library\n",
    "import pandas as pd"
   ]
  },
  {
   "cell_type": "code",
   "execution_count": 2,
   "metadata": {},
   "outputs": [],
   "source": [
    "# read the CSV\n",
    "df = pd.read_csv(\"../Week3_Onwards/unifed_csv_without_duplicated_company.csv\")"
   ]
  },
  {
   "cell_type": "code",
   "execution_count": 3,
   "metadata": {},
   "outputs": [],
   "source": [
    "# df.head()"
   ]
  },
  {
   "cell_type": "code",
   "execution_count": 4,
   "metadata": {},
   "outputs": [],
   "source": [
    "# specify the column to count\n",
    "col_to_count = 'employee_count'\n",
    "series = df[col_to_count].value_counts()"
   ]
  },
  {
   "cell_type": "code",
   "execution_count": 5,
   "metadata": {},
   "outputs": [],
   "source": [
    "# drop the undesired labels\n",
    "labels_to_drop = ['unknown']\n",
    "series.drop(labels=labels_to_drop, inplace=True)"
   ]
  },
  {
   "cell_type": "code",
   "execution_count": 6,
   "metadata": {},
   "outputs": [
    {
     "output_type": "execute_result",
     "data": {
      "text/plain": [
       "1-10          17014\n",
       "11-50         10452\n",
       "51-100         1490\n",
       "101-250        1419\n",
       "251-500         484\n",
       "501-1000        195\n",
       "1001-5000       171\n",
       "10000+           47\n",
       "5001-10000       44\n",
       "Name: employee_count, dtype: int64"
      ]
     },
     "metadata": {},
     "execution_count": 6
    }
   ],
   "source": [
    "series"
   ]
  },
  {
   "cell_type": "code",
   "execution_count": 7,
   "metadata": {},
   "outputs": [],
   "source": [
    "temp = series['10000+']\n",
    "series.drop(labels='10000+', inplace=True)\n",
    "series['10000+'] = temp"
   ]
  },
  {
   "cell_type": "code",
   "execution_count": 8,
   "metadata": {},
   "outputs": [
    {
     "output_type": "execute_result",
     "data": {
      "text/plain": [
       "1-10          17014\n",
       "11-50         10452\n",
       "51-100         1490\n",
       "101-250        1419\n",
       "251-500         484\n",
       "501-1000        195\n",
       "1001-5000       171\n",
       "5001-10000       44\n",
       "10000+           47\n",
       "Name: employee_count, dtype: int64"
      ]
     },
     "metadata": {},
     "execution_count": 8
    }
   ],
   "source": [
    "series"
   ]
  },
  {
   "cell_type": "code",
   "execution_count": 9,
   "metadata": {},
   "outputs": [],
   "source": [
    "# output df or series as csv\n",
    "# uncomment to output a lightweight csv\n",
    "# series.to_csv(\"data.csv\", index=False)"
   ]
  }
 ]
}