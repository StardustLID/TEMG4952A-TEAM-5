{
 "metadata": {
  "language_info": {
   "codemirror_mode": {
    "name": "ipython",
    "version": 3
   },
   "file_extension": ".py",
   "mimetype": "text/x-python",
   "name": "python",
   "nbconvert_exporter": "python",
   "pygments_lexer": "ipython3",
   "version": "3.8.3-final"
  },
  "orig_nbformat": 2,
  "kernelspec": {
   "name": "python3",
   "display_name": "Python 3",
   "language": "python"
  }
 },
 "nbformat": 4,
 "nbformat_minor": 2,
 "cells": [
  {
   "cell_type": "code",
   "execution_count": 1,
   "metadata": {},
   "outputs": [],
   "source": [
    "# Lazy error-free CSV col remover\n",
    "import pandas as pd\n",
    "\n",
    "df = pd.read_csv(\"degrees.csv\") # change the input CSV name\n",
    "\n",
    "# keep_col = ['uuid','rank','country_code','region','city','investment_type',\n",
    "#             'raised_amount_usd','post_money_valuation_usd',\n",
    "#             'investor_count','org_uuid','lead_investor_uuids'] # change the cols to keep\n",
    "\n",
    "keep_col = ['uuid','person_uuid','institution_uuid','degree_type','subject','started_on',\n",
    "            'completed_on','is_completed']\n",
    "\n",
    "# drop_row = [0, 1] # change the rows to drop\n",
    "\n",
    "# new_df = df[keep_col].drop(drop_row)\n",
    "new_df = df[keep_col]\n",
    "# new_df.to_csv(\"degrees_processed.csv\", index=False) # change the output CSV name"
   ]
  },
  {
   "cell_type": "code",
   "execution_count": 2,
   "metadata": {},
   "outputs": [],
   "source": [
    "# new_df"
   ]
  },
  {
   "cell_type": "code",
   "execution_count": null,
   "metadata": {},
   "outputs": [],
   "source": []
  }
 ]
}