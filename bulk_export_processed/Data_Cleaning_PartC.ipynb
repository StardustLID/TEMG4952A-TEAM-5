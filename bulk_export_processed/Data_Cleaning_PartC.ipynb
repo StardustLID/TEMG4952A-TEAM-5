{
 "metadata": {
  "language_info": {
   "codemirror_mode": {
    "name": "ipython",
    "version": 3
   },
   "file_extension": ".py",
   "mimetype": "text/x-python",
   "name": "python",
   "nbconvert_exporter": "python",
   "pygments_lexer": "ipython3",
   "version": "3.8.3-final"
  },
  "orig_nbformat": 2,
  "kernelspec": {
   "name": "python3",
   "display_name": "Python 3",
   "language": "python"
  }
 },
 "nbformat": 4,
 "nbformat_minor": 2,
 "cells": [
  {
   "cell_type": "code",
   "execution_count": 1,
   "metadata": {},
   "outputs": [],
   "source": [
    "import pandas as pd\n",
    "import numpy as np\n",
    "pd.options.display.max_columns = None"
   ]
  },
  {
   "cell_type": "code",
   "execution_count": 2,
   "metadata": {},
   "outputs": [],
   "source": [
    "df=pd.read_csv(\"org_final_joined_new.csv\")"
   ]
  },
  {
   "cell_type": "code",
   "execution_count": 3,
   "metadata": {},
   "outputs": [],
   "source": [
    "# df.columns.get_loc(\"event_names\")"
   ]
  },
  {
   "cell_type": "code",
   "execution_count": 4,
   "metadata": {},
   "outputs": [],
   "source": [
    "df.drop(df.iloc[:, 0:80], inplace = True, axis = 1)"
   ]
  },
  {
   "cell_type": "code",
   "execution_count": 5,
   "metadata": {},
   "outputs": [],
   "source": [
    "# df.info()"
   ]
  },
  {
   "cell_type": "code",
   "execution_count": 6,
   "metadata": {},
   "outputs": [],
   "source": [
    "# some cols will be deleted, for being too complicated / containing little useful info\n",
    "col_to_drop = ['event_short_description', 'event_venue_name', 'event_description', 'person_personal_featured_job_organization_name']\n",
    "df.drop(columns=col_to_drop, inplace=True)"
   ]
  },
  {
   "cell_type": "code",
   "execution_count": 7,
   "metadata": {},
   "outputs": [],
   "source": [
    "# some cols will use 0 as the fillna() value\n",
    "col_nan_to_zero = ['person', 'organization', 'speaker', 'sponsor', 'exhibitor', 'organizer', 'contestant', 'job_executive', 'job_employee', 'job_board_member', 'job_advisor', 'job_board_observer', 'person_person', 'person_organization', 'person_speaker', 'person_sponsor', 'person_exhibitor', 'person_organizer', 'person_contestant']\n",
    "for col in col_nan_to_zero:\n",
    "    df[col].fillna(0)"
   ]
  },
  {
   "cell_type": "code",
   "execution_count": 8,
   "metadata": {},
   "outputs": [
    {
     "output_type": "stream",
     "name": "stdout",
     "text": [
      "<class 'pandas.core.frame.DataFrame'>\nRangeIndex: 1018183 entries, 0 to 1018182\nData columns (total 51 columns):\n #   Column                              Non-Null Count    Dtype  \n---  ------                              --------------    -----  \n 0   event_names                         860952 non-null   object \n 1   event_rank                          860952 non-null   float64\n 2   event_started_on                    860952 non-null   object \n 3   event_ended_on                      860952 non-null   object \n 4   event_country_code                  850218 non-null   object \n 5   event_region                        850218 non-null   object \n 6   event_city                          850218 non-null   object \n 7   event_event_roles                   860952 non-null   object \n 8   participant_name                    860952 non-null   object \n 9   person                              860952 non-null   float64\n 10  organization                        860952 non-null   float64\n 11  speaker                             860952 non-null   float64\n 12  sponsor                             860952 non-null   float64\n 13  exhibitor                           860952 non-null   float64\n 14  organizer                           860952 non-null   float64\n 15  contestant                          860952 non-null   float64\n 16  organization_name                   1000932 non-null  object \n 17  job_started_on                      647535 non-null   object \n 18  job_ended_on                        221714 non-null   object \n 19  job_is_current                      1000932 non-null  object \n 20  job_executive                       1000932 non-null  float64\n 21  job_employee                        1000932 non-null  float64\n 22  job_board_member                    1000932 non-null  float64\n 23  job_advisor                         1000932 non-null  float64\n 24  job_board_observer                  1000932 non-null  float64\n 25  person_personal_name                989579 non-null   object \n 26  person_personal_gender              983075 non-null   object \n 27  person_personal_country_code        868088 non-null   object \n 28  person_personal_region              818625 non-null   object \n 29  person_personal_city                805938 non-null   object \n 30  person_personal_featured_job_title  885376 non-null   object \n 31  person_degree_degree_type           740716 non-null   object \n 32  person_degree_subject               705265 non-null   object \n 33  person_degree_started_on            376600 non-null   object \n 34  person_degree_completed_on          479684 non-null   object \n 35  person_degree_is_completed          740716 non-null   object \n 36  person_event_name                   665160 non-null   object \n 37  person_event_rank                   665160 non-null   float64\n 38  person_event_started_on             665160 non-null   object \n 39  person_event_ended_on               665160 non-null   object \n 40  person_event_country_code           635146 non-null   object \n 41  person_event_region                 635146 non-null   object \n 42  person_event_city                   635146 non-null   object \n 43  person_event_roles                  665160 non-null   object \n 44  person_person                       665160 non-null   float64\n 45  person_organization                 665160 non-null   float64\n 46  person_speaker                      665160 non-null   float64\n 47  person_sponsor                      665160 non-null   float64\n 48  person_exhibitor                    665160 non-null   float64\n 49  person_organizer                    665160 non-null   float64\n 50  person_contestant                   665160 non-null   float64\ndtypes: float64(21), object(30)\nmemory usage: 396.2+ MB\n"
     ]
    }
   ],
   "source": [
    "df.info(max_cols=1000)"
   ]
  },
  {
   "cell_type": "code",
   "execution_count": 9,
   "metadata": {},
   "outputs": [],
   "source": [
    "# CD: event_rank\n",
    "event_rank_mean = df['event_rank'].mean()\n",
    "df['event_rank'] = df['event_rank'].fillna(event_rank_mean)"
   ]
  },
  {
   "cell_type": "code",
   "execution_count": 21,
   "metadata": {},
   "outputs": [],
   "source": [
    "# CF, CG: event_started_on, event_ended_on\n",
    "event_date = ['event_started_on', 'event_ended_on']\n",
    "has_event = ~df['event_names'].isnull()\n",
    "\n",
    "for col in event_date:\n",
    "    df[col] = pd.to_datetime(df[col])\n",
    "    mean = df[col].mean()\n",
    "    df.loc[has_event,col] = df.loc[has_event,col].fillna(mean)"
   ]
  },
  {
   "cell_type": "code",
   "execution_count": 25,
   "metadata": {},
   "outputs": [],
   "source": [
    "# Stardust ver one-hot for country_code, stock_exchange_symbol\n",
    "def onehot_encoder(df: pd.DataFrame, col_name: str, num_selected: int) -> pd.DataFrame:\n",
    "    '''\n",
    "    Performs one-hot encoding on a dataframe's column for its values with most occurrences\n",
    "\n",
    "    :param pd.DataFrame df: dataframe to be processed\n",
    "    :param str col_name: name of the encoded column\n",
    "    :param int num_selected: number of values with most occurrences\n",
    "    :return: processed dataframe\n",
    "    :rtype: pd.DataFrame\n",
    "    '''\n",
    "    series = df[col_name].value_counts()\n",
    "    selected_col_name = series.head(num_selected).index.tolist()\n",
    "\n",
    "    for item in selected_col_name:\n",
    "        df[item] = np.where(df[col_name] == item, 1, 0) # whenever df[col_name] == cat replace it with 1 else 0\n",
    "        # df[item].add_prefix(col_name + \"_\")\n",
    "    df.drop(columns=col_name)\n",
    "    return df"
   ]
  },
  {
   "cell_type": "code",
   "execution_count": 26,
   "metadata": {},
   "outputs": [],
   "source": [
    "# CJ, CL: event_country_code, event_city\n",
    "df = onehot_encoder(df, 'event_country_code', 20)\n",
    "df = onehot_encoder(df, 'event_city', 20)"
   ]
  },
  {
   "cell_type": "code",
   "execution_count": 27,
   "metadata": {},
   "outputs": [
    {
     "output_type": "execute_result",
     "data": {
      "text/plain": [
       "  event_names   event_rank event_started_on event_ended_on event_country_code  \\\n",
       "0         NaN  8293.305429              NaT            NaT                NaN   \n",
       "1         NaN  8293.305429              NaT            NaT                NaN   \n",
       "2         NaN  8293.305429              NaT            NaT                NaN   \n",
       "3         NaN  8293.305429              NaT            NaT                NaN   \n",
       "4         NaN  8293.305429              NaT            NaT                NaN   \n",
       "\n",
       "  event_region event_city event_event_roles participant_name  person  \\\n",
       "0          NaN        NaN               NaN              NaN     NaN   \n",
       "1          NaN        NaN               NaN              NaN     NaN   \n",
       "2          NaN        NaN               NaN              NaN     NaN   \n",
       "3          NaN        NaN               NaN              NaN     NaN   \n",
       "4          NaN        NaN               NaN              NaN     NaN   \n",
       "\n",
       "   organization  speaker  sponsor  exhibitor  organizer  contestant  \\\n",
       "0           NaN      NaN      NaN        NaN        NaN         NaN   \n",
       "1           NaN      NaN      NaN        NaN        NaN         NaN   \n",
       "2           NaN      NaN      NaN        NaN        NaN         NaN   \n",
       "3           NaN      NaN      NaN        NaN        NaN         NaN   \n",
       "4           NaN      NaN      NaN        NaN        NaN         NaN   \n",
       "\n",
       "  organization_name job_started_on job_ended_on job_is_current  job_executive  \\\n",
       "0             SOICO            NaN          NaN           True            1.0   \n",
       "1             SOICO            NaN          NaN           True            1.0   \n",
       "2             SOICO            NaN          NaN           True            0.0   \n",
       "3             SOICO            NaN          NaN           True            1.0   \n",
       "4               NFX     2015-02-01          NaN           True            0.0   \n",
       "\n",
       "   job_employee  job_board_member  job_advisor  job_board_observer  \\\n",
       "0           0.0               0.0          0.0                 0.0   \n",
       "1           0.0               0.0          0.0                 0.0   \n",
       "2           0.0               1.0          0.0                 0.0   \n",
       "3           0.0               0.0          0.0                 0.0   \n",
       "4           0.0               0.0          1.0                 0.0   \n",
       "\n",
       "  person_personal_name person_personal_gender person_personal_country_code  \\\n",
       "0           Doki Ayaka                 female                          NaN   \n",
       "1      Motoshi Shimizu                   male                          NaN   \n",
       "2       Tetsuya Sanada                   male                          NaN   \n",
       "3     Junichi Kayahara                   male                          NaN   \n",
       "4           Josh Elman                   male                          USA   \n",
       "\n",
       "  person_personal_region person_personal_city  \\\n",
       "0                    NaN                  NaN   \n",
       "1                    NaN                  NaN   \n",
       "2                    NaN                  NaN   \n",
       "3                    NaN                  NaN   \n",
       "4             California        San Francisco   \n",
       "\n",
       "  person_personal_featured_job_title person_degree_degree_type  \\\n",
       "0                                NaN                       NaN   \n",
       "1                                NaN                       NaN   \n",
       "2                   Chairman and CEO                       NaN   \n",
       "3                                NaN                       NaN   \n",
       "4                    Venture Partner                  Bachelor   \n",
       "\n",
       "  person_degree_subject person_degree_started_on person_degree_completed_on  \\\n",
       "0                   NaN                      NaN                        NaN   \n",
       "1                   NaN                      NaN                        NaN   \n",
       "2                   NaN                      NaN                        NaN   \n",
       "3                   NaN                      NaN                        NaN   \n",
       "4      Symbolic Systems               1993-01-01                 1997-01-01   \n",
       "\n",
       "  person_degree_is_completed           person_event_name  person_event_rank  \\\n",
       "0                        NaN                         NaN                NaN   \n",
       "1                        NaN                         NaN                NaN   \n",
       "2                        NaN                         NaN                NaN   \n",
       "3                        NaN                         NaN                NaN   \n",
       "4                       True  TechCrunch Disrupt SF 2016             2255.0   \n",
       "\n",
       "  person_event_started_on person_event_ended_on person_event_country_code  \\\n",
       "0                     NaN                   NaN                       NaN   \n",
       "1                     NaN                   NaN                       NaN   \n",
       "2                     NaN                   NaN                       NaN   \n",
       "3                     NaN                   NaN                       NaN   \n",
       "4               12/9/2016             14/9/2016                       USA   \n",
       "\n",
       "  person_event_region person_event_city  \\\n",
       "0                 NaN               NaN   \n",
       "1                 NaN               NaN   \n",
       "2                 NaN               NaN   \n",
       "3                 NaN               NaN   \n",
       "4          California     San Francisco   \n",
       "\n",
       "                                  person_event_roles  person_person  \\\n",
       "0                                                NaN            NaN   \n",
       "1                                                NaN            NaN   \n",
       "2                                                NaN            NaN   \n",
       "3                                                NaN            NaN   \n",
       "4  competition,conference,expo,hackathon,meetup,n...            1.0   \n",
       "\n",
       "   person_organization  person_speaker  person_sponsor  person_exhibitor  \\\n",
       "0                  NaN             NaN             NaN               NaN   \n",
       "1                  NaN             NaN             NaN               NaN   \n",
       "2                  NaN             NaN             NaN               NaN   \n",
       "3                  NaN             NaN             NaN               NaN   \n",
       "4                  0.0             1.0             0.0               0.0   \n",
       "\n",
       "   person_organizer  person_contestant  USA  GBR  DEU  ESP  SGP  CAN  FRA  \\\n",
       "0               NaN                NaN    0    0    0    0    0    0    0   \n",
       "1               NaN                NaN    0    0    0    0    0    0    0   \n",
       "2               NaN                NaN    0    0    0    0    0    0    0   \n",
       "3               NaN                NaN    0    0    0    0    0    0    0   \n",
       "4               0.0                0.0    0    0    0    0    0    0    0   \n",
       "\n",
       "   DNK  HKG  IRL  EST  NLD  CZE  ISR  PRT  BGR  AUT  IDN  ARE  FIN  \\\n",
       "0    0    0    0    0    0    0    0    0    0    0    0    0    0   \n",
       "1    0    0    0    0    0    0    0    0    0    0    0    0    0   \n",
       "2    0    0    0    0    0    0    0    0    0    0    0    0    0   \n",
       "3    0    0    0    0    0    0    0    0    0    0    0    0    0   \n",
       "4    0    0    0    0    0    0    0    0    0    0    0    0    0   \n",
       "\n",
       "   San Francisco  New York  Las Vegas  London  Orlando  Berlin  Singapore  \\\n",
       "0              0         0          0       0        0       0          0   \n",
       "1              0         0          0       0        0       0          0   \n",
       "2              0         0          0       0        0       0          0   \n",
       "3              0         0          0       0        0       0          0   \n",
       "4              0         0          0       0        0       0          0   \n",
       "\n",
       "   Boston  Cambridge  Copenhagen  Toronto  Paris  Santa Clara  Berkeley  \\\n",
       "0       0          0           0        0      0            0         0   \n",
       "1       0          0           0        0      0            0         0   \n",
       "2       0          0           0        0      0            0         0   \n",
       "3       0          0           0        0      0            0         0   \n",
       "4       0          0           0        0      0            0         0   \n",
       "\n",
       "   Washington  Dublin  Madrid  Santa Monica  Cyberport  Tallinn  \n",
       "0           0       0       0             0          0        0  \n",
       "1           0       0       0             0          0        0  \n",
       "2           0       0       0             0          0        0  \n",
       "3           0       0       0             0          0        0  \n",
       "4           0       0       0             0          0        0  "
      ],
      "text/html": "<div>\n<style scoped>\n    .dataframe tbody tr th:only-of-type {\n        vertical-align: middle;\n    }\n\n    .dataframe tbody tr th {\n        vertical-align: top;\n    }\n\n    .dataframe thead th {\n        text-align: right;\n    }\n</style>\n<table border=\"1\" class=\"dataframe\">\n  <thead>\n    <tr style=\"text-align: right;\">\n      <th></th>\n      <th>event_names</th>\n      <th>event_rank</th>\n      <th>event_started_on</th>\n      <th>event_ended_on</th>\n      <th>event_country_code</th>\n      <th>event_region</th>\n      <th>event_city</th>\n      <th>event_event_roles</th>\n      <th>participant_name</th>\n      <th>person</th>\n      <th>organization</th>\n      <th>speaker</th>\n      <th>sponsor</th>\n      <th>exhibitor</th>\n      <th>organizer</th>\n      <th>contestant</th>\n      <th>organization_name</th>\n      <th>job_started_on</th>\n      <th>job_ended_on</th>\n      <th>job_is_current</th>\n      <th>job_executive</th>\n      <th>job_employee</th>\n      <th>job_board_member</th>\n      <th>job_advisor</th>\n      <th>job_board_observer</th>\n      <th>person_personal_name</th>\n      <th>person_personal_gender</th>\n      <th>person_personal_country_code</th>\n      <th>person_personal_region</th>\n      <th>person_personal_city</th>\n      <th>person_personal_featured_job_title</th>\n      <th>person_degree_degree_type</th>\n      <th>person_degree_subject</th>\n      <th>person_degree_started_on</th>\n      <th>person_degree_completed_on</th>\n      <th>person_degree_is_completed</th>\n      <th>person_event_name</th>\n      <th>person_event_rank</th>\n      <th>person_event_started_on</th>\n      <th>person_event_ended_on</th>\n      <th>person_event_country_code</th>\n      <th>person_event_region</th>\n      <th>person_event_city</th>\n      <th>person_event_roles</th>\n      <th>person_person</th>\n      <th>person_organization</th>\n      <th>person_speaker</th>\n      <th>person_sponsor</th>\n      <th>person_exhibitor</th>\n      <th>person_organizer</th>\n      <th>person_contestant</th>\n      <th>USA</th>\n      <th>GBR</th>\n      <th>DEU</th>\n      <th>ESP</th>\n      <th>SGP</th>\n      <th>CAN</th>\n      <th>FRA</th>\n      <th>DNK</th>\n      <th>HKG</th>\n      <th>IRL</th>\n      <th>EST</th>\n      <th>NLD</th>\n      <th>CZE</th>\n      <th>ISR</th>\n      <th>PRT</th>\n      <th>BGR</th>\n      <th>AUT</th>\n      <th>IDN</th>\n      <th>ARE</th>\n      <th>FIN</th>\n      <th>San Francisco</th>\n      <th>New York</th>\n      <th>Las Vegas</th>\n      <th>London</th>\n      <th>Orlando</th>\n      <th>Berlin</th>\n      <th>Singapore</th>\n      <th>Boston</th>\n      <th>Cambridge</th>\n      <th>Copenhagen</th>\n      <th>Toronto</th>\n      <th>Paris</th>\n      <th>Santa Clara</th>\n      <th>Berkeley</th>\n      <th>Washington</th>\n      <th>Dublin</th>\n      <th>Madrid</th>\n      <th>Santa Monica</th>\n      <th>Cyberport</th>\n      <th>Tallinn</th>\n    </tr>\n  </thead>\n  <tbody>\n    <tr>\n      <th>0</th>\n      <td>NaN</td>\n      <td>8293.305429</td>\n      <td>NaT</td>\n      <td>NaT</td>\n      <td>NaN</td>\n      <td>NaN</td>\n      <td>NaN</td>\n      <td>NaN</td>\n      <td>NaN</td>\n      <td>NaN</td>\n      <td>NaN</td>\n      <td>NaN</td>\n      <td>NaN</td>\n      <td>NaN</td>\n      <td>NaN</td>\n      <td>NaN</td>\n      <td>SOICO</td>\n      <td>NaN</td>\n      <td>NaN</td>\n      <td>True</td>\n      <td>1.0</td>\n      <td>0.0</td>\n      <td>0.0</td>\n      <td>0.0</td>\n      <td>0.0</td>\n      <td>Doki Ayaka</td>\n      <td>female</td>\n      <td>NaN</td>\n      <td>NaN</td>\n      <td>NaN</td>\n      <td>NaN</td>\n      <td>NaN</td>\n      <td>NaN</td>\n      <td>NaN</td>\n      <td>NaN</td>\n      <td>NaN</td>\n      <td>NaN</td>\n      <td>NaN</td>\n      <td>NaN</td>\n      <td>NaN</td>\n      <td>NaN</td>\n      <td>NaN</td>\n      <td>NaN</td>\n      <td>NaN</td>\n      <td>NaN</td>\n      <td>NaN</td>\n      <td>NaN</td>\n      <td>NaN</td>\n      <td>NaN</td>\n      <td>NaN</td>\n      <td>NaN</td>\n      <td>0</td>\n      <td>0</td>\n      <td>0</td>\n      <td>0</td>\n      <td>0</td>\n      <td>0</td>\n      <td>0</td>\n      <td>0</td>\n      <td>0</td>\n      <td>0</td>\n      <td>0</td>\n      <td>0</td>\n      <td>0</td>\n      <td>0</td>\n      <td>0</td>\n      <td>0</td>\n      <td>0</td>\n      <td>0</td>\n      <td>0</td>\n      <td>0</td>\n      <td>0</td>\n      <td>0</td>\n      <td>0</td>\n      <td>0</td>\n      <td>0</td>\n      <td>0</td>\n      <td>0</td>\n      <td>0</td>\n      <td>0</td>\n      <td>0</td>\n      <td>0</td>\n      <td>0</td>\n      <td>0</td>\n      <td>0</td>\n      <td>0</td>\n      <td>0</td>\n      <td>0</td>\n      <td>0</td>\n      <td>0</td>\n      <td>0</td>\n    </tr>\n    <tr>\n      <th>1</th>\n      <td>NaN</td>\n      <td>8293.305429</td>\n      <td>NaT</td>\n      <td>NaT</td>\n      <td>NaN</td>\n      <td>NaN</td>\n      <td>NaN</td>\n      <td>NaN</td>\n      <td>NaN</td>\n      <td>NaN</td>\n      <td>NaN</td>\n      <td>NaN</td>\n      <td>NaN</td>\n      <td>NaN</td>\n      <td>NaN</td>\n      <td>NaN</td>\n      <td>SOICO</td>\n      <td>NaN</td>\n      <td>NaN</td>\n      <td>True</td>\n      <td>1.0</td>\n      <td>0.0</td>\n      <td>0.0</td>\n      <td>0.0</td>\n      <td>0.0</td>\n      <td>Motoshi Shimizu</td>\n      <td>male</td>\n      <td>NaN</td>\n      <td>NaN</td>\n      <td>NaN</td>\n      <td>NaN</td>\n      <td>NaN</td>\n      <td>NaN</td>\n      <td>NaN</td>\n      <td>NaN</td>\n      <td>NaN</td>\n      <td>NaN</td>\n      <td>NaN</td>\n      <td>NaN</td>\n      <td>NaN</td>\n      <td>NaN</td>\n      <td>NaN</td>\n      <td>NaN</td>\n      <td>NaN</td>\n      <td>NaN</td>\n      <td>NaN</td>\n      <td>NaN</td>\n      <td>NaN</td>\n      <td>NaN</td>\n      <td>NaN</td>\n      <td>NaN</td>\n      <td>0</td>\n      <td>0</td>\n      <td>0</td>\n      <td>0</td>\n      <td>0</td>\n      <td>0</td>\n      <td>0</td>\n      <td>0</td>\n      <td>0</td>\n      <td>0</td>\n      <td>0</td>\n      <td>0</td>\n      <td>0</td>\n      <td>0</td>\n      <td>0</td>\n      <td>0</td>\n      <td>0</td>\n      <td>0</td>\n      <td>0</td>\n      <td>0</td>\n      <td>0</td>\n      <td>0</td>\n      <td>0</td>\n      <td>0</td>\n      <td>0</td>\n      <td>0</td>\n      <td>0</td>\n      <td>0</td>\n      <td>0</td>\n      <td>0</td>\n      <td>0</td>\n      <td>0</td>\n      <td>0</td>\n      <td>0</td>\n      <td>0</td>\n      <td>0</td>\n      <td>0</td>\n      <td>0</td>\n      <td>0</td>\n      <td>0</td>\n    </tr>\n    <tr>\n      <th>2</th>\n      <td>NaN</td>\n      <td>8293.305429</td>\n      <td>NaT</td>\n      <td>NaT</td>\n      <td>NaN</td>\n      <td>NaN</td>\n      <td>NaN</td>\n      <td>NaN</td>\n      <td>NaN</td>\n      <td>NaN</td>\n      <td>NaN</td>\n      <td>NaN</td>\n      <td>NaN</td>\n      <td>NaN</td>\n      <td>NaN</td>\n      <td>NaN</td>\n      <td>SOICO</td>\n      <td>NaN</td>\n      <td>NaN</td>\n      <td>True</td>\n      <td>0.0</td>\n      <td>0.0</td>\n      <td>1.0</td>\n      <td>0.0</td>\n      <td>0.0</td>\n      <td>Tetsuya Sanada</td>\n      <td>male</td>\n      <td>NaN</td>\n      <td>NaN</td>\n      <td>NaN</td>\n      <td>Chairman and CEO</td>\n      <td>NaN</td>\n      <td>NaN</td>\n      <td>NaN</td>\n      <td>NaN</td>\n      <td>NaN</td>\n      <td>NaN</td>\n      <td>NaN</td>\n      <td>NaN</td>\n      <td>NaN</td>\n      <td>NaN</td>\n      <td>NaN</td>\n      <td>NaN</td>\n      <td>NaN</td>\n      <td>NaN</td>\n      <td>NaN</td>\n      <td>NaN</td>\n      <td>NaN</td>\n      <td>NaN</td>\n      <td>NaN</td>\n      <td>NaN</td>\n      <td>0</td>\n      <td>0</td>\n      <td>0</td>\n      <td>0</td>\n      <td>0</td>\n      <td>0</td>\n      <td>0</td>\n      <td>0</td>\n      <td>0</td>\n      <td>0</td>\n      <td>0</td>\n      <td>0</td>\n      <td>0</td>\n      <td>0</td>\n      <td>0</td>\n      <td>0</td>\n      <td>0</td>\n      <td>0</td>\n      <td>0</td>\n      <td>0</td>\n      <td>0</td>\n      <td>0</td>\n      <td>0</td>\n      <td>0</td>\n      <td>0</td>\n      <td>0</td>\n      <td>0</td>\n      <td>0</td>\n      <td>0</td>\n      <td>0</td>\n      <td>0</td>\n      <td>0</td>\n      <td>0</td>\n      <td>0</td>\n      <td>0</td>\n      <td>0</td>\n      <td>0</td>\n      <td>0</td>\n      <td>0</td>\n      <td>0</td>\n    </tr>\n    <tr>\n      <th>3</th>\n      <td>NaN</td>\n      <td>8293.305429</td>\n      <td>NaT</td>\n      <td>NaT</td>\n      <td>NaN</td>\n      <td>NaN</td>\n      <td>NaN</td>\n      <td>NaN</td>\n      <td>NaN</td>\n      <td>NaN</td>\n      <td>NaN</td>\n      <td>NaN</td>\n      <td>NaN</td>\n      <td>NaN</td>\n      <td>NaN</td>\n      <td>NaN</td>\n      <td>SOICO</td>\n      <td>NaN</td>\n      <td>NaN</td>\n      <td>True</td>\n      <td>1.0</td>\n      <td>0.0</td>\n      <td>0.0</td>\n      <td>0.0</td>\n      <td>0.0</td>\n      <td>Junichi Kayahara</td>\n      <td>male</td>\n      <td>NaN</td>\n      <td>NaN</td>\n      <td>NaN</td>\n      <td>NaN</td>\n      <td>NaN</td>\n      <td>NaN</td>\n      <td>NaN</td>\n      <td>NaN</td>\n      <td>NaN</td>\n      <td>NaN</td>\n      <td>NaN</td>\n      <td>NaN</td>\n      <td>NaN</td>\n      <td>NaN</td>\n      <td>NaN</td>\n      <td>NaN</td>\n      <td>NaN</td>\n      <td>NaN</td>\n      <td>NaN</td>\n      <td>NaN</td>\n      <td>NaN</td>\n      <td>NaN</td>\n      <td>NaN</td>\n      <td>NaN</td>\n      <td>0</td>\n      <td>0</td>\n      <td>0</td>\n      <td>0</td>\n      <td>0</td>\n      <td>0</td>\n      <td>0</td>\n      <td>0</td>\n      <td>0</td>\n      <td>0</td>\n      <td>0</td>\n      <td>0</td>\n      <td>0</td>\n      <td>0</td>\n      <td>0</td>\n      <td>0</td>\n      <td>0</td>\n      <td>0</td>\n      <td>0</td>\n      <td>0</td>\n      <td>0</td>\n      <td>0</td>\n      <td>0</td>\n      <td>0</td>\n      <td>0</td>\n      <td>0</td>\n      <td>0</td>\n      <td>0</td>\n      <td>0</td>\n      <td>0</td>\n      <td>0</td>\n      <td>0</td>\n      <td>0</td>\n      <td>0</td>\n      <td>0</td>\n      <td>0</td>\n      <td>0</td>\n      <td>0</td>\n      <td>0</td>\n      <td>0</td>\n    </tr>\n    <tr>\n      <th>4</th>\n      <td>NaN</td>\n      <td>8293.305429</td>\n      <td>NaT</td>\n      <td>NaT</td>\n      <td>NaN</td>\n      <td>NaN</td>\n      <td>NaN</td>\n      <td>NaN</td>\n      <td>NaN</td>\n      <td>NaN</td>\n      <td>NaN</td>\n      <td>NaN</td>\n      <td>NaN</td>\n      <td>NaN</td>\n      <td>NaN</td>\n      <td>NaN</td>\n      <td>NFX</td>\n      <td>2015-02-01</td>\n      <td>NaN</td>\n      <td>True</td>\n      <td>0.0</td>\n      <td>0.0</td>\n      <td>0.0</td>\n      <td>1.0</td>\n      <td>0.0</td>\n      <td>Josh Elman</td>\n      <td>male</td>\n      <td>USA</td>\n      <td>California</td>\n      <td>San Francisco</td>\n      <td>Venture Partner</td>\n      <td>Bachelor</td>\n      <td>Symbolic Systems</td>\n      <td>1993-01-01</td>\n      <td>1997-01-01</td>\n      <td>True</td>\n      <td>TechCrunch Disrupt SF 2016</td>\n      <td>2255.0</td>\n      <td>12/9/2016</td>\n      <td>14/9/2016</td>\n      <td>USA</td>\n      <td>California</td>\n      <td>San Francisco</td>\n      <td>competition,conference,expo,hackathon,meetup,n...</td>\n      <td>1.0</td>\n      <td>0.0</td>\n      <td>1.0</td>\n      <td>0.0</td>\n      <td>0.0</td>\n      <td>0.0</td>\n      <td>0.0</td>\n      <td>0</td>\n      <td>0</td>\n      <td>0</td>\n      <td>0</td>\n      <td>0</td>\n      <td>0</td>\n      <td>0</td>\n      <td>0</td>\n      <td>0</td>\n      <td>0</td>\n      <td>0</td>\n      <td>0</td>\n      <td>0</td>\n      <td>0</td>\n      <td>0</td>\n      <td>0</td>\n      <td>0</td>\n      <td>0</td>\n      <td>0</td>\n      <td>0</td>\n      <td>0</td>\n      <td>0</td>\n      <td>0</td>\n      <td>0</td>\n      <td>0</td>\n      <td>0</td>\n      <td>0</td>\n      <td>0</td>\n      <td>0</td>\n      <td>0</td>\n      <td>0</td>\n      <td>0</td>\n      <td>0</td>\n      <td>0</td>\n      <td>0</td>\n      <td>0</td>\n      <td>0</td>\n      <td>0</td>\n      <td>0</td>\n      <td>0</td>\n    </tr>\n  </tbody>\n</table>\n</div>"
     },
     "metadata": {},
     "execution_count": 27
    }
   ],
   "source": [
    "df.head()"
   ]
  },
  {
   "cell_type": "code",
   "execution_count": 13,
   "metadata": {},
   "outputs": [
    {
     "output_type": "execute_result",
     "data": {
      "text/plain": [
       "male                 856774\n",
       "female               122996\n",
       "not_provided           3218\n",
       "transgender_woman        67\n",
       "agender                   8\n",
       "mtf                       6\n",
       "other                     3\n",
       "androgynous               2\n",
       "neutrois                  1\n",
       "Name: person_personal_gender, dtype: int64"
      ]
     },
     "metadata": {},
     "execution_count": 13
    }
   ],
   "source": [
    "# DE, DF, DH: person_personal_gender, person_personal_country, person_personal_city\n",
    "df = onehot_encoder(df, 'person_personal_gender', 2)\n",
    "df = onehot_encoder(df, 'person_personal_country', 20)\n",
    "df = onehot_encoder(df, 'person_personal_city', 20)"
   ]
  },
  {
   "cell_type": "code",
   "execution_count": 12,
   "metadata": {},
   "outputs": [
    {
     "output_type": "execute_result",
     "data": {
      "text/plain": [
       "  event_names   event_rank event_started_on event_ended_on event_country_code  \\\n",
       "0         NaN  8293.305429              NaN            NaN                NaN   \n",
       "1         NaN  8293.305429              NaN            NaN                NaN   \n",
       "2         NaN  8293.305429              NaN            NaN                NaN   \n",
       "3         NaN  8293.305429              NaN            NaN                NaN   \n",
       "4         NaN  8293.305429              NaN            NaN                NaN   \n",
       "\n",
       "  event_region event_city event_event_roles participant_name  person  \\\n",
       "0          NaN        NaN               NaN              NaN     NaN   \n",
       "1          NaN        NaN               NaN              NaN     NaN   \n",
       "2          NaN        NaN               NaN              NaN     NaN   \n",
       "3          NaN        NaN               NaN              NaN     NaN   \n",
       "4          NaN        NaN               NaN              NaN     NaN   \n",
       "\n",
       "   organization  speaker  sponsor  exhibitor  organizer  contestant  \\\n",
       "0           NaN      NaN      NaN        NaN        NaN         NaN   \n",
       "1           NaN      NaN      NaN        NaN        NaN         NaN   \n",
       "2           NaN      NaN      NaN        NaN        NaN         NaN   \n",
       "3           NaN      NaN      NaN        NaN        NaN         NaN   \n",
       "4           NaN      NaN      NaN        NaN        NaN         NaN   \n",
       "\n",
       "  organization_name job_started_on job_ended_on job_is_current  job_executive  \\\n",
       "0             SOICO            NaN          NaN           True            1.0   \n",
       "1             SOICO            NaN          NaN           True            1.0   \n",
       "2             SOICO            NaN          NaN           True            0.0   \n",
       "3             SOICO            NaN          NaN           True            1.0   \n",
       "4               NFX     2015-02-01          NaN           True            0.0   \n",
       "\n",
       "   job_employee  job_board_member  job_advisor  job_board_observer  \\\n",
       "0           0.0               0.0          0.0                 0.0   \n",
       "1           0.0               0.0          0.0                 0.0   \n",
       "2           0.0               1.0          0.0                 0.0   \n",
       "3           0.0               0.0          0.0                 0.0   \n",
       "4           0.0               0.0          1.0                 0.0   \n",
       "\n",
       "  person_personal_name person_personal_gender person_personal_country_code  \\\n",
       "0           Doki Ayaka                 female                          NaN   \n",
       "1      Motoshi Shimizu                   male                          NaN   \n",
       "2       Tetsuya Sanada                   male                          NaN   \n",
       "3     Junichi Kayahara                   male                          NaN   \n",
       "4           Josh Elman                   male                          USA   \n",
       "\n",
       "  person_personal_region person_personal_city  \\\n",
       "0                    NaN                  NaN   \n",
       "1                    NaN                  NaN   \n",
       "2                    NaN                  NaN   \n",
       "3                    NaN                  NaN   \n",
       "4             California        San Francisco   \n",
       "\n",
       "  person_personal_featured_job_title person_degree_degree_type  \\\n",
       "0                                NaN                       NaN   \n",
       "1                                NaN                       NaN   \n",
       "2                   Chairman and CEO                       NaN   \n",
       "3                                NaN                       NaN   \n",
       "4                    Venture Partner                  Bachelor   \n",
       "\n",
       "  person_degree_subject person_degree_started_on person_degree_completed_on  \\\n",
       "0                   NaN                      NaN                        NaN   \n",
       "1                   NaN                      NaN                        NaN   \n",
       "2                   NaN                      NaN                        NaN   \n",
       "3                   NaN                      NaN                        NaN   \n",
       "4      Symbolic Systems               1993-01-01                 1997-01-01   \n",
       "\n",
       "  person_degree_is_completed           person_event_name  person_event_rank  \\\n",
       "0                        NaN                         NaN                NaN   \n",
       "1                        NaN                         NaN                NaN   \n",
       "2                        NaN                         NaN                NaN   \n",
       "3                        NaN                         NaN                NaN   \n",
       "4                       True  TechCrunch Disrupt SF 2016             2255.0   \n",
       "\n",
       "  person_event_started_on person_event_ended_on person_event_country_code  \\\n",
       "0                     NaN                   NaN                       NaN   \n",
       "1                     NaN                   NaN                       NaN   \n",
       "2                     NaN                   NaN                       NaN   \n",
       "3                     NaN                   NaN                       NaN   \n",
       "4               12/9/2016             14/9/2016                       USA   \n",
       "\n",
       "  person_event_region person_event_city  \\\n",
       "0                 NaN               NaN   \n",
       "1                 NaN               NaN   \n",
       "2                 NaN               NaN   \n",
       "3                 NaN               NaN   \n",
       "4          California     San Francisco   \n",
       "\n",
       "                                  person_event_roles  person_person  \\\n",
       "0                                                NaN            NaN   \n",
       "1                                                NaN            NaN   \n",
       "2                                                NaN            NaN   \n",
       "3                                                NaN            NaN   \n",
       "4  competition,conference,expo,hackathon,meetup,n...            1.0   \n",
       "\n",
       "   person_organization  person_speaker  person_sponsor  person_exhibitor  \\\n",
       "0                  NaN             NaN             NaN               NaN   \n",
       "1                  NaN             NaN             NaN               NaN   \n",
       "2                  NaN             NaN             NaN               NaN   \n",
       "3                  NaN             NaN             NaN               NaN   \n",
       "4                  0.0             1.0             0.0               0.0   \n",
       "\n",
       "   person_organizer  person_contestant  USA  GBR  DEU  ESP  SGP  CAN  FRA  \\\n",
       "0               NaN                NaN    0    0    0    0    0    0    0   \n",
       "1               NaN                NaN    0    0    0    0    0    0    0   \n",
       "2               NaN                NaN    0    0    0    0    0    0    0   \n",
       "3               NaN                NaN    0    0    0    0    0    0    0   \n",
       "4               0.0                0.0    0    0    0    0    0    0    0   \n",
       "\n",
       "   DNK  HKG  IRL  EST  NLD  CZE  ISR  PRT  BGR  AUT  IDN  ARE  FIN  \n",
       "0    0    0    0    0    0    0    0    0    0    0    0    0    0  \n",
       "1    0    0    0    0    0    0    0    0    0    0    0    0    0  \n",
       "2    0    0    0    0    0    0    0    0    0    0    0    0    0  \n",
       "3    0    0    0    0    0    0    0    0    0    0    0    0    0  \n",
       "4    0    0    0    0    0    0    0    0    0    0    0    0    0  "
      ],
      "text/html": "<div>\n<style scoped>\n    .dataframe tbody tr th:only-of-type {\n        vertical-align: middle;\n    }\n\n    .dataframe tbody tr th {\n        vertical-align: top;\n    }\n\n    .dataframe thead th {\n        text-align: right;\n    }\n</style>\n<table border=\"1\" class=\"dataframe\">\n  <thead>\n    <tr style=\"text-align: right;\">\n      <th></th>\n      <th>event_names</th>\n      <th>event_rank</th>\n      <th>event_started_on</th>\n      <th>event_ended_on</th>\n      <th>event_country_code</th>\n      <th>event_region</th>\n      <th>event_city</th>\n      <th>event_event_roles</th>\n      <th>participant_name</th>\n      <th>person</th>\n      <th>organization</th>\n      <th>speaker</th>\n      <th>sponsor</th>\n      <th>exhibitor</th>\n      <th>organizer</th>\n      <th>contestant</th>\n      <th>organization_name</th>\n      <th>job_started_on</th>\n      <th>job_ended_on</th>\n      <th>job_is_current</th>\n      <th>job_executive</th>\n      <th>job_employee</th>\n      <th>job_board_member</th>\n      <th>job_advisor</th>\n      <th>job_board_observer</th>\n      <th>person_personal_name</th>\n      <th>person_personal_gender</th>\n      <th>person_personal_country_code</th>\n      <th>person_personal_region</th>\n      <th>person_personal_city</th>\n      <th>person_personal_featured_job_title</th>\n      <th>person_degree_degree_type</th>\n      <th>person_degree_subject</th>\n      <th>person_degree_started_on</th>\n      <th>person_degree_completed_on</th>\n      <th>person_degree_is_completed</th>\n      <th>person_event_name</th>\n      <th>person_event_rank</th>\n      <th>person_event_started_on</th>\n      <th>person_event_ended_on</th>\n      <th>person_event_country_code</th>\n      <th>person_event_region</th>\n      <th>person_event_city</th>\n      <th>person_event_roles</th>\n      <th>person_person</th>\n      <th>person_organization</th>\n      <th>person_speaker</th>\n      <th>person_sponsor</th>\n      <th>person_exhibitor</th>\n      <th>person_organizer</th>\n      <th>person_contestant</th>\n      <th>USA</th>\n      <th>GBR</th>\n      <th>DEU</th>\n      <th>ESP</th>\n      <th>SGP</th>\n      <th>CAN</th>\n      <th>FRA</th>\n      <th>DNK</th>\n      <th>HKG</th>\n      <th>IRL</th>\n      <th>EST</th>\n      <th>NLD</th>\n      <th>CZE</th>\n      <th>ISR</th>\n      <th>PRT</th>\n      <th>BGR</th>\n      <th>AUT</th>\n      <th>IDN</th>\n      <th>ARE</th>\n      <th>FIN</th>\n    </tr>\n  </thead>\n  <tbody>\n    <tr>\n      <th>0</th>\n      <td>NaN</td>\n      <td>8293.305429</td>\n      <td>NaN</td>\n      <td>NaN</td>\n      <td>NaN</td>\n      <td>NaN</td>\n      <td>NaN</td>\n      <td>NaN</td>\n      <td>NaN</td>\n      <td>NaN</td>\n      <td>NaN</td>\n      <td>NaN</td>\n      <td>NaN</td>\n      <td>NaN</td>\n      <td>NaN</td>\n      <td>NaN</td>\n      <td>SOICO</td>\n      <td>NaN</td>\n      <td>NaN</td>\n      <td>True</td>\n      <td>1.0</td>\n      <td>0.0</td>\n      <td>0.0</td>\n      <td>0.0</td>\n      <td>0.0</td>\n      <td>Doki Ayaka</td>\n      <td>female</td>\n      <td>NaN</td>\n      <td>NaN</td>\n      <td>NaN</td>\n      <td>NaN</td>\n      <td>NaN</td>\n      <td>NaN</td>\n      <td>NaN</td>\n      <td>NaN</td>\n      <td>NaN</td>\n      <td>NaN</td>\n      <td>NaN</td>\n      <td>NaN</td>\n      <td>NaN</td>\n      <td>NaN</td>\n      <td>NaN</td>\n      <td>NaN</td>\n      <td>NaN</td>\n      <td>NaN</td>\n      <td>NaN</td>\n      <td>NaN</td>\n      <td>NaN</td>\n      <td>NaN</td>\n      <td>NaN</td>\n      <td>NaN</td>\n      <td>0</td>\n      <td>0</td>\n      <td>0</td>\n      <td>0</td>\n      <td>0</td>\n      <td>0</td>\n      <td>0</td>\n      <td>0</td>\n      <td>0</td>\n      <td>0</td>\n      <td>0</td>\n      <td>0</td>\n      <td>0</td>\n      <td>0</td>\n      <td>0</td>\n      <td>0</td>\n      <td>0</td>\n      <td>0</td>\n      <td>0</td>\n      <td>0</td>\n    </tr>\n    <tr>\n      <th>1</th>\n      <td>NaN</td>\n      <td>8293.305429</td>\n      <td>NaN</td>\n      <td>NaN</td>\n      <td>NaN</td>\n      <td>NaN</td>\n      <td>NaN</td>\n      <td>NaN</td>\n      <td>NaN</td>\n      <td>NaN</td>\n      <td>NaN</td>\n      <td>NaN</td>\n      <td>NaN</td>\n      <td>NaN</td>\n      <td>NaN</td>\n      <td>NaN</td>\n      <td>SOICO</td>\n      <td>NaN</td>\n      <td>NaN</td>\n      <td>True</td>\n      <td>1.0</td>\n      <td>0.0</td>\n      <td>0.0</td>\n      <td>0.0</td>\n      <td>0.0</td>\n      <td>Motoshi Shimizu</td>\n      <td>male</td>\n      <td>NaN</td>\n      <td>NaN</td>\n      <td>NaN</td>\n      <td>NaN</td>\n      <td>NaN</td>\n      <td>NaN</td>\n      <td>NaN</td>\n      <td>NaN</td>\n      <td>NaN</td>\n      <td>NaN</td>\n      <td>NaN</td>\n      <td>NaN</td>\n      <td>NaN</td>\n      <td>NaN</td>\n      <td>NaN</td>\n      <td>NaN</td>\n      <td>NaN</td>\n      <td>NaN</td>\n      <td>NaN</td>\n      <td>NaN</td>\n      <td>NaN</td>\n      <td>NaN</td>\n      <td>NaN</td>\n      <td>NaN</td>\n      <td>0</td>\n      <td>0</td>\n      <td>0</td>\n      <td>0</td>\n      <td>0</td>\n      <td>0</td>\n      <td>0</td>\n      <td>0</td>\n      <td>0</td>\n      <td>0</td>\n      <td>0</td>\n      <td>0</td>\n      <td>0</td>\n      <td>0</td>\n      <td>0</td>\n      <td>0</td>\n      <td>0</td>\n      <td>0</td>\n      <td>0</td>\n      <td>0</td>\n    </tr>\n    <tr>\n      <th>2</th>\n      <td>NaN</td>\n      <td>8293.305429</td>\n      <td>NaN</td>\n      <td>NaN</td>\n      <td>NaN</td>\n      <td>NaN</td>\n      <td>NaN</td>\n      <td>NaN</td>\n      <td>NaN</td>\n      <td>NaN</td>\n      <td>NaN</td>\n      <td>NaN</td>\n      <td>NaN</td>\n      <td>NaN</td>\n      <td>NaN</td>\n      <td>NaN</td>\n      <td>SOICO</td>\n      <td>NaN</td>\n      <td>NaN</td>\n      <td>True</td>\n      <td>0.0</td>\n      <td>0.0</td>\n      <td>1.0</td>\n      <td>0.0</td>\n      <td>0.0</td>\n      <td>Tetsuya Sanada</td>\n      <td>male</td>\n      <td>NaN</td>\n      <td>NaN</td>\n      <td>NaN</td>\n      <td>Chairman and CEO</td>\n      <td>NaN</td>\n      <td>NaN</td>\n      <td>NaN</td>\n      <td>NaN</td>\n      <td>NaN</td>\n      <td>NaN</td>\n      <td>NaN</td>\n      <td>NaN</td>\n      <td>NaN</td>\n      <td>NaN</td>\n      <td>NaN</td>\n      <td>NaN</td>\n      <td>NaN</td>\n      <td>NaN</td>\n      <td>NaN</td>\n      <td>NaN</td>\n      <td>NaN</td>\n      <td>NaN</td>\n      <td>NaN</td>\n      <td>NaN</td>\n      <td>0</td>\n      <td>0</td>\n      <td>0</td>\n      <td>0</td>\n      <td>0</td>\n      <td>0</td>\n      <td>0</td>\n      <td>0</td>\n      <td>0</td>\n      <td>0</td>\n      <td>0</td>\n      <td>0</td>\n      <td>0</td>\n      <td>0</td>\n      <td>0</td>\n      <td>0</td>\n      <td>0</td>\n      <td>0</td>\n      <td>0</td>\n      <td>0</td>\n    </tr>\n    <tr>\n      <th>3</th>\n      <td>NaN</td>\n      <td>8293.305429</td>\n      <td>NaN</td>\n      <td>NaN</td>\n      <td>NaN</td>\n      <td>NaN</td>\n      <td>NaN</td>\n      <td>NaN</td>\n      <td>NaN</td>\n      <td>NaN</td>\n      <td>NaN</td>\n      <td>NaN</td>\n      <td>NaN</td>\n      <td>NaN</td>\n      <td>NaN</td>\n      <td>NaN</td>\n      <td>SOICO</td>\n      <td>NaN</td>\n      <td>NaN</td>\n      <td>True</td>\n      <td>1.0</td>\n      <td>0.0</td>\n      <td>0.0</td>\n      <td>0.0</td>\n      <td>0.0</td>\n      <td>Junichi Kayahara</td>\n      <td>male</td>\n      <td>NaN</td>\n      <td>NaN</td>\n      <td>NaN</td>\n      <td>NaN</td>\n      <td>NaN</td>\n      <td>NaN</td>\n      <td>NaN</td>\n      <td>NaN</td>\n      <td>NaN</td>\n      <td>NaN</td>\n      <td>NaN</td>\n      <td>NaN</td>\n      <td>NaN</td>\n      <td>NaN</td>\n      <td>NaN</td>\n      <td>NaN</td>\n      <td>NaN</td>\n      <td>NaN</td>\n      <td>NaN</td>\n      <td>NaN</td>\n      <td>NaN</td>\n      <td>NaN</td>\n      <td>NaN</td>\n      <td>NaN</td>\n      <td>0</td>\n      <td>0</td>\n      <td>0</td>\n      <td>0</td>\n      <td>0</td>\n      <td>0</td>\n      <td>0</td>\n      <td>0</td>\n      <td>0</td>\n      <td>0</td>\n      <td>0</td>\n      <td>0</td>\n      <td>0</td>\n      <td>0</td>\n      <td>0</td>\n      <td>0</td>\n      <td>0</td>\n      <td>0</td>\n      <td>0</td>\n      <td>0</td>\n    </tr>\n    <tr>\n      <th>4</th>\n      <td>NaN</td>\n      <td>8293.305429</td>\n      <td>NaN</td>\n      <td>NaN</td>\n      <td>NaN</td>\n      <td>NaN</td>\n      <td>NaN</td>\n      <td>NaN</td>\n      <td>NaN</td>\n      <td>NaN</td>\n      <td>NaN</td>\n      <td>NaN</td>\n      <td>NaN</td>\n      <td>NaN</td>\n      <td>NaN</td>\n      <td>NaN</td>\n      <td>NFX</td>\n      <td>2015-02-01</td>\n      <td>NaN</td>\n      <td>True</td>\n      <td>0.0</td>\n      <td>0.0</td>\n      <td>0.0</td>\n      <td>1.0</td>\n      <td>0.0</td>\n      <td>Josh Elman</td>\n      <td>male</td>\n      <td>USA</td>\n      <td>California</td>\n      <td>San Francisco</td>\n      <td>Venture Partner</td>\n      <td>Bachelor</td>\n      <td>Symbolic Systems</td>\n      <td>1993-01-01</td>\n      <td>1997-01-01</td>\n      <td>True</td>\n      <td>TechCrunch Disrupt SF 2016</td>\n      <td>2255.0</td>\n      <td>12/9/2016</td>\n      <td>14/9/2016</td>\n      <td>USA</td>\n      <td>California</td>\n      <td>San Francisco</td>\n      <td>competition,conference,expo,hackathon,meetup,n...</td>\n      <td>1.0</td>\n      <td>0.0</td>\n      <td>1.0</td>\n      <td>0.0</td>\n      <td>0.0</td>\n      <td>0.0</td>\n      <td>0.0</td>\n      <td>0</td>\n      <td>0</td>\n      <td>0</td>\n      <td>0</td>\n      <td>0</td>\n      <td>0</td>\n      <td>0</td>\n      <td>0</td>\n      <td>0</td>\n      <td>0</td>\n      <td>0</td>\n      <td>0</td>\n      <td>0</td>\n      <td>0</td>\n      <td>0</td>\n      <td>0</td>\n      <td>0</td>\n      <td>0</td>\n      <td>0</td>\n      <td>0</td>\n    </tr>\n  </tbody>\n</table>\n</div>"
     },
     "metadata": {},
     "execution_count": 12
    }
   ],
   "source": [
    "# df['person_degree_degree_type'] # not done"
   ]
  },
  {
   "cell_type": "code",
   "execution_count": 14,
   "metadata": {},
   "outputs": [
    {
     "output_type": "execute_result",
     "data": {
      "text/plain": [
       "unknown                                                                99644\n",
       "Computer Science                                                       67812\n",
       "Business                                                               32044\n",
       "Economics                                                              25396\n",
       "Law                                                                    23316\n",
       "Electrical Engineering                                                 20777\n",
       "Finance                                                                19128\n",
       "Business Administration                                                12813\n",
       "Government                                                             11828\n",
       "General Management                                                      9188\n",
       "Philosophy                                                              9088\n",
       "Mechanical Engineering                                                  8105\n",
       "Engineering                                                             6975\n",
       "Mathematics                                                             6678\n",
       "Linguistics and Pure Mathematics                                        5616\n",
       "Marketing                                                               5469\n",
       "Physics                                                                 5144\n",
       "Political Science                                                       5074\n",
       "History                                                                 5037\n",
       "Computer Information Systems                                            4848\n",
       "Political Economy                                                       3988\n",
       "Chemical Engineering                                                    3878\n",
       "Computer Science, Economics                                             3690\n",
       "Computer Engineering                                                    3509\n",
       "Technology for Manufacturing                                            3429\n",
       "Management                                                              3306\n",
       "Business Administration, Economics                                      3261\n",
       "Quantitative Finance and Economics                                      3258\n",
       "Political Science, Economics & Philosophy                               3001\n",
       "Entrepreneurship                                                        2825\n",
       "International Business                                                  2800\n",
       "Computer Science and Biomedical Engineering                             2684\n",
       "Artificial Intelligence and Machine Learning in Business Strategy’s     2684\n",
       "Engineering and Physical Science in Medicine, Health Economics          2684\n",
       "Improving Global Health: Focusing on Quality and Safety                 2684\n",
       "Project Management                                                      2653\n",
       "Bioinformatics                                                          2615\n",
       "Economics and Management                                                2592\n",
       "Computer Science & Engineering                                          2552\n",
       "English Literature                                                      2525\n",
       "Mathematics and Computer Science                                        2442\n",
       "Finance & Management                                                    2265\n",
       "Integrated Marketing Communications                                     2185\n",
       "Finance & Supply Chain Management                                       2176\n",
       "Computer Science and Electrical Engineering                             2143\n",
       "Optoelectronics                                                         2061\n",
       "Sociology                                                               2059\n",
       "Optics                                                                  2052\n",
       "Industrial Engineering                                                  2046\n",
       "Electrical and Computer Engineering                                     2038\n",
       "Name: person_degree_subject, dtype: int64"
      ]
     },
     "metadata": {},
     "execution_count": 14
    }
   ],
   "source": [
    "# DL_person_degree_subject\n",
    "# df['person_degree_subject'].value_counts()\n",
    "# df['person_degree_subject'].value_counts().head(50)"
   ]
  },
  {
   "cell_type": "code",
   "execution_count": null,
   "metadata": {},
   "outputs": [],
   "source": []
  }
 ]
}