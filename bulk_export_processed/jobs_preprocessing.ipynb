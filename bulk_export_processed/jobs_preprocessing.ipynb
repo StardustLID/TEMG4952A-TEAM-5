{
 "metadata": {
  "language_info": {
   "codemirror_mode": {
    "name": "ipython",
    "version": 3
   },
   "file_extension": ".py",
   "mimetype": "text/x-python",
   "name": "python",
   "nbconvert_exporter": "python",
   "pygments_lexer": "ipython3",
   "version": "3.8.3-final"
  },
  "orig_nbformat": 2,
  "kernelspec": {
   "name": "python3",
   "display_name": "Python 3",
   "language": "python"
  }
 },
 "nbformat": 4,
 "nbformat_minor": 2,
 "cells": [
  {
   "cell_type": "code",
   "execution_count": 1,
   "metadata": {},
   "outputs": [],
   "source": [
    "import pandas as pd"
   ]
  },
  {
   "cell_type": "code",
   "execution_count": 4,
   "metadata": {},
   "outputs": [],
   "source": [
    "df1 = pd.read_csv(\"jobs_processed_1.csv\")\n",
    "df2 = pd.read_csv(\"jobs_processed_2.csv\", names = df1.columns)\n",
    "df3 = pd.read_csv(\"jobs_processed_3.csv\", names = df1.columns)\n",
    "df4 = pd.read_csv(\"jobs_processed_4.csv\", names = df1.columns)\n",
    "df5 = pd.read_csv(\"jobs_processed_5.csv\", names = df1.columns)\n",
    "\n",
    "frames = [df1, df2, df3,df4, df5]\n",
    "df = pd.concat(frames)"
   ]
  },
  {
   "cell_type": "code",
   "execution_count": 5,
   "metadata": {},
   "outputs": [
    {
     "output_type": "stream",
     "name": "stdout",
     "text": [
      "<class 'pandas.core.frame.DataFrame'>\nInt64Index: 1589783 entries, 0 to 245483\nData columns (total 14 columns):\n #   Column       Non-Null Count    Dtype \n---  ------       --------------    ----- \n 0   Unnamed: 0   1589783 non-null  object\n 1   uuid         1589783 non-null  object\n 2   permalink    1589780 non-null  object\n 3   created_at   1589781 non-null  object\n 4   updated_at   1589780 non-null  object\n 5   person_uuid  1589780 non-null  object\n 6   person_name  1589780 non-null  object\n 7   org_uuid     1589778 non-null  object\n 8   org_name     1589773 non-null  object\n 9   started_on   786589 non-null   object\n 10  ended_on     294015 non-null   object\n 11  is_current   1589777 non-null  object\n 12  title        1589695 non-null  object\n 13  job_type     1589775 non-null  object\ndtypes: object(14)\nmemory usage: 181.9+ MB\n"
     ]
    }
   ],
   "source": [
    "df.info()"
   ]
  },
  {
   "cell_type": "code",
   "execution_count": null,
   "metadata": {},
   "outputs": [],
   "source": []
  }
 ]
}