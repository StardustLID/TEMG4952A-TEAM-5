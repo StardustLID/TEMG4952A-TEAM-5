{
 "metadata": {
  "language_info": {
   "codemirror_mode": {
    "name": "ipython",
    "version": 3
   },
   "file_extension": ".py",
   "mimetype": "text/x-python",
   "name": "python",
   "nbconvert_exporter": "python",
   "pygments_lexer": "ipython3",
   "version": "3.8.3-final"
  },
  "orig_nbformat": 2,
  "kernelspec": {
   "name": "python3",
   "display_name": "Python 3",
   "language": "python"
  }
 },
 "nbformat": 4,
 "nbformat_minor": 2,
 "cells": [
  {
   "cell_type": "code",
   "execution_count": 1,
   "metadata": {},
   "outputs": [],
   "source": [
    "import pandas as pd"
   ]
  },
  {
   "cell_type": "code",
   "execution_count": 8,
   "metadata": {},
   "outputs": [],
   "source": [
    "df1 = pd.read_csv(\"jobs_processed_1.csv\")\n",
    "df2 = pd.read_csv(\"jobs_processed_2.csv\")\n",
    "df3 = pd.read_csv(\"jobs_processed_3.csv\")\n",
    "df4 = pd.read_csv(\"jobs_processed_4.csv\")\n",
    "df5 = pd.read_csv(\"jobs_processed_5.csv\")"
   ]
  },
  {
   "cell_type": "code",
   "execution_count": 9,
   "metadata": {},
   "outputs": [],
   "source": [
    "df = df1.append(df2)\n",
    "df= df.append(df3)\n",
    "df= df.append(df4)\n",
    "df= df.append(df5)\n",
    "df= df.reset_index()\n",
    "df= df.drop(columns=[\"index\"])"
   ]
  },
  {
   "cell_type": "code",
   "execution_count": 4,
   "metadata": {},
   "outputs": [
    {
     "output_type": "stream",
     "name": "stdout",
     "text": [
      "<class 'pandas.core.frame.DataFrame'>\nInt64Index: 1589769 entries, 0 to 269778\nData columns (total 13 columns):\n #   Column       Non-Null Count    Dtype \n---  ------       --------------    ----- \n 0   uuid         1589769 non-null  object\n 1   permalink    1589767 non-null  object\n 2   created_at   1589769 non-null  object\n 3   updated_at   1589769 non-null  object\n 4   person_uuid  1589769 non-null  object\n 5   person_name  1589769 non-null  object\n 6   org_uuid     1589769 non-null  object\n 7   org_name     1589765 non-null  object\n 8   started_on   786586 non-null   object\n 9   ended_on     294010 non-null   object\n 10  is_current   1589769 non-null  bool  \n 11  title        1589688 non-null  object\n 12  job_type     1589769 non-null  object\ndtypes: bool(1), object(12)\nmemory usage: 159.2+ MB\n"
     ]
    }
   ],
   "source": [
    "df.info()"
   ]
  },
  {
   "cell_type": "code",
   "execution_count": null,
   "metadata": {},
   "outputs": [],
   "source": []
  }
 ]
}