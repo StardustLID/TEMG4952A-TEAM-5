{
 "metadata": {
  "language_info": {
   "codemirror_mode": {
    "name": "ipython",
    "version": 3
   },
   "file_extension": ".py",
   "mimetype": "text/x-python",
   "name": "python",
   "nbconvert_exporter": "python",
   "pygments_lexer": "ipython3",
   "version": "3.8.3-final"
  },
  "orig_nbformat": 2,
  "kernelspec": {
   "name": "python3",
   "display_name": "Python 3",
   "language": "python"
  }
 },
 "nbformat": 4,
 "nbformat_minor": 2,
 "cells": [
  {
   "source": [
    "This notebook prepares the data (in .csv) from bulk_export_processed by data cleansing and preprocessing."
   ],
   "cell_type": "markdown",
   "metadata": {}
  },
  {
   "cell_type": "code",
   "execution_count": 1,
   "metadata": {},
   "outputs": [],
   "source": [
    "# import library\n",
    "import pandas as pd\n",
    "import numpy as np\n",
    "pd.set_option('display.max_columns', None,'display.max_row', None)"
   ]
  },
  {
   "cell_type": "code",
   "execution_count": 2,
   "metadata": {},
   "outputs": [],
   "source": [
    "# import group information\n",
    "df_category_groups = pd.read_csv(\"category_groups_processed.csv\")"
   ]
  },
  {
   "cell_type": "code",
   "execution_count": 3,
   "metadata": {},
   "outputs": [],
   "source": [
    "# df_category_groups.describe"
   ]
  },
  {
   "cell_type": "code",
   "execution_count": 4,
   "metadata": {},
   "outputs": [
    {
     "output_type": "execute_result",
     "data": {
      "text/plain": [
       "                                   uuid                   name  \\\n",
       "0  f9b14a15-5517-8f38-0562-729ebb54dfdb       Homeless Shelter   \n",
       "1  f8320fcf-b657-37d2-1495-daa3ad888ece               Freemium   \n",
       "2  f0193199-a968-b457-eb49-95344e22a5ce             Industrial   \n",
       "3  ed8217ff-bd11-26fe-d82e-eb98a276dc2e  Innovation Management   \n",
       "4  e9794581-9547-2150-8185-7b747f5c9913               Lighting   \n",
       "\n",
       "    category_groups_list  \n",
       "0                  Other  \n",
       "1                  Other  \n",
       "2          Manufacturing  \n",
       "3  Professional Services  \n",
       "4               Hardware  "
      ],
      "text/html": "<div>\n<style scoped>\n    .dataframe tbody tr th:only-of-type {\n        vertical-align: middle;\n    }\n\n    .dataframe tbody tr th {\n        vertical-align: top;\n    }\n\n    .dataframe thead th {\n        text-align: right;\n    }\n</style>\n<table border=\"1\" class=\"dataframe\">\n  <thead>\n    <tr style=\"text-align: right;\">\n      <th></th>\n      <th>uuid</th>\n      <th>name</th>\n      <th>category_groups_list</th>\n    </tr>\n  </thead>\n  <tbody>\n    <tr>\n      <th>0</th>\n      <td>f9b14a15-5517-8f38-0562-729ebb54dfdb</td>\n      <td>Homeless Shelter</td>\n      <td>Other</td>\n    </tr>\n    <tr>\n      <th>1</th>\n      <td>f8320fcf-b657-37d2-1495-daa3ad888ece</td>\n      <td>Freemium</td>\n      <td>Other</td>\n    </tr>\n    <tr>\n      <th>2</th>\n      <td>f0193199-a968-b457-eb49-95344e22a5ce</td>\n      <td>Industrial</td>\n      <td>Manufacturing</td>\n    </tr>\n    <tr>\n      <th>3</th>\n      <td>ed8217ff-bd11-26fe-d82e-eb98a276dc2e</td>\n      <td>Innovation Management</td>\n      <td>Professional Services</td>\n    </tr>\n    <tr>\n      <th>4</th>\n      <td>e9794581-9547-2150-8185-7b747f5c9913</td>\n      <td>Lighting</td>\n      <td>Hardware</td>\n    </tr>\n  </tbody>\n</table>\n</div>"
     },
     "metadata": {},
     "execution_count": 4
    }
   ],
   "source": [
    "df_category_groups.head()"
   ]
  },
  {
   "cell_type": "code",
   "execution_count": 5,
   "metadata": {},
   "outputs": [
    {
     "output_type": "stream",
     "name": "stdout",
     "text": [
      "Other                                                                                          33\nTransportation                                                                                 29\nHealth Care                                                                                    29\nSports                                                                                         26\nCommerce and Shopping                                                                          25\nSoftware                                                                                       24\nFood and Beverage                                                                              22\nCommunity and Lifestyle                                                                        22\nReal Estate                                                                                    22\nSales and Marketing                                                                            21\nProfessional Services                                                                          19\nFinancial Services                                                                             18\nHardware                                                                                       17\nInternet Services                                                                              16\nEducation                                                                                      14\nAdministrative Services                                                                        14\nMedia and Entertainment                                                                        14\nFinancial Services,Lending and Investments                                                     14\nTravel and Tourism                                                                             14\nContent and Publishing,Media and Entertainment                                                 12\nConsumer Goods                                                                                 11\nGaming                                                                                         11\nMedia and Entertainment,Video                                                                  10\nManufacturing                                                                                  10\nAgriculture and Farming                                                                        10\nInformation Technology                                                                          9\nScience and Engineering                                                                         9\nMedia and Entertainment,Music and Audio                                                         8\nEnergy                                                                                          8\nEvents,Media and Entertainment                                                                  8\nSustainability                                                                                  8\nHardware,Software                                                                               7\nAdvertising,Sales and Marketing                                                                 7\nInformation Technology,Privacy and Security                                                     7\nData and Analytics,Software                                                                     6\nNatural Resources                                                                               6\nPlatforms                                                                                       6\nAdvertising                                                                                     6\nGovernment and Military                                                                         5\nInformation Technology,Internet Services,Messaging and Telecommunications                       5\nData and Analytics                                                                              5\nApps,Software                                                                                   5\nEnergy,Natural Resources,Sustainability                                                         4\nPrivacy and Security                                                                            4\nDesign                                                                                          4\nFinancial Services,Payments,Software                                                            4\nInformation Technology,Software                                                                 4\nConsumer Electronics,Hardware                                                                   4\nData and Analytics,Design                                                                       4\nConsumer Electronics,Hardware,Platforms                                                         4\nNavigation and Mapping                                                                          3\nBiotechnology,Science and Engineering                                                           3\nInformation Technology,Sales and Marketing,Software                                             3\nEducation,Software                                                                              3\nGovernment and Military,Information Technology                                                  3\nManufacturing,Science and Engineering                                                           3\nArtificial Intelligence,Data and Analytics,Software                                             3\nEnergy,Sustainability                                                                           3\nPlatforms,Software                                                                              3\nConsumer Electronics,Hardware,Mobile,Platforms                                                  2\nHardware,Information Technology,Software                                                        2\nClothing and Apparel,Consumer Goods                                                             2\nContent and Publishing,Media and Entertainment,Video                                            2\nReal Estate,Travel and Tourism                                                                  2\nFinancial Services,Payments                                                                     2\nEnergy,Natural Resources                                                                        2\nHardware,Science and Engineering                                                                2\nMobile,Platforms,Software                                                                       2\nHardware,Science and Engineering,Software                                                       2\nDesign,Hardware                                                                                 2\nFood and Beverage,Health Care                                                                   2\nInternet Services,Software                                                                      2\nBiotechnology,Data and Analytics,Science and Engineering                                        2\nAdministrative Services,Other                                                                   2\nCommunity and Lifestyle,Other                                                                   2\nInternet Services,Sales and Marketing                                                           2\nInternet Services,Media and Entertainment,Music and Audio                                       1\nReal Estate,Sustainability                                                                      1\nDesign,Science and Engineering                                                                  1\nPayments,Software                                                                               1\nCommerce and Shopping,Software                                                                  1\nConsumer Electronics,Consumer Goods,Hardware                                                    1\nHealth Care,Mobile                                                                              1\nBiotechnology,Data and Analytics                                                                1\nHardware,Mobile                                                                                 1\nHardware,Information Technology                                                                 1\nGaming,Sports                                                                                   1\nMobile                                                                                          1\nClothing and Apparel,Design                                                                     1\nInformation Technology,Internet Services                                                        1\nHardware,Information Technology,Internet Services,Software                                      1\nNatural Resources,Sustainability                                                                1\nArtificial Intelligence,Data and Analytics,Science and Engineering,Software                     1\nData and Analytics,Internet Services,Navigation and Mapping                                     1\nFinancial Services,Mobile,Payments,Software                                                     1\nAdvertising,Internet Services,Sales and Marketing                                               1\nOther,Professional Services                                                                     1\nDesign,Software                                                                                 1\nFinancial Services,Lending and Investments,Payments                                             1\nCommerce and Shopping,Internet Services                                                         1\nAdministrative Services,Financial Services                                                      1\nHardware,Internet Services                                                                      1\nCommunity and Lifestyle,Media and Entertainment,Software                                        1\nApps,Mobile,Software                                                                            1\nContent and Publishing,Other                                                                    1\nCommunity and Lifestyle,Health Care                                                             1\nCommunity and Lifestyle,Hardware,Software                                                       1\nInformation Technology,Internet Services,Software                                               1\nContent and Publishing,Media and Entertainment,Privacy and Security                             1\nFood and Beverage,Transportation                                                                1\nCommerce and Shopping,Sports                                                                    1\nInternet Services,Media and Entertainment                                                       1\nEducation,Media and Entertainment                                                               1\nCommunity and Lifestyle,Food and Beverage,Health Care                                           1\nArtificial Intelligence,Data and Analytics,Science and Engineering                              1\nEducation,Media and Entertainment,Music and Audio                                               1\nHardware,Information Technology,Internet Services,Messaging and Telecommunications,Software     1\nCommunity and Lifestyle,Professional Services                                                   1\nConsumer Goods,Sustainability                                                                   1\nFinancial Services,Payments,Privacy and Security                                                1\nHardware,Navigation and Mapping                                                                 1\nAdministrative Services,Privacy and Security                                                    1\nScience and Engineering,Sustainability                                                          1\nConsumer Electronics,Real Estate                                                                1\nAdministrative Services,Health Care                                                             1\nEducation,Other                                                                                 1\nApps,Sales and Marketing,Software                                                               1\nSales and Marketing,Software                                                                    1\nFinancial Services,Real Estate                                                                  1\nCommunity and Lifestyle,Internet Services                                                       1\nAdministrative Services,Education                                                               1\nCommerce and Shopping,Hardware,Software                                                         1\nEducation,Science and Engineering                                                               1\nBiotechnology,Health Care                                                                       1\nClothing and Apparel                                                                            1\nInformation Technology,Other                                                                    1\nConsumer Goods,Real Estate                                                                      1\nMessaging and Telecommunications,Software                                                       1\nData and Analytics,Navigation and Mapping                                                       1\nCommerce and Shopping,Financial Services                                                        1\nGovernment and Military,Privacy and Security                                                    1\nBiotechnology,Health Care,Science and Engineering                                               1\nMessaging and Telecommunications                                                                1\nData and Analytics,Information Technology,Software                                              1\nCommunity and Lifestyle,Events                                                                  1\nData and Analytics,Design,Information Technology,Software                                       1\nAdministrative Services,Transportation                                                          1\nData and Analytics,Information Technology                                                       1\nInternet Services,Messaging and Telecommunications                                              1\nDesign,Real Estate                                                                              1\nScience and Engineering,Software                                                                1\nConsumer Electronics,Hardware,Mobile                                                            1\nContent and Publishing                                                                          1\nFinancial Services,Professional Services                                                        1\nConsumer Goods,Food and Beverage                                                                1\nName: category_groups_list, dtype: int64\n"
     ]
    }
   ],
   "source": [
    "# count the values of categories\n",
    "category_count = df_category_groups['category_groups_list'].value_counts()\n",
    "print(category_count)"
   ]
  },
  {
   "cell_type": "code",
   "execution_count": null,
   "metadata": {},
   "outputs": [],
   "source": []
  }
 ]
}