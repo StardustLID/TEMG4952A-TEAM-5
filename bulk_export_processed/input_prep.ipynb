{
 "metadata": {
  "language_info": {
   "codemirror_mode": {
    "name": "ipython",
    "version": 3
   },
   "file_extension": ".py",
   "mimetype": "text/x-python",
   "name": "python",
   "nbconvert_exporter": "python",
   "pygments_lexer": "ipython3",
   "version": "3.8.3-final"
  },
  "orig_nbformat": 2,
  "kernelspec": {
   "name": "python3",
   "display_name": "Python 3",
   "language": "python"
  }
 },
 "nbformat": 4,
 "nbformat_minor": 2,
 "cells": [
  {
   "source": [
    "This notebook prepares the data (in .csv) from bulk_export_processed by data cleansing and preprocessing."
   ],
   "cell_type": "markdown",
   "metadata": {}
  },
  {
   "cell_type": "code",
   "execution_count": 1,
   "metadata": {},
   "outputs": [],
   "source": [
    "# import library\n",
    "import pandas as pd\n",
    "import numpy as np\n",
    "import matplotlib\n",
    "# import seaborn as sns\n",
    "pd.set_option('display.max_columns', None,'display.max_row', None)"
   ]
  },
  {
   "cell_type": "code",
   "execution_count": 2,
   "metadata": {},
   "outputs": [],
   "source": [
    "# import group information\n",
    "df_category_groups = pd.read_csv(\"category_groups_processed.csv\")"
   ]
  },
  {
   "cell_type": "code",
   "execution_count": 3,
   "metadata": {},
   "outputs": [],
   "source": [
    "# df_category_groups.describe"
   ]
  },
  {
   "cell_type": "code",
   "execution_count": 4,
   "metadata": {},
   "outputs": [
    {
     "output_type": "execute_result",
     "data": {
      "text/plain": [
       "                                   uuid                   name  \\\n",
       "0  f9b14a15-5517-8f38-0562-729ebb54dfdb       Homeless Shelter   \n",
       "1  f8320fcf-b657-37d2-1495-daa3ad888ece               Freemium   \n",
       "2  f0193199-a968-b457-eb49-95344e22a5ce             Industrial   \n",
       "3  ed8217ff-bd11-26fe-d82e-eb98a276dc2e  Innovation Management   \n",
       "4  e9794581-9547-2150-8185-7b747f5c9913               Lighting   \n",
       "\n",
       "    category_groups_list  \n",
       "0                  Other  \n",
       "1                  Other  \n",
       "2          Manufacturing  \n",
       "3  Professional Services  \n",
       "4               Hardware  "
      ],
      "text/html": "<div>\n<style scoped>\n    .dataframe tbody tr th:only-of-type {\n        vertical-align: middle;\n    }\n\n    .dataframe tbody tr th {\n        vertical-align: top;\n    }\n\n    .dataframe thead th {\n        text-align: right;\n    }\n</style>\n<table border=\"1\" class=\"dataframe\">\n  <thead>\n    <tr style=\"text-align: right;\">\n      <th></th>\n      <th>uuid</th>\n      <th>name</th>\n      <th>category_groups_list</th>\n    </tr>\n  </thead>\n  <tbody>\n    <tr>\n      <th>0</th>\n      <td>f9b14a15-5517-8f38-0562-729ebb54dfdb</td>\n      <td>Homeless Shelter</td>\n      <td>Other</td>\n    </tr>\n    <tr>\n      <th>1</th>\n      <td>f8320fcf-b657-37d2-1495-daa3ad888ece</td>\n      <td>Freemium</td>\n      <td>Other</td>\n    </tr>\n    <tr>\n      <th>2</th>\n      <td>f0193199-a968-b457-eb49-95344e22a5ce</td>\n      <td>Industrial</td>\n      <td>Manufacturing</td>\n    </tr>\n    <tr>\n      <th>3</th>\n      <td>ed8217ff-bd11-26fe-d82e-eb98a276dc2e</td>\n      <td>Innovation Management</td>\n      <td>Professional Services</td>\n    </tr>\n    <tr>\n      <th>4</th>\n      <td>e9794581-9547-2150-8185-7b747f5c9913</td>\n      <td>Lighting</td>\n      <td>Hardware</td>\n    </tr>\n  </tbody>\n</table>\n</div>"
     },
     "metadata": {},
     "execution_count": 4
    }
   ],
   "source": [
    "# df_category_groups.head()"
   ]
  },
  {
   "cell_type": "code",
   "execution_count": 5,
   "metadata": {},
   "outputs": [
    {
     "output_type": "stream",
     "name": "stdout",
     "text": [
      "                                     uuid                    name  \\\n31   ad091ee0-0259-f129-7777-10f65213584d              Accounting   \n39   99dcb039-c672-885e-6290-e0c72667e1f0              Incubators   \n43   90b4194f-1d4f-ff5c-d7a6-6b6f32ae4892      Financial Services   \n48   89677d30-71f2-a6c9-efca-fa3f4ae4de1e            Credit Cards   \n61   5ada59d6-cc9e-97c4-9dea-bed9f472100b            Crowdfunding   \n79   1f843ff1-4a47-c956-aa2a-cc8d290da90f        Impact Investing   \n82   11b5fc5f-2db3-a0a6-1457-bb237c7b6ac0                  Credit   \n83   104eed8c-8bd5-5d13-e418-d698bf8a2bce         Fraud Detection   \n92   f6195c47-1e3b-4cce-5409-6ed62f94d43c                Payments   \n147  c027cef7-0f5e-e22c-cc82-937146652034             Hedge Funds   \n157  b8ca872c-983d-f8dd-3639-2660511203ef               Insurance   \n159  b37dbaeb-c825-e6a0-36de-84556a5d2e1f         Venture Capital   \n168  ae5718dc-8602-c733-e62b-28e6167091ad                 Finance   \n189  9d01b6be-c071-6db0-eb2d-b18094bde681       Wealth Management   \n203  8c09868f-b82e-6e44-5908-384b5980db03      Prediction Markets   \n234  68250c3a-6cf5-86fb-281e-9072ae2d4fe8                 Banking   \n243  5b8aca67-4f27-bd26-d245-0350b537165e  Transaction Processing   \n246  54ae5944-5d30-95de-62d5-170535f943cf        Personal Finance   \n251  50f7f0b8-21a5-22e3-20ff-34c02396a047     Financial Exchanges   \n266  44cbfd35-6e4b-3af5-74d2-ab01eb112bbd         Stock Exchanges   \n317  edfe69d7-57c2-dac4-fb02-86d10da987f1        Virtual Currency   \n352  a78ac397-329a-b850-fe64-5e4c86705a32        Consumer Lending   \n397  33cfeb88-f323-1b4f-8ecc-f3f876a5df05         Mobile Payments   \n401  29a20c87-a964-aa50-c4c5-1c913e350685               Gift Card   \n411  1c163fa9-a6a2-42ed-1fa5-299f626804db                 Bitcoin   \n420  e06799a9-f789-76e7-49a7-71ee980a70ec                 FinTech   \n427  bd082f4d-45d1-0de3-0371-bb6e02d5f0e8          Cryptocurrency   \n439  548cfeb2-0b4d-6b91-a514-c3646e3f70db          Life Insurance   \n440  367f9cec-51a7-8561-3d3a-4f8855fd5c46        Trading Platform   \n454  53d763c7-8c06-f94a-1ba5-27039feee67c    Commercial Insurance   \n455  49f88f02-6018-cdea-a366-abef5d02d8a2          Auto Insurance   \n480  a4ee0f7f-b8b8-1156-4899-c490e1d26766      Commercial Lending   \n482  66c636ea-a20c-cc61-fb12-73dce804788e      Property Insurance   \n498  bb6b92f9-ccfa-6f9b-a59e-4906ebf75fb9             Debit Cards   \n505  83bd19b9-d944-aab6-8da7-9552a453ed93                 Lending   \n512  1807265d-6094-93ca-44c6-4bd0bc616183           Micro Lending   \n526  095057bd-f032-fbb8-eac8-287d1e72a2d9                 Leasing   \n549  be133f07-21af-c85e-fd6a-e2e3ddf8466a        Health Insurance   \n597  298a2cd6-58da-226c-7cf0-3288673844cd  Real Estate Investment   \n606  d8cda5ae-af47-b0d1-4a9c-aec87289adc0        Asset Management   \n625  8e122314-2dde-8ccd-d250-548ee8f87c10        Angel Investment   \n683  08d7bc9a-de67-b81c-076e-bc59f496ac67           Credit Bureau   \n735  e33cac20-55b4-a943-e64a-7fc37a3d2ca3               InsurTech   \n736  1f8c929b-3b58-327d-c417-256ea3ff98f8        Funding Platform   \n\n                                  category_groups_list  \n31            Financial Services,Professional Services  \n39          Financial Services,Lending and Investments  \n43                                  Financial Services  \n48   Financial Services,Lending and Investments,Pay...  \n61                                  Financial Services  \n79          Financial Services,Lending and Investments  \n82          Financial Services,Lending and Investments  \n83    Financial Services,Payments,Privacy and Security  \n92                         Financial Services,Payments  \n147         Financial Services,Lending and Investments  \n157                                 Financial Services  \n159         Financial Services,Lending and Investments  \n168                                 Financial Services  \n189                                 Financial Services  \n203                                 Financial Services  \n234         Financial Services,Lending and Investments  \n243               Financial Services,Payments,Software  \n246                                 Financial Services  \n251         Financial Services,Lending and Investments  \n266         Financial Services,Lending and Investments  \n317               Financial Services,Payments,Software  \n352         Financial Services,Lending and Investments  \n397        Financial Services,Mobile,Payments,Software  \n401           Commerce and Shopping,Financial Services  \n411               Financial Services,Payments,Software  \n420                                 Financial Services  \n427               Financial Services,Payments,Software  \n439                                 Financial Services  \n440         Financial Services,Lending and Investments  \n454                                 Financial Services  \n455                                 Financial Services  \n480         Financial Services,Lending and Investments  \n482                                 Financial Services  \n498                        Financial Services,Payments  \n505                                 Financial Services  \n512         Financial Services,Lending and Investments  \n526                                 Financial Services  \n549                                 Financial Services  \n597                     Financial Services,Real Estate  \n606                                 Financial Services  \n625         Financial Services,Lending and Investments  \n683                                 Financial Services  \n735                                 Financial Services  \n736         Financial Services,Lending and Investments  \n"
     ]
    }
   ],
   "source": [
    "# count the values of categories\n",
    "category_count = df_category_groups['category_groups_list'].value_counts()\n",
    "fintech_category = {'Financial Services', 'Financial Services,Lending and Investments',\n",
    "'Financial Services,Payments,Software', 'Financial Services,Payments', 'Financial Services,Professional Services',\n",
    "'Commerce and Shopping,Financial Services', 'Financial Services,Payments,Privacy and Security',\n",
    "'Financial Services,Lending and Investments,Payments', 'Financial Services,Real Estate',\n",
    "'Financial Services,Mobile,Payments,Software'\n",
    "}\n",
    "df_fintech_category = df_category_groups[df_category_groups['category_groups_list'].isin(fintech_category)]\n",
    "print(df_fintech_category)"
   ]
  },
  {
   "cell_type": "code",
   "execution_count": 6,
   "metadata": {},
   "outputs": [],
   "source": []
  }
 ]
}