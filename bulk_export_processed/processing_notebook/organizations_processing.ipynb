{
 "metadata": {
  "language_info": {
   "codemirror_mode": {
    "name": "ipython",
    "version": 3
   },
   "file_extension": ".py",
   "mimetype": "text/x-python",
   "name": "python",
   "nbconvert_exporter": "python",
   "pygments_lexer": "ipython3",
   "version": "3.8.3-final"
  },
  "orig_nbformat": 2,
  "kernelspec": {
   "name": "python3",
   "display_name": "Python 3",
   "language": "python"
  }
 },
 "nbformat": 4,
 "nbformat_minor": 2,
 "cells": [
  {
   "cell_type": "code",
   "execution_count": null,
   "metadata": {},
   "outputs": [],
   "source": [
    "# import library\n",
    "import pandas as pd\n",
    "import datetime as dt"
   ]
  },
  {
   "cell_type": "code",
   "execution_count": null,
   "metadata": {},
   "outputs": [],
   "source": [
    "# read the CSV\n",
    "df = pd.read_csv(\"organizations.csv\")\n",
    "# change the cols to keep\n",
    "keep_col = ['uuid','country_code','region','city','status','category_list','category_groups_list','num_funding_rounds','total_funding_usd','founded_on','last_funding_on','closed_on','employee_count','primary_role','num_exits']\n",
    "df = df[keep_col]"
   ]
  },
  {
   "cell_type": "code",
   "execution_count": null,
   "metadata": {},
   "outputs": [],
   "source": [
    "# filter by founding date: keep companies founded on or after 2010-1-1\n",
    "start_date = \"2010-1-1\"\n",
    "after_start_date = df[\"founded_on\"] >= start_date\n",
    "df = df.loc[after_start_date]"
   ]
  },
  {
   "cell_type": "code",
   "execution_count": null,
   "metadata": {},
   "outputs": [],
   "source": [
    "# # view distinct values\n",
    "# cat_list_series = df['category_list'].value_counts()\n",
    "# print(cat_list_series)"
   ]
  },
  {
   "cell_type": "code",
   "execution_count": null,
   "metadata": {},
   "outputs": [],
   "source": [
    "# filter by industry: keep fintech companies\n",
    "# keywords are obtained by inspecting the series from value_counts()\n",
    "fintech_keywords = ['Finance', 'Financial Services', 'FinTech', 'Personal Finance', 'Financial Exchanges', 'Bitcoin', 'Blockchain', 'Cryptocurrency', 'Payments']\n",
    "df.dropna(axis=0, subset=['category_list'], inplace=True)\n",
    "# categories can be formed from one or more above elementary keywords\n",
    "df = df[df['category_list'].str.contains('|'.join(fintech_keywords))]"
   ]
  },
  {
   "cell_type": "code",
   "execution_count": null,
   "metadata": {},
   "outputs": [],
   "source": [
    "df.reset_index(inplace=True)\n",
    "df.drop(axis=1, labels='index', inplace=True)\n",
    "# df"
   ]
  },
  {
   "cell_type": "code",
   "execution_count": null,
   "metadata": {},
   "outputs": [],
   "source": [
    "df.to_csv(\"organizations_processed.csv\", index=False)"
   ]
  }
 ]
}