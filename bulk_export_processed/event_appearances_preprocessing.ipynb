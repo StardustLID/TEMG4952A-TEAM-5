{
 "metadata": {
  "language_info": {
   "codemirror_mode": {
    "name": "ipython",
    "version": 3
   },
   "file_extension": ".py",
   "mimetype": "text/x-python",
   "name": "python",
   "nbconvert_exporter": "python",
   "pygments_lexer": "ipython3",
   "version": "3.8.3-final"
  },
  "orig_nbformat": 2,
  "kernelspec": {
   "name": "python3",
   "display_name": "Python 3",
   "language": "python"
  }
 },
 "nbformat": 4,
 "nbformat_minor": 2,
 "cells": [
  {
   "cell_type": "code",
   "execution_count": 11,
   "metadata": {},
   "outputs": [],
   "source": [
    "import pandas as pd"
   ]
  },
  {
   "cell_type": "code",
   "execution_count": 15,
   "metadata": {},
   "outputs": [
    {
     "output_type": "execute_result",
     "data": {
      "text/plain": [
       "                                       uuid  \\\n",
       "0      ff24969d-c702-4361-8176-49cc9a7e126b   \n",
       "1      f1814722-42d2-4ab1-b472-81c51424cb7e   \n",
       "2      59aa2479-ed70-490b-9ba7-2ca4ae2aaefc   \n",
       "3      2c79cf0f-8dc1-49d5-928f-1ba55c606c0f   \n",
       "4      02b1aa22-8767-4119-be31-aef7eec668fd   \n",
       "...                                     ...   \n",
       "83436  513b7641-60a0-48d4-ad81-2d814a7f8feb   \n",
       "83437  eb5fad66-a2ca-4d0d-99bc-f4d0aa46ecdb   \n",
       "83438  7355f052-67d4-47c8-93ba-5a23a59dd683   \n",
       "83439  732c9c23-605b-47af-a39c-21bdb0adb1b1   \n",
       "83440  93b46820-ed86-4b64-8816-90a45d25777c   \n",
       "\n",
       "                                               permalink           created_at  \\\n",
       "0      julia-hartz-speaker-cannes-lions-international...  2019-06-18 10:26:36   \n",
       "1          scott-allen-3-speaker-ndc-oslo-2019--f1814722  2019-06-18 10:27:30   \n",
       "2      william-giard-speaker-hpe-discover-2019--59aa2479  2019-06-18 10:27:34   \n",
       "3      alicia-hatch-speaker-cannes-lions-internationa...  2019-06-18 10:29:26   \n",
       "4      justin-giardina-speaker-hpe-discover-2019--02b...  2019-06-18 10:30:08   \n",
       "...                                                  ...                  ...   \n",
       "83436  alexander-storozhuk-speaker-e-residency-digita...  2020-12-29 12:11:52   \n",
       "83437      steering-llc-exhibitor-automobili-d--eb5fad66  2020-12-29 17:30:04   \n",
       "83438  jpmorgan-chase-co-a20b-sponsor-mit-fintech-con...  2020-12-29 19:56:29   \n",
       "83439  wearable-devices-ltd-exhibitor-gitex-technolog...  2020-12-30 10:27:04   \n",
       "83440  moneymoo-speaker-saint-petersburg-startup-day-...  2020-12-30 14:06:50   \n",
       "\n",
       "                updated_at                            event_uuid  \\\n",
       "0      2019-06-18 10:26:36  db7966e6-3963-41bc-b864-cf9f4563353b   \n",
       "1      2019-06-18 10:27:30  eac92ea1-4986-48d6-bfe9-841e45f9d6bb   \n",
       "2      2019-06-18 10:27:34  a56a0078-a06b-4f6a-aa5f-a13275d133a3   \n",
       "3      2019-06-18 10:29:26  db7966e6-3963-41bc-b864-cf9f4563353b   \n",
       "4      2019-06-18 10:30:08  a56a0078-a06b-4f6a-aa5f-a13275d133a3   \n",
       "...                    ...                                   ...   \n",
       "83436  2020-12-29 12:11:52  7538ec54-5ce8-46b3-80c2-0617424bd292   \n",
       "83437  2020-12-29 17:30:04  62d85d3b-a355-4569-bd61-af5835d5b7cf   \n",
       "83438  2020-12-29 19:56:29  645b5ea2-685e-4ba1-800d-a9c030715e04   \n",
       "83439  2020-12-30 10:27:04  ab67acc1-9794-4f04-83c0-a7ca10209f11   \n",
       "83440  2020-12-30 14:06:50  fd6fb1c5-b0e8-4624-af46-efce1b8d3637   \n",
       "\n",
       "                                              event_name  \\\n",
       "0      Cannes Lions International Festival of Creativ...   \n",
       "1                                          NDC Oslo 2019   \n",
       "2                                      HPE Discover 2019   \n",
       "3      Cannes Lions International Festival of Creativ...   \n",
       "4                                      HPE Discover 2019   \n",
       "...                                                  ...   \n",
       "83436  e-Residency Digital Summit: Ukraine & Eastern ...   \n",
       "83437                                       AutoMobili-D   \n",
       "83438                        MIT FinTech Conference 2021   \n",
       "83439  GITEX Technology Week 2020 - live in-person - ...   \n",
       "83440                  Saint-Petersburg Startup Day 2018   \n",
       "\n",
       "                           participant_uuid      participant_name  \\\n",
       "0      b046ed22-3463-4f93-b06c-3de168822ee9           Julia Hartz   \n",
       "1      2171efb4-3022-24c8-3744-f366376c333d           Scott Allen   \n",
       "2      3c4aed37-939d-3271-b663-a6eab5bcaa8b         William Giard   \n",
       "3      1a4c51b9-d4e6-c8b4-bdf0-74d9fa9299d2          Alicia Hatch   \n",
       "4      f6ccc96b-b969-6a14-cfe2-cd3177f82513       Justin Giardina   \n",
       "...                                     ...                   ...   \n",
       "83436  c27070ec-507f-7227-c192-72156d2740b2   Alexander Storozhuk   \n",
       "83437  65464d43-3a45-43cd-bec0-1a3bd01e6ac3          the STEERING   \n",
       "83438  dd8c42ef-da3c-46de-baf0-3cab9f7da20b  JPMorgan Chase & Co.   \n",
       "83439  a5c83a92-855b-f2ee-87b8-b9067097b1cd      Wearable Devices   \n",
       "83440  db7e867c-0209-4980-8d95-affa913f24b8              MoneyMoo   \n",
       "\n",
       "      participant_type appearance_type  \n",
       "0               person         speaker  \n",
       "1               person         speaker  \n",
       "2               person         speaker  \n",
       "3               person         speaker  \n",
       "4               person         speaker  \n",
       "...                ...             ...  \n",
       "83436           person         speaker  \n",
       "83437     organization       exhibitor  \n",
       "83438     organization         sponsor  \n",
       "83439     organization       exhibitor  \n",
       "83440     organization         speaker  \n",
       "\n",
       "[83441 rows x 10 columns]"
      ],
      "text/html": "<div>\n<style scoped>\n    .dataframe tbody tr th:only-of-type {\n        vertical-align: middle;\n    }\n\n    .dataframe tbody tr th {\n        vertical-align: top;\n    }\n\n    .dataframe thead th {\n        text-align: right;\n    }\n</style>\n<table border=\"1\" class=\"dataframe\">\n  <thead>\n    <tr style=\"text-align: right;\">\n      <th></th>\n      <th>uuid</th>\n      <th>permalink</th>\n      <th>created_at</th>\n      <th>updated_at</th>\n      <th>event_uuid</th>\n      <th>event_name</th>\n      <th>participant_uuid</th>\n      <th>participant_name</th>\n      <th>participant_type</th>\n      <th>appearance_type</th>\n    </tr>\n  </thead>\n  <tbody>\n    <tr>\n      <th>0</th>\n      <td>ff24969d-c702-4361-8176-49cc9a7e126b</td>\n      <td>julia-hartz-speaker-cannes-lions-international...</td>\n      <td>2019-06-18 10:26:36</td>\n      <td>2019-06-18 10:26:36</td>\n      <td>db7966e6-3963-41bc-b864-cf9f4563353b</td>\n      <td>Cannes Lions International Festival of Creativ...</td>\n      <td>b046ed22-3463-4f93-b06c-3de168822ee9</td>\n      <td>Julia Hartz</td>\n      <td>person</td>\n      <td>speaker</td>\n    </tr>\n    <tr>\n      <th>1</th>\n      <td>f1814722-42d2-4ab1-b472-81c51424cb7e</td>\n      <td>scott-allen-3-speaker-ndc-oslo-2019--f1814722</td>\n      <td>2019-06-18 10:27:30</td>\n      <td>2019-06-18 10:27:30</td>\n      <td>eac92ea1-4986-48d6-bfe9-841e45f9d6bb</td>\n      <td>NDC Oslo 2019</td>\n      <td>2171efb4-3022-24c8-3744-f366376c333d</td>\n      <td>Scott Allen</td>\n      <td>person</td>\n      <td>speaker</td>\n    </tr>\n    <tr>\n      <th>2</th>\n      <td>59aa2479-ed70-490b-9ba7-2ca4ae2aaefc</td>\n      <td>william-giard-speaker-hpe-discover-2019--59aa2479</td>\n      <td>2019-06-18 10:27:34</td>\n      <td>2019-06-18 10:27:34</td>\n      <td>a56a0078-a06b-4f6a-aa5f-a13275d133a3</td>\n      <td>HPE Discover 2019</td>\n      <td>3c4aed37-939d-3271-b663-a6eab5bcaa8b</td>\n      <td>William Giard</td>\n      <td>person</td>\n      <td>speaker</td>\n    </tr>\n    <tr>\n      <th>3</th>\n      <td>2c79cf0f-8dc1-49d5-928f-1ba55c606c0f</td>\n      <td>alicia-hatch-speaker-cannes-lions-internationa...</td>\n      <td>2019-06-18 10:29:26</td>\n      <td>2019-06-18 10:29:26</td>\n      <td>db7966e6-3963-41bc-b864-cf9f4563353b</td>\n      <td>Cannes Lions International Festival of Creativ...</td>\n      <td>1a4c51b9-d4e6-c8b4-bdf0-74d9fa9299d2</td>\n      <td>Alicia Hatch</td>\n      <td>person</td>\n      <td>speaker</td>\n    </tr>\n    <tr>\n      <th>4</th>\n      <td>02b1aa22-8767-4119-be31-aef7eec668fd</td>\n      <td>justin-giardina-speaker-hpe-discover-2019--02b...</td>\n      <td>2019-06-18 10:30:08</td>\n      <td>2019-06-18 10:30:08</td>\n      <td>a56a0078-a06b-4f6a-aa5f-a13275d133a3</td>\n      <td>HPE Discover 2019</td>\n      <td>f6ccc96b-b969-6a14-cfe2-cd3177f82513</td>\n      <td>Justin Giardina</td>\n      <td>person</td>\n      <td>speaker</td>\n    </tr>\n    <tr>\n      <th>...</th>\n      <td>...</td>\n      <td>...</td>\n      <td>...</td>\n      <td>...</td>\n      <td>...</td>\n      <td>...</td>\n      <td>...</td>\n      <td>...</td>\n      <td>...</td>\n      <td>...</td>\n    </tr>\n    <tr>\n      <th>83436</th>\n      <td>513b7641-60a0-48d4-ad81-2d814a7f8feb</td>\n      <td>alexander-storozhuk-speaker-e-residency-digita...</td>\n      <td>2020-12-29 12:11:52</td>\n      <td>2020-12-29 12:11:52</td>\n      <td>7538ec54-5ce8-46b3-80c2-0617424bd292</td>\n      <td>e-Residency Digital Summit: Ukraine &amp; Eastern ...</td>\n      <td>c27070ec-507f-7227-c192-72156d2740b2</td>\n      <td>Alexander Storozhuk</td>\n      <td>person</td>\n      <td>speaker</td>\n    </tr>\n    <tr>\n      <th>83437</th>\n      <td>eb5fad66-a2ca-4d0d-99bc-f4d0aa46ecdb</td>\n      <td>steering-llc-exhibitor-automobili-d--eb5fad66</td>\n      <td>2020-12-29 17:30:04</td>\n      <td>2020-12-29 17:30:04</td>\n      <td>62d85d3b-a355-4569-bd61-af5835d5b7cf</td>\n      <td>AutoMobili-D</td>\n      <td>65464d43-3a45-43cd-bec0-1a3bd01e6ac3</td>\n      <td>the STEERING</td>\n      <td>organization</td>\n      <td>exhibitor</td>\n    </tr>\n    <tr>\n      <th>83438</th>\n      <td>7355f052-67d4-47c8-93ba-5a23a59dd683</td>\n      <td>jpmorgan-chase-co-a20b-sponsor-mit-fintech-con...</td>\n      <td>2020-12-29 19:56:29</td>\n      <td>2020-12-29 19:56:29</td>\n      <td>645b5ea2-685e-4ba1-800d-a9c030715e04</td>\n      <td>MIT FinTech Conference 2021</td>\n      <td>dd8c42ef-da3c-46de-baf0-3cab9f7da20b</td>\n      <td>JPMorgan Chase &amp; Co.</td>\n      <td>organization</td>\n      <td>sponsor</td>\n    </tr>\n    <tr>\n      <th>83439</th>\n      <td>732c9c23-605b-47af-a39c-21bdb0adb1b1</td>\n      <td>wearable-devices-ltd-exhibitor-gitex-technolog...</td>\n      <td>2020-12-30 10:27:04</td>\n      <td>2020-12-30 10:27:04</td>\n      <td>ab67acc1-9794-4f04-83c0-a7ca10209f11</td>\n      <td>GITEX Technology Week 2020 - live in-person - ...</td>\n      <td>a5c83a92-855b-f2ee-87b8-b9067097b1cd</td>\n      <td>Wearable Devices</td>\n      <td>organization</td>\n      <td>exhibitor</td>\n    </tr>\n    <tr>\n      <th>83440</th>\n      <td>93b46820-ed86-4b64-8816-90a45d25777c</td>\n      <td>moneymoo-speaker-saint-petersburg-startup-day-...</td>\n      <td>2020-12-30 14:06:50</td>\n      <td>2020-12-30 14:06:50</td>\n      <td>fd6fb1c5-b0e8-4624-af46-efce1b8d3637</td>\n      <td>Saint-Petersburg Startup Day 2018</td>\n      <td>db7e867c-0209-4980-8d95-affa913f24b8</td>\n      <td>MoneyMoo</td>\n      <td>organization</td>\n      <td>speaker</td>\n    </tr>\n  </tbody>\n</table>\n<p>83441 rows × 10 columns</p>\n</div>"
     },
     "metadata": {},
     "execution_count": 15
    }
   ],
   "source": [
    "df1 = pd.read_csv(\"event_appearances_processed_1.csv\")\n",
    "df2 = pd.read_csv(\"event_appearances_processed_2.csv\")"
   ]
  },
  {
   "cell_type": "code",
   "execution_count": 19,
   "metadata": {},
   "outputs": [],
   "source": [
    "df = df1.append(df2)\n",
    "df= df.reset_index()\n",
    "df= df.drop(columns=[\"index\"])"
   ]
  },
  {
   "cell_type": "code",
   "execution_count": 10,
   "metadata": {},
   "outputs": [
    {
     "output_type": "stream",
     "name": "stdout",
     "text": [
      "<class 'pandas.core.frame.DataFrame'>\nInt64Index: 413418 entries, 0 to 83440\nData columns (total 10 columns):\n #   Column            Non-Null Count   Dtype \n---  ------            --------------   ----- \n 0   uuid              413418 non-null  object\n 1   permalink         413418 non-null  object\n 2   created_at        413418 non-null  object\n 3   updated_at        413418 non-null  object\n 4   event_uuid        413418 non-null  object\n 5   event_name        413418 non-null  object\n 6   participant_uuid  413418 non-null  object\n 7   participant_name  413418 non-null  object\n 8   participant_type  413418 non-null  object\n 9   appearance_type   413418 non-null  object\ndtypes: object(10)\nmemory usage: 34.7+ MB\n"
     ]
    }
   ],
   "source": [
    "df.info()"
   ]
  },
  {
   "cell_type": "code",
   "execution_count": null,
   "metadata": {},
   "outputs": [],
   "source": []
  }
 ]
}