{
 "metadata": {
  "language_info": {
   "codemirror_mode": {
    "name": "ipython",
    "version": 3
   },
   "file_extension": ".py",
   "mimetype": "text/x-python",
   "name": "python",
   "nbconvert_exporter": "python",
   "pygments_lexer": "ipython3",
   "version": "3.8.3-final"
  },
  "orig_nbformat": 2,
  "kernelspec": {
   "name": "python3",
   "display_name": "Python 3",
   "language": "python"
  }
 },
 "nbformat": 4,
 "nbformat_minor": 2,
 "cells": [
  {
   "cell_type": "code",
   "execution_count": 1,
   "metadata": {},
   "outputs": [],
   "source": [
    "import pandas as pd"
   ]
  },
  {
   "cell_type": "code",
   "execution_count": 5,
   "metadata": {},
   "outputs": [],
   "source": [
    "df1 = pd.read_csv(\"event_appearances_processed_1.csv\")\n",
    "df2 = pd.read_csv(\"event_appearances_processed_2.csv\")\n",
    "\n",
    "frames = [df1, df2]\n",
    "df = pd.concat(frames)"
   ]
  },
  {
   "cell_type": "code",
   "execution_count": 10,
   "metadata": {},
   "outputs": [
    {
     "output_type": "stream",
     "name": "stdout",
     "text": [
      "<class 'pandas.core.frame.DataFrame'>\nInt64Index: 413418 entries, 0 to 83440\nData columns (total 10 columns):\n #   Column            Non-Null Count   Dtype \n---  ------            --------------   ----- \n 0   uuid              413418 non-null  object\n 1   permalink         413418 non-null  object\n 2   created_at        413418 non-null  object\n 3   updated_at        413418 non-null  object\n 4   event_uuid        413418 non-null  object\n 5   event_name        413418 non-null  object\n 6   participant_uuid  413418 non-null  object\n 7   participant_name  413418 non-null  object\n 8   participant_type  413418 non-null  object\n 9   appearance_type   413418 non-null  object\ndtypes: object(10)\nmemory usage: 34.7+ MB\n"
     ]
    }
   ],
   "source": [
    "df.info()"
   ]
  },
  {
   "cell_type": "code",
   "execution_count": null,
   "metadata": {},
   "outputs": [],
   "source": []
  }
 ]
}