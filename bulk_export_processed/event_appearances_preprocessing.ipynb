{
 "metadata": {
  "language_info": {
   "codemirror_mode": {
    "name": "ipython",
    "version": 3
   },
   "file_extension": ".py",
   "mimetype": "text/x-python",
   "name": "python",
   "nbconvert_exporter": "python",
   "pygments_lexer": "ipython3",
   "version": "3.8.3-final"
  },
  "orig_nbformat": 2,
  "kernelspec": {
   "name": "python3",
   "display_name": "Python 3",
   "language": "python"
  }
 },
 "nbformat": 4,
 "nbformat_minor": 2,
 "cells": [
  {
   "cell_type": "code",
   "execution_count": 1,
   "metadata": {},
   "outputs": [],
   "source": [
    "import pandas as pd"
   ]
  },
  {
   "cell_type": "code",
   "execution_count": 3,
   "metadata": {},
   "outputs": [],
   "source": [
    "df1 = pd.read_csv(\"event_appearances_processed_1.csv\")\n",
    "df2 = pd.read_csv(\"event_appearances_processed_2.csv\",  names = df1.columns)\n",
    "\n",
    "frames = [df1, df2]\n",
    "df = pd.concat(frames)"
   ]
  },
  {
   "cell_type": "code",
   "execution_count": 4,
   "metadata": {},
   "outputs": [
    {
     "output_type": "stream",
     "name": "stdout",
     "text": [
      "<class 'pandas.core.frame.DataFrame'>\nInt64Index: 413423 entries, 0 to 133513\nData columns (total 13 columns):\n #   Column            Non-Null Count   Dtype \n---  ------            --------------   ----- \n 0   Unnamed: 0        413423 non-null  object\n 1   uuid              413423 non-null  object\n 2   name              413422 non-null  object\n 3   permalink         413421 non-null  object\n 4   rank              1 non-null       object\n 5   created_at        413422 non-null  object\n 6   updated_at        413422 non-null  object\n 7   event_uuid        413422 non-null  object\n 8   event_name        413422 non-null  object\n 9   participant_uuid  413422 non-null  object\n 10  participant_name  413422 non-null  object\n 11  participant_type  413422 non-null  object\n 12  appearance_type   413421 non-null  object\ndtypes: object(13)\nmemory usage: 44.2+ MB\n"
     ]
    }
   ],
   "source": [
    "df.info()"
   ]
  },
  {
   "cell_type": "code",
   "execution_count": null,
   "metadata": {},
   "outputs": [],
   "source": []
  }
 ]
}