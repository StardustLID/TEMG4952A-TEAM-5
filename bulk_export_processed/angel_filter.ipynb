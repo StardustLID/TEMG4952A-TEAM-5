{
 "metadata": {
  "language_info": {
   "codemirror_mode": {
    "name": "ipython",
    "version": 3
   },
   "file_extension": ".py",
   "mimetype": "text/x-python",
   "name": "python",
   "nbconvert_exporter": "python",
   "pygments_lexer": "ipython3",
   "version": "3.7.7-final"
  },
  "orig_nbformat": 2,
  "kernelspec": {
   "name": "python3",
   "display_name": "Python 3",
   "language": "python"
  }
 },
 "nbformat": 4,
 "nbformat_minor": 2,
 "cells": [
  {
   "cell_type": "code",
   "execution_count": 153,
   "metadata": {},
   "outputs": [],
   "source": [
    "import pandas as pd"
   ]
  },
  {
   "cell_type": "code",
   "execution_count": 154,
   "metadata": {},
   "outputs": [],
   "source": [
    "fund_rd_df= pd.read_csv(\"funding_rounds.csv\")"
   ]
  },
  {
   "cell_type": "code",
   "execution_count": 155,
   "metadata": {},
   "outputs": [
    {
     "output_type": "execute_result",
     "data": {
      "text/plain": [
       "                                   uuid country_code state_code      region  \\\n",
       "0  8a945939-18e0-cc9d-27b9-bf33817b2818          USA         CA  California   \n",
       "1  d950d7a5-79ff-fb93-ca87-13386b0e2feb          USA         CA  California   \n",
       "2  6fae3958-a001-27c0-fb7e-666266aedd78          USA         CA  California   \n",
       "3  bcd5a63d-ed99-6963-0dd2-e36f6582f846          USA         CO    Colorado   \n",
       "4  60e6afd9-1215-465a-dd17-0ed600d4e29b          USA         CA  California   \n",
       "\n",
       "             city investment_type announced_on  raised_amount_usd  \\\n",
       "0      Menlo Park           angel     1/9/2004           500000.0   \n",
       "1      Menlo Park        series_a     1/5/2005         12700000.0   \n",
       "2      Menlo Park        series_b     1/4/2006         27500000.0   \n",
       "3          Denver        series_b     1/5/2006         10500000.0   \n",
       "4  West Hollywood        series_a    17/1/2007                NaN   \n",
       "\n",
       "   raised_amount raised_amount_currency_code  post_money_valuation_usd  \\\n",
       "0       500000.0                         USD                       NaN   \n",
       "1     12700000.0                         USD                98000000.0   \n",
       "2     27500000.0                         USD               502500000.0   \n",
       "3     10500000.0                         USD                       NaN   \n",
       "4            NaN                         NaN                10000000.0   \n",
       "\n",
       "   post_money_valuation post_money_valuation_currency_code  investor_count  \\\n",
       "0                   NaN                                NaN             4.0   \n",
       "1            98000000.0                                USD             4.0   \n",
       "2           502500000.0                                USD             5.0   \n",
       "3                   NaN                                NaN             2.0   \n",
       "4            10000000.0                                USD             1.0   \n",
       "\n",
       "                               org_uuid  \\\n",
       "0  df662812-7f97-0b43-9d3e-12f64f504fbb   \n",
       "1  df662812-7f97-0b43-9d3e-12f64f504fbb   \n",
       "2  df662812-7f97-0b43-9d3e-12f64f504fbb   \n",
       "3  f53cb4de-236e-0b1b-dee8-7104a8b018f9   \n",
       "4  4111dc8b-c0df-2d24-ed33-30cd137b3098   \n",
       "\n",
       "                                 lead_investor_uuids  \n",
       "0               3f47be49-2e32-8118-01a0-31685a4d0fd7  \n",
       "1               b08efc27-da40-505a-6f9d-c9e14247bf36  \n",
       "2  e2006571-6b7a-e477-002a-f7014f48a7e3,8d5c7e48-...  \n",
       "3                                                NaN  \n",
       "4               fb2f8884-ec07-895a-48d7-d9a9d4d7175c  "
      ],
      "text/html": "<div>\n<style scoped>\n    .dataframe tbody tr th:only-of-type {\n        vertical-align: middle;\n    }\n\n    .dataframe tbody tr th {\n        vertical-align: top;\n    }\n\n    .dataframe thead th {\n        text-align: right;\n    }\n</style>\n<table border=\"1\" class=\"dataframe\">\n  <thead>\n    <tr style=\"text-align: right;\">\n      <th></th>\n      <th>uuid</th>\n      <th>country_code</th>\n      <th>state_code</th>\n      <th>region</th>\n      <th>city</th>\n      <th>investment_type</th>\n      <th>announced_on</th>\n      <th>raised_amount_usd</th>\n      <th>raised_amount</th>\n      <th>raised_amount_currency_code</th>\n      <th>post_money_valuation_usd</th>\n      <th>post_money_valuation</th>\n      <th>post_money_valuation_currency_code</th>\n      <th>investor_count</th>\n      <th>org_uuid</th>\n      <th>lead_investor_uuids</th>\n    </tr>\n  </thead>\n  <tbody>\n    <tr>\n      <th>0</th>\n      <td>8a945939-18e0-cc9d-27b9-bf33817b2818</td>\n      <td>USA</td>\n      <td>CA</td>\n      <td>California</td>\n      <td>Menlo Park</td>\n      <td>angel</td>\n      <td>1/9/2004</td>\n      <td>500000.0</td>\n      <td>500000.0</td>\n      <td>USD</td>\n      <td>NaN</td>\n      <td>NaN</td>\n      <td>NaN</td>\n      <td>4.0</td>\n      <td>df662812-7f97-0b43-9d3e-12f64f504fbb</td>\n      <td>3f47be49-2e32-8118-01a0-31685a4d0fd7</td>\n    </tr>\n    <tr>\n      <th>1</th>\n      <td>d950d7a5-79ff-fb93-ca87-13386b0e2feb</td>\n      <td>USA</td>\n      <td>CA</td>\n      <td>California</td>\n      <td>Menlo Park</td>\n      <td>series_a</td>\n      <td>1/5/2005</td>\n      <td>12700000.0</td>\n      <td>12700000.0</td>\n      <td>USD</td>\n      <td>98000000.0</td>\n      <td>98000000.0</td>\n      <td>USD</td>\n      <td>4.0</td>\n      <td>df662812-7f97-0b43-9d3e-12f64f504fbb</td>\n      <td>b08efc27-da40-505a-6f9d-c9e14247bf36</td>\n    </tr>\n    <tr>\n      <th>2</th>\n      <td>6fae3958-a001-27c0-fb7e-666266aedd78</td>\n      <td>USA</td>\n      <td>CA</td>\n      <td>California</td>\n      <td>Menlo Park</td>\n      <td>series_b</td>\n      <td>1/4/2006</td>\n      <td>27500000.0</td>\n      <td>27500000.0</td>\n      <td>USD</td>\n      <td>502500000.0</td>\n      <td>502500000.0</td>\n      <td>USD</td>\n      <td>5.0</td>\n      <td>df662812-7f97-0b43-9d3e-12f64f504fbb</td>\n      <td>e2006571-6b7a-e477-002a-f7014f48a7e3,8d5c7e48-...</td>\n    </tr>\n    <tr>\n      <th>3</th>\n      <td>bcd5a63d-ed99-6963-0dd2-e36f6582f846</td>\n      <td>USA</td>\n      <td>CO</td>\n      <td>Colorado</td>\n      <td>Denver</td>\n      <td>series_b</td>\n      <td>1/5/2006</td>\n      <td>10500000.0</td>\n      <td>10500000.0</td>\n      <td>USD</td>\n      <td>NaN</td>\n      <td>NaN</td>\n      <td>NaN</td>\n      <td>2.0</td>\n      <td>f53cb4de-236e-0b1b-dee8-7104a8b018f9</td>\n      <td>NaN</td>\n    </tr>\n    <tr>\n      <th>4</th>\n      <td>60e6afd9-1215-465a-dd17-0ed600d4e29b</td>\n      <td>USA</td>\n      <td>CA</td>\n      <td>California</td>\n      <td>West Hollywood</td>\n      <td>series_a</td>\n      <td>17/1/2007</td>\n      <td>NaN</td>\n      <td>NaN</td>\n      <td>NaN</td>\n      <td>10000000.0</td>\n      <td>10000000.0</td>\n      <td>USD</td>\n      <td>1.0</td>\n      <td>4111dc8b-c0df-2d24-ed33-30cd137b3098</td>\n      <td>fb2f8884-ec07-895a-48d7-d9a9d4d7175c</td>\n    </tr>\n  </tbody>\n</table>\n</div>"
     },
     "metadata": {},
     "execution_count": 155
    }
   ],
   "source": [
    "fund_rd_df.head()"
   ]
  },
  {
   "cell_type": "code",
   "execution_count": 156,
   "metadata": {},
   "outputs": [
    {
     "output_type": "execute_result",
     "data": {
      "text/plain": [
       "seed                     103205\n",
       "series_unknown            61298\n",
       "series_a                  42280\n",
       "series_b                  21187\n",
       "grant                     20481\n",
       "angel                     19056\n",
       "pre_seed                  17694\n",
       "debt_financing            14050\n",
       "private_equity            11093\n",
       "series_c                   9823\n",
       "post_ipo_equity            7550\n",
       "convertible_note           7417\n",
       "equity_crowdfunding        6342\n",
       "non_equity_assistance      5409\n",
       "undisclosed                5251\n",
       "series_d                   4136\n",
       "corporate_round            3335\n",
       "post_ipo_debt              1743\n",
       "series_e                   1719\n",
       "product_crowdfunding       1023\n",
       "secondary_market            790\n",
       "initial_coin_offering       680\n",
       "series_f                    617\n",
       "series_g                    214\n",
       "post_ipo_secondary           94\n",
       "series_h                     90\n",
       "series_i                     19\n",
       "series_j                     13\n",
       "Name: investment_type, dtype: int64"
      ]
     },
     "metadata": {},
     "execution_count": 156
    }
   ],
   "source": [
    "export_df=fund_rd_df[[\"uuid\",\"investment_type\", \"raised_amount_usd\", \"post_money_valuation_usd\", \"investor_count\", \"org_uuid\"]]\n",
    "export_df[\"investment_type\"].value_counts()"
   ]
  },
  {
   "cell_type": "code",
   "execution_count": 157,
   "metadata": {},
   "outputs": [],
   "source": [
    "indexnames= export_df[(export_df[\"investment_type\"]!= \"seed\") &(export_df[\"investment_type\"]!= \"angel\")& (export_df[\"investment_type\"]!= \"pre_seed\") ].index\n",
    "export_df.drop(indexnames , inplace=True)"
   ]
  },
  {
   "cell_type": "code",
   "execution_count": 158,
   "metadata": {},
   "outputs": [],
   "source": [
    "export_df= export_df.reset_index()"
   ]
  },
  {
   "cell_type": "code",
   "execution_count": 159,
   "metadata": {},
   "outputs": [
    {
     "output_type": "execute_result",
     "data": {
      "text/plain": [
       "         index                                  uuid investment_type  \\\n",
       "0            0  8a945939-18e0-cc9d-27b9-bf33817b2818           angel   \n",
       "1            6  7066cfde-674a-0fc4-514c-bf3c9b0d7b2e            seed   \n",
       "2            8  e5b9d3d3-cdf5-b481-c42f-bb818225402c            seed   \n",
       "3           28  4b50fe59-eebe-3d11-0e17-c354d6045385            seed   \n",
       "4           35  106fa953-e1ff-5f52-c81c-bb026fabda6c            seed   \n",
       "...        ...                                   ...             ...   \n",
       "139950  366604  25ee3f19-a8de-43b1-b5e1-fbe2a8a262b4        pre_seed   \n",
       "139951  366605  c7a9cb50-4164-4336-8332-6bd7b83ae4b4           angel   \n",
       "139952  366606  b9cb094a-91de-4559-8116-3e97fcd9442b           angel   \n",
       "139953  366607  8ac9dcac-b1e9-4d97-ad17-685c36b1f4ee        pre_seed   \n",
       "139954  366608  772e2fc2-e84a-4f50-88de-4b25a40511a0            seed   \n",
       "\n",
       "        raised_amount_usd  post_money_valuation_usd  investor_count  \\\n",
       "0                500000.0                       NaN             4.0   \n",
       "1               1500000.0                       NaN             4.0   \n",
       "2                 40000.0                       NaN             2.0   \n",
       "3               1000000.0                       NaN             2.0   \n",
       "4                700000.0                       NaN             1.0   \n",
       "...                   ...                       ...             ...   \n",
       "139950            65000.0                  415000.0             NaN   \n",
       "139951           291337.0                       NaN             NaN   \n",
       "139952           142800.0                       NaN             3.0   \n",
       "139953            50000.0                       NaN             1.0   \n",
       "139954          2200000.0                       NaN             NaN   \n",
       "\n",
       "                                    org_uuid  \n",
       "0       df662812-7f97-0b43-9d3e-12f64f504fbb  \n",
       "1       3d16cb4c-911e-75c0-de5a-15c316b39f98  \n",
       "2       21e77067-5537-408e-cad7-e5e72bb6ad86  \n",
       "3       dca84eab-ed98-af47-7183-7420856db9ef  \n",
       "4       697df046-5264-0394-1ff2-7109a0d6e848  \n",
       "...                                      ...  \n",
       "139950  7091dcc8-0886-4fc8-af3b-864a2adf986c  \n",
       "139951  33eceaba-87d5-4526-ac4a-18a18caf9f67  \n",
       "139952  8004c9c8-2a7a-4e40-a1df-adea3985bf8a  \n",
       "139953  9d92669d-1d86-4ef5-97c5-50a8903d3ffa  \n",
       "139954  4de70313-c66b-48b1-8a53-920a6014c76c  \n",
       "\n",
       "[139955 rows x 7 columns]"
      ],
      "text/html": "<div>\n<style scoped>\n    .dataframe tbody tr th:only-of-type {\n        vertical-align: middle;\n    }\n\n    .dataframe tbody tr th {\n        vertical-align: top;\n    }\n\n    .dataframe thead th {\n        text-align: right;\n    }\n</style>\n<table border=\"1\" class=\"dataframe\">\n  <thead>\n    <tr style=\"text-align: right;\">\n      <th></th>\n      <th>index</th>\n      <th>uuid</th>\n      <th>investment_type</th>\n      <th>raised_amount_usd</th>\n      <th>post_money_valuation_usd</th>\n      <th>investor_count</th>\n      <th>org_uuid</th>\n    </tr>\n  </thead>\n  <tbody>\n    <tr>\n      <th>0</th>\n      <td>0</td>\n      <td>8a945939-18e0-cc9d-27b9-bf33817b2818</td>\n      <td>angel</td>\n      <td>500000.0</td>\n      <td>NaN</td>\n      <td>4.0</td>\n      <td>df662812-7f97-0b43-9d3e-12f64f504fbb</td>\n    </tr>\n    <tr>\n      <th>1</th>\n      <td>6</td>\n      <td>7066cfde-674a-0fc4-514c-bf3c9b0d7b2e</td>\n      <td>seed</td>\n      <td>1500000.0</td>\n      <td>NaN</td>\n      <td>4.0</td>\n      <td>3d16cb4c-911e-75c0-de5a-15c316b39f98</td>\n    </tr>\n    <tr>\n      <th>2</th>\n      <td>8</td>\n      <td>e5b9d3d3-cdf5-b481-c42f-bb818225402c</td>\n      <td>seed</td>\n      <td>40000.0</td>\n      <td>NaN</td>\n      <td>2.0</td>\n      <td>21e77067-5537-408e-cad7-e5e72bb6ad86</td>\n    </tr>\n    <tr>\n      <th>3</th>\n      <td>28</td>\n      <td>4b50fe59-eebe-3d11-0e17-c354d6045385</td>\n      <td>seed</td>\n      <td>1000000.0</td>\n      <td>NaN</td>\n      <td>2.0</td>\n      <td>dca84eab-ed98-af47-7183-7420856db9ef</td>\n    </tr>\n    <tr>\n      <th>4</th>\n      <td>35</td>\n      <td>106fa953-e1ff-5f52-c81c-bb026fabda6c</td>\n      <td>seed</td>\n      <td>700000.0</td>\n      <td>NaN</td>\n      <td>1.0</td>\n      <td>697df046-5264-0394-1ff2-7109a0d6e848</td>\n    </tr>\n    <tr>\n      <th>...</th>\n      <td>...</td>\n      <td>...</td>\n      <td>...</td>\n      <td>...</td>\n      <td>...</td>\n      <td>...</td>\n      <td>...</td>\n    </tr>\n    <tr>\n      <th>139950</th>\n      <td>366604</td>\n      <td>25ee3f19-a8de-43b1-b5e1-fbe2a8a262b4</td>\n      <td>pre_seed</td>\n      <td>65000.0</td>\n      <td>415000.0</td>\n      <td>NaN</td>\n      <td>7091dcc8-0886-4fc8-af3b-864a2adf986c</td>\n    </tr>\n    <tr>\n      <th>139951</th>\n      <td>366605</td>\n      <td>c7a9cb50-4164-4336-8332-6bd7b83ae4b4</td>\n      <td>angel</td>\n      <td>291337.0</td>\n      <td>NaN</td>\n      <td>NaN</td>\n      <td>33eceaba-87d5-4526-ac4a-18a18caf9f67</td>\n    </tr>\n    <tr>\n      <th>139952</th>\n      <td>366606</td>\n      <td>b9cb094a-91de-4559-8116-3e97fcd9442b</td>\n      <td>angel</td>\n      <td>142800.0</td>\n      <td>NaN</td>\n      <td>3.0</td>\n      <td>8004c9c8-2a7a-4e40-a1df-adea3985bf8a</td>\n    </tr>\n    <tr>\n      <th>139953</th>\n      <td>366607</td>\n      <td>8ac9dcac-b1e9-4d97-ad17-685c36b1f4ee</td>\n      <td>pre_seed</td>\n      <td>50000.0</td>\n      <td>NaN</td>\n      <td>1.0</td>\n      <td>9d92669d-1d86-4ef5-97c5-50a8903d3ffa</td>\n    </tr>\n    <tr>\n      <th>139954</th>\n      <td>366608</td>\n      <td>772e2fc2-e84a-4f50-88de-4b25a40511a0</td>\n      <td>seed</td>\n      <td>2200000.0</td>\n      <td>NaN</td>\n      <td>NaN</td>\n      <td>4de70313-c66b-48b1-8a53-920a6014c76c</td>\n    </tr>\n  </tbody>\n</table>\n<p>139955 rows × 7 columns</p>\n</div>"
     },
     "metadata": {},
     "execution_count": 159
    }
   ],
   "source": [
    "export_df"
   ]
  },
  {
   "cell_type": "code",
   "execution_count": 160,
   "metadata": {},
   "outputs": [],
   "source": [
    "dummy_df= export_df.groupby(\"org_uuid\")[\"raised_amount_usd\",\"post_money_valuation_usd\", \"investor_count\" ].sum()\n",
    "export_df= export_df.drop(columns=[\"raised_amount_usd\", \"post_money_valuation_usd\", \"investor_count\", \"investment_type\"])"
   ]
  },
  {
   "cell_type": "code",
   "execution_count": 161,
   "metadata": {},
   "outputs": [
    {
     "output_type": "execute_result",
     "data": {
      "text/plain": [
       "                                      raised_amount_usd  \\\n",
       "org_uuid                                                  \n",
       "000014da-0c46-b9cb-0941-3a93c027b119                0.0   \n",
       "00002470-bff7-6226-5800-0ca1b3787b6f          3400000.0   \n",
       "0000d497-c93a-eea3-eeb0-a943dfb4f71e                0.0   \n",
       "0001a8cc-0cdc-4a30-b4d3-da1b425069e1                0.0   \n",
       "0002aa63-f21b-4c54-9495-895a1d09e0d4          1500000.0   \n",
       "...                                                 ...   \n",
       "fffd10a8-24fc-4775-947a-25b31aa778ba           110421.0   \n",
       "fffdb9e1-0ae9-4630-be83-b76e9e6e0ca0                0.0   \n",
       "fffe2508-e9e3-8602-9664-8c6ef2c803de                0.0   \n",
       "ffff2bea-7e44-4563-b311-65daadb683cd           451407.0   \n",
       "ffffabce-6d4a-b3d1-13c0-4e90cedf5270           990000.0   \n",
       "\n",
       "                                      post_money_valuation_usd  investor_count  \n",
       "org_uuid                                                                        \n",
       "000014da-0c46-b9cb-0941-3a93c027b119                       0.0             5.0  \n",
       "00002470-bff7-6226-5800-0ca1b3787b6f                       0.0            13.0  \n",
       "0000d497-c93a-eea3-eeb0-a943dfb4f71e                       0.0             1.0  \n",
       "0001a8cc-0cdc-4a30-b4d3-da1b425069e1                       0.0             1.0  \n",
       "0002aa63-f21b-4c54-9495-895a1d09e0d4                 4500000.0             6.0  \n",
       "...                                                        ...             ...  \n",
       "fffd10a8-24fc-4775-947a-25b31aa778ba                       0.0             3.0  \n",
       "fffdb9e1-0ae9-4630-be83-b76e9e6e0ca0                       0.0             2.0  \n",
       "fffe2508-e9e3-8602-9664-8c6ef2c803de                       0.0             1.0  \n",
       "ffff2bea-7e44-4563-b311-65daadb683cd                       0.0             1.0  \n",
       "ffffabce-6d4a-b3d1-13c0-4e90cedf5270                       0.0             5.0  \n",
       "\n",
       "[101290 rows x 3 columns]"
      ],
      "text/html": "<div>\n<style scoped>\n    .dataframe tbody tr th:only-of-type {\n        vertical-align: middle;\n    }\n\n    .dataframe tbody tr th {\n        vertical-align: top;\n    }\n\n    .dataframe thead th {\n        text-align: right;\n    }\n</style>\n<table border=\"1\" class=\"dataframe\">\n  <thead>\n    <tr style=\"text-align: right;\">\n      <th></th>\n      <th>raised_amount_usd</th>\n      <th>post_money_valuation_usd</th>\n      <th>investor_count</th>\n    </tr>\n    <tr>\n      <th>org_uuid</th>\n      <th></th>\n      <th></th>\n      <th></th>\n    </tr>\n  </thead>\n  <tbody>\n    <tr>\n      <th>000014da-0c46-b9cb-0941-3a93c027b119</th>\n      <td>0.0</td>\n      <td>0.0</td>\n      <td>5.0</td>\n    </tr>\n    <tr>\n      <th>00002470-bff7-6226-5800-0ca1b3787b6f</th>\n      <td>3400000.0</td>\n      <td>0.0</td>\n      <td>13.0</td>\n    </tr>\n    <tr>\n      <th>0000d497-c93a-eea3-eeb0-a943dfb4f71e</th>\n      <td>0.0</td>\n      <td>0.0</td>\n      <td>1.0</td>\n    </tr>\n    <tr>\n      <th>0001a8cc-0cdc-4a30-b4d3-da1b425069e1</th>\n      <td>0.0</td>\n      <td>0.0</td>\n      <td>1.0</td>\n    </tr>\n    <tr>\n      <th>0002aa63-f21b-4c54-9495-895a1d09e0d4</th>\n      <td>1500000.0</td>\n      <td>4500000.0</td>\n      <td>6.0</td>\n    </tr>\n    <tr>\n      <th>...</th>\n      <td>...</td>\n      <td>...</td>\n      <td>...</td>\n    </tr>\n    <tr>\n      <th>fffd10a8-24fc-4775-947a-25b31aa778ba</th>\n      <td>110421.0</td>\n      <td>0.0</td>\n      <td>3.0</td>\n    </tr>\n    <tr>\n      <th>fffdb9e1-0ae9-4630-be83-b76e9e6e0ca0</th>\n      <td>0.0</td>\n      <td>0.0</td>\n      <td>2.0</td>\n    </tr>\n    <tr>\n      <th>fffe2508-e9e3-8602-9664-8c6ef2c803de</th>\n      <td>0.0</td>\n      <td>0.0</td>\n      <td>1.0</td>\n    </tr>\n    <tr>\n      <th>ffff2bea-7e44-4563-b311-65daadb683cd</th>\n      <td>451407.0</td>\n      <td>0.0</td>\n      <td>1.0</td>\n    </tr>\n    <tr>\n      <th>ffffabce-6d4a-b3d1-13c0-4e90cedf5270</th>\n      <td>990000.0</td>\n      <td>0.0</td>\n      <td>5.0</td>\n    </tr>\n  </tbody>\n</table>\n<p>101290 rows × 3 columns</p>\n</div>"
     },
     "metadata": {},
     "execution_count": 161
    }
   ],
   "source": [
    "dummy_df"
   ]
  },
  {
   "cell_type": "code",
   "execution_count": 162,
   "metadata": {},
   "outputs": [],
   "source": [
    "dummy_df= dummy_df.join(export_df.set_index(\"org_uuid\"))"
   ]
  },
  {
   "cell_type": "code",
   "execution_count": 163,
   "metadata": {},
   "outputs": [
    {
     "output_type": "execute_result",
     "data": {
      "text/plain": [
       "                                      raised_amount_usd  \\\n",
       "org_uuid                                                  \n",
       "000014da-0c46-b9cb-0941-3a93c027b119                0.0   \n",
       "000014da-0c46-b9cb-0941-3a93c027b119                0.0   \n",
       "00002470-bff7-6226-5800-0ca1b3787b6f          3400000.0   \n",
       "00002470-bff7-6226-5800-0ca1b3787b6f          3400000.0   \n",
       "00002470-bff7-6226-5800-0ca1b3787b6f          3400000.0   \n",
       "...                                                 ...   \n",
       "fffe2508-e9e3-8602-9664-8c6ef2c803de                0.0   \n",
       "ffff2bea-7e44-4563-b311-65daadb683cd           451407.0   \n",
       "ffffabce-6d4a-b3d1-13c0-4e90cedf5270           990000.0   \n",
       "ffffabce-6d4a-b3d1-13c0-4e90cedf5270           990000.0   \n",
       "ffffabce-6d4a-b3d1-13c0-4e90cedf5270           990000.0   \n",
       "\n",
       "                                      post_money_valuation_usd  \\\n",
       "org_uuid                                                         \n",
       "000014da-0c46-b9cb-0941-3a93c027b119                       0.0   \n",
       "000014da-0c46-b9cb-0941-3a93c027b119                       0.0   \n",
       "00002470-bff7-6226-5800-0ca1b3787b6f                       0.0   \n",
       "00002470-bff7-6226-5800-0ca1b3787b6f                       0.0   \n",
       "00002470-bff7-6226-5800-0ca1b3787b6f                       0.0   \n",
       "...                                                        ...   \n",
       "fffe2508-e9e3-8602-9664-8c6ef2c803de                       0.0   \n",
       "ffff2bea-7e44-4563-b311-65daadb683cd                       0.0   \n",
       "ffffabce-6d4a-b3d1-13c0-4e90cedf5270                       0.0   \n",
       "ffffabce-6d4a-b3d1-13c0-4e90cedf5270                       0.0   \n",
       "ffffabce-6d4a-b3d1-13c0-4e90cedf5270                       0.0   \n",
       "\n",
       "                                      investor_count   index  \\\n",
       "org_uuid                                                       \n",
       "000014da-0c46-b9cb-0941-3a93c027b119             5.0  162659   \n",
       "000014da-0c46-b9cb-0941-3a93c027b119             5.0  180848   \n",
       "00002470-bff7-6226-5800-0ca1b3787b6f            13.0   37531   \n",
       "00002470-bff7-6226-5800-0ca1b3787b6f            13.0   58112   \n",
       "00002470-bff7-6226-5800-0ca1b3787b6f            13.0   98691   \n",
       "...                                              ...     ...   \n",
       "fffe2508-e9e3-8602-9664-8c6ef2c803de             1.0   55255   \n",
       "ffff2bea-7e44-4563-b311-65daadb683cd             1.0  364919   \n",
       "ffffabce-6d4a-b3d1-13c0-4e90cedf5270             5.0  132638   \n",
       "ffffabce-6d4a-b3d1-13c0-4e90cedf5270             5.0  132641   \n",
       "ffffabce-6d4a-b3d1-13c0-4e90cedf5270             5.0  149823   \n",
       "\n",
       "                                                                      uuid  \n",
       "org_uuid                                                                    \n",
       "000014da-0c46-b9cb-0941-3a93c027b119  b0da850e-33a4-e73b-ec50-04e2400a8ec5  \n",
       "000014da-0c46-b9cb-0941-3a93c027b119  c7190746-916e-4226-843b-4f1dbc4ddc9b  \n",
       "00002470-bff7-6226-5800-0ca1b3787b6f  68aa5f2f-e8cb-48d1-3eb0-e4e14e2bc297  \n",
       "00002470-bff7-6226-5800-0ca1b3787b6f  bbbf009a-a6da-a230-4a17-120817603c20  \n",
       "00002470-bff7-6226-5800-0ca1b3787b6f  a460600d-b8c9-35b5-47e0-78692078fe71  \n",
       "...                                                                    ...  \n",
       "fffe2508-e9e3-8602-9664-8c6ef2c803de  b04c7972-3555-3380-cb62-2cee3fbe1a32  \n",
       "ffff2bea-7e44-4563-b311-65daadb683cd  b6cd618e-c9f0-4410-9f5e-4243b2b65fcd  \n",
       "ffffabce-6d4a-b3d1-13c0-4e90cedf5270  c09637c8-bbaf-bef0-3ebb-39f50f8063fc  \n",
       "ffffabce-6d4a-b3d1-13c0-4e90cedf5270  d5d0d173-9a6f-4359-f4bb-a7e71f20b988  \n",
       "ffffabce-6d4a-b3d1-13c0-4e90cedf5270  f6dd414e-9ed9-da8d-9260-0385580d81b3  \n",
       "\n",
       "[139955 rows x 5 columns]"
      ],
      "text/html": "<div>\n<style scoped>\n    .dataframe tbody tr th:only-of-type {\n        vertical-align: middle;\n    }\n\n    .dataframe tbody tr th {\n        vertical-align: top;\n    }\n\n    .dataframe thead th {\n        text-align: right;\n    }\n</style>\n<table border=\"1\" class=\"dataframe\">\n  <thead>\n    <tr style=\"text-align: right;\">\n      <th></th>\n      <th>raised_amount_usd</th>\n      <th>post_money_valuation_usd</th>\n      <th>investor_count</th>\n      <th>index</th>\n      <th>uuid</th>\n    </tr>\n    <tr>\n      <th>org_uuid</th>\n      <th></th>\n      <th></th>\n      <th></th>\n      <th></th>\n      <th></th>\n    </tr>\n  </thead>\n  <tbody>\n    <tr>\n      <th>000014da-0c46-b9cb-0941-3a93c027b119</th>\n      <td>0.0</td>\n      <td>0.0</td>\n      <td>5.0</td>\n      <td>162659</td>\n      <td>b0da850e-33a4-e73b-ec50-04e2400a8ec5</td>\n    </tr>\n    <tr>\n      <th>000014da-0c46-b9cb-0941-3a93c027b119</th>\n      <td>0.0</td>\n      <td>0.0</td>\n      <td>5.0</td>\n      <td>180848</td>\n      <td>c7190746-916e-4226-843b-4f1dbc4ddc9b</td>\n    </tr>\n    <tr>\n      <th>00002470-bff7-6226-5800-0ca1b3787b6f</th>\n      <td>3400000.0</td>\n      <td>0.0</td>\n      <td>13.0</td>\n      <td>37531</td>\n      <td>68aa5f2f-e8cb-48d1-3eb0-e4e14e2bc297</td>\n    </tr>\n    <tr>\n      <th>00002470-bff7-6226-5800-0ca1b3787b6f</th>\n      <td>3400000.0</td>\n      <td>0.0</td>\n      <td>13.0</td>\n      <td>58112</td>\n      <td>bbbf009a-a6da-a230-4a17-120817603c20</td>\n    </tr>\n    <tr>\n      <th>00002470-bff7-6226-5800-0ca1b3787b6f</th>\n      <td>3400000.0</td>\n      <td>0.0</td>\n      <td>13.0</td>\n      <td>98691</td>\n      <td>a460600d-b8c9-35b5-47e0-78692078fe71</td>\n    </tr>\n    <tr>\n      <th>...</th>\n      <td>...</td>\n      <td>...</td>\n      <td>...</td>\n      <td>...</td>\n      <td>...</td>\n    </tr>\n    <tr>\n      <th>fffe2508-e9e3-8602-9664-8c6ef2c803de</th>\n      <td>0.0</td>\n      <td>0.0</td>\n      <td>1.0</td>\n      <td>55255</td>\n      <td>b04c7972-3555-3380-cb62-2cee3fbe1a32</td>\n    </tr>\n    <tr>\n      <th>ffff2bea-7e44-4563-b311-65daadb683cd</th>\n      <td>451407.0</td>\n      <td>0.0</td>\n      <td>1.0</td>\n      <td>364919</td>\n      <td>b6cd618e-c9f0-4410-9f5e-4243b2b65fcd</td>\n    </tr>\n    <tr>\n      <th>ffffabce-6d4a-b3d1-13c0-4e90cedf5270</th>\n      <td>990000.0</td>\n      <td>0.0</td>\n      <td>5.0</td>\n      <td>132638</td>\n      <td>c09637c8-bbaf-bef0-3ebb-39f50f8063fc</td>\n    </tr>\n    <tr>\n      <th>ffffabce-6d4a-b3d1-13c0-4e90cedf5270</th>\n      <td>990000.0</td>\n      <td>0.0</td>\n      <td>5.0</td>\n      <td>132641</td>\n      <td>d5d0d173-9a6f-4359-f4bb-a7e71f20b988</td>\n    </tr>\n    <tr>\n      <th>ffffabce-6d4a-b3d1-13c0-4e90cedf5270</th>\n      <td>990000.0</td>\n      <td>0.0</td>\n      <td>5.0</td>\n      <td>149823</td>\n      <td>f6dd414e-9ed9-da8d-9260-0385580d81b3</td>\n    </tr>\n  </tbody>\n</table>\n<p>139955 rows × 5 columns</p>\n</div>"
     },
     "metadata": {},
     "execution_count": 163
    }
   ],
   "source": [
    "dummy_df"
   ]
  },
  {
   "cell_type": "code",
   "execution_count": null,
   "metadata": {},
   "outputs": [],
   "source": []
  }
 ]
}