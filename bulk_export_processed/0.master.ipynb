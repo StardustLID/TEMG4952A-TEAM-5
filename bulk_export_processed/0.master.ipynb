{
 "metadata": {
  "language_info": {
   "codemirror_mode": {
    "name": "ipython",
    "version": 3
   },
   "file_extension": ".py",
   "mimetype": "text/x-python",
   "name": "python",
   "nbconvert_exporter": "python",
   "pygments_lexer": "ipython3",
   "version": "3.8.3-final"
  },
  "orig_nbformat": 2,
  "kernelspec": {
   "name": "python3",
   "display_name": "Python 3",
   "language": "python"
  }
 },
 "nbformat": 4,
 "nbformat_minor": 2,
 "cells": [
  {
   "cell_type": "code",
   "execution_count": 1,
   "metadata": {},
   "outputs": [],
   "source": [
    "import pandas as pd"
   ]
  },
  {
   "source": [
    "Preparing dateframe"
   ],
   "cell_type": "markdown",
   "metadata": {}
  },
  {
   "cell_type": "code",
   "execution_count": 2,
   "metadata": {},
   "outputs": [],
   "source": [
    "acq_df= pd.read_csv(\"acquisitions_processed.csv\")"
   ]
  },
  {
   "cell_type": "code",
   "execution_count": 3,
   "metadata": {},
   "outputs": [],
   "source": [
    "cate_gp_df= pd.read_csv(\"category_groups_processed.csv\") #Company name with its group"
   ]
  },
  {
   "cell_type": "code",
   "execution_count": 4,
   "metadata": {},
   "outputs": [],
   "source": [
    "csum_df= pd.read_csv(\"checksum_processed.csv\") #Basic information of all csv file "
   ]
  },
  {
   "cell_type": "code",
   "execution_count": 5,
   "metadata": {},
   "outputs": [],
   "source": [
    "deg_df= pd.read_csv(\"degrees.csv\") #people's education background"
   ]
  },
  {
   "cell_type": "code",
   "execution_count": 6,
   "metadata": {},
   "outputs": [],
   "source": [
    "df1 = pd.read_csv(\"event_appearances_processed_1.csv\")\n",
    "df2 = pd.read_csv(\"event_appearances_processed_2.csv\")\n",
    "event_app_df = df1.append(df2)\n",
    "event_app_df= event_app_df.reset_index()\n",
    "event_app_df= event_app_df.drop(columns=[\"index\"]) # Event participation details"
   ]
  },
  {
   "cell_type": "code",
   "execution_count": 7,
   "metadata": {},
   "outputs": [],
   "source": [
    "event_df= pd.read_csv(\"events_processed.csv\") #Event details"
   ]
  },
  {
   "cell_type": "code",
   "execution_count": 8,
   "metadata": {},
   "outputs": [],
   "source": [
    "fund_rd_df= pd.read_csv(\"funding_rounds_processed.csv\") # each funding round in the dataset"
   ]
  },
  {
   "cell_type": "code",
   "execution_count": 9,
   "metadata": {},
   "outputs": [],
   "source": [
    "fund_df= pd.read_csv(\"funds_processed.csv\") #investors' investment funds"
   ]
  },
  {
   "cell_type": "code",
   "execution_count": 10,
   "metadata": {},
   "outputs": [],
   "source": [
    "invest_partner_df= pd.read_csv(\"investment_partners_processed.csv\") #Partners who are responsible for their firm's investments"
   ]
  },
  {
   "cell_type": "code",
   "execution_count": 11,
   "metadata": {},
   "outputs": [],
   "source": [
    "investor_df= pd.read_csv(\"investors_processed.csv\") #Active investors "
   ]
  },
  {
   "cell_type": "code",
   "execution_count": 12,
   "metadata": {},
   "outputs": [],
   "source": [
    "ipo_df= pd.read_csv(\"ipos_processed.csv\") "
   ]
  },
  {
   "cell_type": "code",
   "execution_count": 13,
   "metadata": {},
   "outputs": [],
   "source": [
    "df1 = pd.read_csv(\"jobs_processed_1.csv\")\n",
    "df2 = pd.read_csv(\"jobs_processed_2.csv\")\n",
    "df3 = pd.read_csv(\"jobs_processed_3.csv\")\n",
    "df4 = pd.read_csv(\"jobs_processed_4.csv\")\n",
    "df5 = pd.read_csv(\"jobs_processed_5.csv\")\n",
    "job_df = df1.append(df2)\n",
    "job_df= job_df.append(df3)\n",
    "job_df= job_df.append(df4)\n",
    "job_df= job_df.append(df5)\n",
    "job_df= job_df.reset_index()\n",
    "job_df= job_df.drop(columns=[\"index\"]) #all job and advisory roles"
   ]
  },
  {
   "cell_type": "code",
   "execution_count": 14,
   "metadata": {},
   "outputs": [],
   "source": [
    "org_parent_df= pd.read_csv(\"org_parents_processed.csv\")\n",
    "# Mapping between parent organizations and subsidaries"
   ]
  },
  {
   "cell_type": "code",
   "execution_count": 15,
   "metadata": {},
   "outputs": [],
   "source": [
    "####### @Boris can u help with the ORGANIZATION CSV ########"
   ]
  },
  {
   "cell_type": "code",
   "execution_count": 16,
   "metadata": {},
   "outputs": [],
   "source": [
    "####### @Boris can u help with the PEOPLE CSV ########\n",
    "####### the following error happened##########\n",
    "# \"Error tokenizing data. C error: EOF inside string starting at row 144677\"# "
   ]
  },
  {
   "cell_type": "code",
   "execution_count": null,
   "metadata": {},
   "outputs": [],
   "source": []
  }
 ]
}