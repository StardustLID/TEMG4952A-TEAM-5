{
 "cells": [
  {
   "cell_type": "code",
   "execution_count": 1,
   "metadata": {},
   "outputs": [],
   "source": [
    "import pandas as pd\n",
    "import matplotlib.pyplot as plt\n",
    "\n",
    "pd.set_option('display.max_columns', None,'display.max_row', None)\n",
    "\n",
    "default_figsize = (15,5)\n",
    "# boxplot_figsize = (15,1)"
   ]
  },
  {
   "cell_type": "code",
   "execution_count": 2,
   "metadata": {},
   "outputs": [],
   "source": [
    "df = pd.read_csv(\"ipos_processed.csv\")"
   ]
  },
  {
   "cell_type": "code",
   "execution_count": 3,
   "metadata": {},
   "outputs": [],
   "source": [
    "# df.head()"
   ]
  },
  {
   "cell_type": "code",
   "execution_count": 4,
   "metadata": {},
   "outputs": [
    {
     "output_type": "execute_result",
     "data": {
      "text/plain": [
       "                                   uuid                              org_uuid  \\\n",
       "0  72d30ebd-53ef-2486-6c29-22785c5173ce  fd80725f-53fc-7009-9878-aeecf1e9ffbb   \n",
       "1  3ad2b068-2d97-f646-0b80-1e5f3d7adfc4  756936c0-c335-f0ae-0a3d-fe26bdff5695   \n",
       "2  a265c6f6-4b96-4079-096a-967a37f3da2b  73296f0d-85a5-78d5-90b3-86c5f8981ba9   \n",
       "3  ee426509-826e-5dd0-9309-e79c8f384904  ff8439cf-097c-a88a-9bb9-dd83d23aa14b   \n",
       "4  66b57372-77f0-ec5f-ca33-0175fff79b0e  ab8e5ba4-df5d-121b-93b6-eae7a0c89245   \n",
       "\n",
       "                  org_name country_code      region              city  \\\n",
       "0                Microsoft          USA  Washington           Redmond   \n",
       "1  The Walt Disney Company          USA     Florida  Lake Buena Vista   \n",
       "2                     DivX          USA  California         San Diego   \n",
       "3           XO Group, Inc.          USA    New York          New York   \n",
       "4             BMC Software          USA       Texas           Houston   \n",
       "\n",
       "  stock_exchange_symbol stock_symbol went_public_on  share_price_usd  \\\n",
       "0                nasdaq         MSFT      13/3/1986        14.409031   \n",
       "1                  nyse          DIS      13/1/1978        14.409031   \n",
       "2                nasdaq         DIVX     22/10/2006        16.000000   \n",
       "3                  nyse         XOXO      2/12/1999        14.409031   \n",
       "4                nasdaq          BMC      12/8/1988        14.409031   \n",
       "\n",
       "   valuation_price_usd  money_raised_usd  \n",
       "0         1.643511e+09      2.147861e+08  \n",
       "1         1.643511e+09      3.000000e+08  \n",
       "2         1.600000e+08      1.450000e+08  \n",
       "3         1.643511e+09      3.500000e+07  \n",
       "4         6.000000e+09      2.147861e+08  "
      ],
      "text/html": "<div>\n<style scoped>\n    .dataframe tbody tr th:only-of-type {\n        vertical-align: middle;\n    }\n\n    .dataframe tbody tr th {\n        vertical-align: top;\n    }\n\n    .dataframe thead th {\n        text-align: right;\n    }\n</style>\n<table border=\"1\" class=\"dataframe\">\n  <thead>\n    <tr style=\"text-align: right;\">\n      <th></th>\n      <th>uuid</th>\n      <th>org_uuid</th>\n      <th>org_name</th>\n      <th>country_code</th>\n      <th>region</th>\n      <th>city</th>\n      <th>stock_exchange_symbol</th>\n      <th>stock_symbol</th>\n      <th>went_public_on</th>\n      <th>share_price_usd</th>\n      <th>valuation_price_usd</th>\n      <th>money_raised_usd</th>\n    </tr>\n  </thead>\n  <tbody>\n    <tr>\n      <th>0</th>\n      <td>72d30ebd-53ef-2486-6c29-22785c5173ce</td>\n      <td>fd80725f-53fc-7009-9878-aeecf1e9ffbb</td>\n      <td>Microsoft</td>\n      <td>USA</td>\n      <td>Washington</td>\n      <td>Redmond</td>\n      <td>nasdaq</td>\n      <td>MSFT</td>\n      <td>13/3/1986</td>\n      <td>14.409031</td>\n      <td>1.643511e+09</td>\n      <td>2.147861e+08</td>\n    </tr>\n    <tr>\n      <th>1</th>\n      <td>3ad2b068-2d97-f646-0b80-1e5f3d7adfc4</td>\n      <td>756936c0-c335-f0ae-0a3d-fe26bdff5695</td>\n      <td>The Walt Disney Company</td>\n      <td>USA</td>\n      <td>Florida</td>\n      <td>Lake Buena Vista</td>\n      <td>nyse</td>\n      <td>DIS</td>\n      <td>13/1/1978</td>\n      <td>14.409031</td>\n      <td>1.643511e+09</td>\n      <td>3.000000e+08</td>\n    </tr>\n    <tr>\n      <th>2</th>\n      <td>a265c6f6-4b96-4079-096a-967a37f3da2b</td>\n      <td>73296f0d-85a5-78d5-90b3-86c5f8981ba9</td>\n      <td>DivX</td>\n      <td>USA</td>\n      <td>California</td>\n      <td>San Diego</td>\n      <td>nasdaq</td>\n      <td>DIVX</td>\n      <td>22/10/2006</td>\n      <td>16.000000</td>\n      <td>1.600000e+08</td>\n      <td>1.450000e+08</td>\n    </tr>\n    <tr>\n      <th>3</th>\n      <td>ee426509-826e-5dd0-9309-e79c8f384904</td>\n      <td>ff8439cf-097c-a88a-9bb9-dd83d23aa14b</td>\n      <td>XO Group, Inc.</td>\n      <td>USA</td>\n      <td>New York</td>\n      <td>New York</td>\n      <td>nyse</td>\n      <td>XOXO</td>\n      <td>2/12/1999</td>\n      <td>14.409031</td>\n      <td>1.643511e+09</td>\n      <td>3.500000e+07</td>\n    </tr>\n    <tr>\n      <th>4</th>\n      <td>66b57372-77f0-ec5f-ca33-0175fff79b0e</td>\n      <td>ab8e5ba4-df5d-121b-93b6-eae7a0c89245</td>\n      <td>BMC Software</td>\n      <td>USA</td>\n      <td>Texas</td>\n      <td>Houston</td>\n      <td>nasdaq</td>\n      <td>BMC</td>\n      <td>12/8/1988</td>\n      <td>14.409031</td>\n      <td>6.000000e+09</td>\n      <td>2.147861e+08</td>\n    </tr>\n  </tbody>\n</table>\n</div>"
     },
     "metadata": {},
     "execution_count": 4
    }
   ],
   "source": [
    "col_to_fillna = ['share_price_usd', 'valuation_price_usd', 'money_raised_usd']\n",
    "\n",
    "for col in col_to_fillna:\n",
    "    mean = df[col].mean()\n",
    "    df[col] = df[col].fillna(mean)\n",
    "# df['share_price_usd'] = df['share_price_usd'].fillna(-99999)\n",
    "# df['valuation_price_usd'] = df['valuation_price_usd'].fillna(-99999)\n",
    "# df['money_raised_usd'] = df['money_raised_usd'].fillna(-99999)\n",
    "\n",
    "df.dropna(how = \"any\", inplace = True)\n",
    "df = df.reset_index(drop = True)\n",
    "df.head()"
   ]
  },
  {
   "cell_type": "code",
   "execution_count": 5,
   "metadata": {},
   "outputs": [],
   "source": [
    "# draft by Stardust to visualize how many stuff needs to be labelled individually\n",
    "# the rest can be grouped into, say, continents\n",
    "# country_series = df['country_code'].value_counts()\n",
    "# country_series.head(35)\n",
    "# stock_exchange_series = df['stock_exchange_symbol'].value_counts()\n",
    "# stock_exchange_series.head(40)"
   ]
  },
  {
   "cell_type": "code",
   "execution_count": 6,
   "metadata": {},
   "outputs": [],
   "source": [
    "# Stardust ver one-hot for country_code, stock_exchange_symbol\n",
    "def encoding_ipo(df: pd.DataFrame, col_name: str, num_selected: int) -> pd.DataFrame:\n",
    "    '''\n",
    "    Performs one-hot encoding on a dataframe's column for its values with most occurrences\n",
    "\n",
    "    :param pd.DataFrame df: dataframe to be processed\n",
    "    :param str col_name: name of the encoded column\n",
    "    :param int num_selected: number of values with most occurrences\n",
    "    :return: processed dataframe\n",
    "    :rtype: pd.DataFrame\n",
    "    '''\n",
    "    series = df[col_name].value_counts()\n",
    "    selected_col_name = series.head(num_selected).index.tolist()\n",
    "\n",
    "    for item in selected_col_name:\n",
    "        df[item] = np.where(df[col_name] == item, 1, 0) # whenever df[col_name] == cat replace it with 1 else 0\n",
    "\n",
    "    return df"
   ]
  },
  {
   "cell_type": "code",
   "execution_count": 7,
   "metadata": {},
   "outputs": [],
   "source": [
    "num_country = 35 # select 35 most significant countries\n",
    "num_stock_exchange = 40 # select 40 most significant stock exchanges\n",
    "df = encoding_ipo(df, 'country_code', num_country)\n",
    "df = encoding_ipo(df, 'stock_exchange_symbol', num_stock_exchange)"
   ]
  },
  {
   "cell_type": "code",
   "execution_count": 8,
   "metadata": {},
   "outputs": [
    {
     "output_type": "execute_result",
     "data": {
      "text/plain": [
       "                                   uuid                              org_uuid  \\\n",
       "0  72d30ebd-53ef-2486-6c29-22785c5173ce  fd80725f-53fc-7009-9878-aeecf1e9ffbb   \n",
       "1  3ad2b068-2d97-f646-0b80-1e5f3d7adfc4  756936c0-c335-f0ae-0a3d-fe26bdff5695   \n",
       "2  a265c6f6-4b96-4079-096a-967a37f3da2b  73296f0d-85a5-78d5-90b3-86c5f8981ba9   \n",
       "3  ee426509-826e-5dd0-9309-e79c8f384904  ff8439cf-097c-a88a-9bb9-dd83d23aa14b   \n",
       "4  66b57372-77f0-ec5f-ca33-0175fff79b0e  ab8e5ba4-df5d-121b-93b6-eae7a0c89245   \n",
       "\n",
       "                  org_name country_code      region              city  \\\n",
       "0                Microsoft          USA  Washington           Redmond   \n",
       "1  The Walt Disney Company          USA     Florida  Lake Buena Vista   \n",
       "2                     DivX          USA  California         San Diego   \n",
       "3           XO Group, Inc.          USA    New York          New York   \n",
       "4             BMC Software          USA       Texas           Houston   \n",
       "\n",
       "  stock_exchange_symbol stock_symbol went_public_on  share_price_usd  \\\n",
       "0                nasdaq         MSFT      13/3/1986        14.409031   \n",
       "1                  nyse          DIS      13/1/1978        14.409031   \n",
       "2                nasdaq         DIVX     22/10/2006        16.000000   \n",
       "3                  nyse         XOXO      2/12/1999        14.409031   \n",
       "4                nasdaq          BMC      12/8/1988        14.409031   \n",
       "\n",
       "   valuation_price_usd  money_raised_usd  USA  CHN  JPN  CAN  IND  GBR  AUS  \\\n",
       "0         1.643511e+09      2.147861e+08    1    0    0    0    0    0    0   \n",
       "1         1.643511e+09      3.000000e+08    1    0    0    0    0    0    0   \n",
       "2         1.600000e+08      1.450000e+08    1    0    0    0    0    0    0   \n",
       "3         1.643511e+09      3.500000e+07    1    0    0    0    0    0    0   \n",
       "4         6.000000e+09      2.147861e+08    1    0    0    0    0    0    0   \n",
       "\n",
       "   HKG  MYS  FRA  TWN  IDN  ISR  DEU  SGP  SWE  KOR  BRA  TUR  ITA  CHE  NLD  \\\n",
       "0    0    0    0    0    0    0    0    0    0    0    0    0    0    0    0   \n",
       "1    0    0    0    0    0    0    0    0    0    0    0    0    0    0    0   \n",
       "2    0    0    0    0    0    0    0    0    0    0    0    0    0    0    0   \n",
       "3    0    0    0    0    0    0    0    0    0    0    0    0    0    0    0   \n",
       "4    0    0    0    0    0    0    0    0    0    0    0    0    0    0    0   \n",
       "\n",
       "   BEL  ESP  THA  ZAF  SAU  IRL  DNK  RUS  POL  NZL  NOR  FIN  MEX  nasdaq  \\\n",
       "0    0    0    0    0    0    0    0    0    0    0    0    0    0       1   \n",
       "1    0    0    0    0    0    0    0    0    0    0    0    0    0       0   \n",
       "2    0    0    0    0    0    0    0    0    0    0    0    0    0       1   \n",
       "3    0    0    0    0    0    0    0    0    0    0    0    0    0       0   \n",
       "4    0    0    0    0    0    0    0    0    0    0    0    0    0       1   \n",
       "\n",
       "   tyo  nyse  szse  lse  cve  hkg  neeq  sse  bom  asx  otcpink  otcqb  epa  \\\n",
       "0    0     0     0    0    0    0     0    0    0    0        0      0    0   \n",
       "1    0     1     0    0    0    0     0    0    0    0        0      0    0   \n",
       "2    0     0     0    0    0    0     0    0    0    0        0      0    0   \n",
       "3    0     1     0    0    0    0     0    0    0    0        0      0    0   \n",
       "4    0     0     0    0    0    0     0    0    0    0        0      0    0   \n",
       "\n",
       "   nse  klse  tpe  tsx  idx  fra  tlv  sgx  etr  ist  cnsx  bvmf  sto  \\\n",
       "0    0     0    0    0    0    0    0    0    0    0     0     0    0   \n",
       "1    0     0    0    0    0    0    0    0    0    0     0     0    0   \n",
       "2    0     0    0    0    0    0    0    0    0    0     0     0    0   \n",
       "3    0     0    0    0    0    0    0    0    0    0     0     0    0   \n",
       "4    0     0    0    0    0    0    0    0    0    0     0     0    0   \n",
       "\n",
       "   nysemkt  bit  swx  ebr  krx  kosdaq  otcqx  jse  ams  otcbb  bkk  tadawul  \\\n",
       "0        0    0    0    0    0       0      0    0    0      0    0        0   \n",
       "1        0    0    0    0    0       0      0    0    0      0    0        0   \n",
       "2        0    0    0    0    0       0      0    0    0      0    0        0   \n",
       "3        0    0    0    0    0       0      0    0    0      0    0        0   \n",
       "4        0    0    0    0    0       0      0    0    0      0    0        0   \n",
       "\n",
       "   wse  \n",
       "0    0  \n",
       "1    0  \n",
       "2    0  \n",
       "3    0  \n",
       "4    0  "
      ],
      "text/html": "<div>\n<style scoped>\n    .dataframe tbody tr th:only-of-type {\n        vertical-align: middle;\n    }\n\n    .dataframe tbody tr th {\n        vertical-align: top;\n    }\n\n    .dataframe thead th {\n        text-align: right;\n    }\n</style>\n<table border=\"1\" class=\"dataframe\">\n  <thead>\n    <tr style=\"text-align: right;\">\n      <th></th>\n      <th>uuid</th>\n      <th>org_uuid</th>\n      <th>org_name</th>\n      <th>country_code</th>\n      <th>region</th>\n      <th>city</th>\n      <th>stock_exchange_symbol</th>\n      <th>stock_symbol</th>\n      <th>went_public_on</th>\n      <th>share_price_usd</th>\n      <th>valuation_price_usd</th>\n      <th>money_raised_usd</th>\n      <th>USA</th>\n      <th>CHN</th>\n      <th>JPN</th>\n      <th>CAN</th>\n      <th>IND</th>\n      <th>GBR</th>\n      <th>AUS</th>\n      <th>HKG</th>\n      <th>MYS</th>\n      <th>FRA</th>\n      <th>TWN</th>\n      <th>IDN</th>\n      <th>ISR</th>\n      <th>DEU</th>\n      <th>SGP</th>\n      <th>SWE</th>\n      <th>KOR</th>\n      <th>BRA</th>\n      <th>TUR</th>\n      <th>ITA</th>\n      <th>CHE</th>\n      <th>NLD</th>\n      <th>BEL</th>\n      <th>ESP</th>\n      <th>THA</th>\n      <th>ZAF</th>\n      <th>SAU</th>\n      <th>IRL</th>\n      <th>DNK</th>\n      <th>RUS</th>\n      <th>POL</th>\n      <th>NZL</th>\n      <th>NOR</th>\n      <th>FIN</th>\n      <th>MEX</th>\n      <th>nasdaq</th>\n      <th>tyo</th>\n      <th>nyse</th>\n      <th>szse</th>\n      <th>lse</th>\n      <th>cve</th>\n      <th>hkg</th>\n      <th>neeq</th>\n      <th>sse</th>\n      <th>bom</th>\n      <th>asx</th>\n      <th>otcpink</th>\n      <th>otcqb</th>\n      <th>epa</th>\n      <th>nse</th>\n      <th>klse</th>\n      <th>tpe</th>\n      <th>tsx</th>\n      <th>idx</th>\n      <th>fra</th>\n      <th>tlv</th>\n      <th>sgx</th>\n      <th>etr</th>\n      <th>ist</th>\n      <th>cnsx</th>\n      <th>bvmf</th>\n      <th>sto</th>\n      <th>nysemkt</th>\n      <th>bit</th>\n      <th>swx</th>\n      <th>ebr</th>\n      <th>krx</th>\n      <th>kosdaq</th>\n      <th>otcqx</th>\n      <th>jse</th>\n      <th>ams</th>\n      <th>otcbb</th>\n      <th>bkk</th>\n      <th>tadawul</th>\n      <th>wse</th>\n    </tr>\n  </thead>\n  <tbody>\n    <tr>\n      <th>0</th>\n      <td>72d30ebd-53ef-2486-6c29-22785c5173ce</td>\n      <td>fd80725f-53fc-7009-9878-aeecf1e9ffbb</td>\n      <td>Microsoft</td>\n      <td>USA</td>\n      <td>Washington</td>\n      <td>Redmond</td>\n      <td>nasdaq</td>\n      <td>MSFT</td>\n      <td>13/3/1986</td>\n      <td>14.409031</td>\n      <td>1.643511e+09</td>\n      <td>2.147861e+08</td>\n      <td>1</td>\n      <td>0</td>\n      <td>0</td>\n      <td>0</td>\n      <td>0</td>\n      <td>0</td>\n      <td>0</td>\n      <td>0</td>\n      <td>0</td>\n      <td>0</td>\n      <td>0</td>\n      <td>0</td>\n      <td>0</td>\n      <td>0</td>\n      <td>0</td>\n      <td>0</td>\n      <td>0</td>\n      <td>0</td>\n      <td>0</td>\n      <td>0</td>\n      <td>0</td>\n      <td>0</td>\n      <td>0</td>\n      <td>0</td>\n      <td>0</td>\n      <td>0</td>\n      <td>0</td>\n      <td>0</td>\n      <td>0</td>\n      <td>0</td>\n      <td>0</td>\n      <td>0</td>\n      <td>0</td>\n      <td>0</td>\n      <td>0</td>\n      <td>1</td>\n      <td>0</td>\n      <td>0</td>\n      <td>0</td>\n      <td>0</td>\n      <td>0</td>\n      <td>0</td>\n      <td>0</td>\n      <td>0</td>\n      <td>0</td>\n      <td>0</td>\n      <td>0</td>\n      <td>0</td>\n      <td>0</td>\n      <td>0</td>\n      <td>0</td>\n      <td>0</td>\n      <td>0</td>\n      <td>0</td>\n      <td>0</td>\n      <td>0</td>\n      <td>0</td>\n      <td>0</td>\n      <td>0</td>\n      <td>0</td>\n      <td>0</td>\n      <td>0</td>\n      <td>0</td>\n      <td>0</td>\n      <td>0</td>\n      <td>0</td>\n      <td>0</td>\n      <td>0</td>\n      <td>0</td>\n      <td>0</td>\n      <td>0</td>\n      <td>0</td>\n      <td>0</td>\n      <td>0</td>\n      <td>0</td>\n    </tr>\n    <tr>\n      <th>1</th>\n      <td>3ad2b068-2d97-f646-0b80-1e5f3d7adfc4</td>\n      <td>756936c0-c335-f0ae-0a3d-fe26bdff5695</td>\n      <td>The Walt Disney Company</td>\n      <td>USA</td>\n      <td>Florida</td>\n      <td>Lake Buena Vista</td>\n      <td>nyse</td>\n      <td>DIS</td>\n      <td>13/1/1978</td>\n      <td>14.409031</td>\n      <td>1.643511e+09</td>\n      <td>3.000000e+08</td>\n      <td>1</td>\n      <td>0</td>\n      <td>0</td>\n      <td>0</td>\n      <td>0</td>\n      <td>0</td>\n      <td>0</td>\n      <td>0</td>\n      <td>0</td>\n      <td>0</td>\n      <td>0</td>\n      <td>0</td>\n      <td>0</td>\n      <td>0</td>\n      <td>0</td>\n      <td>0</td>\n      <td>0</td>\n      <td>0</td>\n      <td>0</td>\n      <td>0</td>\n      <td>0</td>\n      <td>0</td>\n      <td>0</td>\n      <td>0</td>\n      <td>0</td>\n      <td>0</td>\n      <td>0</td>\n      <td>0</td>\n      <td>0</td>\n      <td>0</td>\n      <td>0</td>\n      <td>0</td>\n      <td>0</td>\n      <td>0</td>\n      <td>0</td>\n      <td>0</td>\n      <td>0</td>\n      <td>1</td>\n      <td>0</td>\n      <td>0</td>\n      <td>0</td>\n      <td>0</td>\n      <td>0</td>\n      <td>0</td>\n      <td>0</td>\n      <td>0</td>\n      <td>0</td>\n      <td>0</td>\n      <td>0</td>\n      <td>0</td>\n      <td>0</td>\n      <td>0</td>\n      <td>0</td>\n      <td>0</td>\n      <td>0</td>\n      <td>0</td>\n      <td>0</td>\n      <td>0</td>\n      <td>0</td>\n      <td>0</td>\n      <td>0</td>\n      <td>0</td>\n      <td>0</td>\n      <td>0</td>\n      <td>0</td>\n      <td>0</td>\n      <td>0</td>\n      <td>0</td>\n      <td>0</td>\n      <td>0</td>\n      <td>0</td>\n      <td>0</td>\n      <td>0</td>\n      <td>0</td>\n      <td>0</td>\n    </tr>\n    <tr>\n      <th>2</th>\n      <td>a265c6f6-4b96-4079-096a-967a37f3da2b</td>\n      <td>73296f0d-85a5-78d5-90b3-86c5f8981ba9</td>\n      <td>DivX</td>\n      <td>USA</td>\n      <td>California</td>\n      <td>San Diego</td>\n      <td>nasdaq</td>\n      <td>DIVX</td>\n      <td>22/10/2006</td>\n      <td>16.000000</td>\n      <td>1.600000e+08</td>\n      <td>1.450000e+08</td>\n      <td>1</td>\n      <td>0</td>\n      <td>0</td>\n      <td>0</td>\n      <td>0</td>\n      <td>0</td>\n      <td>0</td>\n      <td>0</td>\n      <td>0</td>\n      <td>0</td>\n      <td>0</td>\n      <td>0</td>\n      <td>0</td>\n      <td>0</td>\n      <td>0</td>\n      <td>0</td>\n      <td>0</td>\n      <td>0</td>\n      <td>0</td>\n      <td>0</td>\n      <td>0</td>\n      <td>0</td>\n      <td>0</td>\n      <td>0</td>\n      <td>0</td>\n      <td>0</td>\n      <td>0</td>\n      <td>0</td>\n      <td>0</td>\n      <td>0</td>\n      <td>0</td>\n      <td>0</td>\n      <td>0</td>\n      <td>0</td>\n      <td>0</td>\n      <td>1</td>\n      <td>0</td>\n      <td>0</td>\n      <td>0</td>\n      <td>0</td>\n      <td>0</td>\n      <td>0</td>\n      <td>0</td>\n      <td>0</td>\n      <td>0</td>\n      <td>0</td>\n      <td>0</td>\n      <td>0</td>\n      <td>0</td>\n      <td>0</td>\n      <td>0</td>\n      <td>0</td>\n      <td>0</td>\n      <td>0</td>\n      <td>0</td>\n      <td>0</td>\n      <td>0</td>\n      <td>0</td>\n      <td>0</td>\n      <td>0</td>\n      <td>0</td>\n      <td>0</td>\n      <td>0</td>\n      <td>0</td>\n      <td>0</td>\n      <td>0</td>\n      <td>0</td>\n      <td>0</td>\n      <td>0</td>\n      <td>0</td>\n      <td>0</td>\n      <td>0</td>\n      <td>0</td>\n      <td>0</td>\n      <td>0</td>\n    </tr>\n    <tr>\n      <th>3</th>\n      <td>ee426509-826e-5dd0-9309-e79c8f384904</td>\n      <td>ff8439cf-097c-a88a-9bb9-dd83d23aa14b</td>\n      <td>XO Group, Inc.</td>\n      <td>USA</td>\n      <td>New York</td>\n      <td>New York</td>\n      <td>nyse</td>\n      <td>XOXO</td>\n      <td>2/12/1999</td>\n      <td>14.409031</td>\n      <td>1.643511e+09</td>\n      <td>3.500000e+07</td>\n      <td>1</td>\n      <td>0</td>\n      <td>0</td>\n      <td>0</td>\n      <td>0</td>\n      <td>0</td>\n      <td>0</td>\n      <td>0</td>\n      <td>0</td>\n      <td>0</td>\n      <td>0</td>\n      <td>0</td>\n      <td>0</td>\n      <td>0</td>\n      <td>0</td>\n      <td>0</td>\n      <td>0</td>\n      <td>0</td>\n      <td>0</td>\n      <td>0</td>\n      <td>0</td>\n      <td>0</td>\n      <td>0</td>\n      <td>0</td>\n      <td>0</td>\n      <td>0</td>\n      <td>0</td>\n      <td>0</td>\n      <td>0</td>\n      <td>0</td>\n      <td>0</td>\n      <td>0</td>\n      <td>0</td>\n      <td>0</td>\n      <td>0</td>\n      <td>0</td>\n      <td>0</td>\n      <td>1</td>\n      <td>0</td>\n      <td>0</td>\n      <td>0</td>\n      <td>0</td>\n      <td>0</td>\n      <td>0</td>\n      <td>0</td>\n      <td>0</td>\n      <td>0</td>\n      <td>0</td>\n      <td>0</td>\n      <td>0</td>\n      <td>0</td>\n      <td>0</td>\n      <td>0</td>\n      <td>0</td>\n      <td>0</td>\n      <td>0</td>\n      <td>0</td>\n      <td>0</td>\n      <td>0</td>\n      <td>0</td>\n      <td>0</td>\n      <td>0</td>\n      <td>0</td>\n      <td>0</td>\n      <td>0</td>\n      <td>0</td>\n      <td>0</td>\n      <td>0</td>\n      <td>0</td>\n      <td>0</td>\n      <td>0</td>\n      <td>0</td>\n      <td>0</td>\n      <td>0</td>\n      <td>0</td>\n    </tr>\n    <tr>\n      <th>4</th>\n      <td>66b57372-77f0-ec5f-ca33-0175fff79b0e</td>\n      <td>ab8e5ba4-df5d-121b-93b6-eae7a0c89245</td>\n      <td>BMC Software</td>\n      <td>USA</td>\n      <td>Texas</td>\n      <td>Houston</td>\n      <td>nasdaq</td>\n      <td>BMC</td>\n      <td>12/8/1988</td>\n      <td>14.409031</td>\n      <td>6.000000e+09</td>\n      <td>2.147861e+08</td>\n      <td>1</td>\n      <td>0</td>\n      <td>0</td>\n      <td>0</td>\n      <td>0</td>\n      <td>0</td>\n      <td>0</td>\n      <td>0</td>\n      <td>0</td>\n      <td>0</td>\n      <td>0</td>\n      <td>0</td>\n      <td>0</td>\n      <td>0</td>\n      <td>0</td>\n      <td>0</td>\n      <td>0</td>\n      <td>0</td>\n      <td>0</td>\n      <td>0</td>\n      <td>0</td>\n      <td>0</td>\n      <td>0</td>\n      <td>0</td>\n      <td>0</td>\n      <td>0</td>\n      <td>0</td>\n      <td>0</td>\n      <td>0</td>\n      <td>0</td>\n      <td>0</td>\n      <td>0</td>\n      <td>0</td>\n      <td>0</td>\n      <td>0</td>\n      <td>1</td>\n      <td>0</td>\n      <td>0</td>\n      <td>0</td>\n      <td>0</td>\n      <td>0</td>\n      <td>0</td>\n      <td>0</td>\n      <td>0</td>\n      <td>0</td>\n      <td>0</td>\n      <td>0</td>\n      <td>0</td>\n      <td>0</td>\n      <td>0</td>\n      <td>0</td>\n      <td>0</td>\n      <td>0</td>\n      <td>0</td>\n      <td>0</td>\n      <td>0</td>\n      <td>0</td>\n      <td>0</td>\n      <td>0</td>\n      <td>0</td>\n      <td>0</td>\n      <td>0</td>\n      <td>0</td>\n      <td>0</td>\n      <td>0</td>\n      <td>0</td>\n      <td>0</td>\n      <td>0</td>\n      <td>0</td>\n      <td>0</td>\n      <td>0</td>\n      <td>0</td>\n      <td>0</td>\n      <td>0</td>\n      <td>0</td>\n    </tr>\n  </tbody>\n</table>\n</div>"
     },
     "metadata": {},
     "execution_count": 8
    }
   ],
   "source": [
    "df.head()"
   ]
  },
  {
   "cell_type": "code",
   "execution_count": null,
   "metadata": {
    "scrolled": true
   },
   "outputs": [],
   "source": [
    "# df['country_code'].value_counts()\n",
    "# def encoding_country(state, num_selected): # select 35 most significant countries\n",
    "#     if state == \"-1\":\n",
    "#         value = -1\n",
    "#     elif state ==\"USA\":\n",
    "#         value = 0\n",
    "#     elif state == \"GBR\":\n",
    "#         value = 1\n",
    "#     elif state == \"IND\":\n",
    "#         value = 2\n",
    "#     elif state == \"CAN\":\n",
    "#         value = 3\n",
    "#     elif state == \"CHI\":\n",
    "#         value = 4\n",
    "#     else :\n",
    "#         value = 5\n",
    "#     return value\n",
    "# # df['country_code'] = df['country_code'].apply(lambda x:encoding_country(x))\n",
    "# print(df['country_code'].value_counts())"
   ]
  },
  {
   "cell_type": "code",
   "execution_count": null,
   "metadata": {},
   "outputs": [],
   "source": [
    "# df['stock_exchange_symbol'].value_counts()\n",
    "# def enconding_sym(sym):\n",
    "#     if sym ==\"nasdaq\":\n",
    "#         value = 0\n",
    "#     elif sym == \"tyo\":\n",
    "#         value = 1\n",
    "#     elif sym == \"nyse\":\n",
    "#         value = 2\n",
    "#     elif sym == \"szse\":\n",
    "#         value = 3\n",
    "#     elif sym == \"lse\":\n",
    "#         value = 4\n",
    "#     elif sym == \"neeq\":\n",
    "#         value = 5\n",
    "#     else :\n",
    "#         value = 6\n",
    "#     return value\n",
    "# df['stock_exchange_symbol'] = df['stock_exchange_symbol'].apply(lambda x:enconding_sym(x))\n",
    "# df"
   ]
  },
  {
   "cell_type": "code",
   "execution_count": null,
   "metadata": {},
   "outputs": [],
   "source": [
    "df.drop(columns=['stock_symbol'], inplace = True)\n",
    "df = pd.get_dummies(df, columns=[\"region\",\"city\"]).head()"
   ]
  },
  {
   "cell_type": "code",
   "execution_count": null,
   "metadata": {},
   "outputs": [],
   "source": [
    "df"
   ]
  }
 ],
 "metadata": {
  "kernelspec": {
   "display_name": "Python 3",
   "language": "python",
   "name": "python3"
  },
  "language_info": {
   "codemirror_mode": {
    "name": "ipython",
    "version": 3
   },
   "file_extension": ".py",
   "mimetype": "text/x-python",
   "name": "python",
   "nbconvert_exporter": "python",
   "pygments_lexer": "ipython3",
   "version": "3.8.3-final"
  }
 },
 "nbformat": 4,
 "nbformat_minor": 4
}