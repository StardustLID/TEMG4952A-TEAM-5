{
 "metadata": {
  "language_info": {
   "codemirror_mode": {
    "name": "ipython",
    "version": 3
   },
   "file_extension": ".py",
   "mimetype": "text/x-python",
   "name": "python",
   "nbconvert_exporter": "python",
   "pygments_lexer": "ipython3",
   "version": "3.8.3-final"
  },
  "orig_nbformat": 2,
  "kernelspec": {
   "name": "python3",
   "display_name": "Python 3",
   "language": "python"
  }
 },
 "nbformat": 4,
 "nbformat_minor": 2,
 "cells": [
  {
   "cell_type": "code",
   "execution_count": 1,
   "metadata": {},
   "outputs": [],
   "source": [
    "# import library\n",
    "import pandas as pd"
   ]
  },
  {
   "cell_type": "code",
   "execution_count": 2,
   "metadata": {},
   "outputs": [
    {
     "output_type": "stream",
     "name": "stdout",
     "text": [
      "<class 'pandas.core.frame.DataFrame'>\nRangeIndex: 369990 entries, 0 to 369989\nData columns (total 8 columns):\n #   Column            Non-Null Count   Dtype \n---  ------            --------------   ----- \n 0   uuid              369990 non-null  object\n 1   person_uuid       369990 non-null  object\n 2   institution_uuid  369990 non-null  object\n 3   degree_type       358151 non-null  object\n 4   subject           342822 non-null  object\n 5   started_on        147916 non-null  object\n 6   completed_on      200636 non-null  object\n 7   is_completed      369990 non-null  bool  \ndtypes: bool(1), object(7)\nmemory usage: 20.1+ MB\n"
     ]
    }
   ],
   "source": [
    "# read the CSV\n",
    "df = pd.read_csv(\"degrees.csv\")\n",
    "# change the cols to keep\n",
    "keep_col = ['uuid','person_uuid','institution_name','degree_type','subject','started_on','completed_on','is_completed']\n",
    "df = df[keep_col]"
   ]
  },
  {
   "cell_type": "code",
   "execution_count": 3,
   "metadata": {},
   "outputs": [
    {
     "output_type": "execute_result",
     "data": {
      "text/plain": [
       "MBA                                        41239\n",
       "BS                                         35440\n",
       "unknown                                    32331\n",
       "BA                                         29860\n",
       "MS                                         15527\n",
       "B.S.                                        8078\n",
       "PhD                                         7905\n",
       "B.A.                                        6054\n",
       "Ph.D                                        5987\n",
       "Bachelor                                    5961\n",
       "B.A                                         5183\n",
       "Master                                      4905\n",
       "MA                                          4598\n",
       "BBA                                         4421\n",
       "MSc                                         4340\n",
       "BSc                                         4228\n",
       "B.S                                         4178\n",
       "Bachelor of Science                         4051\n",
       "Graduate                                    3965\n",
       "JD                                          3689\n",
       "Degree                                      3425\n",
       "Ph.D.                                       3396\n",
       "Masters                                     3236\n",
       "B.Sc                                        3085\n",
       "M.B.A                                       2943\n",
       "Bachelor's Degree                           2734\n",
       "Bachelors                                   2228\n",
       "M.S.                                        2206\n",
       "Bachelor of Arts                            2177\n",
       "Certificate                                 2159\n",
       "BE                                          2138\n",
       "M.B.A.                                      1868\n",
       "B.Tech                                      1844\n",
       "Bachelor's degree                           1831\n",
       "Master of Science                           1755\n",
       "M.S                                         1728\n",
       "M.Sc                                        1724\n",
       "Bachelor's                                  1710\n",
       "B.Sc.                                       1680\n",
       "Master's Degree                             1654\n",
       "MD                                          1538\n",
       "Master's degree                             1502\n",
       "M.Sc.                                       1415\n",
       "Master's                                    1346\n",
       "B.Com                                       1096\n",
       "Diploma                                     1046\n",
       "J.D.                                         951\n",
       "M.A.                                         930\n",
       "BFA                                          893\n",
       "B.Eng                                        865\n",
       "Bachelor’s Degree                            857\n",
       "B.B.A                                        628\n",
       "J.D                                          608\n",
       "M.A                                          601\n",
       "Unknown                                      577\n",
       "AB                                           568\n",
       "M.Eng                                        511\n",
       "B.E                                          509\n",
       "Master’s Degree                              502\n",
       "LLB                                          502\n",
       "BSBA                                         475\n",
       "B.E.                                         474\n",
       "Master Degree                                474\n",
       "MEng                                         455\n",
       "BASc                                         440\n",
       "Bachelors of Science                         439\n",
       "BEng                                         432\n",
       "Master of Business Administration            430\n",
       "M.D.                                         427\n",
       "Executive MBA                                415\n",
       "Bsc                                          410\n",
       "BSE                                          377\n",
       "Bachelor of Commerce                         373\n",
       "Doctor of Philosophy                         371\n",
       "Engineering                                  366\n",
       "Bachelor's degree in science                 340\n",
       "Master of Arts                               339\n",
       "BTech                                        337\n",
       "MPA                                          332\n",
       "Msc                                          329\n",
       "Doctorate                                    322\n",
       "B.B.A.                                       311\n",
       "Bachelor of Engineering                      307\n",
       "Undergraduate                                306\n",
       "A.B.                                         302\n",
       "LL.B                                         288\n",
       "Master of Business Administration (MBA)      287\n",
       "LLM                                          283\n",
       "BSEE                                         281\n",
       "MSc.                                         276\n",
       "MSE                                          272\n",
       "Juris Doctor                                 270\n",
       "Bachelor Degree                              266\n",
       "B.Tech.                                      263\n",
       "Computer Science                             260\n",
       "Bachelor of Arts (B.A.)                      256\n",
       "Masters Degree                               256\n",
       "BSc.                                         254\n",
       "Phd                                          247\n",
       "Bachelor's degree in arts                    247\n",
       "Name: degree_type, dtype: int64"
      ]
     },
     "metadata": {},
     "execution_count": 3
    }
   ],
   "source": [
    "# df['degree_type'].value_counts()\n",
    "# df['degree_type'].value_counts().head(100)"
   ]
  },
  {
   "cell_type": "code",
   "execution_count": 4,
   "metadata": {},
   "outputs": [
    {
     "output_type": "execute_result",
     "data": {
      "text/plain": [
       "unknown                                       60794\n",
       "Computer Science                              19850\n",
       "Economics                                     11268\n",
       "Finance                                        8623\n",
       "Electrical Engineering                         7344\n",
       "                                              ...  \n",
       "Health Care and Entrepreneurial Management        1\n",
       "Innnovation Management                            1\n",
       "Mathematics-Physics                               1\n",
       "History of Art and Dress                          1\n",
       "Televsion Production                              1\n",
       "Name: subject, Length: 58328, dtype: int64"
      ]
     },
     "metadata": {},
     "execution_count": 4
    }
   ],
   "source": [
    "# df['subject'].value_counts()"
   ]
  },
  {
   "cell_type": "code",
   "execution_count": 5,
   "metadata": {},
   "outputs": [],
   "source": [
    "# use keyword to search for relevant degrees\n",
    "bachelor_keyword = ['Bachelor', 'BS', 'BSc', 'B.S', 'Bsc',\n",
    "'BENG', 'BEng', 'B.Eng', 'Beng', 'BA', 'Ba', 'B.A.',\n",
    "'BBA', 'B.B.A.', 'B.Tech']\n",
    "\n",
    "master_keyword = ['Master', 'MPHIL', 'MPhil', 'Mphil', 'M.Phil', 'M.phil',\n",
    "'MS', 'MSc', 'M.Sc', 'Msc', 'MENG', 'MEng', 'M.Eng.', 'M.eng',\n",
    "'MA', 'M.A', 'MBA', 'M.B.A', 'Mba', 'M.BA', 'M.Ba']\n",
    "\n",
    "phd_keyword = ['PHD', 'Phd', 'PhD', 'P.HD', 'P.Hd', 'P.hd', 'P.H.D']\n",
    "\n",
    "# categories can be formed from one or more above elementary keywords\n",
    "df_with_degree = df\n",
    "df_with_degree.dropna(axis=0, subset=['degree_type'], inplace=True)\n",
    "\n",
    "\n",
    "for item in selected_col_name:\n",
    "        df[item] = np.where(df[col_name] == item, 1, 0) # whenever df[col_name] == cat replace it with 1 else 0\n",
    "\n",
    "df_phd = df[df['degree_type'].str.contains('|'.join(phd_keyword))]\n",
    "df_phd['degree_type'] = 'PhD'\n",
    "\n",
    "df_master = df[df['degree_type'].str.contains('|'.join(master_keyword))]\n",
    "df_master['degree_type'] = 'Master'\n",
    "\n",
    "df_bachelor = df[df['degree_type'].str.contains('|'.join(bachelor_keyword))]\n",
    "\n",
    "\n",
    "df.reset_index(inplace=True)\n",
    "df.drop(axis=1, labels='index', inplace=True)"
   ]
  }
 ]
}