{
 "metadata": {
  "language_info": {
   "codemirror_mode": {
    "name": "ipython",
    "version": 3
   },
   "file_extension": ".py",
   "mimetype": "text/x-python",
   "name": "python",
   "nbconvert_exporter": "python",
   "pygments_lexer": "ipython3",
   "version": "3.8.3-final"
  },
  "orig_nbformat": 2,
  "kernelspec": {
   "name": "python3",
   "display_name": "Python 3",
   "language": "python"
  }
 },
 "nbformat": 4,
 "nbformat_minor": 2,
 "cells": [
  {
   "cell_type": "code",
   "execution_count": 1,
   "metadata": {},
   "outputs": [],
   "source": [
    "# import library\n",
    "import pandas as pd"
   ]
  },
  {
   "cell_type": "code",
   "execution_count": 2,
   "metadata": {},
   "outputs": [],
   "source": [
    "# read the CSV\n",
    "df = pd.read_csv(\"degrees.csv\")\n",
    "# change the cols to keep\n",
    "keep_col = ['uuid','person_uuid','institution_uuid','degree_type','subject','started_on','completed_on','is_completed']\n",
    "df = df[keep_col]"
   ]
  },
  {
   "cell_type": "code",
   "execution_count": 3,
   "metadata": {},
   "outputs": [],
   "source": [
    "# df['degree_type'].value_counts()\n",
    "# df['degree_type'].value_counts().head(100)"
   ]
  },
  {
   "cell_type": "code",
   "execution_count": 4,
   "metadata": {},
   "outputs": [],
   "source": [
    "# df['subject'].value_counts()"
   ]
  },
  {
   "cell_type": "code",
   "execution_count": 5,
   "metadata": {},
   "outputs": [],
   "source": [
    "# use keyword to search for relevant degrees\n",
    "bachelor_keyword = ['Bachelor', 'BS', 'BSc', 'B.S.', 'Bsc',\n",
    "'BENG', 'BEng', 'B.Eng.', 'Beng', 'BA', 'Ba', 'B.A.',\n",
    "'BBA', 'B.B.A.', 'B.Tech.']\n",
    "\n",
    "master_keyword = ['Master', 'MPHIL', 'MPhil', 'Mphil', 'M.Phil.', 'M.phil',\n",
    "'MS', 'MSc', 'M.Sc', 'Msc', 'MENG', 'MEng', 'M.Eng.', 'M.eng.',\n",
    "'MA', 'M.A', 'MBA', 'M.B.A.', 'Mba', 'M.BA.', 'M.Ba.']\n",
    "\n",
    "phd_keyword = ['PHD', 'Phd', 'PhD', 'P.HD', 'P.Hd', 'P.hd', 'P.H.D']\n",
    "\n",
    "# categories can be formed from one or more above elementary keywords\n",
    "df.dropna(axis=0, subset=['degree_type'], inplace=True)\n",
    "\n",
    "df.loc[df['degree_type'].str.contains('|'.join(phd_keyword)),'degree_type']='PhD'\n",
    "df.loc[df['degree_type'].str.contains('|'.join(master_keyword)),'degree_type']='Master'\n",
    "df.loc[df['degree_type'].str.contains('|'.join(bachelor_keyword)),'degree_type']='Bachelor'\n",
    "\n",
    "df.reset_index(inplace=True)\n",
    "df.drop(axis=1, labels='index', inplace=True)\n",
    "\n",
    "# df"
   ]
  },
  {
   "cell_type": "code",
   "execution_count": 6,
   "metadata": {},
   "outputs": [],
   "source": [
    "df.to_csv(\"degrees_cleaned.csv\", index=False)"
   ]
  }
 ]
}