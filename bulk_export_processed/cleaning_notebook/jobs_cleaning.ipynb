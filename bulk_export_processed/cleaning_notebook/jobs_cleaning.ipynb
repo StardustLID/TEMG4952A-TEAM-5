{
 "metadata": {
  "language_info": {
   "codemirror_mode": {
    "name": "ipython",
    "version": 3
   },
   "file_extension": ".py",
   "mimetype": "text/x-python",
   "name": "python",
   "nbconvert_exporter": "python",
   "pygments_lexer": "ipython3",
   "version": "3.8.3-final"
  },
  "orig_nbformat": 2,
  "kernelspec": {
   "name": "python3",
   "display_name": "Python 3",
   "language": "python"
  }
 },
 "nbformat": 4,
 "nbformat_minor": 2,
 "cells": [
  {
   "cell_type": "code",
   "execution_count": 1,
   "metadata": {},
   "outputs": [],
   "source": [
    "# import library\n",
    "import pandas as pd\n",
    "import numpy as np"
   ]
  },
  {
   "cell_type": "code",
   "execution_count": 2,
   "metadata": {},
   "outputs": [],
   "source": [
    "# read the CSV\n",
    "df = pd.read_csv(\"jobs.csv\")\n",
    "# change the cols to keep\n",
    "keep_col = ['uuid','person_uuid','org_uuid','org_name','started_on','ended_on','is_current','job_type']\n",
    "df = df[keep_col]"
   ]
  },
  {
   "cell_type": "code",
   "execution_count": 3,
   "metadata": {},
   "outputs": [],
   "source": [
    "df.reset_index(inplace=True)\n",
    "df.drop(axis=1, labels='index', inplace=True)"
   ]
  },
  {
   "cell_type": "code",
   "execution_count": 4,
   "metadata": {},
   "outputs": [],
   "source": [
    "# df.info()"
   ]
  },
  {
   "cell_type": "code",
   "execution_count": 5,
   "metadata": {},
   "outputs": [],
   "source": [
    "# series = df['job_type'].value_counts()\n",
    "# print(series)"
   ]
  },
  {
   "cell_type": "code",
   "execution_count": 6,
   "metadata": {},
   "outputs": [],
   "source": [
    "# one-hot encoder for country_code, stock_exchange_symbol\n",
    "def encoding_jobs(df: pd.DataFrame, col_name: str, num_selected: int) -> pd.DataFrame:\n",
    "    '''\n",
    "    Performs one-hot encoding on a dataframe's column for its values with most occurrences\n",
    "\n",
    "    :param pd.DataFrame df: dataframe to be processed\n",
    "    :param str col_name: name of the encoded column\n",
    "    :param int num_selected: number of values with most occurrences\n",
    "    :return: processed dataframe\n",
    "    :rtype: pd.DataFrame\n",
    "    '''\n",
    "    series = df[col_name].value_counts()\n",
    "    selected_col_name = series.head(num_selected).index.tolist()\n",
    "\n",
    "    for item in selected_col_name:\n",
    "        df[item] = np.where(df[col_name] == item, 1, 0) # whenever df[col_name] == cat replace it with 1 else 0\n",
    "\n",
    "    return df"
   ]
  },
  {
   "cell_type": "code",
   "execution_count": 7,
   "metadata": {},
   "outputs": [],
   "source": [
    "num_job_type = 5 # there are only 4: executive, employee, board_member, advisor, board_observer\n",
    "df = encoding_jobs(df, 'job_type', num_job_type)\n",
    "df.drop(labels='job_type', axis=1, inplace=True)"
   ]
  },
  {
   "cell_type": "code",
   "execution_count": 8,
   "metadata": {},
   "outputs": [
    {
     "output_type": "stream",
     "name": "stdout",
     "text": [
      "<class 'pandas.core.frame.DataFrame'>\nRangeIndex: 1589222 entries, 0 to 1589221\nData columns (total 12 columns):\n #   Column          Non-Null Count    Dtype \n---  ------          --------------    ----- \n 0   uuid            1589222 non-null  object\n 1   person_uuid     1589222 non-null  object\n 2   org_uuid        1589222 non-null  object\n 3   org_name        1589218 non-null  object\n 4   started_on      786367 non-null   object\n 5   ended_on        293932 non-null   object\n 6   is_current      1589222 non-null  bool  \n 7   executive       1589222 non-null  int32 \n 8   employee        1589222 non-null  int32 \n 9   board_member    1589222 non-null  int32 \n 10  advisor         1589222 non-null  int32 \n 11  board_observer  1589222 non-null  int32 \ndtypes: bool(1), int32(5), object(6)\nmemory usage: 104.6+ MB\n"
     ]
    }
   ],
   "source": [
    "df.info()"
   ]
  },
  {
   "cell_type": "code",
   "execution_count": 9,
   "metadata": {},
   "outputs": [],
   "source": [
    "# df"
   ]
  },
  {
   "cell_type": "code",
   "execution_count": 10,
   "metadata": {},
   "outputs": [],
   "source": [
    "# df.to_csv(\"jobs_cleaned.csv\", index=False)\n",
    "df1 = df[0:529741]\n",
    "df2 = df[529741:1059482]\n",
    "df3 = df[1059482:1589222]\n",
    "\n",
    "df1.to_csv(\"jobs_cleaned_1.csv\", index=False)\n",
    "df2.to_csv(\"jobs_cleaned_2.csv\", index=False)\n",
    "df3.to_csv(\"jobs_cleaned_3.csv\", index=False)"
   ]
  },
  {
   "cell_type": "code",
   "execution_count": 11,
   "metadata": {},
   "outputs": [],
   "source": [
    "# df1"
   ]
  },
  {
   "cell_type": "code",
   "execution_count": 12,
   "metadata": {},
   "outputs": [],
   "source": [
    "# df2"
   ]
  },
  {
   "cell_type": "code",
   "execution_count": 13,
   "metadata": {},
   "outputs": [],
   "source": [
    "# df3"
   ]
  }
 ]
}