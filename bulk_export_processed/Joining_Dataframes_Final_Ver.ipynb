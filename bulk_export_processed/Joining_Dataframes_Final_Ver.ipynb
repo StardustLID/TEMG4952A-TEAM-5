{
 "cells": [
  {
   "cell_type": "code",
   "execution_count": 1,
   "metadata": {},
   "outputs": [],
   "source": [
    "# import library\n",
    "import pandas as pd"
   ]
  },
  {
   "cell_type": "markdown",
   "metadata": {},
   "source": [
    "### Preparation of Dataframes"
   ]
  },
  {
   "cell_type": "code",
   "execution_count": 2,
   "metadata": {},
   "outputs": [],
   "source": [
    "org_df = pd.read_csv(\"cleaned_csv/organizations_cleaned.csv\")\n",
    "ppl_df = pd.read_csv(\"people_processed.csv\")"
   ]
  },
  {
   "cell_type": "code",
   "execution_count": 3,
   "metadata": {},
   "outputs": [],
   "source": [
    "acq_df = pd.read_csv(\"acquisitions_processed.csv\")\n",
    "fund_df = pd.read_csv(\"funds_processed.csv\") #investors' investment funds\n",
    "fund_rd_df = pd.read_csv(\"funding_rounds_processed.csv\") # each funding round in the dataset\n",
    "ipo_df = pd.read_csv(\"ipos_processed.csv\") \n",
    "deg_df = pd.read_csv(\"cleaned_csv/degrees_cleaned.csv\") #people's education background\n",
    "cate_gp_df = pd.read_csv(\"category_groups_processed.csv\") #Company name with its group\n",
    "\n",
    "event_app_df = pd.read_csv(\"cleaned_csv/event_appearances_cleaned.csv\") # Event participation details\n",
    "\n",
    "event_df= pd.read_csv(\"events_processed.csv\") #Event details"
   ]
  },
  {
   "cell_type": "code",
   "execution_count": 4,
   "metadata": {},
   "outputs": [
    {
     "output_type": "execute_result",
     "data": {
      "text/plain": [
       "                                       uuid country_code      region  \\\n",
       "0      cf3a40e6-920e-edfd-569e-371f84e0a4e4          USA  California   \n",
       "1      fa65a572-1621-dd22-57a8-92bb49217ac5          GBR     England   \n",
       "2      74a20af3-f4dd-6188-de60-c4ee6cd0ca4a          CHN    Zhejiang   \n",
       "3      f33a3674-ec6b-14ca-16dc-437f280dc10b          USA    Virginia   \n",
       "4      8fa7fd0d-d5cc-425d-52cc-a2019e7d42a3          USA  California   \n",
       "...                                     ...          ...         ...   \n",
       "37193  ea942ecf-e2bf-43ce-9ccf-5e435b702b35          USA        Ohio   \n",
       "37194  1b05416c-7c71-442b-8d1c-a63400279c68          USA  California   \n",
       "37195  90b4a15b-69ed-4ab0-a257-e1e10b39d3c5          CAN     Ontario   \n",
       "37196  a6060229-6086-438e-a5e3-d6580d0105cf          USA    Maryland   \n",
       "37197  5f793be9-3721-4fee-ad70-f6f366b6454a          ITA      Veneto   \n",
       "\n",
       "                city     status  \\\n",
       "0      San Francisco  operating   \n",
       "1             London  operating   \n",
       "2           Hangzhou  operating   \n",
       "3             Reston  operating   \n",
       "4       Santa Monica  operating   \n",
       "...              ...        ...   \n",
       "37193       Delaware  operating   \n",
       "37194       San Jose  operating   \n",
       "37195        Toronto  operating   \n",
       "37196      Baltimore  operating   \n",
       "37197        Vicenza  operating   \n",
       "\n",
       "                                           category_list  \\\n",
       "0      Finance,Financial Services,Health Care,Venture...   \n",
       "1             Financial Services,FinTech,Venture Capital   \n",
       "2      Banking,E-Commerce,Financial Services,FinTech,...   \n",
       "3      E-Commerce,Financial Services,Information Tech...   \n",
       "4         Cyber Security,Developer APIs,FinTech,Software   \n",
       "...                                                  ...   \n",
       "37193                                 Financial Services   \n",
       "37194  Analytics,Artificial Intelligence,Financial Se...   \n",
       "37195        Financial Services,FinTech,Service Industry   \n",
       "37196    Communities,Financial Services,Impact Investing   \n",
       "37197  Blockchain,E-Commerce Platforms,Information Te...   \n",
       "\n",
       "                                    category_groups_list  num_funding_rounds  \\\n",
       "0      Financial Services,Health Care,Lending and Inv...                 NaN   \n",
       "1             Financial Services,Lending and Investments                 NaN   \n",
       "2      Commerce and Shopping,Financial Services,Inter...                 4.0   \n",
       "3      Commerce and Shopping,Financial Services,Infor...                 NaN   \n",
       "4      Financial Services,Information Technology,Priv...                 1.0   \n",
       "...                                                  ...                 ...   \n",
       "37193                                 Financial Services                 NaN   \n",
       "37194  Artificial Intelligence,Data and Analytics,Fin...                 NaN   \n",
       "37195                           Financial Services,Other                 NaN   \n",
       "37196  Community and Lifestyle,Financial Services,Len...                 NaN   \n",
       "37197  Apps,Commerce and Shopping,Information Technol...                 NaN   \n",
       "\n",
       "       total_funding_usd  founded_on last_funding_on closed_on employee_count  \\\n",
       "0                    NaN  2015-01-01             NaN       NaN        101-250   \n",
       "1                    NaN  2018-01-01             NaN       NaN          11-50   \n",
       "2           2.200000e+10  2014-10-01      2018-06-08       NaN     5001-10000   \n",
       "3                    NaN  2015-01-01             NaN       NaN           1-10   \n",
       "4                    NaN  2013-08-20      2014-01-23       NaN           1-10   \n",
       "...                  ...         ...             ...       ...            ...   \n",
       "37193                NaN  2014-01-01             NaN       NaN          11-50   \n",
       "37194                NaN  2016-01-01             NaN       NaN          11-50   \n",
       "37195                NaN  2018-08-12             NaN       NaN          11-50   \n",
       "37196                NaN  2020-01-01             NaN       NaN           1-10   \n",
       "37197                NaN  2018-01-01             NaN       NaN           1-10   \n",
       "\n",
       "      primary_role  num_exits  \n",
       "0         investor       24.0  \n",
       "1         investor       10.0  \n",
       "2          company       12.0  \n",
       "3         investor       19.0  \n",
       "4          company        NaN  \n",
       "...            ...        ...  \n",
       "37193      company        NaN  \n",
       "37194      company        NaN  \n",
       "37195      company        NaN  \n",
       "37196     investor        NaN  \n",
       "37197      company        NaN  \n",
       "\n",
       "[37198 rows x 15 columns]"
      ],
      "text/html": "<div>\n<style scoped>\n    .dataframe tbody tr th:only-of-type {\n        vertical-align: middle;\n    }\n\n    .dataframe tbody tr th {\n        vertical-align: top;\n    }\n\n    .dataframe thead th {\n        text-align: right;\n    }\n</style>\n<table border=\"1\" class=\"dataframe\">\n  <thead>\n    <tr style=\"text-align: right;\">\n      <th></th>\n      <th>uuid</th>\n      <th>country_code</th>\n      <th>region</th>\n      <th>city</th>\n      <th>status</th>\n      <th>category_list</th>\n      <th>category_groups_list</th>\n      <th>num_funding_rounds</th>\n      <th>total_funding_usd</th>\n      <th>founded_on</th>\n      <th>last_funding_on</th>\n      <th>closed_on</th>\n      <th>employee_count</th>\n      <th>primary_role</th>\n      <th>num_exits</th>\n    </tr>\n  </thead>\n  <tbody>\n    <tr>\n      <th>0</th>\n      <td>cf3a40e6-920e-edfd-569e-371f84e0a4e4</td>\n      <td>USA</td>\n      <td>California</td>\n      <td>San Francisco</td>\n      <td>operating</td>\n      <td>Finance,Financial Services,Health Care,Venture...</td>\n      <td>Financial Services,Health Care,Lending and Inv...</td>\n      <td>NaN</td>\n      <td>NaN</td>\n      <td>2015-01-01</td>\n      <td>NaN</td>\n      <td>NaN</td>\n      <td>101-250</td>\n      <td>investor</td>\n      <td>24.0</td>\n    </tr>\n    <tr>\n      <th>1</th>\n      <td>fa65a572-1621-dd22-57a8-92bb49217ac5</td>\n      <td>GBR</td>\n      <td>England</td>\n      <td>London</td>\n      <td>operating</td>\n      <td>Financial Services,FinTech,Venture Capital</td>\n      <td>Financial Services,Lending and Investments</td>\n      <td>NaN</td>\n      <td>NaN</td>\n      <td>2018-01-01</td>\n      <td>NaN</td>\n      <td>NaN</td>\n      <td>11-50</td>\n      <td>investor</td>\n      <td>10.0</td>\n    </tr>\n    <tr>\n      <th>2</th>\n      <td>74a20af3-f4dd-6188-de60-c4ee6cd0ca4a</td>\n      <td>CHN</td>\n      <td>Zhejiang</td>\n      <td>Hangzhou</td>\n      <td>operating</td>\n      <td>Banking,E-Commerce,Financial Services,FinTech,...</td>\n      <td>Commerce and Shopping,Financial Services,Inter...</td>\n      <td>4.0</td>\n      <td>2.200000e+10</td>\n      <td>2014-10-01</td>\n      <td>2018-06-08</td>\n      <td>NaN</td>\n      <td>5001-10000</td>\n      <td>company</td>\n      <td>12.0</td>\n    </tr>\n    <tr>\n      <th>3</th>\n      <td>f33a3674-ec6b-14ca-16dc-437f280dc10b</td>\n      <td>USA</td>\n      <td>Virginia</td>\n      <td>Reston</td>\n      <td>operating</td>\n      <td>E-Commerce,Financial Services,Information Tech...</td>\n      <td>Commerce and Shopping,Financial Services,Infor...</td>\n      <td>NaN</td>\n      <td>NaN</td>\n      <td>2015-01-01</td>\n      <td>NaN</td>\n      <td>NaN</td>\n      <td>1-10</td>\n      <td>investor</td>\n      <td>19.0</td>\n    </tr>\n    <tr>\n      <th>4</th>\n      <td>8fa7fd0d-d5cc-425d-52cc-a2019e7d42a3</td>\n      <td>USA</td>\n      <td>California</td>\n      <td>Santa Monica</td>\n      <td>operating</td>\n      <td>Cyber Security,Developer APIs,FinTech,Software</td>\n      <td>Financial Services,Information Technology,Priv...</td>\n      <td>1.0</td>\n      <td>NaN</td>\n      <td>2013-08-20</td>\n      <td>2014-01-23</td>\n      <td>NaN</td>\n      <td>1-10</td>\n      <td>company</td>\n      <td>NaN</td>\n    </tr>\n    <tr>\n      <th>...</th>\n      <td>...</td>\n      <td>...</td>\n      <td>...</td>\n      <td>...</td>\n      <td>...</td>\n      <td>...</td>\n      <td>...</td>\n      <td>...</td>\n      <td>...</td>\n      <td>...</td>\n      <td>...</td>\n      <td>...</td>\n      <td>...</td>\n      <td>...</td>\n      <td>...</td>\n    </tr>\n    <tr>\n      <th>37193</th>\n      <td>ea942ecf-e2bf-43ce-9ccf-5e435b702b35</td>\n      <td>USA</td>\n      <td>Ohio</td>\n      <td>Delaware</td>\n      <td>operating</td>\n      <td>Financial Services</td>\n      <td>Financial Services</td>\n      <td>NaN</td>\n      <td>NaN</td>\n      <td>2014-01-01</td>\n      <td>NaN</td>\n      <td>NaN</td>\n      <td>11-50</td>\n      <td>company</td>\n      <td>NaN</td>\n    </tr>\n    <tr>\n      <th>37194</th>\n      <td>1b05416c-7c71-442b-8d1c-a63400279c68</td>\n      <td>USA</td>\n      <td>California</td>\n      <td>San Jose</td>\n      <td>operating</td>\n      <td>Analytics,Artificial Intelligence,Financial Se...</td>\n      <td>Artificial Intelligence,Data and Analytics,Fin...</td>\n      <td>NaN</td>\n      <td>NaN</td>\n      <td>2016-01-01</td>\n      <td>NaN</td>\n      <td>NaN</td>\n      <td>11-50</td>\n      <td>company</td>\n      <td>NaN</td>\n    </tr>\n    <tr>\n      <th>37195</th>\n      <td>90b4a15b-69ed-4ab0-a257-e1e10b39d3c5</td>\n      <td>CAN</td>\n      <td>Ontario</td>\n      <td>Toronto</td>\n      <td>operating</td>\n      <td>Financial Services,FinTech,Service Industry</td>\n      <td>Financial Services,Other</td>\n      <td>NaN</td>\n      <td>NaN</td>\n      <td>2018-08-12</td>\n      <td>NaN</td>\n      <td>NaN</td>\n      <td>11-50</td>\n      <td>company</td>\n      <td>NaN</td>\n    </tr>\n    <tr>\n      <th>37196</th>\n      <td>a6060229-6086-438e-a5e3-d6580d0105cf</td>\n      <td>USA</td>\n      <td>Maryland</td>\n      <td>Baltimore</td>\n      <td>operating</td>\n      <td>Communities,Financial Services,Impact Investing</td>\n      <td>Community and Lifestyle,Financial Services,Len...</td>\n      <td>NaN</td>\n      <td>NaN</td>\n      <td>2020-01-01</td>\n      <td>NaN</td>\n      <td>NaN</td>\n      <td>1-10</td>\n      <td>investor</td>\n      <td>NaN</td>\n    </tr>\n    <tr>\n      <th>37197</th>\n      <td>5f793be9-3721-4fee-ad70-f6f366b6454a</td>\n      <td>ITA</td>\n      <td>Veneto</td>\n      <td>Vicenza</td>\n      <td>operating</td>\n      <td>Blockchain,E-Commerce Platforms,Information Te...</td>\n      <td>Apps,Commerce and Shopping,Information Technol...</td>\n      <td>NaN</td>\n      <td>NaN</td>\n      <td>2018-01-01</td>\n      <td>NaN</td>\n      <td>NaN</td>\n      <td>1-10</td>\n      <td>company</td>\n      <td>NaN</td>\n    </tr>\n  </tbody>\n</table>\n<p>37198 rows × 15 columns</p>\n</div>"
     },
     "metadata": {},
     "execution_count": 4
    }
   ],
   "source": [
    "df1 = pd.read_csv(\"cleaned_csv/jobs_cleaned_1.csv\")\n",
    "df2 = pd.read_csv(\"cleaned_csv/jobs_cleaned_2.csv\")\n",
    "df3 = pd.read_csv(\"cleaned_csv/jobs_cleaned_3.csv\")\n",
    "job_df = df1.append(df2)\n",
    "job_df= job_df.append(df3)\n",
    "job_df= job_df.reset_index()\n",
    "job_df= job_df.drop(columns=[\"index\"]) #all job and advisory roles\n",
    "\n",
    "invest_partner_df= pd.read_csv(\"investment_partners_processed.csv\") #Partners who are responsible for their firm's investments\n",
    "investor_df= pd.read_csv(\"investors_processed.csv\") #Active investors \n",
    "org_parent_df= pd.read_csv(\"cleaned_csv/org_parents_cleaned.csv\") #Mapping between parent organizations and subsidiaries\n",
    "\n",
    "#All dataframes are now ready, org_df is the master dataframe\n",
    "org_df"
   ]
  },
  {
   "cell_type": "markdown",
   "metadata": {},
   "source": [
    "### Handling Naming Issues, and dropping some overlapped columns"
   ]
  },
  {
   "cell_type": "code",
   "execution_count": 5,
   "metadata": {},
   "outputs": [],
   "source": [
    "# Some prefixes are needed due to duplicate coulmn names with other csv\n",
    "# Some repeated columns existing info in other dataframes can be deleted\n",
    "\n",
    "acq_df = acq_df.drop(columns=['acquiree_name', 'acquiree_country_code', 'acquiree_region', 'acquiree_city', 'rank'])\n",
    "acq_df = acq_df.add_prefix('acquisitions_')\n",
    "fund_df = fund_df.add_prefix('funds_')\n",
    "ipo_df = ipo_df.add_prefix('ipo_')\n",
    "fund_rd_df = fund_rd_df.drop(columns=['rank'])\n",
    "fund_rd_df = fund_rd_df.add_prefix('fund_rd_')\n",
    "cate_gp_df = cate_gp_df.drop(columns=['name'])\n",
    "cate_gp_df = cate_gp_df.add_prefix('cat_')\n",
    "job_df = job_df.add_prefix('job_')\n",
    "org_parent_df = org_parent_df.add_prefix('parent_org_')\n",
    "\n",
    "laed_investor_df = investor_df.add_prefix('lead_investor_')\n",
    "partner_df = investor_df.add_prefix('partner_')\n",
    "investor_df = investor_df.add_prefix('investor_')\n",
    "event_df = event_df.add_prefix('event_')\n",
    "event_df = event_df.rename(columns={'event_name': 'event_names'})\n",
    "event_app_df = event_app_df.drop(columns=['uuid'])\n",
    "\n",
    "deg_df = deg_df.add_prefix('degree_')\n",
    "ppl_df = ppl_df.add_prefix('personal_')"
   ]
  },
  {
   "cell_type": "markdown",
   "metadata": {},
   "source": [
    "### Firstly, handle investor, partners and fundings. As a partner is also an investor himself, two joinings are needed"
   ]
  },
  {
   "cell_type": "code",
   "execution_count": 6,
   "metadata": {},
   "outputs": [],
   "source": [
    "# Joining Investor and Partners\n",
    "\n",
    "#investor_df = investor_df.drop(columns=['investor_name', 'investor_country_code', 'investor_region', 'investor_city'])\n",
    "\n",
    "invest_join_df = invest_partner_df.set_index('partner_uuid').join(partner_df.set_index('partner_uuid'))\n",
    "invest_join_df = invest_join_df.set_index('investor_uuid').join(investor_df.set_index('investor_uuid'))\n",
    "invest_join_df.drop(columns=['uuid'], inplace = True)"
   ]
  },
  {
   "cell_type": "code",
   "execution_count": 7,
   "metadata": {},
   "outputs": [],
   "source": [
    "# Joining investor and funding rounds\n",
    "fund_rd_df = fund_rd_df.set_index('fund_rd_uuid').join(invest_join_df.set_index('funding_round_uuid'))\n",
    "\n",
    "# Joining lead investor and funding rounds\n",
    "fund_rd_df = laed_investor_df.set_index('lead_investor_uuid').join(fund_rd_df.set_index('fund_rd_lead_investor_uuids'))"
   ]
  },
  {
   "cell_type": "markdown",
   "metadata": {},
   "source": [
    "### Next, we handle the event. Link the event participants to the events"
   ]
  },
  {
   "cell_type": "code",
   "execution_count": 8,
   "metadata": {},
   "outputs": [
    {
     "output_type": "error",
     "ename": "KeyError",
     "evalue": "'participant_type'",
     "traceback": [
      "\u001b[1;31m---------------------------------------------------------------------------\u001b[0m",
      "\u001b[1;31mKeyError\u001b[0m                                  Traceback (most recent call last)",
      "\u001b[1;32m~\\anaconda3\\lib\\site-packages\\pandas\\core\\indexes\\base.py\u001b[0m in \u001b[0;36mget_loc\u001b[1;34m(self, key, method, tolerance)\u001b[0m\n\u001b[0;32m   2645\u001b[0m             \u001b[1;32mtry\u001b[0m\u001b[1;33m:\u001b[0m\u001b[1;33m\u001b[0m\u001b[1;33m\u001b[0m\u001b[0m\n\u001b[1;32m-> 2646\u001b[1;33m                 \u001b[1;32mreturn\u001b[0m \u001b[0mself\u001b[0m\u001b[1;33m.\u001b[0m\u001b[0m_engine\u001b[0m\u001b[1;33m.\u001b[0m\u001b[0mget_loc\u001b[0m\u001b[1;33m(\u001b[0m\u001b[0mkey\u001b[0m\u001b[1;33m)\u001b[0m\u001b[1;33m\u001b[0m\u001b[1;33m\u001b[0m\u001b[0m\n\u001b[0m\u001b[0;32m   2647\u001b[0m             \u001b[1;32mexcept\u001b[0m \u001b[0mKeyError\u001b[0m\u001b[1;33m:\u001b[0m\u001b[1;33m\u001b[0m\u001b[1;33m\u001b[0m\u001b[0m\n",
      "\u001b[1;32mpandas\\_libs\\index.pyx\u001b[0m in \u001b[0;36mpandas._libs.index.IndexEngine.get_loc\u001b[1;34m()\u001b[0m\n",
      "\u001b[1;32mpandas\\_libs\\index.pyx\u001b[0m in \u001b[0;36mpandas._libs.index.IndexEngine.get_loc\u001b[1;34m()\u001b[0m\n",
      "\u001b[1;32mpandas\\_libs\\hashtable_class_helper.pxi\u001b[0m in \u001b[0;36mpandas._libs.hashtable.PyObjectHashTable.get_item\u001b[1;34m()\u001b[0m\n",
      "\u001b[1;32mpandas\\_libs\\hashtable_class_helper.pxi\u001b[0m in \u001b[0;36mpandas._libs.hashtable.PyObjectHashTable.get_item\u001b[1;34m()\u001b[0m\n",
      "\u001b[1;31mKeyError\u001b[0m: 'participant_type'",
      "\nDuring handling of the above exception, another exception occurred:\n",
      "\u001b[1;31mKeyError\u001b[0m                                  Traceback (most recent call last)",
      "\u001b[1;32m<ipython-input-8-7495758fc268>\u001b[0m in \u001b[0;36m<module>\u001b[1;34m\u001b[0m\n\u001b[0;32m      2\u001b[0m \u001b[0mevent_join_df\u001b[0m \u001b[1;33m=\u001b[0m \u001b[0mevent_df\u001b[0m\u001b[1;33m.\u001b[0m\u001b[0mset_index\u001b[0m\u001b[1;33m(\u001b[0m\u001b[1;34m'event_uuid'\u001b[0m\u001b[1;33m)\u001b[0m\u001b[1;33m.\u001b[0m\u001b[0mjoin\u001b[0m\u001b[1;33m(\u001b[0m\u001b[0mevent_app_df\u001b[0m\u001b[1;33m.\u001b[0m\u001b[0mset_index\u001b[0m\u001b[1;33m(\u001b[0m\u001b[1;34m'event_uuid'\u001b[0m\u001b[1;33m)\u001b[0m\u001b[1;33m)\u001b[0m\u001b[1;33m\u001b[0m\u001b[1;33m\u001b[0m\u001b[0m\n\u001b[0;32m      3\u001b[0m \u001b[1;33m\u001b[0m\u001b[0m\n\u001b[1;32m----> 4\u001b[1;33m \u001b[0mpeople_event_df\u001b[0m \u001b[1;33m=\u001b[0m \u001b[0mevent_join_df\u001b[0m\u001b[1;33m.\u001b[0m\u001b[0mloc\u001b[0m\u001b[1;33m[\u001b[0m\u001b[0mevent_join_df\u001b[0m\u001b[1;33m[\u001b[0m\u001b[1;34m'participant_type'\u001b[0m\u001b[1;33m]\u001b[0m \u001b[1;33m==\u001b[0m \u001b[1;34m'person'\u001b[0m\u001b[1;33m]\u001b[0m\u001b[1;33m\u001b[0m\u001b[1;33m\u001b[0m\u001b[0m\n\u001b[0m\u001b[0;32m      5\u001b[0m \u001b[0morg_event_df\u001b[0m \u001b[1;33m=\u001b[0m \u001b[0mevent_join_df\u001b[0m\u001b[1;33m.\u001b[0m\u001b[0mloc\u001b[0m\u001b[1;33m[\u001b[0m\u001b[0mevent_join_df\u001b[0m\u001b[1;33m[\u001b[0m\u001b[1;34m'participant_type'\u001b[0m\u001b[1;33m]\u001b[0m \u001b[1;33m==\u001b[0m \u001b[1;34m'organization'\u001b[0m\u001b[1;33m]\u001b[0m\u001b[1;33m\u001b[0m\u001b[1;33m\u001b[0m\u001b[0m\n",
      "\u001b[1;32m~\\anaconda3\\lib\\site-packages\\pandas\\core\\frame.py\u001b[0m in \u001b[0;36m__getitem__\u001b[1;34m(self, key)\u001b[0m\n\u001b[0;32m   2798\u001b[0m             \u001b[1;32mif\u001b[0m \u001b[0mself\u001b[0m\u001b[1;33m.\u001b[0m\u001b[0mcolumns\u001b[0m\u001b[1;33m.\u001b[0m\u001b[0mnlevels\u001b[0m \u001b[1;33m>\u001b[0m \u001b[1;36m1\u001b[0m\u001b[1;33m:\u001b[0m\u001b[1;33m\u001b[0m\u001b[1;33m\u001b[0m\u001b[0m\n\u001b[0;32m   2799\u001b[0m                 \u001b[1;32mreturn\u001b[0m \u001b[0mself\u001b[0m\u001b[1;33m.\u001b[0m\u001b[0m_getitem_multilevel\u001b[0m\u001b[1;33m(\u001b[0m\u001b[0mkey\u001b[0m\u001b[1;33m)\u001b[0m\u001b[1;33m\u001b[0m\u001b[1;33m\u001b[0m\u001b[0m\n\u001b[1;32m-> 2800\u001b[1;33m             \u001b[0mindexer\u001b[0m \u001b[1;33m=\u001b[0m \u001b[0mself\u001b[0m\u001b[1;33m.\u001b[0m\u001b[0mcolumns\u001b[0m\u001b[1;33m.\u001b[0m\u001b[0mget_loc\u001b[0m\u001b[1;33m(\u001b[0m\u001b[0mkey\u001b[0m\u001b[1;33m)\u001b[0m\u001b[1;33m\u001b[0m\u001b[1;33m\u001b[0m\u001b[0m\n\u001b[0m\u001b[0;32m   2801\u001b[0m             \u001b[1;32mif\u001b[0m \u001b[0mis_integer\u001b[0m\u001b[1;33m(\u001b[0m\u001b[0mindexer\u001b[0m\u001b[1;33m)\u001b[0m\u001b[1;33m:\u001b[0m\u001b[1;33m\u001b[0m\u001b[1;33m\u001b[0m\u001b[0m\n\u001b[0;32m   2802\u001b[0m                 \u001b[0mindexer\u001b[0m \u001b[1;33m=\u001b[0m \u001b[1;33m[\u001b[0m\u001b[0mindexer\u001b[0m\u001b[1;33m]\u001b[0m\u001b[1;33m\u001b[0m\u001b[1;33m\u001b[0m\u001b[0m\n",
      "\u001b[1;32m~\\anaconda3\\lib\\site-packages\\pandas\\core\\indexes\\base.py\u001b[0m in \u001b[0;36mget_loc\u001b[1;34m(self, key, method, tolerance)\u001b[0m\n\u001b[0;32m   2646\u001b[0m                 \u001b[1;32mreturn\u001b[0m \u001b[0mself\u001b[0m\u001b[1;33m.\u001b[0m\u001b[0m_engine\u001b[0m\u001b[1;33m.\u001b[0m\u001b[0mget_loc\u001b[0m\u001b[1;33m(\u001b[0m\u001b[0mkey\u001b[0m\u001b[1;33m)\u001b[0m\u001b[1;33m\u001b[0m\u001b[1;33m\u001b[0m\u001b[0m\n\u001b[0;32m   2647\u001b[0m             \u001b[1;32mexcept\u001b[0m \u001b[0mKeyError\u001b[0m\u001b[1;33m:\u001b[0m\u001b[1;33m\u001b[0m\u001b[1;33m\u001b[0m\u001b[0m\n\u001b[1;32m-> 2648\u001b[1;33m                 \u001b[1;32mreturn\u001b[0m \u001b[0mself\u001b[0m\u001b[1;33m.\u001b[0m\u001b[0m_engine\u001b[0m\u001b[1;33m.\u001b[0m\u001b[0mget_loc\u001b[0m\u001b[1;33m(\u001b[0m\u001b[0mself\u001b[0m\u001b[1;33m.\u001b[0m\u001b[0m_maybe_cast_indexer\u001b[0m\u001b[1;33m(\u001b[0m\u001b[0mkey\u001b[0m\u001b[1;33m)\u001b[0m\u001b[1;33m)\u001b[0m\u001b[1;33m\u001b[0m\u001b[1;33m\u001b[0m\u001b[0m\n\u001b[0m\u001b[0;32m   2649\u001b[0m         \u001b[0mindexer\u001b[0m \u001b[1;33m=\u001b[0m \u001b[0mself\u001b[0m\u001b[1;33m.\u001b[0m\u001b[0mget_indexer\u001b[0m\u001b[1;33m(\u001b[0m\u001b[1;33m[\u001b[0m\u001b[0mkey\u001b[0m\u001b[1;33m]\u001b[0m\u001b[1;33m,\u001b[0m \u001b[0mmethod\u001b[0m\u001b[1;33m=\u001b[0m\u001b[0mmethod\u001b[0m\u001b[1;33m,\u001b[0m \u001b[0mtolerance\u001b[0m\u001b[1;33m=\u001b[0m\u001b[0mtolerance\u001b[0m\u001b[1;33m)\u001b[0m\u001b[1;33m\u001b[0m\u001b[1;33m\u001b[0m\u001b[0m\n\u001b[0;32m   2650\u001b[0m         \u001b[1;32mif\u001b[0m \u001b[0mindexer\u001b[0m\u001b[1;33m.\u001b[0m\u001b[0mndim\u001b[0m \u001b[1;33m>\u001b[0m \u001b[1;36m1\u001b[0m \u001b[1;32mor\u001b[0m \u001b[0mindexer\u001b[0m\u001b[1;33m.\u001b[0m\u001b[0msize\u001b[0m \u001b[1;33m>\u001b[0m \u001b[1;36m1\u001b[0m\u001b[1;33m:\u001b[0m\u001b[1;33m\u001b[0m\u001b[1;33m\u001b[0m\u001b[0m\n",
      "\u001b[1;32mpandas\\_libs\\index.pyx\u001b[0m in \u001b[0;36mpandas._libs.index.IndexEngine.get_loc\u001b[1;34m()\u001b[0m\n",
      "\u001b[1;32mpandas\\_libs\\index.pyx\u001b[0m in \u001b[0;36mpandas._libs.index.IndexEngine.get_loc\u001b[1;34m()\u001b[0m\n",
      "\u001b[1;32mpandas\\_libs\\hashtable_class_helper.pxi\u001b[0m in \u001b[0;36mpandas._libs.hashtable.PyObjectHashTable.get_item\u001b[1;34m()\u001b[0m\n",
      "\u001b[1;32mpandas\\_libs\\hashtable_class_helper.pxi\u001b[0m in \u001b[0;36mpandas._libs.hashtable.PyObjectHashTable.get_item\u001b[1;34m()\u001b[0m\n",
      "\u001b[1;31mKeyError\u001b[0m: 'participant_type'"
     ]
    }
   ],
   "source": [
    "# Joining event and event_app\n",
    "event_join_df = event_df.set_index('event_uuid').join(event_app_df.set_index('event_uuid'))\n",
    "\n",
    "people_event_df = event_join_df.loc[event_join_df['participant_type'] == 'person']\n",
    "org_event_df = event_join_df.loc[event_join_df['participant_type'] == 'organization']"
   ]
  },
  {
   "cell_type": "markdown",
   "metadata": {},
   "source": [
    "### After sorting out all dataframes that are replated to \"people entity\", we are ready to build up a large dataframe that consists of people_uuid as index"
   ]
  },
  {
   "cell_type": "code",
   "execution_count": 9,
   "metadata": {},
   "outputs": [],
   "source": [
    "#Joining People and Degrees\n",
    "ppl_join = ppl_df.set_index('personal_uuid').join(deg_df.set_index('degree_person_uuid'))"
   ]
  },
  {
   "cell_type": "code",
   "execution_count": 10,
   "metadata": {},
   "outputs": [],
   "source": [
    "#Joining People and People Event Participant \n",
    "ppl_join = ppl_join.join(people_event_df.set_index('participant_uuid'))"
   ]
  },
  {
   "cell_type": "code",
   "execution_count": 11,
   "metadata": {},
   "outputs": [],
   "source": [
    "#Add prefix to avoid overlap of column names\n",
    "ppl_join = ppl_join.add_prefix('person_')"
   ]
  },
  {
   "cell_type": "markdown",
   "metadata": {},
   "source": [
    "### Now, it is time to handle organizations, put org_uuid as index"
   ]
  },
  {
   "cell_type": "code",
   "execution_count": 12,
   "metadata": {},
   "outputs": [],
   "source": [
    "#Joining Organizations and IPO\n",
    "org_join = org_df.set_index('uuid').join(ipo_df.set_index('ipo_org_uuid'))"
   ]
  },
  {
   "cell_type": "code",
   "execution_count": 13,
   "metadata": {},
   "outputs": [],
   "source": [
    "#Joining Organizations and funds\n",
    "org_join = org_join.join(fund_df.set_index('funds_entity_uuid'))"
   ]
  },
  {
   "cell_type": "code",
   "execution_count": 14,
   "metadata": {},
   "outputs": [],
   "source": [
    "#Joining Organizations and fund_rounds\n",
    "org_join = org_join.join(fund_rd_df.set_index('fund_rd_org_uuid'))"
   ]
  },
  {
   "cell_type": "code",
   "execution_count": 15,
   "metadata": {},
   "outputs": [],
   "source": [
    "#Joining Organizations and acquisitions\n",
    "org_join = org_join.join(acq_df.set_index('acquisitions_acquiree_uuid'))"
   ]
  },
  {
   "cell_type": "code",
   "execution_count": 16,
   "metadata": {},
   "outputs": [],
   "source": [
    "#Joining Organizations and categories\n",
    "org_join = org_join.join(cate_gp_df.set_index('cat_uuid'))"
   ]
  },
  {
   "cell_type": "code",
   "execution_count": 17,
   "metadata": {},
   "outputs": [],
   "source": [
    "#Joining Organizations and its parents, if any\n",
    "org_join = org_join.join(org_parent_df.set_index('parent_org_uuid'))"
   ]
  },
  {
   "cell_type": "code",
   "execution_count": 18,
   "metadata": {},
   "outputs": [],
   "source": [
    "#Joining Organizations and Organization Event Participant\n",
    "org_join = org_join.join(org_event_df.set_index('participant_uuid'))"
   ]
  },
  {
   "cell_type": "markdown",
   "metadata": {},
   "source": [
    "### Have a look at the current large dataframes and drop some columns (org_join)"
   ]
  },
  {
   "cell_type": "code",
   "execution_count": 19,
   "metadata": {},
   "outputs": [],
   "source": [
    "#Drop away emtpy columns to improve efficiency\n",
    "ppl_join.dropna(how = 'all', axis = 1, inplace = True)\n",
    "#Drop away emtpy columns to improve efficiency\n",
    "org_join.dropna(how = 'all', axis = 1, inplace = True)"
   ]
  },
  {
   "cell_type": "code",
   "execution_count": 20,
   "metadata": {},
   "outputs": [
    {
     "output_type": "stream",
     "name": "stdout",
     "text": [
      "<class 'pandas.core.frame.DataFrame'>\nIndex: 44270 entries, 0001a6ec-e7e9-4d1b-8a77-adb5ac815420 to ffffabce-6d4a-b3d1-13c0-4e90cedf5270\nData columns (total 51 columns):\n #   Column                              Non-Null Count  Dtype  \n---  ------                              --------------  -----  \n 0   country_code                        40589 non-null  object \n 1   region                              40589 non-null  object \n 2   city                                40589 non-null  object \n 3   status                              44270 non-null  object \n 4   category_list                       44270 non-null  object \n 5   category_groups_list                44270 non-null  object \n 6   num_funding_rounds                  15804 non-null  float64\n 7   total_funding_usd                   12362 non-null  float64\n 8   founded_on                          44270 non-null  object \n 9   last_funding_on                     15800 non-null  object \n 10  closed_on                           656 non-null    object \n 11  employee_count                      44270 non-null  object \n 12  primary_role                        44270 non-null  object \n 13  num_exits                           4018 non-null   float64\n 14  ipo_uuid                            449 non-null    object \n 15  ipo_org_name                        449 non-null    object \n 16  ipo_country_code                    449 non-null    object \n 17  ipo_region                          449 non-null    object \n 18  ipo_city                            449 non-null    object \n 19  ipo_stock_exchange_symbol           447 non-null    object \n 20  ipo_stock_symbol                    448 non-null    object \n 21  ipo_went_public_on                  449 non-null    object \n 22  ipo_share_price_usd                 117 non-null    float64\n 23  ipo_valuation_price_usd             90 non-null     float64\n 24  ipo_money_raised_usd                139 non-null    float64\n 25  funds_uuid                          3634 non-null   object \n 26  funds_raised_amount_usd             2795 non-null   float64\n 27  acquisitions_uuid                   1472 non-null   object \n 28  acquisitions_acquirer_uuid          1472 non-null   object \n 29  acquisitions_acquirer_name          1472 non-null   object \n 30  acquisitions_acquirer_country_code  1448 non-null   object \n 31  acquisitions_acquirer_region        1448 non-null   object \n 32  acquisitions_acquirer_city          1448 non-null   object \n 33  acquisitions_acquired_on            1472 non-null   object \n 34  acquisitions_price_usd              211 non-null    float64\n 35  parent_org_rank                     1167 non-null   float64\n 36  parent_org_parent_uuid              1167 non-null   object \n 37  event_names                         10275 non-null  object \n 38  event_rank                          10275 non-null  float64\n 39  event_short_description             10275 non-null  object \n 40  event_started_on                    10275 non-null  object \n 41  event_ended_on                      10275 non-null  object \n 42  event_venue_name                    9782 non-null   object \n 43  event_description                   9033 non-null   object \n 44  event_country_code                  9784 non-null   object \n 45  event_region                        9784 non-null   object \n 46  event_city                          9784 non-null   object \n 47  event_event_roles                   10275 non-null  object \n 48  participant_name                    10275 non-null  object \n 49  participant_type                    10275 non-null  object \n 50  appearance_type                     10275 non-null  object \ndtypes: float64(10), object(41)\nmemory usage: 17.6+ MB\n"
     ]
    }
   ],
   "source": [
    "org_join.info()"
   ]
  },
  {
   "cell_type": "code",
   "execution_count": 21,
   "metadata": {},
   "outputs": [],
   "source": [
    "#Drop away columns that are without any use to improve efficiency\n",
    "org_join = org_join.drop(columns = ['ipo_uuid', 'ipo_org_name', 'funds_uuid', \\\n",
    "                'acquisitions_uuid', 'parent_org_parent_uuid', 'ipo_stock_symbol', 'participant_name','event_venue_name', \\\n",
    "                'event_short_description', 'event_description'])"
   ]
  },
  {
   "cell_type": "markdown",
   "metadata": {},
   "source": [
    "### Finally, it is about the linkage between people and organization, through \"job\""
   ]
  },
  {
   "cell_type": "code",
   "execution_count": 22,
   "metadata": {},
   "outputs": [],
   "source": [
    "#Join Job with People\n",
    "job_join = job_df.set_index('job_person_uuid').join(ppl_join)"
   ]
  },
  {
   "cell_type": "code",
   "execution_count": 23,
   "metadata": {},
   "outputs": [],
   "source": [
    "#Drop away columns that are without any use to improve efficiency\n",
    "job_join = job_join.drop(columns=['job_uuid', 'person_participant_name',\\\n",
    "                                 'person_degree_uuid', 'person_degree_institution_uuid', 'person_event_venue_name',\\\n",
    "                                 'person_event_short_description', 'person_event_description'])\n",
    "job_join = job_join.rename(columns={'job_person_name': 'person_name','person_event_event_roles':'person_event_roles',\\\n",
    "                                   'event_event_roles':'event_roles', 'event_names':'event_name', 'person_event_names': \\\n",
    "                                    'person_event_name', 'job_org_name': 'organization_name'})"
   ]
  },
  {
   "cell_type": "code",
   "execution_count": 24,
   "metadata": {},
   "outputs": [],
   "source": [
    "#Join Organization with Job\n",
    "org_join = org_join.join(job_join.set_index('job_org_uuid'))"
   ]
  },
  {
   "cell_type": "code",
   "execution_count": 25,
   "metadata": {},
   "outputs": [],
   "source": [
    "#Drop away emtpy columns to simplify the final dataframe\n",
    "org_join.dropna(how = 'all', axis = 1, inplace = True)"
   ]
  },
  {
   "cell_type": "markdown",
   "metadata": {},
   "source": [
    "### Final preparation for the overall joint dataframe"
   ]
  },
  {
   "cell_type": "code",
   "execution_count": 26,
   "metadata": {},
   "outputs": [],
   "source": [
    "#Extract the uuid from index and put back into a proper column\n",
    "org_join['uuid'] = org_join.index\n",
    "#Move the uuid column and the organization name column to the front for easier references\n",
    "cols = org_join.columns.tolist()\n",
    "cols = cols[-1:] + cols[42:43] + cols[0:42] + cols[43:-1]\n",
    "org_join = org_join[cols]"
   ]
  },
  {
   "cell_type": "code",
   "execution_count": 27,
   "metadata": {},
   "outputs": [],
   "source": [
    "#Reindex the dataframe so that the index column is not uuid any more, but integer values \"0, 1, 2...\"\n",
    "new_index = []\n",
    "for i in range(len(org_join)):\n",
    "    new_index.append(i)\n",
    "org_join.index = new_index"
   ]
  },
  {
   "cell_type": "markdown",
   "metadata": {},
   "source": [
    "### Have a look at the joint dataframe"
   ]
  },
  {
   "cell_type": "code",
   "execution_count": 28,
   "metadata": {},
   "outputs": [
    {
     "output_type": "stream",
     "name": "stdout",
     "text": [
      "<class 'pandas.core.frame.DataFrame'>\nInt64Index: 359795 entries, 0 to 359794\nData columns (total 73 columns):\n #   Column                                          Non-Null Count   Dtype  \n---  ------                                          --------------   -----  \n 0   uuid                                            359795 non-null  object \n 1   job_started_on                                  214559 non-null  object \n 2   country_code                                    353946 non-null  object \n 3   region                                          353946 non-null  object \n 4   city                                            353946 non-null  object \n 5   status                                          359795 non-null  object \n 6   category_list                                   359795 non-null  object \n 7   category_groups_list                            359795 non-null  object \n 8   num_funding_rounds                              198980 non-null  float64\n 9   total_funding_usd                               179883 non-null  float64\n 10  founded_on                                      359795 non-null  object \n 11  last_funding_on                                 198976 non-null  object \n 12  closed_on                                       4473 non-null    object \n 13  employee_count                                  359795 non-null  object \n 14  primary_role                                    359795 non-null  object \n 15  num_exits                                       122098 non-null  float64\n 16  ipo_country_code                                4844 non-null    object \n 17  ipo_region                                      4844 non-null    object \n 18  ipo_city                                        4844 non-null    object \n 19  ipo_stock_exchange_symbol                       4833 non-null    object \n 20  ipo_went_public_on                              4844 non-null    object \n 21  ipo_share_price_usd                             2829 non-null    float64\n 22  ipo_valuation_price_usd                         2355 non-null    float64\n 23  ipo_money_raised_usd                            1950 non-null    float64\n 24  funds_raised_amount_usd                         85117 non-null   float64\n 25  acquisitions_acquirer_uuid                      14370 non-null   object \n 26  acquisitions_acquirer_name                      14370 non-null   object \n 27  acquisitions_acquirer_country_code              14272 non-null   object \n 28  acquisitions_acquirer_region                    14272 non-null   object \n 29  acquisitions_acquirer_city                      14272 non-null   object \n 30  acquisitions_acquired_on                        14370 non-null   object \n 31  acquisitions_price_usd                          3429 non-null    float64\n 32  parent_org_rank                                 19550 non-null   float64\n 33  event_names                                     242112 non-null  object \n 34  event_rank                                      242112 non-null  float64\n 35  event_started_on                                242112 non-null  object \n 36  event_ended_on                                  242112 non-null  object \n 37  event_country_code                              235878 non-null  object \n 38  event_region                                    235878 non-null  object \n 39  event_city                                      235878 non-null  object \n 40  event_event_roles                               242112 non-null  object \n 41  participant_type                                242112 non-null  object \n 42  appearance_type                                 242112 non-null  object \n 43  organization_name                               342740 non-null  object \n 44  job_ended_on                                    53441 non-null   object \n 45  job_is_current                                  342740 non-null  object \n 46  job_executive                                   342740 non-null  float64\n 47  job_employee                                    342740 non-null  float64\n 48  job_board_member                                342740 non-null  float64\n 49  job_advisor                                     342740 non-null  float64\n 50  job_board_observer                              342740 non-null  float64\n 51  person_personal_name                            337946 non-null  object \n 52  person_personal_gender                          333918 non-null  object \n 53  person_personal_country_code                    288254 non-null  object \n 54  person_personal_region                          270854 non-null  object \n 55  person_personal_city                            265329 non-null  object \n 56  person_personal_featured_job_organization_name  287714 non-null  object \n 57  person_personal_featured_job_title              287707 non-null  object \n 58  person_degree_degree_type                       218229 non-null  object \n 59  person_degree_subject                           208757 non-null  object \n 60  person_degree_started_on                        111944 non-null  object \n 61  person_degree_completed_on                      144738 non-null  object \n 62  person_degree_is_completed                      218229 non-null  object \n 63  person_event_name                               190950 non-null  object \n 64  person_event_rank                               190950 non-null  float64\n 65  person_event_started_on                         190950 non-null  object \n 66  person_event_ended_on                           190950 non-null  object \n 67  person_event_country_code                       185600 non-null  object \n 68  person_event_region                             185600 non-null  object \n 69  person_event_city                               185600 non-null  object \n 70  person_event_roles                              190950 non-null  object \n 71  person_participant_type                         190950 non-null  object \n 72  person_appearance_type                          190950 non-null  object \ndtypes: float64(16), object(57)\nmemory usage: 203.1+ MB\n"
     ]
    }
   ],
   "source": [
    "#Let's see the info of the final DataFrame\n",
    "org_join.info()"
   ]
  },
  {
   "cell_type": "code",
   "execution_count": 29,
   "metadata": {
    "scrolled": true
   },
   "outputs": [
    {
     "output_type": "execute_result",
     "data": {
      "text/plain": [
       "                                        uuid job_started_on country_code  \\\n",
       "0       0001a6ec-e7e9-4d1b-8a77-adb5ac815420            NaN          JPN   \n",
       "1       0001a6ec-e7e9-4d1b-8a77-adb5ac815420            NaN          JPN   \n",
       "2       0001a6ec-e7e9-4d1b-8a77-adb5ac815420            NaN          JPN   \n",
       "3       0001a6ec-e7e9-4d1b-8a77-adb5ac815420            NaN          JPN   \n",
       "4       0003f244-79d0-6178-353e-33dabaf3b2c6     2015-02-01          USA   \n",
       "...                                      ...            ...          ...   \n",
       "359790  ffffabce-6d4a-b3d1-13c0-4e90cedf5270     2017-02-01          USA   \n",
       "359791  ffffabce-6d4a-b3d1-13c0-4e90cedf5270     2017-02-01          USA   \n",
       "359792  ffffabce-6d4a-b3d1-13c0-4e90cedf5270     2015-06-01          USA   \n",
       "359793  ffffabce-6d4a-b3d1-13c0-4e90cedf5270     2015-06-01          USA   \n",
       "359794  ffffabce-6d4a-b3d1-13c0-4e90cedf5270     2016-03-01          USA   \n",
       "\n",
       "            region           city     status  \\\n",
       "0            Tokyo          Tokyo  operating   \n",
       "1            Tokyo          Tokyo  operating   \n",
       "2            Tokyo          Tokyo  operating   \n",
       "3            Tokyo          Tokyo  operating   \n",
       "4       California  San Francisco  operating   \n",
       "...            ...            ...        ...   \n",
       "359790    New York       New York  operating   \n",
       "359791    New York       New York  operating   \n",
       "359792    New York       New York  operating   \n",
       "359793    New York       New York  operating   \n",
       "359794    New York       New York  operating   \n",
       "\n",
       "                                            category_list  \\\n",
       "0                   Finance,Financial Services,Recruiting   \n",
       "1                   Finance,Financial Services,Recruiting   \n",
       "2                   Finance,Financial Services,Recruiting   \n",
       "3                   Finance,Financial Services,Recruiting   \n",
       "4              Finance,Financial Services,Venture Capital   \n",
       "...                                                   ...   \n",
       "359790  Banking,Enterprise Applications,Finance,Financ...   \n",
       "359791  Banking,Enterprise Applications,Finance,Financ...   \n",
       "359792  Banking,Enterprise Applications,Finance,Financ...   \n",
       "359793  Banking,Enterprise Applications,Finance,Financ...   \n",
       "359794  Banking,Enterprise Applications,Finance,Financ...   \n",
       "\n",
       "                                     category_groups_list  num_funding_rounds  \\\n",
       "0                Financial Services,Professional Services                 NaN   \n",
       "1                Financial Services,Professional Services                 NaN   \n",
       "2                Financial Services,Professional Services                 NaN   \n",
       "3                Financial Services,Professional Services                 NaN   \n",
       "4              Financial Services,Lending and Investments                 NaN   \n",
       "...                                                   ...                 ...   \n",
       "359790  Apps,Financial Services,Lending and Investment...                 6.0   \n",
       "359791  Apps,Financial Services,Lending and Investment...                 6.0   \n",
       "359792  Apps,Financial Services,Lending and Investment...                 6.0   \n",
       "359793  Apps,Financial Services,Lending and Investment...                 6.0   \n",
       "359794  Apps,Financial Services,Lending and Investment...                 6.0   \n",
       "\n",
       "        total_funding_usd  ...           person_event_name person_event_rank  \\\n",
       "0                     NaN  ...                         NaN               NaN   \n",
       "1                     NaN  ...                         NaN               NaN   \n",
       "2                     NaN  ...                         NaN               NaN   \n",
       "3                     NaN  ...                         NaN               NaN   \n",
       "4                     NaN  ...  TechCrunch Disrupt SF 2016            2255.0   \n",
       "...                   ...  ...                         ...               ...   \n",
       "359790          1087000.0  ...                         NaN               NaN   \n",
       "359791          1087000.0  ...                         NaN               NaN   \n",
       "359792          1087000.0  ...                         NaN               NaN   \n",
       "359793          1087000.0  ...                         NaN               NaN   \n",
       "359794          1087000.0  ...                         NaN               NaN   \n",
       "\n",
       "       person_event_started_on person_event_ended_on  \\\n",
       "0                          NaN                   NaN   \n",
       "1                          NaN                   NaN   \n",
       "2                          NaN                   NaN   \n",
       "3                          NaN                   NaN   \n",
       "4                    12/9/2016             14/9/2016   \n",
       "...                        ...                   ...   \n",
       "359790                     NaN                   NaN   \n",
       "359791                     NaN                   NaN   \n",
       "359792                     NaN                   NaN   \n",
       "359793                     NaN                   NaN   \n",
       "359794                     NaN                   NaN   \n",
       "\n",
       "       person_event_country_code  person_event_region person_event_city  \\\n",
       "0                            NaN                  NaN               NaN   \n",
       "1                            NaN                  NaN               NaN   \n",
       "2                            NaN                  NaN               NaN   \n",
       "3                            NaN                  NaN               NaN   \n",
       "4                            USA           California     San Francisco   \n",
       "...                          ...                  ...               ...   \n",
       "359790                       NaN                  NaN               NaN   \n",
       "359791                       NaN                  NaN               NaN   \n",
       "359792                       NaN                  NaN               NaN   \n",
       "359793                       NaN                  NaN               NaN   \n",
       "359794                       NaN                  NaN               NaN   \n",
       "\n",
       "                                       person_event_roles  \\\n",
       "0                                                     NaN   \n",
       "1                                                     NaN   \n",
       "2                                                     NaN   \n",
       "3                                                     NaN   \n",
       "4       competition,conference,expo,hackathon,meetup,n...   \n",
       "...                                                   ...   \n",
       "359790                                                NaN   \n",
       "359791                                                NaN   \n",
       "359792                                                NaN   \n",
       "359793                                                NaN   \n",
       "359794                                                NaN   \n",
       "\n",
       "       person_participant_type person_appearance_type  \n",
       "0                          NaN                    NaN  \n",
       "1                          NaN                    NaN  \n",
       "2                          NaN                    NaN  \n",
       "3                          NaN                    NaN  \n",
       "4                       person                speaker  \n",
       "...                        ...                    ...  \n",
       "359790                     NaN                    NaN  \n",
       "359791                     NaN                    NaN  \n",
       "359792                     NaN                    NaN  \n",
       "359793                     NaN                    NaN  \n",
       "359794                     NaN                    NaN  \n",
       "\n",
       "[359795 rows x 73 columns]"
      ],
      "text/html": "<div>\n<style scoped>\n    .dataframe tbody tr th:only-of-type {\n        vertical-align: middle;\n    }\n\n    .dataframe tbody tr th {\n        vertical-align: top;\n    }\n\n    .dataframe thead th {\n        text-align: right;\n    }\n</style>\n<table border=\"1\" class=\"dataframe\">\n  <thead>\n    <tr style=\"text-align: right;\">\n      <th></th>\n      <th>uuid</th>\n      <th>job_started_on</th>\n      <th>country_code</th>\n      <th>region</th>\n      <th>city</th>\n      <th>status</th>\n      <th>category_list</th>\n      <th>category_groups_list</th>\n      <th>num_funding_rounds</th>\n      <th>total_funding_usd</th>\n      <th>...</th>\n      <th>person_event_name</th>\n      <th>person_event_rank</th>\n      <th>person_event_started_on</th>\n      <th>person_event_ended_on</th>\n      <th>person_event_country_code</th>\n      <th>person_event_region</th>\n      <th>person_event_city</th>\n      <th>person_event_roles</th>\n      <th>person_participant_type</th>\n      <th>person_appearance_type</th>\n    </tr>\n  </thead>\n  <tbody>\n    <tr>\n      <th>0</th>\n      <td>0001a6ec-e7e9-4d1b-8a77-adb5ac815420</td>\n      <td>NaN</td>\n      <td>JPN</td>\n      <td>Tokyo</td>\n      <td>Tokyo</td>\n      <td>operating</td>\n      <td>Finance,Financial Services,Recruiting</td>\n      <td>Financial Services,Professional Services</td>\n      <td>NaN</td>\n      <td>NaN</td>\n      <td>...</td>\n      <td>NaN</td>\n      <td>NaN</td>\n      <td>NaN</td>\n      <td>NaN</td>\n      <td>NaN</td>\n      <td>NaN</td>\n      <td>NaN</td>\n      <td>NaN</td>\n      <td>NaN</td>\n      <td>NaN</td>\n    </tr>\n    <tr>\n      <th>1</th>\n      <td>0001a6ec-e7e9-4d1b-8a77-adb5ac815420</td>\n      <td>NaN</td>\n      <td>JPN</td>\n      <td>Tokyo</td>\n      <td>Tokyo</td>\n      <td>operating</td>\n      <td>Finance,Financial Services,Recruiting</td>\n      <td>Financial Services,Professional Services</td>\n      <td>NaN</td>\n      <td>NaN</td>\n      <td>...</td>\n      <td>NaN</td>\n      <td>NaN</td>\n      <td>NaN</td>\n      <td>NaN</td>\n      <td>NaN</td>\n      <td>NaN</td>\n      <td>NaN</td>\n      <td>NaN</td>\n      <td>NaN</td>\n      <td>NaN</td>\n    </tr>\n    <tr>\n      <th>2</th>\n      <td>0001a6ec-e7e9-4d1b-8a77-adb5ac815420</td>\n      <td>NaN</td>\n      <td>JPN</td>\n      <td>Tokyo</td>\n      <td>Tokyo</td>\n      <td>operating</td>\n      <td>Finance,Financial Services,Recruiting</td>\n      <td>Financial Services,Professional Services</td>\n      <td>NaN</td>\n      <td>NaN</td>\n      <td>...</td>\n      <td>NaN</td>\n      <td>NaN</td>\n      <td>NaN</td>\n      <td>NaN</td>\n      <td>NaN</td>\n      <td>NaN</td>\n      <td>NaN</td>\n      <td>NaN</td>\n      <td>NaN</td>\n      <td>NaN</td>\n    </tr>\n    <tr>\n      <th>3</th>\n      <td>0001a6ec-e7e9-4d1b-8a77-adb5ac815420</td>\n      <td>NaN</td>\n      <td>JPN</td>\n      <td>Tokyo</td>\n      <td>Tokyo</td>\n      <td>operating</td>\n      <td>Finance,Financial Services,Recruiting</td>\n      <td>Financial Services,Professional Services</td>\n      <td>NaN</td>\n      <td>NaN</td>\n      <td>...</td>\n      <td>NaN</td>\n      <td>NaN</td>\n      <td>NaN</td>\n      <td>NaN</td>\n      <td>NaN</td>\n      <td>NaN</td>\n      <td>NaN</td>\n      <td>NaN</td>\n      <td>NaN</td>\n      <td>NaN</td>\n    </tr>\n    <tr>\n      <th>4</th>\n      <td>0003f244-79d0-6178-353e-33dabaf3b2c6</td>\n      <td>2015-02-01</td>\n      <td>USA</td>\n      <td>California</td>\n      <td>San Francisco</td>\n      <td>operating</td>\n      <td>Finance,Financial Services,Venture Capital</td>\n      <td>Financial Services,Lending and Investments</td>\n      <td>NaN</td>\n      <td>NaN</td>\n      <td>...</td>\n      <td>TechCrunch Disrupt SF 2016</td>\n      <td>2255.0</td>\n      <td>12/9/2016</td>\n      <td>14/9/2016</td>\n      <td>USA</td>\n      <td>California</td>\n      <td>San Francisco</td>\n      <td>competition,conference,expo,hackathon,meetup,n...</td>\n      <td>person</td>\n      <td>speaker</td>\n    </tr>\n    <tr>\n      <th>...</th>\n      <td>...</td>\n      <td>...</td>\n      <td>...</td>\n      <td>...</td>\n      <td>...</td>\n      <td>...</td>\n      <td>...</td>\n      <td>...</td>\n      <td>...</td>\n      <td>...</td>\n      <td>...</td>\n      <td>...</td>\n      <td>...</td>\n      <td>...</td>\n      <td>...</td>\n      <td>...</td>\n      <td>...</td>\n      <td>...</td>\n      <td>...</td>\n      <td>...</td>\n      <td>...</td>\n    </tr>\n    <tr>\n      <th>359790</th>\n      <td>ffffabce-6d4a-b3d1-13c0-4e90cedf5270</td>\n      <td>2017-02-01</td>\n      <td>USA</td>\n      <td>New York</td>\n      <td>New York</td>\n      <td>operating</td>\n      <td>Banking,Enterprise Applications,Finance,Financ...</td>\n      <td>Apps,Financial Services,Lending and Investment...</td>\n      <td>6.0</td>\n      <td>1087000.0</td>\n      <td>...</td>\n      <td>NaN</td>\n      <td>NaN</td>\n      <td>NaN</td>\n      <td>NaN</td>\n      <td>NaN</td>\n      <td>NaN</td>\n      <td>NaN</td>\n      <td>NaN</td>\n      <td>NaN</td>\n      <td>NaN</td>\n    </tr>\n    <tr>\n      <th>359791</th>\n      <td>ffffabce-6d4a-b3d1-13c0-4e90cedf5270</td>\n      <td>2017-02-01</td>\n      <td>USA</td>\n      <td>New York</td>\n      <td>New York</td>\n      <td>operating</td>\n      <td>Banking,Enterprise Applications,Finance,Financ...</td>\n      <td>Apps,Financial Services,Lending and Investment...</td>\n      <td>6.0</td>\n      <td>1087000.0</td>\n      <td>...</td>\n      <td>NaN</td>\n      <td>NaN</td>\n      <td>NaN</td>\n      <td>NaN</td>\n      <td>NaN</td>\n      <td>NaN</td>\n      <td>NaN</td>\n      <td>NaN</td>\n      <td>NaN</td>\n      <td>NaN</td>\n    </tr>\n    <tr>\n      <th>359792</th>\n      <td>ffffabce-6d4a-b3d1-13c0-4e90cedf5270</td>\n      <td>2015-06-01</td>\n      <td>USA</td>\n      <td>New York</td>\n      <td>New York</td>\n      <td>operating</td>\n      <td>Banking,Enterprise Applications,Finance,Financ...</td>\n      <td>Apps,Financial Services,Lending and Investment...</td>\n      <td>6.0</td>\n      <td>1087000.0</td>\n      <td>...</td>\n      <td>NaN</td>\n      <td>NaN</td>\n      <td>NaN</td>\n      <td>NaN</td>\n      <td>NaN</td>\n      <td>NaN</td>\n      <td>NaN</td>\n      <td>NaN</td>\n      <td>NaN</td>\n      <td>NaN</td>\n    </tr>\n    <tr>\n      <th>359793</th>\n      <td>ffffabce-6d4a-b3d1-13c0-4e90cedf5270</td>\n      <td>2015-06-01</td>\n      <td>USA</td>\n      <td>New York</td>\n      <td>New York</td>\n      <td>operating</td>\n      <td>Banking,Enterprise Applications,Finance,Financ...</td>\n      <td>Apps,Financial Services,Lending and Investment...</td>\n      <td>6.0</td>\n      <td>1087000.0</td>\n      <td>...</td>\n      <td>NaN</td>\n      <td>NaN</td>\n      <td>NaN</td>\n      <td>NaN</td>\n      <td>NaN</td>\n      <td>NaN</td>\n      <td>NaN</td>\n      <td>NaN</td>\n      <td>NaN</td>\n      <td>NaN</td>\n    </tr>\n    <tr>\n      <th>359794</th>\n      <td>ffffabce-6d4a-b3d1-13c0-4e90cedf5270</td>\n      <td>2016-03-01</td>\n      <td>USA</td>\n      <td>New York</td>\n      <td>New York</td>\n      <td>operating</td>\n      <td>Banking,Enterprise Applications,Finance,Financ...</td>\n      <td>Apps,Financial Services,Lending and Investment...</td>\n      <td>6.0</td>\n      <td>1087000.0</td>\n      <td>...</td>\n      <td>NaN</td>\n      <td>NaN</td>\n      <td>NaN</td>\n      <td>NaN</td>\n      <td>NaN</td>\n      <td>NaN</td>\n      <td>NaN</td>\n      <td>NaN</td>\n      <td>NaN</td>\n      <td>NaN</td>\n    </tr>\n  </tbody>\n</table>\n<p>359795 rows × 73 columns</p>\n</div>"
     },
     "metadata": {},
     "execution_count": 29
    }
   ],
   "source": [
    "#The final DataFrame\n",
    "org_join"
   ]
  },
  {
   "cell_type": "code",
   "execution_count": 30,
   "metadata": {},
   "outputs": [
    {
     "output_type": "execute_result",
     "data": {
      "text/plain": [
       "\"\\n#Export out as CSV, the file is about 216MB\\norg_join.to_csv('org_final_joined.csv')\\n\""
      ]
     },
     "metadata": {},
     "execution_count": 30
    }
   ],
   "source": [
    "\"\"\"\n",
    "#Export out as CSV, the file is about 216MB\n",
    "org_join.to_csv('org_final_joined.csv')\n",
    "\"\"\""
   ]
  },
  {
   "cell_type": "code",
   "execution_count": 31,
   "metadata": {},
   "outputs": [
    {
     "output_type": "execute_result",
     "data": {
      "text/plain": [
       "'\\n# (Primary for W2) Problem 5: Now, all data are raw, many NaN data and are unprocessed, we have to preprocess all the data here at once\\n#            Also, we have to extract those that are within 5 years and fintech field to be our target data.\\n'"
      ]
     },
     "metadata": {},
     "execution_count": 31
    }
   ],
   "source": [
    "\"\"\"\n",
    "# (Primary for W2) Problem 1: Is the following items the same as organization itself? Can we come up a way to check? If yes, we can drop all duplications to simplify our df\n",
    "\n",
    "# e.g.\n",
    "#'ipo_country',vs 'fund_rd_country', vs 'country_code'\n",
    "#'ipo_region', vs 'fund_rd_region', vs 'state_code'\n",
    "#'ipo_city', vs 'fund_rd_city', vs 'city'\n",
    "#'person_personal_rank', vs 'personal_event_rank'\n",
    "#'total_funding_usd', vs 'total_funding', vs 'funds_raised_amount_usd' \n",
    "#'category_list', vs 'category_groups_list' (what should we use eaxctly......)\n",
    "\"\"\"\n",
    "\"\"\"\n",
    "# (TBC) Problem 2: There are multiple rows for some organization eitites, due to their multiple funding rounds, or multiple people, etc.\n",
    "#            I plan to keep here first, but we may have to come up with a way to handle this situation\n",
    "\"\"\"\n",
    "\"\"\"\n",
    "# (TBC) Problem 3: The dataframe consists of a column 'Acquirer'. I chose to join using acquiriee id instead of acquirier id,\n",
    "#            due to the intuition that venture companies are more likely to be acquired than to acquire others;\n",
    "#            However, may need to find a way to handle the situation if there is really a startup acquiring others\n",
    "\"\"\"\n",
    "\"\"\"\n",
    "# (TBC) Problem 4: If a startup company has a parent company, do we also need the information of its parent company in\n",
    "#            our dataframes. My answer is yes and know, coz not sure how much could its parent company affect it;\n",
    "#            however, after all we value a startup company all by itself. If we have to incorporate its parents' data,\n",
    "#            how do we valuate its parents? We may have to build up another dataframe, or else it would be too large. \n",
    "#            Also, if its parent is an acquirer, the situation will be much more complex.\n",
    "\"\"\"\n",
    "\"\"\"\n",
    "# (Primary for W2) Problem 5: Now, all data are raw, many NaN data and are unprocessed, we have to preprocess all the data here at once\n",
    "#            Also, we have to extract those that are within 5 years and fintech field to be our target data.\n",
    "\"\"\""
   ]
  }
 ],
 "metadata": {
  "kernelspec": {
   "display_name": "Python 3",
   "language": "python",
   "name": "python3"
  },
  "language_info": {
   "codemirror_mode": {
    "name": "ipython",
    "version": 3
   },
   "file_extension": ".py",
   "mimetype": "text/x-python",
   "name": "python",
   "nbconvert_exporter": "python",
   "pygments_lexer": "ipython3",
   "version": "3.8.3-final"
  }
 },
 "nbformat": 4,
 "nbformat_minor": 2
}