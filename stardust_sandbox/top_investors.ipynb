{
 "metadata": {
  "language_info": {
   "codemirror_mode": {
    "name": "ipython",
    "version": 3
   },
   "file_extension": ".py",
   "mimetype": "text/x-python",
   "name": "python",
   "nbconvert_exporter": "python",
   "pygments_lexer": "ipython3",
   "version": "3.8.3-final"
  },
  "orig_nbformat": 2,
  "kernelspec": {
   "name": "python3",
   "display_name": "Python 3",
   "language": "python"
  }
 },
 "nbformat": 4,
 "nbformat_minor": 2,
 "cells": [
  {
   "cell_type": "code",
   "execution_count": 1,
   "metadata": {},
   "outputs": [],
   "source": [
    "# import library\n",
    "import pandas as pd"
   ]
  },
  {
   "cell_type": "code",
   "execution_count": 2,
   "metadata": {},
   "outputs": [],
   "source": [
    "# read the CSV\n",
    "df = pd.read_csv(\"../bulk_export_processed/investors_processed.csv\")\n",
    "# change the cols to keep\n",
    "keep_col = ['uuid','name','investment_count','founded_on','closed_on']\n",
    "df = df[keep_col]"
   ]
  },
  {
   "cell_type": "code",
   "execution_count": 3,
   "metadata": {},
   "outputs": [],
   "source": [
    "df.dropna(axis=0, how='any', subset=['investment_count'], inplace=True)"
   ]
  },
  {
   "cell_type": "code",
   "execution_count": 4,
   "metadata": {},
   "outputs": [],
   "source": [
    "df.drop(df[df['investment_count'] < 100].index, inplace=True)"
   ]
  },
  {
   "cell_type": "code",
   "execution_count": 5,
   "metadata": {},
   "outputs": [],
   "source": [
    "df['investment_count'] = df['investment_count'].astype(int)"
   ]
  },
  {
   "cell_type": "code",
   "execution_count": 6,
   "metadata": {},
   "outputs": [],
   "source": [
    "df.sort_values(by='investment_count', axis=0, ascending=False, inplace=True)"
   ]
  },
  {
   "cell_type": "code",
   "execution_count": 7,
   "metadata": {},
   "outputs": [],
   "source": [
    "df.reset_index(inplace=True)\n",
    "df.drop(axis=1, labels='index', inplace=True)"
   ]
  },
  {
   "cell_type": "code",
   "execution_count": 10,
   "metadata": {},
   "outputs": [
    {
     "output_type": "execute_result",
     "data": {
      "text/plain": [
       "                                    name  investment_count\n",
       "0   EASME - EU Executive Agency for SMEs              3715\n",
       "1                           Y Combinator              3272\n",
       "2                              Techstars              3093\n",
       "3                           500 Startups              2427\n",
       "4              New Enterprise Associates              1874\n",
       "5                                   SOSV              1830\n",
       "6                                  Accel              1499\n",
       "7                        Sequoia Capital              1427\n",
       "8                          Intel Capital              1418\n",
       "9                          MassChallenge              1342\n",
       "10                           IDG Capital              1238\n",
       "11                          Venture Kick              1231\n",
       "12                       Kleiner Perkins              1213\n",
       "13                                 Wayra              1158\n",
       "14                             Crowdcube              1133\n",
       "15                         plug and play              1072\n",
       "16             Bessemer Venture Partners              1010\n",
       "17                               NYSERDA              1004\n",
       "18                              SV Angel               932\n",
       "19         Right Side Capital Management               914"
      ],
      "text/html": "<div>\n<style scoped>\n    .dataframe tbody tr th:only-of-type {\n        vertical-align: middle;\n    }\n\n    .dataframe tbody tr th {\n        vertical-align: top;\n    }\n\n    .dataframe thead th {\n        text-align: right;\n    }\n</style>\n<table border=\"1\" class=\"dataframe\">\n  <thead>\n    <tr style=\"text-align: right;\">\n      <th></th>\n      <th>name</th>\n      <th>investment_count</th>\n    </tr>\n  </thead>\n  <tbody>\n    <tr>\n      <th>0</th>\n      <td>EASME - EU Executive Agency for SMEs</td>\n      <td>3715</td>\n    </tr>\n    <tr>\n      <th>1</th>\n      <td>Y Combinator</td>\n      <td>3272</td>\n    </tr>\n    <tr>\n      <th>2</th>\n      <td>Techstars</td>\n      <td>3093</td>\n    </tr>\n    <tr>\n      <th>3</th>\n      <td>500 Startups</td>\n      <td>2427</td>\n    </tr>\n    <tr>\n      <th>4</th>\n      <td>New Enterprise Associates</td>\n      <td>1874</td>\n    </tr>\n    <tr>\n      <th>5</th>\n      <td>SOSV</td>\n      <td>1830</td>\n    </tr>\n    <tr>\n      <th>6</th>\n      <td>Accel</td>\n      <td>1499</td>\n    </tr>\n    <tr>\n      <th>7</th>\n      <td>Sequoia Capital</td>\n      <td>1427</td>\n    </tr>\n    <tr>\n      <th>8</th>\n      <td>Intel Capital</td>\n      <td>1418</td>\n    </tr>\n    <tr>\n      <th>9</th>\n      <td>MassChallenge</td>\n      <td>1342</td>\n    </tr>\n    <tr>\n      <th>10</th>\n      <td>IDG Capital</td>\n      <td>1238</td>\n    </tr>\n    <tr>\n      <th>11</th>\n      <td>Venture Kick</td>\n      <td>1231</td>\n    </tr>\n    <tr>\n      <th>12</th>\n      <td>Kleiner Perkins</td>\n      <td>1213</td>\n    </tr>\n    <tr>\n      <th>13</th>\n      <td>Wayra</td>\n      <td>1158</td>\n    </tr>\n    <tr>\n      <th>14</th>\n      <td>Crowdcube</td>\n      <td>1133</td>\n    </tr>\n    <tr>\n      <th>15</th>\n      <td>plug and play</td>\n      <td>1072</td>\n    </tr>\n    <tr>\n      <th>16</th>\n      <td>Bessemer Venture Partners</td>\n      <td>1010</td>\n    </tr>\n    <tr>\n      <th>17</th>\n      <td>NYSERDA</td>\n      <td>1004</td>\n    </tr>\n    <tr>\n      <th>18</th>\n      <td>SV Angel</td>\n      <td>932</td>\n    </tr>\n    <tr>\n      <th>19</th>\n      <td>Right Side Capital Management</td>\n      <td>914</td>\n    </tr>\n  </tbody>\n</table>\n</div>"
     },
     "metadata": {},
     "execution_count": 10
    }
   ],
   "source": [
    "frontend_output = df[['name','investment_count']].head(20)\n",
    "frontend_output"
   ]
  },
  {
   "cell_type": "code",
   "execution_count": 11,
   "metadata": {},
   "outputs": [],
   "source": [
    "# frontend_output.to_csv(\"top_20_investors.csv\", index=False)"
   ]
  },
  {
   "cell_type": "code",
   "execution_count": 8,
   "metadata": {},
   "outputs": [],
   "source": [
    "# df.to_csv(\"top_20_investors.csv\", index=False)"
   ]
  }
 ]
}