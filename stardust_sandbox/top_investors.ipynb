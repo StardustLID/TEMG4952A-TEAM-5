{
 "metadata": {
  "language_info": {
   "codemirror_mode": {
    "name": "ipython",
    "version": 3
   },
   "file_extension": ".py",
   "mimetype": "text/x-python",
   "name": "python",
   "nbconvert_exporter": "python",
   "pygments_lexer": "ipython3",
   "version": "3.8.3-final"
  },
  "orig_nbformat": 2,
  "kernelspec": {
   "name": "python3",
   "display_name": "Python 3",
   "language": "python"
  }
 },
 "nbformat": 4,
 "nbformat_minor": 2,
 "cells": [
  {
   "cell_type": "code",
   "execution_count": 1,
   "metadata": {},
   "outputs": [],
   "source": [
    "# import library\n",
    "import pandas as pd"
   ]
  },
  {
   "cell_type": "code",
   "execution_count": 2,
   "metadata": {},
   "outputs": [],
   "source": [
    "# read the CSV\n",
    "df = pd.read_csv(\"../bulk_export_processed/investors_processed.csv\")\n",
    "# change the cols to keep\n",
    "keep_col = ['uuid','name','investment_count','founded_on','closed_on']\n",
    "df = df[keep_col]"
   ]
  },
  {
   "cell_type": "code",
   "execution_count": 3,
   "metadata": {},
   "outputs": [],
   "source": [
    "df.dropna(axis=0, how='any', subset=['investment_count'], inplace=True)"
   ]
  },
  {
   "cell_type": "code",
   "execution_count": 4,
   "metadata": {},
   "outputs": [],
   "source": [
    "df.drop(df[df['investment_count'] < 100].index, inplace=True)"
   ]
  },
  {
   "cell_type": "code",
   "execution_count": 5,
   "metadata": {},
   "outputs": [],
   "source": [
    "df['investment_count'] = df['investment_count'].astype(int)"
   ]
  },
  {
   "cell_type": "code",
   "execution_count": 6,
   "metadata": {},
   "outputs": [],
   "source": [
    "df.sort_values(by='investment_count', axis=0, ascending=False, inplace=True)"
   ]
  },
  {
   "cell_type": "code",
   "execution_count": 7,
   "metadata": {},
   "outputs": [],
   "source": [
    "df.reset_index(inplace=True)\n",
    "df.drop(axis=1, labels='index', inplace=True)"
   ]
  },
  {
   "cell_type": "code",
   "execution_count": 11,
   "metadata": {},
   "outputs": [
    {
     "output_type": "execute_result",
     "data": {
      "text/plain": [
       "763"
      ]
     },
     "metadata": {},
     "execution_count": 11
    }
   ],
   "source": [
    "len(df)"
   ]
  },
  {
   "cell_type": "code",
   "execution_count": 13,
   "metadata": {},
   "outputs": [
    {
     "output_type": "execute_result",
     "data": {
      "text/plain": [
       "                                    uuid  investment_count\n",
       "0   1d0c86bf-c986-6b40-d757-4d97cdd5d877              3715\n",
       "1   73633ee4-ea65-2967-6c5d-9b5fec7d2d5e              3272\n",
       "2   3718597a-dd39-6661-3630-09cdd43bcac2              3093\n",
       "3   56e40f50-97c7-2a77-255d-1d97d5f30646              2427\n",
       "4   47b84763-9727-7cdf-b194-2742e3963147              1874\n",
       "..                                   ...               ...\n",
       "95  7475db43-36a9-414d-f7a9-b92b78bae47b               402\n",
       "96  9db0b6bb-4b28-fa20-e2df-e2af6ebd3a3d               395\n",
       "97  36feed26-9375-138b-3eef-e1e00faa858f               394\n",
       "98  506b68d7-61d1-b593-0a0d-518cfa5ff5f3               393\n",
       "99  18019029-7c3e-8476-c4f3-9216298db9e1               393\n",
       "\n",
       "[100 rows x 2 columns]"
      ],
      "text/html": "<div>\n<style scoped>\n    .dataframe tbody tr th:only-of-type {\n        vertical-align: middle;\n    }\n\n    .dataframe tbody tr th {\n        vertical-align: top;\n    }\n\n    .dataframe thead th {\n        text-align: right;\n    }\n</style>\n<table border=\"1\" class=\"dataframe\">\n  <thead>\n    <tr style=\"text-align: right;\">\n      <th></th>\n      <th>uuid</th>\n      <th>investment_count</th>\n    </tr>\n  </thead>\n  <tbody>\n    <tr>\n      <th>0</th>\n      <td>1d0c86bf-c986-6b40-d757-4d97cdd5d877</td>\n      <td>3715</td>\n    </tr>\n    <tr>\n      <th>1</th>\n      <td>73633ee4-ea65-2967-6c5d-9b5fec7d2d5e</td>\n      <td>3272</td>\n    </tr>\n    <tr>\n      <th>2</th>\n      <td>3718597a-dd39-6661-3630-09cdd43bcac2</td>\n      <td>3093</td>\n    </tr>\n    <tr>\n      <th>3</th>\n      <td>56e40f50-97c7-2a77-255d-1d97d5f30646</td>\n      <td>2427</td>\n    </tr>\n    <tr>\n      <th>4</th>\n      <td>47b84763-9727-7cdf-b194-2742e3963147</td>\n      <td>1874</td>\n    </tr>\n    <tr>\n      <th>...</th>\n      <td>...</td>\n      <td>...</td>\n    </tr>\n    <tr>\n      <th>95</th>\n      <td>7475db43-36a9-414d-f7a9-b92b78bae47b</td>\n      <td>402</td>\n    </tr>\n    <tr>\n      <th>96</th>\n      <td>9db0b6bb-4b28-fa20-e2df-e2af6ebd3a3d</td>\n      <td>395</td>\n    </tr>\n    <tr>\n      <th>97</th>\n      <td>36feed26-9375-138b-3eef-e1e00faa858f</td>\n      <td>394</td>\n    </tr>\n    <tr>\n      <th>98</th>\n      <td>506b68d7-61d1-b593-0a0d-518cfa5ff5f3</td>\n      <td>393</td>\n    </tr>\n    <tr>\n      <th>99</th>\n      <td>18019029-7c3e-8476-c4f3-9216298db9e1</td>\n      <td>393</td>\n    </tr>\n  </tbody>\n</table>\n<p>100 rows × 2 columns</p>\n</div>"
     },
     "metadata": {},
     "execution_count": 13
    }
   ],
   "source": [
    "frontend_output = df[['name','investment_count']].head(20)\n",
    "frontend_output"
   ]
  },
  {
   "cell_type": "code",
   "execution_count": 14,
   "metadata": {},
   "outputs": [
    {
     "output_type": "execute_result",
     "data": {
      "text/plain": [
       "                                    uuid\n",
       "0   1d0c86bf-c986-6b40-d757-4d97cdd5d877\n",
       "1   73633ee4-ea65-2967-6c5d-9b5fec7d2d5e\n",
       "2   3718597a-dd39-6661-3630-09cdd43bcac2\n",
       "3   56e40f50-97c7-2a77-255d-1d97d5f30646\n",
       "4   47b84763-9727-7cdf-b194-2742e3963147\n",
       "..                                   ...\n",
       "95  7475db43-36a9-414d-f7a9-b92b78bae47b\n",
       "96  9db0b6bb-4b28-fa20-e2df-e2af6ebd3a3d\n",
       "97  36feed26-9375-138b-3eef-e1e00faa858f\n",
       "98  506b68d7-61d1-b593-0a0d-518cfa5ff5f3\n",
       "99  18019029-7c3e-8476-c4f3-9216298db9e1\n",
       "\n",
       "[100 rows x 1 columns]"
      ],
      "text/html": "<div>\n<style scoped>\n    .dataframe tbody tr th:only-of-type {\n        vertical-align: middle;\n    }\n\n    .dataframe tbody tr th {\n        vertical-align: top;\n    }\n\n    .dataframe thead th {\n        text-align: right;\n    }\n</style>\n<table border=\"1\" class=\"dataframe\">\n  <thead>\n    <tr style=\"text-align: right;\">\n      <th></th>\n      <th>uuid</th>\n    </tr>\n  </thead>\n  <tbody>\n    <tr>\n      <th>0</th>\n      <td>1d0c86bf-c986-6b40-d757-4d97cdd5d877</td>\n    </tr>\n    <tr>\n      <th>1</th>\n      <td>73633ee4-ea65-2967-6c5d-9b5fec7d2d5e</td>\n    </tr>\n    <tr>\n      <th>2</th>\n      <td>3718597a-dd39-6661-3630-09cdd43bcac2</td>\n    </tr>\n    <tr>\n      <th>3</th>\n      <td>56e40f50-97c7-2a77-255d-1d97d5f30646</td>\n    </tr>\n    <tr>\n      <th>4</th>\n      <td>47b84763-9727-7cdf-b194-2742e3963147</td>\n    </tr>\n    <tr>\n      <th>...</th>\n      <td>...</td>\n    </tr>\n    <tr>\n      <th>95</th>\n      <td>7475db43-36a9-414d-f7a9-b92b78bae47b</td>\n    </tr>\n    <tr>\n      <th>96</th>\n      <td>9db0b6bb-4b28-fa20-e2df-e2af6ebd3a3d</td>\n    </tr>\n    <tr>\n      <th>97</th>\n      <td>36feed26-9375-138b-3eef-e1e00faa858f</td>\n    </tr>\n    <tr>\n      <th>98</th>\n      <td>506b68d7-61d1-b593-0a0d-518cfa5ff5f3</td>\n    </tr>\n    <tr>\n      <th>99</th>\n      <td>18019029-7c3e-8476-c4f3-9216298db9e1</td>\n    </tr>\n  </tbody>\n</table>\n<p>100 rows × 1 columns</p>\n</div>"
     },
     "metadata": {},
     "execution_count": 14
    }
   ],
   "source": [
    "backend_top_investors = df[['uuid']].head(100)\n",
    "backend_top_investors"
   ]
  },
  {
   "cell_type": "code",
   "execution_count": 15,
   "metadata": {},
   "outputs": [],
   "source": [
    "# backend_top_investors.to_csv(\"top_100_investors.csv\", index=False)"
   ]
  },
  {
   "cell_type": "code",
   "execution_count": 9,
   "metadata": {},
   "outputs": [],
   "source": [
    "# frontend_output.to_csv(\"top_100_investors.csv\", index=False)"
   ]
  },
  {
   "cell_type": "code",
   "execution_count": 10,
   "metadata": {},
   "outputs": [],
   "source": [
    "# df.to_csv(\"top_20_investors.csv\", index=False)"
   ]
  }
 ]
}