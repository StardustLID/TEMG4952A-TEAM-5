{
 "metadata": {
  "language_info": {
   "codemirror_mode": {
    "name": "ipython",
    "version": 3
   },
   "file_extension": ".py",
   "mimetype": "text/x-python",
   "name": "python",
   "nbconvert_exporter": "python",
   "pygments_lexer": "ipython3",
   "version": "3.8.3-final"
  },
  "orig_nbformat": 2,
  "kernelspec": {
   "name": "python3",
   "display_name": "Python 3",
   "language": "python"
  }
 },
 "nbformat": 4,
 "nbformat_minor": 2,
 "cells": [
  {
   "source": [
    "Sample code for finding ROI (% change of two latest successive funding rounds / time difference).<br>\n",
    "Put `funding_rounds.csv` here."
   ],
   "cell_type": "markdown",
   "metadata": {}
  },
  {
   "cell_type": "code",
   "execution_count": 1,
   "metadata": {},
   "outputs": [],
   "source": [
    "# import library\n",
    "import pandas as pd\n",
    "import numpy as np\n",
    "from collections import Counter\n",
    "# pd.set_option('display.max_columns', None)\n",
    "# pd.set_option('display.max_rows', None)"
   ]
  },
  {
   "cell_type": "code",
   "execution_count": 2,
   "metadata": {},
   "outputs": [],
   "source": [
    "# Stardust ver unique keyword search\n",
    "def unique_keyword_search(df_col: pd.Series, num_selected: int) -> list:\n",
    "    '''\n",
    "    Performs unique keyword search on a dataframe's column for its most common keywords\n",
    "\n",
    "    :param pd.Series df_col: column of a pd.DataFrame (e.g. df['col'])\n",
    "    :param int num_selected: number of keywords\n",
    "    :return: list of keywords in decreasing occurrence\n",
    "    :rtype: list\n",
    "    '''\n",
    "    keywords = []\n",
    "    for entry in df_col:\n",
    "        words = entry.split(',')\n",
    "        [keywords.append(word) for word in words]\n",
    "    sorted_keywords = Counter(keywords).most_common()\n",
    "    output_keywords = []\n",
    "    for i in range(num_selected):\n",
    "        output_keywords.append(sorted_keywords[i][0])\n",
    "    return output_keywords"
   ]
  },
  {
   "cell_type": "code",
   "execution_count": 3,
   "metadata": {},
   "outputs": [],
   "source": [
    "# Stardust ver one-hot encoder V2\n",
    "def onehot_encoder_v2(df: pd.DataFrame, col_name: str, list_selected: list) -> pd.DataFrame:\n",
    "    '''\n",
    "    Performs one-hot encoding on a dataframe's column for its values with most occurrences\n",
    "\n",
    "    :param pd.DataFrame df: dataframe to be processed\n",
    "    :param str col_name: name of the encoded column\n",
    "    :param list list_selected: list of most common values\n",
    "    :return: processed dataframe\n",
    "    :rtype: pd.DataFrame\n",
    "    '''\n",
    "    for item in list_selected:\n",
    "        df[item] = np.where(df[col_name] == item, 1, 0) # whenever df[col_name] == cat replace it with 1 else 0\n",
    "    df.drop(col_name, axis=1, inplace=True)\n",
    "\n",
    "    return df"
   ]
  },
  {
   "cell_type": "code",
   "execution_count": 4,
   "metadata": {},
   "outputs": [],
   "source": [
    "# read the CSV\n",
    "df = pd.read_csv(\"../bulk_export_processed/cleaned_csv/funding_rounds_cleaned.csv\")\n",
    "# change the cols to keep\n",
    "keep_col = ['investment_type','raised_amount_usd','org_uuid'] # cols for illustration purpose only. choose more for real model\n",
    "df = df[keep_col]"
   ]
  },
  {
   "cell_type": "code",
   "execution_count": 5,
   "metadata": {},
   "outputs": [],
   "source": [
    "df.dropna(inplace=True)\n",
    "df.drop(df[df['investment_type'] == 'series_unknown'].index, inplace=True)"
   ]
  },
  {
   "cell_type": "code",
   "execution_count": 6,
   "metadata": {},
   "outputs": [],
   "source": [
    "# investment_types = unique_keyword_search(df['investment_type'], 10)\n",
    "# investment_types"
   ]
  },
  {
   "cell_type": "code",
   "execution_count": 7,
   "metadata": {},
   "outputs": [
    {
     "output_type": "execute_result",
     "data": {
      "text/plain": [
       "      investment_type  raised_amount_usd                              org_uuid\n",
       "1730      undisclosed       1.000000e+03  3cfa161b-4631-806a-aaf5-8e5523aaf4b4\n",
       "5292             seed       1.581000e+03  6ee821a7-86ea-cf8e-43e0-773f4bf47417\n",
       "5665             seed       3.621000e+03  70152a85-1327-ac78-db60-9e3b87efcbd8\n",
       "5169             seed       5.000000e+03  9eebfab0-a43a-f4fe-a1f0-1e71c5a4c024\n",
       "4816             seed       5.001000e+03  863960cb-075e-1964-78cb-3e8d52c15a93\n",
       "...               ...                ...                                   ...\n",
       "719          series_d       3.000000e+08  ba83ed1d-efd1-8e9c-910b-aca4c13f81b2\n",
       "5515   private_equity       3.497873e+08  7c323af1-1f0e-5b14-523a-16197b759aa8\n",
       "4863   private_equity       4.300000e+08  c7420cf5-8369-0c9f-1483-c111c04fa1c7\n",
       "5755   debt_financing       4.650000e+08  a367b036-5952-5435-7541-ad7ee8869e24\n",
       "2970  corporate_round       1.000000e+09  0cf83157-f7f1-fd5a-148d-a57060f22e5d\n",
       "\n",
       "[4613 rows x 3 columns]"
      ],
      "text/html": "<div>\n<style scoped>\n    .dataframe tbody tr th:only-of-type {\n        vertical-align: middle;\n    }\n\n    .dataframe tbody tr th {\n        vertical-align: top;\n    }\n\n    .dataframe thead th {\n        text-align: right;\n    }\n</style>\n<table border=\"1\" class=\"dataframe\">\n  <thead>\n    <tr style=\"text-align: right;\">\n      <th></th>\n      <th>investment_type</th>\n      <th>raised_amount_usd</th>\n      <th>org_uuid</th>\n    </tr>\n  </thead>\n  <tbody>\n    <tr>\n      <th>1730</th>\n      <td>undisclosed</td>\n      <td>1.000000e+03</td>\n      <td>3cfa161b-4631-806a-aaf5-8e5523aaf4b4</td>\n    </tr>\n    <tr>\n      <th>5292</th>\n      <td>seed</td>\n      <td>1.581000e+03</td>\n      <td>6ee821a7-86ea-cf8e-43e0-773f4bf47417</td>\n    </tr>\n    <tr>\n      <th>5665</th>\n      <td>seed</td>\n      <td>3.621000e+03</td>\n      <td>70152a85-1327-ac78-db60-9e3b87efcbd8</td>\n    </tr>\n    <tr>\n      <th>5169</th>\n      <td>seed</td>\n      <td>5.000000e+03</td>\n      <td>9eebfab0-a43a-f4fe-a1f0-1e71c5a4c024</td>\n    </tr>\n    <tr>\n      <th>4816</th>\n      <td>seed</td>\n      <td>5.001000e+03</td>\n      <td>863960cb-075e-1964-78cb-3e8d52c15a93</td>\n    </tr>\n    <tr>\n      <th>...</th>\n      <td>...</td>\n      <td>...</td>\n      <td>...</td>\n    </tr>\n    <tr>\n      <th>719</th>\n      <td>series_d</td>\n      <td>3.000000e+08</td>\n      <td>ba83ed1d-efd1-8e9c-910b-aca4c13f81b2</td>\n    </tr>\n    <tr>\n      <th>5515</th>\n      <td>private_equity</td>\n      <td>3.497873e+08</td>\n      <td>7c323af1-1f0e-5b14-523a-16197b759aa8</td>\n    </tr>\n    <tr>\n      <th>4863</th>\n      <td>private_equity</td>\n      <td>4.300000e+08</td>\n      <td>c7420cf5-8369-0c9f-1483-c111c04fa1c7</td>\n    </tr>\n    <tr>\n      <th>5755</th>\n      <td>debt_financing</td>\n      <td>4.650000e+08</td>\n      <td>a367b036-5952-5435-7541-ad7ee8869e24</td>\n    </tr>\n    <tr>\n      <th>2970</th>\n      <td>corporate_round</td>\n      <td>1.000000e+09</td>\n      <td>0cf83157-f7f1-fd5a-148d-a57060f22e5d</td>\n    </tr>\n  </tbody>\n</table>\n<p>4613 rows × 3 columns</p>\n</div>"
     },
     "metadata": {},
     "execution_count": 7
    }
   ],
   "source": [
    "# df.sort_values(by=['org_uuid','raised_amount_usd'])\n",
    "df.sort_values(by=['raised_amount_usd'])"
   ]
  },
  {
   "cell_type": "code",
   "execution_count": 8,
   "metadata": {},
   "outputs": [],
   "source": [
    "# ordinal_investment_type = []\n",
    "\n",
    "# # perform ordinal encoding: seed/angel = 0, series_a = 1, series_b = 2, series_c = 3\n",
    "# for investment in df['investment_type']:\n",
    "#     if investment == 'seed' or investment == 'angel':\n",
    "#         ordinal_investment_type.append(0)\n",
    "#     elif investment == 'series_a':\n",
    "#         ordinal_investment_type.append(1)\n",
    "#     elif investment == 'series_b':\n",
    "#         ordinal_investment_type.append(2)\n",
    "#     elif investment == 'series_c':\n",
    "#         ordinal_investment_type.append(3)\n",
    "#     else:\n",
    "#         ordinal_investment_type.append(99)\n",
    "        \n",
    "# df['investment_type'] = ordinal_investment_type"
   ]
  },
  {
   "cell_type": "code",
   "execution_count": 9,
   "metadata": {},
   "outputs": [],
   "source": [
    "# df.groupby(['investment_type'])"
   ]
  },
  {
   "cell_type": "code",
   "execution_count": 10,
   "metadata": {},
   "outputs": [],
   "source": [
    "df = df.merge(df.groupby('org_uuid').agg(investment_list=('investment_type',list), raised_amount_usd_list=('raised_amount_usd',list)).reset_index())"
   ]
  },
  {
   "cell_type": "code",
   "execution_count": 11,
   "metadata": {},
   "outputs": [],
   "source": [
    "df.drop(columns=['investment_type', 'raised_amount_usd'], inplace=True)\n",
    "df.drop_duplicates(subset='org_uuid', inplace=True)"
   ]
  },
  {
   "cell_type": "code",
   "execution_count": 12,
   "metadata": {
    "tags": []
   },
   "outputs": [],
   "source": [
    "investment_list = []\n",
    "\n",
    "# zip() gives successive difference list\n",
    "for investment in df['investment_list']:\n",
    "    # indicate the change as \"series_xxx to series_yyy\"\n",
    "    process = [(i + \" to \" + j) for i, j in zip(investment[: -1], investment[1 :])]\n",
    "    investment_list.append(process if len(process) else None)\n",
    "\n",
    "df['investment_delta'] = investment_list"
   ]
  },
  {
   "cell_type": "code",
   "execution_count": 13,
   "metadata": {},
   "outputs": [],
   "source": [
    "amount_list = []\n",
    "\n",
    "for amount in df['raised_amount_usd_list']:\n",
    "    # find change in amount normalized to the smaller amount\n",
    "    norm_amount_delta = [2 * (j - i)/ (i + j) for i, j in zip(amount[: -1], amount[1 :])]\n",
    "    amount_list.append(norm_amount_delta if len(norm_amount_delta) else None)\n",
    "\n",
    "df['norm_amount_delta'] = amount_list"
   ]
  },
  {
   "cell_type": "code",
   "execution_count": 14,
   "metadata": {},
   "outputs": [
    {
     "output_type": "execute_result",
     "data": {
      "text/plain": [
       "                                  org_uuid  \\\n",
       "0     df662812-7f97-0b43-9d3e-12f64f504fbb   \n",
       "9     f53cb4de-236e-0b1b-dee8-7104a8b018f9   \n",
       "11    4111dc8b-c0df-2d24-ed33-30cd137b3098   \n",
       "14    56b5f0c1-855f-2ebb-083f-16641f1db2e1   \n",
       "16    21e77067-5537-408e-cad7-e5e72bb6ad86   \n",
       "...                                    ...   \n",
       "4518  5f8959ff-f184-42d8-e6ce-14ad2694d82e   \n",
       "4526  1c60bc6a-b81b-2594-984b-d448b314d365   \n",
       "4561  2a2427e7-2dbc-3559-8eb7-178237b9a24b   \n",
       "4574  f37b37f7-c9e2-858f-f9bc-49fb8f23cb88   \n",
       "4588  98ced7fb-c747-4920-9470-ebcda6f1077b   \n",
       "\n",
       "                                       investment_delta  \\\n",
       "0     [angel to series_a, series_a to series_b, seri...   \n",
       "9                                [series_b to series_a]   \n",
       "11                               [series_b to series_c]   \n",
       "14                               [series_a to series_b]   \n",
       "16             [seed to series_a, series_a to series_b]   \n",
       "...                                                 ...   \n",
       "4518                             [series_b to series_a]   \n",
       "4526                       [debt_financing to series_c]   \n",
       "4561                                     [seed to seed]   \n",
       "4574                                 [seed to series_a]   \n",
       "4588               [post_ipo_equity to post_ipo_equity]   \n",
       "\n",
       "                                      norm_amount_delta  \n",
       "0     [1.8484848484848484, 0.736318407960199, 1.5887...  \n",
       "9                                 [-1.1111111111111112]  \n",
       "11                                [-0.6666666666666666]  \n",
       "14                                            [0.03125]  \n",
       "16             [1.9573333333333334, 0.8324154209284028]  \n",
       "...                                                 ...  \n",
       "4518                              [0.45901639344262296]  \n",
       "4526                                              [1.0]  \n",
       "4561                               [0.5457504589239416]  \n",
       "4574                               [1.8836115742036599]  \n",
       "4588                               [1.5595906667578083]  \n",
       "\n",
       "[981 rows x 3 columns]"
      ],
      "text/html": "<div>\n<style scoped>\n    .dataframe tbody tr th:only-of-type {\n        vertical-align: middle;\n    }\n\n    .dataframe tbody tr th {\n        vertical-align: top;\n    }\n\n    .dataframe thead th {\n        text-align: right;\n    }\n</style>\n<table border=\"1\" class=\"dataframe\">\n  <thead>\n    <tr style=\"text-align: right;\">\n      <th></th>\n      <th>org_uuid</th>\n      <th>investment_delta</th>\n      <th>norm_amount_delta</th>\n    </tr>\n  </thead>\n  <tbody>\n    <tr>\n      <th>0</th>\n      <td>df662812-7f97-0b43-9d3e-12f64f504fbb</td>\n      <td>[angel to series_a, series_a to series_b, seri...</td>\n      <td>[1.8484848484848484, 0.736318407960199, 1.5887...</td>\n    </tr>\n    <tr>\n      <th>9</th>\n      <td>f53cb4de-236e-0b1b-dee8-7104a8b018f9</td>\n      <td>[series_b to series_a]</td>\n      <td>[-1.1111111111111112]</td>\n    </tr>\n    <tr>\n      <th>11</th>\n      <td>4111dc8b-c0df-2d24-ed33-30cd137b3098</td>\n      <td>[series_b to series_c]</td>\n      <td>[-0.6666666666666666]</td>\n    </tr>\n    <tr>\n      <th>14</th>\n      <td>56b5f0c1-855f-2ebb-083f-16641f1db2e1</td>\n      <td>[series_a to series_b]</td>\n      <td>[0.03125]</td>\n    </tr>\n    <tr>\n      <th>16</th>\n      <td>21e77067-5537-408e-cad7-e5e72bb6ad86</td>\n      <td>[seed to series_a, series_a to series_b]</td>\n      <td>[1.9573333333333334, 0.8324154209284028]</td>\n    </tr>\n    <tr>\n      <th>...</th>\n      <td>...</td>\n      <td>...</td>\n      <td>...</td>\n    </tr>\n    <tr>\n      <th>4518</th>\n      <td>5f8959ff-f184-42d8-e6ce-14ad2694d82e</td>\n      <td>[series_b to series_a]</td>\n      <td>[0.45901639344262296]</td>\n    </tr>\n    <tr>\n      <th>4526</th>\n      <td>1c60bc6a-b81b-2594-984b-d448b314d365</td>\n      <td>[debt_financing to series_c]</td>\n      <td>[1.0]</td>\n    </tr>\n    <tr>\n      <th>4561</th>\n      <td>2a2427e7-2dbc-3559-8eb7-178237b9a24b</td>\n      <td>[seed to seed]</td>\n      <td>[0.5457504589239416]</td>\n    </tr>\n    <tr>\n      <th>4574</th>\n      <td>f37b37f7-c9e2-858f-f9bc-49fb8f23cb88</td>\n      <td>[seed to series_a]</td>\n      <td>[1.8836115742036599]</td>\n    </tr>\n    <tr>\n      <th>4588</th>\n      <td>98ced7fb-c747-4920-9470-ebcda6f1077b</td>\n      <td>[post_ipo_equity to post_ipo_equity]</td>\n      <td>[1.5595906667578083]</td>\n    </tr>\n  </tbody>\n</table>\n<p>981 rows × 3 columns</p>\n</div>"
     },
     "metadata": {},
     "execution_count": 14
    }
   ],
   "source": [
    "df.drop(columns=['investment_list', 'raised_amount_usd_list'], inplace=True)\n",
    "# for easier checking of results, I dropped rows without delta\n",
    "df.dropna(inplace=True)\n",
    "df"
   ]
  },
  {
   "cell_type": "code",
   "execution_count": 15,
   "metadata": {},
   "outputs": [],
   "source": [
    "# find max delta\n",
    "max_amount_delta_list = []\n",
    "\n",
    "for delta_list in df['norm_amount_delta']:\n",
    "    max_amount_delta_list.append(np.array(delta_list).max())\n",
    "\n",
    "df['max_norm_amount_delta'] = max_amount_delta_list"
   ]
  },
  {
   "cell_type": "code",
   "execution_count": 16,
   "metadata": {},
   "outputs": [],
   "source": [
    "# find mean delta\n",
    "mean_amount_delta_list = []\n",
    "\n",
    "for delta_list in df['norm_amount_delta']:\n",
    "    mean_amount_delta_list.append(np.array(delta_list).mean())\n",
    "\n",
    "df['mean_norm_amount_delta'] = mean_amount_delta_list"
   ]
  },
  {
   "cell_type": "code",
   "execution_count": 17,
   "metadata": {},
   "outputs": [
    {
     "output_type": "execute_result",
     "data": {
      "text/plain": [
       "                                 org_uuid  \\\n",
       "0    df662812-7f97-0b43-9d3e-12f64f504fbb   \n",
       "1    f53cb4de-236e-0b1b-dee8-7104a8b018f9   \n",
       "2    4111dc8b-c0df-2d24-ed33-30cd137b3098   \n",
       "3    56b5f0c1-855f-2ebb-083f-16641f1db2e1   \n",
       "4    21e77067-5537-408e-cad7-e5e72bb6ad86   \n",
       "..                                    ...   \n",
       "976  5f8959ff-f184-42d8-e6ce-14ad2694d82e   \n",
       "977  1c60bc6a-b81b-2594-984b-d448b314d365   \n",
       "978  2a2427e7-2dbc-3559-8eb7-178237b9a24b   \n",
       "979  f37b37f7-c9e2-858f-f9bc-49fb8f23cb88   \n",
       "980  98ced7fb-c747-4920-9470-ebcda6f1077b   \n",
       "\n",
       "                                      investment_delta  \\\n",
       "0    [angel to series_a, series_a to series_b, seri...   \n",
       "1                               [series_b to series_a]   \n",
       "2                               [series_b to series_c]   \n",
       "3                               [series_a to series_b]   \n",
       "4             [seed to series_a, series_a to series_b]   \n",
       "..                                                 ...   \n",
       "976                             [series_b to series_a]   \n",
       "977                       [debt_financing to series_c]   \n",
       "978                                     [seed to seed]   \n",
       "979                                 [seed to series_a]   \n",
       "980               [post_ipo_equity to post_ipo_equity]   \n",
       "\n",
       "                                     norm_amount_delta  max_norm_amount_delta  \\\n",
       "0    [1.8484848484848484, 0.736318407960199, 1.5887...               1.848485   \n",
       "1                                [-1.1111111111111112]              -1.111111   \n",
       "2                                [-0.6666666666666666]              -0.666667   \n",
       "3                                            [0.03125]               0.031250   \n",
       "4             [1.9573333333333334, 0.8324154209284028]               1.957333   \n",
       "..                                                 ...                    ...   \n",
       "976                              [0.45901639344262296]               0.459016   \n",
       "977                                              [1.0]               1.000000   \n",
       "978                               [0.5457504589239416]               0.545750   \n",
       "979                               [1.8836115742036599]               1.883612   \n",
       "980                               [1.5595906667578083]               1.559591   \n",
       "\n",
       "     mean_norm_amount_delta  \n",
       "0                  0.478597  \n",
       "1                 -1.111111  \n",
       "2                 -0.666667  \n",
       "3                  0.031250  \n",
       "4                  1.394874  \n",
       "..                      ...  \n",
       "976                0.459016  \n",
       "977                1.000000  \n",
       "978                0.545750  \n",
       "979                1.883612  \n",
       "980                1.559591  \n",
       "\n",
       "[981 rows x 5 columns]"
      ],
      "text/html": "<div>\n<style scoped>\n    .dataframe tbody tr th:only-of-type {\n        vertical-align: middle;\n    }\n\n    .dataframe tbody tr th {\n        vertical-align: top;\n    }\n\n    .dataframe thead th {\n        text-align: right;\n    }\n</style>\n<table border=\"1\" class=\"dataframe\">\n  <thead>\n    <tr style=\"text-align: right;\">\n      <th></th>\n      <th>org_uuid</th>\n      <th>investment_delta</th>\n      <th>norm_amount_delta</th>\n      <th>max_norm_amount_delta</th>\n      <th>mean_norm_amount_delta</th>\n    </tr>\n  </thead>\n  <tbody>\n    <tr>\n      <th>0</th>\n      <td>df662812-7f97-0b43-9d3e-12f64f504fbb</td>\n      <td>[angel to series_a, series_a to series_b, seri...</td>\n      <td>[1.8484848484848484, 0.736318407960199, 1.5887...</td>\n      <td>1.848485</td>\n      <td>0.478597</td>\n    </tr>\n    <tr>\n      <th>1</th>\n      <td>f53cb4de-236e-0b1b-dee8-7104a8b018f9</td>\n      <td>[series_b to series_a]</td>\n      <td>[-1.1111111111111112]</td>\n      <td>-1.111111</td>\n      <td>-1.111111</td>\n    </tr>\n    <tr>\n      <th>2</th>\n      <td>4111dc8b-c0df-2d24-ed33-30cd137b3098</td>\n      <td>[series_b to series_c]</td>\n      <td>[-0.6666666666666666]</td>\n      <td>-0.666667</td>\n      <td>-0.666667</td>\n    </tr>\n    <tr>\n      <th>3</th>\n      <td>56b5f0c1-855f-2ebb-083f-16641f1db2e1</td>\n      <td>[series_a to series_b]</td>\n      <td>[0.03125]</td>\n      <td>0.031250</td>\n      <td>0.031250</td>\n    </tr>\n    <tr>\n      <th>4</th>\n      <td>21e77067-5537-408e-cad7-e5e72bb6ad86</td>\n      <td>[seed to series_a, series_a to series_b]</td>\n      <td>[1.9573333333333334, 0.8324154209284028]</td>\n      <td>1.957333</td>\n      <td>1.394874</td>\n    </tr>\n    <tr>\n      <th>...</th>\n      <td>...</td>\n      <td>...</td>\n      <td>...</td>\n      <td>...</td>\n      <td>...</td>\n    </tr>\n    <tr>\n      <th>976</th>\n      <td>5f8959ff-f184-42d8-e6ce-14ad2694d82e</td>\n      <td>[series_b to series_a]</td>\n      <td>[0.45901639344262296]</td>\n      <td>0.459016</td>\n      <td>0.459016</td>\n    </tr>\n    <tr>\n      <th>977</th>\n      <td>1c60bc6a-b81b-2594-984b-d448b314d365</td>\n      <td>[debt_financing to series_c]</td>\n      <td>[1.0]</td>\n      <td>1.000000</td>\n      <td>1.000000</td>\n    </tr>\n    <tr>\n      <th>978</th>\n      <td>2a2427e7-2dbc-3559-8eb7-178237b9a24b</td>\n      <td>[seed to seed]</td>\n      <td>[0.5457504589239416]</td>\n      <td>0.545750</td>\n      <td>0.545750</td>\n    </tr>\n    <tr>\n      <th>979</th>\n      <td>f37b37f7-c9e2-858f-f9bc-49fb8f23cb88</td>\n      <td>[seed to series_a]</td>\n      <td>[1.8836115742036599]</td>\n      <td>1.883612</td>\n      <td>1.883612</td>\n    </tr>\n    <tr>\n      <th>980</th>\n      <td>98ced7fb-c747-4920-9470-ebcda6f1077b</td>\n      <td>[post_ipo_equity to post_ipo_equity]</td>\n      <td>[1.5595906667578083]</td>\n      <td>1.559591</td>\n      <td>1.559591</td>\n    </tr>\n  </tbody>\n</table>\n<p>981 rows × 5 columns</p>\n</div>"
     },
     "metadata": {},
     "execution_count": 17
    }
   ],
   "source": [
    "df.reset_index(inplace=True)\n",
    "df.drop(axis=1, labels='index', inplace=True)\n",
    "df"
   ]
  },
  {
   "cell_type": "code",
   "execution_count": null,
   "metadata": {},
   "outputs": [],
   "source": []
  }
 ]
}