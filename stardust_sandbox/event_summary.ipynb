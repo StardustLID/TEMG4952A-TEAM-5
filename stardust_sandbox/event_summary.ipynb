{
 "metadata": {
  "language_info": {
   "codemirror_mode": {
    "name": "ipython",
    "version": 3
   },
   "file_extension": ".py",
   "mimetype": "text/x-python",
   "name": "python",
   "nbconvert_exporter": "python",
   "pygments_lexer": "ipython3",
   "version": "3.8.3-final"
  },
  "orig_nbformat": 2,
  "kernelspec": {
   "name": "python3",
   "display_name": "Python 3",
   "language": "python"
  }
 },
 "nbformat": 4,
 "nbformat_minor": 2,
 "cells": [
  {
   "cell_type": "code",
   "execution_count": 1,
   "metadata": {},
   "outputs": [],
   "source": [
    "# import library\n",
    "import pandas as pd"
   ]
  },
  {
   "cell_type": "code",
   "execution_count": 2,
   "metadata": {},
   "outputs": [],
   "source": [
    "# read the CSV\n",
    "df = pd.read_csv(\"../bulk_export_processed/cleaned_csv/event_appearances_cleaned.csv\")\n",
    "# change the cols to keep\n",
    "keep_col = ['participant_uuid', 'participant_name']\n",
    "df = df[keep_col]"
   ]
  },
  {
   "cell_type": "code",
   "execution_count": 3,
   "metadata": {},
   "outputs": [],
   "source": [
    "event_count_dict = df['participant_name'].value_counts().to_dict()\n",
    "df['event_count'] = df['participant_name'].map(event_count_dict)\n",
    "df.drop_duplicates(inplace=True)\n",
    "df.sort_values(by='event_count', axis=0, ascending=False, inplace=True)"
   ]
  },
  {
   "cell_type": "code",
   "execution_count": 4,
   "metadata": {},
   "outputs": [],
   "source": [
    "df.reset_index(inplace=True)\n",
    "df.drop(axis=1, labels='index', inplace=True)"
   ]
  },
  {
   "cell_type": "code",
   "execution_count": 5,
   "metadata": {},
   "outputs": [
    {
     "output_type": "execute_result",
     "data": {
      "text/plain": [
       "                            participant_uuid      participant_name  \\\n",
       "0       fd80725f-53fc-7009-9878-aeecf1e9ffbb             Microsoft   \n",
       "1       fc5fbe7a-562d-d577-b05e-46797caa134c                   IBM   \n",
       "2       1e4f199c-363b-451b-a164-f94571075ee5                 Intel   \n",
       "3       6acfa7da-1dbd-936e-d985-cf07a1b27711                Google   \n",
       "4       e0906c05-fae5-9591-ba5f-2142d8b0065a                 Cisco   \n",
       "...                                      ...                   ...   \n",
       "225093  59d13f73-dd9b-fb6f-0c5f-81159ab41af8     Olivier Albessard   \n",
       "225094  c2e43b73-9037-0b50-74d2-5d36a73facfc       Ludovic Assémat   \n",
       "225095  0ae1b0f9-806f-7635-2ad1-54128246ab8a                 SARIO   \n",
       "225096  7617c238-53ca-756c-a98c-5d2342734b29         Alexandre Ali   \n",
       "225097  dd8c42ef-da3c-46de-baf0-3cab9f7da20b  JPMorgan Chase & Co.   \n",
       "\n",
       "        event_count  \n",
       "0               775  \n",
       "1               644  \n",
       "2               490  \n",
       "3               438  \n",
       "4               415  \n",
       "...             ...  \n",
       "225093            1  \n",
       "225094            1  \n",
       "225095            1  \n",
       "225096            1  \n",
       "225097            1  \n",
       "\n",
       "[225098 rows x 3 columns]"
      ],
      "text/html": "<div>\n<style scoped>\n    .dataframe tbody tr th:only-of-type {\n        vertical-align: middle;\n    }\n\n    .dataframe tbody tr th {\n        vertical-align: top;\n    }\n\n    .dataframe thead th {\n        text-align: right;\n    }\n</style>\n<table border=\"1\" class=\"dataframe\">\n  <thead>\n    <tr style=\"text-align: right;\">\n      <th></th>\n      <th>participant_uuid</th>\n      <th>participant_name</th>\n      <th>event_count</th>\n    </tr>\n  </thead>\n  <tbody>\n    <tr>\n      <th>0</th>\n      <td>fd80725f-53fc-7009-9878-aeecf1e9ffbb</td>\n      <td>Microsoft</td>\n      <td>775</td>\n    </tr>\n    <tr>\n      <th>1</th>\n      <td>fc5fbe7a-562d-d577-b05e-46797caa134c</td>\n      <td>IBM</td>\n      <td>644</td>\n    </tr>\n    <tr>\n      <th>2</th>\n      <td>1e4f199c-363b-451b-a164-f94571075ee5</td>\n      <td>Intel</td>\n      <td>490</td>\n    </tr>\n    <tr>\n      <th>3</th>\n      <td>6acfa7da-1dbd-936e-d985-cf07a1b27711</td>\n      <td>Google</td>\n      <td>438</td>\n    </tr>\n    <tr>\n      <th>4</th>\n      <td>e0906c05-fae5-9591-ba5f-2142d8b0065a</td>\n      <td>Cisco</td>\n      <td>415</td>\n    </tr>\n    <tr>\n      <th>...</th>\n      <td>...</td>\n      <td>...</td>\n      <td>...</td>\n    </tr>\n    <tr>\n      <th>225093</th>\n      <td>59d13f73-dd9b-fb6f-0c5f-81159ab41af8</td>\n      <td>Olivier Albessard</td>\n      <td>1</td>\n    </tr>\n    <tr>\n      <th>225094</th>\n      <td>c2e43b73-9037-0b50-74d2-5d36a73facfc</td>\n      <td>Ludovic Assémat</td>\n      <td>1</td>\n    </tr>\n    <tr>\n      <th>225095</th>\n      <td>0ae1b0f9-806f-7635-2ad1-54128246ab8a</td>\n      <td>SARIO</td>\n      <td>1</td>\n    </tr>\n    <tr>\n      <th>225096</th>\n      <td>7617c238-53ca-756c-a98c-5d2342734b29</td>\n      <td>Alexandre Ali</td>\n      <td>1</td>\n    </tr>\n    <tr>\n      <th>225097</th>\n      <td>dd8c42ef-da3c-46de-baf0-3cab9f7da20b</td>\n      <td>JPMorgan Chase &amp; Co.</td>\n      <td>1</td>\n    </tr>\n  </tbody>\n</table>\n<p>225098 rows × 3 columns</p>\n</div>"
     },
     "metadata": {},
     "execution_count": 5
    }
   ],
   "source": [
    "df"
   ]
  },
  {
   "cell_type": "code",
   "execution_count": 6,
   "metadata": {},
   "outputs": [],
   "source": [
    "# df.to_csv(\"event_summary.csv\", index=False)"
   ]
  }
 ]
}