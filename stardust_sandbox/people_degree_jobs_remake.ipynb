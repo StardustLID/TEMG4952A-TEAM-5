{
 "metadata": {
  "language_info": {
   "codemirror_mode": {
    "name": "ipython",
    "version": 3
   },
   "file_extension": ".py",
   "mimetype": "text/x-python",
   "name": "python",
   "nbconvert_exporter": "python",
   "pygments_lexer": "ipython3",
   "version": "3.8.3-final"
  },
  "orig_nbformat": 2,
  "kernelspec": {
   "name": "python3",
   "display_name": "Python 3",
   "language": "python"
  }
 },
 "nbformat": 4,
 "nbformat_minor": 2,
 "cells": [
  {
   "source": [
    "This notebook merges people, degrees and jobs. They will be aggregated for each organization, so there will be much fewer rows produced. <br>\n",
    "Setup: place `people.csv`, `degrees.csv`, `jobs.csv` in the same folder as this notebook."
   ],
   "cell_type": "markdown",
   "metadata": {}
  },
  {
   "cell_type": "code",
   "execution_count": 1,
   "metadata": {},
   "outputs": [],
   "source": [
    "# import library\n",
    "import pandas as pd\n",
    "import numpy as np\n",
    "import datetime as dt"
   ]
  },
  {
   "cell_type": "code",
   "execution_count": 2,
   "metadata": {},
   "outputs": [],
   "source": [
    "# Stardust ver unique keyword search\n",
    "def unique_keyword_search(df_col: pd.Series, num_selected: int) -> list:\n",
    "    '''\n",
    "    Performs unique keyword search on a dataframe's column for its most common keywords\n",
    "\n",
    "    :param pd.Series df_col: column of a pd.DataFrame (e.g. df['col'])\n",
    "    :param int num_selected: number of keywords\n",
    "    :return: list of keywords in decreasing occurrence\n",
    "    :rtype: list\n",
    "    '''\n",
    "    keywords = []\n",
    "    for entry in df_col:\n",
    "        words = entry.split(',')\n",
    "        [keywords.append(word) for word in words]\n",
    "    sorted_keywords = Counter(keywords).most_common()\n",
    "    output_keywords = []\n",
    "    for i in range(num_selected):\n",
    "        output_keywords.append(sorted_keywords[i][0])\n",
    "    return output_keywords"
   ]
  },
  {
   "cell_type": "code",
   "execution_count": 3,
   "metadata": {},
   "outputs": [],
   "source": [
    "# Stardust ver one-hot encoder\n",
    "def onehot_encoder(df: pd.DataFrame, col_name: str, num_selected: int) -> pd.DataFrame:\n",
    "    '''\n",
    "    Performs one-hot encoding on a dataframe's column for its values with most occurrences\n",
    "\n",
    "    :param pd.DataFrame df: dataframe to be processed\n",
    "    :param str col_name: name of the encoded column\n",
    "    :param int num_selected: number of values with most occurrences\n",
    "    :return: processed dataframe\n",
    "    :rtype: pd.DataFrame\n",
    "    '''\n",
    "    series = df[col_name].value_counts()\n",
    "    selected_col_name = series.head(num_selected).index.tolist()\n",
    "\n",
    "    for item in selected_col_name:\n",
    "        df[col_name + \"_\" + item] = np.where(df[col_name] == item, 1, 0) # whenever df[col_name] == cat replace it with 1 else 0\n",
    "        \n",
    "    df.drop(columns=col_name, inplace=True)\n",
    "    return df"
   ]
  },
  {
   "cell_type": "code",
   "execution_count": 4,
   "metadata": {},
   "outputs": [],
   "source": [
    "# Stardust ver one-hot encoder V2\n",
    "def onehot_encoder_v2(df: pd.DataFrame, col_name: str, list_selected: list) -> pd.DataFrame:\n",
    "    '''\n",
    "    Performs one-hot encoding on a dataframe's column for its values with most occurrences\n",
    "\n",
    "    :param pd.DataFrame df: dataframe to be processed\n",
    "    :param str col_name: name of the encoded column\n",
    "    :param list list_selected: list of most common values\n",
    "    :return: processed dataframe\n",
    "    :rtype: pd.DataFrame\n",
    "    '''\n",
    "    for item in list_selected:\n",
    "        df[item] = np.where(df[col_name] == item, 1, 0) # whenever df[col_name] == cat replace it with 1 else 0\n",
    "    df.drop(col_name, axis=1, inplace=True)\n",
    "\n",
    "    return df"
   ]
  },
  {
   "source": [
    "First process `people.csv`."
   ],
   "cell_type": "markdown",
   "metadata": {}
  },
  {
   "cell_type": "code",
   "execution_count": 5,
   "metadata": {},
   "outputs": [],
   "source": [
    "# read the CSV\n",
    "ppl_df = pd.read_csv(\"people.csv\")\n",
    "# change the cols to keep\n",
    "# keep_col = ['uuid','gender','featured_job_organization_uuid']\n",
    "keep_col = ['uuid','gender']\n",
    "ppl_df = ppl_df[keep_col]\n",
    "# ppl_df.info()"
   ]
  },
  {
   "cell_type": "code",
   "execution_count": 6,
   "metadata": {},
   "outputs": [],
   "source": [
    "# if a person has no associated organization, the entry has no use\n",
    "# ppl_df.drop(ppl_df[ppl_df['featured_job_organization_uuid'].isnull()].index, inplace=True)\n",
    "# ppl_df.info()"
   ]
  },
  {
   "cell_type": "code",
   "execution_count": 7,
   "metadata": {},
   "outputs": [],
   "source": [
    "ppl_df = onehot_encoder(ppl_df, 'gender', 2) # male and female\n",
    "# ppl_df.info()"
   ]
  },
  {
   "cell_type": "code",
   "execution_count": 8,
   "metadata": {},
   "outputs": [],
   "source": [
    "ppl_df.reset_index(inplace=True)\n",
    "ppl_df.drop(axis=1, labels='index', inplace=True)"
   ]
  },
  {
   "cell_type": "code",
   "execution_count": 9,
   "metadata": {},
   "outputs": [
    {
     "output_type": "stream",
     "name": "stdout",
     "text": [
      "<class 'pandas.core.frame.DataFrame'>\nRangeIndex: 1106474 entries, 0 to 1106473\nData columns (total 3 columns):\n #   Column         Non-Null Count    Dtype \n---  ------         --------------    ----- \n 0   uuid           1106474 non-null  object\n 1   gender_male    1106474 non-null  int32 \n 2   gender_female  1106474 non-null  int32 \ndtypes: int32(2), object(1)\nmemory usage: 16.9+ MB\n"
     ]
    }
   ],
   "source": [
    "ppl_df.info()"
   ]
  },
  {
   "source": [
    "Then process `people.csv`."
   ],
   "cell_type": "markdown",
   "metadata": {}
  },
  {
   "cell_type": "code",
   "execution_count": 10,
   "metadata": {},
   "outputs": [],
   "source": [
    "# read the CSV\n",
    "deg_df = pd.read_csv(\"degrees.csv\")\n",
    "# change the cols to keep\n",
    "keep_col = ['person_uuid','degree_type','subject','started_on','completed_on','is_completed']\n",
    "deg_df = deg_df[keep_col]"
   ]
  },
  {
   "cell_type": "code",
   "execution_count": 11,
   "metadata": {},
   "outputs": [],
   "source": [
    "deg_df.drop_duplicates(inplace=True)\n",
    "\n",
    "degree_type_to_drop = (deg_df['degree_type'] == 'unknown') | (deg_df['degree_type'] == 'Unknown') | (deg_df['degree_type'] == 'Specialization') | (deg_df['degree_type'] == 'Certificate') | (deg_df['degree_type'] == 'Certification')\n",
    "deg_df = deg_df.drop(deg_df[degree_type_to_drop].index)\n",
    "deg_df = deg_df.drop(deg_df[deg_df['subject'] == 'unknown'].index)"
   ]
  },
  {
   "cell_type": "code",
   "execution_count": 12,
   "metadata": {},
   "outputs": [],
   "source": [
    "# use keyword to search for relevant degrees\n",
    "bachelor_keyword = ['Bachelor', 'Degree', 'BS', 'BSc', 'B.S.', 'Bsc', 'B.S',\n",
    "'BENG', 'BEng', 'B.Eng.', 'Beng', 'B.Eng', 'BE', 'B.E', 'BA', 'Ba', 'B.A.', 'B.A', 'A.B.', 'AB',\n",
    "'BBA', 'B.B.A.', 'B.B.A', 'B.Tech', 'B.Tech.', 'B.Com.', 'J.D.', 'JD', 'Juris Doctor']\n",
    "\n",
    "master_keyword = ['Master', 'Postgraduate', 'Graduate', 'MPHIL', 'MPhil', 'Mphil', 'M.Phil.', 'M.phil', 'M.Phil', 'M.S',\n",
    "'MS', 'MSc', 'M.Sc', 'Msc', 'MENG', 'MEng', 'M.Eng.', 'M.eng.',\n",
    "'MA', 'M.A', 'MBA', 'M.B.A.', 'M.B.A', 'Mba', 'M.BA.', 'M.Ba.', 'LLM']\n",
    "\n",
    "phd_keyword = ['PHD', 'Phd', 'PhD', 'P.HD', 'P.Hd', 'P.hd', 'P.H.D', 'Ph.D.', 'Ph.D.', 'PhD']\n",
    "\n",
    "# categories can be formed from one or more above elementary keywords\n",
    "# df.dropna(axis=0, subset=['degree_type'], inplace=True)\n",
    "deg_df['degree_type'].fillna(value='N/A', inplace=True)\n",
    "deg_df.loc[deg_df['degree_type'].str.contains('|'.join(phd_keyword)),'degree_type']='PhD'\n",
    "deg_df.loc[deg_df['degree_type'].str.contains('|'.join(master_keyword)),'degree_type']='Master'\n",
    "deg_df.loc[deg_df['degree_type'].str.contains('|'.join(bachelor_keyword)),'degree_type']='Bachelor'\n",
    "\n",
    "degree_type = []\n",
    "\n",
    "# perform ordinal encoding: bachelor = 1, master = 2, PhD = 3, no/others = 0\n",
    "for degree in deg_df['degree_type']:\n",
    "    if degree == 'Bachelor':\n",
    "        degree_type.append(1)\n",
    "    elif degree == 'Master':\n",
    "        degree_type.append(2)\n",
    "    elif degree == 'PhD':\n",
    "        degree_type.append(3)\n",
    "    else:\n",
    "        degree_type.append(0)\n",
    "        \n",
    "deg_df['degree_type'] = degree_type"
   ]
  },
  {
   "cell_type": "code",
   "execution_count": 13,
   "metadata": {},
   "outputs": [],
   "source": [
    "deg_df = onehot_encoder(deg_df, 'subject', 30)"
   ]
  },
  {
   "cell_type": "code",
   "execution_count": 14,
   "metadata": {},
   "outputs": [],
   "source": [
    "deg_df.sort_values(by='degree_type', ascending=False, inplace=True) # PhD > Master > Bachelor\n",
    "deg_df = deg_df.drop_duplicates(subset='person_uuid', keep=\"first\") # only consider the highest degree obtained"
   ]
  },
  {
   "cell_type": "code",
   "execution_count": 15,
   "metadata": {},
   "outputs": [],
   "source": [
    "degree_date = ['started_on', 'completed_on']\n",
    "has_degree = np.where(deg_df['degree_type'] != 0, 1, 0)\n",
    "\n",
    "# ignore for now\n",
    "# for col in degree_date:\n",
    "#     deg_df[col] = pd.to_datetime(deg_df[col], errors='coerce', format='%Y-%m-%d') # 'coerce' converts NaN to NaT\n",
    "#     mean = deg_df[col].mean()\n",
    "#     deg_df.loc[has_degree,col].fillna(value=mean, inplace=True)"
   ]
  },
  {
   "cell_type": "code",
   "execution_count": 16,
   "metadata": {},
   "outputs": [],
   "source": [
    "deg_df['is_completed'].fillna(value=0, inplace=True)\n",
    "deg_df['is_completed'] = deg_df['is_completed']*1"
   ]
  },
  {
   "cell_type": "code",
   "execution_count": 17,
   "metadata": {},
   "outputs": [],
   "source": [
    "deg_df.reset_index(inplace=True)\n",
    "deg_df.drop(axis=1, labels='index', inplace=True)"
   ]
  },
  {
   "cell_type": "code",
   "execution_count": 18,
   "metadata": {},
   "outputs": [],
   "source": [
    "# deg_df.info()"
   ]
  },
  {
   "cell_type": "code",
   "execution_count": 19,
   "metadata": {},
   "outputs": [],
   "source": [
    "# join people and degrees\n",
    "ppl_join = ppl_df.set_index('uuid').join(deg_df.set_index('person_uuid'))"
   ]
  },
  {
   "cell_type": "code",
   "execution_count": 20,
   "metadata": {},
   "outputs": [
    {
     "output_type": "execute_result",
     "data": {
      "text/plain": [
       "                                      gender_male  gender_female  degree_type  \\\n",
       "uuid                                                                            \n",
       "ed13cd36-fe2b-3707-197b-0c2d56e37a71            1              0          1.0   \n",
       "5ceca97b-493c-1446-6249-5aaa33464763            1              0          NaN   \n",
       "9f99a98a-aa97-b30b-0d36-db67c1d277e0            1              0          NaN   \n",
       "6e1bca72-a865-b518-b305-31214ce2d1b0            1              0          1.0   \n",
       "3b598c59-7b6c-2d48-763c-da55bca77035            1              0          NaN   \n",
       "\n",
       "                                     started_on completed_on  is_completed  \\\n",
       "uuid                                                                         \n",
       "ed13cd36-fe2b-3707-197b-0c2d56e37a71        NaN   1994-01-01           1.0   \n",
       "5ceca97b-493c-1446-6249-5aaa33464763        NaN          NaN           NaN   \n",
       "9f99a98a-aa97-b30b-0d36-db67c1d277e0        NaN          NaN           NaN   \n",
       "6e1bca72-a865-b518-b305-31214ce2d1b0        NaN   1986-01-01           1.0   \n",
       "3b598c59-7b6c-2d48-763c-da55bca77035        NaN          NaN           NaN   \n",
       "\n",
       "                                      subject_Computer Science  \\\n",
       "uuid                                                             \n",
       "ed13cd36-fe2b-3707-197b-0c2d56e37a71                       0.0   \n",
       "5ceca97b-493c-1446-6249-5aaa33464763                       NaN   \n",
       "9f99a98a-aa97-b30b-0d36-db67c1d277e0                       NaN   \n",
       "6e1bca72-a865-b518-b305-31214ce2d1b0                       0.0   \n",
       "3b598c59-7b6c-2d48-763c-da55bca77035                       NaN   \n",
       "\n",
       "                                      subject_Economics  subject_Finance  \\\n",
       "uuid                                                                       \n",
       "ed13cd36-fe2b-3707-197b-0c2d56e37a71                0.0              0.0   \n",
       "5ceca97b-493c-1446-6249-5aaa33464763                NaN              NaN   \n",
       "9f99a98a-aa97-b30b-0d36-db67c1d277e0                NaN              NaN   \n",
       "6e1bca72-a865-b518-b305-31214ce2d1b0                0.0              0.0   \n",
       "3b598c59-7b6c-2d48-763c-da55bca77035                NaN              NaN   \n",
       "\n",
       "                                      subject_Electrical Engineering  ...  \\\n",
       "uuid                                                                  ...   \n",
       "ed13cd36-fe2b-3707-197b-0c2d56e37a71                             0.0  ...   \n",
       "5ceca97b-493c-1446-6249-5aaa33464763                             NaN  ...   \n",
       "9f99a98a-aa97-b30b-0d36-db67c1d277e0                             NaN  ...   \n",
       "6e1bca72-a865-b518-b305-31214ce2d1b0                             0.0  ...   \n",
       "3b598c59-7b6c-2d48-763c-da55bca77035                             NaN  ...   \n",
       "\n",
       "                                      subject_Biology  \\\n",
       "uuid                                                    \n",
       "ed13cd36-fe2b-3707-197b-0c2d56e37a71              0.0   \n",
       "5ceca97b-493c-1446-6249-5aaa33464763              NaN   \n",
       "9f99a98a-aa97-b30b-0d36-db67c1d277e0              NaN   \n",
       "6e1bca72-a865-b518-b305-31214ce2d1b0              0.0   \n",
       "3b598c59-7b6c-2d48-763c-da55bca77035              NaN   \n",
       "\n",
       "                                      subject_International Business  \\\n",
       "uuid                                                                   \n",
       "ed13cd36-fe2b-3707-197b-0c2d56e37a71                             0.0   \n",
       "5ceca97b-493c-1446-6249-5aaa33464763                             NaN   \n",
       "9f99a98a-aa97-b30b-0d36-db67c1d277e0                             NaN   \n",
       "6e1bca72-a865-b518-b305-31214ce2d1b0                             0.0   \n",
       "3b598c59-7b6c-2d48-763c-da55bca77035                             NaN   \n",
       "\n",
       "                                      subject_Information Technology  \\\n",
       "uuid                                                                   \n",
       "ed13cd36-fe2b-3707-197b-0c2d56e37a71                             0.0   \n",
       "5ceca97b-493c-1446-6249-5aaa33464763                             NaN   \n",
       "9f99a98a-aa97-b30b-0d36-db67c1d277e0                             NaN   \n",
       "6e1bca72-a865-b518-b305-31214ce2d1b0                             0.0   \n",
       "3b598c59-7b6c-2d48-763c-da55bca77035                             NaN   \n",
       "\n",
       "                                      subject_Business Management  \\\n",
       "uuid                                                                \n",
       "ed13cd36-fe2b-3707-197b-0c2d56e37a71                          0.0   \n",
       "5ceca97b-493c-1446-6249-5aaa33464763                          NaN   \n",
       "9f99a98a-aa97-b30b-0d36-db67c1d277e0                          NaN   \n",
       "6e1bca72-a865-b518-b305-31214ce2d1b0                          0.0   \n",
       "3b598c59-7b6c-2d48-763c-da55bca77035                          NaN   \n",
       "\n",
       "                                      subject_English  \\\n",
       "uuid                                                    \n",
       "ed13cd36-fe2b-3707-197b-0c2d56e37a71              0.0   \n",
       "5ceca97b-493c-1446-6249-5aaa33464763              NaN   \n",
       "9f99a98a-aa97-b30b-0d36-db67c1d277e0              NaN   \n",
       "6e1bca72-a865-b518-b305-31214ce2d1b0              0.0   \n",
       "3b598c59-7b6c-2d48-763c-da55bca77035              NaN   \n",
       "\n",
       "                                      subject_Industrial Engineering  \\\n",
       "uuid                                                                   \n",
       "ed13cd36-fe2b-3707-197b-0c2d56e37a71                             0.0   \n",
       "5ceca97b-493c-1446-6249-5aaa33464763                             NaN   \n",
       "9f99a98a-aa97-b30b-0d36-db67c1d277e0                             NaN   \n",
       "6e1bca72-a865-b518-b305-31214ce2d1b0                             0.0   \n",
       "3b598c59-7b6c-2d48-763c-da55bca77035                             NaN   \n",
       "\n",
       "                                      subject_Civil Engineering  \\\n",
       "uuid                                                              \n",
       "ed13cd36-fe2b-3707-197b-0c2d56e37a71                        0.0   \n",
       "5ceca97b-493c-1446-6249-5aaa33464763                        NaN   \n",
       "9f99a98a-aa97-b30b-0d36-db67c1d277e0                        NaN   \n",
       "6e1bca72-a865-b518-b305-31214ce2d1b0                        0.0   \n",
       "3b598c59-7b6c-2d48-763c-da55bca77035                        NaN   \n",
       "\n",
       "                                      subject_Biochemistry  subject_Medicine  \\\n",
       "uuid                                                                           \n",
       "ed13cd36-fe2b-3707-197b-0c2d56e37a71                   0.0               0.0   \n",
       "5ceca97b-493c-1446-6249-5aaa33464763                   NaN               NaN   \n",
       "9f99a98a-aa97-b30b-0d36-db67c1d277e0                   NaN               NaN   \n",
       "6e1bca72-a865-b518-b305-31214ce2d1b0                   0.0               0.0   \n",
       "3b598c59-7b6c-2d48-763c-da55bca77035                   NaN               NaN   \n",
       "\n",
       "                                      subject_Philosophy  \n",
       "uuid                                                      \n",
       "ed13cd36-fe2b-3707-197b-0c2d56e37a71                 0.0  \n",
       "5ceca97b-493c-1446-6249-5aaa33464763                 NaN  \n",
       "9f99a98a-aa97-b30b-0d36-db67c1d277e0                 NaN  \n",
       "6e1bca72-a865-b518-b305-31214ce2d1b0                 0.0  \n",
       "3b598c59-7b6c-2d48-763c-da55bca77035                 NaN  \n",
       "\n",
       "[5 rows x 36 columns]"
      ],
      "text/html": "<div>\n<style scoped>\n    .dataframe tbody tr th:only-of-type {\n        vertical-align: middle;\n    }\n\n    .dataframe tbody tr th {\n        vertical-align: top;\n    }\n\n    .dataframe thead th {\n        text-align: right;\n    }\n</style>\n<table border=\"1\" class=\"dataframe\">\n  <thead>\n    <tr style=\"text-align: right;\">\n      <th></th>\n      <th>gender_male</th>\n      <th>gender_female</th>\n      <th>degree_type</th>\n      <th>started_on</th>\n      <th>completed_on</th>\n      <th>is_completed</th>\n      <th>subject_Computer Science</th>\n      <th>subject_Economics</th>\n      <th>subject_Finance</th>\n      <th>subject_Electrical Engineering</th>\n      <th>...</th>\n      <th>subject_Biology</th>\n      <th>subject_International Business</th>\n      <th>subject_Information Technology</th>\n      <th>subject_Business Management</th>\n      <th>subject_English</th>\n      <th>subject_Industrial Engineering</th>\n      <th>subject_Civil Engineering</th>\n      <th>subject_Biochemistry</th>\n      <th>subject_Medicine</th>\n      <th>subject_Philosophy</th>\n    </tr>\n    <tr>\n      <th>uuid</th>\n      <th></th>\n      <th></th>\n      <th></th>\n      <th></th>\n      <th></th>\n      <th></th>\n      <th></th>\n      <th></th>\n      <th></th>\n      <th></th>\n      <th></th>\n      <th></th>\n      <th></th>\n      <th></th>\n      <th></th>\n      <th></th>\n      <th></th>\n      <th></th>\n      <th></th>\n      <th></th>\n      <th></th>\n    </tr>\n  </thead>\n  <tbody>\n    <tr>\n      <th>ed13cd36-fe2b-3707-197b-0c2d56e37a71</th>\n      <td>1</td>\n      <td>0</td>\n      <td>1.0</td>\n      <td>NaN</td>\n      <td>1994-01-01</td>\n      <td>1.0</td>\n      <td>0.0</td>\n      <td>0.0</td>\n      <td>0.0</td>\n      <td>0.0</td>\n      <td>...</td>\n      <td>0.0</td>\n      <td>0.0</td>\n      <td>0.0</td>\n      <td>0.0</td>\n      <td>0.0</td>\n      <td>0.0</td>\n      <td>0.0</td>\n      <td>0.0</td>\n      <td>0.0</td>\n      <td>0.0</td>\n    </tr>\n    <tr>\n      <th>5ceca97b-493c-1446-6249-5aaa33464763</th>\n      <td>1</td>\n      <td>0</td>\n      <td>NaN</td>\n      <td>NaN</td>\n      <td>NaN</td>\n      <td>NaN</td>\n      <td>NaN</td>\n      <td>NaN</td>\n      <td>NaN</td>\n      <td>NaN</td>\n      <td>...</td>\n      <td>NaN</td>\n      <td>NaN</td>\n      <td>NaN</td>\n      <td>NaN</td>\n      <td>NaN</td>\n      <td>NaN</td>\n      <td>NaN</td>\n      <td>NaN</td>\n      <td>NaN</td>\n      <td>NaN</td>\n    </tr>\n    <tr>\n      <th>9f99a98a-aa97-b30b-0d36-db67c1d277e0</th>\n      <td>1</td>\n      <td>0</td>\n      <td>NaN</td>\n      <td>NaN</td>\n      <td>NaN</td>\n      <td>NaN</td>\n      <td>NaN</td>\n      <td>NaN</td>\n      <td>NaN</td>\n      <td>NaN</td>\n      <td>...</td>\n      <td>NaN</td>\n      <td>NaN</td>\n      <td>NaN</td>\n      <td>NaN</td>\n      <td>NaN</td>\n      <td>NaN</td>\n      <td>NaN</td>\n      <td>NaN</td>\n      <td>NaN</td>\n      <td>NaN</td>\n    </tr>\n    <tr>\n      <th>6e1bca72-a865-b518-b305-31214ce2d1b0</th>\n      <td>1</td>\n      <td>0</td>\n      <td>1.0</td>\n      <td>NaN</td>\n      <td>1986-01-01</td>\n      <td>1.0</td>\n      <td>0.0</td>\n      <td>0.0</td>\n      <td>0.0</td>\n      <td>0.0</td>\n      <td>...</td>\n      <td>0.0</td>\n      <td>0.0</td>\n      <td>0.0</td>\n      <td>0.0</td>\n      <td>0.0</td>\n      <td>0.0</td>\n      <td>0.0</td>\n      <td>0.0</td>\n      <td>0.0</td>\n      <td>0.0</td>\n    </tr>\n    <tr>\n      <th>3b598c59-7b6c-2d48-763c-da55bca77035</th>\n      <td>1</td>\n      <td>0</td>\n      <td>NaN</td>\n      <td>NaN</td>\n      <td>NaN</td>\n      <td>NaN</td>\n      <td>NaN</td>\n      <td>NaN</td>\n      <td>NaN</td>\n      <td>NaN</td>\n      <td>...</td>\n      <td>NaN</td>\n      <td>NaN</td>\n      <td>NaN</td>\n      <td>NaN</td>\n      <td>NaN</td>\n      <td>NaN</td>\n      <td>NaN</td>\n      <td>NaN</td>\n      <td>NaN</td>\n      <td>NaN</td>\n    </tr>\n  </tbody>\n</table>\n<p>5 rows × 36 columns</p>\n</div>"
     },
     "metadata": {},
     "execution_count": 20
    }
   ],
   "source": [
    "ppl_join.head()"
   ]
  },
  {
   "cell_type": "code",
   "execution_count": 21,
   "metadata": {},
   "outputs": [],
   "source": [
    "# some cols will use 0 as the fillna() value\n",
    "col_nan_to_zero = ['degree_type','is_completed']\n",
    "for col in col_nan_to_zero:\n",
    "    ppl_join[col].fillna(value=0, inplace=True)\n",
    "ppl_join.iloc[9:].fillna(value=0, inplace=True)"
   ]
  },
  {
   "cell_type": "code",
   "execution_count": 22,
   "metadata": {},
   "outputs": [],
   "source": [
    "ppl_join.reset_index(inplace=True)"
   ]
  },
  {
   "cell_type": "code",
   "execution_count": 23,
   "metadata": {},
   "outputs": [
    {
     "output_type": "stream",
     "name": "stdout",
     "text": [
      "<class 'pandas.core.frame.DataFrame'>\nRangeIndex: 1589222 entries, 0 to 1589221\nData columns (total 5 columns):\n #   Column       Non-Null Count    Dtype \n---  ------       --------------    ----- \n 0   person_uuid  1589222 non-null  object\n 1   org_uuid     1589222 non-null  object\n 2   started_on   786367 non-null   object\n 3   ended_on     293932 non-null   object\n 4   is_current   1589222 non-null  bool  \ndtypes: bool(1), object(4)\nmemory usage: 50.0+ MB\n"
     ]
    }
   ],
   "source": [
    "# read the CSV\n",
    "job_df = pd.read_csv(\"jobs.csv\")\n",
    "# change the cols to keep\n",
    "keep_col = ['person_uuid','org_uuid','started_on','ended_on','is_current']\n",
    "job_df = job_df[keep_col]\n",
    "job_df.info()"
   ]
  },
  {
   "cell_type": "code",
   "execution_count": 24,
   "metadata": {},
   "outputs": [
    {
     "output_type": "execute_result",
     "data": {
      "text/plain": [
       "                            person_uuid                              org_uuid  \\\n",
       "0  ed13cd36-fe2b-3707-197b-0c2d56e37a71  e1393508-30ea-8a36-3f96-dd3226033abd   \n",
       "1  5ceca97b-493c-1446-6249-5aaa33464763  e1393508-30ea-8a36-3f96-dd3226033abd   \n",
       "2  9f99a98a-aa97-b30b-0d36-db67c1d277e0  bf4d7b0e-b34d-2fd8-d292-6049c4f7efc7   \n",
       "3  6e1bca72-a865-b518-b305-31214ce2d1b0  bf4d7b0e-b34d-2fd8-d292-6049c4f7efc7   \n",
       "4  c92a1f00-8c19-bf2e-0f28-dbbd383dc968  5f2b40b8-d1b3-d323-d81a-b7a8e89553d0   \n",
       "\n",
       "   started_on    ended_on  is_current  \n",
       "0         NaN         NaN       False  \n",
       "1         NaN         NaN       False  \n",
       "2  2000-11-01         NaN        True  \n",
       "3  2006-03-01         NaN        True  \n",
       "4  2005-07-01  2010-04-05       False  "
      ],
      "text/html": "<div>\n<style scoped>\n    .dataframe tbody tr th:only-of-type {\n        vertical-align: middle;\n    }\n\n    .dataframe tbody tr th {\n        vertical-align: top;\n    }\n\n    .dataframe thead th {\n        text-align: right;\n    }\n</style>\n<table border=\"1\" class=\"dataframe\">\n  <thead>\n    <tr style=\"text-align: right;\">\n      <th></th>\n      <th>person_uuid</th>\n      <th>org_uuid</th>\n      <th>started_on</th>\n      <th>ended_on</th>\n      <th>is_current</th>\n    </tr>\n  </thead>\n  <tbody>\n    <tr>\n      <th>0</th>\n      <td>ed13cd36-fe2b-3707-197b-0c2d56e37a71</td>\n      <td>e1393508-30ea-8a36-3f96-dd3226033abd</td>\n      <td>NaN</td>\n      <td>NaN</td>\n      <td>False</td>\n    </tr>\n    <tr>\n      <th>1</th>\n      <td>5ceca97b-493c-1446-6249-5aaa33464763</td>\n      <td>e1393508-30ea-8a36-3f96-dd3226033abd</td>\n      <td>NaN</td>\n      <td>NaN</td>\n      <td>False</td>\n    </tr>\n    <tr>\n      <th>2</th>\n      <td>9f99a98a-aa97-b30b-0d36-db67c1d277e0</td>\n      <td>bf4d7b0e-b34d-2fd8-d292-6049c4f7efc7</td>\n      <td>2000-11-01</td>\n      <td>NaN</td>\n      <td>True</td>\n    </tr>\n    <tr>\n      <th>3</th>\n      <td>6e1bca72-a865-b518-b305-31214ce2d1b0</td>\n      <td>bf4d7b0e-b34d-2fd8-d292-6049c4f7efc7</td>\n      <td>2006-03-01</td>\n      <td>NaN</td>\n      <td>True</td>\n    </tr>\n    <tr>\n      <th>4</th>\n      <td>c92a1f00-8c19-bf2e-0f28-dbbd383dc968</td>\n      <td>5f2b40b8-d1b3-d323-d81a-b7a8e89553d0</td>\n      <td>2005-07-01</td>\n      <td>2010-04-05</td>\n      <td>False</td>\n    </tr>\n  </tbody>\n</table>\n</div>"
     },
     "metadata": {},
     "execution_count": 24
    }
   ],
   "source": [
    "job_df.head()"
   ]
  },
  {
   "cell_type": "code",
   "execution_count": 25,
   "metadata": {},
   "outputs": [],
   "source": [
    "job_is_current = job_df['is_current'].array\n",
    "job_df.loc[job_is_current,'ended_on'] = job_df.loc[job_is_current,'ended_on'].fillna('2020-12-30')\n",
    "job_df.drop(columns='is_current', inplace=True)"
   ]
  },
  {
   "cell_type": "code",
   "execution_count": 26,
   "metadata": {},
   "outputs": [],
   "source": [
    "# find the duration of the job\n",
    "job_df['job_duration'] = pd.to_datetime(job_df['ended_on'], errors='coerce', format='%Y-%m-%d') - pd.to_datetime(job_df['started_on'], errors='coerce', format='%Y-%m-%d')\n",
    "# take mean for NaN\n",
    "mean = job_df['job_duration'].mean()\n",
    "job_df['job_duration'].fillna(value=mean, inplace=True)\n",
    "# convert TimeDelta to int\n",
    "job_df['job_duration'] = job_df['job_duration'].apply(lambda x: x.days)"
   ]
  },
  {
   "cell_type": "code",
   "execution_count": 27,
   "metadata": {},
   "outputs": [],
   "source": [
    "job_df.drop(columns=['started_on','ended_on'], inplace=True)"
   ]
  },
  {
   "cell_type": "code",
   "execution_count": 28,
   "metadata": {},
   "outputs": [],
   "source": [
    "# join jobs and ppl_join (= ppl + degrees)\n",
    "job_join = job_df.set_index('person_uuid').join(ppl_join.set_index('uuid'))"
   ]
  },
  {
   "cell_type": "code",
   "execution_count": 29,
   "metadata": {},
   "outputs": [
    {
     "output_type": "execute_result",
     "data": {
      "text/plain": [
       "                                                                  org_uuid  \\\n",
       "0000125e-5faf-822d-72d4-b7701e250550  75685ae6-5ba1-0ffb-80ba-3c0bf539e04d   \n",
       "000020dc-18ce-7f7b-e8c4-8f5d716ad09d  867f0af5-a1d0-143d-bbed-5cc252ca40d6   \n",
       "00002852-4f2a-473a-ae63-810fa8d3f31f  655ff5a2-33d2-dfe5-af13-20866a58a5c0   \n",
       "00006713-e0f6-e8d0-58a3-0063bb243a50  bf0eb7c9-a5c4-014f-fb7c-f6530084e4d5   \n",
       "00006aa5-68cc-7430-eb3d-9bd8305dcb4d  cab0141c-849d-56e9-8173-56fcd95c5dd1   \n",
       "\n",
       "                                      job_duration  gender_male  \\\n",
       "0000125e-5faf-822d-72d4-b7701e250550          2188            1   \n",
       "000020dc-18ce-7f7b-e8c4-8f5d716ad09d          2188            0   \n",
       "00002852-4f2a-473a-ae63-810fa8d3f31f          1035            1   \n",
       "00006713-e0f6-e8d0-58a3-0063bb243a50          2188            0   \n",
       "00006aa5-68cc-7430-eb3d-9bd8305dcb4d          2188            1   \n",
       "\n",
       "                                      gender_female  degree_type  started_on  \\\n",
       "0000125e-5faf-822d-72d4-b7701e250550              0          0.0           0   \n",
       "000020dc-18ce-7f7b-e8c4-8f5d716ad09d              1          3.0  2008-01-01   \n",
       "00002852-4f2a-473a-ae63-810fa8d3f31f              0          1.0  2013-01-01   \n",
       "00006713-e0f6-e8d0-58a3-0063bb243a50              1          0.0           0   \n",
       "00006aa5-68cc-7430-eb3d-9bd8305dcb4d              0          1.0           0   \n",
       "\n",
       "                                     completed_on  is_completed  \\\n",
       "0000125e-5faf-822d-72d4-b7701e250550            0           0.0   \n",
       "000020dc-18ce-7f7b-e8c4-8f5d716ad09d   2012-01-01           1.0   \n",
       "00002852-4f2a-473a-ae63-810fa8d3f31f   2017-01-01           1.0   \n",
       "00006713-e0f6-e8d0-58a3-0063bb243a50            0           0.0   \n",
       "00006aa5-68cc-7430-eb3d-9bd8305dcb4d            0           0.0   \n",
       "\n",
       "                                      subject_Computer Science  \\\n",
       "0000125e-5faf-822d-72d4-b7701e250550                       NaN   \n",
       "000020dc-18ce-7f7b-e8c4-8f5d716ad09d                       0.0   \n",
       "00002852-4f2a-473a-ae63-810fa8d3f31f                       1.0   \n",
       "00006713-e0f6-e8d0-58a3-0063bb243a50                       NaN   \n",
       "00006aa5-68cc-7430-eb3d-9bd8305dcb4d                       0.0   \n",
       "\n",
       "                                      subject_Economics  ...  subject_Biology  \\\n",
       "0000125e-5faf-822d-72d4-b7701e250550                NaN  ...              NaN   \n",
       "000020dc-18ce-7f7b-e8c4-8f5d716ad09d                0.0  ...              0.0   \n",
       "00002852-4f2a-473a-ae63-810fa8d3f31f                0.0  ...              0.0   \n",
       "00006713-e0f6-e8d0-58a3-0063bb243a50                NaN  ...              NaN   \n",
       "00006aa5-68cc-7430-eb3d-9bd8305dcb4d                0.0  ...              0.0   \n",
       "\n",
       "                                      subject_International Business  \\\n",
       "0000125e-5faf-822d-72d4-b7701e250550                             NaN   \n",
       "000020dc-18ce-7f7b-e8c4-8f5d716ad09d                             0.0   \n",
       "00002852-4f2a-473a-ae63-810fa8d3f31f                             0.0   \n",
       "00006713-e0f6-e8d0-58a3-0063bb243a50                             NaN   \n",
       "00006aa5-68cc-7430-eb3d-9bd8305dcb4d                             0.0   \n",
       "\n",
       "                                      subject_Information Technology  \\\n",
       "0000125e-5faf-822d-72d4-b7701e250550                             NaN   \n",
       "000020dc-18ce-7f7b-e8c4-8f5d716ad09d                             0.0   \n",
       "00002852-4f2a-473a-ae63-810fa8d3f31f                             0.0   \n",
       "00006713-e0f6-e8d0-58a3-0063bb243a50                             NaN   \n",
       "00006aa5-68cc-7430-eb3d-9bd8305dcb4d                             0.0   \n",
       "\n",
       "                                      subject_Business Management  \\\n",
       "0000125e-5faf-822d-72d4-b7701e250550                          NaN   \n",
       "000020dc-18ce-7f7b-e8c4-8f5d716ad09d                          0.0   \n",
       "00002852-4f2a-473a-ae63-810fa8d3f31f                          0.0   \n",
       "00006713-e0f6-e8d0-58a3-0063bb243a50                          NaN   \n",
       "00006aa5-68cc-7430-eb3d-9bd8305dcb4d                          0.0   \n",
       "\n",
       "                                      subject_English  \\\n",
       "0000125e-5faf-822d-72d4-b7701e250550              NaN   \n",
       "000020dc-18ce-7f7b-e8c4-8f5d716ad09d              0.0   \n",
       "00002852-4f2a-473a-ae63-810fa8d3f31f              0.0   \n",
       "00006713-e0f6-e8d0-58a3-0063bb243a50              NaN   \n",
       "00006aa5-68cc-7430-eb3d-9bd8305dcb4d              0.0   \n",
       "\n",
       "                                      subject_Industrial Engineering  \\\n",
       "0000125e-5faf-822d-72d4-b7701e250550                             NaN   \n",
       "000020dc-18ce-7f7b-e8c4-8f5d716ad09d                             0.0   \n",
       "00002852-4f2a-473a-ae63-810fa8d3f31f                             0.0   \n",
       "00006713-e0f6-e8d0-58a3-0063bb243a50                             NaN   \n",
       "00006aa5-68cc-7430-eb3d-9bd8305dcb4d                             0.0   \n",
       "\n",
       "                                      subject_Civil Engineering  \\\n",
       "0000125e-5faf-822d-72d4-b7701e250550                        NaN   \n",
       "000020dc-18ce-7f7b-e8c4-8f5d716ad09d                        0.0   \n",
       "00002852-4f2a-473a-ae63-810fa8d3f31f                        0.0   \n",
       "00006713-e0f6-e8d0-58a3-0063bb243a50                        NaN   \n",
       "00006aa5-68cc-7430-eb3d-9bd8305dcb4d                        0.0   \n",
       "\n",
       "                                      subject_Biochemistry  subject_Medicine  \\\n",
       "0000125e-5faf-822d-72d4-b7701e250550                   NaN               NaN   \n",
       "000020dc-18ce-7f7b-e8c4-8f5d716ad09d                   0.0               0.0   \n",
       "00002852-4f2a-473a-ae63-810fa8d3f31f                   0.0               0.0   \n",
       "00006713-e0f6-e8d0-58a3-0063bb243a50                   NaN               NaN   \n",
       "00006aa5-68cc-7430-eb3d-9bd8305dcb4d                   0.0               0.0   \n",
       "\n",
       "                                      subject_Philosophy  \n",
       "0000125e-5faf-822d-72d4-b7701e250550                 NaN  \n",
       "000020dc-18ce-7f7b-e8c4-8f5d716ad09d                 0.0  \n",
       "00002852-4f2a-473a-ae63-810fa8d3f31f                 0.0  \n",
       "00006713-e0f6-e8d0-58a3-0063bb243a50                 NaN  \n",
       "00006aa5-68cc-7430-eb3d-9bd8305dcb4d                 0.0  \n",
       "\n",
       "[5 rows x 38 columns]"
      ],
      "text/html": "<div>\n<style scoped>\n    .dataframe tbody tr th:only-of-type {\n        vertical-align: middle;\n    }\n\n    .dataframe tbody tr th {\n        vertical-align: top;\n    }\n\n    .dataframe thead th {\n        text-align: right;\n    }\n</style>\n<table border=\"1\" class=\"dataframe\">\n  <thead>\n    <tr style=\"text-align: right;\">\n      <th></th>\n      <th>org_uuid</th>\n      <th>job_duration</th>\n      <th>gender_male</th>\n      <th>gender_female</th>\n      <th>degree_type</th>\n      <th>started_on</th>\n      <th>completed_on</th>\n      <th>is_completed</th>\n      <th>subject_Computer Science</th>\n      <th>subject_Economics</th>\n      <th>...</th>\n      <th>subject_Biology</th>\n      <th>subject_International Business</th>\n      <th>subject_Information Technology</th>\n      <th>subject_Business Management</th>\n      <th>subject_English</th>\n      <th>subject_Industrial Engineering</th>\n      <th>subject_Civil Engineering</th>\n      <th>subject_Biochemistry</th>\n      <th>subject_Medicine</th>\n      <th>subject_Philosophy</th>\n    </tr>\n  </thead>\n  <tbody>\n    <tr>\n      <th>0000125e-5faf-822d-72d4-b7701e250550</th>\n      <td>75685ae6-5ba1-0ffb-80ba-3c0bf539e04d</td>\n      <td>2188</td>\n      <td>1</td>\n      <td>0</td>\n      <td>0.0</td>\n      <td>0</td>\n      <td>0</td>\n      <td>0.0</td>\n      <td>NaN</td>\n      <td>NaN</td>\n      <td>...</td>\n      <td>NaN</td>\n      <td>NaN</td>\n      <td>NaN</td>\n      <td>NaN</td>\n      <td>NaN</td>\n      <td>NaN</td>\n      <td>NaN</td>\n      <td>NaN</td>\n      <td>NaN</td>\n      <td>NaN</td>\n    </tr>\n    <tr>\n      <th>000020dc-18ce-7f7b-e8c4-8f5d716ad09d</th>\n      <td>867f0af5-a1d0-143d-bbed-5cc252ca40d6</td>\n      <td>2188</td>\n      <td>0</td>\n      <td>1</td>\n      <td>3.0</td>\n      <td>2008-01-01</td>\n      <td>2012-01-01</td>\n      <td>1.0</td>\n      <td>0.0</td>\n      <td>0.0</td>\n      <td>...</td>\n      <td>0.0</td>\n      <td>0.0</td>\n      <td>0.0</td>\n      <td>0.0</td>\n      <td>0.0</td>\n      <td>0.0</td>\n      <td>0.0</td>\n      <td>0.0</td>\n      <td>0.0</td>\n      <td>0.0</td>\n    </tr>\n    <tr>\n      <th>00002852-4f2a-473a-ae63-810fa8d3f31f</th>\n      <td>655ff5a2-33d2-dfe5-af13-20866a58a5c0</td>\n      <td>1035</td>\n      <td>1</td>\n      <td>0</td>\n      <td>1.0</td>\n      <td>2013-01-01</td>\n      <td>2017-01-01</td>\n      <td>1.0</td>\n      <td>1.0</td>\n      <td>0.0</td>\n      <td>...</td>\n      <td>0.0</td>\n      <td>0.0</td>\n      <td>0.0</td>\n      <td>0.0</td>\n      <td>0.0</td>\n      <td>0.0</td>\n      <td>0.0</td>\n      <td>0.0</td>\n      <td>0.0</td>\n      <td>0.0</td>\n    </tr>\n    <tr>\n      <th>00006713-e0f6-e8d0-58a3-0063bb243a50</th>\n      <td>bf0eb7c9-a5c4-014f-fb7c-f6530084e4d5</td>\n      <td>2188</td>\n      <td>0</td>\n      <td>1</td>\n      <td>0.0</td>\n      <td>0</td>\n      <td>0</td>\n      <td>0.0</td>\n      <td>NaN</td>\n      <td>NaN</td>\n      <td>...</td>\n      <td>NaN</td>\n      <td>NaN</td>\n      <td>NaN</td>\n      <td>NaN</td>\n      <td>NaN</td>\n      <td>NaN</td>\n      <td>NaN</td>\n      <td>NaN</td>\n      <td>NaN</td>\n      <td>NaN</td>\n    </tr>\n    <tr>\n      <th>00006aa5-68cc-7430-eb3d-9bd8305dcb4d</th>\n      <td>cab0141c-849d-56e9-8173-56fcd95c5dd1</td>\n      <td>2188</td>\n      <td>1</td>\n      <td>0</td>\n      <td>1.0</td>\n      <td>0</td>\n      <td>0</td>\n      <td>0.0</td>\n      <td>0.0</td>\n      <td>0.0</td>\n      <td>...</td>\n      <td>0.0</td>\n      <td>0.0</td>\n      <td>0.0</td>\n      <td>0.0</td>\n      <td>0.0</td>\n      <td>0.0</td>\n      <td>0.0</td>\n      <td>0.0</td>\n      <td>0.0</td>\n      <td>0.0</td>\n    </tr>\n  </tbody>\n</table>\n<p>5 rows × 38 columns</p>\n</div>"
     },
     "metadata": {},
     "execution_count": 29
    }
   ],
   "source": [
    "job_join.head()"
   ]
  },
  {
   "cell_type": "code",
   "execution_count": 30,
   "metadata": {},
   "outputs": [
    {
     "output_type": "stream",
     "name": "stdout",
     "text": [
      "<class 'pandas.core.frame.DataFrame'>\nIndex: 1589222 entries, 0000125e-5faf-822d-72d4-b7701e250550 to fffff797-41b1-4358-a991-7d9c51be798c\nData columns (total 38 columns):\n #   Column                           Non-Null Count    Dtype  \n---  ------                           --------------    -----  \n 0   org_uuid                         1589222 non-null  object \n 1   job_duration                     1589222 non-null  int64  \n 2   gender_male                      1589222 non-null  int32  \n 3   gender_female                    1589222 non-null  int32  \n 4   degree_type                      1589222 non-null  float64\n 5   started_on                       1589173 non-null  object \n 6   completed_on                     1589187 non-null  object \n 7   is_completed                     1589222 non-null  float64\n 8   subject_Computer Science         549909 non-null   float64\n 9   subject_Economics                549909 non-null   float64\n 10  subject_Finance                  549909 non-null   float64\n 11  subject_Electrical Engineering   549909 non-null   float64\n 12  subject_Business Administration  549909 non-null   float64\n 13  subject_Mechanical Engineering   549909 non-null   float64\n 14  subject_Marketing                549909 non-null   float64\n 15  subject_Accounting               549909 non-null   float64\n 16  subject_Law                      549909 non-null   float64\n 17  subject_Business                 549909 non-null   float64\n 18  subject_Computer Engineering     549909 non-null   float64\n 19  subject_Physics                  549909 non-null   float64\n 20  subject_Political Science        549909 non-null   float64\n 21  subject_Management               549909 non-null   float64\n 22  subject_Engineering              549909 non-null   float64\n 23  subject_Psychology               549909 non-null   float64\n 24  subject_Mathematics              549909 non-null   float64\n 25  subject_Chemical Engineering     549909 non-null   float64\n 26  subject_Chemistry                549909 non-null   float64\n 27  subject_History                  549909 non-null   float64\n 28  subject_Biology                  549909 non-null   float64\n 29  subject_International Business   549909 non-null   float64\n 30  subject_Information Technology   549909 non-null   float64\n 31  subject_Business Management      549909 non-null   float64\n 32  subject_English                  549909 non-null   float64\n 33  subject_Industrial Engineering   549909 non-null   float64\n 34  subject_Civil Engineering        549909 non-null   float64\n 35  subject_Biochemistry             549909 non-null   float64\n 36  subject_Medicine                 549909 non-null   float64\n 37  subject_Philosophy               549909 non-null   float64\ndtypes: float64(32), int32(2), int64(1), object(3)\nmemory usage: 460.7+ MB\n"
     ]
    }
   ],
   "source": [
    "job_join.info()"
   ]
  },
  {
   "cell_type": "code",
   "execution_count": 36,
   "metadata": {},
   "outputs": [
    {
     "output_type": "error",
     "ename": "KeyError",
     "evalue": "\"['started_on' 'completed_on'] not found in axis\"",
     "traceback": [
      "\u001b[1;31m---------------------------------------------------------------------------\u001b[0m",
      "\u001b[1;31mKeyError\u001b[0m                                  Traceback (most recent call last)",
      "\u001b[1;32m<ipython-input-36-6f9481cbdae6>\u001b[0m in \u001b[0;36m<module>\u001b[1;34m\u001b[0m\n\u001b[1;32m----> 1\u001b[1;33m \u001b[0mjob_join\u001b[0m\u001b[1;33m.\u001b[0m\u001b[0mdrop\u001b[0m\u001b[1;33m(\u001b[0m\u001b[0mcolumns\u001b[0m\u001b[1;33m=\u001b[0m\u001b[1;33m[\u001b[0m\u001b[1;34m'started_on'\u001b[0m\u001b[1;33m,\u001b[0m\u001b[1;34m'completed_on'\u001b[0m\u001b[1;33m,\u001b[0m\u001b[1;34m'is_completed'\u001b[0m\u001b[1;33m]\u001b[0m\u001b[1;33m,\u001b[0m \u001b[0minplace\u001b[0m\u001b[1;33m=\u001b[0m\u001b[1;32mTrue\u001b[0m\u001b[1;33m)\u001b[0m \u001b[1;31m# may not drop in final ver\u001b[0m\u001b[1;33m\u001b[0m\u001b[1;33m\u001b[0m\u001b[0m\n\u001b[0m\u001b[0;32m      2\u001b[0m \u001b[0mjob_join\u001b[0m\u001b[1;33m.\u001b[0m\u001b[0mfillna\u001b[0m\u001b[1;33m(\u001b[0m\u001b[0mvalue\u001b[0m\u001b[1;33m=\u001b[0m\u001b[1;36m0\u001b[0m\u001b[1;33m,\u001b[0m \u001b[0minplace\u001b[0m\u001b[1;33m=\u001b[0m\u001b[1;32mTrue\u001b[0m\u001b[1;33m)\u001b[0m\u001b[1;33m\u001b[0m\u001b[1;33m\u001b[0m\u001b[0m\n",
      "\u001b[1;32m~\\anaconda3\\lib\\site-packages\\pandas\\core\\frame.py\u001b[0m in \u001b[0;36mdrop\u001b[1;34m(self, labels, axis, index, columns, level, inplace, errors)\u001b[0m\n\u001b[0;32m   3988\u001b[0m                 \u001b[0mweight\u001b[0m  \u001b[1;36m1.0\u001b[0m     \u001b[1;36m0.8\u001b[0m\u001b[1;33m\u001b[0m\u001b[1;33m\u001b[0m\u001b[0m\n\u001b[0;32m   3989\u001b[0m         \"\"\"\n\u001b[1;32m-> 3990\u001b[1;33m         return super().drop(\n\u001b[0m\u001b[0;32m   3991\u001b[0m             \u001b[0mlabels\u001b[0m\u001b[1;33m=\u001b[0m\u001b[0mlabels\u001b[0m\u001b[1;33m,\u001b[0m\u001b[1;33m\u001b[0m\u001b[1;33m\u001b[0m\u001b[0m\n\u001b[0;32m   3992\u001b[0m             \u001b[0maxis\u001b[0m\u001b[1;33m=\u001b[0m\u001b[0maxis\u001b[0m\u001b[1;33m,\u001b[0m\u001b[1;33m\u001b[0m\u001b[1;33m\u001b[0m\u001b[0m\n",
      "\u001b[1;32m~\\anaconda3\\lib\\site-packages\\pandas\\core\\generic.py\u001b[0m in \u001b[0;36mdrop\u001b[1;34m(self, labels, axis, index, columns, level, inplace, errors)\u001b[0m\n\u001b[0;32m   3934\u001b[0m         \u001b[1;32mfor\u001b[0m \u001b[0maxis\u001b[0m\u001b[1;33m,\u001b[0m \u001b[0mlabels\u001b[0m \u001b[1;32min\u001b[0m \u001b[0maxes\u001b[0m\u001b[1;33m.\u001b[0m\u001b[0mitems\u001b[0m\u001b[1;33m(\u001b[0m\u001b[1;33m)\u001b[0m\u001b[1;33m:\u001b[0m\u001b[1;33m\u001b[0m\u001b[1;33m\u001b[0m\u001b[0m\n\u001b[0;32m   3935\u001b[0m             \u001b[1;32mif\u001b[0m \u001b[0mlabels\u001b[0m \u001b[1;32mis\u001b[0m \u001b[1;32mnot\u001b[0m \u001b[1;32mNone\u001b[0m\u001b[1;33m:\u001b[0m\u001b[1;33m\u001b[0m\u001b[1;33m\u001b[0m\u001b[0m\n\u001b[1;32m-> 3936\u001b[1;33m                 \u001b[0mobj\u001b[0m \u001b[1;33m=\u001b[0m \u001b[0mobj\u001b[0m\u001b[1;33m.\u001b[0m\u001b[0m_drop_axis\u001b[0m\u001b[1;33m(\u001b[0m\u001b[0mlabels\u001b[0m\u001b[1;33m,\u001b[0m \u001b[0maxis\u001b[0m\u001b[1;33m,\u001b[0m \u001b[0mlevel\u001b[0m\u001b[1;33m=\u001b[0m\u001b[0mlevel\u001b[0m\u001b[1;33m,\u001b[0m \u001b[0merrors\u001b[0m\u001b[1;33m=\u001b[0m\u001b[0merrors\u001b[0m\u001b[1;33m)\u001b[0m\u001b[1;33m\u001b[0m\u001b[1;33m\u001b[0m\u001b[0m\n\u001b[0m\u001b[0;32m   3937\u001b[0m \u001b[1;33m\u001b[0m\u001b[0m\n\u001b[0;32m   3938\u001b[0m         \u001b[1;32mif\u001b[0m \u001b[0minplace\u001b[0m\u001b[1;33m:\u001b[0m\u001b[1;33m\u001b[0m\u001b[1;33m\u001b[0m\u001b[0m\n",
      "\u001b[1;32m~\\anaconda3\\lib\\site-packages\\pandas\\core\\generic.py\u001b[0m in \u001b[0;36m_drop_axis\u001b[1;34m(self, labels, axis, level, errors)\u001b[0m\n\u001b[0;32m   3968\u001b[0m                 \u001b[0mnew_axis\u001b[0m \u001b[1;33m=\u001b[0m \u001b[0maxis\u001b[0m\u001b[1;33m.\u001b[0m\u001b[0mdrop\u001b[0m\u001b[1;33m(\u001b[0m\u001b[0mlabels\u001b[0m\u001b[1;33m,\u001b[0m \u001b[0mlevel\u001b[0m\u001b[1;33m=\u001b[0m\u001b[0mlevel\u001b[0m\u001b[1;33m,\u001b[0m \u001b[0merrors\u001b[0m\u001b[1;33m=\u001b[0m\u001b[0merrors\u001b[0m\u001b[1;33m)\u001b[0m\u001b[1;33m\u001b[0m\u001b[1;33m\u001b[0m\u001b[0m\n\u001b[0;32m   3969\u001b[0m             \u001b[1;32melse\u001b[0m\u001b[1;33m:\u001b[0m\u001b[1;33m\u001b[0m\u001b[1;33m\u001b[0m\u001b[0m\n\u001b[1;32m-> 3970\u001b[1;33m                 \u001b[0mnew_axis\u001b[0m \u001b[1;33m=\u001b[0m \u001b[0maxis\u001b[0m\u001b[1;33m.\u001b[0m\u001b[0mdrop\u001b[0m\u001b[1;33m(\u001b[0m\u001b[0mlabels\u001b[0m\u001b[1;33m,\u001b[0m \u001b[0merrors\u001b[0m\u001b[1;33m=\u001b[0m\u001b[0merrors\u001b[0m\u001b[1;33m)\u001b[0m\u001b[1;33m\u001b[0m\u001b[1;33m\u001b[0m\u001b[0m\n\u001b[0m\u001b[0;32m   3971\u001b[0m             \u001b[0mresult\u001b[0m \u001b[1;33m=\u001b[0m \u001b[0mself\u001b[0m\u001b[1;33m.\u001b[0m\u001b[0mreindex\u001b[0m\u001b[1;33m(\u001b[0m\u001b[1;33m**\u001b[0m\u001b[1;33m{\u001b[0m\u001b[0maxis_name\u001b[0m\u001b[1;33m:\u001b[0m \u001b[0mnew_axis\u001b[0m\u001b[1;33m}\u001b[0m\u001b[1;33m)\u001b[0m\u001b[1;33m\u001b[0m\u001b[1;33m\u001b[0m\u001b[0m\n\u001b[0;32m   3972\u001b[0m \u001b[1;33m\u001b[0m\u001b[0m\n",
      "\u001b[1;32m~\\anaconda3\\lib\\site-packages\\pandas\\core\\indexes\\base.py\u001b[0m in \u001b[0;36mdrop\u001b[1;34m(self, labels, errors)\u001b[0m\n\u001b[0;32m   5016\u001b[0m         \u001b[1;32mif\u001b[0m \u001b[0mmask\u001b[0m\u001b[1;33m.\u001b[0m\u001b[0many\u001b[0m\u001b[1;33m(\u001b[0m\u001b[1;33m)\u001b[0m\u001b[1;33m:\u001b[0m\u001b[1;33m\u001b[0m\u001b[1;33m\u001b[0m\u001b[0m\n\u001b[0;32m   5017\u001b[0m             \u001b[1;32mif\u001b[0m \u001b[0merrors\u001b[0m \u001b[1;33m!=\u001b[0m \u001b[1;34m\"ignore\"\u001b[0m\u001b[1;33m:\u001b[0m\u001b[1;33m\u001b[0m\u001b[1;33m\u001b[0m\u001b[0m\n\u001b[1;32m-> 5018\u001b[1;33m                 \u001b[1;32mraise\u001b[0m \u001b[0mKeyError\u001b[0m\u001b[1;33m(\u001b[0m\u001b[1;34mf\"{labels[mask]} not found in axis\"\u001b[0m\u001b[1;33m)\u001b[0m\u001b[1;33m\u001b[0m\u001b[1;33m\u001b[0m\u001b[0m\n\u001b[0m\u001b[0;32m   5019\u001b[0m             \u001b[0mindexer\u001b[0m \u001b[1;33m=\u001b[0m \u001b[0mindexer\u001b[0m\u001b[1;33m[\u001b[0m\u001b[1;33m~\u001b[0m\u001b[0mmask\u001b[0m\u001b[1;33m]\u001b[0m\u001b[1;33m\u001b[0m\u001b[1;33m\u001b[0m\u001b[0m\n\u001b[0;32m   5020\u001b[0m         \u001b[1;32mreturn\u001b[0m \u001b[0mself\u001b[0m\u001b[1;33m.\u001b[0m\u001b[0mdelete\u001b[0m\u001b[1;33m(\u001b[0m\u001b[0mindexer\u001b[0m\u001b[1;33m)\u001b[0m\u001b[1;33m\u001b[0m\u001b[1;33m\u001b[0m\u001b[0m\n",
      "\u001b[1;31mKeyError\u001b[0m: \"['started_on' 'completed_on'] not found in axis\""
     ]
    }
   ],
   "source": [
    "job_join.drop(columns=['started_on','completed_on','is_completed'], inplace=True) # may not drop in final ver\n",
    "job_join.fillna(value=0, inplace=True)"
   ]
  },
  {
   "cell_type": "code",
   "execution_count": 35,
   "metadata": {},
   "outputs": [
    {
     "output_type": "stream",
     "name": "stdout",
     "text": [
      "<class 'pandas.core.frame.DataFrame'>\nIndex: 1589222 entries, 0000125e-5faf-822d-72d4-b7701e250550 to fffff797-41b1-4358-a991-7d9c51be798c\nData columns (total 36 columns):\n #   Column                           Non-Null Count    Dtype  \n---  ------                           --------------    -----  \n 0   org_uuid                         1589222 non-null  object \n 1   job_duration                     1589222 non-null  int64  \n 2   gender_male                      1589222 non-null  int32  \n 3   gender_female                    1589222 non-null  int32  \n 4   degree_type                      1589222 non-null  float64\n 5   is_completed                     1589222 non-null  float64\n 6   subject_Computer Science         1589222 non-null  float64\n 7   subject_Economics                1589222 non-null  float64\n 8   subject_Finance                  1589222 non-null  float64\n 9   subject_Electrical Engineering   1589222 non-null  float64\n 10  subject_Business Administration  1589222 non-null  float64\n 11  subject_Mechanical Engineering   1589222 non-null  float64\n 12  subject_Marketing                1589222 non-null  float64\n 13  subject_Accounting               1589222 non-null  float64\n 14  subject_Law                      1589222 non-null  float64\n 15  subject_Business                 1589222 non-null  float64\n 16  subject_Computer Engineering     1589222 non-null  float64\n 17  subject_Physics                  1589222 non-null  float64\n 18  subject_Political Science        1589222 non-null  float64\n 19  subject_Management               1589222 non-null  float64\n 20  subject_Engineering              1589222 non-null  float64\n 21  subject_Psychology               1589222 non-null  float64\n 22  subject_Mathematics              1589222 non-null  float64\n 23  subject_Chemical Engineering     1589222 non-null  float64\n 24  subject_Chemistry                1589222 non-null  float64\n 25  subject_History                  1589222 non-null  float64\n 26  subject_Biology                  1589222 non-null  float64\n 27  subject_International Business   1589222 non-null  float64\n 28  subject_Information Technology   1589222 non-null  float64\n 29  subject_Business Management      1589222 non-null  float64\n 30  subject_English                  1589222 non-null  float64\n 31  subject_Industrial Engineering   1589222 non-null  float64\n 32  subject_Civil Engineering        1589222 non-null  float64\n 33  subject_Biochemistry             1589222 non-null  float64\n 34  subject_Medicine                 1589222 non-null  float64\n 35  subject_Philosophy               1589222 non-null  float64\ndtypes: float64(32), int32(2), int64(1), object(1)\nmemory usage: 476.5+ MB\n"
     ]
    }
   ],
   "source": [
    "job_join.info()"
   ]
  },
  {
   "cell_type": "code",
   "execution_count": 37,
   "metadata": {},
   "outputs": [],
   "source": [
    "test = job_join.groupby(['org_uuid']).sum()"
   ]
  },
  {
   "cell_type": "code",
   "execution_count": 38,
   "metadata": {},
   "outputs": [
    {
     "output_type": "execute_result",
     "data": {
      "text/plain": [
       "\n",
       "00011be5-d105-eaa0-69d6-6064e74916b2              0.0   \n",
       "0001a6ec-e7e9-4d1b-8a77-adb5ac815420              0.0   \n",
       "0001a8cc-0cdc-4a30-b4d3-da1b425069e1              0.0   \n",
       "0001dd49-7b22-4467-8a79-1801912d82f1              0.0   \n",
       "0001eae7-077d-4d0b-a717-f67bcf2a09fa              0.0   \n",
       "000225db-f9db-c013-fb67-b347ba646e4a              0.0   \n",
       "0002a7a9-b405-fb78-af07-a6b4ac44bf4e              0.0   \n",
       "0002aa63-f21b-4c54-9495-895a1d09e0d4              0.0   \n",
       "0002c5f7-f2a1-4bac-adcb-532b8e80ff59              0.0   \n",
       "0002da99-6654-1ecd-79c6-8064a01ebfa6              0.0   \n",
       "00035815-cf55-45df-ac8f-560a4615d129              0.0   \n",
       "0003f244-79d0-6178-353e-33dabaf3b2c6              0.0   \n",
       "00040210-ed6d-d945-18a2-580918e4f602              0.0   \n",
       "00040dc9-f822-267c-9cf8-1c9b92ca0588              0.0   \n",
       "0004c2e0-9717-45af-8496-2a899f1276f0              0.0   \n",
       "0004c6a4-25e3-d7cf-d30f-e02cdab2641b              0.0   \n",
       "00051bf5-fd50-876e-3373-75e3df98e68d              0.0   \n",
       "000530f1-b98a-f505-ca24-0b96c63cd67d              0.0   \n",
       "00053977-b378-94a9-3735-d364a7e8d54d              0.0   \n",
       "00054ab4-aa30-43ba-861e-9519e176cf31              0.0   \n",
       "00059df1-d8c0-4e22-adfc-eba634e5c974              0.0   \n",
       "000607fc-cea0-535c-6324-e83ba07c8cc7              0.0   \n",
       "00060bc9-3567-4a75-9564-469a3ec0a8ef              0.0   \n",
       "00062868-6f30-8c79-63dd-fa029e337201              0.0   \n",
       "00062c60-a35d-43e5-8a93-611741edce8d              0.0   \n",
       "00063118-3cfe-3c48-79d9-94eaf4cdca51              0.0   \n",
       "000644d4-9e1b-3c90-4793-36d656d58f22              0.0   \n",
       "0006693f-7c16-42d2-bda2-b6f8011dc60e              0.0   \n",
       "0006ae23-a3da-4130-958e-4b17bce64e25              0.0   \n",
       "0006ae43-0511-bb2f-48d6-ed0544f21ebc              0.0   \n",
       "0006e526-4015-d091-86d7-756b6ac8f78a              0.0   \n",
       "00072c6c-1d18-61b3-46b2-c647efcc3dd5              0.0   \n",
       "00073e76-598d-45d0-7be6-15ecf904c0c8              0.0   \n",
       "00075144-ce2b-4636-8c36-462c6a12452e              0.0   \n",
       "0007585e-f95d-32d2-762f-b20740851cec              0.0   \n",
       "00079c30-3fd5-b924-d9e3-eb7f53f76edf              0.0   \n",
       "0007accb-f745-5aee-b503-2812480a2544              0.0   \n",
       "00081276-3234-e35a-0095-e5dc957603d9              0.0   \n",
       "0008239e-a285-43a0-bfe2-e6815b7221b7              0.0   \n",
       "00082807-7355-f78f-fde1-d352b3e7836c              0.0   \n",
       "00085b77-fa20-3f2e-f5e6-9ddbde462e72              0.0   \n",
       "00086114-83d0-04c1-2bf8-9d9a838108d8              0.0   \n",
       "0008f4ac-be62-b6e6-0122-f0c2da7fd1eb              0.0   \n",
       "00091358-943c-411e-bc5a-a3933f917830              0.0   \n",
       "00091d27-24b1-488d-8be0-b169fe1aaace              0.0   \n",
       "00095037-bacc-bf5c-e3c2-330c44c255c2              0.0   \n",
       "000986fe-d41c-7f90-d27e-482967ecad50              0.0   \n",
       "00099fdb-cd5c-4e2b-a35a-faa1b4efedef              0.0   \n",
       "\n",
       "                                      subject_Industrial Engineering  \\\n",
       "org_uuid                                                               \n",
       "00000aa4-ba42-9b68-a9c3-040c9f3bf9b9                             0.0   \n",
       "000014da-0c46-b9cb-0941-3a93c027b119                             0.0   \n",
       "0000221d-6dfd-a049-dcfc-b4a5ca3b0fe7                             0.0   \n",
       "00002470-bff7-6226-5800-0ca1b3787b6f                             0.0   \n",
       "00003a2c-ad4d-ff61-997b-7b22b2320895                             0.0   \n",
       "00004c41-aeeb-b5a0-8812-64cf2d017cfb                             0.0   \n",
       "0000790f-4971-485a-96f6-c4d78953196c                             0.0   \n",
       "00007c5c-9260-0dfb-c160-89a416f1a7cc                             0.0   \n",
       "0000b5c1-07dd-aeb6-2b17-eb3d64e652a6                             0.0   \n",
       "0000c0e1-eb00-9281-9a7f-63dfa277e8df                             0.0   \n",
       "0000d497-c93a-eea3-eeb0-a943dfb4f71e                             0.0   \n",
       "0000ed60-83b4-679a-18b8-4fc3475c7a39                             0.0   \n",
       "00011be5-d105-eaa0-69d6-6064e74916b2                             0.0   \n",
       "0001a6ec-e7e9-4d1b-8a77-adb5ac815420                             0.0   \n",
       "0001a8cc-0cdc-4a30-b4d3-da1b425069e1                             0.0   \n",
       "0001dd49-7b22-4467-8a79-1801912d82f1                             0.0   \n",
       "0001eae7-077d-4d0b-a717-f67bcf2a09fa                             0.0   \n",
       "000225db-f9db-c013-fb67-b347ba646e4a                             0.0   \n",
       "0002a7a9-b405-fb78-af07-a6b4ac44bf4e                             0.0   \n",
       "0002aa63-f21b-4c54-9495-895a1d09e0d4                             0.0   \n",
       "0002c5f7-f2a1-4bac-adcb-532b8e80ff59                             0.0   \n",
       "0002da99-6654-1ecd-79c6-8064a01ebfa6                             0.0   \n",
       "00035815-cf55-45df-ac8f-560a4615d129                             0.0   \n",
       "0003f244-79d0-6178-353e-33dabaf3b2c6                             0.0   \n",
       "00040210-ed6d-d945-18a2-580918e4f602                             0.0   \n",
       "00040dc9-f822-267c-9cf8-1c9b92ca0588                             0.0   \n",
       "0004c2e0-9717-45af-8496-2a899f1276f0                             0.0   \n",
       "0004c6a4-25e3-d7cf-d30f-e02cdab2641b                             0.0   \n",
       "00051bf5-fd50-876e-3373-75e3df98e68d                             0.0   \n",
       "000530f1-b98a-f505-ca24-0b96c63cd67d                             0.0   \n",
       "00053977-b378-94a9-3735-d364a7e8d54d                             0.0   \n",
       "00054ab4-aa30-43ba-861e-9519e176cf31                             0.0   \n",
       "00059df1-d8c0-4e22-adfc-eba634e5c974                             0.0   \n",
       "000607fc-cea0-535c-6324-e83ba07c8cc7                             0.0   \n",
       "00060bc9-3567-4a75-9564-469a3ec0a8ef                             0.0   \n",
       "00062868-6f30-8c79-63dd-fa029e337201                             0.0   \n",
       "00062c60-a35d-43e5-8a93-611741edce8d                             0.0   \n",
       "00063118-3cfe-3c48-79d9-94eaf4cdca51                             0.0   \n",
       "000644d4-9e1b-3c90-4793-36d656d58f22                             0.0   \n",
       "0006693f-7c16-42d2-bda2-b6f8011dc60e                             0.0   \n",
       "0006ae23-a3da-4130-958e-4b17bce64e25                             0.0   \n",
       "0006ae43-0511-bb2f-48d6-ed0544f21ebc                             0.0   \n",
       "0006e526-4015-d091-86d7-756b6ac8f78a                             0.0   \n",
       "00072c6c-1d18-61b3-46b2-c647efcc3dd5                             0.0   \n",
       "00073e76-598d-45d0-7be6-15ecf904c0c8                             0.0   \n",
       "00075144-ce2b-4636-8c36-462c6a12452e                             0.0   \n",
       "0007585e-f95d-32d2-762f-b20740851cec                             0.0   \n",
       "00079c30-3fd5-b924-d9e3-eb7f53f76edf                             0.0   \n",
       "0007accb-f745-5aee-b503-2812480a2544                             0.0   \n",
       "00081276-3234-e35a-0095-e5dc957603d9                             0.0   \n",
       "0008239e-a285-43a0-bfe2-e6815b7221b7                             0.0   \n",
       "00082807-7355-f78f-fde1-d352b3e7836c                             0.0   \n",
       "00085b77-fa20-3f2e-f5e6-9ddbde462e72                             0.0   \n",
       "00086114-83d0-04c1-2bf8-9d9a838108d8                             0.0   \n",
       "0008f4ac-be62-b6e6-0122-f0c2da7fd1eb                             0.0   \n",
       "00091358-943c-411e-bc5a-a3933f917830                             0.0   \n",
       "00091d27-24b1-488d-8be0-b169fe1aaace                             0.0   \n",
       "00095037-bacc-bf5c-e3c2-330c44c255c2                             0.0   \n",
       "000986fe-d41c-7f90-d27e-482967ecad50                             0.0   \n",
       "00099fdb-cd5c-4e2b-a35a-faa1b4efedef                             0.0   \n",
       "\n",
       "                                      subject_Civil Engineering  \\\n",
       "org_uuid                                                          \n",
       "00000aa4-ba42-9b68-a9c3-040c9f3bf9b9                        0.0   \n",
       "000014da-0c46-b9cb-0941-3a93c027b119                        0.0   \n",
       "0000221d-6dfd-a049-dcfc-b4a5ca3b0fe7                        0.0   \n",
       "00002470-bff7-6226-5800-0ca1b3787b6f                        0.0   \n",
       "00003a2c-ad4d-ff61-997b-7b22b2320895                        0.0   \n",
       "00004c41-aeeb-b5a0-8812-64cf2d017cfb                        0.0   \n",
       "0000790f-4971-485a-96f6-c4d78953196c                        0.0   \n",
       "00007c5c-9260-0dfb-c160-89a416f1a7cc                        0.0   \n",
       "0000b5c1-07dd-aeb6-2b17-eb3d64e652a6                        0.0   \n",
       "0000c0e1-eb00-9281-9a7f-63dfa277e8df                        0.0   \n",
       "0000d497-c93a-eea3-eeb0-a943dfb4f71e                        0.0   \n",
       "0000ed60-83b4-679a-18b8-4fc3475c7a39                        0.0   \n",
       "00011be5-d105-eaa0-69d6-6064e74916b2                        0.0   \n",
       "0001a6ec-e7e9-4d1b-8a77-adb5ac815420                        0.0   \n",
       "0001a8cc-0cdc-4a30-b4d3-da1b425069e1                        0.0   \n",
       "0001dd49-7b22-4467-8a79-1801912d82f1                        0.0   \n",
       "0001eae7-077d-4d0b-a717-f67bcf2a09fa                        0.0   \n",
       "000225db-f9db-c013-fb67-b347ba646e4a                        0.0   \n",
       "0002a7a9-b405-fb78-af07-a6b4ac44bf4e                        0.0   \n",
       "0002aa63-f21b-4c54-9495-895a1d09e0d4                        0.0   \n",
       "0002c5f7-f2a1-4bac-adcb-532b8e80ff59                        0.0   \n",
       "0002da99-6654-1ecd-79c6-8064a01ebfa6                        0.0   \n",
       "00035815-cf55-45df-ac8f-560a4615d129                        0.0   \n",
       "0003f244-79d0-6178-353e-33dabaf3b2c6                        0.0   \n",
       "00040210-ed6d-d945-18a2-580918e4f602                        0.0   \n",
       "00040dc9-f822-267c-9cf8-1c9b92ca0588                        0.0   \n",
       "0004c2e0-9717-45af-8496-2a899f1276f0                        0.0   \n",
       "0004c6a4-25e3-d7cf-d30f-e02cdab2641b                        0.0   \n",
       "00051bf5-fd50-876e-3373-75e3df98e68d                        0.0   \n",
       "000530f1-b98a-f505-ca24-0b96c63cd67d                        0.0   \n",
       "00053977-b378-94a9-3735-d364a7e8d54d                        0.0   \n",
       "00054ab4-aa30-43ba-861e-9519e176cf31                        0.0   \n",
       "00059df1-d8c0-4e22-adfc-eba634e5c974                        0.0   \n",
       "000607fc-cea0-535c-6324-e83ba07c8cc7                        0.0   \n",
       "00060bc9-3567-4a75-9564-469a3ec0a8ef                        0.0   \n",
       "00062868-6f30-8c79-63dd-fa029e337201                        0.0   \n",
       "00062c60-a35d-43e5-8a93-611741edce8d                        0.0   \n",
       "00063118-3cfe-3c48-79d9-94eaf4cdca51                        0.0   \n",
       "000644d4-9e1b-3c90-4793-36d656d58f22                        0.0   \n",
       "0006693f-7c16-42d2-bda2-b6f8011dc60e                        0.0   \n",
       "0006ae23-a3da-4130-958e-4b17bce64e25                        0.0   \n",
       "0006ae43-0511-bb2f-48d6-ed0544f21ebc                        0.0   \n",
       "0006e526-4015-d091-86d7-756b6ac8f78a                        0.0   \n",
       "00072c6c-1d18-61b3-46b2-c647efcc3dd5                        0.0   \n",
       "00073e76-598d-45d0-7be6-15ecf904c0c8                        0.0   \n",
       "00075144-ce2b-4636-8c36-462c6a12452e                        0.0   \n",
       "0007585e-f95d-32d2-762f-b20740851cec                        0.0   \n",
       "00079c30-3fd5-b924-d9e3-eb7f53f76edf                        0.0   \n",
       "0007accb-f745-5aee-b503-2812480a2544                        0.0   \n",
       "00081276-3234-e35a-0095-e5dc957603d9                        0.0   \n",
       "0008239e-a285-43a0-bfe2-e6815b7221b7                        0.0   \n",
       "00082807-7355-f78f-fde1-d352b3e7836c                        0.0   \n",
       "00085b77-fa20-3f2e-f5e6-9ddbde462e72                        0.0   \n",
       "00086114-83d0-04c1-2bf8-9d9a838108d8                        0.0   \n",
       "0008f4ac-be62-b6e6-0122-f0c2da7fd1eb                        0.0   \n",
       "00091358-943c-411e-bc5a-a3933f917830                        0.0   \n",
       "00091d27-24b1-488d-8be0-b169fe1aaace                        0.0   \n",
       "00095037-bacc-bf5c-e3c2-330c44c255c2                        0.0   \n",
       "000986fe-d41c-7f90-d27e-482967ecad50                        0.0   \n",
       "00099fdb-cd5c-4e2b-a35a-faa1b4efedef                        0.0   \n",
       "\n",
       "                                      subject_Biochemistry  subject_Medicine  \\\n",
       "org_uuid                                                                       \n",
       "00000aa4-ba42-9b68-a9c3-040c9f3bf9b9                   0.0               0.0   \n",
       "000014da-0c46-b9cb-0941-3a93c027b119                   0.0               0.0   \n",
       "0000221d-6dfd-a049-dcfc-b4a5ca3b0fe7                   0.0               0.0   \n",
       "00002470-bff7-6226-5800-0ca1b3787b6f                   0.0               0.0   \n",
       "00003a2c-ad4d-ff61-997b-7b22b2320895                   0.0               0.0   \n",
       "00004c41-aeeb-b5a0-8812-64cf2d017cfb                   0.0               0.0   \n",
       "0000790f-4971-485a-96f6-c4d78953196c                   0.0               0.0   \n",
       "00007c5c-9260-0dfb-c160-89a416f1a7cc                   0.0               0.0   \n",
       "0000b5c1-07dd-aeb6-2b17-eb3d64e652a6                   0.0               0.0   \n",
       "0000c0e1-eb00-9281-9a7f-63dfa277e8df                   0.0               0.0   \n",
       "0000d497-c93a-eea3-eeb0-a943dfb4f71e                   0.0               0.0   \n",
       "0000ed60-83b4-679a-18b8-4fc3475c7a39                   0.0               0.0   \n",
       "00011be5-d105-eaa0-69d6-6064e74916b2                   0.0               0.0   \n",
       "0001a6ec-e7e9-4d1b-8a77-adb5ac815420                   0.0               0.0   \n",
       "0001a8cc-0cdc-4a30-b4d3-da1b425069e1                   0.0               0.0   \n",
       "0001dd49-7b22-4467-8a79-1801912d82f1                   0.0               0.0   \n",
       "0001eae7-077d-4d0b-a717-f67bcf2a09fa                   0.0               0.0   \n",
       "000225db-f9db-c013-fb67-b347ba646e4a                   0.0               0.0   \n",
       "0002a7a9-b405-fb78-af07-a6b4ac44bf4e                   0.0               0.0   \n",
       "0002aa63-f21b-4c54-9495-895a1d09e0d4                   0.0               0.0   \n",
       "0002c5f7-f2a1-4bac-adcb-532b8e80ff59                   0.0               0.0   \n",
       "0002da99-6654-1ecd-79c6-8064a01ebfa6                   0.0               0.0   \n",
       "00035815-cf55-45df-ac8f-560a4615d129                   0.0               0.0   \n",
       "0003f244-79d0-6178-353e-33dabaf3b2c6                   1.0               0.0   \n",
       "00040210-ed6d-d945-18a2-580918e4f602                   0.0               0.0   \n",
       "00040dc9-f822-267c-9cf8-1c9b92ca0588                   0.0               0.0   \n",
       "0004c2e0-9717-45af-8496-2a899f1276f0                   0.0               0.0   \n",
       "0004c6a4-25e3-d7cf-d30f-e02cdab2641b                   0.0               0.0   \n",
       "00051bf5-fd50-876e-3373-75e3df98e68d                   0.0               0.0   \n",
       "000530f1-b98a-f505-ca24-0b96c63cd67d                   0.0               0.0   \n",
       "00053977-b378-94a9-3735-d364a7e8d54d                   0.0               0.0   \n",
       "00054ab4-aa30-43ba-861e-9519e176cf31                   0.0               0.0   \n",
       "00059df1-d8c0-4e22-adfc-eba634e5c974                   0.0               0.0   \n",
       "000607fc-cea0-535c-6324-e83ba07c8cc7                   0.0               0.0   \n",
       "00060bc9-3567-4a75-9564-469a3ec0a8ef                   0.0               0.0   \n",
       "00062868-6f30-8c79-63dd-fa029e337201                   0.0               0.0   \n",
       "00062c60-a35d-43e5-8a93-611741edce8d                   0.0               0.0   \n",
       "00063118-3cfe-3c48-79d9-94eaf4cdca51                   0.0               0.0   \n",
       "000644d4-9e1b-3c90-4793-36d656d58f22                   0.0               0.0   \n",
       "0006693f-7c16-42d2-bda2-b6f8011dc60e                   0.0               0.0   \n",
       "0006ae23-a3da-4130-958e-4b17bce64e25                   0.0               0.0   \n",
       "0006ae43-0511-bb2f-48d6-ed0544f21ebc                   0.0               0.0   \n",
       "0006e526-4015-d091-86d7-756b6ac8f78a                   0.0               0.0   \n",
       "00072c6c-1d18-61b3-46b2-c647efcc3dd5                   0.0               0.0   \n",
       "00073e76-598d-45d0-7be6-15ecf904c0c8                   0.0               0.0   \n",
       "00075144-ce2b-4636-8c36-462c6a12452e                   0.0               0.0   \n",
       "0007585e-f95d-32d2-762f-b20740851cec                   0.0               0.0   \n",
       "00079c30-3fd5-b924-d9e3-eb7f53f76edf                   0.0               0.0   \n",
       "0007accb-f745-5aee-b503-2812480a2544                   0.0               0.0   \n",
       "00081276-3234-e35a-0095-e5dc957603d9                   0.0               0.0   \n",
       "0008239e-a285-43a0-bfe2-e6815b7221b7                   0.0               0.0   \n",
       "00082807-7355-f78f-fde1-d352b3e7836c                   0.0               0.0   \n",
       "00085b77-fa20-3f2e-f5e6-9ddbde462e72                   0.0               0.0   \n",
       "00086114-83d0-04c1-2bf8-9d9a838108d8                   0.0               0.0   \n",
       "0008f4ac-be62-b6e6-0122-f0c2da7fd1eb                   0.0               0.0   \n",
       "00091358-943c-411e-bc5a-a3933f917830                   0.0               0.0   \n",
       "00091d27-24b1-488d-8be0-b169fe1aaace                   0.0               0.0   \n",
       "00095037-bacc-bf5c-e3c2-330c44c255c2                   0.0               0.0   \n",
       "000986fe-d41c-7f90-d27e-482967ecad50                   0.0               0.0   \n",
       "00099fdb-cd5c-4e2b-a35a-faa1b4efedef                   0.0               0.0   \n",
       "\n",
       "                                      subject_Philosophy  \n",
       "org_uuid                                                  \n",
       "00000aa4-ba42-9b68-a9c3-040c9f3bf9b9                 0.0  \n",
       "000014da-0c46-b9cb-0941-3a93c027b119                 0.0  \n",
       "0000221d-6dfd-a049-dcfc-b4a5ca3b0fe7                 0.0  \n",
       "00002470-bff7-6226-5800-0ca1b3787b6f                 0.0  \n",
       "00003a2c-ad4d-ff61-997b-7b22b2320895                 0.0  \n",
       "00004c41-aeeb-b5a0-8812-64cf2d017cfb                 0.0  \n",
       "0000790f-4971-485a-96f6-c4d78953196c                 0.0  \n",
       "00007c5c-9260-0dfb-c160-89a416f1a7cc                 0.0  \n",
       "0000b5c1-07dd-aeb6-2b17-eb3d64e652a6                 0.0  \n",
       "0000c0e1-eb00-9281-9a7f-63dfa277e8df                 0.0  \n",
       "0000d497-c93a-eea3-eeb0-a943dfb4f71e                 0.0  \n",
       "0000ed60-83b4-679a-18b8-4fc3475c7a39                 0.0  \n",
       "00011be5-d105-eaa0-69d6-6064e74916b2                 0.0  \n",
       "0001a6ec-e7e9-4d1b-8a77-adb5ac815420                 0.0  \n",
       "0001a8cc-0cdc-4a30-b4d3-da1b425069e1                 0.0  \n",
       "0001dd49-7b22-4467-8a79-1801912d82f1                 0.0  \n",
       "0001eae7-077d-4d0b-a717-f67bcf2a09fa                 0.0  \n",
       "000225db-f9db-c013-fb67-b347ba646e4a                 0.0  \n",
       "0002a7a9-b405-fb78-af07-a6b4ac44bf4e                 0.0  \n",
       "0002aa63-f21b-4c54-9495-895a1d09e0d4                 0.0  \n",
       "0002c5f7-f2a1-4bac-adcb-532b8e80ff59                 0.0  \n",
       "0002da99-6654-1ecd-79c6-8064a01ebfa6                 0.0  \n",
       "00035815-cf55-45df-ac8f-560a4615d129                 0.0  \n",
       "0003f244-79d0-6178-353e-33dabaf3b2c6                 0.0  \n",
       "00040210-ed6d-d945-18a2-580918e4f602                 0.0  \n",
       "00040dc9-f822-267c-9cf8-1c9b92ca0588                 0.0  \n",
       "0004c2e0-9717-45af-8496-2a899f1276f0                 0.0  \n",
       "0004c6a4-25e3-d7cf-d30f-e02cdab2641b                 0.0  \n",
       "00051bf5-fd50-876e-3373-75e3df98e68d                 0.0  \n",
       "000530f1-b98a-f505-ca24-0b96c63cd67d                 0.0  \n",
       "00053977-b378-94a9-3735-d364a7e8d54d                 0.0  \n",
       "00054ab4-aa30-43ba-861e-9519e176cf31                 0.0  \n",
       "00059df1-d8c0-4e22-adfc-eba634e5c974                 0.0  \n",
       "000607fc-cea0-535c-6324-e83ba07c8cc7                 0.0  \n",
       "00060bc9-3567-4a75-9564-469a3ec0a8ef                 0.0  \n",
       "00062868-6f30-8c79-63dd-fa029e337201                 0.0  \n",
       "00062c60-a35d-43e5-8a93-611741edce8d                 0.0  \n",
       "00063118-3cfe-3c48-79d9-94eaf4cdca51                 0.0  \n",
       "000644d4-9e1b-3c90-4793-36d656d58f22                 0.0  \n",
       "0006693f-7c16-42d2-bda2-b6f8011dc60e                 0.0  \n",
       "0006ae23-a3da-4130-958e-4b17bce64e25                 0.0  \n",
       "0006ae43-0511-bb2f-48d6-ed0544f21ebc                 0.0  \n",
       "0006e526-4015-d091-86d7-756b6ac8f78a                 0.0  \n",
       "00072c6c-1d18-61b3-46b2-c647efcc3dd5                 0.0  \n",
       "00073e76-598d-45d0-7be6-15ecf904c0c8                 0.0  \n",
       "00075144-ce2b-4636-8c36-462c6a12452e                 0.0  \n",
       "0007585e-f95d-32d2-762f-b20740851cec                 0.0  \n",
       "00079c30-3fd5-b924-d9e3-eb7f53f76edf                 0.0  \n",
       "0007accb-f745-5aee-b503-2812480a2544                 0.0  \n",
       "00081276-3234-e35a-0095-e5dc957603d9                 0.0  \n",
       "0008239e-a285-43a0-bfe2-e6815b7221b7                 0.0  \n",
       "00082807-7355-f78f-fde1-d352b3e7836c                 0.0  \n",
       "00085b77-fa20-3f2e-f5e6-9ddbde462e72                 0.0  \n",
       "00086114-83d0-04c1-2bf8-9d9a838108d8                 0.0  \n",
       "0008f4ac-be62-b6e6-0122-f0c2da7fd1eb                 0.0  \n",
       "00091358-943c-411e-bc5a-a3933f917830                 0.0  \n",
       "00091d27-24b1-488d-8be0-b169fe1aaace                 0.0  \n",
       "00095037-bacc-bf5c-e3c2-330c44c255c2                 0.0  \n",
       "000986fe-d41c-7f90-d27e-482967ecad50                 0.0  \n",
       "00099fdb-cd5c-4e2b-a35a-faa1b4efedef                 0.0  \n",
       "\n",
       "[60 rows x 35 columns]"
      ],
      "text/html": "<div>\n<style scoped>\n    .dataframe tbody tr th:only-of-type {\n        vertical-align: middle;\n    }\n\n    .dataframe tbody tr th {\n        vertical-align: top;\n    }\n\n    .dataframe thead th {\n        text-align: right;\n    }\n</style>\n<table border=\"1\" class=\"dataframe\">\n  <thead>\n    <tr style=\"text-align: right;\">\n      <th></th>\n      <th>job_duration</th>\n      <th>gender_male</th>\n      <th>gender_female</th>\n      <th>degree_type</th>\n      <th>is_completed</th>\n      <th>subject_Computer Science</th>\n      <th>subject_Economics</th>\n      <th>subject_Finance</th>\n      <th>subject_Electrical Engineering</th>\n      <th>subject_Business Administration</th>\n      <th>...</th>\n      <th>subject_Biology</th>\n      <th>subject_International Business</th>\n      <th>subject_Information Technology</th>\n      <th>subject_Business Management</th>\n      <th>subject_English</th>\n      <th>subject_Industrial Engineering</th>\n      <th>subject_Civil Engineering</th>\n      <th>subject_Biochemistry</th>\n      <th>subject_Medicine</th>\n      <th>subject_Philosophy</th>\n    </tr>\n    <tr>\n      <th>org_uuid</th>\n      <th></th>\n      <th></th>\n      <th></th>\n      <th></th>\n      <th></th>\n      <th></th>\n      <th></th>\n      <th></th>\n      <th></th>\n      <th></th>\n      <th></th>\n      <th></th>\n      <th></th>\n      <th></th>\n      <th></th>\n      <th></th>\n      <th></th>\n      <th></th>\n      <th></th>\n      <th></th>\n      <th></th>\n    </tr>\n  </thead>\n  <tbody>\n    <tr>\n      <th>00000aa4-ba42-9b68-a9c3-040c9f3bf9b9</th>\n      <td>6564</td>\n      <td>3</td>\n      <td>0</td>\n      <td>0.0</td>\n      <td>0.0</td>\n      <td>0.0</td>\n      <td>0.0</td>\n      <td>0.0</td>\n      <td>0.0</td>\n      <td>0.0</td>\n      <td>...</td>\n      <td>0.0</td>\n      <td>0.0</td>\n      <td>0.0</td>\n      <td>0.0</td>\n      <td>0.0</td>\n      <td>0.0</td>\n      <td>0.0</td>\n      <td>0.0</td>\n      <td>0.0</td>\n      <td>0.0</td>\n    </tr>\n    <tr>\n      <th>000014da-0c46-b9cb-0941-3a93c027b119</th>\n      <td>13131</td>\n      <td>4</td>\n      <td>2</td>\n      <td>2.0</td>\n      <td>1.0</td>\n      <td>0.0</td>\n      <td>0.0</td>\n      <td>0.0</td>\n      <td>0.0</td>\n      <td>0.0</td>\n      <td>...</td>\n      <td>0.0</td>\n      <td>0.0</td>\n      <td>0.0</td>\n      <td>0.0</td>\n      <td>0.0</td>\n      <td>0.0</td>\n      <td>0.0</td>\n      <td>0.0</td>\n      <td>0.0</td>\n      <td>0.0</td>\n    </tr>\n    <tr>\n      <th>0000221d-6dfd-a049-dcfc-b4a5ca3b0fe7</th>\n      <td>2188</td>\n      <td>1</td>\n      <td>0</td>\n      <td>1.0</td>\n      <td>0.0</td>\n      <td>0.0</td>\n      <td>0.0</td>\n      <td>1.0</td>\n      <td>0.0</td>\n      <td>0.0</td>\n      <td>...</td>\n      <td>0.0</td>\n      <td>0.0</td>\n      <td>0.0</td>\n      <td>0.0</td>\n      <td>0.0</td>\n      <td>0.0</td>\n      <td>0.0</td>\n      <td>0.0</td>\n      <td>0.0</td>\n      <td>0.0</td>\n    </tr>\n    <tr>\n      <th>00002470-bff7-6226-5800-0ca1b3787b6f</th>\n      <td>12109</td>\n      <td>6</td>\n      <td>0</td>\n      <td>5.0</td>\n      <td>4.0</td>\n      <td>0.0</td>\n      <td>0.0</td>\n      <td>0.0</td>\n      <td>0.0</td>\n      <td>0.0</td>\n      <td>...</td>\n      <td>0.0</td>\n      <td>0.0</td>\n      <td>1.0</td>\n      <td>0.0</td>\n      <td>0.0</td>\n      <td>0.0</td>\n      <td>0.0</td>\n      <td>0.0</td>\n      <td>0.0</td>\n      <td>0.0</td>\n    </tr>\n    <tr>\n      <th>00003a2c-ad4d-ff61-997b-7b22b2320895</th>\n      <td>2661</td>\n      <td>2</td>\n      <td>0</td>\n      <td>0.0</td>\n      <td>0.0</td>\n      <td>0.0</td>\n      <td>0.0</td>\n      <td>0.0</td>\n      <td>0.0</td>\n      <td>0.0</td>\n      <td>...</td>\n      <td>0.0</td>\n      <td>0.0</td>\n      <td>0.0</td>\n      <td>0.0</td>\n      <td>0.0</td>\n      <td>0.0</td>\n      <td>0.0</td>\n      <td>0.0</td>\n      <td>0.0</td>\n      <td>0.0</td>\n    </tr>\n    <tr>\n      <th>00004c41-aeeb-b5a0-8812-64cf2d017cfb</th>\n      <td>8752</td>\n      <td>3</td>\n      <td>1</td>\n      <td>1.0</td>\n      <td>0.0</td>\n      <td>0.0</td>\n      <td>1.0</td>\n      <td>0.0</td>\n      <td>0.0</td>\n      <td>0.0</td>\n      <td>...</td>\n      <td>0.0</td>\n      <td>0.0</td>\n      <td>0.0</td>\n      <td>0.0</td>\n      <td>0.0</td>\n      <td>0.0</td>\n      <td>0.0</td>\n      <td>0.0</td>\n      <td>0.0</td>\n      <td>0.0</td>\n    </tr>\n    <tr>\n      <th>0000790f-4971-485a-96f6-c4d78953196c</th>\n      <td>2188</td>\n      <td>1</td>\n      <td>0</td>\n      <td>0.0</td>\n      <td>0.0</td>\n      <td>0.0</td>\n      <td>0.0</td>\n      <td>0.0</td>\n      <td>0.0</td>\n      <td>0.0</td>\n      <td>...</td>\n      <td>0.0</td>\n      <td>0.0</td>\n      <td>0.0</td>\n      <td>0.0</td>\n      <td>0.0</td>\n      <td>0.0</td>\n      <td>0.0</td>\n      <td>0.0</td>\n      <td>0.0</td>\n      <td>0.0</td>\n    </tr>\n    <tr>\n      <th>00007c5c-9260-0dfb-c160-89a416f1a7cc</th>\n      <td>3162</td>\n      <td>2</td>\n      <td>0</td>\n      <td>0.0</td>\n      <td>0.0</td>\n      <td>0.0</td>\n      <td>0.0</td>\n      <td>0.0</td>\n      <td>0.0</td>\n      <td>0.0</td>\n      <td>...</td>\n      <td>0.0</td>\n      <td>0.0</td>\n      <td>0.0</td>\n      <td>0.0</td>\n      <td>0.0</td>\n      <td>0.0</td>\n      <td>0.0</td>\n      <td>0.0</td>\n      <td>0.0</td>\n      <td>0.0</td>\n    </tr>\n    <tr>\n      <th>0000b5c1-07dd-aeb6-2b17-eb3d64e652a6</th>\n      <td>2312</td>\n      <td>1</td>\n      <td>0</td>\n      <td>2.0</td>\n      <td>1.0</td>\n      <td>1.0</td>\n      <td>0.0</td>\n      <td>0.0</td>\n      <td>0.0</td>\n      <td>0.0</td>\n      <td>...</td>\n      <td>0.0</td>\n      <td>0.0</td>\n      <td>0.0</td>\n      <td>0.0</td>\n      <td>0.0</td>\n      <td>0.0</td>\n      <td>0.0</td>\n      <td>0.0</td>\n      <td>0.0</td>\n      <td>0.0</td>\n    </tr>\n    <tr>\n      <th>0000c0e1-eb00-9281-9a7f-63dfa277e8df</th>\n      <td>2188</td>\n      <td>1</td>\n      <td>0</td>\n      <td>0.0</td>\n      <td>0.0</td>\n      <td>0.0</td>\n      <td>0.0</td>\n      <td>0.0</td>\n      <td>0.0</td>\n      <td>0.0</td>\n      <td>...</td>\n      <td>0.0</td>\n      <td>0.0</td>\n      <td>0.0</td>\n      <td>0.0</td>\n      <td>0.0</td>\n      <td>0.0</td>\n      <td>0.0</td>\n      <td>0.0</td>\n      <td>0.0</td>\n      <td>0.0</td>\n    </tr>\n    <tr>\n      <th>0000d497-c93a-eea3-eeb0-a943dfb4f71e</th>\n      <td>2978</td>\n      <td>2</td>\n      <td>0</td>\n      <td>1.0</td>\n      <td>1.0</td>\n      <td>0.0</td>\n      <td>0.0</td>\n      <td>0.0</td>\n      <td>0.0</td>\n      <td>0.0</td>\n      <td>...</td>\n      <td>0.0</td>\n      <td>0.0</td>\n      <td>0.0</td>\n      <td>0.0</td>\n      <td>0.0</td>\n      <td>0.0</td>\n      <td>0.0</td>\n      <td>0.0</td>\n      <td>0.0</td>\n      <td>0.0</td>\n    </tr>\n    <tr>\n      <th>0000ed60-83b4-679a-18b8-4fc3475c7a39</th>\n      <td>699</td>\n      <td>1</td>\n      <td>0</td>\n      <td>0.0</td>\n      <td>0.0</td>\n      <td>0.0</td>\n      <td>0.0</td>\n      <td>0.0</td>\n      <td>0.0</td>\n      <td>0.0</td>\n      <td>...</td>\n      <td>0.0</td>\n      <td>0.0</td>\n      <td>0.0</td>\n      <td>0.0</td>\n      <td>0.0</td>\n      <td>0.0</td>\n      <td>0.0</td>\n      <td>0.0</td>\n      <td>0.0</td>\n      <td>0.0</td>\n    </tr>\n    <tr>\n      <th>00011be5-d105-eaa0-69d6-6064e74916b2</th>\n      <td>2889</td>\n      <td>0</td>\n      <td>1</td>\n      <td>0.0</td>\n      <td>0.0</td>\n      <td>0.0</td>\n      <td>0.0</td>\n      <td>0.0</td>\n      <td>0.0</td>\n      <td>0.0</td>\n      <td>...</td>\n      <td>0.0</td>\n      <td>0.0</td>\n      <td>0.0</td>\n      <td>0.0</td>\n      <td>0.0</td>\n      <td>0.0</td>\n      <td>0.0</td>\n      <td>0.0</td>\n      <td>0.0</td>\n      <td>0.0</td>\n    </tr>\n    <tr>\n      <th>0001a6ec-e7e9-4d1b-8a77-adb5ac815420</th>\n      <td>8752</td>\n      <td>3</td>\n      <td>1</td>\n      <td>0.0</td>\n      <td>0.0</td>\n      <td>0.0</td>\n      <td>0.0</td>\n      <td>0.0</td>\n      <td>0.0</td>\n      <td>0.0</td>\n      <td>...</td>\n      <td>0.0</td>\n      <td>0.0</td>\n      <td>0.0</td>\n      <td>0.0</td>\n      <td>0.0</td>\n      <td>0.0</td>\n      <td>0.0</td>\n      <td>0.0</td>\n      <td>0.0</td>\n      <td>0.0</td>\n    </tr>\n    <tr>\n      <th>0001a8cc-0cdc-4a30-b4d3-da1b425069e1</th>\n      <td>3650</td>\n      <td>1</td>\n      <td>1</td>\n      <td>1.0</td>\n      <td>1.0</td>\n      <td>0.0</td>\n      <td>0.0</td>\n      <td>0.0</td>\n      <td>0.0</td>\n      <td>0.0</td>\n      <td>...</td>\n      <td>0.0</td>\n      <td>0.0</td>\n      <td>0.0</td>\n      <td>0.0</td>\n      <td>0.0</td>\n      <td>0.0</td>\n      <td>0.0</td>\n      <td>0.0</td>\n      <td>0.0</td>\n      <td>0.0</td>\n    </tr>\n    <tr>\n      <th>0001dd49-7b22-4467-8a79-1801912d82f1</th>\n      <td>4376</td>\n      <td>1</td>\n      <td>0</td>\n      <td>0.0</td>\n      <td>0.0</td>\n      <td>0.0</td>\n      <td>0.0</td>\n      <td>0.0</td>\n      <td>0.0</td>\n      <td>0.0</td>\n      <td>...</td>\n      <td>0.0</td>\n      <td>0.0</td>\n      <td>0.0</td>\n      <td>0.0</td>\n      <td>0.0</td>\n      <td>0.0</td>\n      <td>0.0</td>\n      <td>0.0</td>\n      <td>0.0</td>\n      <td>0.0</td>\n    </tr>\n    <tr>\n      <th>0001eae7-077d-4d0b-a717-f67bcf2a09fa</th>\n      <td>6564</td>\n      <td>3</td>\n      <td>0</td>\n      <td>0.0</td>\n      <td>0.0</td>\n      <td>0.0</td>\n      <td>0.0</td>\n      <td>0.0</td>\n      <td>0.0</td>\n      <td>0.0</td>\n      <td>...</td>\n      <td>0.0</td>\n      <td>0.0</td>\n      <td>0.0</td>\n      <td>0.0</td>\n      <td>0.0</td>\n      <td>0.0</td>\n      <td>0.0</td>\n      <td>0.0</td>\n      <td>0.0</td>\n      <td>0.0</td>\n    </tr>\n    <tr>\n      <th>000225db-f9db-c013-fb67-b347ba646e4a</th>\n      <td>6208</td>\n      <td>1</td>\n      <td>0</td>\n      <td>0.0</td>\n      <td>1.0</td>\n      <td>0.0</td>\n      <td>0.0</td>\n      <td>0.0</td>\n      <td>0.0</td>\n      <td>0.0</td>\n      <td>...</td>\n      <td>0.0</td>\n      <td>0.0</td>\n      <td>0.0</td>\n      <td>0.0</td>\n      <td>0.0</td>\n      <td>0.0</td>\n      <td>0.0</td>\n      <td>0.0</td>\n      <td>0.0</td>\n      <td>0.0</td>\n    </tr>\n    <tr>\n      <th>0002a7a9-b405-fb78-af07-a6b4ac44bf4e</th>\n      <td>8338</td>\n      <td>2</td>\n      <td>0</td>\n      <td>0.0</td>\n      <td>0.0</td>\n      <td>0.0</td>\n      <td>0.0</td>\n      <td>0.0</td>\n      <td>0.0</td>\n      <td>0.0</td>\n      <td>...</td>\n      <td>0.0</td>\n      <td>0.0</td>\n      <td>0.0</td>\n      <td>0.0</td>\n      <td>0.0</td>\n      <td>0.0</td>\n      <td>0.0</td>\n      <td>0.0</td>\n      <td>0.0</td>\n      <td>0.0</td>\n    </tr>\n    <tr>\n      <th>0002aa63-f21b-4c54-9495-895a1d09e0d4</th>\n      <td>2188</td>\n      <td>2</td>\n      <td>0</td>\n      <td>0.0</td>\n      <td>0.0</td>\n      <td>0.0</td>\n      <td>0.0</td>\n      <td>0.0</td>\n      <td>0.0</td>\n      <td>0.0</td>\n      <td>...</td>\n      <td>0.0</td>\n      <td>0.0</td>\n      <td>0.0</td>\n      <td>0.0</td>\n      <td>0.0</td>\n      <td>0.0</td>\n      <td>0.0</td>\n      <td>0.0</td>\n      <td>0.0</td>\n      <td>0.0</td>\n    </tr>\n    <tr>\n      <th>0002c5f7-f2a1-4bac-adcb-532b8e80ff59</th>\n      <td>8752</td>\n      <td>3</td>\n      <td>1</td>\n      <td>2.0</td>\n      <td>1.0</td>\n      <td>0.0</td>\n      <td>0.0</td>\n      <td>0.0</td>\n      <td>0.0</td>\n      <td>0.0</td>\n      <td>...</td>\n      <td>0.0</td>\n      <td>0.0</td>\n      <td>0.0</td>\n      <td>0.0</td>\n      <td>0.0</td>\n      <td>0.0</td>\n      <td>0.0</td>\n      <td>0.0</td>\n      <td>0.0</td>\n      <td>0.0</td>\n    </tr>\n    <tr>\n      <th>0002da99-6654-1ecd-79c6-8064a01ebfa6</th>\n      <td>46891</td>\n      <td>7</td>\n      <td>0</td>\n      <td>3.0</td>\n      <td>1.0</td>\n      <td>0.0</td>\n      <td>0.0</td>\n      <td>0.0</td>\n      <td>0.0</td>\n      <td>0.0</td>\n      <td>...</td>\n      <td>0.0</td>\n      <td>0.0</td>\n      <td>0.0</td>\n      <td>0.0</td>\n      <td>0.0</td>\n      <td>0.0</td>\n      <td>0.0</td>\n      <td>0.0</td>\n      <td>0.0</td>\n      <td>0.0</td>\n    </tr>\n    <tr>\n      <th>00035815-cf55-45df-ac8f-560a4615d129</th>\n      <td>2188</td>\n      <td>0</td>\n      <td>1</td>\n      <td>0.0</td>\n      <td>0.0</td>\n      <td>0.0</td>\n      <td>0.0</td>\n      <td>0.0</td>\n      <td>0.0</td>\n      <td>0.0</td>\n      <td>...</td>\n      <td>0.0</td>\n      <td>0.0</td>\n      <td>0.0</td>\n      <td>0.0</td>\n      <td>0.0</td>\n      <td>0.0</td>\n      <td>0.0</td>\n      <td>0.0</td>\n      <td>0.0</td>\n      <td>0.0</td>\n    </tr>\n    <tr>\n      <th>0003f244-79d0-6178-353e-33dabaf3b2c6</th>\n      <td>31389</td>\n      <td>12</td>\n      <td>8</td>\n      <td>13.0</td>\n      <td>8.0</td>\n      <td>0.0</td>\n      <td>0.0</td>\n      <td>0.0</td>\n      <td>0.0</td>\n      <td>0.0</td>\n      <td>...</td>\n      <td>0.0</td>\n      <td>0.0</td>\n      <td>0.0</td>\n      <td>0.0</td>\n      <td>0.0</td>\n      <td>0.0</td>\n      <td>0.0</td>\n      <td>1.0</td>\n      <td>0.0</td>\n      <td>0.0</td>\n    </tr>\n    <tr>\n      <th>00040210-ed6d-d945-18a2-580918e4f602</th>\n      <td>2188</td>\n      <td>1</td>\n      <td>0</td>\n      <td>1.0</td>\n      <td>0.0</td>\n      <td>0.0</td>\n      <td>0.0</td>\n      <td>0.0</td>\n      <td>0.0</td>\n      <td>0.0</td>\n      <td>...</td>\n      <td>0.0</td>\n      <td>0.0</td>\n      <td>0.0</td>\n      <td>0.0</td>\n      <td>0.0</td>\n      <td>0.0</td>\n      <td>0.0</td>\n      <td>0.0</td>\n      <td>0.0</td>\n      <td>0.0</td>\n    </tr>\n    <tr>\n      <th>00040dc9-f822-267c-9cf8-1c9b92ca0588</th>\n      <td>10369</td>\n      <td>5</td>\n      <td>0</td>\n      <td>3.0</td>\n      <td>1.0</td>\n      <td>1.0</td>\n      <td>0.0</td>\n      <td>0.0</td>\n      <td>0.0</td>\n      <td>0.0</td>\n      <td>...</td>\n      <td>0.0</td>\n      <td>0.0</td>\n      <td>0.0</td>\n      <td>0.0</td>\n      <td>0.0</td>\n      <td>0.0</td>\n      <td>0.0</td>\n      <td>0.0</td>\n      <td>0.0</td>\n      <td>0.0</td>\n    </tr>\n    <tr>\n      <th>0004c2e0-9717-45af-8496-2a899f1276f0</th>\n      <td>1064</td>\n      <td>1</td>\n      <td>0</td>\n      <td>0.0</td>\n      <td>0.0</td>\n      <td>0.0</td>\n      <td>0.0</td>\n      <td>0.0</td>\n      <td>0.0</td>\n      <td>0.0</td>\n      <td>...</td>\n      <td>0.0</td>\n      <td>0.0</td>\n      <td>0.0</td>\n      <td>0.0</td>\n      <td>0.0</td>\n      <td>0.0</td>\n      <td>0.0</td>\n      <td>0.0</td>\n      <td>0.0</td>\n      <td>0.0</td>\n    </tr>\n    <tr>\n      <th>0004c6a4-25e3-d7cf-d30f-e02cdab2641b</th>\n      <td>0</td>\n      <td>1</td>\n      <td>0</td>\n      <td>0.0</td>\n      <td>0.0</td>\n      <td>0.0</td>\n      <td>0.0</td>\n      <td>0.0</td>\n      <td>0.0</td>\n      <td>0.0</td>\n      <td>...</td>\n      <td>0.0</td>\n      <td>0.0</td>\n      <td>0.0</td>\n      <td>0.0</td>\n      <td>0.0</td>\n      <td>0.0</td>\n      <td>0.0</td>\n      <td>0.0</td>\n      <td>0.0</td>\n      <td>0.0</td>\n    </tr>\n    <tr>\n      <th>00051bf5-fd50-876e-3373-75e3df98e68d</th>\n      <td>2188</td>\n      <td>1</td>\n      <td>0</td>\n      <td>1.0</td>\n      <td>0.0</td>\n      <td>0.0</td>\n      <td>0.0</td>\n      <td>0.0</td>\n      <td>0.0</td>\n      <td>0.0</td>\n      <td>...</td>\n      <td>0.0</td>\n      <td>0.0</td>\n      <td>0.0</td>\n      <td>0.0</td>\n      <td>0.0</td>\n      <td>0.0</td>\n      <td>0.0</td>\n      <td>0.0</td>\n      <td>0.0</td>\n      <td>0.0</td>\n    </tr>\n    <tr>\n      <th>000530f1-b98a-f505-ca24-0b96c63cd67d</th>\n      <td>4471</td>\n      <td>3</td>\n      <td>0</td>\n      <td>0.0</td>\n      <td>0.0</td>\n      <td>0.0</td>\n      <td>0.0</td>\n      <td>0.0</td>\n      <td>0.0</td>\n      <td>0.0</td>\n      <td>...</td>\n      <td>0.0</td>\n      <td>0.0</td>\n      <td>0.0</td>\n      <td>0.0</td>\n      <td>0.0</td>\n      <td>0.0</td>\n      <td>0.0</td>\n      <td>0.0</td>\n      <td>0.0</td>\n      <td>0.0</td>\n    </tr>\n    <tr>\n      <th>00053977-b378-94a9-3735-d364a7e8d54d</th>\n      <td>23715</td>\n      <td>4</td>\n      <td>6</td>\n      <td>5.0</td>\n      <td>2.0</td>\n      <td>0.0</td>\n      <td>0.0</td>\n      <td>0.0</td>\n      <td>0.0</td>\n      <td>0.0</td>\n      <td>...</td>\n      <td>0.0</td>\n      <td>0.0</td>\n      <td>0.0</td>\n      <td>0.0</td>\n      <td>0.0</td>\n      <td>0.0</td>\n      <td>0.0</td>\n      <td>0.0</td>\n      <td>0.0</td>\n      <td>0.0</td>\n    </tr>\n    <tr>\n      <th>00054ab4-aa30-43ba-861e-9519e176cf31</th>\n      <td>945</td>\n      <td>1</td>\n      <td>0</td>\n      <td>1.0</td>\n      <td>1.0</td>\n      <td>0.0</td>\n      <td>0.0</td>\n      <td>0.0</td>\n      <td>0.0</td>\n      <td>0.0</td>\n      <td>...</td>\n      <td>0.0</td>\n      <td>0.0</td>\n      <td>0.0</td>\n      <td>0.0</td>\n      <td>0.0</td>\n      <td>0.0</td>\n      <td>0.0</td>\n      <td>0.0</td>\n      <td>0.0</td>\n      <td>0.0</td>\n    </tr>\n    <tr>\n      <th>00059df1-d8c0-4e22-adfc-eba634e5c974</th>\n      <td>4381</td>\n      <td>1</td>\n      <td>0</td>\n      <td>0.0</td>\n      <td>0.0</td>\n      <td>0.0</td>\n      <td>0.0</td>\n      <td>0.0</td>\n      <td>0.0</td>\n      <td>0.0</td>\n      <td>...</td>\n      <td>0.0</td>\n      <td>0.0</td>\n      <td>0.0</td>\n      <td>0.0</td>\n      <td>0.0</td>\n      <td>0.0</td>\n      <td>0.0</td>\n      <td>0.0</td>\n      <td>0.0</td>\n      <td>0.0</td>\n    </tr>\n    <tr>\n      <th>000607fc-cea0-535c-6324-e83ba07c8cc7</th>\n      <td>6564</td>\n      <td>3</td>\n      <td>0</td>\n      <td>0.0</td>\n      <td>0.0</td>\n      <td>0.0</td>\n      <td>0.0</td>\n      <td>0.0</td>\n      <td>0.0</td>\n      <td>0.0</td>\n      <td>...</td>\n      <td>0.0</td>\n      <td>0.0</td>\n      <td>0.0</td>\n      <td>0.0</td>\n      <td>0.0</td>\n      <td>0.0</td>\n      <td>0.0</td>\n      <td>0.0</td>\n      <td>0.0</td>\n      <td>0.0</td>\n    </tr>\n    <tr>\n      <th>00060bc9-3567-4a75-9564-469a3ec0a8ef</th>\n      <td>3282</td>\n      <td>1</td>\n      <td>1</td>\n      <td>2.0</td>\n      <td>1.0</td>\n      <td>0.0</td>\n      <td>0.0</td>\n      <td>0.0</td>\n      <td>0.0</td>\n      <td>0.0</td>\n      <td>...</td>\n      <td>0.0</td>\n      <td>0.0</td>\n      <td>0.0</td>\n      <td>0.0</td>\n      <td>0.0</td>\n      <td>0.0</td>\n      <td>0.0</td>\n      <td>0.0</td>\n      <td>0.0</td>\n      <td>0.0</td>\n    </tr>\n    <tr>\n      <th>00062868-6f30-8c79-63dd-fa029e337201</th>\n      <td>7183</td>\n      <td>1</td>\n      <td>0</td>\n      <td>1.0</td>\n      <td>0.0</td>\n      <td>0.0</td>\n      <td>1.0</td>\n      <td>0.0</td>\n      <td>0.0</td>\n      <td>0.0</td>\n      <td>...</td>\n      <td>0.0</td>\n      <td>0.0</td>\n      <td>0.0</td>\n      <td>0.0</td>\n      <td>0.0</td>\n      <td>0.0</td>\n      <td>0.0</td>\n      <td>0.0</td>\n      <td>0.0</td>\n      <td>0.0</td>\n    </tr>\n    <tr>\n      <th>00062c60-a35d-43e5-8a93-611741edce8d</th>\n      <td>2188</td>\n      <td>1</td>\n      <td>0</td>\n      <td>0.0</td>\n      <td>0.0</td>\n      <td>0.0</td>\n      <td>0.0</td>\n      <td>0.0</td>\n      <td>0.0</td>\n      <td>0.0</td>\n      <td>...</td>\n      <td>0.0</td>\n      <td>0.0</td>\n      <td>0.0</td>\n      <td>0.0</td>\n      <td>0.0</td>\n      <td>0.0</td>\n      <td>0.0</td>\n      <td>0.0</td>\n      <td>0.0</td>\n      <td>0.0</td>\n    </tr>\n    <tr>\n      <th>00063118-3cfe-3c48-79d9-94eaf4cdca51</th>\n      <td>15540</td>\n      <td>6</td>\n      <td>2</td>\n      <td>6.0</td>\n      <td>2.0</td>\n      <td>0.0</td>\n      <td>0.0</td>\n      <td>0.0</td>\n      <td>0.0</td>\n      <td>1.0</td>\n      <td>...</td>\n      <td>0.0</td>\n      <td>0.0</td>\n      <td>0.0</td>\n      <td>0.0</td>\n      <td>0.0</td>\n      <td>0.0</td>\n      <td>0.0</td>\n      <td>0.0</td>\n      <td>0.0</td>\n      <td>0.0</td>\n    </tr>\n    <tr>\n      <th>000644d4-9e1b-3c90-4793-36d656d58f22</th>\n      <td>730</td>\n      <td>2</td>\n      <td>0</td>\n      <td>2.0</td>\n      <td>1.0</td>\n      <td>0.0</td>\n      <td>0.0</td>\n      <td>0.0</td>\n      <td>0.0</td>\n      <td>0.0</td>\n      <td>...</td>\n      <td>0.0</td>\n      <td>0.0</td>\n      <td>0.0</td>\n      <td>0.0</td>\n      <td>0.0</td>\n      <td>0.0</td>\n      <td>0.0</td>\n      <td>0.0</td>\n      <td>0.0</td>\n      <td>0.0</td>\n    </tr>\n    <tr>\n      <th>0006693f-7c16-42d2-bda2-b6f8011dc60e</th>\n      <td>2188</td>\n      <td>1</td>\n      <td>0</td>\n      <td>0.0</td>\n      <td>0.0</td>\n      <td>0.0</td>\n      <td>0.0</td>\n      <td>0.0</td>\n      <td>0.0</td>\n      <td>0.0</td>\n      <td>...</td>\n      <td>0.0</td>\n      <td>0.0</td>\n      <td>0.0</td>\n      <td>0.0</td>\n      <td>0.0</td>\n      <td>0.0</td>\n      <td>0.0</td>\n      <td>0.0</td>\n      <td>0.0</td>\n      <td>0.0</td>\n    </tr>\n    <tr>\n      <th>0006ae23-a3da-4130-958e-4b17bce64e25</th>\n      <td>3374</td>\n      <td>2</td>\n      <td>0</td>\n      <td>2.0</td>\n      <td>1.0</td>\n      <td>0.0</td>\n      <td>0.0</td>\n      <td>0.0</td>\n      <td>0.0</td>\n      <td>0.0</td>\n      <td>...</td>\n      <td>0.0</td>\n      <td>0.0</td>\n      <td>0.0</td>\n      <td>0.0</td>\n      <td>0.0</td>\n      <td>0.0</td>\n      <td>0.0</td>\n      <td>0.0</td>\n      <td>0.0</td>\n      <td>0.0</td>\n    </tr>\n    <tr>\n      <th>0006ae43-0511-bb2f-48d6-ed0544f21ebc</th>\n      <td>2739</td>\n      <td>1</td>\n      <td>0</td>\n      <td>0.0</td>\n      <td>0.0</td>\n      <td>0.0</td>\n      <td>0.0</td>\n      <td>0.0</td>\n      <td>0.0</td>\n      <td>0.0</td>\n      <td>...</td>\n      <td>0.0</td>\n      <td>0.0</td>\n      <td>0.0</td>\n      <td>0.0</td>\n      <td>0.0</td>\n      <td>0.0</td>\n      <td>0.0</td>\n      <td>0.0</td>\n      <td>0.0</td>\n      <td>0.0</td>\n    </tr>\n    <tr>\n      <th>0006e526-4015-d091-86d7-756b6ac8f78a</th>\n      <td>6564</td>\n      <td>2</td>\n      <td>0</td>\n      <td>1.0</td>\n      <td>1.0</td>\n      <td>0.0</td>\n      <td>1.0</td>\n      <td>0.0</td>\n      <td>0.0</td>\n      <td>0.0</td>\n      <td>...</td>\n      <td>0.0</td>\n      <td>0.0</td>\n      <td>0.0</td>\n      <td>0.0</td>\n      <td>0.0</td>\n      <td>0.0</td>\n      <td>0.0</td>\n      <td>0.0</td>\n      <td>0.0</td>\n      <td>0.0</td>\n    </tr>\n    <tr>\n      <th>00072c6c-1d18-61b3-46b2-c647efcc3dd5</th>\n      <td>4845</td>\n      <td>3</td>\n      <td>0</td>\n      <td>2.0</td>\n      <td>1.0</td>\n      <td>0.0</td>\n      <td>0.0</td>\n      <td>0.0</td>\n      <td>0.0</td>\n      <td>0.0</td>\n      <td>...</td>\n      <td>0.0</td>\n      <td>0.0</td>\n      <td>0.0</td>\n      <td>0.0</td>\n      <td>0.0</td>\n      <td>0.0</td>\n      <td>0.0</td>\n      <td>0.0</td>\n      <td>0.0</td>\n      <td>0.0</td>\n    </tr>\n    <tr>\n      <th>00073e76-598d-45d0-7be6-15ecf904c0c8</th>\n      <td>14267</td>\n      <td>6</td>\n      <td>0</td>\n      <td>3.0</td>\n      <td>2.0</td>\n      <td>0.0</td>\n      <td>0.0</td>\n      <td>0.0</td>\n      <td>0.0</td>\n      <td>0.0</td>\n      <td>...</td>\n      <td>0.0</td>\n      <td>0.0</td>\n      <td>0.0</td>\n      <td>0.0</td>\n      <td>0.0</td>\n      <td>0.0</td>\n      <td>0.0</td>\n      <td>0.0</td>\n      <td>0.0</td>\n      <td>0.0</td>\n    </tr>\n    <tr>\n      <th>00075144-ce2b-4636-8c36-462c6a12452e</th>\n      <td>1275</td>\n      <td>1</td>\n      <td>1</td>\n      <td>0.0</td>\n      <td>0.0</td>\n      <td>0.0</td>\n      <td>0.0</td>\n      <td>0.0</td>\n      <td>0.0</td>\n      <td>0.0</td>\n      <td>...</td>\n      <td>0.0</td>\n      <td>0.0</td>\n      <td>0.0</td>\n      <td>0.0</td>\n      <td>0.0</td>\n      <td>0.0</td>\n      <td>0.0</td>\n      <td>0.0</td>\n      <td>0.0</td>\n      <td>0.0</td>\n    </tr>\n    <tr>\n      <th>0007585e-f95d-32d2-762f-b20740851cec</th>\n      <td>2188</td>\n      <td>1</td>\n      <td>0</td>\n      <td>0.0</td>\n      <td>0.0</td>\n      <td>0.0</td>\n      <td>0.0</td>\n      <td>0.0</td>\n      <td>0.0</td>\n      <td>0.0</td>\n      <td>...</td>\n      <td>0.0</td>\n      <td>0.0</td>\n      <td>0.0</td>\n      <td>0.0</td>\n      <td>0.0</td>\n      <td>0.0</td>\n      <td>0.0</td>\n      <td>0.0</td>\n      <td>0.0</td>\n      <td>0.0</td>\n    </tr>\n    <tr>\n      <th>00079c30-3fd5-b924-d9e3-eb7f53f76edf</th>\n      <td>456</td>\n      <td>1</td>\n      <td>0</td>\n      <td>1.0</td>\n      <td>1.0</td>\n      <td>0.0</td>\n      <td>0.0</td>\n      <td>0.0</td>\n      <td>0.0</td>\n      <td>0.0</td>\n      <td>...</td>\n      <td>0.0</td>\n      <td>0.0</td>\n      <td>0.0</td>\n      <td>0.0</td>\n      <td>0.0</td>\n      <td>0.0</td>\n      <td>0.0</td>\n      <td>0.0</td>\n      <td>0.0</td>\n      <td>0.0</td>\n    </tr>\n    <tr>\n      <th>0007accb-f745-5aee-b503-2812480a2544</th>\n      <td>9484</td>\n      <td>2</td>\n      <td>0</td>\n      <td>2.0</td>\n      <td>0.0</td>\n      <td>0.0</td>\n      <td>0.0</td>\n      <td>0.0</td>\n      <td>0.0</td>\n      <td>1.0</td>\n      <td>...</td>\n      <td>0.0</td>\n      <td>0.0</td>\n      <td>0.0</td>\n      <td>0.0</td>\n      <td>0.0</td>\n      <td>0.0</td>\n      <td>0.0</td>\n      <td>0.0</td>\n      <td>0.0</td>\n      <td>0.0</td>\n    </tr>\n    <tr>\n      <th>00081276-3234-e35a-0095-e5dc957603d9</th>\n      <td>6269</td>\n      <td>2</td>\n      <td>0</td>\n      <td>1.0</td>\n      <td>2.0</td>\n      <td>0.0</td>\n      <td>0.0</td>\n      <td>0.0</td>\n      <td>0.0</td>\n      <td>0.0</td>\n      <td>...</td>\n      <td>0.0</td>\n      <td>0.0</td>\n      <td>1.0</td>\n      <td>1.0</td>\n      <td>0.0</td>\n      <td>0.0</td>\n      <td>0.0</td>\n      <td>0.0</td>\n      <td>0.0</td>\n      <td>0.0</td>\n    </tr>\n    <tr>\n      <th>0008239e-a285-43a0-bfe2-e6815b7221b7</th>\n      <td>1035</td>\n      <td>1</td>\n      <td>0</td>\n      <td>0.0</td>\n      <td>0.0</td>\n      <td>0.0</td>\n      <td>0.0</td>\n      <td>0.0</td>\n      <td>0.0</td>\n      <td>0.0</td>\n      <td>...</td>\n      <td>0.0</td>\n      <td>0.0</td>\n      <td>0.0</td>\n      <td>0.0</td>\n      <td>0.0</td>\n      <td>0.0</td>\n      <td>0.0</td>\n      <td>0.0</td>\n      <td>0.0</td>\n      <td>0.0</td>\n    </tr>\n    <tr>\n      <th>00082807-7355-f78f-fde1-d352b3e7836c</th>\n      <td>2188</td>\n      <td>1</td>\n      <td>0</td>\n      <td>0.0</td>\n      <td>0.0</td>\n      <td>0.0</td>\n      <td>0.0</td>\n      <td>0.0</td>\n      <td>0.0</td>\n      <td>0.0</td>\n      <td>...</td>\n      <td>0.0</td>\n      <td>0.0</td>\n      <td>0.0</td>\n      <td>0.0</td>\n      <td>0.0</td>\n      <td>0.0</td>\n      <td>0.0</td>\n      <td>0.0</td>\n      <td>0.0</td>\n      <td>0.0</td>\n    </tr>\n    <tr>\n      <th>00085b77-fa20-3f2e-f5e6-9ddbde462e72</th>\n      <td>700</td>\n      <td>1</td>\n      <td>0</td>\n      <td>0.0</td>\n      <td>0.0</td>\n      <td>0.0</td>\n      <td>0.0</td>\n      <td>0.0</td>\n      <td>0.0</td>\n      <td>0.0</td>\n      <td>...</td>\n      <td>0.0</td>\n      <td>0.0</td>\n      <td>0.0</td>\n      <td>0.0</td>\n      <td>0.0</td>\n      <td>0.0</td>\n      <td>0.0</td>\n      <td>0.0</td>\n      <td>0.0</td>\n      <td>0.0</td>\n    </tr>\n    <tr>\n      <th>00086114-83d0-04c1-2bf8-9d9a838108d8</th>\n      <td>4376</td>\n      <td>1</td>\n      <td>1</td>\n      <td>0.0</td>\n      <td>0.0</td>\n      <td>0.0</td>\n      <td>0.0</td>\n      <td>0.0</td>\n      <td>0.0</td>\n      <td>0.0</td>\n      <td>...</td>\n      <td>0.0</td>\n      <td>0.0</td>\n      <td>0.0</td>\n      <td>0.0</td>\n      <td>0.0</td>\n      <td>0.0</td>\n      <td>0.0</td>\n      <td>0.0</td>\n      <td>0.0</td>\n      <td>0.0</td>\n    </tr>\n    <tr>\n      <th>0008f4ac-be62-b6e6-0122-f0c2da7fd1eb</th>\n      <td>6023</td>\n      <td>2</td>\n      <td>1</td>\n      <td>4.0</td>\n      <td>2.0</td>\n      <td>0.0</td>\n      <td>0.0</td>\n      <td>0.0</td>\n      <td>0.0</td>\n      <td>1.0</td>\n      <td>...</td>\n      <td>0.0</td>\n      <td>0.0</td>\n      <td>0.0</td>\n      <td>0.0</td>\n      <td>0.0</td>\n      <td>0.0</td>\n      <td>0.0</td>\n      <td>0.0</td>\n      <td>0.0</td>\n      <td>0.0</td>\n    </tr>\n    <tr>\n      <th>00091358-943c-411e-bc5a-a3933f917830</th>\n      <td>2188</td>\n      <td>1</td>\n      <td>0</td>\n      <td>0.0</td>\n      <td>0.0</td>\n      <td>0.0</td>\n      <td>0.0</td>\n      <td>0.0</td>\n      <td>0.0</td>\n      <td>0.0</td>\n      <td>...</td>\n      <td>0.0</td>\n      <td>0.0</td>\n      <td>0.0</td>\n      <td>0.0</td>\n      <td>0.0</td>\n      <td>0.0</td>\n      <td>0.0</td>\n      <td>0.0</td>\n      <td>0.0</td>\n      <td>0.0</td>\n    </tr>\n    <tr>\n      <th>00091d27-24b1-488d-8be0-b169fe1aaace</th>\n      <td>1825</td>\n      <td>1</td>\n      <td>0</td>\n      <td>0.0</td>\n      <td>0.0</td>\n      <td>0.0</td>\n      <td>0.0</td>\n      <td>0.0</td>\n      <td>0.0</td>\n      <td>0.0</td>\n      <td>...</td>\n      <td>0.0</td>\n      <td>0.0</td>\n      <td>0.0</td>\n      <td>0.0</td>\n      <td>0.0</td>\n      <td>0.0</td>\n      <td>0.0</td>\n      <td>0.0</td>\n      <td>0.0</td>\n      <td>0.0</td>\n    </tr>\n    <tr>\n      <th>00095037-bacc-bf5c-e3c2-330c44c255c2</th>\n      <td>9940</td>\n      <td>3</td>\n      <td>2</td>\n      <td>2.0</td>\n      <td>1.0</td>\n      <td>0.0</td>\n      <td>0.0</td>\n      <td>0.0</td>\n      <td>0.0</td>\n      <td>0.0</td>\n      <td>...</td>\n      <td>0.0</td>\n      <td>0.0</td>\n      <td>0.0</td>\n      <td>0.0</td>\n      <td>0.0</td>\n      <td>0.0</td>\n      <td>0.0</td>\n      <td>0.0</td>\n      <td>0.0</td>\n      <td>0.0</td>\n    </tr>\n    <tr>\n      <th>000986fe-d41c-7f90-d27e-482967ecad50</th>\n      <td>2852</td>\n      <td>1</td>\n      <td>0</td>\n      <td>0.0</td>\n      <td>0.0</td>\n      <td>0.0</td>\n      <td>0.0</td>\n      <td>0.0</td>\n      <td>0.0</td>\n      <td>0.0</td>\n      <td>...</td>\n      <td>0.0</td>\n      <td>0.0</td>\n      <td>0.0</td>\n      <td>0.0</td>\n      <td>0.0</td>\n      <td>0.0</td>\n      <td>0.0</td>\n      <td>0.0</td>\n      <td>0.0</td>\n      <td>0.0</td>\n    </tr>\n    <tr>\n      <th>00099fdb-cd5c-4e2b-a35a-faa1b4efedef</th>\n      <td>12417</td>\n      <td>1</td>\n      <td>0</td>\n      <td>0.0</td>\n      <td>0.0</td>\n      <td>0.0</td>\n      <td>0.0</td>\n      <td>0.0</td>\n      <td>0.0</td>\n      <td>0.0</td>\n      <td>...</td>\n      <td>0.0</td>\n      <td>0.0</td>\n      <td>0.0</td>\n      <td>0.0</td>\n      <td>0.0</td>\n      <td>0.0</td>\n      <td>0.0</td>\n      <td>0.0</td>\n      <td>0.0</td>\n      <td>0.0</td>\n    </tr>\n  </tbody>\n</table>\n<p>60 rows × 35 columns</p>\n</div>"
     },
     "metadata": {},
     "execution_count": 38
    }
   ],
   "source": [
    "test.head(60)"
   ]
  },
  {
   "cell_type": "code",
   "execution_count": 39,
   "metadata": {},
   "outputs": [
    {
     "output_type": "stream",
     "name": "stdout",
     "text": [
      "<class 'pandas.core.frame.DataFrame'>\nIndex: 439876 entries, 00000aa4-ba42-9b68-a9c3-040c9f3bf9b9 to ffffded7-8c63-8f47-1f8a-40582f1f975c\nData columns (total 35 columns):\n #   Column                           Non-Null Count   Dtype  \n---  ------                           --------------   -----  \n 0   job_duration                     439876 non-null  int64  \n 1   gender_male                      439876 non-null  int32  \n 2   gender_female                    439876 non-null  int32  \n 3   degree_type                      439876 non-null  float64\n 4   is_completed                     439876 non-null  float64\n 5   subject_Computer Science         439876 non-null  float64\n 6   subject_Economics                439876 non-null  float64\n 7   subject_Finance                  439876 non-null  float64\n 8   subject_Electrical Engineering   439876 non-null  float64\n 9   subject_Business Administration  439876 non-null  float64\n 10  subject_Mechanical Engineering   439876 non-null  float64\n 11  subject_Marketing                439876 non-null  float64\n 12  subject_Accounting               439876 non-null  float64\n 13  subject_Law                      439876 non-null  float64\n 14  subject_Business                 439876 non-null  float64\n 15  subject_Computer Engineering     439876 non-null  float64\n 16  subject_Physics                  439876 non-null  float64\n 17  subject_Political Science        439876 non-null  float64\n 18  subject_Management               439876 non-null  float64\n 19  subject_Engineering              439876 non-null  float64\n 20  subject_Psychology               439876 non-null  float64\n 21  subject_Mathematics              439876 non-null  float64\n 22  subject_Chemical Engineering     439876 non-null  float64\n 23  subject_Chemistry                439876 non-null  float64\n 24  subject_History                  439876 non-null  float64\n 25  subject_Biology                  439876 non-null  float64\n 26  subject_International Business   439876 non-null  float64\n 27  subject_Information Technology   439876 non-null  float64\n 28  subject_Business Management      439876 non-null  float64\n 29  subject_English                  439876 non-null  float64\n 30  subject_Industrial Engineering   439876 non-null  float64\n 31  subject_Civil Engineering        439876 non-null  float64\n 32  subject_Biochemistry             439876 non-null  float64\n 33  subject_Medicine                 439876 non-null  float64\n 34  subject_Philosophy               439876 non-null  float64\ndtypes: float64(32), int32(2), int64(1)\nmemory usage: 137.5+ MB\n"
     ]
    }
   ],
   "source": [
    "test.info()"
   ]
  },
  {
   "cell_type": "code",
   "execution_count": 31,
   "metadata": {},
   "outputs": [],
   "source": [
    "# the next step is to get the list of fintech companies\n",
    "# so that unique org_uuid drastically decreases"
   ]
  },
  {
   "cell_type": "code",
   "execution_count": 32,
   "metadata": {},
   "outputs": [],
   "source": [
    "# df.to_csv(\"degrees_cleaned.csv\", index=False)"
   ]
  }
 ]
}