{
 "metadata": {
  "language_info": {
   "codemirror_mode": {
    "name": "ipython",
    "version": 3
   },
   "file_extension": ".py",
   "mimetype": "text/x-python",
   "name": "python",
   "nbconvert_exporter": "python",
   "pygments_lexer": "ipython3",
   "version": "3.8.3-final"
  },
  "orig_nbformat": 2,
  "kernelspec": {
   "name": "python3",
   "display_name": "Python 3",
   "language": "python"
  }
 },
 "nbformat": 4,
 "nbformat_minor": 2,
 "cells": [
  {
   "source": [
    "This notebook merges people, degrees and jobs. They will be aggregated for each organization, so there will be much fewer rows produced. <br>\n",
    "Setup: place `people.csv`, `degrees.csv`, `jobs.csv` in the same folder as this notebook."
   ],
   "cell_type": "markdown",
   "metadata": {}
  },
  {
   "cell_type": "code",
   "execution_count": 1,
   "metadata": {},
   "outputs": [],
   "source": [
    "# import library\n",
    "import pandas as pd\n",
    "import numpy as np\n",
    "import datetime as dt\n",
    "import matplotlib.pyplot as plt\n",
    "import seaborn as sns\n",
    "# from collections import Counter\n",
    "\n",
    "import prince\n",
    "from sklearn.decomposition import PCA"
   ]
  },
  {
   "cell_type": "code",
   "execution_count": 2,
   "metadata": {},
   "outputs": [],
   "source": [
    "# Stardust ver unique keyword search\n",
    "def unique_keyword_search(df_col: pd.Series, num_selected: int) -> list:\n",
    "    '''\n",
    "    Performs unique keyword search on a dataframe's column for its most common keywords\n",
    "\n",
    "    :param pd.Series df_col: column of a pd.DataFrame (e.g. df['col'])\n",
    "    :param int num_selected: number of keywords\n",
    "    :return: list of keywords in decreasing occurrence\n",
    "    :rtype: list\n",
    "    '''\n",
    "    keywords = []\n",
    "    for entry in df_col:\n",
    "        words = entry.split(',')\n",
    "        [keywords.append(word) for word in words]\n",
    "    sorted_keywords = Counter(keywords).most_common()\n",
    "    output_keywords = []\n",
    "    for i in range(num_selected):\n",
    "        output_keywords.append(sorted_keywords[i][0])\n",
    "    return output_keywords"
   ]
  },
  {
   "cell_type": "code",
   "execution_count": 3,
   "metadata": {},
   "outputs": [],
   "source": [
    "# Stardust ver one-hot encoder\n",
    "def onehot_encoder(df: pd.DataFrame, col_name: str, num_selected: int) -> pd.DataFrame:\n",
    "    '''\n",
    "    Performs one-hot encoding on a dataframe's column for its values with most occurrences\n",
    "\n",
    "    :param pd.DataFrame df: dataframe to be processed\n",
    "    :param str col_name: name of the encoded column\n",
    "    :param int num_selected: number of values with most occurrences\n",
    "    :return: processed dataframe\n",
    "    :rtype: pd.DataFrame\n",
    "    '''\n",
    "    series = df[col_name].value_counts()\n",
    "    selected_col_name = series.head(num_selected).index.tolist()\n",
    "\n",
    "    for item in selected_col_name:\n",
    "        df[col_name + \"_\" + item] = np.where(df[col_name] == item, 1, 0) # whenever df[col_name] == cat replace it with 1 else 0\n",
    "        \n",
    "    df.drop(columns=col_name, inplace=True)\n",
    "    return df"
   ]
  },
  {
   "cell_type": "code",
   "execution_count": 4,
   "metadata": {},
   "outputs": [],
   "source": [
    "# Stardust ver one-hot encoder V2\n",
    "def onehot_encoder_v2(df: pd.DataFrame, col_name: str, list_selected: list) -> pd.DataFrame:\n",
    "    '''\n",
    "    Performs one-hot encoding on a dataframe's column for its values with most occurrences\n",
    "\n",
    "    :param pd.DataFrame df: dataframe to be processed\n",
    "    :param str col_name: name of the encoded column\n",
    "    :param list list_selected: list of most common values\n",
    "    :return: processed dataframe\n",
    "    :rtype: pd.DataFrame\n",
    "    '''\n",
    "    for item in list_selected:\n",
    "        df[item] = np.where(df[col_name] == item, 1, 0) # whenever df[col_name] == cat replace it with 1 else 0\n",
    "    df.drop(col_name, axis=1, inplace=True)\n",
    "\n",
    "    return df"
   ]
  },
  {
   "source": [
    "First process `people.csv`."
   ],
   "cell_type": "markdown",
   "metadata": {}
  },
  {
   "cell_type": "code",
   "execution_count": 5,
   "metadata": {},
   "outputs": [],
   "source": [
    "# read the CSV\n",
    "ppl_df = pd.read_csv(\"people.csv\")\n",
    "# change the cols to keep\n",
    "# keep_col = ['uuid','gender','featured_job_organization_uuid']\n",
    "keep_col = ['uuid','gender']\n",
    "ppl_df = ppl_df[keep_col]\n",
    "# ppl_df.info()"
   ]
  },
  {
   "cell_type": "code",
   "execution_count": 6,
   "metadata": {},
   "outputs": [],
   "source": [
    "# if a person has no associated organization, the entry has no use\n",
    "# ppl_df.drop(ppl_df[ppl_df['featured_job_organization_uuid'].isnull()].index, inplace=True)\n",
    "# ppl_df.info()"
   ]
  },
  {
   "cell_type": "code",
   "execution_count": 7,
   "metadata": {},
   "outputs": [],
   "source": [
    "ppl_df = onehot_encoder(ppl_df, 'gender', 2) # male and female\n",
    "# ppl_df.info()"
   ]
  },
  {
   "cell_type": "code",
   "execution_count": 8,
   "metadata": {},
   "outputs": [],
   "source": [
    "ppl_df.reset_index(inplace=True)\n",
    "ppl_df.drop(axis=1, labels='index', inplace=True)"
   ]
  },
  {
   "cell_type": "code",
   "execution_count": 9,
   "metadata": {},
   "outputs": [
    {
     "output_type": "stream",
     "name": "stdout",
     "text": [
      "<class 'pandas.core.frame.DataFrame'>\nRangeIndex: 1106474 entries, 0 to 1106473\nData columns (total 3 columns):\n #   Column         Non-Null Count    Dtype \n---  ------         --------------    ----- \n 0   uuid           1106474 non-null  object\n 1   gender_male    1106474 non-null  int32 \n 2   gender_female  1106474 non-null  int32 \ndtypes: int32(2), object(1)\nmemory usage: 16.9+ MB\n"
     ]
    }
   ],
   "source": [
    "ppl_df.info()"
   ]
  },
  {
   "source": [
    "Then process `people.csv`."
   ],
   "cell_type": "markdown",
   "metadata": {}
  },
  {
   "cell_type": "code",
   "execution_count": 10,
   "metadata": {},
   "outputs": [],
   "source": [
    "# read the CSV\n",
    "deg_df = pd.read_csv(\"degrees.csv\")\n",
    "# change the cols to keep\n",
    "keep_col = ['person_uuid','degree_type','subject','started_on','completed_on','is_completed']\n",
    "deg_df = deg_df[keep_col]"
   ]
  },
  {
   "cell_type": "code",
   "execution_count": 11,
   "metadata": {},
   "outputs": [],
   "source": [
    "deg_df.drop_duplicates(inplace=True)\n",
    "\n",
    "degree_type_to_drop = (deg_df['degree_type'] == 'unknown') | (deg_df['degree_type'] == 'Unknown') | (deg_df['degree_type'] == 'Specialization') | (deg_df['degree_type'] == 'Certificate') | (deg_df['degree_type'] == 'Certification')\n",
    "deg_df = deg_df.drop(deg_df[degree_type_to_drop].index)\n",
    "deg_df = deg_df.drop(deg_df[deg_df['subject'] == 'unknown'].index)"
   ]
  },
  {
   "cell_type": "code",
   "execution_count": 12,
   "metadata": {},
   "outputs": [],
   "source": [
    "# use keyword to search for relevant degrees\n",
    "bachelor_keyword = ['Bachelor', 'Degree', 'BS', 'BSc', 'B.S.', 'Bsc', 'B.S',\n",
    "'BENG', 'BEng', 'B.Eng.', 'Beng', 'B.Eng', 'BE', 'B.E', 'BA', 'Ba', 'B.A.', 'B.A', 'A.B.', 'AB',\n",
    "'BBA', 'B.B.A.', 'B.B.A', 'B.Tech', 'B.Tech.', 'B.Com.', 'J.D.', 'JD', 'Juris Doctor']\n",
    "\n",
    "master_keyword = ['Master', 'Postgraduate', 'Graduate', 'MPHIL', 'MPhil', 'Mphil', 'M.Phil.', 'M.phil', 'M.Phil', 'M.S',\n",
    "'MS', 'MSc', 'M.Sc', 'Msc', 'MENG', 'MEng', 'M.Eng.', 'M.eng.',\n",
    "'MA', 'M.A', 'MBA', 'M.B.A.', 'M.B.A', 'Mba', 'M.BA.', 'M.Ba.', 'LLM']\n",
    "\n",
    "phd_keyword = ['PHD', 'Phd', 'PhD', 'P.HD', 'P.Hd', 'P.hd', 'P.H.D', 'Ph.D.', 'Ph.D.', 'PhD']\n",
    "\n",
    "# categories can be formed from one or more above elementary keywords\n",
    "# df.dropna(axis=0, subset=['degree_type'], inplace=True)\n",
    "deg_df['degree_type'].fillna(value='N/A', inplace=True)\n",
    "deg_df.loc[deg_df['degree_type'].str.contains('|'.join(phd_keyword)),'degree_type']='PhD'\n",
    "deg_df.loc[deg_df['degree_type'].str.contains('|'.join(master_keyword)),'degree_type']='Master'\n",
    "deg_df.loc[deg_df['degree_type'].str.contains('|'.join(bachelor_keyword)),'degree_type']='Bachelor'\n",
    "\n",
    "degree_type = []\n",
    "\n",
    "# perform ordinal encoding: bachelor = 1, master = 2, PhD = 3, no/others = 0\n",
    "for degree in deg_df['degree_type']:\n",
    "    if degree == 'Bachelor':\n",
    "        degree_type.append(1)\n",
    "    elif degree == 'Master':\n",
    "        degree_type.append(2)\n",
    "    elif degree == 'PhD':\n",
    "        degree_type.append(3)\n",
    "    else:\n",
    "        degree_type.append(0)\n",
    "        \n",
    "deg_df['degree_type'] = degree_type"
   ]
  },
  {
   "cell_type": "code",
   "execution_count": 13,
   "metadata": {},
   "outputs": [],
   "source": [
    "# use keyword to search for relevant subjects\n",
    "# the grouping is manually done, may not be exact\n",
    "stem_keyword = ['Computer Science', 'Computer science', 'CS', 'EE', 'Engineering', 'Mathematics', 'Statistics', 'Physics', 'Chemistry', 'Biology', 'Biochemistry', 'Information Technology', 'Electronics', 'Electrical', 'Mechanical', 'Biological Sciences', 'Neuroscience', 'Biotechnology', 'Bioengineering', 'Artificial Intelligence', 'Telecommunications', 'Materials Science', 'Cognitive Science', 'Information Science', 'Medicine']\n",
    "business_keyword = ['Business', 'Economics', 'Finance', 'Accounting', 'Marketing', 'Management', 'Information System', 'Entrepreneurship', 'MBA', 'Commerce', 'Accountancy', 'Operations Research', 'Human Resources']\n",
    "arts_sosc_keyword = ['Arts', 'Humanities', 'Language', 'English', 'History', 'Geography', 'Social Science', 'Political Science', 'Psychology', 'Sociology', 'International Relations', 'Journalism', 'Communication', 'Politics', 'Anthropology', 'Government', 'Public Policy', 'Public Administration', 'Law', 'Philosophy']\n",
    "\n",
    "deg_df['subject'].fillna(value='N/A', inplace=True)\n",
    "deg_df.loc[deg_df['subject'].str.contains('|'.join(stem_keyword)),'subject']='STEM'\n",
    "deg_df.loc[deg_df['subject'].str.contains('|'.join(business_keyword)),'subject']='Business'\n",
    "deg_df.loc[deg_df['subject'].str.contains('|'.join(arts_sosc_keyword)),'subject']='Arts_SoSc'"
   ]
  },
  {
   "cell_type": "code",
   "execution_count": 14,
   "metadata": {},
   "outputs": [
    {
     "output_type": "execute_result",
     "data": {
      "text/plain": [
       "Business                             92501\n",
       "STEM                                 90795\n",
       "Arts_SoSc                            32306\n",
       "N/A                                  26068\n",
       "Architecture                           707\n",
       "                                     ...  \n",
       "Medienwirtschaft                         1\n",
       "companuter science                       1\n",
       "Catalan Studies, Hispanic Studies        1\n",
       "Laser Electro-Optics                     1\n",
       "Entreprenuership class                   1\n",
       "Name: subject, Length: 17601, dtype: int64"
      ]
     },
     "metadata": {},
     "execution_count": 14
    }
   ],
   "source": [
    "counts = deg_df['subject'].value_counts()\n",
    "counts"
   ]
  },
  {
   "cell_type": "code",
   "execution_count": 15,
   "metadata": {},
   "outputs": [],
   "source": [
    "deg_df = onehot_encoder(deg_df, 'subject', 4)\n",
    "deg_df.drop(columns='subject_N/A', inplace=True)"
   ]
  },
  {
   "cell_type": "code",
   "execution_count": 16,
   "metadata": {},
   "outputs": [],
   "source": [
    "deg_df['subject_Business'] = deg_df.groupby('person_uuid')['subject_Business'].transform('sum')\n",
    "deg_df['subject_STEM'] = deg_df.groupby('person_uuid')['subject_STEM'].transform('sum')\n",
    "deg_df['subject_Arts_SoSc'] = deg_df.groupby('person_uuid')['subject_Arts_SoSc'].transform('sum')"
   ]
  },
  {
   "cell_type": "code",
   "execution_count": 17,
   "metadata": {},
   "outputs": [
    {
     "output_type": "execute_result",
     "data": {
      "text/plain": [
       "                                 person_uuid  degree_type  started_on  \\\n",
       "0       4897dba9-3141-ecc0-2c4b-c9d844e6440f            2         NaN   \n",
       "1       4897dba9-3141-ecc0-2c4b-c9d844e6440f            1         NaN   \n",
       "2       7d187b77-94f7-e6cc-6981-d7468db5968f            2         NaN   \n",
       "3       45e29113-19f9-c828-68d0-42ad2ef04da0            1         NaN   \n",
       "4       b3b4ec6b-86fe-dd6e-ec8a-e8e7e999f274            1         NaN   \n",
       "...                                      ...          ...         ...   \n",
       "369985  b9eb0d2f-e351-4e2e-b801-79161f5143a1            3  2007-01-01   \n",
       "369986  ce80648a-2284-4abf-a08b-7f29e2787c12            2         NaN   \n",
       "369987  4d890849-e451-e91b-6e6d-c64cf3f86c32            0         NaN   \n",
       "369988  7bdf7b98-cb20-4cee-9205-bebe1f4f16ce            2  1995-08-21   \n",
       "369989  6016e44a-7a64-857c-acef-706e1c75ae2a            1         NaN   \n",
       "\n",
       "       completed_on  is_completed  subject_Business  subject_STEM  \\\n",
       "0        1992-01-01          True                 0             0   \n",
       "1        1990-01-01          True                 0             0   \n",
       "2        2006-01-01          True                 0             0   \n",
       "3        1988-01-01          True                 1             1   \n",
       "4        2002-01-01          True                 0             1   \n",
       "...             ...           ...               ...           ...   \n",
       "369985   2012-01-01          True                 0             0   \n",
       "369986          NaN         False                 0             0   \n",
       "369987          NaN         False                 0             1   \n",
       "369988   1997-05-14          True                 1             0   \n",
       "369989          NaN         False                 1             1   \n",
       "\n",
       "        subject_Arts_SoSc  \n",
       "0                       2  \n",
       "1                       2  \n",
       "2                       0  \n",
       "3                       0  \n",
       "4                       1  \n",
       "...                   ...  \n",
       "369985                  0  \n",
       "369986                  0  \n",
       "369987                  0  \n",
       "369988                  0  \n",
       "369989                  0  \n",
       "\n",
       "[285738 rows x 8 columns]"
      ],
      "text/html": "<div>\n<style scoped>\n    .dataframe tbody tr th:only-of-type {\n        vertical-align: middle;\n    }\n\n    .dataframe tbody tr th {\n        vertical-align: top;\n    }\n\n    .dataframe thead th {\n        text-align: right;\n    }\n</style>\n<table border=\"1\" class=\"dataframe\">\n  <thead>\n    <tr style=\"text-align: right;\">\n      <th></th>\n      <th>person_uuid</th>\n      <th>degree_type</th>\n      <th>started_on</th>\n      <th>completed_on</th>\n      <th>is_completed</th>\n      <th>subject_Business</th>\n      <th>subject_STEM</th>\n      <th>subject_Arts_SoSc</th>\n    </tr>\n  </thead>\n  <tbody>\n    <tr>\n      <th>0</th>\n      <td>4897dba9-3141-ecc0-2c4b-c9d844e6440f</td>\n      <td>2</td>\n      <td>NaN</td>\n      <td>1992-01-01</td>\n      <td>True</td>\n      <td>0</td>\n      <td>0</td>\n      <td>2</td>\n    </tr>\n    <tr>\n      <th>1</th>\n      <td>4897dba9-3141-ecc0-2c4b-c9d844e6440f</td>\n      <td>1</td>\n      <td>NaN</td>\n      <td>1990-01-01</td>\n      <td>True</td>\n      <td>0</td>\n      <td>0</td>\n      <td>2</td>\n    </tr>\n    <tr>\n      <th>2</th>\n      <td>7d187b77-94f7-e6cc-6981-d7468db5968f</td>\n      <td>2</td>\n      <td>NaN</td>\n      <td>2006-01-01</td>\n      <td>True</td>\n      <td>0</td>\n      <td>0</td>\n      <td>0</td>\n    </tr>\n    <tr>\n      <th>3</th>\n      <td>45e29113-19f9-c828-68d0-42ad2ef04da0</td>\n      <td>1</td>\n      <td>NaN</td>\n      <td>1988-01-01</td>\n      <td>True</td>\n      <td>1</td>\n      <td>1</td>\n      <td>0</td>\n    </tr>\n    <tr>\n      <th>4</th>\n      <td>b3b4ec6b-86fe-dd6e-ec8a-e8e7e999f274</td>\n      <td>1</td>\n      <td>NaN</td>\n      <td>2002-01-01</td>\n      <td>True</td>\n      <td>0</td>\n      <td>1</td>\n      <td>1</td>\n    </tr>\n    <tr>\n      <th>...</th>\n      <td>...</td>\n      <td>...</td>\n      <td>...</td>\n      <td>...</td>\n      <td>...</td>\n      <td>...</td>\n      <td>...</td>\n      <td>...</td>\n    </tr>\n    <tr>\n      <th>369985</th>\n      <td>b9eb0d2f-e351-4e2e-b801-79161f5143a1</td>\n      <td>3</td>\n      <td>2007-01-01</td>\n      <td>2012-01-01</td>\n      <td>True</td>\n      <td>0</td>\n      <td>0</td>\n      <td>0</td>\n    </tr>\n    <tr>\n      <th>369986</th>\n      <td>ce80648a-2284-4abf-a08b-7f29e2787c12</td>\n      <td>2</td>\n      <td>NaN</td>\n      <td>NaN</td>\n      <td>False</td>\n      <td>0</td>\n      <td>0</td>\n      <td>0</td>\n    </tr>\n    <tr>\n      <th>369987</th>\n      <td>4d890849-e451-e91b-6e6d-c64cf3f86c32</td>\n      <td>0</td>\n      <td>NaN</td>\n      <td>NaN</td>\n      <td>False</td>\n      <td>0</td>\n      <td>1</td>\n      <td>0</td>\n    </tr>\n    <tr>\n      <th>369988</th>\n      <td>7bdf7b98-cb20-4cee-9205-bebe1f4f16ce</td>\n      <td>2</td>\n      <td>1995-08-21</td>\n      <td>1997-05-14</td>\n      <td>True</td>\n      <td>1</td>\n      <td>0</td>\n      <td>0</td>\n    </tr>\n    <tr>\n      <th>369989</th>\n      <td>6016e44a-7a64-857c-acef-706e1c75ae2a</td>\n      <td>1</td>\n      <td>NaN</td>\n      <td>NaN</td>\n      <td>False</td>\n      <td>1</td>\n      <td>1</td>\n      <td>0</td>\n    </tr>\n  </tbody>\n</table>\n<p>285738 rows × 8 columns</p>\n</div>"
     },
     "metadata": {},
     "execution_count": 17
    }
   ],
   "source": [
    "deg_df"
   ]
  },
  {
   "cell_type": "code",
   "execution_count": 18,
   "metadata": {},
   "outputs": [],
   "source": [
    "deg_df.sort_values(by='degree_type', ascending=False, inplace=True) # PhD > Master > Bachelor\n",
    "deg_df = deg_df.drop_duplicates(subset='person_uuid', keep=\"first\") # only consider the highest degree obtained"
   ]
  },
  {
   "cell_type": "code",
   "execution_count": 19,
   "metadata": {},
   "outputs": [],
   "source": [
    "degree_date = ['started_on', 'completed_on']\n",
    "has_degree = np.where(deg_df['degree_type'] != 0, 1, 0)\n",
    "\n",
    "# ignore for now\n",
    "# for col in degree_date:\n",
    "#     deg_df[col] = pd.to_datetime(deg_df[col], errors='coerce', format='%Y-%m-%d') # 'coerce' converts NaN to NaT\n",
    "#     mean = deg_df[col].mean()\n",
    "#     deg_df.loc[has_degree,col].fillna(value=mean, inplace=True)"
   ]
  },
  {
   "cell_type": "code",
   "execution_count": 20,
   "metadata": {},
   "outputs": [],
   "source": [
    "deg_df['is_completed'].fillna(value=0, inplace=True)\n",
    "deg_df['is_completed'] = deg_df['is_completed']*1"
   ]
  },
  {
   "cell_type": "code",
   "execution_count": 21,
   "metadata": {},
   "outputs": [],
   "source": [
    "deg_df.reset_index(inplace=True)\n",
    "deg_df.drop(axis=1, labels='index', inplace=True)"
   ]
  },
  {
   "cell_type": "code",
   "execution_count": 22,
   "metadata": {},
   "outputs": [],
   "source": [
    "# join people and degrees\n",
    "ppl_join = ppl_df.set_index('uuid').join(deg_df.set_index('person_uuid'))"
   ]
  },
  {
   "cell_type": "code",
   "execution_count": 23,
   "metadata": {},
   "outputs": [
    {
     "output_type": "execute_result",
     "data": {
      "text/plain": [
       "                                      gender_male  gender_female  degree_type  \\\n",
       "uuid                                                                            \n",
       "ed13cd36-fe2b-3707-197b-0c2d56e37a71            1              0          1.0   \n",
       "5ceca97b-493c-1446-6249-5aaa33464763            1              0          NaN   \n",
       "9f99a98a-aa97-b30b-0d36-db67c1d277e0            1              0          NaN   \n",
       "6e1bca72-a865-b518-b305-31214ce2d1b0            1              0          1.0   \n",
       "3b598c59-7b6c-2d48-763c-da55bca77035            1              0          NaN   \n",
       "\n",
       "                                     started_on completed_on  is_completed  \\\n",
       "uuid                                                                         \n",
       "ed13cd36-fe2b-3707-197b-0c2d56e37a71        NaN   1994-01-01           1.0   \n",
       "5ceca97b-493c-1446-6249-5aaa33464763        NaN          NaN           NaN   \n",
       "9f99a98a-aa97-b30b-0d36-db67c1d277e0        NaN          NaN           NaN   \n",
       "6e1bca72-a865-b518-b305-31214ce2d1b0        NaN   1986-01-01           1.0   \n",
       "3b598c59-7b6c-2d48-763c-da55bca77035        NaN          NaN           NaN   \n",
       "\n",
       "                                      subject_Business  subject_STEM  \\\n",
       "uuid                                                                   \n",
       "ed13cd36-fe2b-3707-197b-0c2d56e37a71               0.0           2.0   \n",
       "5ceca97b-493c-1446-6249-5aaa33464763               NaN           NaN   \n",
       "9f99a98a-aa97-b30b-0d36-db67c1d277e0               NaN           NaN   \n",
       "6e1bca72-a865-b518-b305-31214ce2d1b0               0.0           1.0   \n",
       "3b598c59-7b6c-2d48-763c-da55bca77035               NaN           NaN   \n",
       "\n",
       "                                      subject_Arts_SoSc  \n",
       "uuid                                                     \n",
       "ed13cd36-fe2b-3707-197b-0c2d56e37a71                0.0  \n",
       "5ceca97b-493c-1446-6249-5aaa33464763                NaN  \n",
       "9f99a98a-aa97-b30b-0d36-db67c1d277e0                NaN  \n",
       "6e1bca72-a865-b518-b305-31214ce2d1b0                0.0  \n",
       "3b598c59-7b6c-2d48-763c-da55bca77035                NaN  "
      ],
      "text/html": "<div>\n<style scoped>\n    .dataframe tbody tr th:only-of-type {\n        vertical-align: middle;\n    }\n\n    .dataframe tbody tr th {\n        vertical-align: top;\n    }\n\n    .dataframe thead th {\n        text-align: right;\n    }\n</style>\n<table border=\"1\" class=\"dataframe\">\n  <thead>\n    <tr style=\"text-align: right;\">\n      <th></th>\n      <th>gender_male</th>\n      <th>gender_female</th>\n      <th>degree_type</th>\n      <th>started_on</th>\n      <th>completed_on</th>\n      <th>is_completed</th>\n      <th>subject_Business</th>\n      <th>subject_STEM</th>\n      <th>subject_Arts_SoSc</th>\n    </tr>\n    <tr>\n      <th>uuid</th>\n      <th></th>\n      <th></th>\n      <th></th>\n      <th></th>\n      <th></th>\n      <th></th>\n      <th></th>\n      <th></th>\n      <th></th>\n    </tr>\n  </thead>\n  <tbody>\n    <tr>\n      <th>ed13cd36-fe2b-3707-197b-0c2d56e37a71</th>\n      <td>1</td>\n      <td>0</td>\n      <td>1.0</td>\n      <td>NaN</td>\n      <td>1994-01-01</td>\n      <td>1.0</td>\n      <td>0.0</td>\n      <td>2.0</td>\n      <td>0.0</td>\n    </tr>\n    <tr>\n      <th>5ceca97b-493c-1446-6249-5aaa33464763</th>\n      <td>1</td>\n      <td>0</td>\n      <td>NaN</td>\n      <td>NaN</td>\n      <td>NaN</td>\n      <td>NaN</td>\n      <td>NaN</td>\n      <td>NaN</td>\n      <td>NaN</td>\n    </tr>\n    <tr>\n      <th>9f99a98a-aa97-b30b-0d36-db67c1d277e0</th>\n      <td>1</td>\n      <td>0</td>\n      <td>NaN</td>\n      <td>NaN</td>\n      <td>NaN</td>\n      <td>NaN</td>\n      <td>NaN</td>\n      <td>NaN</td>\n      <td>NaN</td>\n    </tr>\n    <tr>\n      <th>6e1bca72-a865-b518-b305-31214ce2d1b0</th>\n      <td>1</td>\n      <td>0</td>\n      <td>1.0</td>\n      <td>NaN</td>\n      <td>1986-01-01</td>\n      <td>1.0</td>\n      <td>0.0</td>\n      <td>1.0</td>\n      <td>0.0</td>\n    </tr>\n    <tr>\n      <th>3b598c59-7b6c-2d48-763c-da55bca77035</th>\n      <td>1</td>\n      <td>0</td>\n      <td>NaN</td>\n      <td>NaN</td>\n      <td>NaN</td>\n      <td>NaN</td>\n      <td>NaN</td>\n      <td>NaN</td>\n      <td>NaN</td>\n    </tr>\n  </tbody>\n</table>\n</div>"
     },
     "metadata": {},
     "execution_count": 23
    }
   ],
   "source": [
    "ppl_join.head()"
   ]
  },
  {
   "cell_type": "code",
   "execution_count": 24,
   "metadata": {},
   "outputs": [],
   "source": [
    "# some cols will use 0 as the fillna() value\n",
    "col_nan_to_zero = ['degree_type','is_completed']\n",
    "for col in col_nan_to_zero:\n",
    "    ppl_join[col].fillna(value=0, inplace=True)\n",
    "ppl_join.iloc[9:].fillna(value=0, inplace=True)"
   ]
  },
  {
   "cell_type": "code",
   "execution_count": 25,
   "metadata": {},
   "outputs": [],
   "source": [
    "ppl_join.reset_index(inplace=True)"
   ]
  },
  {
   "cell_type": "code",
   "execution_count": 26,
   "metadata": {},
   "outputs": [
    {
     "output_type": "stream",
     "name": "stdout",
     "text": [
      "<class 'pandas.core.frame.DataFrame'>\nRangeIndex: 1589222 entries, 0 to 1589221\nData columns (total 5 columns):\n #   Column       Non-Null Count    Dtype \n---  ------       --------------    ----- \n 0   person_uuid  1589222 non-null  object\n 1   org_uuid     1589222 non-null  object\n 2   started_on   786367 non-null   object\n 3   ended_on     293932 non-null   object\n 4   is_current   1589222 non-null  bool  \ndtypes: bool(1), object(4)\nmemory usage: 50.0+ MB\n"
     ]
    }
   ],
   "source": [
    "# read the CSV\n",
    "job_df = pd.read_csv(\"jobs.csv\")\n",
    "# change the cols to keep\n",
    "keep_col = ['person_uuid','org_uuid','started_on','ended_on','is_current']\n",
    "job_df = job_df[keep_col]\n",
    "job_df.info()"
   ]
  },
  {
   "cell_type": "code",
   "execution_count": 27,
   "metadata": {},
   "outputs": [
    {
     "output_type": "execute_result",
     "data": {
      "text/plain": [
       "                            person_uuid                              org_uuid  \\\n",
       "0  ed13cd36-fe2b-3707-197b-0c2d56e37a71  e1393508-30ea-8a36-3f96-dd3226033abd   \n",
       "1  5ceca97b-493c-1446-6249-5aaa33464763  e1393508-30ea-8a36-3f96-dd3226033abd   \n",
       "2  9f99a98a-aa97-b30b-0d36-db67c1d277e0  bf4d7b0e-b34d-2fd8-d292-6049c4f7efc7   \n",
       "3  6e1bca72-a865-b518-b305-31214ce2d1b0  bf4d7b0e-b34d-2fd8-d292-6049c4f7efc7   \n",
       "4  c92a1f00-8c19-bf2e-0f28-dbbd383dc968  5f2b40b8-d1b3-d323-d81a-b7a8e89553d0   \n",
       "\n",
       "   started_on    ended_on  is_current  \n",
       "0         NaN         NaN       False  \n",
       "1         NaN         NaN       False  \n",
       "2  2000-11-01         NaN        True  \n",
       "3  2006-03-01         NaN        True  \n",
       "4  2005-07-01  2010-04-05       False  "
      ],
      "text/html": "<div>\n<style scoped>\n    .dataframe tbody tr th:only-of-type {\n        vertical-align: middle;\n    }\n\n    .dataframe tbody tr th {\n        vertical-align: top;\n    }\n\n    .dataframe thead th {\n        text-align: right;\n    }\n</style>\n<table border=\"1\" class=\"dataframe\">\n  <thead>\n    <tr style=\"text-align: right;\">\n      <th></th>\n      <th>person_uuid</th>\n      <th>org_uuid</th>\n      <th>started_on</th>\n      <th>ended_on</th>\n      <th>is_current</th>\n    </tr>\n  </thead>\n  <tbody>\n    <tr>\n      <th>0</th>\n      <td>ed13cd36-fe2b-3707-197b-0c2d56e37a71</td>\n      <td>e1393508-30ea-8a36-3f96-dd3226033abd</td>\n      <td>NaN</td>\n      <td>NaN</td>\n      <td>False</td>\n    </tr>\n    <tr>\n      <th>1</th>\n      <td>5ceca97b-493c-1446-6249-5aaa33464763</td>\n      <td>e1393508-30ea-8a36-3f96-dd3226033abd</td>\n      <td>NaN</td>\n      <td>NaN</td>\n      <td>False</td>\n    </tr>\n    <tr>\n      <th>2</th>\n      <td>9f99a98a-aa97-b30b-0d36-db67c1d277e0</td>\n      <td>bf4d7b0e-b34d-2fd8-d292-6049c4f7efc7</td>\n      <td>2000-11-01</td>\n      <td>NaN</td>\n      <td>True</td>\n    </tr>\n    <tr>\n      <th>3</th>\n      <td>6e1bca72-a865-b518-b305-31214ce2d1b0</td>\n      <td>bf4d7b0e-b34d-2fd8-d292-6049c4f7efc7</td>\n      <td>2006-03-01</td>\n      <td>NaN</td>\n      <td>True</td>\n    </tr>\n    <tr>\n      <th>4</th>\n      <td>c92a1f00-8c19-bf2e-0f28-dbbd383dc968</td>\n      <td>5f2b40b8-d1b3-d323-d81a-b7a8e89553d0</td>\n      <td>2005-07-01</td>\n      <td>2010-04-05</td>\n      <td>False</td>\n    </tr>\n  </tbody>\n</table>\n</div>"
     },
     "metadata": {},
     "execution_count": 27
    }
   ],
   "source": [
    "job_df.head()"
   ]
  },
  {
   "cell_type": "code",
   "execution_count": 28,
   "metadata": {},
   "outputs": [],
   "source": [
    "job_is_current = job_df['is_current'].array\n",
    "job_df.loc[job_is_current,'ended_on'] = job_df.loc[job_is_current,'ended_on'].fillna('2020-12-31')\n",
    "job_df.drop(columns='is_current', inplace=True)"
   ]
  },
  {
   "cell_type": "code",
   "execution_count": 29,
   "metadata": {},
   "outputs": [],
   "source": [
    "# find the duration of the job\n",
    "job_df['job_duration'] = pd.to_datetime(job_df['ended_on'], errors='coerce', format='%Y-%m-%d') - pd.to_datetime(job_df['started_on'], errors='coerce', format='%Y-%m-%d')\n",
    "# take mean for NaN\n",
    "mean = job_df['job_duration'].mean()\n",
    "job_df['job_duration'].fillna(value=mean, inplace=True)\n",
    "# convert TimeDelta to int\n",
    "job_df['job_duration'] = job_df['job_duration'].apply(lambda x: x.days)"
   ]
  },
  {
   "cell_type": "code",
   "execution_count": 30,
   "metadata": {},
   "outputs": [],
   "source": [
    "job_df.drop(columns=['started_on','ended_on'], inplace=True)"
   ]
  },
  {
   "cell_type": "code",
   "execution_count": 31,
   "metadata": {},
   "outputs": [],
   "source": [
    "# join jobs and ppl_join (= ppl + degrees)\n",
    "job_join = job_df.set_index('person_uuid').join(ppl_join.set_index('uuid'))"
   ]
  },
  {
   "cell_type": "code",
   "execution_count": 32,
   "metadata": {},
   "outputs": [
    {
     "output_type": "execute_result",
     "data": {
      "text/plain": [
       "                                                                  org_uuid  \\\n",
       "0000125e-5faf-822d-72d4-b7701e250550  75685ae6-5ba1-0ffb-80ba-3c0bf539e04d   \n",
       "000020dc-18ce-7f7b-e8c4-8f5d716ad09d  867f0af5-a1d0-143d-bbed-5cc252ca40d6   \n",
       "00002852-4f2a-473a-ae63-810fa8d3f31f  655ff5a2-33d2-dfe5-af13-20866a58a5c0   \n",
       "00006713-e0f6-e8d0-58a3-0063bb243a50  bf0eb7c9-a5c4-014f-fb7c-f6530084e4d5   \n",
       "00006aa5-68cc-7430-eb3d-9bd8305dcb4d  cab0141c-849d-56e9-8173-56fcd95c5dd1   \n",
       "\n",
       "                                      job_duration  gender_male  \\\n",
       "0000125e-5faf-822d-72d4-b7701e250550          2188            1   \n",
       "000020dc-18ce-7f7b-e8c4-8f5d716ad09d          2188            0   \n",
       "00002852-4f2a-473a-ae63-810fa8d3f31f          1036            1   \n",
       "00006713-e0f6-e8d0-58a3-0063bb243a50          2188            0   \n",
       "00006aa5-68cc-7430-eb3d-9bd8305dcb4d          2188            1   \n",
       "\n",
       "                                      gender_female  degree_type  started_on  \\\n",
       "0000125e-5faf-822d-72d4-b7701e250550              0          0.0           0   \n",
       "000020dc-18ce-7f7b-e8c4-8f5d716ad09d              1          3.0  2008-01-01   \n",
       "00002852-4f2a-473a-ae63-810fa8d3f31f              0          1.0  2013-01-01   \n",
       "00006713-e0f6-e8d0-58a3-0063bb243a50              1          0.0           0   \n",
       "00006aa5-68cc-7430-eb3d-9bd8305dcb4d              0          1.0           0   \n",
       "\n",
       "                                     completed_on  is_completed  \\\n",
       "0000125e-5faf-822d-72d4-b7701e250550            0           0.0   \n",
       "000020dc-18ce-7f7b-e8c4-8f5d716ad09d   2012-01-01           1.0   \n",
       "00002852-4f2a-473a-ae63-810fa8d3f31f   2017-01-01           1.0   \n",
       "00006713-e0f6-e8d0-58a3-0063bb243a50            0           0.0   \n",
       "00006aa5-68cc-7430-eb3d-9bd8305dcb4d            0           0.0   \n",
       "\n",
       "                                      subject_Business  subject_STEM  \\\n",
       "0000125e-5faf-822d-72d4-b7701e250550               NaN           NaN   \n",
       "000020dc-18ce-7f7b-e8c4-8f5d716ad09d               0.0           0.0   \n",
       "00002852-4f2a-473a-ae63-810fa8d3f31f               0.0           1.0   \n",
       "00006713-e0f6-e8d0-58a3-0063bb243a50               NaN           NaN   \n",
       "00006aa5-68cc-7430-eb3d-9bd8305dcb4d               1.0           0.0   \n",
       "\n",
       "                                      subject_Arts_SoSc  \n",
       "0000125e-5faf-822d-72d4-b7701e250550                NaN  \n",
       "000020dc-18ce-7f7b-e8c4-8f5d716ad09d                1.0  \n",
       "00002852-4f2a-473a-ae63-810fa8d3f31f                0.0  \n",
       "00006713-e0f6-e8d0-58a3-0063bb243a50                NaN  \n",
       "00006aa5-68cc-7430-eb3d-9bd8305dcb4d                0.0  "
      ],
      "text/html": "<div>\n<style scoped>\n    .dataframe tbody tr th:only-of-type {\n        vertical-align: middle;\n    }\n\n    .dataframe tbody tr th {\n        vertical-align: top;\n    }\n\n    .dataframe thead th {\n        text-align: right;\n    }\n</style>\n<table border=\"1\" class=\"dataframe\">\n  <thead>\n    <tr style=\"text-align: right;\">\n      <th></th>\n      <th>org_uuid</th>\n      <th>job_duration</th>\n      <th>gender_male</th>\n      <th>gender_female</th>\n      <th>degree_type</th>\n      <th>started_on</th>\n      <th>completed_on</th>\n      <th>is_completed</th>\n      <th>subject_Business</th>\n      <th>subject_STEM</th>\n      <th>subject_Arts_SoSc</th>\n    </tr>\n  </thead>\n  <tbody>\n    <tr>\n      <th>0000125e-5faf-822d-72d4-b7701e250550</th>\n      <td>75685ae6-5ba1-0ffb-80ba-3c0bf539e04d</td>\n      <td>2188</td>\n      <td>1</td>\n      <td>0</td>\n      <td>0.0</td>\n      <td>0</td>\n      <td>0</td>\n      <td>0.0</td>\n      <td>NaN</td>\n      <td>NaN</td>\n      <td>NaN</td>\n    </tr>\n    <tr>\n      <th>000020dc-18ce-7f7b-e8c4-8f5d716ad09d</th>\n      <td>867f0af5-a1d0-143d-bbed-5cc252ca40d6</td>\n      <td>2188</td>\n      <td>0</td>\n      <td>1</td>\n      <td>3.0</td>\n      <td>2008-01-01</td>\n      <td>2012-01-01</td>\n      <td>1.0</td>\n      <td>0.0</td>\n      <td>0.0</td>\n      <td>1.0</td>\n    </tr>\n    <tr>\n      <th>00002852-4f2a-473a-ae63-810fa8d3f31f</th>\n      <td>655ff5a2-33d2-dfe5-af13-20866a58a5c0</td>\n      <td>1036</td>\n      <td>1</td>\n      <td>0</td>\n      <td>1.0</td>\n      <td>2013-01-01</td>\n      <td>2017-01-01</td>\n      <td>1.0</td>\n      <td>0.0</td>\n      <td>1.0</td>\n      <td>0.0</td>\n    </tr>\n    <tr>\n      <th>00006713-e0f6-e8d0-58a3-0063bb243a50</th>\n      <td>bf0eb7c9-a5c4-014f-fb7c-f6530084e4d5</td>\n      <td>2188</td>\n      <td>0</td>\n      <td>1</td>\n      <td>0.0</td>\n      <td>0</td>\n      <td>0</td>\n      <td>0.0</td>\n      <td>NaN</td>\n      <td>NaN</td>\n      <td>NaN</td>\n    </tr>\n    <tr>\n      <th>00006aa5-68cc-7430-eb3d-9bd8305dcb4d</th>\n      <td>cab0141c-849d-56e9-8173-56fcd95c5dd1</td>\n      <td>2188</td>\n      <td>1</td>\n      <td>0</td>\n      <td>1.0</td>\n      <td>0</td>\n      <td>0</td>\n      <td>0.0</td>\n      <td>1.0</td>\n      <td>0.0</td>\n      <td>0.0</td>\n    </tr>\n  </tbody>\n</table>\n</div>"
     },
     "metadata": {},
     "execution_count": 32
    }
   ],
   "source": [
    "job_join.head()"
   ]
  },
  {
   "cell_type": "code",
   "execution_count": 33,
   "metadata": {},
   "outputs": [
    {
     "output_type": "stream",
     "name": "stdout",
     "text": [
      "<class 'pandas.core.frame.DataFrame'>\nIndex: 1589222 entries, 0000125e-5faf-822d-72d4-b7701e250550 to fffff797-41b1-4358-a991-7d9c51be798c\nData columns (total 11 columns):\n #   Column             Non-Null Count    Dtype  \n---  ------             --------------    -----  \n 0   org_uuid           1589222 non-null  object \n 1   job_duration       1589222 non-null  int64  \n 2   gender_male        1589222 non-null  int32  \n 3   gender_female      1589222 non-null  int32  \n 4   degree_type        1589222 non-null  float64\n 5   started_on         1589173 non-null  object \n 6   completed_on       1589187 non-null  object \n 7   is_completed       1589222 non-null  float64\n 8   subject_Business   549909 non-null   float64\n 9   subject_STEM       549909 non-null   float64\n 10  subject_Arts_SoSc  549909 non-null   float64\ndtypes: float64(5), int32(2), int64(1), object(3)\nmemory usage: 133.4+ MB\n"
     ]
    }
   ],
   "source": [
    "job_join.info()"
   ]
  },
  {
   "cell_type": "code",
   "execution_count": 34,
   "metadata": {},
   "outputs": [],
   "source": [
    "job_join.drop(columns=['started_on','completed_on','is_completed'], inplace=True) # may not drop in final ver\n",
    "job_join.fillna(value=0, inplace=True)"
   ]
  },
  {
   "cell_type": "code",
   "execution_count": 35,
   "metadata": {},
   "outputs": [
    {
     "output_type": "stream",
     "name": "stdout",
     "text": [
      "<class 'pandas.core.frame.DataFrame'>\nIndex: 1589222 entries, 0000125e-5faf-822d-72d4-b7701e250550 to fffff797-41b1-4358-a991-7d9c51be798c\nData columns (total 8 columns):\n #   Column             Non-Null Count    Dtype  \n---  ------             --------------    -----  \n 0   org_uuid           1589222 non-null  object \n 1   job_duration       1589222 non-null  int64  \n 2   gender_male        1589222 non-null  int32  \n 3   gender_female      1589222 non-null  int32  \n 4   degree_type        1589222 non-null  float64\n 5   subject_Business   1589222 non-null  float64\n 6   subject_STEM       1589222 non-null  float64\n 7   subject_Arts_SoSc  1589222 non-null  float64\ndtypes: float64(4), int32(2), int64(1), object(1)\nmemory usage: 97.0+ MB\n"
     ]
    }
   ],
   "source": [
    "job_join.info()"
   ]
  },
  {
   "cell_type": "code",
   "execution_count": 36,
   "metadata": {},
   "outputs": [],
   "source": [
    "df = job_join.groupby(['org_uuid']).sum()"
   ]
  },
  {
   "cell_type": "code",
   "execution_count": 37,
   "metadata": {},
   "outputs": [
    {
     "output_type": "execute_result",
     "data": {
      "text/plain": [
       "                                      job_duration  gender_male  \\\n",
       "org_uuid                                                          \n",
       "00000aa4-ba42-9b68-a9c3-040c9f3bf9b9          6564            3   \n",
       "000014da-0c46-b9cb-0941-3a93c027b119         13134            4   \n",
       "0000221d-6dfd-a049-dcfc-b4a5ca3b0fe7          2188            1   \n",
       "00002470-bff7-6226-5800-0ca1b3787b6f         12114            6   \n",
       "00003a2c-ad4d-ff61-997b-7b22b2320895          2661            2   \n",
       "\n",
       "                                      gender_female  degree_type  \\\n",
       "org_uuid                                                           \n",
       "00000aa4-ba42-9b68-a9c3-040c9f3bf9b9              0          0.0   \n",
       "000014da-0c46-b9cb-0941-3a93c027b119              2          2.0   \n",
       "0000221d-6dfd-a049-dcfc-b4a5ca3b0fe7              0          1.0   \n",
       "00002470-bff7-6226-5800-0ca1b3787b6f              0          5.0   \n",
       "00003a2c-ad4d-ff61-997b-7b22b2320895              0          0.0   \n",
       "\n",
       "                                      subject_Business  subject_STEM  \\\n",
       "org_uuid                                                               \n",
       "00000aa4-ba42-9b68-a9c3-040c9f3bf9b9               0.0           0.0   \n",
       "000014da-0c46-b9cb-0941-3a93c027b119               0.0           0.0   \n",
       "0000221d-6dfd-a049-dcfc-b4a5ca3b0fe7               1.0           0.0   \n",
       "00002470-bff7-6226-5800-0ca1b3787b6f               0.0           5.0   \n",
       "00003a2c-ad4d-ff61-997b-7b22b2320895               0.0           0.0   \n",
       "\n",
       "                                      subject_Arts_SoSc  \n",
       "org_uuid                                                 \n",
       "00000aa4-ba42-9b68-a9c3-040c9f3bf9b9                0.0  \n",
       "000014da-0c46-b9cb-0941-3a93c027b119                0.0  \n",
       "0000221d-6dfd-a049-dcfc-b4a5ca3b0fe7                0.0  \n",
       "00002470-bff7-6226-5800-0ca1b3787b6f                0.0  \n",
       "00003a2c-ad4d-ff61-997b-7b22b2320895                0.0  "
      ],
      "text/html": "<div>\n<style scoped>\n    .dataframe tbody tr th:only-of-type {\n        vertical-align: middle;\n    }\n\n    .dataframe tbody tr th {\n        vertical-align: top;\n    }\n\n    .dataframe thead th {\n        text-align: right;\n    }\n</style>\n<table border=\"1\" class=\"dataframe\">\n  <thead>\n    <tr style=\"text-align: right;\">\n      <th></th>\n      <th>job_duration</th>\n      <th>gender_male</th>\n      <th>gender_female</th>\n      <th>degree_type</th>\n      <th>subject_Business</th>\n      <th>subject_STEM</th>\n      <th>subject_Arts_SoSc</th>\n    </tr>\n    <tr>\n      <th>org_uuid</th>\n      <th></th>\n      <th></th>\n      <th></th>\n      <th></th>\n      <th></th>\n      <th></th>\n      <th></th>\n    </tr>\n  </thead>\n  <tbody>\n    <tr>\n      <th>00000aa4-ba42-9b68-a9c3-040c9f3bf9b9</th>\n      <td>6564</td>\n      <td>3</td>\n      <td>0</td>\n      <td>0.0</td>\n      <td>0.0</td>\n      <td>0.0</td>\n      <td>0.0</td>\n    </tr>\n    <tr>\n      <th>000014da-0c46-b9cb-0941-3a93c027b119</th>\n      <td>13134</td>\n      <td>4</td>\n      <td>2</td>\n      <td>2.0</td>\n      <td>0.0</td>\n      <td>0.0</td>\n      <td>0.0</td>\n    </tr>\n    <tr>\n      <th>0000221d-6dfd-a049-dcfc-b4a5ca3b0fe7</th>\n      <td>2188</td>\n      <td>1</td>\n      <td>0</td>\n      <td>1.0</td>\n      <td>1.0</td>\n      <td>0.0</td>\n      <td>0.0</td>\n    </tr>\n    <tr>\n      <th>00002470-bff7-6226-5800-0ca1b3787b6f</th>\n      <td>12114</td>\n      <td>6</td>\n      <td>0</td>\n      <td>5.0</td>\n      <td>0.0</td>\n      <td>5.0</td>\n      <td>0.0</td>\n    </tr>\n    <tr>\n      <th>00003a2c-ad4d-ff61-997b-7b22b2320895</th>\n      <td>2661</td>\n      <td>2</td>\n      <td>0</td>\n      <td>0.0</td>\n      <td>0.0</td>\n      <td>0.0</td>\n      <td>0.0</td>\n    </tr>\n  </tbody>\n</table>\n</div>"
     },
     "metadata": {},
     "execution_count": 37
    }
   ],
   "source": [
    "df.head()"
   ]
  },
  {
   "cell_type": "code",
   "execution_count": 38,
   "metadata": {},
   "outputs": [],
   "source": [
    "# the next step is to get the list of fintech companies\n",
    "# so that unique org_uuid drastically decreases"
   ]
  },
  {
   "cell_type": "code",
   "execution_count": 39,
   "metadata": {},
   "outputs": [],
   "source": [
    "# df.to_csv(\"degrees_cleaned.csv\", index=False)"
   ]
  }
 ]
}