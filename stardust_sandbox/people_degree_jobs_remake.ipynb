{
 "metadata": {
  "language_info": {
   "codemirror_mode": {
    "name": "ipython",
    "version": 3
   },
   "file_extension": ".py",
   "mimetype": "text/x-python",
   "name": "python",
   "nbconvert_exporter": "python",
   "pygments_lexer": "ipython3",
   "version": "3.8.3-final"
  },
  "orig_nbformat": 2,
  "kernelspec": {
   "name": "python3",
   "display_name": "Python 3",
   "language": "python"
  }
 },
 "nbformat": 4,
 "nbformat_minor": 2,
 "cells": [
  {
   "source": [
    "This notebook merges people, degrees and jobs. They will be aggregated for each organization, so there will be much fewer rows produced. <br>\n",
    "Setup: place `people.csv`, `degrees.csv`, `jobs.csv` in the same folder as this notebook."
   ],
   "cell_type": "markdown",
   "metadata": {}
  },
  {
   "cell_type": "code",
   "execution_count": 1,
   "metadata": {},
   "outputs": [],
   "source": [
    "# import library\n",
    "import pandas as pd\n",
    "import numpy as np"
   ]
  },
  {
   "cell_type": "code",
   "execution_count": 2,
   "metadata": {},
   "outputs": [],
   "source": [
    "# Stardust ver one-hot encoder\n",
    "def onehot_encoder(df: pd.DataFrame, col_name: str, num_selected: int) -> pd.DataFrame:\n",
    "    '''\n",
    "    Performs one-hot encoding on a dataframe's column for its values with most occurrences\n",
    "\n",
    "    :param pd.DataFrame df: dataframe to be processed\n",
    "    :param str col_name: name of the encoded column\n",
    "    :param int num_selected: number of values with most occurrences\n",
    "    :return: processed dataframe\n",
    "    :rtype: pd.DataFrame\n",
    "    '''\n",
    "    series = df[col_name].value_counts()\n",
    "    selected_col_name = series.head(num_selected).index.tolist()\n",
    "\n",
    "    for item in selected_col_name:\n",
    "        df[col_name + \"_\" + item] = np.where(df[col_name] == item, 1, 0) # whenever df[col_name] == cat replace it with 1 else 0\n",
    "        \n",
    "    df.drop(columns=col_name, inplace=True)\n",
    "    return df"
   ]
  },
  {
   "source": [
    "First process `people.csv`."
   ],
   "cell_type": "markdown",
   "metadata": {}
  },
  {
   "cell_type": "code",
   "execution_count": 3,
   "metadata": {},
   "outputs": [],
   "source": [
    "# read the CSV\n",
    "ppl_df = pd.read_csv(\"people.csv\")\n",
    "# change the cols to keep\n",
    "keep_col = ['uuid','name','rank','gender','featured_job_organization_uuid']\n",
    "ppl_df = ppl_df[keep_col]\n",
    "# ppl_df.info()"
   ]
  },
  {
   "cell_type": "code",
   "execution_count": 4,
   "metadata": {},
   "outputs": [],
   "source": [
    "# if a person has no associated organization, the entry has no use\n",
    "ppl_df.drop(ppl_df[ppl_df['featured_job_organization_uuid'].isnull()].index, inplace=True)\n",
    "# ppl_df.info()"
   ]
  },
  {
   "cell_type": "code",
   "execution_count": 5,
   "metadata": {},
   "outputs": [],
   "source": [
    "ppl_df = onehot_encoder(ppl_df, 'gender', 2) # male and female\n",
    "# ppl_df.info()"
   ]
  },
  {
   "cell_type": "code",
   "execution_count": 6,
   "metadata": {},
   "outputs": [],
   "source": [
    "ppl_df.reset_index(inplace=True)\n",
    "ppl_df.drop(axis=1, labels='index', inplace=True)"
   ]
  },
  {
   "cell_type": "code",
   "execution_count": 7,
   "metadata": {},
   "outputs": [],
   "source": [
    "# read the CSV\n",
    "deg_df = pd.read_csv(\"degrees.csv\")\n",
    "# change the cols to keep\n",
    "keep_col = ['uuid','person_uuid','degree_type','subject','started_on','completed_on','is_completed']\n",
    "deg_df = deg_df[keep_col]"
   ]
  },
  {
   "cell_type": "code",
   "execution_count": 8,
   "metadata": {},
   "outputs": [],
   "source": [
    "# use keyword to search for relevant degrees\n",
    "bachelor_keyword = ['Bachelor', 'Degree', 'BS', 'BSc', 'B.S.', 'Bsc', 'B.S',\n",
    "'BENG', 'BEng', 'B.Eng.', 'Beng', 'B.Eng', 'BE', 'B.E', 'BA', 'Ba', 'B.A.', 'B.A', 'A.B.', 'AB',\n",
    "'BBA', 'B.B.A.', 'B.B.A', 'B.Tech', 'B.Tech.', 'B.Com.', 'J.D.', 'JD', 'Juris Doctor']\n",
    "\n",
    "master_keyword = ['Master', 'Postgraduate', 'Graduate', 'MPHIL', 'MPhil', 'Mphil', 'M.Phil.', 'M.phil', 'M.Phil', 'M.S',\n",
    "'MS', 'MSc', 'M.Sc', 'Msc', 'MENG', 'MEng', 'M.Eng.', 'M.eng.',\n",
    "'MA', 'M.A', 'MBA', 'M.B.A.', 'M.B.A', 'Mba', 'M.BA.', 'M.Ba.', 'LLM']\n",
    "\n",
    "phd_keyword = ['PHD', 'Phd', 'PhD', 'P.HD', 'P.Hd', 'P.hd', 'P.H.D', 'Ph.D.', 'Ph.D.', 'PhD']\n",
    "\n",
    "# categories can be formed from one or more above elementary keywords\n",
    "# df.dropna(axis=0, subset=['degree_type'], inplace=True)\n",
    "deg_df['degree_type'].fillna(value='N/A', inplace=True)\n",
    "deg_df.loc[deg_df['degree_type'].str.contains('|'.join(phd_keyword)),'degree_type']='PhD'\n",
    "deg_df.loc[deg_df['degree_type'].str.contains('|'.join(master_keyword)),'degree_type']='Master'\n",
    "deg_df.loc[deg_df['degree_type'].str.contains('|'.join(bachelor_keyword)),'degree_type']='Bachelor'\n",
    "\n",
    "degree_type = []\n",
    "\n",
    "# perform ordinal encoding: bachelor = 1, master = 2, PhD = 3, no/others = 0\n",
    "for degree in deg_df['degree_type']:\n",
    "    if degree == 'Bachelor':\n",
    "        degree_type.append(1)\n",
    "    elif degree == 'Master':\n",
    "        degree_type.append(2)\n",
    "    elif degree == 'PhD':\n",
    "        degree_type.append(3)\n",
    "    else:\n",
    "        degree_type.append(0)\n",
    "        \n",
    "deg_df['degree_type'] = degree_type\n",
    "\n",
    "# deg_df.reset_index(inplace=True)\n",
    "# deg_df.drop(axis=1, labels='index', inplace=True)"
   ]
  },
  {
   "cell_type": "code",
   "execution_count": 9,
   "metadata": {},
   "outputs": [
    {
     "output_type": "execute_result",
     "data": {
      "text/plain": [
       "1    159785\n",
       "2    113467\n",
       "0     83826\n",
       "3     12912\n",
       "Name: degree_type, dtype: int64"
      ]
     },
     "metadata": {},
     "execution_count": 9
    }
   ],
   "source": [
    "# deg_df['degree_type'].value_counts()"
   ]
  },
  {
   "cell_type": "code",
   "execution_count": 10,
   "metadata": {},
   "outputs": [],
   "source": [
    "# jobs_df = pd.read_csv(\"jobs.csv\")\n",
    "# ['uuid','person_uuid','org_uuid','org_name','started_on','ended_on','is_current','job_type']"
   ]
  },
  {
   "cell_type": "code",
   "execution_count": 11,
   "metadata": {},
   "outputs": [],
   "source": [
    "# df.to_csv(\"degrees_cleaned.csv\", index=False)"
   ]
  }
 ]
}