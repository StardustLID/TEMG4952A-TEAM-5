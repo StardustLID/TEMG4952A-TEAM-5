{
 "metadata": {
  "language_info": {
   "codemirror_mode": {
    "name": "ipython",
    "version": 3
   },
   "file_extension": ".py",
   "mimetype": "text/x-python",
   "name": "python",
   "nbconvert_exporter": "python",
   "pygments_lexer": "ipython3",
   "version": "3.8.3-final"
  },
  "orig_nbformat": 2,
  "kernelspec": {
   "name": "python3",
   "display_name": "Python 3",
   "language": "python"
  }
 },
 "nbformat": 4,
 "nbformat_minor": 2,
 "cells": [
  {
   "source": [
    "This notebook merges people, degrees and jobs. They will be aggregated for each organization, so there will be much fewer rows produced. <br>\n",
    "Setup: place `people.csv`, `degrees.csv`, `jobs.csv` in the same folder as this notebook."
   ],
   "cell_type": "markdown",
   "metadata": {}
  },
  {
   "cell_type": "code",
   "execution_count": 1,
   "metadata": {},
   "outputs": [],
   "source": [
    "# import library\n",
    "import pandas as pd\n",
    "import numpy as np\n",
    "import datetime as dt"
   ]
  },
  {
   "cell_type": "code",
   "execution_count": 2,
   "metadata": {},
   "outputs": [],
   "source": [
    "# Stardust ver unique keyword search\n",
    "def unique_keyword_search(df_col: pd.Series, num_selected: int) -> list:\n",
    "    '''\n",
    "    Performs unique keyword search on a dataframe's column for its most common keywords\n",
    "\n",
    "    :param pd.Series df_col: column of a pd.DataFrame (e.g. df['col'])\n",
    "    :param int num_selected: number of keywords\n",
    "    :return: list of keywords in decreasing occurrence\n",
    "    :rtype: list\n",
    "    '''\n",
    "    keywords = []\n",
    "    for entry in df_col:\n",
    "        words = entry.split(',')\n",
    "        [keywords.append(word) for word in words]\n",
    "    sorted_keywords = Counter(keywords).most_common()\n",
    "    output_keywords = []\n",
    "    for i in range(num_selected):\n",
    "        output_keywords.append(sorted_keywords[i][0])\n",
    "    return output_keywords"
   ]
  },
  {
   "cell_type": "code",
   "execution_count": 3,
   "metadata": {},
   "outputs": [],
   "source": [
    "# Stardust ver one-hot encoder\n",
    "def onehot_encoder(df: pd.DataFrame, col_name: str, num_selected: int) -> pd.DataFrame:\n",
    "    '''\n",
    "    Performs one-hot encoding on a dataframe's column for its values with most occurrences\n",
    "\n",
    "    :param pd.DataFrame df: dataframe to be processed\n",
    "    :param str col_name: name of the encoded column\n",
    "    :param int num_selected: number of values with most occurrences\n",
    "    :return: processed dataframe\n",
    "    :rtype: pd.DataFrame\n",
    "    '''\n",
    "    series = df[col_name].value_counts()\n",
    "    selected_col_name = series.head(num_selected).index.tolist()\n",
    "\n",
    "    for item in selected_col_name:\n",
    "        df[col_name + \"_\" + item] = np.where(df[col_name] == item, 1, 0) # whenever df[col_name] == cat replace it with 1 else 0\n",
    "        \n",
    "    df.drop(columns=col_name, inplace=True)\n",
    "    return df"
   ]
  },
  {
   "cell_type": "code",
   "execution_count": 4,
   "metadata": {},
   "outputs": [],
   "source": [
    "# Stardust ver one-hot encoder V2\n",
    "def onehot_encoder_v2(df: pd.DataFrame, col_name: str, list_selected: list) -> pd.DataFrame:\n",
    "    '''\n",
    "    Performs one-hot encoding on a dataframe's column for its values with most occurrences\n",
    "\n",
    "    :param pd.DataFrame df: dataframe to be processed\n",
    "    :param str col_name: name of the encoded column\n",
    "    :param list list_selected: list of most common values\n",
    "    :return: processed dataframe\n",
    "    :rtype: pd.DataFrame\n",
    "    '''\n",
    "    for item in list_selected:\n",
    "        df[item] = np.where(df[col_name] == item, 1, 0) # whenever df[col_name] == cat replace it with 1 else 0\n",
    "    df.drop(col_name, axis=1, inplace=True)\n",
    "\n",
    "    return df"
   ]
  },
  {
   "source": [
    "First process `people.csv`."
   ],
   "cell_type": "markdown",
   "metadata": {}
  },
  {
   "cell_type": "code",
   "execution_count": 5,
   "metadata": {},
   "outputs": [],
   "source": [
    "# read the CSV\n",
    "ppl_df = pd.read_csv(\"people.csv\")\n",
    "# change the cols to keep\n",
    "keep_col = ['uuid','name','gender','featured_job_organization_uuid']\n",
    "ppl_df = ppl_df[keep_col]\n",
    "# ppl_df.info()"
   ]
  },
  {
   "cell_type": "code",
   "execution_count": 6,
   "metadata": {},
   "outputs": [],
   "source": [
    "# if a person has no associated organization, the entry has no use\n",
    "ppl_df.drop(ppl_df[ppl_df['featured_job_organization_uuid'].isnull()].index, inplace=True)\n",
    "# ppl_df.info()"
   ]
  },
  {
   "cell_type": "code",
   "execution_count": 7,
   "metadata": {},
   "outputs": [],
   "source": [
    "ppl_df = onehot_encoder(ppl_df, 'gender', 2) # male and female\n",
    "# ppl_df.info()"
   ]
  },
  {
   "cell_type": "code",
   "execution_count": 8,
   "metadata": {},
   "outputs": [],
   "source": [
    "ppl_df.reset_index(inplace=True)\n",
    "ppl_df.drop(axis=1, labels='index', inplace=True)"
   ]
  },
  {
   "cell_type": "code",
   "execution_count": 9,
   "metadata": {},
   "outputs": [
    {
     "output_type": "stream",
     "name": "stdout",
     "text": [
      "<class 'pandas.core.frame.DataFrame'>\nRangeIndex: 676013 entries, 0 to 676012\nData columns (total 5 columns):\n #   Column                          Non-Null Count   Dtype \n---  ------                          --------------   ----- \n 0   uuid                            676013 non-null  object\n 1   name                            676013 non-null  object\n 2   featured_job_organization_uuid  676013 non-null  object\n 3   gender_male                     676013 non-null  int32 \n 4   gender_female                   676013 non-null  int32 \ndtypes: int32(2), object(3)\nmemory usage: 20.6+ MB\n"
     ]
    }
   ],
   "source": [
    "ppl_df.info()"
   ]
  },
  {
   "source": [
    "Then process `people.csv`."
   ],
   "cell_type": "markdown",
   "metadata": {}
  },
  {
   "cell_type": "code",
   "execution_count": 10,
   "metadata": {},
   "outputs": [],
   "source": [
    "# read the CSV\n",
    "deg_df = pd.read_csv(\"degrees.csv\")\n",
    "# change the cols to keep\n",
    "keep_col = ['person_uuid','degree_type','subject','started_on','completed_on','is_completed']\n",
    "deg_df = deg_df[keep_col]"
   ]
  },
  {
   "cell_type": "code",
   "execution_count": 11,
   "metadata": {},
   "outputs": [],
   "source": [
    "deg_df.drop_duplicates(inplace=True)\n",
    "\n",
    "degree_type_to_drop = (deg_df['degree_type'] == 'unknown') | (deg_df['degree_type'] == 'Unknown') | (deg_df['degree_type'] == 'Specialization') | (deg_df['degree_type'] == 'Certificate') | (deg_df['degree_type'] == 'Certification')\n",
    "deg_df = deg_df.drop(deg_df[degree_type_to_drop].index)\n",
    "deg_df = deg_df.drop(deg_df[deg_df['subject'] == 'unknown'].index)"
   ]
  },
  {
   "cell_type": "code",
   "execution_count": 12,
   "metadata": {},
   "outputs": [],
   "source": [
    "# use keyword to search for relevant degrees\n",
    "bachelor_keyword = ['Bachelor', 'Degree', 'BS', 'BSc', 'B.S.', 'Bsc', 'B.S',\n",
    "'BENG', 'BEng', 'B.Eng.', 'Beng', 'B.Eng', 'BE', 'B.E', 'BA', 'Ba', 'B.A.', 'B.A', 'A.B.', 'AB',\n",
    "'BBA', 'B.B.A.', 'B.B.A', 'B.Tech', 'B.Tech.', 'B.Com.', 'J.D.', 'JD', 'Juris Doctor']\n",
    "\n",
    "master_keyword = ['Master', 'Postgraduate', 'Graduate', 'MPHIL', 'MPhil', 'Mphil', 'M.Phil.', 'M.phil', 'M.Phil', 'M.S',\n",
    "'MS', 'MSc', 'M.Sc', 'Msc', 'MENG', 'MEng', 'M.Eng.', 'M.eng.',\n",
    "'MA', 'M.A', 'MBA', 'M.B.A.', 'M.B.A', 'Mba', 'M.BA.', 'M.Ba.', 'LLM']\n",
    "\n",
    "phd_keyword = ['PHD', 'Phd', 'PhD', 'P.HD', 'P.Hd', 'P.hd', 'P.H.D', 'Ph.D.', 'Ph.D.', 'PhD']\n",
    "\n",
    "# categories can be formed from one or more above elementary keywords\n",
    "# df.dropna(axis=0, subset=['degree_type'], inplace=True)\n",
    "deg_df['degree_type'].fillna(value='N/A', inplace=True)\n",
    "deg_df.loc[deg_df['degree_type'].str.contains('|'.join(phd_keyword)),'degree_type']='PhD'\n",
    "deg_df.loc[deg_df['degree_type'].str.contains('|'.join(master_keyword)),'degree_type']='Master'\n",
    "deg_df.loc[deg_df['degree_type'].str.contains('|'.join(bachelor_keyword)),'degree_type']='Bachelor'\n",
    "\n",
    "degree_type = []\n",
    "\n",
    "# perform ordinal encoding: bachelor = 1, master = 2, PhD = 3, no/others = 0\n",
    "for degree in deg_df['degree_type']:\n",
    "    if degree == 'Bachelor':\n",
    "        degree_type.append(1)\n",
    "    elif degree == 'Master':\n",
    "        degree_type.append(2)\n",
    "    elif degree == 'PhD':\n",
    "        degree_type.append(3)\n",
    "    else:\n",
    "        degree_type.append(0)\n",
    "        \n",
    "deg_df['degree_type'] = degree_type"
   ]
  },
  {
   "cell_type": "code",
   "execution_count": 13,
   "metadata": {},
   "outputs": [],
   "source": [
    "deg_df = onehot_encoder(deg_df, 'subject', 30)"
   ]
  },
  {
   "cell_type": "code",
   "execution_count": 14,
   "metadata": {},
   "outputs": [],
   "source": [
    "deg_df.sort_values(by='degree_type', ascending=False, inplace=True) # PhD > Master > Bachelor\n",
    "deg_df = deg_df.drop_duplicates(subset='person_uuid', keep=\"first\") # only consider the highest degree obtained"
   ]
  },
  {
   "cell_type": "code",
   "execution_count": 15,
   "metadata": {},
   "outputs": [],
   "source": [
    "degree_date = ['started_on', 'completed_on']\n",
    "has_degree = np.where(deg_df['degree_type'] != 0, 1, 0)\n",
    "\n",
    "# ignore for now\n",
    "# for col in degree_date:\n",
    "#     deg_df[col] = pd.to_datetime(deg_df[col], errors='coerce', format='%Y-%m-%d') # 'coerce' converts NaN to NaT\n",
    "#     mean = deg_df[col].mean()\n",
    "#     deg_df.loc[has_degree,col].fillna(value=mean, inplace=True)"
   ]
  },
  {
   "cell_type": "code",
   "execution_count": 16,
   "metadata": {},
   "outputs": [],
   "source": [
    "deg_df['is_completed'].fillna(value=0, inplace=True)\n",
    "deg_df['is_completed'] = deg_df['is_completed']*1"
   ]
  },
  {
   "cell_type": "code",
   "execution_count": 17,
   "metadata": {},
   "outputs": [],
   "source": [
    "deg_df.reset_index(inplace=True)\n",
    "deg_df.drop(axis=1, labels='index', inplace=True)"
   ]
  },
  {
   "cell_type": "code",
   "execution_count": 18,
   "metadata": {},
   "outputs": [],
   "source": [
    "# deg_df.info()"
   ]
  },
  {
   "cell_type": "code",
   "execution_count": 19,
   "metadata": {},
   "outputs": [],
   "source": [
    "# join people and degrees\n",
    "ppl_join = ppl_df.set_index('uuid').join(deg_df.set_index('person_uuid'))"
   ]
  },
  {
   "cell_type": "code",
   "execution_count": 20,
   "metadata": {},
   "outputs": [
    {
     "output_type": "execute_result",
     "data": {
      "text/plain": [
       "                                                     name  \\\n",
       "uuid                                                        \n",
       "ed13cd36-fe2b-3707-197b-0c2d56e37a71          Ben Elowitz   \n",
       "5ceca97b-493c-1446-6249-5aaa33464763       Kevin Flaherty   \n",
       "9f99a98a-aa97-b30b-0d36-db67c1d277e0         Raju Vegesna   \n",
       "6e1bca72-a865-b518-b305-31214ce2d1b0            Ian Wenig   \n",
       "80d25c23-9726-9dda-5852-39cdf4810ea5       Ron Gorodetzky   \n",
       "...                                                   ...   \n",
       "eb8f2efa-f7b5-437d-aa6f-6a25bb202a96     Lindsay Giguiere   \n",
       "2024e50f-f0f7-4ad5-900e-ff31ce54095b        Alexey Petrov   \n",
       "ce80648a-2284-4abf-a08b-7f29e2787c12         Torsten Born   \n",
       "331d0cb3-cfc2-44a1-a8dc-d7e98c5e64cb         Nils Machner   \n",
       "b76bbcb7-30c5-4a5c-860d-368b094e2a11  Sebastian Netuschil   \n",
       "\n",
       "                                            featured_job_organization_uuid  \\\n",
       "uuid                                                                         \n",
       "ed13cd36-fe2b-3707-197b-0c2d56e37a71  cf253887-5eac-21a2-28d3-47db7311f7e9   \n",
       "5ceca97b-493c-1446-6249-5aaa33464763  789e5e4d-0c90-d06e-92a0-b800b461c3da   \n",
       "9f99a98a-aa97-b30b-0d36-db67c1d277e0  bf4d7b0e-b34d-2fd8-d292-6049c4f7efc7   \n",
       "6e1bca72-a865-b518-b305-31214ce2d1b0  bf4d7b0e-b34d-2fd8-d292-6049c4f7efc7   \n",
       "80d25c23-9726-9dda-5852-39cdf4810ea5  aa3bf156-06af-5b6e-215d-9e7211fc173b   \n",
       "...                                                                    ...   \n",
       "eb8f2efa-f7b5-437d-aa6f-6a25bb202a96  a537f4bc-73d2-4b61-804d-e1da3926c07d   \n",
       "2024e50f-f0f7-4ad5-900e-ff31ce54095b  c88592e1-1a02-4ab2-90ae-4938cd839f11   \n",
       "ce80648a-2284-4abf-a08b-7f29e2787c12  835af703-7c5c-4c93-8e55-cd6fb4b614cf   \n",
       "331d0cb3-cfc2-44a1-a8dc-d7e98c5e64cb  835af703-7c5c-4c93-8e55-cd6fb4b614cf   \n",
       "b76bbcb7-30c5-4a5c-860d-368b094e2a11  835af703-7c5c-4c93-8e55-cd6fb4b614cf   \n",
       "\n",
       "                                      gender_male  gender_female  degree_type  \\\n",
       "uuid                                                                            \n",
       "ed13cd36-fe2b-3707-197b-0c2d56e37a71            1              0          1.0   \n",
       "5ceca97b-493c-1446-6249-5aaa33464763            1              0          NaN   \n",
       "9f99a98a-aa97-b30b-0d36-db67c1d277e0            1              0          NaN   \n",
       "6e1bca72-a865-b518-b305-31214ce2d1b0            1              0          1.0   \n",
       "80d25c23-9726-9dda-5852-39cdf4810ea5            1              0          NaN   \n",
       "...                                           ...            ...          ...   \n",
       "eb8f2efa-f7b5-437d-aa6f-6a25bb202a96            0              1          NaN   \n",
       "2024e50f-f0f7-4ad5-900e-ff31ce54095b            1              0          NaN   \n",
       "ce80648a-2284-4abf-a08b-7f29e2787c12            1              0          2.0   \n",
       "331d0cb3-cfc2-44a1-a8dc-d7e98c5e64cb            1              0          NaN   \n",
       "b76bbcb7-30c5-4a5c-860d-368b094e2a11            1              0          NaN   \n",
       "\n",
       "                                     started_on completed_on  is_completed  \\\n",
       "uuid                                                                         \n",
       "ed13cd36-fe2b-3707-197b-0c2d56e37a71        NaN   1994-01-01           1.0   \n",
       "5ceca97b-493c-1446-6249-5aaa33464763        NaN          NaN           NaN   \n",
       "9f99a98a-aa97-b30b-0d36-db67c1d277e0        NaN          NaN           NaN   \n",
       "6e1bca72-a865-b518-b305-31214ce2d1b0        NaN   1986-01-01           1.0   \n",
       "80d25c23-9726-9dda-5852-39cdf4810ea5        NaN          NaN           NaN   \n",
       "...                                         ...          ...           ...   \n",
       "eb8f2efa-f7b5-437d-aa6f-6a25bb202a96        NaN          NaN           NaN   \n",
       "2024e50f-f0f7-4ad5-900e-ff31ce54095b        NaN          NaN           NaN   \n",
       "ce80648a-2284-4abf-a08b-7f29e2787c12        NaN          NaN           0.0   \n",
       "331d0cb3-cfc2-44a1-a8dc-d7e98c5e64cb        NaN          NaN           NaN   \n",
       "b76bbcb7-30c5-4a5c-860d-368b094e2a11        NaN          NaN           NaN   \n",
       "\n",
       "                                      subject_Computer Science  \\\n",
       "uuid                                                             \n",
       "ed13cd36-fe2b-3707-197b-0c2d56e37a71                       0.0   \n",
       "5ceca97b-493c-1446-6249-5aaa33464763                       NaN   \n",
       "9f99a98a-aa97-b30b-0d36-db67c1d277e0                       NaN   \n",
       "6e1bca72-a865-b518-b305-31214ce2d1b0                       0.0   \n",
       "80d25c23-9726-9dda-5852-39cdf4810ea5                       NaN   \n",
       "...                                                        ...   \n",
       "eb8f2efa-f7b5-437d-aa6f-6a25bb202a96                       NaN   \n",
       "2024e50f-f0f7-4ad5-900e-ff31ce54095b                       NaN   \n",
       "ce80648a-2284-4abf-a08b-7f29e2787c12                       0.0   \n",
       "331d0cb3-cfc2-44a1-a8dc-d7e98c5e64cb                       NaN   \n",
       "b76bbcb7-30c5-4a5c-860d-368b094e2a11                       NaN   \n",
       "\n",
       "                                      subject_Economics  ...  subject_Biology  \\\n",
       "uuid                                                     ...                    \n",
       "ed13cd36-fe2b-3707-197b-0c2d56e37a71                0.0  ...              0.0   \n",
       "5ceca97b-493c-1446-6249-5aaa33464763                NaN  ...              NaN   \n",
       "9f99a98a-aa97-b30b-0d36-db67c1d277e0                NaN  ...              NaN   \n",
       "6e1bca72-a865-b518-b305-31214ce2d1b0                0.0  ...              0.0   \n",
       "80d25c23-9726-9dda-5852-39cdf4810ea5                NaN  ...              NaN   \n",
       "...                                                 ...  ...              ...   \n",
       "eb8f2efa-f7b5-437d-aa6f-6a25bb202a96                NaN  ...              NaN   \n",
       "2024e50f-f0f7-4ad5-900e-ff31ce54095b                NaN  ...              NaN   \n",
       "ce80648a-2284-4abf-a08b-7f29e2787c12                0.0  ...              0.0   \n",
       "331d0cb3-cfc2-44a1-a8dc-d7e98c5e64cb                NaN  ...              NaN   \n",
       "b76bbcb7-30c5-4a5c-860d-368b094e2a11                NaN  ...              NaN   \n",
       "\n",
       "                                      subject_International Business  \\\n",
       "uuid                                                                   \n",
       "ed13cd36-fe2b-3707-197b-0c2d56e37a71                             0.0   \n",
       "5ceca97b-493c-1446-6249-5aaa33464763                             NaN   \n",
       "9f99a98a-aa97-b30b-0d36-db67c1d277e0                             NaN   \n",
       "6e1bca72-a865-b518-b305-31214ce2d1b0                             0.0   \n",
       "80d25c23-9726-9dda-5852-39cdf4810ea5                             NaN   \n",
       "...                                                              ...   \n",
       "eb8f2efa-f7b5-437d-aa6f-6a25bb202a96                             NaN   \n",
       "2024e50f-f0f7-4ad5-900e-ff31ce54095b                             NaN   \n",
       "ce80648a-2284-4abf-a08b-7f29e2787c12                             0.0   \n",
       "331d0cb3-cfc2-44a1-a8dc-d7e98c5e64cb                             NaN   \n",
       "b76bbcb7-30c5-4a5c-860d-368b094e2a11                             NaN   \n",
       "\n",
       "                                      subject_Information Technology  \\\n",
       "uuid                                                                   \n",
       "ed13cd36-fe2b-3707-197b-0c2d56e37a71                             0.0   \n",
       "5ceca97b-493c-1446-6249-5aaa33464763                             NaN   \n",
       "9f99a98a-aa97-b30b-0d36-db67c1d277e0                             NaN   \n",
       "6e1bca72-a865-b518-b305-31214ce2d1b0                             0.0   \n",
       "80d25c23-9726-9dda-5852-39cdf4810ea5                             NaN   \n",
       "...                                                              ...   \n",
       "eb8f2efa-f7b5-437d-aa6f-6a25bb202a96                             NaN   \n",
       "2024e50f-f0f7-4ad5-900e-ff31ce54095b                             NaN   \n",
       "ce80648a-2284-4abf-a08b-7f29e2787c12                             0.0   \n",
       "331d0cb3-cfc2-44a1-a8dc-d7e98c5e64cb                             NaN   \n",
       "b76bbcb7-30c5-4a5c-860d-368b094e2a11                             NaN   \n",
       "\n",
       "                                      subject_Business Management  \\\n",
       "uuid                                                                \n",
       "ed13cd36-fe2b-3707-197b-0c2d56e37a71                          0.0   \n",
       "5ceca97b-493c-1446-6249-5aaa33464763                          NaN   \n",
       "9f99a98a-aa97-b30b-0d36-db67c1d277e0                          NaN   \n",
       "6e1bca72-a865-b518-b305-31214ce2d1b0                          0.0   \n",
       "80d25c23-9726-9dda-5852-39cdf4810ea5                          NaN   \n",
       "...                                                           ...   \n",
       "eb8f2efa-f7b5-437d-aa6f-6a25bb202a96                          NaN   \n",
       "2024e50f-f0f7-4ad5-900e-ff31ce54095b                          NaN   \n",
       "ce80648a-2284-4abf-a08b-7f29e2787c12                          0.0   \n",
       "331d0cb3-cfc2-44a1-a8dc-d7e98c5e64cb                          NaN   \n",
       "b76bbcb7-30c5-4a5c-860d-368b094e2a11                          NaN   \n",
       "\n",
       "                                      subject_English  \\\n",
       "uuid                                                    \n",
       "ed13cd36-fe2b-3707-197b-0c2d56e37a71              0.0   \n",
       "5ceca97b-493c-1446-6249-5aaa33464763              NaN   \n",
       "9f99a98a-aa97-b30b-0d36-db67c1d277e0              NaN   \n",
       "6e1bca72-a865-b518-b305-31214ce2d1b0              0.0   \n",
       "80d25c23-9726-9dda-5852-39cdf4810ea5              NaN   \n",
       "...                                               ...   \n",
       "eb8f2efa-f7b5-437d-aa6f-6a25bb202a96              NaN   \n",
       "2024e50f-f0f7-4ad5-900e-ff31ce54095b              NaN   \n",
       "ce80648a-2284-4abf-a08b-7f29e2787c12              0.0   \n",
       "331d0cb3-cfc2-44a1-a8dc-d7e98c5e64cb              NaN   \n",
       "b76bbcb7-30c5-4a5c-860d-368b094e2a11              NaN   \n",
       "\n",
       "                                      subject_Industrial Engineering  \\\n",
       "uuid                                                                   \n",
       "ed13cd36-fe2b-3707-197b-0c2d56e37a71                             0.0   \n",
       "5ceca97b-493c-1446-6249-5aaa33464763                             NaN   \n",
       "9f99a98a-aa97-b30b-0d36-db67c1d277e0                             NaN   \n",
       "6e1bca72-a865-b518-b305-31214ce2d1b0                             0.0   \n",
       "80d25c23-9726-9dda-5852-39cdf4810ea5                             NaN   \n",
       "...                                                              ...   \n",
       "eb8f2efa-f7b5-437d-aa6f-6a25bb202a96                             NaN   \n",
       "2024e50f-f0f7-4ad5-900e-ff31ce54095b                             NaN   \n",
       "ce80648a-2284-4abf-a08b-7f29e2787c12                             0.0   \n",
       "331d0cb3-cfc2-44a1-a8dc-d7e98c5e64cb                             NaN   \n",
       "b76bbcb7-30c5-4a5c-860d-368b094e2a11                             NaN   \n",
       "\n",
       "                                      subject_Civil Engineering  \\\n",
       "uuid                                                              \n",
       "ed13cd36-fe2b-3707-197b-0c2d56e37a71                        0.0   \n",
       "5ceca97b-493c-1446-6249-5aaa33464763                        NaN   \n",
       "9f99a98a-aa97-b30b-0d36-db67c1d277e0                        NaN   \n",
       "6e1bca72-a865-b518-b305-31214ce2d1b0                        0.0   \n",
       "80d25c23-9726-9dda-5852-39cdf4810ea5                        NaN   \n",
       "...                                                         ...   \n",
       "eb8f2efa-f7b5-437d-aa6f-6a25bb202a96                        NaN   \n",
       "2024e50f-f0f7-4ad5-900e-ff31ce54095b                        NaN   \n",
       "ce80648a-2284-4abf-a08b-7f29e2787c12                        0.0   \n",
       "331d0cb3-cfc2-44a1-a8dc-d7e98c5e64cb                        NaN   \n",
       "b76bbcb7-30c5-4a5c-860d-368b094e2a11                        NaN   \n",
       "\n",
       "                                      subject_Biochemistry  subject_Medicine  \\\n",
       "uuid                                                                           \n",
       "ed13cd36-fe2b-3707-197b-0c2d56e37a71                   0.0               0.0   \n",
       "5ceca97b-493c-1446-6249-5aaa33464763                   NaN               NaN   \n",
       "9f99a98a-aa97-b30b-0d36-db67c1d277e0                   NaN               NaN   \n",
       "6e1bca72-a865-b518-b305-31214ce2d1b0                   0.0               0.0   \n",
       "80d25c23-9726-9dda-5852-39cdf4810ea5                   NaN               NaN   \n",
       "...                                                    ...               ...   \n",
       "eb8f2efa-f7b5-437d-aa6f-6a25bb202a96                   NaN               NaN   \n",
       "2024e50f-f0f7-4ad5-900e-ff31ce54095b                   NaN               NaN   \n",
       "ce80648a-2284-4abf-a08b-7f29e2787c12                   0.0               0.0   \n",
       "331d0cb3-cfc2-44a1-a8dc-d7e98c5e64cb                   NaN               NaN   \n",
       "b76bbcb7-30c5-4a5c-860d-368b094e2a11                   NaN               NaN   \n",
       "\n",
       "                                      subject_Philosophy  \n",
       "uuid                                                      \n",
       "ed13cd36-fe2b-3707-197b-0c2d56e37a71                 0.0  \n",
       "5ceca97b-493c-1446-6249-5aaa33464763                 NaN  \n",
       "9f99a98a-aa97-b30b-0d36-db67c1d277e0                 NaN  \n",
       "6e1bca72-a865-b518-b305-31214ce2d1b0                 0.0  \n",
       "80d25c23-9726-9dda-5852-39cdf4810ea5                 NaN  \n",
       "...                                                  ...  \n",
       "eb8f2efa-f7b5-437d-aa6f-6a25bb202a96                 NaN  \n",
       "2024e50f-f0f7-4ad5-900e-ff31ce54095b                 NaN  \n",
       "ce80648a-2284-4abf-a08b-7f29e2787c12                 0.0  \n",
       "331d0cb3-cfc2-44a1-a8dc-d7e98c5e64cb                 NaN  \n",
       "b76bbcb7-30c5-4a5c-860d-368b094e2a11                 NaN  \n",
       "\n",
       "[676013 rows x 38 columns]"
      ],
      "text/html": "<div>\n<style scoped>\n    .dataframe tbody tr th:only-of-type {\n        vertical-align: middle;\n    }\n\n    .dataframe tbody tr th {\n        vertical-align: top;\n    }\n\n    .dataframe thead th {\n        text-align: right;\n    }\n</style>\n<table border=\"1\" class=\"dataframe\">\n  <thead>\n    <tr style=\"text-align: right;\">\n      <th></th>\n      <th>name</th>\n      <th>featured_job_organization_uuid</th>\n      <th>gender_male</th>\n      <th>gender_female</th>\n      <th>degree_type</th>\n      <th>started_on</th>\n      <th>completed_on</th>\n      <th>is_completed</th>\n      <th>subject_Computer Science</th>\n      <th>subject_Economics</th>\n      <th>...</th>\n      <th>subject_Biology</th>\n      <th>subject_International Business</th>\n      <th>subject_Information Technology</th>\n      <th>subject_Business Management</th>\n      <th>subject_English</th>\n      <th>subject_Industrial Engineering</th>\n      <th>subject_Civil Engineering</th>\n      <th>subject_Biochemistry</th>\n      <th>subject_Medicine</th>\n      <th>subject_Philosophy</th>\n    </tr>\n    <tr>\n      <th>uuid</th>\n      <th></th>\n      <th></th>\n      <th></th>\n      <th></th>\n      <th></th>\n      <th></th>\n      <th></th>\n      <th></th>\n      <th></th>\n      <th></th>\n      <th></th>\n      <th></th>\n      <th></th>\n      <th></th>\n      <th></th>\n      <th></th>\n      <th></th>\n      <th></th>\n      <th></th>\n      <th></th>\n      <th></th>\n    </tr>\n  </thead>\n  <tbody>\n    <tr>\n      <th>ed13cd36-fe2b-3707-197b-0c2d56e37a71</th>\n      <td>Ben Elowitz</td>\n      <td>cf253887-5eac-21a2-28d3-47db7311f7e9</td>\n      <td>1</td>\n      <td>0</td>\n      <td>1.0</td>\n      <td>NaN</td>\n      <td>1994-01-01</td>\n      <td>1.0</td>\n      <td>0.0</td>\n      <td>0.0</td>\n      <td>...</td>\n      <td>0.0</td>\n      <td>0.0</td>\n      <td>0.0</td>\n      <td>0.0</td>\n      <td>0.0</td>\n      <td>0.0</td>\n      <td>0.0</td>\n      <td>0.0</td>\n      <td>0.0</td>\n      <td>0.0</td>\n    </tr>\n    <tr>\n      <th>5ceca97b-493c-1446-6249-5aaa33464763</th>\n      <td>Kevin Flaherty</td>\n      <td>789e5e4d-0c90-d06e-92a0-b800b461c3da</td>\n      <td>1</td>\n      <td>0</td>\n      <td>NaN</td>\n      <td>NaN</td>\n      <td>NaN</td>\n      <td>NaN</td>\n      <td>NaN</td>\n      <td>NaN</td>\n      <td>...</td>\n      <td>NaN</td>\n      <td>NaN</td>\n      <td>NaN</td>\n      <td>NaN</td>\n      <td>NaN</td>\n      <td>NaN</td>\n      <td>NaN</td>\n      <td>NaN</td>\n      <td>NaN</td>\n      <td>NaN</td>\n    </tr>\n    <tr>\n      <th>9f99a98a-aa97-b30b-0d36-db67c1d277e0</th>\n      <td>Raju Vegesna</td>\n      <td>bf4d7b0e-b34d-2fd8-d292-6049c4f7efc7</td>\n      <td>1</td>\n      <td>0</td>\n      <td>NaN</td>\n      <td>NaN</td>\n      <td>NaN</td>\n      <td>NaN</td>\n      <td>NaN</td>\n      <td>NaN</td>\n      <td>...</td>\n      <td>NaN</td>\n      <td>NaN</td>\n      <td>NaN</td>\n      <td>NaN</td>\n      <td>NaN</td>\n      <td>NaN</td>\n      <td>NaN</td>\n      <td>NaN</td>\n      <td>NaN</td>\n      <td>NaN</td>\n    </tr>\n    <tr>\n      <th>6e1bca72-a865-b518-b305-31214ce2d1b0</th>\n      <td>Ian Wenig</td>\n      <td>bf4d7b0e-b34d-2fd8-d292-6049c4f7efc7</td>\n      <td>1</td>\n      <td>0</td>\n      <td>1.0</td>\n      <td>NaN</td>\n      <td>1986-01-01</td>\n      <td>1.0</td>\n      <td>0.0</td>\n      <td>0.0</td>\n      <td>...</td>\n      <td>0.0</td>\n      <td>0.0</td>\n      <td>0.0</td>\n      <td>0.0</td>\n      <td>0.0</td>\n      <td>0.0</td>\n      <td>0.0</td>\n      <td>0.0</td>\n      <td>0.0</td>\n      <td>0.0</td>\n    </tr>\n    <tr>\n      <th>80d25c23-9726-9dda-5852-39cdf4810ea5</th>\n      <td>Ron Gorodetzky</td>\n      <td>aa3bf156-06af-5b6e-215d-9e7211fc173b</td>\n      <td>1</td>\n      <td>0</td>\n      <td>NaN</td>\n      <td>NaN</td>\n      <td>NaN</td>\n      <td>NaN</td>\n      <td>NaN</td>\n      <td>NaN</td>\n      <td>...</td>\n      <td>NaN</td>\n      <td>NaN</td>\n      <td>NaN</td>\n      <td>NaN</td>\n      <td>NaN</td>\n      <td>NaN</td>\n      <td>NaN</td>\n      <td>NaN</td>\n      <td>NaN</td>\n      <td>NaN</td>\n    </tr>\n    <tr>\n      <th>...</th>\n      <td>...</td>\n      <td>...</td>\n      <td>...</td>\n      <td>...</td>\n      <td>...</td>\n      <td>...</td>\n      <td>...</td>\n      <td>...</td>\n      <td>...</td>\n      <td>...</td>\n      <td>...</td>\n      <td>...</td>\n      <td>...</td>\n      <td>...</td>\n      <td>...</td>\n      <td>...</td>\n      <td>...</td>\n      <td>...</td>\n      <td>...</td>\n      <td>...</td>\n      <td>...</td>\n    </tr>\n    <tr>\n      <th>eb8f2efa-f7b5-437d-aa6f-6a25bb202a96</th>\n      <td>Lindsay Giguiere</td>\n      <td>a537f4bc-73d2-4b61-804d-e1da3926c07d</td>\n      <td>0</td>\n      <td>1</td>\n      <td>NaN</td>\n      <td>NaN</td>\n      <td>NaN</td>\n      <td>NaN</td>\n      <td>NaN</td>\n      <td>NaN</td>\n      <td>...</td>\n      <td>NaN</td>\n      <td>NaN</td>\n      <td>NaN</td>\n      <td>NaN</td>\n      <td>NaN</td>\n      <td>NaN</td>\n      <td>NaN</td>\n      <td>NaN</td>\n      <td>NaN</td>\n      <td>NaN</td>\n    </tr>\n    <tr>\n      <th>2024e50f-f0f7-4ad5-900e-ff31ce54095b</th>\n      <td>Alexey Petrov</td>\n      <td>c88592e1-1a02-4ab2-90ae-4938cd839f11</td>\n      <td>1</td>\n      <td>0</td>\n      <td>NaN</td>\n      <td>NaN</td>\n      <td>NaN</td>\n      <td>NaN</td>\n      <td>NaN</td>\n      <td>NaN</td>\n      <td>...</td>\n      <td>NaN</td>\n      <td>NaN</td>\n      <td>NaN</td>\n      <td>NaN</td>\n      <td>NaN</td>\n      <td>NaN</td>\n      <td>NaN</td>\n      <td>NaN</td>\n      <td>NaN</td>\n      <td>NaN</td>\n    </tr>\n    <tr>\n      <th>ce80648a-2284-4abf-a08b-7f29e2787c12</th>\n      <td>Torsten Born</td>\n      <td>835af703-7c5c-4c93-8e55-cd6fb4b614cf</td>\n      <td>1</td>\n      <td>0</td>\n      <td>2.0</td>\n      <td>NaN</td>\n      <td>NaN</td>\n      <td>0.0</td>\n      <td>0.0</td>\n      <td>0.0</td>\n      <td>...</td>\n      <td>0.0</td>\n      <td>0.0</td>\n      <td>0.0</td>\n      <td>0.0</td>\n      <td>0.0</td>\n      <td>0.0</td>\n      <td>0.0</td>\n      <td>0.0</td>\n      <td>0.0</td>\n      <td>0.0</td>\n    </tr>\n    <tr>\n      <th>331d0cb3-cfc2-44a1-a8dc-d7e98c5e64cb</th>\n      <td>Nils Machner</td>\n      <td>835af703-7c5c-4c93-8e55-cd6fb4b614cf</td>\n      <td>1</td>\n      <td>0</td>\n      <td>NaN</td>\n      <td>NaN</td>\n      <td>NaN</td>\n      <td>NaN</td>\n      <td>NaN</td>\n      <td>NaN</td>\n      <td>...</td>\n      <td>NaN</td>\n      <td>NaN</td>\n      <td>NaN</td>\n      <td>NaN</td>\n      <td>NaN</td>\n      <td>NaN</td>\n      <td>NaN</td>\n      <td>NaN</td>\n      <td>NaN</td>\n      <td>NaN</td>\n    </tr>\n    <tr>\n      <th>b76bbcb7-30c5-4a5c-860d-368b094e2a11</th>\n      <td>Sebastian Netuschil</td>\n      <td>835af703-7c5c-4c93-8e55-cd6fb4b614cf</td>\n      <td>1</td>\n      <td>0</td>\n      <td>NaN</td>\n      <td>NaN</td>\n      <td>NaN</td>\n      <td>NaN</td>\n      <td>NaN</td>\n      <td>NaN</td>\n      <td>...</td>\n      <td>NaN</td>\n      <td>NaN</td>\n      <td>NaN</td>\n      <td>NaN</td>\n      <td>NaN</td>\n      <td>NaN</td>\n      <td>NaN</td>\n      <td>NaN</td>\n      <td>NaN</td>\n      <td>NaN</td>\n    </tr>\n  </tbody>\n</table>\n<p>676013 rows × 38 columns</p>\n</div>"
     },
     "metadata": {},
     "execution_count": 20
    }
   ],
   "source": [
    "ppl_join"
   ]
  },
  {
   "cell_type": "code",
   "execution_count": 21,
   "metadata": {},
   "outputs": [],
   "source": [
    "# some cols will use 0 as the fillna() value\n",
    "col_nan_to_zero = ['degree_type','is_completed']\n",
    "for col in col_nan_to_zero:\n",
    "    ppl_join[col].fillna(value=0, inplace=True)\n",
    "ppl_join.iloc[9:].fillna(value=0, inplace=True)"
   ]
  },
  {
   "cell_type": "code",
   "execution_count": 22,
   "metadata": {},
   "outputs": [],
   "source": [
    "ppl_join.reset_index(inplace=True)"
   ]
  },
  {
   "cell_type": "code",
   "execution_count": 23,
   "metadata": {},
   "outputs": [
    {
     "output_type": "stream",
     "name": "stdout",
     "text": [
      "<class 'pandas.core.frame.DataFrame'>\nRangeIndex: 1589222 entries, 0 to 1589221\nData columns (total 5 columns):\n #   Column       Non-Null Count    Dtype \n---  ------       --------------    ----- \n 0   person_uuid  1589222 non-null  object\n 1   started_on   786367 non-null   object\n 2   ended_on     293932 non-null   object\n 3   is_current   1589222 non-null  bool  \n 4   job_type     1589222 non-null  object\ndtypes: bool(1), object(4)\nmemory usage: 50.0+ MB\n"
     ]
    }
   ],
   "source": [
    "# read the CSV\n",
    "job_df = pd.read_csv(\"jobs.csv\")\n",
    "# change the cols to keep\n",
    "keep_col = ['person_uuid','started_on','ended_on','is_current','job_type']\n",
    "job_df = job_df[keep_col]\n",
    "job_df.info()"
   ]
  },
  {
   "cell_type": "code",
   "execution_count": 24,
   "metadata": {},
   "outputs": [
    {
     "output_type": "execute_result",
     "data": {
      "text/plain": [
       "                            person_uuid  started_on    ended_on  is_current  \\\n",
       "0  ed13cd36-fe2b-3707-197b-0c2d56e37a71         NaN         NaN       False   \n",
       "1  5ceca97b-493c-1446-6249-5aaa33464763         NaN         NaN       False   \n",
       "2  9f99a98a-aa97-b30b-0d36-db67c1d277e0  2000-11-01         NaN        True   \n",
       "3  6e1bca72-a865-b518-b305-31214ce2d1b0  2006-03-01         NaN        True   \n",
       "4  c92a1f00-8c19-bf2e-0f28-dbbd383dc968  2005-07-01  2010-04-05       False   \n",
       "\n",
       "    job_type  \n",
       "0  executive  \n",
       "1  executive  \n",
       "2   employee  \n",
       "3  executive  \n",
       "4  executive  "
      ],
      "text/html": "<div>\n<style scoped>\n    .dataframe tbody tr th:only-of-type {\n        vertical-align: middle;\n    }\n\n    .dataframe tbody tr th {\n        vertical-align: top;\n    }\n\n    .dataframe thead th {\n        text-align: right;\n    }\n</style>\n<table border=\"1\" class=\"dataframe\">\n  <thead>\n    <tr style=\"text-align: right;\">\n      <th></th>\n      <th>person_uuid</th>\n      <th>started_on</th>\n      <th>ended_on</th>\n      <th>is_current</th>\n      <th>job_type</th>\n    </tr>\n  </thead>\n  <tbody>\n    <tr>\n      <th>0</th>\n      <td>ed13cd36-fe2b-3707-197b-0c2d56e37a71</td>\n      <td>NaN</td>\n      <td>NaN</td>\n      <td>False</td>\n      <td>executive</td>\n    </tr>\n    <tr>\n      <th>1</th>\n      <td>5ceca97b-493c-1446-6249-5aaa33464763</td>\n      <td>NaN</td>\n      <td>NaN</td>\n      <td>False</td>\n      <td>executive</td>\n    </tr>\n    <tr>\n      <th>2</th>\n      <td>9f99a98a-aa97-b30b-0d36-db67c1d277e0</td>\n      <td>2000-11-01</td>\n      <td>NaN</td>\n      <td>True</td>\n      <td>employee</td>\n    </tr>\n    <tr>\n      <th>3</th>\n      <td>6e1bca72-a865-b518-b305-31214ce2d1b0</td>\n      <td>2006-03-01</td>\n      <td>NaN</td>\n      <td>True</td>\n      <td>executive</td>\n    </tr>\n    <tr>\n      <th>4</th>\n      <td>c92a1f00-8c19-bf2e-0f28-dbbd383dc968</td>\n      <td>2005-07-01</td>\n      <td>2010-04-05</td>\n      <td>False</td>\n      <td>executive</td>\n    </tr>\n  </tbody>\n</table>\n</div>"
     },
     "metadata": {},
     "execution_count": 24
    }
   ],
   "source": [
    "job_df.head()"
   ]
  },
  {
   "cell_type": "code",
   "execution_count": 25,
   "metadata": {},
   "outputs": [],
   "source": [
    "job_is_current = job_df['is_current'].array\n",
    "job_df.loc[job_is_current,'ended_on'] = job_df.loc[job_is_current,'ended_on'].fillna('2020-12-30')\n",
    "job_df.drop(columns='is_current', inplace=True)"
   ]
  },
  {
   "cell_type": "code",
   "execution_count": 26,
   "metadata": {},
   "outputs": [],
   "source": [
    "# find the duration of the job\n",
    "job_df['job_duration'] = pd.to_datetime(job_df['ended_on'], errors='coerce', format='%Y-%m-%d') - pd.to_datetime(job_df['started_on'], errors='coerce', format='%Y-%m-%d')\n",
    "# take mean for NaN\n",
    "mean = job_df['job_duration'].mean()\n",
    "job_df['job_duration'].fillna(value=mean, inplace=True)\n",
    "# convert TimeDelta to int\n",
    "job_df['job_duration'] = job_df['job_duration'].apply(lambda x: x.days)"
   ]
  },
  {
   "cell_type": "code",
   "execution_count": 27,
   "metadata": {},
   "outputs": [],
   "source": [
    "job_df.drop(columns=['started_on','ended_on'], inplace=True)"
   ]
  },
  {
   "cell_type": "code",
   "execution_count": 30,
   "metadata": {},
   "outputs": [
    {
     "output_type": "execute_result",
     "data": {
      "text/plain": [
       "                                  person_uuid   job_type  job_duration\n",
       "0        ed13cd36-fe2b-3707-197b-0c2d56e37a71  executive          2188\n",
       "1        5ceca97b-493c-1446-6249-5aaa33464763  executive          2188\n",
       "2        9f99a98a-aa97-b30b-0d36-db67c1d277e0   employee          7364\n",
       "3        6e1bca72-a865-b518-b305-31214ce2d1b0  executive          5418\n",
       "4        c92a1f00-8c19-bf2e-0f28-dbbd383dc968  executive          1739\n",
       "...                                       ...        ...           ...\n",
       "1589217  6016e44a-7a64-857c-acef-706e1c75ae2a  executive          1459\n",
       "1589218  73f149b0-0786-498e-a61b-9b5d30c9a3ec  executive            90\n",
       "1589219  5637f3b7-58b7-4a91-af0f-21908908c7a8    advisor           333\n",
       "1589220  77479576-a11f-4957-bc03-b58e9c8afbba  executive          2188\n",
       "1589221  77479576-a11f-4957-bc03-b58e9c8afbba  executive          2188\n",
       "\n",
       "[1589222 rows x 3 columns]"
      ],
      "text/html": "<div>\n<style scoped>\n    .dataframe tbody tr th:only-of-type {\n        vertical-align: middle;\n    }\n\n    .dataframe tbody tr th {\n        vertical-align: top;\n    }\n\n    .dataframe thead th {\n        text-align: right;\n    }\n</style>\n<table border=\"1\" class=\"dataframe\">\n  <thead>\n    <tr style=\"text-align: right;\">\n      <th></th>\n      <th>person_uuid</th>\n      <th>job_type</th>\n      <th>job_duration</th>\n    </tr>\n  </thead>\n  <tbody>\n    <tr>\n      <th>0</th>\n      <td>ed13cd36-fe2b-3707-197b-0c2d56e37a71</td>\n      <td>executive</td>\n      <td>2188</td>\n    </tr>\n    <tr>\n      <th>1</th>\n      <td>5ceca97b-493c-1446-6249-5aaa33464763</td>\n      <td>executive</td>\n      <td>2188</td>\n    </tr>\n    <tr>\n      <th>2</th>\n      <td>9f99a98a-aa97-b30b-0d36-db67c1d277e0</td>\n      <td>employee</td>\n      <td>7364</td>\n    </tr>\n    <tr>\n      <th>3</th>\n      <td>6e1bca72-a865-b518-b305-31214ce2d1b0</td>\n      <td>executive</td>\n      <td>5418</td>\n    </tr>\n    <tr>\n      <th>4</th>\n      <td>c92a1f00-8c19-bf2e-0f28-dbbd383dc968</td>\n      <td>executive</td>\n      <td>1739</td>\n    </tr>\n    <tr>\n      <th>...</th>\n      <td>...</td>\n      <td>...</td>\n      <td>...</td>\n    </tr>\n    <tr>\n      <th>1589217</th>\n      <td>6016e44a-7a64-857c-acef-706e1c75ae2a</td>\n      <td>executive</td>\n      <td>1459</td>\n    </tr>\n    <tr>\n      <th>1589218</th>\n      <td>73f149b0-0786-498e-a61b-9b5d30c9a3ec</td>\n      <td>executive</td>\n      <td>90</td>\n    </tr>\n    <tr>\n      <th>1589219</th>\n      <td>5637f3b7-58b7-4a91-af0f-21908908c7a8</td>\n      <td>advisor</td>\n      <td>333</td>\n    </tr>\n    <tr>\n      <th>1589220</th>\n      <td>77479576-a11f-4957-bc03-b58e9c8afbba</td>\n      <td>executive</td>\n      <td>2188</td>\n    </tr>\n    <tr>\n      <th>1589221</th>\n      <td>77479576-a11f-4957-bc03-b58e9c8afbba</td>\n      <td>executive</td>\n      <td>2188</td>\n    </tr>\n  </tbody>\n</table>\n<p>1589222 rows × 3 columns</p>\n</div>"
     },
     "metadata": {},
     "execution_count": 30
    }
   ],
   "source": [
    "job_df"
   ]
  },
  {
   "cell_type": "code",
   "execution_count": 29,
   "metadata": {},
   "outputs": [],
   "source": [
    "# df.to_csv(\"degrees_cleaned.csv\", index=False)"
   ]
  }
 ]
}