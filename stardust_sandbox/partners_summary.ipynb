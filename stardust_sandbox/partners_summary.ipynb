{
 "metadata": {
  "language_info": {
   "codemirror_mode": {
    "name": "ipython",
    "version": 3
   },
   "file_extension": ".py",
   "mimetype": "text/x-python",
   "name": "python",
   "nbconvert_exporter": "python",
   "pygments_lexer": "ipython3",
   "version": "3.8.3-final"
  },
  "orig_nbformat": 2,
  "kernelspec": {
   "name": "python3",
   "display_name": "Python 3",
   "language": "python"
  }
 },
 "nbformat": 4,
 "nbformat_minor": 2,
 "cells": [
  {
   "cell_type": "code",
   "execution_count": 1,
   "metadata": {},
   "outputs": [],
   "source": [
    "# see .../sample_code/agg_multiple_investors/ for sample code\n",
    "# import library\n",
    "import pandas as pd\n",
    "import numpy as np"
   ]
  },
  {
   "cell_type": "code",
   "execution_count": 2,
   "metadata": {},
   "outputs": [],
   "source": [
    "# read the CSV\n",
    "df = pd.read_csv(\"../bulk_export_processed/investment_partners_processed.csv\")\n",
    "# change the cols to keep\n",
    "keep_col = ['funding_round_uuid','investor_uuid','partner_uuid']\n",
    "df = df[keep_col]"
   ]
  },
  {
   "cell_type": "code",
   "execution_count": 3,
   "metadata": {},
   "outputs": [],
   "source": [
    "# funding_rounds = df['funding_round_uuid'].unique()"
   ]
  },
  {
   "cell_type": "code",
   "execution_count": 4,
   "metadata": {},
   "outputs": [],
   "source": [
    "df = df.merge(df.groupby('funding_round_uuid').agg(investor_list=('partner_uuid',list)).reset_index())"
   ]
  },
  {
   "cell_type": "code",
   "execution_count": 5,
   "metadata": {},
   "outputs": [],
   "source": [
    "for index, row in df.iterrows():\n",
    "    row[df.columns.get_loc('investor_list')] = np.insert(row[df.columns.get_loc('investor_list')], 0, row[df.columns.get_loc('investor_uuid')], axis=0)"
   ]
  },
  {
   "cell_type": "code",
   "execution_count": 6,
   "metadata": {},
   "outputs": [],
   "source": [
    "df.drop(labels=['investor_uuid', 'partner_uuid'], axis=1, inplace=True)"
   ]
  },
  {
   "cell_type": "code",
   "execution_count": 7,
   "metadata": {},
   "outputs": [],
   "source": [
    "df.drop_duplicates(subset='funding_round_uuid', inplace=True)"
   ]
  },
  {
   "cell_type": "code",
   "execution_count": 8,
   "metadata": {},
   "outputs": [],
   "source": [
    "df.reset_index(inplace=True)\n",
    "df.drop(axis=1, labels='index', inplace=True)"
   ]
  },
  {
   "cell_type": "code",
   "execution_count": 9,
   "metadata": {},
   "outputs": [
    {
     "output_type": "execute_result",
     "data": {
      "text/plain": [
       "                     funding_round_uuid  \\\n",
       "0  d950d7a5-79ff-fb93-ca87-13386b0e2feb   \n",
       "1  6fae3958-a001-27c0-fb7e-666266aedd78   \n",
       "2  bcd5a63d-ed99-6963-0dd2-e36f6582f846   \n",
       "3  60e6afd9-1215-465a-dd17-0ed600d4e29b   \n",
       "4  7a65fabf-64bb-51b4-7e8a-bb20a33aa38f   \n",
       "\n",
       "                                       investor_list  \n",
       "0  [b08efc27-da40-505a-6f9d-c9e14247bf36, 2d78d1e...  \n",
       "1  [e2006571-6b7a-e477-002a-f7014f48a7e3, 478e7ef...  \n",
       "2  [7ca12f7a-2f8e-48b4-a8d1-1a33a0e275b9, ea9f498...  \n",
       "3  [fb2f8884-ec07-895a-48d7-d9a9d4d7175c, 3f47be4...  \n",
       "4  [d29973c3-95ec-691d-defd-6a6ba713c72a, ee0b3d6...  "
      ],
      "text/html": "<div>\n<style scoped>\n    .dataframe tbody tr th:only-of-type {\n        vertical-align: middle;\n    }\n\n    .dataframe tbody tr th {\n        vertical-align: top;\n    }\n\n    .dataframe thead th {\n        text-align: right;\n    }\n</style>\n<table border=\"1\" class=\"dataframe\">\n  <thead>\n    <tr style=\"text-align: right;\">\n      <th></th>\n      <th>funding_round_uuid</th>\n      <th>investor_list</th>\n    </tr>\n  </thead>\n  <tbody>\n    <tr>\n      <th>0</th>\n      <td>d950d7a5-79ff-fb93-ca87-13386b0e2feb</td>\n      <td>[b08efc27-da40-505a-6f9d-c9e14247bf36, 2d78d1e...</td>\n    </tr>\n    <tr>\n      <th>1</th>\n      <td>6fae3958-a001-27c0-fb7e-666266aedd78</td>\n      <td>[e2006571-6b7a-e477-002a-f7014f48a7e3, 478e7ef...</td>\n    </tr>\n    <tr>\n      <th>2</th>\n      <td>bcd5a63d-ed99-6963-0dd2-e36f6582f846</td>\n      <td>[7ca12f7a-2f8e-48b4-a8d1-1a33a0e275b9, ea9f498...</td>\n    </tr>\n    <tr>\n      <th>3</th>\n      <td>60e6afd9-1215-465a-dd17-0ed600d4e29b</td>\n      <td>[fb2f8884-ec07-895a-48d7-d9a9d4d7175c, 3f47be4...</td>\n    </tr>\n    <tr>\n      <th>4</th>\n      <td>7a65fabf-64bb-51b4-7e8a-bb20a33aa38f</td>\n      <td>[d29973c3-95ec-691d-defd-6a6ba713c72a, ee0b3d6...</td>\n    </tr>\n  </tbody>\n</table>\n</div>"
     },
     "metadata": {},
     "execution_count": 9
    }
   ],
   "source": [
    "df.head()"
   ]
  },
  {
   "cell_type": "code",
   "execution_count": 10,
   "metadata": {},
   "outputs": [],
   "source": [
    "# df.to_csv(\"top_20_investors.csv\", index=False)"
   ]
  }
 ]
}